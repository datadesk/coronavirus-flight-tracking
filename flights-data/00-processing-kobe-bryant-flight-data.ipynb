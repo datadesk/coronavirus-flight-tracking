{
 "cells": [
  {
   "cell_type": "markdown",
   "metadata": {},
   "source": [
    "# Kobe Bryant helicopter: Flight path data"
   ]
  },
  {
   "cell_type": "markdown",
   "metadata": {},
   "source": [
    "### Load Python tools"
   ]
  },
  {
   "cell_type": "code",
   "execution_count": 9,
   "metadata": {},
   "outputs": [],
   "source": [
    "import pandas as pd\n",
    "import geopandas as gpd\n",
    "import matplotlib\n",
    "import matplotlib.pyplot as plt\n",
    "import geojson\n",
    "import json\n",
    "import jenkspy\n",
    "import numpy as np\n",
    "import glob\n",
    "import io\n",
    "import os\n",
    "from shapely.geometry import Point, LineString\n",
    "from altair import datum\n",
    "import altair as alt\n",
    "alt.renderers.enable('notebook')\n",
    "import altair_latimes as lat\n",
    "alt.themes.register('latimes', lat.theme)\n",
    "alt.themes.enable('latimes')\n",
    "pd.options.display.max_columns = 50\n",
    "pd.options.display.max_rows = 100"
   ]
  },
  {
   "cell_type": "markdown",
   "metadata": {},
   "source": [
    "### Get all the flight data from flightradar24's directory."
   ]
  },
  {
   "cell_type": "code",
   "execution_count": 100,
   "metadata": {},
   "outputs": [],
   "source": [
    " urls = \\\n",
    "    ['https://secure.flightradar24.com/LATHeli/2019_01/',\n",
    "    'https://secure.flightradar24.com/LATHeli/2019_02/',\n",
    "    'https://secure.flightradar24.com/LATHeli/2019_03/',\n",
    "    'https://secure.flightradar24.com/LATHeli/2019_04/',\n",
    "    'https://secure.flightradar24.com/LATHeli/2019_05/',\n",
    "    'https://secure.flightradar24.com/LATHeli/2019_06/',\n",
    "    'https://secure.flightradar24.com/LATHeli/2019_07/',\n",
    "    'https://secure.flightradar24.com/LATHeli/2019_08/',\n",
    "    'https://secure.flightradar24.com/LATHeli/2019_09/',\n",
    "    'https://secure.flightradar24.com/LATHeli/2019_10/',\n",
    "    'https://secure.flightradar24.com/LATHeli/2019_11/',\n",
    "    'https://secure.flightradar24.com/LATHeli/2019_12/']"
   ]
  },
  {
   "cell_type": "markdown",
   "metadata": {},
   "source": [
    "### Set directory"
   ]
  },
  {
   "cell_type": "code",
   "execution_count": null,
   "metadata": {},
   "outputs": [],
   "source": [
    "os.chdir('/Users/mhustiles/data/github/notebooks/kobe-flights-data/input/LATHeli/')"
   ]
  },
  {
   "cell_type": "markdown",
   "metadata": {},
   "source": [
    "### Download flights and paths data from the online directory, by month"
   ]
  },
  {
   "cell_type": "code",
   "execution_count": 106,
   "metadata": {},
   "outputs": [],
   "source": [
    "# !wget --user LATHeli --password hK8pXr2yzI -r -np -nH --cut-dirs=3 \\\n",
    "#     -R index.html https://secure.flightradar24.com/LATHeli/2019_12/"
   ]
  },
  {
   "cell_type": "code",
   "execution_count": 123,
   "metadata": {},
   "outputs": [
    {
     "name": "stdout",
     "output_type": "stream",
     "text": [
      "mkdir: flights: File exists\r\n"
     ]
    }
   ],
   "source": [
    "# !unzip \\*.zip\n",
    "# !rm -f *.zip\n",
    "# !mkdir paths\n",
    "# !mkdir flights"
   ]
  },
  {
   "cell_type": "markdown",
   "metadata": {},
   "source": [
    "### What does a flight path file look like? "
   ]
  },
  {
   "cell_type": "code",
   "execution_count": 111,
   "metadata": {},
   "outputs": [
    {
     "data": {
      "text/html": [
       "<div>\n",
       "<style scoped>\n",
       "    .dataframe tbody tr th:only-of-type {\n",
       "        vertical-align: middle;\n",
       "    }\n",
       "\n",
       "    .dataframe tbody tr th {\n",
       "        vertical-align: top;\n",
       "    }\n",
       "\n",
       "    .dataframe thead th {\n",
       "        text-align: right;\n",
       "    }\n",
       "</style>\n",
       "<table border=\"1\" class=\"dataframe\">\n",
       "  <thead>\n",
       "    <tr style=\"text-align: right;\">\n",
       "      <th></th>\n",
       "      <th>snapshot_id</th>\n",
       "      <th>altitude</th>\n",
       "      <th>heading</th>\n",
       "      <th>latitude</th>\n",
       "      <th>longitude</th>\n",
       "      <th>radar_id</th>\n",
       "      <th>speed</th>\n",
       "      <th>squawk</th>\n",
       "    </tr>\n",
       "  </thead>\n",
       "  <tbody>\n",
       "    <tr>\n",
       "      <td>0</td>\n",
       "      <td>1575158498</td>\n",
       "      <td>0</td>\n",
       "      <td>180</td>\n",
       "      <td>33.88915</td>\n",
       "      <td>-118.23900</td>\n",
       "      <td>3021</td>\n",
       "      <td>0</td>\n",
       "      <td>1206</td>\n",
       "    </tr>\n",
       "    <tr>\n",
       "      <td>1</td>\n",
       "      <td>1575158921</td>\n",
       "      <td>0</td>\n",
       "      <td>77</td>\n",
       "      <td>33.88957</td>\n",
       "      <td>-118.23789</td>\n",
       "      <td>3021</td>\n",
       "      <td>40</td>\n",
       "      <td>1206</td>\n",
       "    </tr>\n",
       "    <tr>\n",
       "      <td>2</td>\n",
       "      <td>1575158928</td>\n",
       "      <td>100</td>\n",
       "      <td>87</td>\n",
       "      <td>33.88966</td>\n",
       "      <td>-118.23646</td>\n",
       "      <td>3021</td>\n",
       "      <td>55</td>\n",
       "      <td>1206</td>\n",
       "    </tr>\n",
       "    <tr>\n",
       "      <td>3</td>\n",
       "      <td>1575158940</td>\n",
       "      <td>300</td>\n",
       "      <td>90</td>\n",
       "      <td>33.88970</td>\n",
       "      <td>-118.23177</td>\n",
       "      <td>3021</td>\n",
       "      <td>72</td>\n",
       "      <td>1206</td>\n",
       "    </tr>\n",
       "    <tr>\n",
       "      <td>4</td>\n",
       "      <td>1575158948</td>\n",
       "      <td>300</td>\n",
       "      <td>82</td>\n",
       "      <td>33.89012</td>\n",
       "      <td>-118.22788</td>\n",
       "      <td>3021</td>\n",
       "      <td>78</td>\n",
       "      <td>1206</td>\n",
       "    </tr>\n",
       "    <tr>\n",
       "      <td>5</td>\n",
       "      <td>1575158955</td>\n",
       "      <td>300</td>\n",
       "      <td>74</td>\n",
       "      <td>33.89086</td>\n",
       "      <td>-118.22450</td>\n",
       "      <td>3021</td>\n",
       "      <td>98</td>\n",
       "      <td>1206</td>\n",
       "    </tr>\n",
       "    <tr>\n",
       "      <td>6</td>\n",
       "      <td>1575158963</td>\n",
       "      <td>300</td>\n",
       "      <td>72</td>\n",
       "      <td>33.89204</td>\n",
       "      <td>-118.21979</td>\n",
       "      <td>3021</td>\n",
       "      <td>105</td>\n",
       "      <td>1206</td>\n",
       "    </tr>\n",
       "    <tr>\n",
       "      <td>7</td>\n",
       "      <td>1575158969</td>\n",
       "      <td>400</td>\n",
       "      <td>73</td>\n",
       "      <td>33.89287</td>\n",
       "      <td>-118.21648</td>\n",
       "      <td>3021</td>\n",
       "      <td>107</td>\n",
       "      <td>1206</td>\n",
       "    </tr>\n",
       "    <tr>\n",
       "      <td>8</td>\n",
       "      <td>1575158978</td>\n",
       "      <td>400</td>\n",
       "      <td>74</td>\n",
       "      <td>33.89417</td>\n",
       "      <td>-118.21083</td>\n",
       "      <td>3021</td>\n",
       "      <td>109</td>\n",
       "      <td>1206</td>\n",
       "    </tr>\n",
       "    <tr>\n",
       "      <td>9</td>\n",
       "      <td>1575158991</td>\n",
       "      <td>400</td>\n",
       "      <td>78</td>\n",
       "      <td>33.89566</td>\n",
       "      <td>-118.20348</td>\n",
       "      <td>3021</td>\n",
       "      <td>111</td>\n",
       "      <td>1206</td>\n",
       "    </tr>\n",
       "  </tbody>\n",
       "</table>\n",
       "</div>"
      ],
      "text/plain": [
       "   snapshot_id  altitude  heading  latitude  longitude  radar_id  speed  \\\n",
       "0   1575158498         0      180  33.88915 -118.23900      3021      0   \n",
       "1   1575158921         0       77  33.88957 -118.23789      3021     40   \n",
       "2   1575158928       100       87  33.88966 -118.23646      3021     55   \n",
       "3   1575158940       300       90  33.88970 -118.23177      3021     72   \n",
       "4   1575158948       300       82  33.89012 -118.22788      3021     78   \n",
       "5   1575158955       300       74  33.89086 -118.22450      3021     98   \n",
       "6   1575158963       300       72  33.89204 -118.21979      3021    105   \n",
       "7   1575158969       400       73  33.89287 -118.21648      3021    107   \n",
       "8   1575158978       400       74  33.89417 -118.21083      3021    109   \n",
       "9   1575158991       400       78  33.89566 -118.20348      3021    111   \n",
       "\n",
       "   squawk  \n",
       "0    1206  \n",
       "1    1206  \n",
       "2    1206  \n",
       "3    1206  \n",
       "4    1206  \n",
       "5    1206  \n",
       "6    1206  \n",
       "7    1206  \n",
       "8    1206  \n",
       "9    1206  "
      ]
     },
     "execution_count": 111,
     "metadata": {},
     "output_type": "execute_result"
    }
   ],
   "source": [
    "a_flight = pd.read_csv('20191201_587675182.csv')\n",
    "a_flight.head(10)"
   ]
  },
  {
   "cell_type": "code",
   "execution_count": 112,
   "metadata": {},
   "outputs": [
    {
     "data": {
      "text/plain": [
       "snapshot_id      int64\n",
       "altitude         int64\n",
       "heading          int64\n",
       "latitude       float64\n",
       "longitude      float64\n",
       "radar_id         int64\n",
       "speed            int64\n",
       "squawk           int64\n",
       "dtype: object"
      ]
     },
     "execution_count": 112,
     "metadata": {},
     "output_type": "execute_result"
    }
   ],
   "source": [
    "a_flight.dtypes"
   ]
  },
  {
   "cell_type": "markdown",
   "metadata": {},
   "source": [
    "### Separate the flights log files from the fight paths files"
   ]
  },
  {
   "cell_type": "code",
   "execution_count": 129,
   "metadata": {},
   "outputs": [],
   "source": [
    "# !mv *flights.csv flights/\n",
    "# !mv *.csv paths/"
   ]
  },
  {
   "cell_type": "markdown",
   "metadata": {},
   "source": [
    "### Concatenate the flight path files"
   ]
  },
  {
   "cell_type": "code",
   "execution_count": 137,
   "metadata": {},
   "outputs": [],
   "source": [
    "# #set path\n",
    "# path = '/paths/'"
   ]
  },
  {
   "cell_type": "code",
   "execution_count": 143,
   "metadata": {},
   "outputs": [],
   "source": [
    "# !cat flights/*flights.csv > all_flights.csv\n",
    "# !cat paths/*.csv > all_paths.csv"
   ]
  },
  {
   "cell_type": "markdown",
   "metadata": {},
   "source": [
    "### Read the csv and create a 'flightid' field so we can track unique flights"
   ]
  },
  {
   "cell_type": "code",
   "execution_count": 144,
   "metadata": {},
   "outputs": [],
   "source": [
    "file_df = (pd.read_csv('all_flights.csv', encoding = \"ISO-8859-1\", low_memory=False)\\\n",
    "           .assign(flightid=os.path.basename(f)) for f in files)"
   ]
  },
  {
   "cell_type": "code",
   "execution_count": 145,
   "metadata": {},
   "outputs": [
    {
     "ename": "ValueError",
     "evalue": "No objects to concatenate",
     "output_type": "error",
     "traceback": [
      "\u001b[0;31m---------------------------------------------------------------------------\u001b[0m",
      "\u001b[0;31mValueError\u001b[0m                                Traceback (most recent call last)",
      "\u001b[0;32m<ipython-input-145-8b54bf09bd48>\u001b[0m in \u001b[0;36m<module>\u001b[0;34m\u001b[0m\n\u001b[0;32m----> 1\u001b[0;31m \u001b[0mconcatenated_df\u001b[0m \u001b[0;34m=\u001b[0m \u001b[0mpd\u001b[0m\u001b[0;34m.\u001b[0m\u001b[0mconcat\u001b[0m\u001b[0;34m(\u001b[0m\u001b[0mfile_df\u001b[0m\u001b[0;34m,\u001b[0m \u001b[0mignore_index\u001b[0m\u001b[0;34m=\u001b[0m\u001b[0;32mTrue\u001b[0m\u001b[0;34m)\u001b[0m\u001b[0;34m\u001b[0m\u001b[0;34m\u001b[0m\u001b[0m\n\u001b[0m",
      "\u001b[0;32m/opt/anaconda3/lib/python3.7/site-packages/pandas/core/reshape/concat.py\u001b[0m in \u001b[0;36mconcat\u001b[0;34m(objs, axis, join, join_axes, ignore_index, keys, levels, names, verify_integrity, sort, copy)\u001b[0m\n\u001b[1;32m    253\u001b[0m         \u001b[0mverify_integrity\u001b[0m\u001b[0;34m=\u001b[0m\u001b[0mverify_integrity\u001b[0m\u001b[0;34m,\u001b[0m\u001b[0;34m\u001b[0m\u001b[0;34m\u001b[0m\u001b[0m\n\u001b[1;32m    254\u001b[0m         \u001b[0mcopy\u001b[0m\u001b[0;34m=\u001b[0m\u001b[0mcopy\u001b[0m\u001b[0;34m,\u001b[0m\u001b[0;34m\u001b[0m\u001b[0;34m\u001b[0m\u001b[0m\n\u001b[0;32m--> 255\u001b[0;31m         \u001b[0msort\u001b[0m\u001b[0;34m=\u001b[0m\u001b[0msort\u001b[0m\u001b[0;34m,\u001b[0m\u001b[0;34m\u001b[0m\u001b[0;34m\u001b[0m\u001b[0m\n\u001b[0m\u001b[1;32m    256\u001b[0m     )\n\u001b[1;32m    257\u001b[0m \u001b[0;34m\u001b[0m\u001b[0m\n",
      "\u001b[0;32m/opt/anaconda3/lib/python3.7/site-packages/pandas/core/reshape/concat.py\u001b[0m in \u001b[0;36m__init__\u001b[0;34m(self, objs, axis, join, join_axes, keys, levels, names, ignore_index, verify_integrity, copy, sort)\u001b[0m\n\u001b[1;32m    302\u001b[0m \u001b[0;34m\u001b[0m\u001b[0m\n\u001b[1;32m    303\u001b[0m         \u001b[0;32mif\u001b[0m \u001b[0mlen\u001b[0m\u001b[0;34m(\u001b[0m\u001b[0mobjs\u001b[0m\u001b[0;34m)\u001b[0m \u001b[0;34m==\u001b[0m \u001b[0;36m0\u001b[0m\u001b[0;34m:\u001b[0m\u001b[0;34m\u001b[0m\u001b[0;34m\u001b[0m\u001b[0m\n\u001b[0;32m--> 304\u001b[0;31m             \u001b[0;32mraise\u001b[0m \u001b[0mValueError\u001b[0m\u001b[0;34m(\u001b[0m\u001b[0;34m\"No objects to concatenate\"\u001b[0m\u001b[0;34m)\u001b[0m\u001b[0;34m\u001b[0m\u001b[0;34m\u001b[0m\u001b[0m\n\u001b[0m\u001b[1;32m    305\u001b[0m \u001b[0;34m\u001b[0m\u001b[0m\n\u001b[1;32m    306\u001b[0m         \u001b[0;32mif\u001b[0m \u001b[0mkeys\u001b[0m \u001b[0;32mis\u001b[0m \u001b[0;32mNone\u001b[0m\u001b[0;34m:\u001b[0m\u001b[0;34m\u001b[0m\u001b[0;34m\u001b[0m\u001b[0m\n",
      "\u001b[0;31mValueError\u001b[0m: No objects to concatenate"
     ]
    }
   ],
   "source": [
    "concatenated_df = pd.concat(file_df, ignore_index=True)"
   ]
  },
  {
   "cell_type": "code",
   "execution_count": 41,
   "metadata": {},
   "outputs": [],
   "source": [
    "concatenated_df['flightid'] = concatenated_df['flightid']\\\n",
    "    .str.replace('DL89_','')\\\n",
    "    .str.replace('.csv','')"
   ]
  },
  {
   "cell_type": "markdown",
   "metadata": {},
   "source": [
    "### How many flight segments do we have? "
   ]
  },
  {
   "cell_type": "code",
   "execution_count": null,
   "metadata": {},
   "outputs": [],
   "source": [
    "len(concatenated_df)"
   ]
  },
  {
   "cell_type": "code",
   "execution_count": 45,
   "metadata": {},
   "outputs": [
    {
     "data": {
      "text/html": [
       "<div>\n",
       "<style scoped>\n",
       "    .dataframe tbody tr th:only-of-type {\n",
       "        vertical-align: middle;\n",
       "    }\n",
       "\n",
       "    .dataframe tbody tr th {\n",
       "        vertical-align: top;\n",
       "    }\n",
       "\n",
       "    .dataframe thead th {\n",
       "        text-align: right;\n",
       "    }\n",
       "</style>\n",
       "<table border=\"1\" class=\"dataframe\">\n",
       "  <thead>\n",
       "    <tr style=\"text-align: right;\">\n",
       "      <th></th>\n",
       "      <th>snapshot_id</th>\n",
       "      <th>altitude</th>\n",
       "      <th>heading</th>\n",
       "      <th>latitude</th>\n",
       "      <th>longitude</th>\n",
       "      <th>radar_id</th>\n",
       "      <th>speed</th>\n",
       "      <th>squawk</th>\n",
       "      <th>flightid</th>\n",
       "    </tr>\n",
       "  </thead>\n",
       "  <tbody>\n",
       "    <tr>\n",
       "      <th>0</th>\n",
       "      <td>1558727880</td>\n",
       "      <td>0</td>\n",
       "      <td>271</td>\n",
       "      <td>33.66540</td>\n",
       "      <td>-117.87410</td>\n",
       "      <td>4062</td>\n",
       "      <td>0</td>\n",
       "      <td>0</td>\n",
       "      <td>20190524_547520609</td>\n",
       "    </tr>\n",
       "    <tr>\n",
       "      <th>1</th>\n",
       "      <td>1558728111</td>\n",
       "      <td>0</td>\n",
       "      <td>230</td>\n",
       "      <td>33.66537</td>\n",
       "      <td>-117.87434</td>\n",
       "      <td>4062</td>\n",
       "      <td>33</td>\n",
       "      <td>4300</td>\n",
       "      <td>20190524_547520609</td>\n",
       "    </tr>\n",
       "    <tr>\n",
       "      <th>2</th>\n",
       "      <td>1558728117</td>\n",
       "      <td>50</td>\n",
       "      <td>178</td>\n",
       "      <td>33.66486</td>\n",
       "      <td>-117.87449</td>\n",
       "      <td>4062</td>\n",
       "      <td>31</td>\n",
       "      <td>4300</td>\n",
       "      <td>20190524_547520609</td>\n",
       "    </tr>\n",
       "    <tr>\n",
       "      <th>3</th>\n",
       "      <td>1558728126</td>\n",
       "      <td>275</td>\n",
       "      <td>187</td>\n",
       "      <td>33.66316</td>\n",
       "      <td>-117.87456</td>\n",
       "      <td>4062</td>\n",
       "      <td>46</td>\n",
       "      <td>4300</td>\n",
       "      <td>20190524_547520609</td>\n",
       "    </tr>\n",
       "    <tr>\n",
       "      <th>4</th>\n",
       "      <td>1558728132</td>\n",
       "      <td>400</td>\n",
       "      <td>264</td>\n",
       "      <td>33.66179</td>\n",
       "      <td>-117.87674</td>\n",
       "      <td>4062</td>\n",
       "      <td>75</td>\n",
       "      <td>4300</td>\n",
       "      <td>20190524_547520609</td>\n",
       "    </tr>\n",
       "  </tbody>\n",
       "</table>\n",
       "</div>"
      ],
      "text/plain": [
       "   snapshot_id  altitude  heading  latitude  longitude  radar_id  speed  \\\n",
       "0   1558727880         0      271  33.66540 -117.87410      4062      0   \n",
       "1   1558728111         0      230  33.66537 -117.87434      4062     33   \n",
       "2   1558728117        50      178  33.66486 -117.87449      4062     31   \n",
       "3   1558728126       275      187  33.66316 -117.87456      4062     46   \n",
       "4   1558728132       400      264  33.66179 -117.87674      4062     75   \n",
       "\n",
       "   squawk            flightid  \n",
       "0       0  20190524_547520609  \n",
       "1    4300  20190524_547520609  \n",
       "2    4300  20190524_547520609  \n",
       "3    4300  20190524_547520609  \n",
       "4    4300  20190524_547520609  "
      ]
     },
     "execution_count": 45,
     "metadata": {},
     "output_type": "execute_result"
    }
   ],
   "source": [
    "concatenated_df.head()"
   ]
  },
  {
   "cell_type": "markdown",
   "metadata": {},
   "source": [
    "### Clean up the dataframe"
   ]
  },
  {
   "cell_type": "code",
   "execution_count": 43,
   "metadata": {},
   "outputs": [],
   "source": [
    "concatenated_df.columns = concatenated_df.columns.str.strip().str.lower().str.replace(' ', '_')\\\n",
    "                    .str.replace('(', '').str.replace(')', '').str.replace('-','_')"
   ]
  },
  {
   "cell_type": "code",
   "execution_count": 46,
   "metadata": {},
   "outputs": [
    {
     "data": {
      "text/html": [
       "<div>\n",
       "<style scoped>\n",
       "    .dataframe tbody tr th:only-of-type {\n",
       "        vertical-align: middle;\n",
       "    }\n",
       "\n",
       "    .dataframe tbody tr th {\n",
       "        vertical-align: top;\n",
       "    }\n",
       "\n",
       "    .dataframe thead th {\n",
       "        text-align: right;\n",
       "    }\n",
       "</style>\n",
       "<table border=\"1\" class=\"dataframe\">\n",
       "  <thead>\n",
       "    <tr style=\"text-align: right;\">\n",
       "      <th></th>\n",
       "      <th>snapshot_id</th>\n",
       "      <th>altitude</th>\n",
       "      <th>heading</th>\n",
       "      <th>latitude</th>\n",
       "      <th>longitude</th>\n",
       "      <th>radar_id</th>\n",
       "      <th>speed</th>\n",
       "      <th>squawk</th>\n",
       "      <th>flightid</th>\n",
       "    </tr>\n",
       "  </thead>\n",
       "  <tbody>\n",
       "    <tr>\n",
       "      <th>68898</th>\n",
       "      <td>1579998831</td>\n",
       "      <td>0</td>\n",
       "      <td>271</td>\n",
       "      <td>33.81313</td>\n",
       "      <td>-118.16036</td>\n",
       "      <td>2958</td>\n",
       "      <td>49</td>\n",
       "      <td>4300</td>\n",
       "      <td>20200126_598114379</td>\n",
       "    </tr>\n",
       "    <tr>\n",
       "      <th>68897</th>\n",
       "      <td>1579998823</td>\n",
       "      <td>50</td>\n",
       "      <td>271</td>\n",
       "      <td>33.81289</td>\n",
       "      <td>-118.15881</td>\n",
       "      <td>2958</td>\n",
       "      <td>49</td>\n",
       "      <td>4300</td>\n",
       "      <td>20200126_598114379</td>\n",
       "    </tr>\n",
       "    <tr>\n",
       "      <th>68896</th>\n",
       "      <td>1579998816</td>\n",
       "      <td>75</td>\n",
       "      <td>272</td>\n",
       "      <td>33.81285</td>\n",
       "      <td>-118.15672</td>\n",
       "      <td>2958</td>\n",
       "      <td>53</td>\n",
       "      <td>4300</td>\n",
       "      <td>20200126_598114379</td>\n",
       "    </tr>\n",
       "    <tr>\n",
       "      <th>68895</th>\n",
       "      <td>1579998807</td>\n",
       "      <td>100</td>\n",
       "      <td>267</td>\n",
       "      <td>33.81285</td>\n",
       "      <td>-118.15401</td>\n",
       "      <td>2958</td>\n",
       "      <td>60</td>\n",
       "      <td>4300</td>\n",
       "      <td>20200126_598114379</td>\n",
       "    </tr>\n",
       "    <tr>\n",
       "      <th>68894</th>\n",
       "      <td>1579998800</td>\n",
       "      <td>125</td>\n",
       "      <td>270</td>\n",
       "      <td>33.81294</td>\n",
       "      <td>-118.15163</td>\n",
       "      <td>2958</td>\n",
       "      <td>62</td>\n",
       "      <td>4300</td>\n",
       "      <td>20200126_598114379</td>\n",
       "    </tr>\n",
       "  </tbody>\n",
       "</table>\n",
       "</div>"
      ],
      "text/plain": [
       "       snapshot_id  altitude  heading  latitude  longitude  radar_id  speed  \\\n",
       "68898   1579998831         0      271  33.81313 -118.16036      2958     49   \n",
       "68897   1579998823        50      271  33.81289 -118.15881      2958     49   \n",
       "68896   1579998816        75      272  33.81285 -118.15672      2958     53   \n",
       "68895   1579998807       100      267  33.81285 -118.15401      2958     60   \n",
       "68894   1579998800       125      270  33.81294 -118.15163      2958     62   \n",
       "\n",
       "       squawk            flightid  \n",
       "68898    4300  20200126_598114379  \n",
       "68897    4300  20200126_598114379  \n",
       "68896    4300  20200126_598114379  \n",
       "68895    4300  20200126_598114379  \n",
       "68894    4300  20200126_598114379  "
      ]
     },
     "execution_count": 46,
     "metadata": {},
     "output_type": "execute_result"
    }
   ],
   "source": [
    "flights = pd.DataFrame(concatenated_df.sort_values(by='snapshot_id', ascending=False))\n",
    "flights.head()"
   ]
  },
  {
   "cell_type": "markdown",
   "metadata": {},
   "source": [
    "### Split location field into lat, lon to create a geodataframe"
   ]
  },
  {
   "cell_type": "code",
   "execution_count": 48,
   "metadata": {},
   "outputs": [],
   "source": [
    "# lat = []\n",
    "# lon = []\n",
    "\n",
    "# for row in flights['position']:\n",
    "#     lat.append(row.split(',')[0])\n",
    "#     lon.append(row.split(',')[1])\n",
    "        \n",
    "# flights['latitude'] = lat\n",
    "# flights['longitude'] = lon"
   ]
  },
  {
   "cell_type": "code",
   "execution_count": 49,
   "metadata": {},
   "outputs": [],
   "source": [
    "flights['latitude'] = flights['latitude'].astype(float)\n",
    "flights['longitude'] = flights['longitude'].astype(float)"
   ]
  },
  {
   "cell_type": "markdown",
   "metadata": {},
   "source": [
    "### Convert the UTC date string into an actual datetime series"
   ]
  },
  {
   "cell_type": "code",
   "execution_count": null,
   "metadata": {},
   "outputs": [],
   "source": [
    "flights['date_time'] = pd.to_datetime(flights['snapshot_id'],unit='s')"
   ]
  },
  {
   "cell_type": "code",
   "execution_count": 52,
   "metadata": {},
   "outputs": [],
   "source": [
    "flights['utc_datetime'] = pd.to_datetime(flights['date_time'], format='%Y-%m-%dT%H:%M:%SZ').dt.tz_localize('UTC')"
   ]
  },
  {
   "cell_type": "markdown",
   "metadata": {},
   "source": [
    "### Localize to Los Angeles time"
   ]
  },
  {
   "cell_type": "code",
   "execution_count": 53,
   "metadata": {},
   "outputs": [],
   "source": [
    "flights['datetime_pst'] = flights['utc_datetime'].dt.tz_convert('America/Los_Angeles')"
   ]
  },
  {
   "cell_type": "code",
   "execution_count": 54,
   "metadata": {},
   "outputs": [
    {
     "data": {
      "text/html": [
       "<div>\n",
       "<style scoped>\n",
       "    .dataframe tbody tr th:only-of-type {\n",
       "        vertical-align: middle;\n",
       "    }\n",
       "\n",
       "    .dataframe tbody tr th {\n",
       "        vertical-align: top;\n",
       "    }\n",
       "\n",
       "    .dataframe thead th {\n",
       "        text-align: right;\n",
       "    }\n",
       "</style>\n",
       "<table border=\"1\" class=\"dataframe\">\n",
       "  <thead>\n",
       "    <tr style=\"text-align: right;\">\n",
       "      <th></th>\n",
       "      <th>snapshot_id</th>\n",
       "      <th>altitude</th>\n",
       "      <th>heading</th>\n",
       "      <th>latitude</th>\n",
       "      <th>longitude</th>\n",
       "      <th>radar_id</th>\n",
       "      <th>speed</th>\n",
       "      <th>squawk</th>\n",
       "      <th>flightid</th>\n",
       "      <th>date_time</th>\n",
       "      <th>utc_datetime</th>\n",
       "      <th>datetime_pst</th>\n",
       "    </tr>\n",
       "  </thead>\n",
       "  <tbody>\n",
       "    <tr>\n",
       "      <th>68898</th>\n",
       "      <td>1579998831</td>\n",
       "      <td>0</td>\n",
       "      <td>271</td>\n",
       "      <td>33.81313</td>\n",
       "      <td>-118.16036</td>\n",
       "      <td>2958</td>\n",
       "      <td>49</td>\n",
       "      <td>4300</td>\n",
       "      <td>20200126_598114379</td>\n",
       "      <td>2020-01-26 00:33:51</td>\n",
       "      <td>2020-01-26 00:33:51+00:00</td>\n",
       "      <td>2020-01-25 16:33:51-08:00</td>\n",
       "    </tr>\n",
       "    <tr>\n",
       "      <th>68897</th>\n",
       "      <td>1579998823</td>\n",
       "      <td>50</td>\n",
       "      <td>271</td>\n",
       "      <td>33.81289</td>\n",
       "      <td>-118.15881</td>\n",
       "      <td>2958</td>\n",
       "      <td>49</td>\n",
       "      <td>4300</td>\n",
       "      <td>20200126_598114379</td>\n",
       "      <td>2020-01-26 00:33:43</td>\n",
       "      <td>2020-01-26 00:33:43+00:00</td>\n",
       "      <td>2020-01-25 16:33:43-08:00</td>\n",
       "    </tr>\n",
       "    <tr>\n",
       "      <th>68896</th>\n",
       "      <td>1579998816</td>\n",
       "      <td>75</td>\n",
       "      <td>272</td>\n",
       "      <td>33.81285</td>\n",
       "      <td>-118.15672</td>\n",
       "      <td>2958</td>\n",
       "      <td>53</td>\n",
       "      <td>4300</td>\n",
       "      <td>20200126_598114379</td>\n",
       "      <td>2020-01-26 00:33:36</td>\n",
       "      <td>2020-01-26 00:33:36+00:00</td>\n",
       "      <td>2020-01-25 16:33:36-08:00</td>\n",
       "    </tr>\n",
       "    <tr>\n",
       "      <th>68895</th>\n",
       "      <td>1579998807</td>\n",
       "      <td>100</td>\n",
       "      <td>267</td>\n",
       "      <td>33.81285</td>\n",
       "      <td>-118.15401</td>\n",
       "      <td>2958</td>\n",
       "      <td>60</td>\n",
       "      <td>4300</td>\n",
       "      <td>20200126_598114379</td>\n",
       "      <td>2020-01-26 00:33:27</td>\n",
       "      <td>2020-01-26 00:33:27+00:00</td>\n",
       "      <td>2020-01-25 16:33:27-08:00</td>\n",
       "    </tr>\n",
       "    <tr>\n",
       "      <th>68894</th>\n",
       "      <td>1579998800</td>\n",
       "      <td>125</td>\n",
       "      <td>270</td>\n",
       "      <td>33.81294</td>\n",
       "      <td>-118.15163</td>\n",
       "      <td>2958</td>\n",
       "      <td>62</td>\n",
       "      <td>4300</td>\n",
       "      <td>20200126_598114379</td>\n",
       "      <td>2020-01-26 00:33:20</td>\n",
       "      <td>2020-01-26 00:33:20+00:00</td>\n",
       "      <td>2020-01-25 16:33:20-08:00</td>\n",
       "    </tr>\n",
       "  </tbody>\n",
       "</table>\n",
       "</div>"
      ],
      "text/plain": [
       "       snapshot_id  altitude  heading  latitude  longitude  radar_id  speed  \\\n",
       "68898   1579998831         0      271  33.81313 -118.16036      2958     49   \n",
       "68897   1579998823        50      271  33.81289 -118.15881      2958     49   \n",
       "68896   1579998816        75      272  33.81285 -118.15672      2958     53   \n",
       "68895   1579998807       100      267  33.81285 -118.15401      2958     60   \n",
       "68894   1579998800       125      270  33.81294 -118.15163      2958     62   \n",
       "\n",
       "       squawk            flightid           date_time  \\\n",
       "68898    4300  20200126_598114379 2020-01-26 00:33:51   \n",
       "68897    4300  20200126_598114379 2020-01-26 00:33:43   \n",
       "68896    4300  20200126_598114379 2020-01-26 00:33:36   \n",
       "68895    4300  20200126_598114379 2020-01-26 00:33:27   \n",
       "68894    4300  20200126_598114379 2020-01-26 00:33:20   \n",
       "\n",
       "                   utc_datetime              datetime_pst  \n",
       "68898 2020-01-26 00:33:51+00:00 2020-01-25 16:33:51-08:00  \n",
       "68897 2020-01-26 00:33:43+00:00 2020-01-25 16:33:43-08:00  \n",
       "68896 2020-01-26 00:33:36+00:00 2020-01-25 16:33:36-08:00  \n",
       "68895 2020-01-26 00:33:27+00:00 2020-01-25 16:33:27-08:00  \n",
       "68894 2020-01-26 00:33:20+00:00 2020-01-25 16:33:20-08:00  "
      ]
     },
     "execution_count": 54,
     "metadata": {},
     "output_type": "execute_result"
    }
   ],
   "source": [
    "flights.head()"
   ]
  },
  {
   "cell_type": "code",
   "execution_count": 15,
   "metadata": {},
   "outputs": [],
   "source": []
  },
  {
   "cell_type": "markdown",
   "metadata": {},
   "source": [
    "### In case we need simplier date/time fields"
   ]
  },
  {
   "cell_type": "code",
   "execution_count": 56,
   "metadata": {},
   "outputs": [],
   "source": [
    "flights['date'] = pd.to_datetime(flights['datetime_pst']).dt.strftime('%m/%d/%Y')\n",
    "flights['time'] = pd.to_datetime(flights['datetime_pst']).dt.strftime('%H:%M:%S')\n",
    "flights['display_time'] = pd.to_datetime(flights['datetime_pst']).dt.strftime('%I:%M %p')\n",
    "flights['weekday'] = flights['datetime_pst'].dt.weekday_name"
   ]
  },
  {
   "cell_type": "markdown",
   "metadata": {},
   "source": [
    "### Lighten the dataframe a bit"
   ]
  },
  {
   "cell_type": "code",
   "execution_count": 17,
   "metadata": {},
   "outputs": [],
   "source": [
    "# flights = flights.drop(['utc', 'timestamp','position','utc_datetime'], axis=1)"
   ]
  },
  {
   "cell_type": "code",
   "execution_count": 57,
   "metadata": {},
   "outputs": [
    {
     "data": {
      "text/html": [
       "<div>\n",
       "<style scoped>\n",
       "    .dataframe tbody tr th:only-of-type {\n",
       "        vertical-align: middle;\n",
       "    }\n",
       "\n",
       "    .dataframe tbody tr th {\n",
       "        vertical-align: top;\n",
       "    }\n",
       "\n",
       "    .dataframe thead th {\n",
       "        text-align: right;\n",
       "    }\n",
       "</style>\n",
       "<table border=\"1\" class=\"dataframe\">\n",
       "  <thead>\n",
       "    <tr style=\"text-align: right;\">\n",
       "      <th></th>\n",
       "      <th>snapshot_id</th>\n",
       "      <th>altitude</th>\n",
       "      <th>heading</th>\n",
       "      <th>latitude</th>\n",
       "      <th>longitude</th>\n",
       "      <th>radar_id</th>\n",
       "      <th>speed</th>\n",
       "      <th>squawk</th>\n",
       "      <th>flightid</th>\n",
       "      <th>date_time</th>\n",
       "      <th>utc_datetime</th>\n",
       "      <th>datetime_pst</th>\n",
       "      <th>date</th>\n",
       "      <th>time</th>\n",
       "      <th>display_time</th>\n",
       "      <th>weekday</th>\n",
       "    </tr>\n",
       "  </thead>\n",
       "  <tbody>\n",
       "    <tr>\n",
       "      <th>68898</th>\n",
       "      <td>1579998831</td>\n",
       "      <td>0</td>\n",
       "      <td>271</td>\n",
       "      <td>33.81313</td>\n",
       "      <td>-118.16036</td>\n",
       "      <td>2958</td>\n",
       "      <td>49</td>\n",
       "      <td>4300</td>\n",
       "      <td>20200126_598114379</td>\n",
       "      <td>2020-01-26 00:33:51</td>\n",
       "      <td>2020-01-26 00:33:51+00:00</td>\n",
       "      <td>2020-01-25 16:33:51-08:00</td>\n",
       "      <td>01/25/2020</td>\n",
       "      <td>16:33:51</td>\n",
       "      <td>04:33 PM</td>\n",
       "      <td>Saturday</td>\n",
       "    </tr>\n",
       "    <tr>\n",
       "      <th>68897</th>\n",
       "      <td>1579998823</td>\n",
       "      <td>50</td>\n",
       "      <td>271</td>\n",
       "      <td>33.81289</td>\n",
       "      <td>-118.15881</td>\n",
       "      <td>2958</td>\n",
       "      <td>49</td>\n",
       "      <td>4300</td>\n",
       "      <td>20200126_598114379</td>\n",
       "      <td>2020-01-26 00:33:43</td>\n",
       "      <td>2020-01-26 00:33:43+00:00</td>\n",
       "      <td>2020-01-25 16:33:43-08:00</td>\n",
       "      <td>01/25/2020</td>\n",
       "      <td>16:33:43</td>\n",
       "      <td>04:33 PM</td>\n",
       "      <td>Saturday</td>\n",
       "    </tr>\n",
       "    <tr>\n",
       "      <th>68896</th>\n",
       "      <td>1579998816</td>\n",
       "      <td>75</td>\n",
       "      <td>272</td>\n",
       "      <td>33.81285</td>\n",
       "      <td>-118.15672</td>\n",
       "      <td>2958</td>\n",
       "      <td>53</td>\n",
       "      <td>4300</td>\n",
       "      <td>20200126_598114379</td>\n",
       "      <td>2020-01-26 00:33:36</td>\n",
       "      <td>2020-01-26 00:33:36+00:00</td>\n",
       "      <td>2020-01-25 16:33:36-08:00</td>\n",
       "      <td>01/25/2020</td>\n",
       "      <td>16:33:36</td>\n",
       "      <td>04:33 PM</td>\n",
       "      <td>Saturday</td>\n",
       "    </tr>\n",
       "    <tr>\n",
       "      <th>68895</th>\n",
       "      <td>1579998807</td>\n",
       "      <td>100</td>\n",
       "      <td>267</td>\n",
       "      <td>33.81285</td>\n",
       "      <td>-118.15401</td>\n",
       "      <td>2958</td>\n",
       "      <td>60</td>\n",
       "      <td>4300</td>\n",
       "      <td>20200126_598114379</td>\n",
       "      <td>2020-01-26 00:33:27</td>\n",
       "      <td>2020-01-26 00:33:27+00:00</td>\n",
       "      <td>2020-01-25 16:33:27-08:00</td>\n",
       "      <td>01/25/2020</td>\n",
       "      <td>16:33:27</td>\n",
       "      <td>04:33 PM</td>\n",
       "      <td>Saturday</td>\n",
       "    </tr>\n",
       "    <tr>\n",
       "      <th>68894</th>\n",
       "      <td>1579998800</td>\n",
       "      <td>125</td>\n",
       "      <td>270</td>\n",
       "      <td>33.81294</td>\n",
       "      <td>-118.15163</td>\n",
       "      <td>2958</td>\n",
       "      <td>62</td>\n",
       "      <td>4300</td>\n",
       "      <td>20200126_598114379</td>\n",
       "      <td>2020-01-26 00:33:20</td>\n",
       "      <td>2020-01-26 00:33:20+00:00</td>\n",
       "      <td>2020-01-25 16:33:20-08:00</td>\n",
       "      <td>01/25/2020</td>\n",
       "      <td>16:33:20</td>\n",
       "      <td>04:33 PM</td>\n",
       "      <td>Saturday</td>\n",
       "    </tr>\n",
       "  </tbody>\n",
       "</table>\n",
       "</div>"
      ],
      "text/plain": [
       "       snapshot_id  altitude  heading  latitude  longitude  radar_id  speed  \\\n",
       "68898   1579998831         0      271  33.81313 -118.16036      2958     49   \n",
       "68897   1579998823        50      271  33.81289 -118.15881      2958     49   \n",
       "68896   1579998816        75      272  33.81285 -118.15672      2958     53   \n",
       "68895   1579998807       100      267  33.81285 -118.15401      2958     60   \n",
       "68894   1579998800       125      270  33.81294 -118.15163      2958     62   \n",
       "\n",
       "       squawk            flightid           date_time  \\\n",
       "68898    4300  20200126_598114379 2020-01-26 00:33:51   \n",
       "68897    4300  20200126_598114379 2020-01-26 00:33:43   \n",
       "68896    4300  20200126_598114379 2020-01-26 00:33:36   \n",
       "68895    4300  20200126_598114379 2020-01-26 00:33:27   \n",
       "68894    4300  20200126_598114379 2020-01-26 00:33:20   \n",
       "\n",
       "                   utc_datetime              datetime_pst        date  \\\n",
       "68898 2020-01-26 00:33:51+00:00 2020-01-25 16:33:51-08:00  01/25/2020   \n",
       "68897 2020-01-26 00:33:43+00:00 2020-01-25 16:33:43-08:00  01/25/2020   \n",
       "68896 2020-01-26 00:33:36+00:00 2020-01-25 16:33:36-08:00  01/25/2020   \n",
       "68895 2020-01-26 00:33:27+00:00 2020-01-25 16:33:27-08:00  01/25/2020   \n",
       "68894 2020-01-26 00:33:20+00:00 2020-01-25 16:33:20-08:00  01/25/2020   \n",
       "\n",
       "           time display_time   weekday  \n",
       "68898  16:33:51     04:33 PM  Saturday  \n",
       "68897  16:33:43     04:33 PM  Saturday  \n",
       "68896  16:33:36     04:33 PM  Saturday  \n",
       "68895  16:33:27     04:33 PM  Saturday  \n",
       "68894  16:33:20     04:33 PM  Saturday  "
      ]
     },
     "execution_count": 57,
     "metadata": {},
     "output_type": "execute_result"
    }
   ],
   "source": [
    "flights.head()"
   ]
  },
  {
   "cell_type": "markdown",
   "metadata": {},
   "source": [
    "### Export the dataframe as a CSV"
   ]
  },
  {
   "cell_type": "code",
   "execution_count": 58,
   "metadata": {},
   "outputs": [],
   "source": [
    "flights.to_csv('output/all_flights.csv')"
   ]
  },
  {
   "cell_type": "markdown",
   "metadata": {},
   "source": [
    "---"
   ]
  },
  {
   "cell_type": "markdown",
   "metadata": {},
   "source": [
    "## Geography"
   ]
  },
  {
   "cell_type": "markdown",
   "metadata": {},
   "source": [
    "### Let's convert our flights data to a geodataframe"
   ]
  },
  {
   "cell_type": "code",
   "execution_count": 59,
   "metadata": {},
   "outputs": [],
   "source": [
    "flights_geo = gpd.GeoDataFrame(flights, geometry=gpd.points_from_xy(flights['longitude'], flights['latitude']))"
   ]
  },
  {
   "cell_type": "code",
   "execution_count": 69,
   "metadata": {},
   "outputs": [
    {
     "data": {
      "text/html": [
       "<div>\n",
       "<style scoped>\n",
       "    .dataframe tbody tr th:only-of-type {\n",
       "        vertical-align: middle;\n",
       "    }\n",
       "\n",
       "    .dataframe tbody tr th {\n",
       "        vertical-align: top;\n",
       "    }\n",
       "\n",
       "    .dataframe thead th {\n",
       "        text-align: right;\n",
       "    }\n",
       "</style>\n",
       "<table border=\"1\" class=\"dataframe\">\n",
       "  <thead>\n",
       "    <tr style=\"text-align: right;\">\n",
       "      <th></th>\n",
       "      <th>snapshot_id</th>\n",
       "      <th>altitude</th>\n",
       "      <th>heading</th>\n",
       "      <th>latitude</th>\n",
       "      <th>longitude</th>\n",
       "      <th>radar_id</th>\n",
       "      <th>speed</th>\n",
       "      <th>squawk</th>\n",
       "      <th>flightid</th>\n",
       "      <th>date_time</th>\n",
       "      <th>utc_datetime</th>\n",
       "      <th>datetime_pst</th>\n",
       "      <th>date</th>\n",
       "      <th>time</th>\n",
       "      <th>display_time</th>\n",
       "      <th>weekday</th>\n",
       "      <th>geometry</th>\n",
       "    </tr>\n",
       "  </thead>\n",
       "  <tbody>\n",
       "    <tr>\n",
       "      <th>68898</th>\n",
       "      <td>1579998831</td>\n",
       "      <td>0</td>\n",
       "      <td>271</td>\n",
       "      <td>33.81313</td>\n",
       "      <td>-118.16036</td>\n",
       "      <td>2958</td>\n",
       "      <td>49</td>\n",
       "      <td>4300</td>\n",
       "      <td>20200126_598114379</td>\n",
       "      <td>2020-01-26 00:33:51</td>\n",
       "      <td>2020-01-26 00:33:51+00:00</td>\n",
       "      <td>2020-01-25 16:33:51-08:00</td>\n",
       "      <td>01/25/2020</td>\n",
       "      <td>16:33:51</td>\n",
       "      <td>04:33 PM</td>\n",
       "      <td>Saturday</td>\n",
       "      <td>POINT (-118.16036 33.81313)</td>\n",
       "    </tr>\n",
       "    <tr>\n",
       "      <th>68897</th>\n",
       "      <td>1579998823</td>\n",
       "      <td>50</td>\n",
       "      <td>271</td>\n",
       "      <td>33.81289</td>\n",
       "      <td>-118.15881</td>\n",
       "      <td>2958</td>\n",
       "      <td>49</td>\n",
       "      <td>4300</td>\n",
       "      <td>20200126_598114379</td>\n",
       "      <td>2020-01-26 00:33:43</td>\n",
       "      <td>2020-01-26 00:33:43+00:00</td>\n",
       "      <td>2020-01-25 16:33:43-08:00</td>\n",
       "      <td>01/25/2020</td>\n",
       "      <td>16:33:43</td>\n",
       "      <td>04:33 PM</td>\n",
       "      <td>Saturday</td>\n",
       "      <td>POINT (-118.15881 33.81289)</td>\n",
       "    </tr>\n",
       "    <tr>\n",
       "      <th>68896</th>\n",
       "      <td>1579998816</td>\n",
       "      <td>75</td>\n",
       "      <td>272</td>\n",
       "      <td>33.81285</td>\n",
       "      <td>-118.15672</td>\n",
       "      <td>2958</td>\n",
       "      <td>53</td>\n",
       "      <td>4300</td>\n",
       "      <td>20200126_598114379</td>\n",
       "      <td>2020-01-26 00:33:36</td>\n",
       "      <td>2020-01-26 00:33:36+00:00</td>\n",
       "      <td>2020-01-25 16:33:36-08:00</td>\n",
       "      <td>01/25/2020</td>\n",
       "      <td>16:33:36</td>\n",
       "      <td>04:33 PM</td>\n",
       "      <td>Saturday</td>\n",
       "      <td>POINT (-118.15672 33.81285)</td>\n",
       "    </tr>\n",
       "    <tr>\n",
       "      <th>68895</th>\n",
       "      <td>1579998807</td>\n",
       "      <td>100</td>\n",
       "      <td>267</td>\n",
       "      <td>33.81285</td>\n",
       "      <td>-118.15401</td>\n",
       "      <td>2958</td>\n",
       "      <td>60</td>\n",
       "      <td>4300</td>\n",
       "      <td>20200126_598114379</td>\n",
       "      <td>2020-01-26 00:33:27</td>\n",
       "      <td>2020-01-26 00:33:27+00:00</td>\n",
       "      <td>2020-01-25 16:33:27-08:00</td>\n",
       "      <td>01/25/2020</td>\n",
       "      <td>16:33:27</td>\n",
       "      <td>04:33 PM</td>\n",
       "      <td>Saturday</td>\n",
       "      <td>POINT (-118.15401 33.81285)</td>\n",
       "    </tr>\n",
       "    <tr>\n",
       "      <th>68894</th>\n",
       "      <td>1579998800</td>\n",
       "      <td>125</td>\n",
       "      <td>270</td>\n",
       "      <td>33.81294</td>\n",
       "      <td>-118.15163</td>\n",
       "      <td>2958</td>\n",
       "      <td>62</td>\n",
       "      <td>4300</td>\n",
       "      <td>20200126_598114379</td>\n",
       "      <td>2020-01-26 00:33:20</td>\n",
       "      <td>2020-01-26 00:33:20+00:00</td>\n",
       "      <td>2020-01-25 16:33:20-08:00</td>\n",
       "      <td>01/25/2020</td>\n",
       "      <td>16:33:20</td>\n",
       "      <td>04:33 PM</td>\n",
       "      <td>Saturday</td>\n",
       "      <td>POINT (-118.15163 33.81294)</td>\n",
       "    </tr>\n",
       "  </tbody>\n",
       "</table>\n",
       "</div>"
      ],
      "text/plain": [
       "       snapshot_id  altitude  heading  latitude  longitude  radar_id  speed  \\\n",
       "68898   1579998831         0      271  33.81313 -118.16036      2958     49   \n",
       "68897   1579998823        50      271  33.81289 -118.15881      2958     49   \n",
       "68896   1579998816        75      272  33.81285 -118.15672      2958     53   \n",
       "68895   1579998807       100      267  33.81285 -118.15401      2958     60   \n",
       "68894   1579998800       125      270  33.81294 -118.15163      2958     62   \n",
       "\n",
       "       squawk            flightid           date_time  \\\n",
       "68898    4300  20200126_598114379 2020-01-26 00:33:51   \n",
       "68897    4300  20200126_598114379 2020-01-26 00:33:43   \n",
       "68896    4300  20200126_598114379 2020-01-26 00:33:36   \n",
       "68895    4300  20200126_598114379 2020-01-26 00:33:27   \n",
       "68894    4300  20200126_598114379 2020-01-26 00:33:20   \n",
       "\n",
       "                   utc_datetime              datetime_pst        date  \\\n",
       "68898 2020-01-26 00:33:51+00:00 2020-01-25 16:33:51-08:00  01/25/2020   \n",
       "68897 2020-01-26 00:33:43+00:00 2020-01-25 16:33:43-08:00  01/25/2020   \n",
       "68896 2020-01-26 00:33:36+00:00 2020-01-25 16:33:36-08:00  01/25/2020   \n",
       "68895 2020-01-26 00:33:27+00:00 2020-01-25 16:33:27-08:00  01/25/2020   \n",
       "68894 2020-01-26 00:33:20+00:00 2020-01-25 16:33:20-08:00  01/25/2020   \n",
       "\n",
       "           time display_time   weekday                     geometry  \n",
       "68898  16:33:51     04:33 PM  Saturday  POINT (-118.16036 33.81313)  \n",
       "68897  16:33:43     04:33 PM  Saturday  POINT (-118.15881 33.81289)  \n",
       "68896  16:33:36     04:33 PM  Saturday  POINT (-118.15672 33.81285)  \n",
       "68895  16:33:27     04:33 PM  Saturday  POINT (-118.15401 33.81285)  \n",
       "68894  16:33:20     04:33 PM  Saturday  POINT (-118.15163 33.81294)  "
      ]
     },
     "execution_count": 69,
     "metadata": {},
     "output_type": "execute_result"
    }
   ],
   "source": [
    "flights_geo.head()"
   ]
  },
  {
   "cell_type": "markdown",
   "metadata": {},
   "source": [
    "### We need flight paths. Convert to points to linestring"
   ]
  },
  {
   "cell_type": "code",
   "execution_count": null,
   "metadata": {},
   "outputs": [],
   "source": [
    "flights_geo_line = flights_geo.groupby('flightid')['geometry']\\\n",
    "    .apply(lambda x: LineString(x.tolist()) if x.size > 1 else x.tolist())"
   ]
  },
  {
   "cell_type": "code",
   "execution_count": null,
   "metadata": {},
   "outputs": [],
   "source": []
  },
  {
   "cell_type": "code",
   "execution_count": null,
   "metadata": {},
   "outputs": [],
   "source": [
    "flights_geo_line = flights_geo_line.groupby(['ID', 'Hour'])['geometry'].apply(lambda x:                 LineString(x.tolist()))\n",
    "    geo_df2 = gpd.GeoDataFrame(geo_df2, geometry='geometry')"
   ]
  },
  {
   "cell_type": "code",
   "execution_count": null,
   "metadata": {},
   "outputs": [],
   "source": []
  },
  {
   "cell_type": "code",
   "execution_count": null,
   "metadata": {},
   "outputs": [],
   "source": []
  },
  {
   "cell_type": "code",
   "execution_count": 70,
   "metadata": {},
   "outputs": [],
   "source": []
  },
  {
   "cell_type": "code",
   "execution_count": 77,
   "metadata": {},
   "outputs": [
    {
     "ename": "TypeError",
     "evalue": "Input geometry column must contain valid geometry objects.",
     "output_type": "error",
     "traceback": [
      "\u001b[0;31m----------------------------------------------------------\u001b[0m",
      "\u001b[0;31mTypeError\u001b[0m                Traceback (most recent call last)",
      "\u001b[0;32m<ipython-input-77-e9ea5e92eb78>\u001b[0m in \u001b[0;36m<module>\u001b[0;34m\u001b[0m\n\u001b[0;32m----> 1\u001b[0;31m \u001b[0mflights_geo_lines\u001b[0m \u001b[0;34m=\u001b[0m \u001b[0mgpd\u001b[0m\u001b[0;34m.\u001b[0m\u001b[0mGeoDataFrame\u001b[0m\u001b[0;34m(\u001b[0m\u001b[0mflights_geo_line\u001b[0m\u001b[0;34m,\u001b[0m \u001b[0mgeometry\u001b[0m\u001b[0;34m=\u001b[0m\u001b[0;34m'geometry'\u001b[0m\u001b[0;34m)\u001b[0m\u001b[0;34m.\u001b[0m\u001b[0mreset_index\u001b[0m\u001b[0;34m(\u001b[0m\u001b[0;34m)\u001b[0m\u001b[0;34m\u001b[0m\u001b[0;34m\u001b[0m\u001b[0m\n\u001b[0m",
      "\u001b[0;32m//anaconda3/lib/python3.7/site-packages/geopandas/geodataframe.py\u001b[0m in \u001b[0;36m__init__\u001b[0;34m(self, *args, **kwargs)\u001b[0m\n\u001b[1;32m     48\u001b[0m         \u001b[0mself\u001b[0m\u001b[0;34m.\u001b[0m\u001b[0mcrs\u001b[0m \u001b[0;34m=\u001b[0m \u001b[0mcrs\u001b[0m\u001b[0;34m\u001b[0m\u001b[0;34m\u001b[0m\u001b[0m\n\u001b[1;32m     49\u001b[0m         \u001b[0;32mif\u001b[0m \u001b[0mgeometry\u001b[0m \u001b[0;32mis\u001b[0m \u001b[0;32mnot\u001b[0m \u001b[0;32mNone\u001b[0m\u001b[0;34m:\u001b[0m\u001b[0;34m\u001b[0m\u001b[0;34m\u001b[0m\u001b[0m\n\u001b[0;32m---> 50\u001b[0;31m             \u001b[0mself\u001b[0m\u001b[0;34m.\u001b[0m\u001b[0mset_geometry\u001b[0m\u001b[0;34m(\u001b[0m\u001b[0mgeometry\u001b[0m\u001b[0;34m,\u001b[0m \u001b[0minplace\u001b[0m\u001b[0;34m=\u001b[0m\u001b[0;32mTrue\u001b[0m\u001b[0;34m)\u001b[0m\u001b[0;34m\u001b[0m\u001b[0;34m\u001b[0m\u001b[0m\n\u001b[0m\u001b[1;32m     51\u001b[0m         \u001b[0mself\u001b[0m\u001b[0;34m.\u001b[0m\u001b[0m_invalidate_sindex\u001b[0m\u001b[0;34m(\u001b[0m\u001b[0;34m)\u001b[0m\u001b[0;34m\u001b[0m\u001b[0;34m\u001b[0m\u001b[0m\n\u001b[1;32m     52\u001b[0m \u001b[0;34m\u001b[0m\u001b[0m\n",
      "\u001b[0;32m//anaconda3/lib/python3.7/site-packages/geopandas/geodataframe.py\u001b[0m in \u001b[0;36mset_geometry\u001b[0;34m(self, col, drop, inplace, crs)\u001b[0m\n\u001b[1;32m    147\u001b[0m         \u001b[0;31m# Check that we are using a listlike of geometries\u001b[0m\u001b[0;34m\u001b[0m\u001b[0;34m\u001b[0m\u001b[0;34m\u001b[0m\u001b[0m\n\u001b[1;32m    148\u001b[0m         \u001b[0;32mif\u001b[0m \u001b[0;32mnot\u001b[0m \u001b[0mall\u001b[0m\u001b[0;34m(\u001b[0m\u001b[0misinstance\u001b[0m\u001b[0;34m(\u001b[0m\u001b[0mitem\u001b[0m\u001b[0;34m,\u001b[0m \u001b[0mBaseGeometry\u001b[0m\u001b[0;34m)\u001b[0m \u001b[0;32mor\u001b[0m \u001b[0mpd\u001b[0m\u001b[0;34m.\u001b[0m\u001b[0misnull\u001b[0m\u001b[0;34m(\u001b[0m\u001b[0mitem\u001b[0m\u001b[0;34m)\u001b[0m \u001b[0;32mfor\u001b[0m \u001b[0mitem\u001b[0m \u001b[0;32min\u001b[0m \u001b[0mlevel\u001b[0m\u001b[0;34m)\u001b[0m\u001b[0;34m:\u001b[0m\u001b[0;34m\u001b[0m\u001b[0;34m\u001b[0m\u001b[0m\n\u001b[0;32m--> 149\u001b[0;31m             \u001b[0;32mraise\u001b[0m \u001b[0mTypeError\u001b[0m\u001b[0;34m(\u001b[0m\u001b[0;34m\"Input geometry column must contain valid geometry objects.\"\u001b[0m\u001b[0;34m)\u001b[0m\u001b[0;34m\u001b[0m\u001b[0;34m\u001b[0m\u001b[0m\n\u001b[0m\u001b[1;32m    150\u001b[0m         \u001b[0mframe\u001b[0m\u001b[0;34m[\u001b[0m\u001b[0mgeo_column_name\u001b[0m\u001b[0;34m]\u001b[0m \u001b[0;34m=\u001b[0m \u001b[0mlevel\u001b[0m\u001b[0;34m\u001b[0m\u001b[0;34m\u001b[0m\u001b[0m\n\u001b[1;32m    151\u001b[0m         \u001b[0mframe\u001b[0m\u001b[0;34m.\u001b[0m\u001b[0m_geometry_column_name\u001b[0m \u001b[0;34m=\u001b[0m \u001b[0mgeo_column_name\u001b[0m\u001b[0;34m\u001b[0m\u001b[0;34m\u001b[0m\u001b[0m\n",
      "\u001b[0;31mTypeError\u001b[0m: Input geometry column must contain valid geometry objects."
     ]
    }
   ],
   "source": [
    "flights_geo_lines = gpd.GeoDataFrame(flights_geo_line, geometry='geometry').reset_index()"
   ]
  },
  {
   "cell_type": "code",
   "execution_count": 76,
   "metadata": {},
   "outputs": [
    {
     "data": {
      "text/plain": [
       "<matplotlib.axes._subplots.AxesSubplot at 0x1297659b0>"
      ]
     },
     "execution_count": 76,
     "metadata": {},
     "output_type": "execute_result"
    },
    {
     "data": {
      "image/png": "[encoded data removed]",
      "text/plain": [
       "<Figure size 432x288 with 1 Axes>"
      ]
     },
     "metadata": {
      "needs_background": "light"
     },
     "output_type": "display_data"
    }
   ],
   "source": [
    "flights_geo_lines.plot()"
   ]
  },
  {
   "cell_type": "markdown",
   "metadata": {},
   "source": [
    "### Remove anomalous flights"
   ]
  },
  {
   "cell_type": "code",
   "execution_count": 30,
   "metadata": {},
   "outputs": [],
   "source": [
    "flights_geo_line = flights_geo_line.drop([31, 231])"
   ]
  },
  {
   "cell_type": "code",
   "execution_count": 31,
   "metadata": {},
   "outputs": [
    {
     "data": {
      "text/plain": [
       "<matplotlib.axes._subplots.AxesSubplot at 0x1397cdc18>"
      ]
     },
     "execution_count": 31,
     "metadata": {},
     "output_type": "execute_result"
    },
    {
     "data": {
      "image/png": "[encoded data removed]",
      "text/plain": [
       "<Figure size 432x288 with 1 Axes>"
      ]
     },
     "metadata": {
      "needs_background": "light"
     },
     "output_type": "display_data"
    }
   ],
   "source": [
    "flights_geo_line.plot()"
   ]
  },
  {
   "cell_type": "code",
   "execution_count": 32,
   "metadata": {},
   "outputs": [],
   "source": [
    "flights_geo.to_file('output/flights_geo.geojson', driver='GeoJSON')"
   ]
  },
  {
   "cell_type": "code",
   "execution_count": 33,
   "metadata": {},
   "outputs": [],
   "source": [
    "flights_geo_line.to_file('output/flights_geo_line.geojson', driver='GeoJSON')"
   ]
  },
  {
   "cell_type": "code",
   "execution_count": 35,
   "metadata": {},
   "outputs": [
    {
     "name": "stderr",
     "output_type": "stream",
     "text": [
      "//anaconda3/lib/python3.7/site-packages/geopandas/geodataframe.py:471: UserWarning: Boolean Series key will be reindexed to match DataFrame index.\n",
      "  result = super(GeoDataFrame, self).__getitem__(key)\n"
     ]
    }
   ],
   "source": [
    "flights_geo_delta = flights_geo_line[flights_geo['flightid'] == '23856f50']"
   ]
  },
  {
   "cell_type": "code",
   "execution_count": null,
   "metadata": {},
   "outputs": [],
   "source": [
    "flights_geo_line_delta = flights_geo_line_cali[flights_geo_line['flightid'] == '23856f50']"
   ]
  },
  {
   "cell_type": "code",
   "execution_count": null,
   "metadata": {},
   "outputs": [],
   "source": [
    "flights_geo_line_delta.to_file('output/flights_geo_line_delta.geojson', driver='GeoJSON')"
   ]
  },
  {
   "cell_type": "code",
   "execution_count": null,
   "metadata": {},
   "outputs": [],
   "source": [
    "flights_geo_line_delta.plot()"
   ]
  },
  {
   "cell_type": "code",
   "execution_count": null,
   "metadata": {},
   "outputs": [],
   "source": [
    "flights_geo_delta.to_file('output/flights_geo_delta.geojson', driver='GeoJSON')"
   ]
  },
  {
   "cell_type": "code",
   "execution_count": null,
   "metadata": {},
   "outputs": [],
   "source": [
    "delta_89_gas_flight.to_csv('output/delta_89_gas_flight.csv')"
   ]
  },
  {
   "cell_type": "code",
   "execution_count": null,
   "metadata": {},
   "outputs": [],
   "source": [
    "delta_89_gas_flight.to_file('output/delta_89_gas_flight.geojson', driver='GeoJSON')"
   ]
  }
 ],
 "metadata": {
  "kernelspec": {
   "display_name": "Python 3",
   "language": "python",
   "name": "python3"
  },
  "language_info": {
   "codemirror_mode": {
    "name": "ipython",
    "version": 3
   },
   "file_extension": ".py",
   "mimetype": "text/x-python",
   "name": "python",
   "nbconvert_exporter": "python",
   "pygments_lexer": "ipython3",
   "version": "3.7.4"
  }
 },
 "nbformat": 4,
 "nbformat_minor": 2
}
