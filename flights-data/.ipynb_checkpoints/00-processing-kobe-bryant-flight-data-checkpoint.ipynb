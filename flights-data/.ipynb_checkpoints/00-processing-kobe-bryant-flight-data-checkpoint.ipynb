{
 "cells": [
  {
   "cell_type": "markdown",
   "metadata": {},
   "source": [
    "# Delta Flight 89: Historic flight path data"
   ]
  },
  {
   "cell_type": "markdown",
   "metadata": {},
   "source": [
    "### Load Python tools"
   ]
  },
  {
   "cell_type": "code",
   "execution_count": 1,
   "metadata": {},
   "outputs": [],
   "source": [
    "import pandas as pd\n",
    "import geopandas as gpd\n",
    "import matplotlib\n",
    "import matplotlib.pyplot as plt\n",
    "import geojson\n",
    "import json\n",
    "import jenkspy\n",
    "import numpy as np\n",
    "import glob\n",
    "import io\n",
    "import os\n",
    "from shapely.geometry import Point, LineString\n",
    "from altair import datum\n",
    "import altair as alt\n",
    "alt.renderers.enable('notebook')\n",
    "import altair_latimes as lat\n",
    "alt.themes.register('latimes', lat.theme)\n",
    "alt.themes.enable('latimes')\n",
    "pd.options.display.max_columns = 50\n",
    "pd.options.display.max_rows = 100"
   ]
  },
  {
   "cell_type": "markdown",
   "metadata": {},
   "source": [
    "### We have 313 CSVs for each flight over a year. What does one look like?"
   ]
  },
  {
   "cell_type": "code",
   "execution_count": 2,
   "metadata": {},
   "outputs": [
    {
     "data": {
      "text/html": [
       "<div>\n",
       "<style scoped>\n",
       "    .dataframe tbody tr th:only-of-type {\n",
       "        vertical-align: middle;\n",
       "    }\n",
       "\n",
       "    .dataframe tbody tr th {\n",
       "        vertical-align: top;\n",
       "    }\n",
       "\n",
       "    .dataframe thead th {\n",
       "        text-align: right;\n",
       "    }\n",
       "</style>\n",
       "<table border=\"1\" class=\"dataframe\">\n",
       "  <thead>\n",
       "    <tr style=\"text-align: right;\">\n",
       "      <th></th>\n",
       "      <th>Timestamp</th>\n",
       "      <th>UTC</th>\n",
       "      <th>Callsign</th>\n",
       "      <th>Position</th>\n",
       "      <th>Altitude</th>\n",
       "      <th>Speed</th>\n",
       "      <th>Direction</th>\n",
       "    </tr>\n",
       "  </thead>\n",
       "  <tbody>\n",
       "    <tr>\n",
       "      <th>0</th>\n",
       "      <td>1571684146</td>\n",
       "      <td>2019-10-21T18:55:46Z</td>\n",
       "      <td>DAL89</td>\n",
       "      <td>33.945415,-118.410347</td>\n",
       "      <td>0</td>\n",
       "      <td>0</td>\n",
       "      <td>264</td>\n",
       "    </tr>\n",
       "    <tr>\n",
       "      <th>1</th>\n",
       "      <td>1571688008</td>\n",
       "      <td>2019-10-21T20:00:08Z</td>\n",
       "      <td>DAL89</td>\n",
       "      <td>33.945431,-118.410126</td>\n",
       "      <td>0</td>\n",
       "      <td>9</td>\n",
       "      <td>264</td>\n",
       "    </tr>\n",
       "    <tr>\n",
       "      <th>2</th>\n",
       "      <td>1571688026</td>\n",
       "      <td>2019-10-21T20:00:26Z</td>\n",
       "      <td>DAL89</td>\n",
       "      <td>33.945442,-118.409904</td>\n",
       "      <td>0</td>\n",
       "      <td>9</td>\n",
       "      <td>258</td>\n",
       "    </tr>\n",
       "    <tr>\n",
       "      <th>3</th>\n",
       "      <td>1571688044</td>\n",
       "      <td>2019-10-21T20:00:44Z</td>\n",
       "      <td>DAL89</td>\n",
       "      <td>33.945438,-118.40966</td>\n",
       "      <td>0</td>\n",
       "      <td>9</td>\n",
       "      <td>250</td>\n",
       "    </tr>\n",
       "    <tr>\n",
       "      <th>4</th>\n",
       "      <td>1571688065</td>\n",
       "      <td>2019-10-21T20:01:05Z</td>\n",
       "      <td>DAL89</td>\n",
       "      <td>33.945442,-118.409454</td>\n",
       "      <td>0</td>\n",
       "      <td>2</td>\n",
       "      <td>236</td>\n",
       "    </tr>\n",
       "  </tbody>\n",
       "</table>\n",
       "</div>"
      ],
      "text/plain": [
       "    Timestamp                   UTC Callsign               Position  Altitude  \\\n",
       "0  1571684146  2019-10-21T18:55:46Z    DAL89  33.945415,-118.410347         0   \n",
       "1  1571688008  2019-10-21T20:00:08Z    DAL89  33.945431,-118.410126         0   \n",
       "2  1571688026  2019-10-21T20:00:26Z    DAL89  33.945442,-118.409904         0   \n",
       "3  1571688044  2019-10-21T20:00:44Z    DAL89   33.945438,-118.40966         0   \n",
       "4  1571688065  2019-10-21T20:01:05Z    DAL89  33.945442,-118.409454         0   \n",
       "\n",
       "   Speed  Direction  \n",
       "0      0        264  \n",
       "1      9        264  \n",
       "2      9        258  \n",
       "3      9        250  \n",
       "4      2        236  "
      ]
     },
     "execution_count": 2,
     "metadata": {},
     "output_type": "execute_result"
    }
   ],
   "source": [
    "a_flight = pd.read_csv('input/flights/DL89_228f611c.csv')\n",
    "a_flight.head()"
   ]
  },
  {
   "cell_type": "code",
   "execution_count": 3,
   "metadata": {},
   "outputs": [
    {
     "data": {
      "text/plain": [
       "Timestamp     int64\n",
       "UTC          object\n",
       "Callsign     object\n",
       "Position     object\n",
       "Altitude      int64\n",
       "Speed         int64\n",
       "Direction     int64\n",
       "dtype: object"
      ]
     },
     "execution_count": 3,
     "metadata": {},
     "output_type": "execute_result"
    }
   ],
   "source": [
    "a_flight.dtypes"
   ]
  },
  {
   "cell_type": "markdown",
   "metadata": {},
   "source": [
    "### Concatenate the flight path files"
   ]
  },
  {
   "cell_type": "code",
   "execution_count": 4,
   "metadata": {},
   "outputs": [],
   "source": [
    "#set path\n",
    "path = 'input/flights/'"
   ]
  },
  {
   "cell_type": "code",
   "execution_count": 5,
   "metadata": {},
   "outputs": [],
   "source": [
    "files = glob.glob(os.path.join(path, \"*.csv\"))"
   ]
  },
  {
   "cell_type": "markdown",
   "metadata": {},
   "source": [
    "### Read the csv and create a 'flightid' field so we can track unique flights"
   ]
  },
  {
   "cell_type": "code",
   "execution_count": 6,
   "metadata": {},
   "outputs": [],
   "source": [
    "file_df = (pd.read_csv(f, encoding = \"ISO-8859-1\", low_memory=False)\\\n",
    "           .assign(flightid=os.path.basename(f)) for f in files)"
   ]
  },
  {
   "cell_type": "code",
   "execution_count": 7,
   "metadata": {},
   "outputs": [],
   "source": [
    "concatenated_df = pd.concat(file_df, ignore_index=True)"
   ]
  },
  {
   "cell_type": "code",
   "execution_count": 8,
   "metadata": {},
   "outputs": [],
   "source": [
    "concatenated_df['flightid'] = concatenated_df['flightid']\\\n",
    "    .str.replace('DL89_','')\\\n",
    "    .str.replace('.csv','')"
   ]
  },
  {
   "cell_type": "markdown",
   "metadata": {},
   "source": [
    "### How many flight segments do we have? "
   ]
  },
  {
   "cell_type": "code",
   "execution_count": 9,
   "metadata": {},
   "outputs": [
    {
     "data": {
      "text/plain": [
       "196276"
      ]
     },
     "execution_count": 9,
     "metadata": {},
     "output_type": "execute_result"
    }
   ],
   "source": [
    "len(concatenated_df)"
   ]
  },
  {
   "cell_type": "markdown",
   "metadata": {},
   "source": [
    "### Clean up the dataframe"
   ]
  },
  {
   "cell_type": "code",
   "execution_count": 10,
   "metadata": {},
   "outputs": [],
   "source": [
    "concatenated_df.columns = concatenated_df.columns.str.strip().str.lower().str.replace(' ', '_')\\\n",
    "                    .str.replace('(', '').str.replace(')', '').str.replace('-','_')"
   ]
  },
  {
   "cell_type": "code",
   "execution_count": 11,
   "metadata": {},
   "outputs": [
    {
     "data": {
      "text/html": [
       "<div>\n",
       "<style scoped>\n",
       "    .dataframe tbody tr th:only-of-type {\n",
       "        vertical-align: middle;\n",
       "    }\n",
       "\n",
       "    .dataframe tbody tr th {\n",
       "        vertical-align: top;\n",
       "    }\n",
       "\n",
       "    .dataframe thead th {\n",
       "        text-align: right;\n",
       "    }\n",
       "</style>\n",
       "<table border=\"1\" class=\"dataframe\">\n",
       "  <thead>\n",
       "    <tr style=\"text-align: right;\">\n",
       "      <th></th>\n",
       "      <th>timestamp</th>\n",
       "      <th>utc</th>\n",
       "      <th>callsign</th>\n",
       "      <th>position</th>\n",
       "      <th>altitude</th>\n",
       "      <th>speed</th>\n",
       "      <th>direction</th>\n",
       "      <th>flightid</th>\n",
       "    </tr>\n",
       "  </thead>\n",
       "  <tbody>\n",
       "    <tr>\n",
       "      <th>100664</th>\n",
       "      <td>1579032628</td>\n",
       "      <td>2020-01-14T20:10:28Z</td>\n",
       "      <td>DAL89</td>\n",
       "      <td>33.947285,-118.404953</td>\n",
       "      <td>0</td>\n",
       "      <td>12</td>\n",
       "      <td>132</td>\n",
       "      <td>23856f50</td>\n",
       "    </tr>\n",
       "    <tr>\n",
       "      <th>100663</th>\n",
       "      <td>1579032616</td>\n",
       "      <td>2020-01-14T20:10:16Z</td>\n",
       "      <td>DAL89</td>\n",
       "      <td>33.947453,-118.405182</td>\n",
       "      <td>0</td>\n",
       "      <td>15</td>\n",
       "      <td>132</td>\n",
       "      <td>23856f50</td>\n",
       "    </tr>\n",
       "    <tr>\n",
       "      <th>100662</th>\n",
       "      <td>1579032605</td>\n",
       "      <td>2020-01-14T20:10:05Z</td>\n",
       "      <td>DAL89</td>\n",
       "      <td>33.947697,-118.405479</td>\n",
       "      <td>0</td>\n",
       "      <td>19</td>\n",
       "      <td>118</td>\n",
       "      <td>23856f50</td>\n",
       "    </tr>\n",
       "    <tr>\n",
       "      <th>100661</th>\n",
       "      <td>1579032598</td>\n",
       "      <td>2020-01-14T20:09:58Z</td>\n",
       "      <td>DAL89</td>\n",
       "      <td>33.947823,-118.405685</td>\n",
       "      <td>0</td>\n",
       "      <td>20</td>\n",
       "      <td>101</td>\n",
       "      <td>23856f50</td>\n",
       "    </tr>\n",
       "    <tr>\n",
       "      <th>100660</th>\n",
       "      <td>1579032592</td>\n",
       "      <td>2020-01-14T20:09:52Z</td>\n",
       "      <td>DAL89</td>\n",
       "      <td>33.947857,-118.405907</td>\n",
       "      <td>0</td>\n",
       "      <td>21</td>\n",
       "      <td>84</td>\n",
       "      <td>23856f50</td>\n",
       "    </tr>\n",
       "  </tbody>\n",
       "</table>\n",
       "</div>"
      ],
      "text/plain": [
       "         timestamp                   utc callsign               position  \\\n",
       "100664  1579032628  2020-01-14T20:10:28Z    DAL89  33.947285,-118.404953   \n",
       "100663  1579032616  2020-01-14T20:10:16Z    DAL89  33.947453,-118.405182   \n",
       "100662  1579032605  2020-01-14T20:10:05Z    DAL89  33.947697,-118.405479   \n",
       "100661  1579032598  2020-01-14T20:09:58Z    DAL89  33.947823,-118.405685   \n",
       "100660  1579032592  2020-01-14T20:09:52Z    DAL89  33.947857,-118.405907   \n",
       "\n",
       "       altitude speed direction  flightid  \n",
       "100664        0    12       132  23856f50  \n",
       "100663        0    15       132  23856f50  \n",
       "100662        0    19       118  23856f50  \n",
       "100661        0    20       101  23856f50  \n",
       "100660        0    21        84  23856f50  "
      ]
     },
     "execution_count": 11,
     "metadata": {},
     "output_type": "execute_result"
    }
   ],
   "source": [
    "flights = pd.DataFrame(concatenated_df.sort_values(by='timestamp', ascending=False))\n",
    "flights.head()"
   ]
  },
  {
   "cell_type": "markdown",
   "metadata": {},
   "source": [
    "### Split location field into lat, lon to create a geodataframe"
   ]
  },
  {
   "cell_type": "code",
   "execution_count": 12,
   "metadata": {},
   "outputs": [],
   "source": [
    "lat = []\n",
    "lon = []\n",
    "\n",
    "for row in flights['position']:\n",
    "    lat.append(row.split(',')[0])\n",
    "    lon.append(row.split(',')[1])\n",
    "        \n",
    "flights['latitude'] = lat\n",
    "flights['longitude'] = lon"
   ]
  },
  {
   "cell_type": "code",
   "execution_count": 13,
   "metadata": {},
   "outputs": [],
   "source": [
    "flights['latitude'] = flights['latitude'].astype(float)\n",
    "flights['longitude'] = flights['longitude'].astype(float)"
   ]
  },
  {
   "cell_type": "markdown",
   "metadata": {},
   "source": [
    "### Convert the UTC date string into an actual datetime series"
   ]
  },
  {
   "cell_type": "code",
   "execution_count": 14,
   "metadata": {},
   "outputs": [],
   "source": [
    "flights['utc_datetime'] = pd.to_datetime(flights['utc'], format='%Y-%m-%dT%H:%M:%SZ').dt.tz_localize('UTC')"
   ]
  },
  {
   "cell_type": "markdown",
   "metadata": {},
   "source": [
    "### Localize to Los Angeles time"
   ]
  },
  {
   "cell_type": "code",
   "execution_count": 15,
   "metadata": {},
   "outputs": [],
   "source": [
    "flights['datetime'] = flights['utc_datetime'].dt.tz_convert('America/Los_Angeles')"
   ]
  },
  {
   "cell_type": "markdown",
   "metadata": {},
   "source": [
    "### In case we need simploer date/time fields"
   ]
  },
  {
   "cell_type": "code",
   "execution_count": 16,
   "metadata": {},
   "outputs": [],
   "source": [
    "flights['date'] = pd.to_datetime(flights['datetime']).dt.strftime('%m/%d/%Y')\n",
    "flights['time'] = pd.to_datetime(flights['datetime']).dt.strftime('%H:%M:%S')\n",
    "flights['display_time'] = pd.to_datetime(flights['datetime']).dt.strftime('%I:%M %p')\n",
    "flights['weekday'] = flights['datetime'].dt.weekday_name"
   ]
  },
  {
   "cell_type": "markdown",
   "metadata": {},
   "source": [
    "### Lighten the dataframe a bit"
   ]
  },
  {
   "cell_type": "code",
   "execution_count": 17,
   "metadata": {},
   "outputs": [],
   "source": [
    "flights = flights.drop(['utc', 'timestamp','position','utc_datetime'], axis=1)"
   ]
  },
  {
   "cell_type": "code",
   "execution_count": 18,
   "metadata": {},
   "outputs": [
    {
     "data": {
      "text/html": [
       "<div>\n",
       "<style scoped>\n",
       "    .dataframe tbody tr th:only-of-type {\n",
       "        vertical-align: middle;\n",
       "    }\n",
       "\n",
       "    .dataframe tbody tr th {\n",
       "        vertical-align: top;\n",
       "    }\n",
       "\n",
       "    .dataframe thead th {\n",
       "        text-align: right;\n",
       "    }\n",
       "</style>\n",
       "<table border=\"1\" class=\"dataframe\">\n",
       "  <thead>\n",
       "    <tr style=\"text-align: right;\">\n",
       "      <th></th>\n",
       "      <th>callsign</th>\n",
       "      <th>altitude</th>\n",
       "      <th>speed</th>\n",
       "      <th>direction</th>\n",
       "      <th>flightid</th>\n",
       "      <th>latitude</th>\n",
       "      <th>longitude</th>\n",
       "      <th>datetime</th>\n",
       "      <th>date</th>\n",
       "      <th>time</th>\n",
       "      <th>display_time</th>\n",
       "      <th>weekday</th>\n",
       "    </tr>\n",
       "  </thead>\n",
       "  <tbody>\n",
       "    <tr>\n",
       "      <th>100664</th>\n",
       "      <td>DAL89</td>\n",
       "      <td>0</td>\n",
       "      <td>12</td>\n",
       "      <td>132</td>\n",
       "      <td>23856f50</td>\n",
       "      <td>33.947285</td>\n",
       "      <td>-118.404953</td>\n",
       "      <td>2020-01-14 12:10:28-08:00</td>\n",
       "      <td>01/14/2020</td>\n",
       "      <td>12:10:28</td>\n",
       "      <td>12:10 PM</td>\n",
       "      <td>Tuesday</td>\n",
       "    </tr>\n",
       "    <tr>\n",
       "      <th>100663</th>\n",
       "      <td>DAL89</td>\n",
       "      <td>0</td>\n",
       "      <td>15</td>\n",
       "      <td>132</td>\n",
       "      <td>23856f50</td>\n",
       "      <td>33.947453</td>\n",
       "      <td>-118.405182</td>\n",
       "      <td>2020-01-14 12:10:16-08:00</td>\n",
       "      <td>01/14/2020</td>\n",
       "      <td>12:10:16</td>\n",
       "      <td>12:10 PM</td>\n",
       "      <td>Tuesday</td>\n",
       "    </tr>\n",
       "    <tr>\n",
       "      <th>100662</th>\n",
       "      <td>DAL89</td>\n",
       "      <td>0</td>\n",
       "      <td>19</td>\n",
       "      <td>118</td>\n",
       "      <td>23856f50</td>\n",
       "      <td>33.947697</td>\n",
       "      <td>-118.405479</td>\n",
       "      <td>2020-01-14 12:10:05-08:00</td>\n",
       "      <td>01/14/2020</td>\n",
       "      <td>12:10:05</td>\n",
       "      <td>12:10 PM</td>\n",
       "      <td>Tuesday</td>\n",
       "    </tr>\n",
       "    <tr>\n",
       "      <th>100661</th>\n",
       "      <td>DAL89</td>\n",
       "      <td>0</td>\n",
       "      <td>20</td>\n",
       "      <td>101</td>\n",
       "      <td>23856f50</td>\n",
       "      <td>33.947823</td>\n",
       "      <td>-118.405685</td>\n",
       "      <td>2020-01-14 12:09:58-08:00</td>\n",
       "      <td>01/14/2020</td>\n",
       "      <td>12:09:58</td>\n",
       "      <td>12:09 PM</td>\n",
       "      <td>Tuesday</td>\n",
       "    </tr>\n",
       "    <tr>\n",
       "      <th>100660</th>\n",
       "      <td>DAL89</td>\n",
       "      <td>0</td>\n",
       "      <td>21</td>\n",
       "      <td>84</td>\n",
       "      <td>23856f50</td>\n",
       "      <td>33.947857</td>\n",
       "      <td>-118.405907</td>\n",
       "      <td>2020-01-14 12:09:52-08:00</td>\n",
       "      <td>01/14/2020</td>\n",
       "      <td>12:09:52</td>\n",
       "      <td>12:09 PM</td>\n",
       "      <td>Tuesday</td>\n",
       "    </tr>\n",
       "  </tbody>\n",
       "</table>\n",
       "</div>"
      ],
      "text/plain": [
       "       callsign altitude speed direction  flightid   latitude   longitude  \\\n",
       "100664    DAL89        0    12       132  23856f50  33.947285 -118.404953   \n",
       "100663    DAL89        0    15       132  23856f50  33.947453 -118.405182   \n",
       "100662    DAL89        0    19       118  23856f50  33.947697 -118.405479   \n",
       "100661    DAL89        0    20       101  23856f50  33.947823 -118.405685   \n",
       "100660    DAL89        0    21        84  23856f50  33.947857 -118.405907   \n",
       "\n",
       "                        datetime        date      time display_time  weekday  \n",
       "100664 2020-01-14 12:10:28-08:00  01/14/2020  12:10:28     12:10 PM  Tuesday  \n",
       "100663 2020-01-14 12:10:16-08:00  01/14/2020  12:10:16     12:10 PM  Tuesday  \n",
       "100662 2020-01-14 12:10:05-08:00  01/14/2020  12:10:05     12:10 PM  Tuesday  \n",
       "100661 2020-01-14 12:09:58-08:00  01/14/2020  12:09:58     12:09 PM  Tuesday  \n",
       "100660 2020-01-14 12:09:52-08:00  01/14/2020  12:09:52     12:09 PM  Tuesday  "
      ]
     },
     "execution_count": 18,
     "metadata": {},
     "output_type": "execute_result"
    }
   ],
   "source": [
    "flights.head()"
   ]
  },
  {
   "cell_type": "markdown",
   "metadata": {},
   "source": [
    "### Export the dataframe as a CSV"
   ]
  },
  {
   "cell_type": "code",
   "execution_count": 19,
   "metadata": {},
   "outputs": [],
   "source": [
    "flights.to_csv('output/flights.csv')"
   ]
  },
  {
   "cell_type": "markdown",
   "metadata": {},
   "source": [
    "---"
   ]
  },
  {
   "cell_type": "markdown",
   "metadata": {},
   "source": [
    "## Geography"
   ]
  },
  {
   "cell_type": "markdown",
   "metadata": {},
   "source": [
    "### Let's convert our flights data to a geodataframe"
   ]
  },
  {
   "cell_type": "code",
   "execution_count": 20,
   "metadata": {},
   "outputs": [],
   "source": [
    "flights_geo = gpd.GeoDataFrame(flights, geometry=gpd.points_from_xy(flights['longitude'], flights['latitude']))"
   ]
  },
  {
   "cell_type": "code",
   "execution_count": 21,
   "metadata": {},
   "outputs": [
    {
     "data": {
      "text/plain": [
       "<matplotlib.axes._subplots.AxesSubplot at 0x13b326ba8>"
      ]
     },
     "execution_count": 21,
     "metadata": {},
     "output_type": "execute_result"
    },
    {
     "data": {
      "image/png": "[encoded data removed]",
      "text/plain": [
       "<Figure size 432x288 with 1 Axes>"
      ]
     },
     "metadata": {
      "needs_background": "light"
     },
     "output_type": "display_data"
    }
   ],
   "source": [
    "flights_geo.plot()"
   ]
  },
  {
   "cell_type": "markdown",
   "metadata": {},
   "source": [
    "### We're going to need to clip the flights to a SoCal extent"
   ]
  },
  {
   "cell_type": "code",
   "execution_count": 22,
   "metadata": {},
   "outputs": [],
   "source": [
    "california = gpd.read_file('input/calif.geojson')\n",
    "cali_gdf = gpd.GeoDataFrame(california)"
   ]
  },
  {
   "cell_type": "markdown",
   "metadata": {},
   "source": [
    "### Add a dummy buffer around the state so we don't clip flights over the ocean south of Malibu"
   ]
  },
  {
   "cell_type": "code",
   "execution_count": 23,
   "metadata": {},
   "outputs": [],
   "source": [
    "cali_gdf['geometry'] = cali_gdf['geometry'].buffer(3)"
   ]
  },
  {
   "cell_type": "code",
   "execution_count": 24,
   "metadata": {},
   "outputs": [
    {
     "data": {
      "text/plain": [
       "<matplotlib.axes._subplots.AxesSubplot at 0x13e23bb00>"
      ]
     },
     "execution_count": 24,
     "metadata": {},
     "output_type": "execute_result"
    },
    {
     "data": {
      "image/png": "[encoded data removed]",
      "text/plain": [
       "<Figure size 432x288 with 1 Axes>"
      ]
     },
     "metadata": {
      "needs_background": "light"
     },
     "output_type": "display_data"
    }
   ],
   "source": [
    "# so janky\n",
    "cali_gdf.plot()"
   ]
  },
  {
   "cell_type": "markdown",
   "metadata": {},
   "source": [
    "### Clip the flight points to Cali because hemispheres are hard"
   ]
  },
  {
   "cell_type": "code",
   "execution_count": 25,
   "metadata": {},
   "outputs": [],
   "source": [
    "clipped_points = gpd.sjoin(flights_geo, cali_gdf, op='intersects')"
   ]
  },
  {
   "cell_type": "code",
   "execution_count": 26,
   "metadata": {},
   "outputs": [
    {
     "data": {
      "text/plain": [
       "<matplotlib.axes._subplots.AxesSubplot at 0x13e2549b0>"
      ]
     },
     "execution_count": 26,
     "metadata": {},
     "output_type": "execute_result"
    },
    {
     "data": {
      "image/png": "[encoded data removed]",
      "text/plain": [
       "<Figure size 432x288 with 1 Axes>"
      ]
     },
     "metadata": {
      "needs_background": "light"
     },
     "output_type": "display_data"
    }
   ],
   "source": [
    "clipped_points.plot()"
   ]
  },
  {
   "cell_type": "markdown",
   "metadata": {},
   "source": [
    "### We need flight paths. Convert to points to linestring"
   ]
  },
  {
   "cell_type": "code",
   "execution_count": 27,
   "metadata": {},
   "outputs": [],
   "source": [
    "flights_geo_line = clipped_points.groupby('flightid')['geometry']\\\n",
    "    .apply(lambda x: LineString(x.tolist()) if x.size > 1 else x.tolist())"
   ]
  },
  {
   "cell_type": "code",
   "execution_count": 28,
   "metadata": {},
   "outputs": [],
   "source": [
    "flights_geo_line = gpd.GeoDataFrame(flights_geo_line, geometry='geometry').reset_index()"
   ]
  },
  {
   "cell_type": "code",
   "execution_count": 29,
   "metadata": {},
   "outputs": [
    {
     "data": {
      "text/html": [
       "<div>\n",
       "<style scoped>\n",
       "    .dataframe tbody tr th:only-of-type {\n",
       "        vertical-align: middle;\n",
       "    }\n",
       "\n",
       "    .dataframe tbody tr th {\n",
       "        vertical-align: top;\n",
       "    }\n",
       "\n",
       "    .dataframe thead th {\n",
       "        text-align: right;\n",
       "    }\n",
       "</style>\n",
       "<table border=\"1\" class=\"dataframe\">\n",
       "  <thead>\n",
       "    <tr style=\"text-align: right;\">\n",
       "      <th></th>\n",
       "      <th>flightid</th>\n",
       "      <th>geometry</th>\n",
       "    </tr>\n",
       "  </thead>\n",
       "  <tbody>\n",
       "    <tr>\n",
       "      <th>0</th>\n",
       "      <td>1f2e4d5f</td>\n",
       "      <td>LINESTRING (-126.741287 43.15538, -126.607147 ...</td>\n",
       "    </tr>\n",
       "    <tr>\n",
       "      <th>1</th>\n",
       "      <td>1f337e97</td>\n",
       "      <td>LINESTRING (-126.676483 43.472492, -126.599449...</td>\n",
       "    </tr>\n",
       "    <tr>\n",
       "      <th>2</th>\n",
       "      <td>1f366087</td>\n",
       "      <td>LINESTRING (-122.375267 44.910782, -122.340744...</td>\n",
       "    </tr>\n",
       "    <tr>\n",
       "      <th>3</th>\n",
       "      <td>1f39007e</td>\n",
       "      <td>LINESTRING (-126.857216 43.252899, -126.738083...</td>\n",
       "    </tr>\n",
       "    <tr>\n",
       "      <th>4</th>\n",
       "      <td>1f3dcc94</td>\n",
       "      <td>LINESTRING (-122.871422 44.918976, -122.804375...</td>\n",
       "    </tr>\n",
       "  </tbody>\n",
       "</table>\n",
       "</div>"
      ],
      "text/plain": [
       "   flightid                                           geometry\n",
       "0  1f2e4d5f  LINESTRING (-126.741287 43.15538, -126.607147 ...\n",
       "1  1f337e97  LINESTRING (-126.676483 43.472492, -126.599449...\n",
       "2  1f366087  LINESTRING (-122.375267 44.910782, -122.340744...\n",
       "3  1f39007e  LINESTRING (-126.857216 43.252899, -126.738083...\n",
       "4  1f3dcc94  LINESTRING (-122.871422 44.918976, -122.804375..."
      ]
     },
     "execution_count": 29,
     "metadata": {},
     "output_type": "execute_result"
    }
   ],
   "source": [
    "flights_geo_line.head()"
   ]
  },
  {
   "cell_type": "markdown",
   "metadata": {},
   "source": [
    "### Remove anomalous flights"
   ]
  },
  {
   "cell_type": "code",
   "execution_count": 30,
   "metadata": {},
   "outputs": [],
   "source": [
    "flights_geo_line = flights_geo_line.drop([31, 231])"
   ]
  },
  {
   "cell_type": "code",
   "execution_count": 31,
   "metadata": {},
   "outputs": [
    {
     "data": {
      "text/plain": [
       "<matplotlib.axes._subplots.AxesSubplot at 0x1397cdc18>"
      ]
     },
     "execution_count": 31,
     "metadata": {},
     "output_type": "execute_result"
    },
    {
     "data": {
      "image/png": "[encoded data removed]",
      "text/plain": [
       "<Figure size 432x288 with 1 Axes>"
      ]
     },
     "metadata": {
      "needs_background": "light"
     },
     "output_type": "display_data"
    }
   ],
   "source": [
    "flights_geo_line.plot()"
   ]
  },
  {
   "cell_type": "code",
   "execution_count": 32,
   "metadata": {},
   "outputs": [],
   "source": [
    "flights_geo.to_file('output/flights_geo.geojson', driver='GeoJSON')"
   ]
  },
  {
   "cell_type": "code",
   "execution_count": 33,
   "metadata": {},
   "outputs": [],
   "source": [
    "flights_geo_line.to_file('output/flights_geo_line.geojson', driver='GeoJSON')"
   ]
  },
  {
   "cell_type": "code",
   "execution_count": 35,
   "metadata": {},
   "outputs": [
    {
     "name": "stderr",
     "output_type": "stream",
     "text": [
      "//anaconda3/lib/python3.7/site-packages/geopandas/geodataframe.py:471: UserWarning: Boolean Series key will be reindexed to match DataFrame index.\n",
      "  result = super(GeoDataFrame, self).__getitem__(key)\n"
     ]
    }
   ],
   "source": [
    "flights_geo_delta = flights_geo_line[flights_geo['flightid'] == '23856f50']"
   ]
  },
  {
   "cell_type": "code",
   "execution_count": null,
   "metadata": {},
   "outputs": [],
   "source": [
    "flights_geo_line_delta = flights_geo_line_cali[flights_geo_line['flightid'] == '23856f50']"
   ]
  },
  {
   "cell_type": "code",
   "execution_count": null,
   "metadata": {},
   "outputs": [],
   "source": [
    "flights_geo_line_delta.to_file('output/flights_geo_line_delta.geojson', driver='GeoJSON')"
   ]
  },
  {
   "cell_type": "code",
   "execution_count": null,
   "metadata": {},
   "outputs": [],
   "source": [
    "flights_geo_line_delta.plot()"
   ]
  },
  {
   "cell_type": "code",
   "execution_count": null,
   "metadata": {},
   "outputs": [],
   "source": [
    "flights_geo_delta.to_file('output/flights_geo_delta.geojson', driver='GeoJSON')"
   ]
  },
  {
   "cell_type": "code",
   "execution_count": null,
   "metadata": {},
   "outputs": [],
   "source": [
    "delta_89_gas_flight.to_csv('output/delta_89_gas_flight.csv')"
   ]
  },
  {
   "cell_type": "code",
   "execution_count": null,
   "metadata": {},
   "outputs": [],
   "source": [
    "delta_89_gas_flight.to_file('output/delta_89_gas_flight.geojson', driver='GeoJSON')"
   ]
  }
 ],
 "metadata": {
  "kernelspec": {
   "display_name": "Python 3",
   "language": "python",
   "name": "python3"
  },
  "language_info": {
   "codemirror_mode": {
    "name": "ipython",
    "version": 3
   },
   "file_extension": ".py",
   "mimetype": "text/x-python",
   "name": "python",
   "nbconvert_exporter": "python",
   "pygments_lexer": "ipython3",
   "version": "3.7.3"
  }
 },
 "nbformat": 4,
 "nbformat_minor": 2
}
