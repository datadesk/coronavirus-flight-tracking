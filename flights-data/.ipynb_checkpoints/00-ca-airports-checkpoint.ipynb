{
 "cells": [
  {
   "cell_type": "markdown",
   "metadata": {},
   "source": [
    "# Processing CA airports"
   ]
  },
  {
   "cell_type": "markdown",
   "metadata": {},
   "source": [
    "### Load Python tools"
   ]
  },
  {
   "cell_type": "code",
   "execution_count": 2,
   "metadata": {},
   "outputs": [
    {
     "data": {
      "text/plain": [
       "ThemeRegistry.enable('latimes')"
      ]
     },
     "execution_count": 2,
     "metadata": {},
     "output_type": "execute_result"
    }
   ],
   "source": [
    "import pandas as pd\n",
    "import geopandas as gpd\n",
    "import matplotlib\n",
    "import matplotlib.pyplot as plt\n",
    "import altair as alt\n",
    "from altair_saver import save\n",
    "import geojson\n",
    "import json\n",
    "import altair_latimes as lat\n",
    "alt.themes.register('latimes', lat.theme)\n",
    "alt.themes.enable('latimes')"
   ]
  },
  {
   "cell_type": "markdown",
   "metadata": {},
   "source": [
    "## Read airports geo file"
   ]
  },
  {
   "cell_type": "code",
   "execution_count": 85,
   "metadata": {},
   "outputs": [],
   "source": [
    "# https://gis.data.ca.gov/datasets/6a152cc396434c989adb89fb3132bc41_0\n",
    "url = 'https://opendata.arcgis.com/datasets/6a152cc396434c989adb89fb3132bc41_0.geojson'"
   ]
  },
  {
   "cell_type": "code",
   "execution_count": 88,
   "metadata": {},
   "outputs": [],
   "source": [
    "airports = gpd.read_file(url)"
   ]
  },
  {
   "cell_type": "code",
   "execution_count": 89,
   "metadata": {},
   "outputs": [
    {
     "data": {
      "text/html": [
       "<div>\n",
       "<style scoped>\n",
       "    .dataframe tbody tr th:only-of-type {\n",
       "        vertical-align: middle;\n",
       "    }\n",
       "\n",
       "    .dataframe tbody tr th {\n",
       "        vertical-align: top;\n",
       "    }\n",
       "\n",
       "    .dataframe thead th {\n",
       "        text-align: right;\n",
       "    }\n",
       "</style>\n",
       "<table border=\"1\" class=\"dataframe\">\n",
       "  <thead>\n",
       "    <tr style=\"text-align: right;\">\n",
       "      <th></th>\n",
       "      <th>OBJECTID</th>\n",
       "      <th>OBJECTID_1</th>\n",
       "      <th>OBJECTID_2</th>\n",
       "      <th>FACILITY</th>\n",
       "      <th>MAPLABEL</th>\n",
       "      <th>AIRPORTID</th>\n",
       "      <th>CITY</th>\n",
       "      <th>COUNTY</th>\n",
       "      <th>FNCTNLCLSS</th>\n",
       "      <th>CLASSCODE</th>\n",
       "      <th>...</th>\n",
       "      <th>LONGDD</th>\n",
       "      <th>LATDMS</th>\n",
       "      <th>PMTLAT</th>\n",
       "      <th>LONGDMS</th>\n",
       "      <th>ARPLATDMS</th>\n",
       "      <th>ARPLONGDMS</th>\n",
       "      <th>ARPLATS</th>\n",
       "      <th>ARPLONGS</th>\n",
       "      <th>PMTLONG</th>\n",
       "      <th>geometry</th>\n",
       "    </tr>\n",
       "  </thead>\n",
       "  <tbody>\n",
       "    <tr>\n",
       "      <td>0</td>\n",
       "      <td>1</td>\n",
       "      <td>25</td>\n",
       "      <td>25</td>\n",
       "      <td>ADIN AIRPORT</td>\n",
       "      <td>ADIN</td>\n",
       "      <td>A26</td>\n",
       "      <td>Adin</td>\n",
       "      <td>Modoc</td>\n",
       "      <td>Limited Use</td>\n",
       "      <td>5</td>\n",
       "      <td>...</td>\n",
       "      <td>-120.954389</td>\n",
       "      <td>41-11-09.607N</td>\n",
       "      <td>41-11-10N</td>\n",
       "      <td>120-57-07.881W</td>\n",
       "      <td>41-11-11.4000N</td>\n",
       "      <td>120-57-15.8000W</td>\n",
       "      <td>148271.4000N</td>\n",
       "      <td>435435.8000W</td>\n",
       "      <td>120-57-08W</td>\n",
       "      <td>POINT (-120.95439 41.18650)</td>\n",
       "    </tr>\n",
       "    <tr>\n",
       "      <td>1</td>\n",
       "      <td>2</td>\n",
       "      <td>110</td>\n",
       "      <td>115</td>\n",
       "      <td>AGUA CALIENTE SPRINGS AIRPORT</td>\n",
       "      <td>AGUA CALIENTE SPRINGS</td>\n",
       "      <td>L54</td>\n",
       "      <td>Agua Caliente Springs</td>\n",
       "      <td>San Diego</td>\n",
       "      <td>Limited Use</td>\n",
       "      <td>5</td>\n",
       "      <td>...</td>\n",
       "      <td>-116.294722</td>\n",
       "      <td>32-57-00.180N</td>\n",
       "      <td>32-57-20N</td>\n",
       "      <td>116-17-36.047W</td>\n",
       "      <td>32-57-20.5000N</td>\n",
       "      <td>116-17-41.0000W</td>\n",
       "      <td>118640.5000N</td>\n",
       "      <td>418661.0000W</td>\n",
       "      <td>116-17-41W</td>\n",
       "      <td>POINT (-116.29472 32.95569)</td>\n",
       "    </tr>\n",
       "    <tr>\n",
       "      <td>2</td>\n",
       "      <td>3</td>\n",
       "      <td>114</td>\n",
       "      <td>120</td>\n",
       "      <td>AGUA DULCE AIRPARK</td>\n",
       "      <td>AGUA DULCE</td>\n",
       "      <td>L70</td>\n",
       "      <td>Agua Dulce</td>\n",
       "      <td>Los Angeles</td>\n",
       "      <td>Limited Use</td>\n",
       "      <td>5</td>\n",
       "      <td>...</td>\n",
       "      <td>-118.314644</td>\n",
       "      <td>34-30-14.972N</td>\n",
       "      <td>34-30-15N</td>\n",
       "      <td>118-18-46.282W</td>\n",
       "      <td>34-30-09.2500N</td>\n",
       "      <td>118-18-52.7200W</td>\n",
       "      <td>124209.2500N</td>\n",
       "      <td>425932.7200W</td>\n",
       "      <td>118-18-46W</td>\n",
       "      <td>POINT (-118.31464 34.50257)</td>\n",
       "    </tr>\n",
       "    <tr>\n",
       "      <td>3</td>\n",
       "      <td>4</td>\n",
       "      <td>130</td>\n",
       "      <td>137</td>\n",
       "      <td>ALPINE COUNTY AIRPORT</td>\n",
       "      <td>ALPINE COUNTY</td>\n",
       "      <td>M45</td>\n",
       "      <td>Markleeville</td>\n",
       "      <td>Alpine</td>\n",
       "      <td>Limited Use</td>\n",
       "      <td>5</td>\n",
       "      <td>...</td>\n",
       "      <td>-119.767056</td>\n",
       "      <td>38-44-05.100N</td>\n",
       "      <td>38-44-05N</td>\n",
       "      <td>119-46-01.400W</td>\n",
       "      <td>38-44-05.1000N</td>\n",
       "      <td>119-46-01.4000W</td>\n",
       "      <td>139445.1000N</td>\n",
       "      <td>431161.4000W</td>\n",
       "      <td>119-46-01W</td>\n",
       "      <td>POINT (-119.76706 38.73475)</td>\n",
       "    </tr>\n",
       "    <tr>\n",
       "      <td>4</td>\n",
       "      <td>5</td>\n",
       "      <td>29</td>\n",
       "      <td>29</td>\n",
       "      <td>ALTURAS MUNICIPAL AIRPORT</td>\n",
       "      <td>ALTURAS MUNI</td>\n",
       "      <td>AAT</td>\n",
       "      <td>Alturas</td>\n",
       "      <td>Modoc</td>\n",
       "      <td>Community</td>\n",
       "      <td>4</td>\n",
       "      <td>...</td>\n",
       "      <td>-120.565389</td>\n",
       "      <td>41-28-58.800N</td>\n",
       "      <td>41-28-59N</td>\n",
       "      <td>120-33-55.300W</td>\n",
       "      <td>41-28-58.7000N</td>\n",
       "      <td>120-33-55.4000W</td>\n",
       "      <td>149338.7000N</td>\n",
       "      <td>434035.4000W</td>\n",
       "      <td>120-33-55W</td>\n",
       "      <td>POINT (-120.56539 41.48297)</td>\n",
       "    </tr>\n",
       "  </tbody>\n",
       "</table>\n",
       "<p>5 rows × 29 columns</p>\n",
       "</div>"
      ],
      "text/plain": [
       "   OBJECTID  OBJECTID_1  OBJECTID_2                       FACILITY  \\\n",
       "0         1          25          25                   ADIN AIRPORT   \n",
       "1         2         110         115  AGUA CALIENTE SPRINGS AIRPORT   \n",
       "2         3         114         120             AGUA DULCE AIRPARK   \n",
       "3         4         130         137          ALPINE COUNTY AIRPORT   \n",
       "4         5          29          29      ALTURAS MUNICIPAL AIRPORT   \n",
       "\n",
       "                MAPLABEL AIRPORTID                   CITY       COUNTY  \\\n",
       "0                   ADIN       A26                   Adin        Modoc   \n",
       "1  AGUA CALIENTE SPRINGS       L54  Agua Caliente Springs    San Diego   \n",
       "2             AGUA DULCE       L70             Agua Dulce  Los Angeles   \n",
       "3          ALPINE COUNTY       M45           Markleeville       Alpine   \n",
       "4           ALTURAS MUNI       AAT                Alturas        Modoc   \n",
       "\n",
       "    FNCTNLCLSS  CLASSCODE  ...      LONGDD         LATDMS     PMTLAT  \\\n",
       "0  Limited Use          5  ... -120.954389  41-11-09.607N  41-11-10N   \n",
       "1  Limited Use          5  ... -116.294722  32-57-00.180N  32-57-20N   \n",
       "2  Limited Use          5  ... -118.314644  34-30-14.972N  34-30-15N   \n",
       "3  Limited Use          5  ... -119.767056  38-44-05.100N  38-44-05N   \n",
       "4    Community          4  ... -120.565389  41-28-58.800N  41-28-59N   \n",
       "\n",
       "          LONGDMS       ARPLATDMS       ARPLONGDMS       ARPLATS  \\\n",
       "0  120-57-07.881W  41-11-11.4000N  120-57-15.8000W  148271.4000N   \n",
       "1  116-17-36.047W  32-57-20.5000N  116-17-41.0000W  118640.5000N   \n",
       "2  118-18-46.282W  34-30-09.2500N  118-18-52.7200W  124209.2500N   \n",
       "3  119-46-01.400W  38-44-05.1000N  119-46-01.4000W  139445.1000N   \n",
       "4  120-33-55.300W  41-28-58.7000N  120-33-55.4000W  149338.7000N   \n",
       "\n",
       "       ARPLONGS     PMTLONG                     geometry  \n",
       "0  435435.8000W  120-57-08W  POINT (-120.95439 41.18650)  \n",
       "1  418661.0000W  116-17-41W  POINT (-116.29472 32.95569)  \n",
       "2  425932.7200W  118-18-46W  POINT (-118.31464 34.50257)  \n",
       "3  431161.4000W  119-46-01W  POINT (-119.76706 38.73475)  \n",
       "4  434035.4000W  120-33-55W  POINT (-120.56539 41.48297)  \n",
       "\n",
       "[5 rows x 29 columns]"
      ]
     },
     "execution_count": 89,
     "metadata": {},
     "output_type": "execute_result"
    }
   ],
   "source": [
    "airports.head()"
   ]
  },
  {
   "cell_type": "code",
   "execution_count": 90,
   "metadata": {},
   "outputs": [
    {
     "data": {
      "text/plain": [
       "<matplotlib.axes._subplots.AxesSubplot at 0x12208e0d0>"
      ]
     },
     "execution_count": 90,
     "metadata": {},
     "output_type": "execute_result"
    },
    {
     "data": {
      "image/png": "[encoded data removed]",
      "text/plain": [
       "<Figure size 432x288 with 1 Axes>"
      ]
     },
     "metadata": {
      "needs_background": "light"
     },
     "output_type": "display_data"
    }
   ],
   "source": [
    "airports.plot()"
   ]
  },
  {
   "cell_type": "code",
   "execution_count": 91,
   "metadata": {},
   "outputs": [],
   "source": [
    "airports['MAPLABEL'] = airports['MAPLABEL']\\\n",
    "    .str.replace('INT\\'L','', regex=False).str.replace(' -139','', regex=False)"
   ]
  },
  {
   "cell_type": "code",
   "execution_count": 92,
   "metadata": {},
   "outputs": [],
   "source": [
    "socal = ['Los Angeles', 'Ventura', 'San Bernardino','Riverside', 'Orange']\n",
    "bayarea = ['Alameda', 'Contra Costa', 'Marin', 'Napa', \\\n",
    "           'San Francisco', 'San Mateo', 'Santa Clara', 'Solano', 'Sonoma']"
   ]
  },
  {
   "cell_type": "code",
   "execution_count": null,
   "metadata": {},
   "outputs": [],
   "source": [
    "socal_airports = airports[(airports['COUNTY'].isin(socal)) &\\\n",
    "                         (airports['FNCTNLCLSS'] == 'Commercial/Primary')]"
   ]
  },
  {
   "cell_type": "code",
   "execution_count": 100,
   "metadata": {},
   "outputs": [
    {
     "data": {
      "text/plain": [
       "<matplotlib.axes._subplots.AxesSubplot at 0x122791790>"
      ]
     },
     "execution_count": 100,
     "metadata": {},
     "output_type": "execute_result"
    },
    {
     "data": {
      "image/png": "[encoded data removed]",
      "text/plain": [
       "<Figure size 432x288 with 1 Axes>"
      ]
     },
     "metadata": {
      "needs_background": "light"
     },
     "output_type": "display_data"
    }
   ],
   "source": [
    "socal_airports.plot()"
   ]
  },
  {
   "cell_type": "code",
   "execution_count": null,
   "metadata": {},
   "outputs": [],
   "source": [
    "bayarea_airports = airports[(airports['COUNTY'].isin(bayarea)) &\\\n",
    "                         (airports['FNCTNLCLSS'] == 'Commercial/Primary')]"
   ]
  },
  {
   "cell_type": "code",
   "execution_count": 99,
   "metadata": {},
   "outputs": [
    {
     "data": {
      "text/plain": [
       "<matplotlib.axes._subplots.AxesSubplot at 0x12277cbd0>"
      ]
     },
     "execution_count": 99,
     "metadata": {},
     "output_type": "execute_result"
    },
    {
     "data": {
      "image/png": "[encoded data removed]",
      "text/plain": [
       "<Figure size 432x288 with 1 Axes>"
      ]
     },
     "metadata": {
      "needs_background": "light"
     },
     "output_type": "display_data"
    }
   ],
   "source": [
    "bayarea_airports.plot()"
   ]
  },
  {
   "cell_type": "code",
   "execution_count": 95,
   "metadata": {},
   "outputs": [
    {
     "data": {
      "text/plain": [
       "['BUR', 'SNA', 'LGB', 'LAX', 'ONT', 'PSP']"
      ]
     },
     "execution_count": 95,
     "metadata": {},
     "output_type": "execute_result"
    }
   ],
   "source": [
    "socal_airports.AIRPORTID.tolist()"
   ]
  },
  {
   "cell_type": "code",
   "execution_count": 96,
   "metadata": {},
   "outputs": [
    {
     "data": {
      "text/plain": [
       "['CCR', 'STS', 'OAK', 'SFO', 'SJC']"
      ]
     },
     "execution_count": 96,
     "metadata": {},
     "output_type": "execute_result"
    }
   ],
   "source": [
    "bayarea_airports.AIRPORTID.tolist()"
   ]
  },
  {
   "cell_type": "code",
   "execution_count": 97,
   "metadata": {},
   "outputs": [
    {
     "data": {
      "text/html": [
       "<div>\n",
       "<style scoped>\n",
       "    .dataframe tbody tr th:only-of-type {\n",
       "        vertical-align: middle;\n",
       "    }\n",
       "\n",
       "    .dataframe tbody tr th {\n",
       "        vertical-align: top;\n",
       "    }\n",
       "\n",
       "    .dataframe thead th {\n",
       "        text-align: right;\n",
       "    }\n",
       "</style>\n",
       "<table border=\"1\" class=\"dataframe\">\n",
       "  <thead>\n",
       "    <tr style=\"text-align: right;\">\n",
       "      <th></th>\n",
       "      <th>OBJECTID</th>\n",
       "      <th>OBJECTID_1</th>\n",
       "      <th>OBJECTID_2</th>\n",
       "      <th>FACILITY</th>\n",
       "      <th>MAPLABEL</th>\n",
       "      <th>AIRPORTID</th>\n",
       "      <th>CITY</th>\n",
       "      <th>COUNTY</th>\n",
       "      <th>FNCTNLCLSS</th>\n",
       "      <th>CLASSCODE</th>\n",
       "      <th>...</th>\n",
       "      <th>LONGDD</th>\n",
       "      <th>LATDMS</th>\n",
       "      <th>PMTLAT</th>\n",
       "      <th>LONGDMS</th>\n",
       "      <th>ARPLATDMS</th>\n",
       "      <th>ARPLONGDMS</th>\n",
       "      <th>ARPLATS</th>\n",
       "      <th>ARPLONGS</th>\n",
       "      <th>PMTLONG</th>\n",
       "      <th>geometry</th>\n",
       "    </tr>\n",
       "  </thead>\n",
       "  <tbody>\n",
       "    <tr>\n",
       "      <td>20</td>\n",
       "      <td>21</td>\n",
       "      <td>41</td>\n",
       "      <td>42</td>\n",
       "      <td>BOB HOPE AIRPORT</td>\n",
       "      <td>BOB HOPE</td>\n",
       "      <td>BUR</td>\n",
       "      <td>Burbank</td>\n",
       "      <td>Los Angeles</td>\n",
       "      <td>Commercial/Primary</td>\n",
       "      <td>1</td>\n",
       "      <td>...</td>\n",
       "      <td>-118.358667</td>\n",
       "      <td>34-12-02.400N</td>\n",
       "      <td>34-12-02N</td>\n",
       "      <td>118-21-31.200W</td>\n",
       "      <td>34-12-02.4000N</td>\n",
       "      <td>118-21-31.2000W</td>\n",
       "      <td>123122.4000N</td>\n",
       "      <td>426091.2000W</td>\n",
       "      <td>118-21-31W</td>\n",
       "      <td>POINT (-118.35867 34.20067)</td>\n",
       "    </tr>\n",
       "    <tr>\n",
       "      <td>101</td>\n",
       "      <td>102</td>\n",
       "      <td>215</td>\n",
       "      <td>225</td>\n",
       "      <td>JOHN WAYNE AIRPORT, ORANGE CO.</td>\n",
       "      <td>JOHN WAYNE</td>\n",
       "      <td>SNA</td>\n",
       "      <td>Santa Ana</td>\n",
       "      <td>Orange</td>\n",
       "      <td>Commercial/Primary</td>\n",
       "      <td>1</td>\n",
       "      <td>...</td>\n",
       "      <td>-117.868222</td>\n",
       "      <td>33-40-32.371N</td>\n",
       "      <td>33-40-32N</td>\n",
       "      <td>117-52-05.601W</td>\n",
       "      <td>33-40-32.4000N</td>\n",
       "      <td>117-52-05.6000W</td>\n",
       "      <td>121232.4000N</td>\n",
       "      <td>424325.6000W</td>\n",
       "      <td>117-52-06W</td>\n",
       "      <td>POINT (-117.86822 33.67567)</td>\n",
       "    </tr>\n",
       "    <tr>\n",
       "      <td>115</td>\n",
       "      <td>116</td>\n",
       "      <td>124</td>\n",
       "      <td>131</td>\n",
       "      <td>LONG BEACH AIRPORT DAUGHERTY FIELD</td>\n",
       "      <td>LONG BEACH</td>\n",
       "      <td>LGB</td>\n",
       "      <td>Long Beach</td>\n",
       "      <td>Los Angeles</td>\n",
       "      <td>Commercial/Primary</td>\n",
       "      <td>1</td>\n",
       "      <td>...</td>\n",
       "      <td>-118.151651</td>\n",
       "      <td>33-49-03.800N</td>\n",
       "      <td>33-49-04N</td>\n",
       "      <td>118-09-05.800W</td>\n",
       "      <td>33-49-03.9975N</td>\n",
       "      <td>118-09-05.9436W</td>\n",
       "      <td>121743.9975N</td>\n",
       "      <td>425345.9436W</td>\n",
       "      <td>118-09-06W</td>\n",
       "      <td>POINT (-118.15165 33.81778)</td>\n",
       "    </tr>\n",
       "    <tr>\n",
       "      <td>117</td>\n",
       "      <td>118</td>\n",
       "      <td>123</td>\n",
       "      <td>130</td>\n",
       "      <td>LOS ANGELES INTERNATIONAL AIRPORT</td>\n",
       "      <td>LOS ANGELES</td>\n",
       "      <td>LAX</td>\n",
       "      <td>Los Angeles</td>\n",
       "      <td>Los Angeles</td>\n",
       "      <td>Commercial/Primary</td>\n",
       "      <td>1</td>\n",
       "      <td>...</td>\n",
       "      <td>-118.407161</td>\n",
       "      <td>33-56-33.130N</td>\n",
       "      <td>33-56-33N</td>\n",
       "      <td>118-24-29.068W</td>\n",
       "      <td>33-56-32.9838N</td>\n",
       "      <td>118-24-29.0462W</td>\n",
       "      <td>122192.9838N</td>\n",
       "      <td>426269.0462W</td>\n",
       "      <td>118-24-29W</td>\n",
       "      <td>POINT (-118.40716 33.94252)</td>\n",
       "    </tr>\n",
       "    <tr>\n",
       "      <td>149</td>\n",
       "      <td>150</td>\n",
       "      <td>182</td>\n",
       "      <td>191</td>\n",
       "      <td>ONTARIO INTERNATIONAL AIRPORT</td>\n",
       "      <td>ONTARIO</td>\n",
       "      <td>ONT</td>\n",
       "      <td>Ontario</td>\n",
       "      <td>San Bernardino</td>\n",
       "      <td>Commercial/Primary</td>\n",
       "      <td>1</td>\n",
       "      <td>...</td>\n",
       "      <td>-117.601194</td>\n",
       "      <td>34-03-21.600N</td>\n",
       "      <td>34-03-22N</td>\n",
       "      <td>117-36-04.300W</td>\n",
       "      <td>34-03-21.6000N</td>\n",
       "      <td>117-36-04.3000W</td>\n",
       "      <td>122601.6000N</td>\n",
       "      <td>423364.3000W</td>\n",
       "      <td>117-36-04W</td>\n",
       "      <td>POINT (-117.60119 34.05600)</td>\n",
       "    </tr>\n",
       "    <tr>\n",
       "      <td>152</td>\n",
       "      <td>153</td>\n",
       "      <td>188</td>\n",
       "      <td>198</td>\n",
       "      <td>PALM SPRINGS INTERNATIONAL AIRPORT</td>\n",
       "      <td>PALM SPRINGS</td>\n",
       "      <td>PSP</td>\n",
       "      <td>Palm Springs</td>\n",
       "      <td>Riverside</td>\n",
       "      <td>Commercial/Primary</td>\n",
       "      <td>1</td>\n",
       "      <td>...</td>\n",
       "      <td>-116.506694</td>\n",
       "      <td>33-49-45.176N</td>\n",
       "      <td>33-49-45N</td>\n",
       "      <td>116-30-22.511W</td>\n",
       "      <td>33-49-46.8000N</td>\n",
       "      <td>116-30-24.1000W</td>\n",
       "      <td>121786.8000N</td>\n",
       "      <td>419424.1000W</td>\n",
       "      <td>116-30-23W</td>\n",
       "      <td>POINT (-116.50669 33.82967)</td>\n",
       "    </tr>\n",
       "  </tbody>\n",
       "</table>\n",
       "<p>6 rows × 29 columns</p>\n",
       "</div>"
      ],
      "text/plain": [
       "     OBJECTID  OBJECTID_1  OBJECTID_2                            FACILITY  \\\n",
       "20         21          41          42                    BOB HOPE AIRPORT   \n",
       "101       102         215         225      JOHN WAYNE AIRPORT, ORANGE CO.   \n",
       "115       116         124         131  LONG BEACH AIRPORT DAUGHERTY FIELD   \n",
       "117       118         123         130   LOS ANGELES INTERNATIONAL AIRPORT   \n",
       "149       150         182         191       ONTARIO INTERNATIONAL AIRPORT   \n",
       "152       153         188         198  PALM SPRINGS INTERNATIONAL AIRPORT   \n",
       "\n",
       "          MAPLABEL AIRPORTID          CITY          COUNTY  \\\n",
       "20        BOB HOPE       BUR       Burbank     Los Angeles   \n",
       "101     JOHN WAYNE       SNA     Santa Ana          Orange   \n",
       "115     LONG BEACH       LGB    Long Beach     Los Angeles   \n",
       "117   LOS ANGELES        LAX   Los Angeles     Los Angeles   \n",
       "149       ONTARIO        ONT       Ontario  San Bernardino   \n",
       "152  PALM SPRINGS        PSP  Palm Springs       Riverside   \n",
       "\n",
       "             FNCTNLCLSS  CLASSCODE  ...      LONGDD         LATDMS     PMTLAT  \\\n",
       "20   Commercial/Primary          1  ... -118.358667  34-12-02.400N  34-12-02N   \n",
       "101  Commercial/Primary          1  ... -117.868222  33-40-32.371N  33-40-32N   \n",
       "115  Commercial/Primary          1  ... -118.151651  33-49-03.800N  33-49-04N   \n",
       "117  Commercial/Primary          1  ... -118.407161  33-56-33.130N  33-56-33N   \n",
       "149  Commercial/Primary          1  ... -117.601194  34-03-21.600N  34-03-22N   \n",
       "152  Commercial/Primary          1  ... -116.506694  33-49-45.176N  33-49-45N   \n",
       "\n",
       "            LONGDMS       ARPLATDMS       ARPLONGDMS       ARPLATS  \\\n",
       "20   118-21-31.200W  34-12-02.4000N  118-21-31.2000W  123122.4000N   \n",
       "101  117-52-05.601W  33-40-32.4000N  117-52-05.6000W  121232.4000N   \n",
       "115  118-09-05.800W  33-49-03.9975N  118-09-05.9436W  121743.9975N   \n",
       "117  118-24-29.068W  33-56-32.9838N  118-24-29.0462W  122192.9838N   \n",
       "149  117-36-04.300W  34-03-21.6000N  117-36-04.3000W  122601.6000N   \n",
       "152  116-30-22.511W  33-49-46.8000N  116-30-24.1000W  121786.8000N   \n",
       "\n",
       "         ARPLONGS     PMTLONG                     geometry  \n",
       "20   426091.2000W  118-21-31W  POINT (-118.35867 34.20067)  \n",
       "101  424325.6000W  117-52-06W  POINT (-117.86822 33.67567)  \n",
       "115  425345.9436W  118-09-06W  POINT (-118.15165 33.81778)  \n",
       "117  426269.0462W  118-24-29W  POINT (-118.40716 33.94252)  \n",
       "149  423364.3000W  117-36-04W  POINT (-117.60119 34.05600)  \n",
       "152  419424.1000W  116-30-23W  POINT (-116.50669 33.82967)  \n",
       "\n",
       "[6 rows x 29 columns]"
      ]
     },
     "execution_count": 97,
     "metadata": {},
     "output_type": "execute_result"
    }
   ],
   "source": [
    "socal_airports.head(20)"
   ]
  },
  {
   "cell_type": "code",
   "execution_count": 98,
   "metadata": {},
   "outputs": [],
   "source": [
    "socal_airports.to_file('/Users/mhustiles/data/data/GIS/california/\\\n",
    "CA_Airport_Boundaries/socal_airports.geojson', driver='GeoJSON')"
   ]
  },
  {
   "cell_type": "code",
   "execution_count": null,
   "metadata": {},
   "outputs": [],
   "source": []
  },
  {
   "cell_type": "code",
   "execution_count": null,
   "metadata": {},
   "outputs": [],
   "source": []
  }
 ],
 "metadata": {
  "kernelspec": {
   "display_name": "Python 3",
   "language": "python",
   "name": "python3"
  },
  "language_info": {
   "codemirror_mode": {
    "name": "ipython",
    "version": 3
   },
   "file_extension": ".py",
   "mimetype": "text/x-python",
   "name": "python",
   "nbconvert_exporter": "python",
   "pygments_lexer": "ipython3",
   "version": "3.7.4"
  }
 },
 "nbformat": 4,
 "nbformat_minor": 4
}
