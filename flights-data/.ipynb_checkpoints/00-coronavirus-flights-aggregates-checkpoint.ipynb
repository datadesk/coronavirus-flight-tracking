{
 "cells": [
  {
   "cell_type": "markdown",
   "metadata": {},
   "source": [
    "# Processing airport changes during outbreak of COVID-19"
   ]
  },
  {
   "cell_type": "markdown",
   "metadata": {},
   "source": [
    "### Load Python tools"
   ]
  },
  {
   "cell_type": "code",
   "execution_count": 1,
   "metadata": {},
   "outputs": [
    {
     "data": {
      "text/plain": [
       "ThemeRegistry.enable('latimes')"
      ]
     },
     "execution_count": 1,
     "metadata": {},
     "output_type": "execute_result"
    }
   ],
   "source": [
    "import pandas as pd\n",
    "import geopandas as gpd\n",
    "import matplotlib\n",
    "import matplotlib.pyplot as plt\n",
    "import geojson\n",
    "import openpyxl\n",
    "import altair as alt\n",
    "from altair_saver import save\n",
    "import lxml\n",
    "import requests\n",
    "from shapely.geometry import Point, LineString\n",
    "import altair_latimes as lat\n",
    "alt.themes.register('latimes', lat.theme)\n",
    "alt.themes.enable('latimes')"
   ]
  },
  {
   "cell_type": "markdown",
   "metadata": {},
   "source": [
    "### Read airport data"
   ]
  },
  {
   "cell_type": "code",
   "execution_count": 2,
   "metadata": {},
   "outputs": [],
   "source": [
    "# https://datahub.io/core/airport-codes#data\n",
    "airports = pd.read_csv('input/airport-codes_csv.csv', encoding='latin-1')"
   ]
  },
  {
   "cell_type": "markdown",
   "metadata": {},
   "source": [
    "### Split coordinates"
   ]
  },
  {
   "cell_type": "code",
   "execution_count": 3,
   "metadata": {},
   "outputs": [],
   "source": [
    "airports['coordinates'] = airports.coordinates.str.replace('(', '').str.replace(')', '')\n",
    "\n",
    "lat = []\n",
    "lon = []\n",
    "\n",
    "for row in airports['coordinates']:\n",
    "    try:\n",
    "        lat.append(row.split(',')[1])\n",
    "        lon.append(row.split(',')[0])\n",
    "    except:\n",
    "        lat.append(np.NaN)\n",
    "        lon.append(np.NaN)\n",
    "\n",
    "airports['latitude'] = lat\n",
    "airports['longitude'] = lon\n",
    "airports['latitude'] = airports['latitude'].astype(float)\n",
    "airports['longitude'] = airports['longitude'].astype(float)"
   ]
  },
  {
   "cell_type": "markdown",
   "metadata": {},
   "source": [
    "### Convert to geodataframe"
   ]
  },
  {
   "cell_type": "code",
   "execution_count": 4,
   "metadata": {},
   "outputs": [],
   "source": [
    "# airports_geo = gpd.GeoDataFrame(\n",
    "#     airports, geometry=gpd.points_from_xy(airports.longitude, airports.latitude))"
   ]
  },
  {
   "cell_type": "markdown",
   "metadata": {},
   "source": [
    "### Just the 'large' airports"
   ]
  },
  {
   "cell_type": "code",
   "execution_count": 5,
   "metadata": {},
   "outputs": [],
   "source": [
    "# large = airports_geo[airports_geo['type'] == 'large_airport']"
   ]
  },
  {
   "cell_type": "code",
   "execution_count": 6,
   "metadata": {},
   "outputs": [],
   "source": [
    "# large.plot()"
   ]
  },
  {
   "cell_type": "markdown",
   "metadata": {},
   "source": [
    "---"
   ]
  },
  {
   "cell_type": "markdown",
   "metadata": {},
   "source": [
    "## Load flightradar24 airport data"
   ]
  },
  {
   "cell_type": "code",
   "execution_count": 7,
   "metadata": {},
   "outputs": [],
   "source": [
    "cols_to_use = ['date', 'airport', 'scheduled', 'departed']"
   ]
  },
  {
   "cell_type": "markdown",
   "metadata": {},
   "source": [
    "### USA flights"
   ]
  },
  {
   "cell_type": "code",
   "execution_count": 8,
   "metadata": {},
   "outputs": [],
   "source": [
    "usa_src = pd.read_csv('./coronavirus/US-CAN Airports Scheduled vs Actual-1.csv',\\\n",
    "                      names=cols_to_use)"
   ]
  },
  {
   "cell_type": "markdown",
   "metadata": {},
   "source": [
    "### European flights"
   ]
  },
  {
   "cell_type": "code",
   "execution_count": 9,
   "metadata": {},
   "outputs": [],
   "source": [
    "europe_src = pd.read_csv('./coronavirus/European Departures Sched vs Actual 14Feb-8Apr.csv',\\\n",
    "                      header=0,names=cols_to_use)"
   ]
  },
  {
   "cell_type": "markdown",
   "metadata": {},
   "source": [
    "## Basic calculations for flight differences then and now"
   ]
  },
  {
   "cell_type": "markdown",
   "metadata": {},
   "source": [
    "### USA"
   ]
  },
  {
   "cell_type": "code",
   "execution_count": 10,
   "metadata": {},
   "outputs": [],
   "source": [
    "usa_src['diff'] = usa_src['departed'] -  usa_src['scheduled']\n",
    "usa_src['pct_diff'] = (((usa_src['departed'] - usa_src['scheduled'] )/\\\n",
    "                           usa_src['scheduled'])).round(2)"
   ]
  },
  {
   "cell_type": "markdown",
   "metadata": {},
   "source": [
    "### Europe"
   ]
  },
  {
   "cell_type": "code",
   "execution_count": 11,
   "metadata": {},
   "outputs": [],
   "source": [
    "europe_src['diff'] = europe_src['departed'] -  europe_src['scheduled']\n",
    "europe_src['pct_diff'] = (((europe_src['departed'] - europe_src['scheduled'] )/\\\n",
    "                           europe_src['scheduled'])).round(2)"
   ]
  },
  {
   "cell_type": "markdown",
   "metadata": {},
   "source": [
    "### LAX "
   ]
  },
  {
   "cell_type": "code",
   "execution_count": 12,
   "metadata": {},
   "outputs": [
    {
     "data": {
      "text/html": [
       "<div>\n",
       "<style scoped>\n",
       "    .dataframe tbody tr th:only-of-type {\n",
       "        vertical-align: middle;\n",
       "    }\n",
       "\n",
       "    .dataframe tbody tr th {\n",
       "        vertical-align: top;\n",
       "    }\n",
       "\n",
       "    .dataframe thead th {\n",
       "        text-align: right;\n",
       "    }\n",
       "</style>\n",
       "<table border=\"1\" class=\"dataframe\">\n",
       "  <thead>\n",
       "    <tr style=\"text-align: right;\">\n",
       "      <th></th>\n",
       "      <th>date</th>\n",
       "      <th>airport</th>\n",
       "      <th>scheduled</th>\n",
       "      <th>departed</th>\n",
       "      <th>diff</th>\n",
       "      <th>pct_diff</th>\n",
       "    </tr>\n",
       "  </thead>\n",
       "  <tbody>\n",
       "    <tr>\n",
       "      <td>13</td>\n",
       "      <td>2/17/20</td>\n",
       "      <td>LAX</td>\n",
       "      <td>894</td>\n",
       "      <td>872</td>\n",
       "      <td>-22</td>\n",
       "      <td>-0.02</td>\n",
       "    </tr>\n",
       "    <tr>\n",
       "      <td>41</td>\n",
       "      <td>2/18/20</td>\n",
       "      <td>LAX</td>\n",
       "      <td>947</td>\n",
       "      <td>915</td>\n",
       "      <td>-32</td>\n",
       "      <td>-0.03</td>\n",
       "    </tr>\n",
       "    <tr>\n",
       "      <td>69</td>\n",
       "      <td>2/19/20</td>\n",
       "      <td>LAX</td>\n",
       "      <td>912</td>\n",
       "      <td>888</td>\n",
       "      <td>-24</td>\n",
       "      <td>-0.03</td>\n",
       "    </tr>\n",
       "    <tr>\n",
       "      <td>97</td>\n",
       "      <td>2/20/20</td>\n",
       "      <td>LAX</td>\n",
       "      <td>925</td>\n",
       "      <td>905</td>\n",
       "      <td>-20</td>\n",
       "      <td>-0.02</td>\n",
       "    </tr>\n",
       "    <tr>\n",
       "      <td>125</td>\n",
       "      <td>2/21/20</td>\n",
       "      <td>LAX</td>\n",
       "      <td>936</td>\n",
       "      <td>911</td>\n",
       "      <td>-25</td>\n",
       "      <td>-0.03</td>\n",
       "    </tr>\n",
       "  </tbody>\n",
       "</table>\n",
       "</div>"
      ],
      "text/plain": [
       "        date airport  scheduled  departed  diff  pct_diff\n",
       "13   2/17/20     LAX        894       872   -22     -0.02\n",
       "41   2/18/20     LAX        947       915   -32     -0.03\n",
       "69   2/19/20     LAX        912       888   -24     -0.03\n",
       "97   2/20/20     LAX        925       905   -20     -0.02\n",
       "125  2/21/20     LAX        936       911   -25     -0.03"
      ]
     },
     "execution_count": 12,
     "metadata": {},
     "output_type": "execute_result"
    }
   ],
   "source": [
    "lax = usa_src[usa_src['airport'] == 'LAX']\n",
    "lax.head(5)"
   ]
  },
  {
   "cell_type": "code",
   "execution_count": 13,
   "metadata": {},
   "outputs": [],
   "source": [
    "lax.to_csv(\"output/lax_out.csv\")"
   ]
  },
  {
   "cell_type": "markdown",
   "metadata": {},
   "source": [
    "### LAX: Share of scheduled flights that didn't depart"
   ]
  },
  {
   "cell_type": "code",
   "execution_count": 14,
   "metadata": {},
   "outputs": [
    {
     "data": {
      "text/html": [
       "\n",
       "<div id=\"altair-viz-2a3e41ae4bd049afa66348b8436576d0\"></div>\n",
       "<script type=\"text/javascript\">\n",
       "  (function(spec, embedOpt){\n",
       "    const outputDiv = document.getElementById(\"altair-viz-2a3e41ae4bd049afa66348b8436576d0\");\n",
       "    const paths = {\n",
       "      \"vega\": \"https://cdn.jsdelivr.net/npm//vega@5?noext\",\n",
       "      \"vega-lib\": \"https://cdn.jsdelivr.net/npm//vega-lib?noext\",\n",
       "      \"vega-lite\": \"https://cdn.jsdelivr.net/npm//vega-lite@4.0.2?noext\",\n",
       "      \"vega-embed\": \"https://cdn.jsdelivr.net/npm//vega-embed@6?noext\",\n",
       "    };\n",
       "\n",
       "    function loadScript(lib) {\n",
       "      return new Promise(function(resolve, reject) {\n",
       "        var s = document.createElement('script');\n",
       "        s.src = paths[lib];\n",
       "        s.async = true;\n",
       "        s.onload = () => resolve(paths[lib]);\n",
       "        s.onerror = () => reject(`Error loading script: ${paths[lib]}`);\n",
       "        document.getElementsByTagName(\"head\")[0].appendChild(s);\n",
       "      });\n",
       "    }\n",
       "\n",
       "    function showError(err) {\n",
       "      outputDiv.innerHTML = `<div class=\"error\" style=\"color:red;\">${err}</div>`;\n",
       "      throw err;\n",
       "    }\n",
       "\n",
       "    function displayChart(vegaEmbed) {\n",
       "      vegaEmbed(outputDiv, spec, embedOpt)\n",
       "        .catch(err => showError(`Javascript Error: ${err.message}<br>This usually means there's a typo in your chart specification. See the javascript console for the full traceback.`));\n",
       "    }\n",
       "\n",
       "    if(typeof define === \"function\" && define.amd) {\n",
       "      requirejs.config({paths});\n",
       "      require([\"vega-embed\"], displayChart, err => showError(`Error loading script: ${err.message}`));\n",
       "    } else if (typeof vegaEmbed === \"function\") {\n",
       "      displayChart(vegaEmbed);\n",
       "    } else {\n",
       "      loadScript(\"vega\")\n",
       "        .then(() => loadScript(\"vega-lite\"))\n",
       "        .then(() => loadScript(\"vega-embed\"))\n",
       "        .catch(showError)\n",
       "        .then(() => displayChart(vegaEmbed));\n",
       "    }\n",
       "  })({\"config\": {\"view\": {\"width\": 800, \"height\": 450, \"strokeOpacity\": 0}, \"background\": \"#ffffff\", \"title\": {\"anchor\": \"start\", \"font\": \"Benton Gothic Bold, sans\", \"fontColor\": \"#000000\", \"fontSize\": 22, \"fontWeight\": \"normal\"}, \"arc\": {\"fill\": \"#82c6df\"}, \"area\": {\"fill\": \"#82c6df\"}, \"line\": {\"stroke\": \"#82c6df\", \"strokeWidth\": 3}, \"path\": {\"stroke\": \"#82c6df\"}, \"rect\": {\"fill\": \"#82c6df\"}, \"shape\": {\"stroke\": \"#82c6df\"}, \"bar\": {\"fill\": \"#82c6df\"}, \"point\": {\"stroke\": \"#82c6df\"}, \"symbol\": {\"fill\": \"#82c6df\", \"size\": 30}, \"axis\": {\"titleFont\": \"Benton Gothic Bold, sans\", \"titleFontSize\": 13, \"titleFontWeight\": \"normal\", \"labelFont\": \"Benton Gothic, sans\", \"labelFontSize\": 11.5, \"labelFontWeight\": \"normal\"}, \"axisX\": {\"labelAngle\": 0, \"labelPadding\": 4, \"tickSize\": 3}, \"axisY\": {\"labelBaseline\": \"middle\", \"maxExtent\": 45, \"minExtent\": 45, \"tickSize\": 2, \"titleAlign\": \"left\", \"titleAngle\": 0, \"titleX\": -45, \"titleY\": -11}, \"legend\": {\"titleFont\": \"Benton Gothic Bold, sans\", \"titleFontSize\": 13, \"titleFontWeight\": \"normal\", \"symbolType\": \"square\", \"labelFont\": \"Benton Gothic, sans\", \"labelFontSize\": 11.5}, \"range\": {\"category\": [\"#3580b1\", \"#ec8431\", \"#ab7fb4\", \"#c89d29\", \"#adc839\", \"#829eb1\"], \"diverging\": [\"#e68a4f\", \"#f4bb6a\", \"#f9e39c\", \"#dadfe2\", \"#a6b7c6\", \"#849eae\"], \"heatmap\": [\"#fbf2c7\", \"#f9e39c\", \"#f8d36e\", \"#f4bb6a\", \"#e68a4f\", \"#d15a40\", \"#ab4232\"], \"ordinal\": [\"#fbf2c7\", \"#f9e39c\", \"#f8d36e\", \"#f4bb6a\", \"#e68a4f\", \"#d15a40\", \"#ab4232\"], \"ramp\": [\"#fbf2c7\", \"#f9e39c\", \"#f8d36e\", \"#f4bb6a\", \"#e68a4f\", \"#d15a40\", \"#ab4232\"]}}, \"data\": {\"name\": \"data-39a0691b9987dd214bb222129c29b9fa\"}, \"mark\": {\"type\": \"bar\", \"color\": \"#3996b7\", \"size\": 11}, \"encoding\": {\"x\": {\"type\": \"temporal\", \"axis\": {\"format\": \"%b %d\", \"grid\": false, \"tickCount\": 6}, \"field\": \"date\", \"title\": \"\"}, \"y\": {\"type\": \"quantitative\", \"axis\": {\"domainOpacity\": 0, \"format\": \"%\", \"offset\": 3, \"tickCount\": 5, \"tickSize\": 0}, \"field\": \"pct_diff\", \"scale\": {\"domain\": [-1, 0]}, \"title\": \"\"}}, \"height\": 400, \"title\": \"\", \"width\": 800, \"$schema\": \"https://vega.github.io/schema/vega-lite/v4.0.2.json\", \"datasets\": {\"data-39a0691b9987dd214bb222129c29b9fa\": [{\"date\": \"2/17/20\", \"airport\": \"LAX\", \"scheduled\": 894, \"departed\": 872, \"diff\": -22, \"pct_diff\": -0.02}, {\"date\": \"2/18/20\", \"airport\": \"LAX\", \"scheduled\": 947, \"departed\": 915, \"diff\": -32, \"pct_diff\": -0.03}, {\"date\": \"2/19/20\", \"airport\": \"LAX\", \"scheduled\": 912, \"departed\": 888, \"diff\": -24, \"pct_diff\": -0.03}, {\"date\": \"2/20/20\", \"airport\": \"LAX\", \"scheduled\": 925, \"departed\": 905, \"diff\": -20, \"pct_diff\": -0.02}, {\"date\": \"2/21/20\", \"airport\": \"LAX\", \"scheduled\": 936, \"departed\": 911, \"diff\": -25, \"pct_diff\": -0.03}, {\"date\": \"2/22/20\", \"airport\": \"LAX\", \"scheduled\": 877, \"departed\": 862, \"diff\": -15, \"pct_diff\": -0.02}, {\"date\": \"2/23/20\", \"airport\": \"LAX\", \"scheduled\": 829, \"departed\": 812, \"diff\": -17, \"pct_diff\": -0.02}, {\"date\": \"2/24/20\", \"airport\": \"LAX\", \"scheduled\": 927, \"departed\": 894, \"diff\": -33, \"pct_diff\": -0.04}, {\"date\": \"2/25/20\", \"airport\": \"LAX\", \"scheduled\": 929, \"departed\": 903, \"diff\": -26, \"pct_diff\": -0.03}, {\"date\": \"2/26/20\", \"airport\": \"LAX\", \"scheduled\": 930, \"departed\": 898, \"diff\": -32, \"pct_diff\": -0.03}, {\"date\": \"2/27/20\", \"airport\": \"LAX\", \"scheduled\": 959, \"departed\": 923, \"diff\": -36, \"pct_diff\": -0.04}, {\"date\": \"2/28/20\", \"airport\": \"LAX\", \"scheduled\": 960, \"departed\": 922, \"diff\": -38, \"pct_diff\": -0.04}, {\"date\": \"2/29/20\", \"airport\": \"LAX\", \"scheduled\": 904, \"departed\": 870, \"diff\": -34, \"pct_diff\": -0.04}, {\"date\": \"3/1/20\", \"airport\": \"LAX\", \"scheduled\": 860, \"departed\": 828, \"diff\": -32, \"pct_diff\": -0.04}, {\"date\": \"3/2/20\", \"airport\": \"LAX\", \"scheduled\": 924, \"departed\": 892, \"diff\": -32, \"pct_diff\": -0.03}, {\"date\": \"3/3/20\", \"airport\": \"LAX\", \"scheduled\": 916, \"departed\": 891, \"diff\": -25, \"pct_diff\": -0.03}, {\"date\": \"3/4/20\", \"airport\": \"LAX\", \"scheduled\": 932, \"departed\": 901, \"diff\": -31, \"pct_diff\": -0.03}, {\"date\": \"3/5/20\", \"airport\": \"LAX\", \"scheduled\": 974, \"departed\": 925, \"diff\": -49, \"pct_diff\": -0.05}, {\"date\": \"3/6/20\", \"airport\": \"LAX\", \"scheduled\": 956, \"departed\": 919, \"diff\": -37, \"pct_diff\": -0.04}, {\"date\": \"3/7/20\", \"airport\": \"LAX\", \"scheduled\": 895, \"departed\": 868, \"diff\": -27, \"pct_diff\": -0.03}, {\"date\": \"3/8/20\", \"airport\": \"LAX\", \"scheduled\": 913, \"departed\": 882, \"diff\": -31, \"pct_diff\": -0.03}, {\"date\": \"3/9/20\", \"airport\": \"LAX\", \"scheduled\": 925, \"departed\": 885, \"diff\": -40, \"pct_diff\": -0.04}, {\"date\": \"3/10/20\", \"airport\": \"LAX\", \"scheduled\": 926, \"departed\": 894, \"diff\": -32, \"pct_diff\": -0.03}, {\"date\": \"3/11/20\", \"airport\": \"LAX\", \"scheduled\": 941, \"departed\": 895, \"diff\": -46, \"pct_diff\": -0.05}, {\"date\": \"3/12/20\", \"airport\": \"LAX\", \"scheduled\": 958, \"departed\": 913, \"diff\": -45, \"pct_diff\": -0.05}, {\"date\": \"3/13/20\", \"airport\": \"LAX\", \"scheduled\": 982, \"departed\": 937, \"diff\": -45, \"pct_diff\": -0.05}, {\"date\": \"3/14/20\", \"airport\": \"LAX\", \"scheduled\": 930, \"departed\": 875, \"diff\": -55, \"pct_diff\": -0.06}, {\"date\": \"3/15/20\", \"airport\": \"LAX\", \"scheduled\": 897, \"departed\": 839, \"diff\": -58, \"pct_diff\": -0.06}, {\"date\": \"3/16/20\", \"airport\": \"LAX\", \"scheduled\": 959, \"departed\": 886, \"diff\": -73, \"pct_diff\": -0.08}, {\"date\": \"3/17/20\", \"airport\": \"LAX\", \"scheduled\": 949, \"departed\": 866, \"diff\": -83, \"pct_diff\": -0.09}, {\"date\": \"3/18/20\", \"airport\": \"LAX\", \"scheduled\": 924, \"departed\": 811, \"diff\": -113, \"pct_diff\": -0.12}, {\"date\": \"3/19/20\", \"airport\": \"LAX\", \"scheduled\": 970, \"departed\": 808, \"diff\": -162, \"pct_diff\": -0.17}, {\"date\": \"3/20/20\", \"airport\": \"LAX\", \"scheduled\": 955, \"departed\": 781, \"diff\": -174, \"pct_diff\": -0.18}, {\"date\": \"3/21/20\", \"airport\": \"LAX\", \"scheduled\": 923, \"departed\": 672, \"diff\": -251, \"pct_diff\": -0.27}, {\"date\": \"3/22/20\", \"airport\": \"LAX\", \"scheduled\": 873, \"departed\": 620, \"diff\": -253, \"pct_diff\": -0.29}, {\"date\": \"3/23/20\", \"airport\": \"LAX\", \"scheduled\": 919, \"departed\": 589, \"diff\": -330, \"pct_diff\": -0.36}, {\"date\": \"3/24/20\", \"airport\": \"LAX\", \"scheduled\": 923, \"departed\": 565, \"diff\": -358, \"pct_diff\": -0.39}, {\"date\": \"3/25/20\", \"airport\": \"LAX\", \"scheduled\": 911, \"departed\": 539, \"diff\": -372, \"pct_diff\": -0.41}, {\"date\": \"3/26/20\", \"airport\": \"LAX\", \"scheduled\": 924, \"departed\": 520, \"diff\": -404, \"pct_diff\": -0.44}, {\"date\": \"3/27/20\", \"airport\": \"LAX\", \"scheduled\": 923, \"departed\": 461, \"diff\": -462, \"pct_diff\": -0.5}, {\"date\": \"3/28/20\", \"airport\": \"LAX\", \"scheduled\": 885, \"departed\": 470, \"diff\": -415, \"pct_diff\": -0.47}, {\"date\": \"3/29/20\", \"airport\": \"LAX\", \"scheduled\": 851, \"departed\": 451, \"diff\": -400, \"pct_diff\": -0.47}, {\"date\": \"3/30/20\", \"airport\": \"LAX\", \"scheduled\": 866, \"departed\": 431, \"diff\": -435, \"pct_diff\": -0.5}, {\"date\": \"3/31/20\", \"airport\": \"LAX\", \"scheduled\": 864, \"departed\": 441, \"diff\": -423, \"pct_diff\": -0.49}, {\"date\": \"4/1/20\", \"airport\": \"LAX\", \"scheduled\": 809, \"departed\": 422, \"diff\": -387, \"pct_diff\": -0.48}, {\"date\": \"4/2/20\", \"airport\": \"LAX\", \"scheduled\": 814, \"departed\": 368, \"diff\": -446, \"pct_diff\": -0.55}, {\"date\": \"4/3/20\", \"airport\": \"LAX\", \"scheduled\": 762, \"departed\": 348, \"diff\": -414, \"pct_diff\": -0.54}, {\"date\": \"4/4/20\", \"airport\": \"LAX\", \"scheduled\": 729, \"departed\": 340, \"diff\": -389, \"pct_diff\": -0.53}, {\"date\": \"4/5/20\", \"airport\": \"LAX\", \"scheduled\": 704, \"departed\": 339, \"diff\": -365, \"pct_diff\": -0.52}, {\"date\": \"4/6/20\", \"airport\": \"LAX\", \"scheduled\": 644, \"departed\": 324, \"diff\": -320, \"pct_diff\": -0.5}, {\"date\": \"4/7/20\", \"airport\": \"LAX\", \"scheduled\": 592, \"departed\": 314, \"diff\": -278, \"pct_diff\": -0.47}, {\"date\": \"4/8/20\", \"airport\": \"LAX\", \"scheduled\": 564, \"departed\": 258, \"diff\": -306, \"pct_diff\": -0.54}]}}, {\"mode\": \"vega-lite\"});\n",
       "</script>"
      ],
      "text/plain": [
       "alt.Chart(...)"
      ]
     },
     "execution_count": 14,
     "metadata": {},
     "output_type": "execute_result"
    }
   ],
   "source": [
    "lax_chart = alt.Chart(lax).mark_bar(size=11,color='#3996b7').encode(\n",
    "    x=alt.X('date:T', title='', axis=alt.Axis(grid=False,tickCount=6, format='%b %d')),\n",
    "    y=alt.Y('pct_diff:Q', title='', axis=alt.Axis(tickCount=5, offset=3,\\\n",
    "                            format='%', tickSize=0,domainOpacity=0), scale=alt.Scale(domain=(-1, 0)))\n",
    ").properties(width=800, height=400,\n",
    "    title=''\n",
    ")\n",
    "\n",
    "lax_chart.configure_view(strokeOpacity=0)"
   ]
  },
  {
   "cell_type": "markdown",
   "metadata": {},
   "source": [
    "### SFO"
   ]
  },
  {
   "cell_type": "code",
   "execution_count": 15,
   "metadata": {},
   "outputs": [
    {
     "data": {
      "text/html": [
       "<div>\n",
       "<style scoped>\n",
       "    .dataframe tbody tr th:only-of-type {\n",
       "        vertical-align: middle;\n",
       "    }\n",
       "\n",
       "    .dataframe tbody tr th {\n",
       "        vertical-align: top;\n",
       "    }\n",
       "\n",
       "    .dataframe thead th {\n",
       "        text-align: right;\n",
       "    }\n",
       "</style>\n",
       "<table border=\"1\" class=\"dataframe\">\n",
       "  <thead>\n",
       "    <tr style=\"text-align: right;\">\n",
       "      <th></th>\n",
       "      <th>date</th>\n",
       "      <th>airport</th>\n",
       "      <th>scheduled</th>\n",
       "      <th>departed</th>\n",
       "      <th>diff</th>\n",
       "      <th>pct_diff</th>\n",
       "    </tr>\n",
       "  </thead>\n",
       "  <tbody>\n",
       "    <tr>\n",
       "      <td>23</td>\n",
       "      <td>2/17/20</td>\n",
       "      <td>SFO</td>\n",
       "      <td>590</td>\n",
       "      <td>580</td>\n",
       "      <td>-10</td>\n",
       "      <td>-0.02</td>\n",
       "    </tr>\n",
       "    <tr>\n",
       "      <td>51</td>\n",
       "      <td>2/18/20</td>\n",
       "      <td>SFO</td>\n",
       "      <td>606</td>\n",
       "      <td>593</td>\n",
       "      <td>-13</td>\n",
       "      <td>-0.02</td>\n",
       "    </tr>\n",
       "    <tr>\n",
       "      <td>79</td>\n",
       "      <td>2/19/20</td>\n",
       "      <td>SFO</td>\n",
       "      <td>598</td>\n",
       "      <td>587</td>\n",
       "      <td>-11</td>\n",
       "      <td>-0.02</td>\n",
       "    </tr>\n",
       "    <tr>\n",
       "      <td>107</td>\n",
       "      <td>2/20/20</td>\n",
       "      <td>SFO</td>\n",
       "      <td>601</td>\n",
       "      <td>591</td>\n",
       "      <td>-10</td>\n",
       "      <td>-0.02</td>\n",
       "    </tr>\n",
       "    <tr>\n",
       "      <td>135</td>\n",
       "      <td>2/21/20</td>\n",
       "      <td>SFO</td>\n",
       "      <td>626</td>\n",
       "      <td>613</td>\n",
       "      <td>-13</td>\n",
       "      <td>-0.02</td>\n",
       "    </tr>\n",
       "  </tbody>\n",
       "</table>\n",
       "</div>"
      ],
      "text/plain": [
       "        date airport  scheduled  departed  diff  pct_diff\n",
       "23   2/17/20     SFO        590       580   -10     -0.02\n",
       "51   2/18/20     SFO        606       593   -13     -0.02\n",
       "79   2/19/20     SFO        598       587   -11     -0.02\n",
       "107  2/20/20     SFO        601       591   -10     -0.02\n",
       "135  2/21/20     SFO        626       613   -13     -0.02"
      ]
     },
     "execution_count": 15,
     "metadata": {},
     "output_type": "execute_result"
    }
   ],
   "source": [
    "sfo = usa_src[usa_src['airport'] == 'SFO']\n",
    "sfo.head(5)"
   ]
  },
  {
   "cell_type": "code",
   "execution_count": 16,
   "metadata": {},
   "outputs": [],
   "source": [
    "sfo.to_csv(\"output/sfo_out.csv\")"
   ]
  },
  {
   "cell_type": "markdown",
   "metadata": {},
   "source": [
    "### SFO: Share of scheduled flights that didn't depart"
   ]
  },
  {
   "cell_type": "code",
   "execution_count": 17,
   "metadata": {},
   "outputs": [
    {
     "data": {
      "text/html": [
       "\n",
       "<div id=\"altair-viz-bcc030eb2919444db01b543b55155eab\"></div>\n",
       "<script type=\"text/javascript\">\n",
       "  (function(spec, embedOpt){\n",
       "    const outputDiv = document.getElementById(\"altair-viz-bcc030eb2919444db01b543b55155eab\");\n",
       "    const paths = {\n",
       "      \"vega\": \"https://cdn.jsdelivr.net/npm//vega@5?noext\",\n",
       "      \"vega-lib\": \"https://cdn.jsdelivr.net/npm//vega-lib?noext\",\n",
       "      \"vega-lite\": \"https://cdn.jsdelivr.net/npm//vega-lite@4.0.2?noext\",\n",
       "      \"vega-embed\": \"https://cdn.jsdelivr.net/npm//vega-embed@6?noext\",\n",
       "    };\n",
       "\n",
       "    function loadScript(lib) {\n",
       "      return new Promise(function(resolve, reject) {\n",
       "        var s = document.createElement('script');\n",
       "        s.src = paths[lib];\n",
       "        s.async = true;\n",
       "        s.onload = () => resolve(paths[lib]);\n",
       "        s.onerror = () => reject(`Error loading script: ${paths[lib]}`);\n",
       "        document.getElementsByTagName(\"head\")[0].appendChild(s);\n",
       "      });\n",
       "    }\n",
       "\n",
       "    function showError(err) {\n",
       "      outputDiv.innerHTML = `<div class=\"error\" style=\"color:red;\">${err}</div>`;\n",
       "      throw err;\n",
       "    }\n",
       "\n",
       "    function displayChart(vegaEmbed) {\n",
       "      vegaEmbed(outputDiv, spec, embedOpt)\n",
       "        .catch(err => showError(`Javascript Error: ${err.message}<br>This usually means there's a typo in your chart specification. See the javascript console for the full traceback.`));\n",
       "    }\n",
       "\n",
       "    if(typeof define === \"function\" && define.amd) {\n",
       "      requirejs.config({paths});\n",
       "      require([\"vega-embed\"], displayChart, err => showError(`Error loading script: ${err.message}`));\n",
       "    } else if (typeof vegaEmbed === \"function\") {\n",
       "      displayChart(vegaEmbed);\n",
       "    } else {\n",
       "      loadScript(\"vega\")\n",
       "        .then(() => loadScript(\"vega-lite\"))\n",
       "        .then(() => loadScript(\"vega-embed\"))\n",
       "        .catch(showError)\n",
       "        .then(() => displayChart(vegaEmbed));\n",
       "    }\n",
       "  })({\"config\": {\"view\": {\"width\": 800, \"height\": 450, \"strokeOpacity\": 0}, \"background\": \"#ffffff\", \"title\": {\"anchor\": \"start\", \"font\": \"Benton Gothic Bold, sans\", \"fontColor\": \"#000000\", \"fontSize\": 22, \"fontWeight\": \"normal\"}, \"arc\": {\"fill\": \"#82c6df\"}, \"area\": {\"fill\": \"#82c6df\"}, \"line\": {\"stroke\": \"#82c6df\", \"strokeWidth\": 3}, \"path\": {\"stroke\": \"#82c6df\"}, \"rect\": {\"fill\": \"#82c6df\"}, \"shape\": {\"stroke\": \"#82c6df\"}, \"bar\": {\"fill\": \"#82c6df\"}, \"point\": {\"stroke\": \"#82c6df\"}, \"symbol\": {\"fill\": \"#82c6df\", \"size\": 30}, \"axis\": {\"titleFont\": \"Benton Gothic Bold, sans\", \"titleFontSize\": 13, \"titleFontWeight\": \"normal\", \"labelFont\": \"Benton Gothic, sans\", \"labelFontSize\": 11.5, \"labelFontWeight\": \"normal\"}, \"axisX\": {\"labelAngle\": 0, \"labelPadding\": 4, \"tickSize\": 3}, \"axisY\": {\"labelBaseline\": \"middle\", \"maxExtent\": 45, \"minExtent\": 45, \"tickSize\": 2, \"titleAlign\": \"left\", \"titleAngle\": 0, \"titleX\": -45, \"titleY\": -11}, \"legend\": {\"titleFont\": \"Benton Gothic Bold, sans\", \"titleFontSize\": 13, \"titleFontWeight\": \"normal\", \"symbolType\": \"square\", \"labelFont\": \"Benton Gothic, sans\", \"labelFontSize\": 11.5}, \"range\": {\"category\": [\"#3580b1\", \"#ec8431\", \"#ab7fb4\", \"#c89d29\", \"#adc839\", \"#829eb1\"], \"diverging\": [\"#e68a4f\", \"#f4bb6a\", \"#f9e39c\", \"#dadfe2\", \"#a6b7c6\", \"#849eae\"], \"heatmap\": [\"#fbf2c7\", \"#f9e39c\", \"#f8d36e\", \"#f4bb6a\", \"#e68a4f\", \"#d15a40\", \"#ab4232\"], \"ordinal\": [\"#fbf2c7\", \"#f9e39c\", \"#f8d36e\", \"#f4bb6a\", \"#e68a4f\", \"#d15a40\", \"#ab4232\"], \"ramp\": [\"#fbf2c7\", \"#f9e39c\", \"#f8d36e\", \"#f4bb6a\", \"#e68a4f\", \"#d15a40\", \"#ab4232\"]}}, \"data\": {\"name\": \"data-efb64ff08c936da1cd8c1dc7611a275f\"}, \"mark\": {\"type\": \"bar\", \"color\": \"#3996b7\", \"size\": 11}, \"encoding\": {\"x\": {\"type\": \"temporal\", \"axis\": {\"format\": \"%b. %-d\", \"grid\": false, \"tickCount\": 6}, \"field\": \"date\", \"title\": \"\"}, \"y\": {\"type\": \"quantitative\", \"axis\": {\"domainOpacity\": 0, \"format\": \"%\", \"tickCount\": 5, \"tickSize\": 0}, \"field\": \"pct_diff\", \"scale\": {\"domain\": [-0.8, 0]}, \"title\": \"\"}}, \"height\": 400, \"title\": \"\", \"width\": 800, \"$schema\": \"https://vega.github.io/schema/vega-lite/v4.0.2.json\", \"datasets\": {\"data-efb64ff08c936da1cd8c1dc7611a275f\": [{\"date\": \"2/17/20\", \"airport\": \"SFO\", \"scheduled\": 590, \"departed\": 580, \"diff\": -10, \"pct_diff\": -0.02}, {\"date\": \"2/18/20\", \"airport\": \"SFO\", \"scheduled\": 606, \"departed\": 593, \"diff\": -13, \"pct_diff\": -0.02}, {\"date\": \"2/19/20\", \"airport\": \"SFO\", \"scheduled\": 598, \"departed\": 587, \"diff\": -11, \"pct_diff\": -0.02}, {\"date\": \"2/20/20\", \"airport\": \"SFO\", \"scheduled\": 601, \"departed\": 591, \"diff\": -10, \"pct_diff\": -0.02}, {\"date\": \"2/21/20\", \"airport\": \"SFO\", \"scheduled\": 626, \"departed\": 613, \"diff\": -13, \"pct_diff\": -0.02}, {\"date\": \"2/22/20\", \"airport\": \"SFO\", \"scheduled\": 588, \"departed\": 577, \"diff\": -11, \"pct_diff\": -0.02}, {\"date\": \"2/23/20\", \"airport\": \"SFO\", \"scheduled\": 567, \"departed\": 549, \"diff\": -18, \"pct_diff\": -0.03}, {\"date\": \"2/24/20\", \"airport\": \"SFO\", \"scheduled\": 621, \"departed\": 609, \"diff\": -12, \"pct_diff\": -0.02}, {\"date\": \"2/25/20\", \"airport\": \"SFO\", \"scheduled\": 624, \"departed\": 607, \"diff\": -17, \"pct_diff\": -0.03}, {\"date\": \"2/26/20\", \"airport\": \"SFO\", \"scheduled\": 608, \"departed\": 594, \"diff\": -14, \"pct_diff\": -0.02}, {\"date\": \"2/27/20\", \"airport\": \"SFO\", \"scheduled\": 628, \"departed\": 611, \"diff\": -17, \"pct_diff\": -0.03}, {\"date\": \"2/28/20\", \"airport\": \"SFO\", \"scheduled\": 645, \"departed\": 632, \"diff\": -13, \"pct_diff\": -0.02}, {\"date\": \"2/29/20\", \"airport\": \"SFO\", \"scheduled\": 599, \"departed\": 589, \"diff\": -10, \"pct_diff\": -0.02}, {\"date\": \"3/1/20\", \"airport\": \"SFO\", \"scheduled\": 558, \"departed\": 545, \"diff\": -13, \"pct_diff\": -0.02}, {\"date\": \"3/2/20\", \"airport\": \"SFO\", \"scheduled\": 626, \"departed\": 610, \"diff\": -16, \"pct_diff\": -0.03}, {\"date\": \"3/3/20\", \"airport\": \"SFO\", \"scheduled\": 612, \"departed\": 596, \"diff\": -16, \"pct_diff\": -0.03}, {\"date\": \"3/4/20\", \"airport\": \"SFO\", \"scheduled\": 618, \"departed\": 605, \"diff\": -13, \"pct_diff\": -0.02}, {\"date\": \"3/5/20\", \"airport\": \"SFO\", \"scheduled\": 644, \"departed\": 612, \"diff\": -32, \"pct_diff\": -0.05}, {\"date\": \"3/6/20\", \"airport\": \"SFO\", \"scheduled\": 669, \"departed\": 643, \"diff\": -26, \"pct_diff\": -0.04}, {\"date\": \"3/7/20\", \"airport\": \"SFO\", \"scheduled\": 594, \"departed\": 577, \"diff\": -17, \"pct_diff\": -0.03}, {\"date\": \"3/8/20\", \"airport\": \"SFO\", \"scheduled\": 623, \"departed\": 600, \"diff\": -23, \"pct_diff\": -0.04}, {\"date\": \"3/9/20\", \"airport\": \"SFO\", \"scheduled\": 615, \"departed\": 601, \"diff\": -14, \"pct_diff\": -0.02}, {\"date\": \"3/10/20\", \"airport\": \"SFO\", \"scheduled\": 602, \"departed\": 586, \"diff\": -16, \"pct_diff\": -0.03}, {\"date\": \"3/11/20\", \"airport\": \"SFO\", \"scheduled\": 615, \"departed\": 592, \"diff\": -23, \"pct_diff\": -0.04}, {\"date\": \"3/12/20\", \"airport\": \"SFO\", \"scheduled\": 629, \"departed\": 609, \"diff\": -20, \"pct_diff\": -0.03}, {\"date\": \"3/13/20\", \"airport\": \"SFO\", \"scheduled\": 633, \"departed\": 609, \"diff\": -24, \"pct_diff\": -0.04}, {\"date\": \"3/14/20\", \"airport\": \"SFO\", \"scheduled\": 582, \"departed\": 560, \"diff\": -22, \"pct_diff\": -0.04}, {\"date\": \"3/15/20\", \"airport\": \"SFO\", \"scheduled\": 574, \"departed\": 545, \"diff\": -29, \"pct_diff\": -0.05}, {\"date\": \"3/16/20\", \"airport\": \"SFO\", \"scheduled\": 628, \"departed\": 587, \"diff\": -41, \"pct_diff\": -0.07}, {\"date\": \"3/17/20\", \"airport\": \"SFO\", \"scheduled\": 601, \"departed\": 562, \"diff\": -39, \"pct_diff\": -0.06}, {\"date\": \"3/18/20\", \"airport\": \"SFO\", \"scheduled\": 579, \"departed\": 516, \"diff\": -63, \"pct_diff\": -0.11}, {\"date\": \"3/19/20\", \"airport\": \"SFO\", \"scheduled\": 594, \"departed\": 487, \"diff\": -107, \"pct_diff\": -0.18}, {\"date\": \"3/20/20\", \"airport\": \"SFO\", \"scheduled\": 610, \"departed\": 494, \"diff\": -116, \"pct_diff\": -0.19}, {\"date\": \"3/21/20\", \"airport\": \"SFO\", \"scheduled\": 583, \"departed\": 412, \"diff\": -171, \"pct_diff\": -0.29}, {\"date\": \"3/22/20\", \"airport\": \"SFO\", \"scheduled\": 566, \"departed\": 357, \"diff\": -209, \"pct_diff\": -0.37}, {\"date\": \"3/23/20\", \"airport\": \"SFO\", \"scheduled\": 592, \"departed\": 347, \"diff\": -245, \"pct_diff\": -0.41}, {\"date\": \"3/24/20\", \"airport\": \"SFO\", \"scheduled\": 571, \"departed\": 306, \"diff\": -265, \"pct_diff\": -0.46}, {\"date\": \"3/25/20\", \"airport\": \"SFO\", \"scheduled\": 572, \"departed\": 301, \"diff\": -271, \"pct_diff\": -0.47}, {\"date\": \"3/26/20\", \"airport\": \"SFO\", \"scheduled\": 576, \"departed\": 271, \"diff\": -305, \"pct_diff\": -0.53}, {\"date\": \"3/27/20\", \"airport\": \"SFO\", \"scheduled\": 588, \"departed\": 262, \"diff\": -326, \"pct_diff\": -0.55}, {\"date\": \"3/28/20\", \"airport\": \"SFO\", \"scheduled\": 543, \"departed\": 249, \"diff\": -294, \"pct_diff\": -0.54}, {\"date\": \"3/29/20\", \"airport\": \"SFO\", \"scheduled\": 540, \"departed\": 248, \"diff\": -292, \"pct_diff\": -0.54}, {\"date\": \"3/30/20\", \"airport\": \"SFO\", \"scheduled\": 549, \"departed\": 231, \"diff\": -318, \"pct_diff\": -0.58}, {\"date\": \"3/31/20\", \"airport\": \"SFO\", \"scheduled\": 530, \"departed\": 253, \"diff\": -277, \"pct_diff\": -0.52}, {\"date\": \"4/1/20\", \"airport\": \"SFO\", \"scheduled\": 424, \"departed\": 195, \"diff\": -229, \"pct_diff\": -0.54}, {\"date\": \"4/2/20\", \"airport\": \"SFO\", \"scheduled\": 392, \"departed\": 131, \"diff\": -261, \"pct_diff\": -0.67}, {\"date\": \"4/3/20\", \"airport\": \"SFO\", \"scheduled\": 361, \"departed\": 146, \"diff\": -215, \"pct_diff\": -0.6}, {\"date\": \"4/4/20\", \"airport\": \"SFO\", \"scheduled\": 342, \"departed\": 151, \"diff\": -191, \"pct_diff\": -0.56}, {\"date\": \"4/5/20\", \"airport\": \"SFO\", \"scheduled\": 325, \"departed\": 140, \"diff\": -185, \"pct_diff\": -0.57}, {\"date\": \"4/6/20\", \"airport\": \"SFO\", \"scheduled\": 295, \"departed\": 152, \"diff\": -143, \"pct_diff\": -0.48}, {\"date\": \"4/7/20\", \"airport\": \"SFO\", \"scheduled\": 305, \"departed\": 144, \"diff\": -161, \"pct_diff\": -0.53}, {\"date\": \"4/8/20\", \"airport\": \"SFO\", \"scheduled\": 289, \"departed\": 131, \"diff\": -158, \"pct_diff\": -0.55}]}}, {\"mode\": \"vega-lite\"});\n",
       "</script>"
      ],
      "text/plain": [
       "alt.Chart(...)"
      ]
     },
     "execution_count": 17,
     "metadata": {},
     "output_type": "execute_result"
    }
   ],
   "source": [
    "sfo_chart = alt.Chart(sfo).mark_bar(size=11,color='#3996b7').encode(\n",
    "    x=alt.X('date:T', title='', axis=alt.Axis(grid=False,tickCount=6, format='%b. %-d')),\n",
    "    y=alt.Y('pct_diff:Q', title='', scale=alt.Scale(domain=(-.8, 0)), axis=alt.Axis(tickSize=0,domainOpacity=0, tickCount=5, format='%'))\n",
    ").properties(width=800, height=400,\n",
    "    title=''\n",
    ")\n",
    "\n",
    "sfo_chart.configure_view(strokeOpacity=0)"
   ]
  },
  {
   "cell_type": "markdown",
   "metadata": {},
   "source": [
    "### Merge with airports list to get metadata about each one"
   ]
  },
  {
   "cell_type": "code",
   "execution_count": 18,
   "metadata": {},
   "outputs": [],
   "source": [
    "usa_merge = usa_src.merge(airports, right_on='iata_code', left_on='airport', how='left')\n",
    "europe_merge = europe_src.merge(airports, right_on='iata_code', left_on='airport', how='left')"
   ]
  },
  {
   "cell_type": "markdown",
   "metadata": {},
   "source": [
    "---"
   ]
  },
  {
   "cell_type": "markdown",
   "metadata": {},
   "source": [
    "## Aggregate change at European and American airports"
   ]
  },
  {
   "cell_type": "code",
   "execution_count": 19,
   "metadata": {},
   "outputs": [],
   "source": [
    "d = dict.fromkeys(('scheduled', 'departed'), ['mean', 'sum'])"
   ]
  },
  {
   "cell_type": "markdown",
   "metadata": {},
   "source": [
    "### Change in average daily flights and total flights in the United States"
   ]
  },
  {
   "cell_type": "code",
   "execution_count": 20,
   "metadata": {},
   "outputs": [],
   "source": [
    "usa_agg = usa_merge.groupby('airport').agg(d).round(2).reset_index()"
   ]
  },
  {
   "cell_type": "code",
   "execution_count": 21,
   "metadata": {},
   "outputs": [],
   "source": [
    "usa_agg.columns = ['_'.join(col) for col in usa_agg.columns.values]"
   ]
  },
  {
   "cell_type": "code",
   "execution_count": 22,
   "metadata": {},
   "outputs": [
    {
     "data": {
      "text/html": [
       "<div>\n",
       "<style scoped>\n",
       "    .dataframe tbody tr th:only-of-type {\n",
       "        vertical-align: middle;\n",
       "    }\n",
       "\n",
       "    .dataframe tbody tr th {\n",
       "        vertical-align: top;\n",
       "    }\n",
       "\n",
       "    .dataframe thead th {\n",
       "        text-align: right;\n",
       "    }\n",
       "</style>\n",
       "<table border=\"1\" class=\"dataframe\">\n",
       "  <thead>\n",
       "    <tr style=\"text-align: right;\">\n",
       "      <th></th>\n",
       "      <th>airport_</th>\n",
       "      <th>scheduled_mean</th>\n",
       "      <th>scheduled_sum</th>\n",
       "      <th>departed_mean</th>\n",
       "      <th>departed_sum</th>\n",
       "    </tr>\n",
       "  </thead>\n",
       "  <tbody>\n",
       "    <tr>\n",
       "      <td>0</td>\n",
       "      <td>ATL</td>\n",
       "      <td>1218.04</td>\n",
       "      <td>63338</td>\n",
       "      <td>957.23</td>\n",
       "      <td>49776</td>\n",
       "    </tr>\n",
       "    <tr>\n",
       "      <td>1</td>\n",
       "      <td>BOS</td>\n",
       "      <td>582.48</td>\n",
       "      <td>30289</td>\n",
       "      <td>433.27</td>\n",
       "      <td>22530</td>\n",
       "    </tr>\n",
       "    <tr>\n",
       "      <td>2</td>\n",
       "      <td>BWI</td>\n",
       "      <td>334.44</td>\n",
       "      <td>17391</td>\n",
       "      <td>280.62</td>\n",
       "      <td>14592</td>\n",
       "    </tr>\n",
       "    <tr>\n",
       "      <td>3</td>\n",
       "      <td>CLT</td>\n",
       "      <td>801.29</td>\n",
       "      <td>41667</td>\n",
       "      <td>656.37</td>\n",
       "      <td>34131</td>\n",
       "    </tr>\n",
       "    <tr>\n",
       "      <td>4</td>\n",
       "      <td>DEN</td>\n",
       "      <td>860.08</td>\n",
       "      <td>44724</td>\n",
       "      <td>707.60</td>\n",
       "      <td>36795</td>\n",
       "    </tr>\n",
       "  </tbody>\n",
       "</table>\n",
       "</div>"
      ],
      "text/plain": [
       "  airport_  scheduled_mean  scheduled_sum  departed_mean  departed_sum\n",
       "0      ATL         1218.04          63338         957.23         49776\n",
       "1      BOS          582.48          30289         433.27         22530\n",
       "2      BWI          334.44          17391         280.62         14592\n",
       "3      CLT          801.29          41667         656.37         34131\n",
       "4      DEN          860.08          44724         707.60         36795"
      ]
     },
     "execution_count": 22,
     "metadata": {},
     "output_type": "execute_result"
    }
   ],
   "source": [
    "usa_agg.head()"
   ]
  },
  {
   "cell_type": "code",
   "execution_count": 23,
   "metadata": {},
   "outputs": [],
   "source": [
    "usa_agg['sum_diff'] = usa_agg.departed_sum - usa_agg.scheduled_sum\n",
    "usa_agg['pct_diff'] = (((europe_src['departed'] - europe_src['scheduled'] )/\\\n",
    "                           europe_src['scheduled'])).round(2)"
   ]
  },
  {
   "cell_type": "markdown",
   "metadata": {},
   "source": [
    "### Change in average daily flights and total flights in the Europe"
   ]
  },
  {
   "cell_type": "code",
   "execution_count": 24,
   "metadata": {},
   "outputs": [],
   "source": [
    "europe_agg = europe_src.groupby('airport').agg(d).round(2).reset_index()\n",
    "europe_agg.columns = ['_'.join(col) for col in europe_agg.columns.values]"
   ]
  },
  {
   "cell_type": "code",
   "execution_count": 25,
   "metadata": {},
   "outputs": [],
   "source": [
    "europe_agg['sum_diff'] = europe_agg.departed_sum - europe_agg.scheduled_sum\n",
    "europe_agg['pct_diff'] = (((europe_src['departed'] - europe_src['scheduled'] )/\\\n",
    "                           europe_src['scheduled'])).round(2)"
   ]
  },
  {
   "cell_type": "code",
   "execution_count": 26,
   "metadata": {},
   "outputs": [
    {
     "data": {
      "text/plain": [
       "['ATL',\n",
       " 'BOS',\n",
       " 'BWI',\n",
       " 'CLT',\n",
       " 'DEN',\n",
       " 'DFW',\n",
       " 'DTW',\n",
       " 'EWR',\n",
       " 'FLL',\n",
       " 'IAD',\n",
       " 'IAH',\n",
       " 'JFK',\n",
       " 'LAS',\n",
       " 'LAX',\n",
       " 'LGA',\n",
       " 'MCO',\n",
       " 'MIA',\n",
       " 'MSP',\n",
       " 'ORD',\n",
       " 'PHL',\n",
       " 'PHX',\n",
       " 'SAN',\n",
       " 'SEA',\n",
       " 'SFO',\n",
       " 'SLC',\n",
       " 'YUL',\n",
       " 'YVR',\n",
       " 'YYZ']"
      ]
     },
     "execution_count": 26,
     "metadata": {},
     "output_type": "execute_result"
    }
   ],
   "source": [
    "usa_agg.airport_.to_list()"
   ]
  },
  {
   "cell_type": "markdown",
   "metadata": {},
   "source": [
    "### Change by day in USA flights"
   ]
  },
  {
   "cell_type": "code",
   "execution_count": 27,
   "metadata": {},
   "outputs": [],
   "source": [
    "europe_date_agg = europe_merge.groupby('date').agg(d).round(2).reset_index()"
   ]
  },
  {
   "cell_type": "code",
   "execution_count": 28,
   "metadata": {},
   "outputs": [],
   "source": [
    "europe_date_agg.columns = ['_'.join(col) for col in europe_date_agg.columns.values]"
   ]
  },
  {
   "cell_type": "code",
   "execution_count": 29,
   "metadata": {},
   "outputs": [],
   "source": [
    "europe_date_agg['sum_diff'] = europe_date_agg.departed_sum - europe_date_agg.scheduled_sum\n",
    "europe_date_agg['pct_diff'] = (((europe_date_agg['departed_sum'] - europe_date_agg['scheduled_sum'] )/\\\n",
    "                           europe_date_agg['scheduled_sum'])).round(2)"
   ]
  },
  {
   "cell_type": "code",
   "execution_count": 30,
   "metadata": {},
   "outputs": [],
   "source": [
    "europe_date_agg_export = europe_date_agg[['date_', 'scheduled_sum', 'departed_sum', 'pct_diff']]"
   ]
  },
  {
   "cell_type": "code",
   "execution_count": 31,
   "metadata": {},
   "outputs": [],
   "source": [
    "europe_date_agg_export.to_csv('output/europe_date_agg_export.csv')"
   ]
  },
  {
   "cell_type": "code",
   "execution_count": 32,
   "metadata": {},
   "outputs": [
    {
     "data": {
      "text/html": [
       "\n",
       "<div id=\"altair-viz-51957f5a6c964aefb3d8e1b82dc3513f\"></div>\n",
       "<script type=\"text/javascript\">\n",
       "  (function(spec, embedOpt){\n",
       "    const outputDiv = document.getElementById(\"altair-viz-51957f5a6c964aefb3d8e1b82dc3513f\");\n",
       "    const paths = {\n",
       "      \"vega\": \"https://cdn.jsdelivr.net/npm//vega@5?noext\",\n",
       "      \"vega-lib\": \"https://cdn.jsdelivr.net/npm//vega-lib?noext\",\n",
       "      \"vega-lite\": \"https://cdn.jsdelivr.net/npm//vega-lite@4.0.2?noext\",\n",
       "      \"vega-embed\": \"https://cdn.jsdelivr.net/npm//vega-embed@6?noext\",\n",
       "    };\n",
       "\n",
       "    function loadScript(lib) {\n",
       "      return new Promise(function(resolve, reject) {\n",
       "        var s = document.createElement('script');\n",
       "        s.src = paths[lib];\n",
       "        s.async = true;\n",
       "        s.onload = () => resolve(paths[lib]);\n",
       "        s.onerror = () => reject(`Error loading script: ${paths[lib]}`);\n",
       "        document.getElementsByTagName(\"head\")[0].appendChild(s);\n",
       "      });\n",
       "    }\n",
       "\n",
       "    function showError(err) {\n",
       "      outputDiv.innerHTML = `<div class=\"error\" style=\"color:red;\">${err}</div>`;\n",
       "      throw err;\n",
       "    }\n",
       "\n",
       "    function displayChart(vegaEmbed) {\n",
       "      vegaEmbed(outputDiv, spec, embedOpt)\n",
       "        .catch(err => showError(`Javascript Error: ${err.message}<br>This usually means there's a typo in your chart specification. See the javascript console for the full traceback.`));\n",
       "    }\n",
       "\n",
       "    if(typeof define === \"function\" && define.amd) {\n",
       "      requirejs.config({paths});\n",
       "      require([\"vega-embed\"], displayChart, err => showError(`Error loading script: ${err.message}`));\n",
       "    } else if (typeof vegaEmbed === \"function\") {\n",
       "      displayChart(vegaEmbed);\n",
       "    } else {\n",
       "      loadScript(\"vega\")\n",
       "        .then(() => loadScript(\"vega-lite\"))\n",
       "        .then(() => loadScript(\"vega-embed\"))\n",
       "        .catch(showError)\n",
       "        .then(() => displayChart(vegaEmbed));\n",
       "    }\n",
       "  })({\"config\": {\"view\": {\"width\": 800, \"height\": 450, \"strokeOpacity\": 0}, \"background\": \"#ffffff\", \"title\": {\"anchor\": \"start\", \"font\": \"Benton Gothic Bold, sans\", \"fontColor\": \"#000000\", \"fontSize\": 22, \"fontWeight\": \"normal\"}, \"arc\": {\"fill\": \"#82c6df\"}, \"area\": {\"fill\": \"#82c6df\"}, \"line\": {\"stroke\": \"#82c6df\", \"strokeWidth\": 3}, \"path\": {\"stroke\": \"#82c6df\"}, \"rect\": {\"fill\": \"#82c6df\"}, \"shape\": {\"stroke\": \"#82c6df\"}, \"bar\": {\"fill\": \"#82c6df\"}, \"point\": {\"stroke\": \"#82c6df\"}, \"symbol\": {\"fill\": \"#82c6df\", \"size\": 30}, \"axis\": {\"titleFont\": \"Benton Gothic Bold, sans\", \"titleFontSize\": 13, \"titleFontWeight\": \"normal\", \"labelFont\": \"Benton Gothic, sans\", \"labelFontSize\": 11.5, \"labelFontWeight\": \"normal\"}, \"axisX\": {\"labelAngle\": 0, \"labelPadding\": 4, \"tickSize\": 3}, \"axisY\": {\"labelBaseline\": \"middle\", \"maxExtent\": 45, \"minExtent\": 45, \"tickSize\": 2, \"titleAlign\": \"left\", \"titleAngle\": 0, \"titleX\": -45, \"titleY\": -11}, \"legend\": {\"titleFont\": \"Benton Gothic Bold, sans\", \"titleFontSize\": 13, \"titleFontWeight\": \"normal\", \"symbolType\": \"square\", \"labelFont\": \"Benton Gothic, sans\", \"labelFontSize\": 11.5}, \"range\": {\"category\": [\"#3580b1\", \"#ec8431\", \"#ab7fb4\", \"#c89d29\", \"#adc839\", \"#829eb1\"], \"diverging\": [\"#e68a4f\", \"#f4bb6a\", \"#f9e39c\", \"#dadfe2\", \"#a6b7c6\", \"#849eae\"], \"heatmap\": [\"#fbf2c7\", \"#f9e39c\", \"#f8d36e\", \"#f4bb6a\", \"#e68a4f\", \"#d15a40\", \"#ab4232\"], \"ordinal\": [\"#fbf2c7\", \"#f9e39c\", \"#f8d36e\", \"#f4bb6a\", \"#e68a4f\", \"#d15a40\", \"#ab4232\"], \"ramp\": [\"#fbf2c7\", \"#f9e39c\", \"#f8d36e\", \"#f4bb6a\", \"#e68a4f\", \"#d15a40\", \"#ab4232\"]}}, \"data\": {\"name\": \"data-69ba102e6dc22980949ab6ceda37d1d1\"}, \"mark\": {\"type\": \"bar\", \"color\": \"#d9eff4\", \"size\": 6}, \"encoding\": {\"x\": {\"type\": \"temporal\", \"axis\": {\"format\": \"%b. %-d\", \"grid\": false, \"tickCount\": 3}, \"field\": \"date_\", \"title\": \"\"}, \"y\": {\"type\": \"quantitative\", \"axis\": {\"domainOpacity\": 0, \"format\": \"%\", \"gridColor\": \"#dddddd\", \"gridWidth\": 0.6, \"offset\": 3, \"tickCount\": 4, \"tickSize\": 0}, \"field\": \"pct_diff\", \"scale\": {\"domain\": [-1, 0]}, \"title\": \"\"}}, \"height\": 350, \"title\": \"\", \"width\": 500, \"$schema\": \"https://vega.github.io/schema/vega-lite/v4.0.2.json\", \"datasets\": {\"data-69ba102e6dc22980949ab6ceda37d1d1\": [{\"date_\": \"2/14/20\", \"scheduled_mean\": 337.19, \"scheduled_sum\": 10453, \"departed_mean\": 331.26, \"departed_sum\": 10269, \"sum_diff\": -184, \"pct_diff\": -0.02}, {\"date_\": \"2/15/20\", \"scheduled_mean\": 289.5, \"scheduled_sum\": 9264, \"departed_mean\": 279.09, \"departed_sum\": 8931, \"sum_diff\": -333, \"pct_diff\": -0.04}, {\"date_\": \"2/16/20\", \"scheduled_mean\": 337.56, \"scheduled_sum\": 10802, \"departed_mean\": 320.16, \"departed_sum\": 10245, \"sum_diff\": -557, \"pct_diff\": -0.05}, {\"date_\": \"2/17/20\", \"scheduled_mean\": 339.0, \"scheduled_sum\": 10848, \"departed_mean\": 329.88, \"departed_sum\": 10556, \"sum_diff\": -292, \"pct_diff\": -0.03}, {\"date_\": \"2/18/20\", \"scheduled_mean\": 309.78, \"scheduled_sum\": 9913, \"departed_mean\": 302.28, \"departed_sum\": 9673, \"sum_diff\": -240, \"pct_diff\": -0.02}, {\"date_\": \"2/19/20\", \"scheduled_mean\": 322.09, \"scheduled_sum\": 10307, \"departed_mean\": 312.38, \"departed_sum\": 9996, \"sum_diff\": -311, \"pct_diff\": -0.03}, {\"date_\": \"2/20/20\", \"scheduled_mean\": 336.91, \"scheduled_sum\": 10781, \"departed_mean\": 326.0, \"departed_sum\": 10432, \"sum_diff\": -349, \"pct_diff\": -0.03}, {\"date_\": \"2/21/20\", \"scheduled_mean\": 351.56, \"scheduled_sum\": 11250, \"departed_mean\": 343.75, \"departed_sum\": 11000, \"sum_diff\": -250, \"pct_diff\": -0.02}, {\"date_\": \"2/22/20\", \"scheduled_mean\": 295.19, \"scheduled_sum\": 9446, \"departed_mean\": 285.84, \"departed_sum\": 9147, \"sum_diff\": -299, \"pct_diff\": -0.03}, {\"date_\": \"2/23/20\", \"scheduled_mean\": 350.91, \"scheduled_sum\": 11229, \"departed_mean\": 323.22, \"departed_sum\": 10343, \"sum_diff\": -886, \"pct_diff\": -0.08}, {\"date_\": \"2/24/20\", \"scheduled_mean\": 352.19, \"scheduled_sum\": 11270, \"departed_mean\": 332.12, \"departed_sum\": 10628, \"sum_diff\": -642, \"pct_diff\": -0.06}, {\"date_\": \"2/25/20\", \"scheduled_mean\": 326.41, \"scheduled_sum\": 10445, \"departed_mean\": 301.12, \"departed_sum\": 9636, \"sum_diff\": -809, \"pct_diff\": -0.08}, {\"date_\": \"2/26/20\", \"scheduled_mean\": 339.34, \"scheduled_sum\": 10859, \"departed_mean\": 313.28, \"departed_sum\": 10025, \"sum_diff\": -834, \"pct_diff\": -0.08}, {\"date_\": \"2/27/20\", \"scheduled_mean\": 352.84, \"scheduled_sum\": 11291, \"departed_mean\": 323.25, \"departed_sum\": 10344, \"sum_diff\": -947, \"pct_diff\": -0.08}, {\"date_\": \"2/28/20\", \"scheduled_mean\": 365.12, \"scheduled_sum\": 11684, \"departed_mean\": 341.75, \"departed_sum\": 10936, \"sum_diff\": -748, \"pct_diff\": -0.06}, {\"date_\": \"2/29/20\", \"scheduled_mean\": 308.22, \"scheduled_sum\": 9863, \"departed_mean\": 282.12, \"departed_sum\": 9028, \"sum_diff\": -835, \"pct_diff\": -0.08}, {\"date_\": \"3/1/20\", \"scheduled_mean\": 349.78, \"scheduled_sum\": 11193, \"departed_mean\": 325.78, \"departed_sum\": 10425, \"sum_diff\": -768, \"pct_diff\": -0.07}, {\"date_\": \"3/10/20\", \"scheduled_mean\": 334.97, \"scheduled_sum\": 10719, \"departed_mean\": 263.78, \"departed_sum\": 8441, \"sum_diff\": -2278, \"pct_diff\": -0.21}, {\"date_\": \"3/11/20\", \"scheduled_mean\": 345.25, \"scheduled_sum\": 11048, \"departed_mean\": 261.19, \"departed_sum\": 8358, \"sum_diff\": -2690, \"pct_diff\": -0.24}, {\"date_\": \"3/12/20\", \"scheduled_mean\": 355.62, \"scheduled_sum\": 11380, \"departed_mean\": 272.41, \"departed_sum\": 8717, \"sum_diff\": -2663, \"pct_diff\": -0.23}, {\"date_\": \"3/13/20\", \"scheduled_mean\": 367.66, \"scheduled_sum\": 11765, \"departed_mean\": 279.31, \"departed_sum\": 8938, \"sum_diff\": -2827, \"pct_diff\": -0.24}, {\"date_\": \"3/14/20\", \"scheduled_mean\": 307.5, \"scheduled_sum\": 9840, \"departed_mean\": 220.56, \"departed_sum\": 7058, \"sum_diff\": -2782, \"pct_diff\": -0.28}, {\"date_\": \"3/15/20\", \"scheduled_mean\": 340.19, \"scheduled_sum\": 10886, \"departed_mean\": 239.66, \"departed_sum\": 7669, \"sum_diff\": -3217, \"pct_diff\": -0.3}, {\"date_\": \"3/16/20\", \"scheduled_mean\": 333.12, \"scheduled_sum\": 10660, \"departed_mean\": 203.41, \"departed_sum\": 6509, \"sum_diff\": -4151, \"pct_diff\": -0.39}, {\"date_\": \"3/17/20\", \"scheduled_mean\": 215.81, \"scheduled_sum\": 6906, \"departed_mean\": 109.41, \"departed_sum\": 3501, \"sum_diff\": -3405, \"pct_diff\": -0.49}, {\"date_\": \"3/18/20\", \"scheduled_mean\": 319.81, \"scheduled_sum\": 10234, \"departed_mean\": 137.53, \"departed_sum\": 4401, \"sum_diff\": -5833, \"pct_diff\": -0.57}, {\"date_\": \"3/19/20\", \"scheduled_mean\": 333.03, \"scheduled_sum\": 10657, \"departed_mean\": 127.47, \"departed_sum\": 4079, \"sum_diff\": -6578, \"pct_diff\": -0.62}, {\"date_\": \"3/2/20\", \"scheduled_mean\": 356.31, \"scheduled_sum\": 11402, \"departed_mean\": 330.97, \"departed_sum\": 10591, \"sum_diff\": -811, \"pct_diff\": -0.07}, {\"date_\": \"3/20/20\", \"scheduled_mean\": 168.88, \"scheduled_sum\": 5404, \"departed_mean\": 58.81, \"departed_sum\": 1882, \"sum_diff\": -3522, \"pct_diff\": -0.65}, {\"date_\": \"3/21/20\", \"scheduled_mean\": 282.38, \"scheduled_sum\": 9036, \"departed_mean\": 92.66, \"departed_sum\": 2965, \"sum_diff\": -6071, \"pct_diff\": -0.67}, {\"date_\": \"3/22/20\", \"scheduled_mean\": 310.16, \"scheduled_sum\": 9925, \"departed_mean\": 95.03, \"departed_sum\": 3041, \"sum_diff\": -6884, \"pct_diff\": -0.69}, {\"date_\": \"3/23/20\", \"scheduled_mean\": 288.78, \"scheduled_sum\": 9241, \"departed_mean\": 66.81, \"departed_sum\": 2138, \"sum_diff\": -7103, \"pct_diff\": -0.77}, {\"date_\": \"3/24/20\", \"scheduled_mean\": 259.44, \"scheduled_sum\": 8302, \"departed_mean\": 56.97, \"departed_sum\": 1823, \"sum_diff\": -6479, \"pct_diff\": -0.78}, {\"date_\": \"3/25/20\", \"scheduled_mean\": 260.66, \"scheduled_sum\": 8341, \"departed_mean\": 54.72, \"departed_sum\": 1751, \"sum_diff\": -6590, \"pct_diff\": -0.79}, {\"date_\": \"3/26/20\", \"scheduled_mean\": 263.5, \"scheduled_sum\": 8432, \"departed_mean\": 53.72, \"departed_sum\": 1719, \"sum_diff\": -6713, \"pct_diff\": -0.8}, {\"date_\": \"3/27/20\", \"scheduled_mean\": 248.59, \"scheduled_sum\": 7955, \"departed_mean\": 56.31, \"departed_sum\": 1802, \"sum_diff\": -6153, \"pct_diff\": -0.77}, {\"date_\": \"3/28/20\", \"scheduled_mean\": 193.06, \"scheduled_sum\": 6178, \"departed_mean\": 44.12, \"departed_sum\": 1412, \"sum_diff\": -4766, \"pct_diff\": -0.77}, {\"date_\": \"3/29/20\", \"scheduled_mean\": 235.19, \"scheduled_sum\": 7526, \"departed_mean\": 45.72, \"departed_sum\": 1463, \"sum_diff\": -6063, \"pct_diff\": -0.81}, {\"date_\": \"3/3/20\", \"scheduled_mean\": 333.69, \"scheduled_sum\": 10678, \"departed_mean\": 303.94, \"departed_sum\": 9726, \"sum_diff\": -952, \"pct_diff\": -0.09}, {\"date_\": \"3/30/20\", \"scheduled_mean\": 174.59, \"scheduled_sum\": 5587, \"departed_mean\": 38.72, \"departed_sum\": 1239, \"sum_diff\": -4348, \"pct_diff\": -0.78}, {\"date_\": \"3/31/20\", \"scheduled_mean\": 162.06, \"scheduled_sum\": 5186, \"departed_mean\": 34.0, \"departed_sum\": 1088, \"sum_diff\": -4098, \"pct_diff\": -0.79}, {\"date_\": \"3/4/20\", \"scheduled_mean\": 346.78, \"scheduled_sum\": 11097, \"departed_mean\": 311.16, \"departed_sum\": 9957, \"sum_diff\": -1140, \"pct_diff\": -0.1}, {\"date_\": \"3/5/20\", \"scheduled_mean\": 355.34, \"scheduled_sum\": 11371, \"departed_mean\": 316.47, \"departed_sum\": 10127, \"sum_diff\": -1244, \"pct_diff\": -0.11}, {\"date_\": \"3/6/20\", \"scheduled_mean\": 365.81, \"scheduled_sum\": 11706, \"departed_mean\": 331.16, \"departed_sum\": 10597, \"sum_diff\": -1109, \"pct_diff\": -0.09}, {\"date_\": \"3/7/20\", \"scheduled_mean\": 308.97, \"scheduled_sum\": 9887, \"departed_mean\": 270.56, \"departed_sum\": 8658, \"sum_diff\": -1229, \"pct_diff\": -0.12}, {\"date_\": \"3/8/20\", \"scheduled_mean\": 348.62, \"scheduled_sum\": 11156, \"departed_mean\": 309.62, \"departed_sum\": 9908, \"sum_diff\": -1248, \"pct_diff\": -0.11}, {\"date_\": \"3/9/20\", \"scheduled_mean\": 355.62, \"scheduled_sum\": 11380, \"departed_mean\": 300.75, \"departed_sum\": 9624, \"sum_diff\": -1756, \"pct_diff\": -0.15}, {\"date_\": \"4/1/20\", \"scheduled_mean\": 161.38, \"scheduled_sum\": 5164, \"departed_mean\": 29.91, \"departed_sum\": 957, \"sum_diff\": -4207, \"pct_diff\": -0.81}, {\"date_\": \"4/2/20\", \"scheduled_mean\": 148.91, \"scheduled_sum\": 4765, \"departed_mean\": 27.91, \"departed_sum\": 893, \"sum_diff\": -3872, \"pct_diff\": -0.81}, {\"date_\": \"4/3/20\", \"scheduled_mean\": 147.91, \"scheduled_sum\": 4733, \"departed_mean\": 29.62, \"departed_sum\": 948, \"sum_diff\": -3785, \"pct_diff\": -0.8}, {\"date_\": \"4/4/20\", \"scheduled_mean\": 132.56, \"scheduled_sum\": 4242, \"departed_mean\": 23.44, \"departed_sum\": 750, \"sum_diff\": -3492, \"pct_diff\": -0.82}, {\"date_\": \"4/5/20\", \"scheduled_mean\": 111.5, \"scheduled_sum\": 3568, \"departed_mean\": 26.44, \"departed_sum\": 846, \"sum_diff\": -2722, \"pct_diff\": -0.76}, {\"date_\": \"4/6/20\", \"scheduled_mean\": 101.94, \"scheduled_sum\": 3262, \"departed_mean\": 22.94, \"departed_sum\": 734, \"sum_diff\": -2528, \"pct_diff\": -0.77}, {\"date_\": \"4/7/20\", \"scheduled_mean\": 105.31, \"scheduled_sum\": 3370, \"departed_mean\": 20.84, \"departed_sum\": 667, \"sum_diff\": -2703, \"pct_diff\": -0.8}, {\"date_\": \"4/8/20\", \"scheduled_mean\": 112.84, \"scheduled_sum\": 3611, \"departed_mean\": 22.03, \"departed_sum\": 705, \"sum_diff\": -2906, \"pct_diff\": -0.8}]}}, {\"mode\": \"vega-lite\"});\n",
       "</script>"
      ],
      "text/plain": [
       "alt.Chart(...)"
      ]
     },
     "execution_count": 32,
     "metadata": {},
     "output_type": "execute_result"
    }
   ],
   "source": [
    "europe_agg_chart = alt.Chart(europe_date_agg).mark_bar(size=6,color='#d9eff4').encode(\n",
    "    x=alt.X('date_:T', title='', axis=alt.Axis(grid=False, tickCount=3, format='%b. %-d')),\n",
    "    y=alt.Y('pct_diff:Q', title='', axis=alt.Axis(gridWidth=.6, gridColor='#dddddd',offset=3,tickSize=0,domainOpacity=0,tickCount=4, format='%'), scale=alt.Scale(domain=(-1, 0)))\n",
    ").properties(width=500, height=350,\n",
    "    title=''\n",
    ")\n",
    "\n",
    "(europe_agg_chart).configure_view(strokeOpacity=0)"
   ]
  },
  {
   "cell_type": "code",
   "execution_count": 33,
   "metadata": {},
   "outputs": [],
   "source": [
    "usa_date_agg = usa_merge.groupby('date').agg(d).round(2).reset_index()"
   ]
  },
  {
   "cell_type": "code",
   "execution_count": 34,
   "metadata": {},
   "outputs": [],
   "source": [
    "usa_date_agg.columns = ['_'.join(col) for col in usa_date_agg.columns.values]"
   ]
  },
  {
   "cell_type": "code",
   "execution_count": 35,
   "metadata": {},
   "outputs": [],
   "source": [
    "usa_date_agg['sum_diff'] = usa_date_agg.departed_sum - usa_date_agg.scheduled_sum\n",
    "usa_date_agg['pct_diff'] = (usa_date_agg['sum_diff']/\n",
    "                        usa_date_agg.scheduled_sum).round(2)"
   ]
  },
  {
   "cell_type": "code",
   "execution_count": 36,
   "metadata": {},
   "outputs": [
    {
     "data": {
      "text/html": [
       "<div>\n",
       "<style scoped>\n",
       "    .dataframe tbody tr th:only-of-type {\n",
       "        vertical-align: middle;\n",
       "    }\n",
       "\n",
       "    .dataframe tbody tr th {\n",
       "        vertical-align: top;\n",
       "    }\n",
       "\n",
       "    .dataframe thead th {\n",
       "        text-align: right;\n",
       "    }\n",
       "</style>\n",
       "<table border=\"1\" class=\"dataframe\">\n",
       "  <thead>\n",
       "    <tr style=\"text-align: right;\">\n",
       "      <th></th>\n",
       "      <th>date_</th>\n",
       "      <th>scheduled_mean</th>\n",
       "      <th>scheduled_sum</th>\n",
       "      <th>departed_mean</th>\n",
       "      <th>departed_sum</th>\n",
       "      <th>sum_diff</th>\n",
       "      <th>pct_diff</th>\n",
       "    </tr>\n",
       "  </thead>\n",
       "  <tbody>\n",
       "    <tr>\n",
       "      <td>51</td>\n",
       "      <td>4/8/20</td>\n",
       "      <td>403.25</td>\n",
       "      <td>11291</td>\n",
       "      <td>198.14</td>\n",
       "      <td>5548</td>\n",
       "      <td>-5743</td>\n",
       "      <td>-0.51</td>\n",
       "    </tr>\n",
       "    <tr>\n",
       "      <td>50</td>\n",
       "      <td>4/7/20</td>\n",
       "      <td>412.11</td>\n",
       "      <td>11539</td>\n",
       "      <td>203.96</td>\n",
       "      <td>5711</td>\n",
       "      <td>-5828</td>\n",
       "      <td>-0.51</td>\n",
       "    </tr>\n",
       "    <tr>\n",
       "      <td>49</td>\n",
       "      <td>4/6/20</td>\n",
       "      <td>420.46</td>\n",
       "      <td>11773</td>\n",
       "      <td>207.11</td>\n",
       "      <td>5799</td>\n",
       "      <td>-5974</td>\n",
       "      <td>-0.51</td>\n",
       "    </tr>\n",
       "    <tr>\n",
       "      <td>48</td>\n",
       "      <td>4/5/20</td>\n",
       "      <td>482.57</td>\n",
       "      <td>13512</td>\n",
       "      <td>207.21</td>\n",
       "      <td>5802</td>\n",
       "      <td>-7710</td>\n",
       "      <td>-0.57</td>\n",
       "    </tr>\n",
       "    <tr>\n",
       "      <td>47</td>\n",
       "      <td>4/4/20</td>\n",
       "      <td>475.86</td>\n",
       "      <td>13324</td>\n",
       "      <td>203.64</td>\n",
       "      <td>5702</td>\n",
       "      <td>-7622</td>\n",
       "      <td>-0.57</td>\n",
       "    </tr>\n",
       "  </tbody>\n",
       "</table>\n",
       "</div>"
      ],
      "text/plain": [
       "     date_  scheduled_mean  scheduled_sum  departed_mean  departed_sum  \\\n",
       "51  4/8/20          403.25          11291         198.14          5548   \n",
       "50  4/7/20          412.11          11539         203.96          5711   \n",
       "49  4/6/20          420.46          11773         207.11          5799   \n",
       "48  4/5/20          482.57          13512         207.21          5802   \n",
       "47  4/4/20          475.86          13324         203.64          5702   \n",
       "\n",
       "    sum_diff  pct_diff  \n",
       "51     -5743     -0.51  \n",
       "50     -5828     -0.51  \n",
       "49     -5974     -0.51  \n",
       "48     -7710     -0.57  \n",
       "47     -7622     -0.57  "
      ]
     },
     "execution_count": 36,
     "metadata": {},
     "output_type": "execute_result"
    }
   ],
   "source": [
    "usa_date_agg.sort_values(by='date_', ascending=False).head()"
   ]
  },
  {
   "cell_type": "code",
   "execution_count": 37,
   "metadata": {},
   "outputs": [],
   "source": [
    "usa_date_agg['date_'] = pd.to_datetime(usa_date_agg['date_'])"
   ]
  },
  {
   "cell_type": "code",
   "execution_count": 38,
   "metadata": {},
   "outputs": [],
   "source": [
    "usa_date_agg_export = usa_date_agg[['date_', 'scheduled_sum', 'departed_sum', 'pct_diff']]"
   ]
  },
  {
   "cell_type": "code",
   "execution_count": 39,
   "metadata": {},
   "outputs": [],
   "source": [
    "usa_date_agg_export.to_csv('output/usa_date_agg_export.csv')"
   ]
  },
  {
   "cell_type": "code",
   "execution_count": 40,
   "metadata": {},
   "outputs": [
    {
     "data": {
      "text/html": [
       "\n",
       "<div id=\"altair-viz-5004e7fef9a54df8a9ad07ecec020455\"></div>\n",
       "<script type=\"text/javascript\">\n",
       "  (function(spec, embedOpt){\n",
       "    const outputDiv = document.getElementById(\"altair-viz-5004e7fef9a54df8a9ad07ecec020455\");\n",
       "    const paths = {\n",
       "      \"vega\": \"https://cdn.jsdelivr.net/npm//vega@5?noext\",\n",
       "      \"vega-lib\": \"https://cdn.jsdelivr.net/npm//vega-lib?noext\",\n",
       "      \"vega-lite\": \"https://cdn.jsdelivr.net/npm//vega-lite@4.0.2?noext\",\n",
       "      \"vega-embed\": \"https://cdn.jsdelivr.net/npm//vega-embed@6?noext\",\n",
       "    };\n",
       "\n",
       "    function loadScript(lib) {\n",
       "      return new Promise(function(resolve, reject) {\n",
       "        var s = document.createElement('script');\n",
       "        s.src = paths[lib];\n",
       "        s.async = true;\n",
       "        s.onload = () => resolve(paths[lib]);\n",
       "        s.onerror = () => reject(`Error loading script: ${paths[lib]}`);\n",
       "        document.getElementsByTagName(\"head\")[0].appendChild(s);\n",
       "      });\n",
       "    }\n",
       "\n",
       "    function showError(err) {\n",
       "      outputDiv.innerHTML = `<div class=\"error\" style=\"color:red;\">${err}</div>`;\n",
       "      throw err;\n",
       "    }\n",
       "\n",
       "    function displayChart(vegaEmbed) {\n",
       "      vegaEmbed(outputDiv, spec, embedOpt)\n",
       "        .catch(err => showError(`Javascript Error: ${err.message}<br>This usually means there's a typo in your chart specification. See the javascript console for the full traceback.`));\n",
       "    }\n",
       "\n",
       "    if(typeof define === \"function\" && define.amd) {\n",
       "      requirejs.config({paths});\n",
       "      require([\"vega-embed\"], displayChart, err => showError(`Error loading script: ${err.message}`));\n",
       "    } else if (typeof vegaEmbed === \"function\") {\n",
       "      displayChart(vegaEmbed);\n",
       "    } else {\n",
       "      loadScript(\"vega\")\n",
       "        .then(() => loadScript(\"vega-lite\"))\n",
       "        .then(() => loadScript(\"vega-embed\"))\n",
       "        .catch(showError)\n",
       "        .then(() => displayChart(vegaEmbed));\n",
       "    }\n",
       "  })({\"config\": {\"view\": {\"width\": 800, \"height\": 450, \"strokeOpacity\": 0}, \"background\": \"#ffffff\", \"title\": {\"anchor\": \"start\", \"font\": \"Benton Gothic Bold, sans\", \"fontColor\": \"#000000\", \"fontSize\": 22, \"fontWeight\": \"normal\"}, \"arc\": {\"fill\": \"#82c6df\"}, \"area\": {\"fill\": \"#82c6df\"}, \"line\": {\"stroke\": \"#82c6df\", \"strokeWidth\": 3}, \"path\": {\"stroke\": \"#82c6df\"}, \"rect\": {\"fill\": \"#82c6df\"}, \"shape\": {\"stroke\": \"#82c6df\"}, \"bar\": {\"fill\": \"#82c6df\"}, \"point\": {\"stroke\": \"#82c6df\"}, \"symbol\": {\"fill\": \"#82c6df\", \"size\": 30}, \"axis\": {\"titleFont\": \"Benton Gothic Bold, sans\", \"titleFontSize\": 13, \"titleFontWeight\": \"normal\", \"labelFont\": \"Benton Gothic, sans\", \"labelFontSize\": 11.5, \"labelFontWeight\": \"normal\"}, \"axisX\": {\"labelAngle\": 0, \"labelPadding\": 4, \"tickSize\": 3}, \"axisY\": {\"labelBaseline\": \"middle\", \"maxExtent\": 45, \"minExtent\": 45, \"tickSize\": 2, \"titleAlign\": \"left\", \"titleAngle\": 0, \"titleX\": -45, \"titleY\": -11}, \"legend\": {\"titleFont\": \"Benton Gothic Bold, sans\", \"titleFontSize\": 13, \"titleFontWeight\": \"normal\", \"symbolType\": \"square\", \"labelFont\": \"Benton Gothic, sans\", \"labelFontSize\": 11.5}, \"range\": {\"category\": [\"#3580b1\", \"#ec8431\", \"#ab7fb4\", \"#c89d29\", \"#adc839\", \"#829eb1\"], \"diverging\": [\"#e68a4f\", \"#f4bb6a\", \"#f9e39c\", \"#dadfe2\", \"#a6b7c6\", \"#849eae\"], \"heatmap\": [\"#fbf2c7\", \"#f9e39c\", \"#f8d36e\", \"#f4bb6a\", \"#e68a4f\", \"#d15a40\", \"#ab4232\"], \"ordinal\": [\"#fbf2c7\", \"#f9e39c\", \"#f8d36e\", \"#f4bb6a\", \"#e68a4f\", \"#d15a40\", \"#ab4232\"], \"ramp\": [\"#fbf2c7\", \"#f9e39c\", \"#f8d36e\", \"#f4bb6a\", \"#e68a4f\", \"#d15a40\", \"#ab4232\"]}}, \"hconcat\": [{\"data\": {\"name\": \"data-e39745515744141ecc90e34df3c0796a\"}, \"mark\": {\"type\": \"bar\", \"color\": \"#90d1e2\", \"size\": 6}, \"encoding\": {\"x\": {\"type\": \"temporal\", \"axis\": {\"format\": \"%b %-d\", \"grid\": false, \"tickCount\": 3}, \"field\": \"date_\", \"title\": \"\"}, \"y\": {\"type\": \"quantitative\", \"axis\": {\"domainOpacity\": 0, \"format\": \"%\", \"gridColor\": \"#dddddd\", \"gridWidth\": 0.6, \"offset\": 3, \"tickCount\": 4, \"tickSize\": 0}, \"field\": \"pct_diff\", \"scale\": {\"domain\": [-1, 0]}, \"title\": \"\"}}, \"height\": 350, \"title\": \"\", \"width\": 500}, {\"data\": {\"name\": \"data-69ba102e6dc22980949ab6ceda37d1d1\"}, \"mark\": {\"type\": \"bar\", \"color\": \"#d9eff4\", \"size\": 6}, \"encoding\": {\"x\": {\"type\": \"temporal\", \"axis\": {\"format\": \"%b. %-d\", \"grid\": false, \"tickCount\": 3}, \"field\": \"date_\", \"title\": \"\"}, \"y\": {\"type\": \"quantitative\", \"axis\": {\"domainOpacity\": 0, \"format\": \"%\", \"gridColor\": \"#dddddd\", \"gridWidth\": 0.6, \"offset\": 3, \"tickCount\": 4, \"tickSize\": 0}, \"field\": \"pct_diff\", \"scale\": {\"domain\": [-1, 0]}, \"title\": \"\"}}, \"height\": 350, \"title\": \"\", \"width\": 500}], \"$schema\": \"https://vega.github.io/schema/vega-lite/v4.0.2.json\", \"datasets\": {\"data-e39745515744141ecc90e34df3c0796a\": [{\"date_\": \"2020-02-17T00:00:00\", \"scheduled_mean\": 618.57, \"scheduled_sum\": 17320, \"departed_mean\": 605.32, \"departed_sum\": 16949, \"sum_diff\": -371, \"pct_diff\": -0.02}, {\"date_\": \"2020-02-18T00:00:00\", \"scheduled_mean\": 644.71, \"scheduled_sum\": 18052, \"departed_mean\": 625.68, \"departed_sum\": 17519, \"sum_diff\": -533, \"pct_diff\": -0.03}, {\"date_\": \"2020-02-19T00:00:00\", \"scheduled_mean\": 638.89, \"scheduled_sum\": 17889, \"departed_mean\": 623.5, \"departed_sum\": 17458, \"sum_diff\": -431, \"pct_diff\": -0.02}, {\"date_\": \"2020-02-20T00:00:00\", \"scheduled_mean\": 650.82, \"scheduled_sum\": 18223, \"departed_mean\": 632.93, \"departed_sum\": 17722, \"sum_diff\": -501, \"pct_diff\": -0.03}, {\"date_\": \"2020-02-21T00:00:00\", \"scheduled_mean\": 656.61, \"scheduled_sum\": 18385, \"departed_mean\": 638.29, \"departed_sum\": 17872, \"sum_diff\": -513, \"pct_diff\": -0.03}, {\"date_\": \"2020-02-22T00:00:00\", \"scheduled_mean\": 579.96, \"scheduled_sum\": 16239, \"departed_mean\": 568.96, \"departed_sum\": 15931, \"sum_diff\": -308, \"pct_diff\": -0.02}, {\"date_\": \"2020-02-23T00:00:00\", \"scheduled_mean\": 583.96, \"scheduled_sum\": 16351, \"departed_mean\": 571.14, \"departed_sum\": 15992, \"sum_diff\": -359, \"pct_diff\": -0.02}, {\"date_\": \"2020-02-24T00:00:00\", \"scheduled_mean\": 641.04, \"scheduled_sum\": 17949, \"departed_mean\": 625.36, \"departed_sum\": 17510, \"sum_diff\": -439, \"pct_diff\": -0.02}, {\"date_\": \"2020-02-25T00:00:00\", \"scheduled_mean\": 642.68, \"scheduled_sum\": 17995, \"departed_mean\": 625.96, \"departed_sum\": 17527, \"sum_diff\": -468, \"pct_diff\": -0.03}, {\"date_\": \"2020-02-26T00:00:00\", \"scheduled_mean\": 642.36, \"scheduled_sum\": 17986, \"departed_mean\": 620.11, \"departed_sum\": 17363, \"sum_diff\": -623, \"pct_diff\": -0.03}, {\"date_\": \"2020-02-27T00:00:00\", \"scheduled_mean\": 660.14, \"scheduled_sum\": 18484, \"departed_mean\": 629.57, \"departed_sum\": 17628, \"sum_diff\": -856, \"pct_diff\": -0.05}, {\"date_\": \"2020-02-28T00:00:00\", \"scheduled_mean\": 662.89, \"scheduled_sum\": 18561, \"departed_mean\": 641.14, \"departed_sum\": 17952, \"sum_diff\": -609, \"pct_diff\": -0.03}, {\"date_\": \"2020-02-29T00:00:00\", \"scheduled_mean\": 584.64, \"scheduled_sum\": 16370, \"departed_mean\": 568.11, \"departed_sum\": 15907, \"sum_diff\": -463, \"pct_diff\": -0.03}, {\"date_\": \"2020-03-01T00:00:00\", \"scheduled_mean\": 585.0, \"scheduled_sum\": 16380, \"departed_mean\": 568.5, \"departed_sum\": 15918, \"sum_diff\": -462, \"pct_diff\": -0.03}, {\"date_\": \"2020-03-10T00:00:00\", \"scheduled_mean\": 649.61, \"scheduled_sum\": 18189, \"departed_mean\": 629.54, \"departed_sum\": 17627, \"sum_diff\": -562, \"pct_diff\": -0.03}, {\"date_\": \"2020-03-11T00:00:00\", \"scheduled_mean\": 651.89, \"scheduled_sum\": 18253, \"departed_mean\": 626.93, \"departed_sum\": 17554, \"sum_diff\": -699, \"pct_diff\": -0.04}, {\"date_\": \"2020-03-12T00:00:00\", \"scheduled_mean\": 673.71, \"scheduled_sum\": 18864, \"departed_mean\": 650.86, \"departed_sum\": 18224, \"sum_diff\": -640, \"pct_diff\": -0.03}, {\"date_\": \"2020-03-13T00:00:00\", \"scheduled_mean\": 678.04, \"scheduled_sum\": 18985, \"departed_mean\": 650.36, \"departed_sum\": 18210, \"sum_diff\": -775, \"pct_diff\": -0.04}, {\"date_\": \"2020-03-14T00:00:00\", \"scheduled_mean\": 609.43, \"scheduled_sum\": 17064, \"departed_mean\": 585.43, \"departed_sum\": 16392, \"sum_diff\": -672, \"pct_diff\": -0.04}, {\"date_\": \"2020-03-15T00:00:00\", \"scheduled_mean\": 617.18, \"scheduled_sum\": 17281, \"departed_mean\": 588.36, \"departed_sum\": 16474, \"sum_diff\": -807, \"pct_diff\": -0.05}, {\"date_\": \"2020-03-16T00:00:00\", \"scheduled_mean\": 658.46, \"scheduled_sum\": 18437, \"departed_mean\": 618.29, \"departed_sum\": 17312, \"sum_diff\": -1125, \"pct_diff\": -0.06}, {\"date_\": \"2020-03-17T00:00:00\", \"scheduled_mean\": 655.96, \"scheduled_sum\": 18367, \"departed_mean\": 601.11, \"departed_sum\": 16831, \"sum_diff\": -1536, \"pct_diff\": -0.08}, {\"date_\": \"2020-03-18T00:00:00\", \"scheduled_mean\": 649.75, \"scheduled_sum\": 18193, \"departed_mean\": 565.68, \"departed_sum\": 15839, \"sum_diff\": -2354, \"pct_diff\": -0.13}, {\"date_\": \"2020-03-19T00:00:00\", \"scheduled_mean\": 664.43, \"scheduled_sum\": 18604, \"departed_mean\": 540.75, \"departed_sum\": 15141, \"sum_diff\": -3463, \"pct_diff\": -0.19}, {\"date_\": \"2020-03-02T00:00:00\", \"scheduled_mean\": 645.46, \"scheduled_sum\": 18073, \"departed_mean\": 627.57, \"departed_sum\": 17572, \"sum_diff\": -501, \"pct_diff\": -0.03}, {\"date_\": \"2020-03-20T00:00:00\", \"scheduled_mean\": 665.39, \"scheduled_sum\": 18631, \"departed_mean\": 510.86, \"departed_sum\": 14304, \"sum_diff\": -4327, \"pct_diff\": -0.23}, {\"date_\": \"2020-03-21T00:00:00\", \"scheduled_mean\": 605.39, \"scheduled_sum\": 16951, \"departed_mean\": 440.82, \"departed_sum\": 12343, \"sum_diff\": -4608, \"pct_diff\": -0.27}, {\"date_\": \"2020-03-22T00:00:00\", \"scheduled_mean\": 607.5, \"scheduled_sum\": 17010, \"departed_mean\": 410.82, \"departed_sum\": 11503, \"sum_diff\": -5507, \"pct_diff\": -0.32}, {\"date_\": \"2020-03-23T00:00:00\", \"scheduled_mean\": 639.32, \"scheduled_sum\": 17901, \"departed_mean\": 381.61, \"departed_sum\": 10685, \"sum_diff\": -7216, \"pct_diff\": -0.4}, {\"date_\": \"2020-03-24T00:00:00\", \"scheduled_mean\": 637.32, \"scheduled_sum\": 17845, \"departed_mean\": 362.86, \"departed_sum\": 10160, \"sum_diff\": -7685, \"pct_diff\": -0.43}, {\"date_\": \"2020-03-25T00:00:00\", \"scheduled_mean\": 631.61, \"scheduled_sum\": 17685, \"departed_mean\": 332.43, \"departed_sum\": 9308, \"sum_diff\": -8377, \"pct_diff\": -0.47}, {\"date_\": \"2020-03-26T00:00:00\", \"scheduled_mean\": 640.21, \"scheduled_sum\": 17926, \"departed_mean\": 316.11, \"departed_sum\": 8851, \"sum_diff\": -9075, \"pct_diff\": -0.51}, {\"date_\": \"2020-03-27T00:00:00\", \"scheduled_mean\": 633.32, \"scheduled_sum\": 17733, \"departed_mean\": 293.29, \"departed_sum\": 8212, \"sum_diff\": -9521, \"pct_diff\": -0.54}, {\"date_\": \"2020-03-28T00:00:00\", \"scheduled_mean\": 571.11, \"scheduled_sum\": 15991, \"departed_mean\": 269.29, \"departed_sum\": 7540, \"sum_diff\": -8451, \"pct_diff\": -0.53}, {\"date_\": \"2020-03-29T00:00:00\", \"scheduled_mean\": 570.71, \"scheduled_sum\": 15980, \"departed_mean\": 265.89, \"departed_sum\": 7445, \"sum_diff\": -8535, \"pct_diff\": -0.53}, {\"date_\": \"2020-03-03T00:00:00\", \"scheduled_mean\": 643.75, \"scheduled_sum\": 18025, \"departed_mean\": 625.36, \"departed_sum\": 17510, \"sum_diff\": -515, \"pct_diff\": -0.03}, {\"date_\": \"2020-03-30T00:00:00\", \"scheduled_mean\": 577.39, \"scheduled_sum\": 16167, \"departed_mean\": 259.5, \"departed_sum\": 7266, \"sum_diff\": -8901, \"pct_diff\": -0.55}, {\"date_\": \"2020-03-31T00:00:00\", \"scheduled_mean\": 577.96, \"scheduled_sum\": 16183, \"departed_mean\": 265.64, \"departed_sum\": 7438, \"sum_diff\": -8745, \"pct_diff\": -0.54}, {\"date_\": \"2020-03-04T00:00:00\", \"scheduled_mean\": 644.57, \"scheduled_sum\": 18048, \"departed_mean\": 626.0, \"departed_sum\": 17528, \"sum_diff\": -520, \"pct_diff\": -0.03}, {\"date_\": \"2020-03-05T00:00:00\", \"scheduled_mean\": 681.86, \"scheduled_sum\": 19092, \"departed_mean\": 644.11, \"departed_sum\": 18035, \"sum_diff\": -1057, \"pct_diff\": -0.06}, {\"date_\": \"2020-03-06T00:00:00\", \"scheduled_mean\": 670.04, \"scheduled_sum\": 18761, \"departed_mean\": 648.54, \"departed_sum\": 18159, \"sum_diff\": -602, \"pct_diff\": -0.03}, {\"date_\": \"2020-03-07T00:00:00\", \"scheduled_mean\": 593.68, \"scheduled_sum\": 16623, \"departed_mean\": 578.25, \"departed_sum\": 16191, \"sum_diff\": -432, \"pct_diff\": -0.03}, {\"date_\": \"2020-03-08T00:00:00\", \"scheduled_mean\": 638.32, \"scheduled_sum\": 17873, \"departed_mean\": 620.5, \"departed_sum\": 17374, \"sum_diff\": -499, \"pct_diff\": -0.03}, {\"date_\": \"2020-03-09T00:00:00\", \"scheduled_mean\": 648.89, \"scheduled_sum\": 18169, \"departed_mean\": 631.21, \"departed_sum\": 17674, \"sum_diff\": -495, \"pct_diff\": -0.03}, {\"date_\": \"2020-04-01T00:00:00\", \"scheduled_mean\": 538.11, \"scheduled_sum\": 15067, \"departed_mean\": 254.07, \"departed_sum\": 7114, \"sum_diff\": -7953, \"pct_diff\": -0.53}, {\"date_\": \"2020-04-02T00:00:00\", \"scheduled_mean\": 555.29, \"scheduled_sum\": 15548, \"departed_mean\": 231.43, \"departed_sum\": 6480, \"sum_diff\": -9068, \"pct_diff\": -0.58}, {\"date_\": \"2020-04-03T00:00:00\", \"scheduled_mean\": 529.96, \"scheduled_sum\": 14839, \"departed_mean\": 229.32, \"departed_sum\": 6421, \"sum_diff\": -8418, \"pct_diff\": -0.57}, {\"date_\": \"2020-04-04T00:00:00\", \"scheduled_mean\": 475.86, \"scheduled_sum\": 13324, \"departed_mean\": 203.64, \"departed_sum\": 5702, \"sum_diff\": -7622, \"pct_diff\": -0.57}, {\"date_\": \"2020-04-05T00:00:00\", \"scheduled_mean\": 482.57, \"scheduled_sum\": 13512, \"departed_mean\": 207.21, \"departed_sum\": 5802, \"sum_diff\": -7710, \"pct_diff\": -0.57}, {\"date_\": \"2020-04-06T00:00:00\", \"scheduled_mean\": 420.46, \"scheduled_sum\": 11773, \"departed_mean\": 207.11, \"departed_sum\": 5799, \"sum_diff\": -5974, \"pct_diff\": -0.51}, {\"date_\": \"2020-04-07T00:00:00\", \"scheduled_mean\": 412.11, \"scheduled_sum\": 11539, \"departed_mean\": 203.96, \"departed_sum\": 5711, \"sum_diff\": -5828, \"pct_diff\": -0.51}, {\"date_\": \"2020-04-08T00:00:00\", \"scheduled_mean\": 403.25, \"scheduled_sum\": 11291, \"departed_mean\": 198.14, \"departed_sum\": 5548, \"sum_diff\": -5743, \"pct_diff\": -0.51}], \"data-69ba102e6dc22980949ab6ceda37d1d1\": [{\"date_\": \"2/14/20\", \"scheduled_mean\": 337.19, \"scheduled_sum\": 10453, \"departed_mean\": 331.26, \"departed_sum\": 10269, \"sum_diff\": -184, \"pct_diff\": -0.02}, {\"date_\": \"2/15/20\", \"scheduled_mean\": 289.5, \"scheduled_sum\": 9264, \"departed_mean\": 279.09, \"departed_sum\": 8931, \"sum_diff\": -333, \"pct_diff\": -0.04}, {\"date_\": \"2/16/20\", \"scheduled_mean\": 337.56, \"scheduled_sum\": 10802, \"departed_mean\": 320.16, \"departed_sum\": 10245, \"sum_diff\": -557, \"pct_diff\": -0.05}, {\"date_\": \"2/17/20\", \"scheduled_mean\": 339.0, \"scheduled_sum\": 10848, \"departed_mean\": 329.88, \"departed_sum\": 10556, \"sum_diff\": -292, \"pct_diff\": -0.03}, {\"date_\": \"2/18/20\", \"scheduled_mean\": 309.78, \"scheduled_sum\": 9913, \"departed_mean\": 302.28, \"departed_sum\": 9673, \"sum_diff\": -240, \"pct_diff\": -0.02}, {\"date_\": \"2/19/20\", \"scheduled_mean\": 322.09, \"scheduled_sum\": 10307, \"departed_mean\": 312.38, \"departed_sum\": 9996, \"sum_diff\": -311, \"pct_diff\": -0.03}, {\"date_\": \"2/20/20\", \"scheduled_mean\": 336.91, \"scheduled_sum\": 10781, \"departed_mean\": 326.0, \"departed_sum\": 10432, \"sum_diff\": -349, \"pct_diff\": -0.03}, {\"date_\": \"2/21/20\", \"scheduled_mean\": 351.56, \"scheduled_sum\": 11250, \"departed_mean\": 343.75, \"departed_sum\": 11000, \"sum_diff\": -250, \"pct_diff\": -0.02}, {\"date_\": \"2/22/20\", \"scheduled_mean\": 295.19, \"scheduled_sum\": 9446, \"departed_mean\": 285.84, \"departed_sum\": 9147, \"sum_diff\": -299, \"pct_diff\": -0.03}, {\"date_\": \"2/23/20\", \"scheduled_mean\": 350.91, \"scheduled_sum\": 11229, \"departed_mean\": 323.22, \"departed_sum\": 10343, \"sum_diff\": -886, \"pct_diff\": -0.08}, {\"date_\": \"2/24/20\", \"scheduled_mean\": 352.19, \"scheduled_sum\": 11270, \"departed_mean\": 332.12, \"departed_sum\": 10628, \"sum_diff\": -642, \"pct_diff\": -0.06}, {\"date_\": \"2/25/20\", \"scheduled_mean\": 326.41, \"scheduled_sum\": 10445, \"departed_mean\": 301.12, \"departed_sum\": 9636, \"sum_diff\": -809, \"pct_diff\": -0.08}, {\"date_\": \"2/26/20\", \"scheduled_mean\": 339.34, \"scheduled_sum\": 10859, \"departed_mean\": 313.28, \"departed_sum\": 10025, \"sum_diff\": -834, \"pct_diff\": -0.08}, {\"date_\": \"2/27/20\", \"scheduled_mean\": 352.84, \"scheduled_sum\": 11291, \"departed_mean\": 323.25, \"departed_sum\": 10344, \"sum_diff\": -947, \"pct_diff\": -0.08}, {\"date_\": \"2/28/20\", \"scheduled_mean\": 365.12, \"scheduled_sum\": 11684, \"departed_mean\": 341.75, \"departed_sum\": 10936, \"sum_diff\": -748, \"pct_diff\": -0.06}, {\"date_\": \"2/29/20\", \"scheduled_mean\": 308.22, \"scheduled_sum\": 9863, \"departed_mean\": 282.12, \"departed_sum\": 9028, \"sum_diff\": -835, \"pct_diff\": -0.08}, {\"date_\": \"3/1/20\", \"scheduled_mean\": 349.78, \"scheduled_sum\": 11193, \"departed_mean\": 325.78, \"departed_sum\": 10425, \"sum_diff\": -768, \"pct_diff\": -0.07}, {\"date_\": \"3/10/20\", \"scheduled_mean\": 334.97, \"scheduled_sum\": 10719, \"departed_mean\": 263.78, \"departed_sum\": 8441, \"sum_diff\": -2278, \"pct_diff\": -0.21}, {\"date_\": \"3/11/20\", \"scheduled_mean\": 345.25, \"scheduled_sum\": 11048, \"departed_mean\": 261.19, \"departed_sum\": 8358, \"sum_diff\": -2690, \"pct_diff\": -0.24}, {\"date_\": \"3/12/20\", \"scheduled_mean\": 355.62, \"scheduled_sum\": 11380, \"departed_mean\": 272.41, \"departed_sum\": 8717, \"sum_diff\": -2663, \"pct_diff\": -0.23}, {\"date_\": \"3/13/20\", \"scheduled_mean\": 367.66, \"scheduled_sum\": 11765, \"departed_mean\": 279.31, \"departed_sum\": 8938, \"sum_diff\": -2827, \"pct_diff\": -0.24}, {\"date_\": \"3/14/20\", \"scheduled_mean\": 307.5, \"scheduled_sum\": 9840, \"departed_mean\": 220.56, \"departed_sum\": 7058, \"sum_diff\": -2782, \"pct_diff\": -0.28}, {\"date_\": \"3/15/20\", \"scheduled_mean\": 340.19, \"scheduled_sum\": 10886, \"departed_mean\": 239.66, \"departed_sum\": 7669, \"sum_diff\": -3217, \"pct_diff\": -0.3}, {\"date_\": \"3/16/20\", \"scheduled_mean\": 333.12, \"scheduled_sum\": 10660, \"departed_mean\": 203.41, \"departed_sum\": 6509, \"sum_diff\": -4151, \"pct_diff\": -0.39}, {\"date_\": \"3/17/20\", \"scheduled_mean\": 215.81, \"scheduled_sum\": 6906, \"departed_mean\": 109.41, \"departed_sum\": 3501, \"sum_diff\": -3405, \"pct_diff\": -0.49}, {\"date_\": \"3/18/20\", \"scheduled_mean\": 319.81, \"scheduled_sum\": 10234, \"departed_mean\": 137.53, \"departed_sum\": 4401, \"sum_diff\": -5833, \"pct_diff\": -0.57}, {\"date_\": \"3/19/20\", \"scheduled_mean\": 333.03, \"scheduled_sum\": 10657, \"departed_mean\": 127.47, \"departed_sum\": 4079, \"sum_diff\": -6578, \"pct_diff\": -0.62}, {\"date_\": \"3/2/20\", \"scheduled_mean\": 356.31, \"scheduled_sum\": 11402, \"departed_mean\": 330.97, \"departed_sum\": 10591, \"sum_diff\": -811, \"pct_diff\": -0.07}, {\"date_\": \"3/20/20\", \"scheduled_mean\": 168.88, \"scheduled_sum\": 5404, \"departed_mean\": 58.81, \"departed_sum\": 1882, \"sum_diff\": -3522, \"pct_diff\": -0.65}, {\"date_\": \"3/21/20\", \"scheduled_mean\": 282.38, \"scheduled_sum\": 9036, \"departed_mean\": 92.66, \"departed_sum\": 2965, \"sum_diff\": -6071, \"pct_diff\": -0.67}, {\"date_\": \"3/22/20\", \"scheduled_mean\": 310.16, \"scheduled_sum\": 9925, \"departed_mean\": 95.03, \"departed_sum\": 3041, \"sum_diff\": -6884, \"pct_diff\": -0.69}, {\"date_\": \"3/23/20\", \"scheduled_mean\": 288.78, \"scheduled_sum\": 9241, \"departed_mean\": 66.81, \"departed_sum\": 2138, \"sum_diff\": -7103, \"pct_diff\": -0.77}, {\"date_\": \"3/24/20\", \"scheduled_mean\": 259.44, \"scheduled_sum\": 8302, \"departed_mean\": 56.97, \"departed_sum\": 1823, \"sum_diff\": -6479, \"pct_diff\": -0.78}, {\"date_\": \"3/25/20\", \"scheduled_mean\": 260.66, \"scheduled_sum\": 8341, \"departed_mean\": 54.72, \"departed_sum\": 1751, \"sum_diff\": -6590, \"pct_diff\": -0.79}, {\"date_\": \"3/26/20\", \"scheduled_mean\": 263.5, \"scheduled_sum\": 8432, \"departed_mean\": 53.72, \"departed_sum\": 1719, \"sum_diff\": -6713, \"pct_diff\": -0.8}, {\"date_\": \"3/27/20\", \"scheduled_mean\": 248.59, \"scheduled_sum\": 7955, \"departed_mean\": 56.31, \"departed_sum\": 1802, \"sum_diff\": -6153, \"pct_diff\": -0.77}, {\"date_\": \"3/28/20\", \"scheduled_mean\": 193.06, \"scheduled_sum\": 6178, \"departed_mean\": 44.12, \"departed_sum\": 1412, \"sum_diff\": -4766, \"pct_diff\": -0.77}, {\"date_\": \"3/29/20\", \"scheduled_mean\": 235.19, \"scheduled_sum\": 7526, \"departed_mean\": 45.72, \"departed_sum\": 1463, \"sum_diff\": -6063, \"pct_diff\": -0.81}, {\"date_\": \"3/3/20\", \"scheduled_mean\": 333.69, \"scheduled_sum\": 10678, \"departed_mean\": 303.94, \"departed_sum\": 9726, \"sum_diff\": -952, \"pct_diff\": -0.09}, {\"date_\": \"3/30/20\", \"scheduled_mean\": 174.59, \"scheduled_sum\": 5587, \"departed_mean\": 38.72, \"departed_sum\": 1239, \"sum_diff\": -4348, \"pct_diff\": -0.78}, {\"date_\": \"3/31/20\", \"scheduled_mean\": 162.06, \"scheduled_sum\": 5186, \"departed_mean\": 34.0, \"departed_sum\": 1088, \"sum_diff\": -4098, \"pct_diff\": -0.79}, {\"date_\": \"3/4/20\", \"scheduled_mean\": 346.78, \"scheduled_sum\": 11097, \"departed_mean\": 311.16, \"departed_sum\": 9957, \"sum_diff\": -1140, \"pct_diff\": -0.1}, {\"date_\": \"3/5/20\", \"scheduled_mean\": 355.34, \"scheduled_sum\": 11371, \"departed_mean\": 316.47, \"departed_sum\": 10127, \"sum_diff\": -1244, \"pct_diff\": -0.11}, {\"date_\": \"3/6/20\", \"scheduled_mean\": 365.81, \"scheduled_sum\": 11706, \"departed_mean\": 331.16, \"departed_sum\": 10597, \"sum_diff\": -1109, \"pct_diff\": -0.09}, {\"date_\": \"3/7/20\", \"scheduled_mean\": 308.97, \"scheduled_sum\": 9887, \"departed_mean\": 270.56, \"departed_sum\": 8658, \"sum_diff\": -1229, \"pct_diff\": -0.12}, {\"date_\": \"3/8/20\", \"scheduled_mean\": 348.62, \"scheduled_sum\": 11156, \"departed_mean\": 309.62, \"departed_sum\": 9908, \"sum_diff\": -1248, \"pct_diff\": -0.11}, {\"date_\": \"3/9/20\", \"scheduled_mean\": 355.62, \"scheduled_sum\": 11380, \"departed_mean\": 300.75, \"departed_sum\": 9624, \"sum_diff\": -1756, \"pct_diff\": -0.15}, {\"date_\": \"4/1/20\", \"scheduled_mean\": 161.38, \"scheduled_sum\": 5164, \"departed_mean\": 29.91, \"departed_sum\": 957, \"sum_diff\": -4207, \"pct_diff\": -0.81}, {\"date_\": \"4/2/20\", \"scheduled_mean\": 148.91, \"scheduled_sum\": 4765, \"departed_mean\": 27.91, \"departed_sum\": 893, \"sum_diff\": -3872, \"pct_diff\": -0.81}, {\"date_\": \"4/3/20\", \"scheduled_mean\": 147.91, \"scheduled_sum\": 4733, \"departed_mean\": 29.62, \"departed_sum\": 948, \"sum_diff\": -3785, \"pct_diff\": -0.8}, {\"date_\": \"4/4/20\", \"scheduled_mean\": 132.56, \"scheduled_sum\": 4242, \"departed_mean\": 23.44, \"departed_sum\": 750, \"sum_diff\": -3492, \"pct_diff\": -0.82}, {\"date_\": \"4/5/20\", \"scheduled_mean\": 111.5, \"scheduled_sum\": 3568, \"departed_mean\": 26.44, \"departed_sum\": 846, \"sum_diff\": -2722, \"pct_diff\": -0.76}, {\"date_\": \"4/6/20\", \"scheduled_mean\": 101.94, \"scheduled_sum\": 3262, \"departed_mean\": 22.94, \"departed_sum\": 734, \"sum_diff\": -2528, \"pct_diff\": -0.77}, {\"date_\": \"4/7/20\", \"scheduled_mean\": 105.31, \"scheduled_sum\": 3370, \"departed_mean\": 20.84, \"departed_sum\": 667, \"sum_diff\": -2703, \"pct_diff\": -0.8}, {\"date_\": \"4/8/20\", \"scheduled_mean\": 112.84, \"scheduled_sum\": 3611, \"departed_mean\": 22.03, \"departed_sum\": 705, \"sum_diff\": -2906, \"pct_diff\": -0.8}]}}, {\"mode\": \"vega-lite\"});\n",
       "</script>"
      ],
      "text/plain": [
       "alt.HConcatChart(...)"
      ]
     },
     "execution_count": 40,
     "metadata": {},
     "output_type": "execute_result"
    }
   ],
   "source": [
    "usa_agg_chart = alt.Chart(usa_date_agg).mark_bar(size=6,color='#90d1e2').encode(\n",
    "    x=alt.X('date_:T', title='', axis=alt.Axis(grid=False, tickCount=3, format='%b %-d')),\n",
    "    y=alt.Y('pct_diff:Q', title='', axis=alt.Axis(gridWidth=.6, gridColor='#dddddd',offset=3,tickSize=0,domainOpacity=0,tickCount=4, format='%'), scale=alt.Scale(domain=(-1, 0)))\n",
    ").properties(width=500, height=350,\n",
    "    title=''\n",
    ")\n",
    "\n",
    "(usa_agg_chart|europe_agg_chart).configure_view(strokeOpacity=0)"
   ]
  },
  {
   "cell_type": "code",
   "execution_count": 43,
   "metadata": {},
   "outputs": [],
   "source": [
    "save((usa_agg_chart|europe_agg_chart).configure_view(strokeOpacity=0), 'images/usa_europe_agg_flights_desktop.png', scale_factor=2.0)"
   ]
  },
  {
   "cell_type": "code",
   "execution_count": null,
   "metadata": {},
   "outputs": [],
   "source": [
    "save((usa_agg_chart|europe_agg_chart).configure_view(strokeOpacity=0), \\\n",
    "     'images/usa_europe_agg_flights_desktop.svg', scale_factor=2.0)"
   ]
  },
  {
   "cell_type": "code",
   "execution_count": null,
   "metadata": {},
   "outputs": [],
   "source": [
    "save((usa_agg_chart).configure_view(strokeOpacity=0), \\\n",
    "     'images/usa_agg_chart_desktop.png', scale_factor=2.0)"
   ]
  },
  {
   "cell_type": "code",
   "execution_count": null,
   "metadata": {},
   "outputs": [],
   "source": [
    "agg_flights_mobile = alt.vconcat(usa_agg_chart,europe_agg_chart).configure_view(strokeOpacity=0)"
   ]
  },
  {
   "cell_type": "code",
   "execution_count": null,
   "metadata": {},
   "outputs": [],
   "source": [
    "(agg_flights_mobile).configure_view(strokeOpacity=0)"
   ]
  },
  {
   "cell_type": "code",
   "execution_count": null,
   "metadata": {},
   "outputs": [],
   "source": [
    "save((agg_flights_mobile).configure_view(strokeOpacity=0), \\\n",
    "     'images/agg_flights_mobile.png', scale_factor=2.0)"
   ]
  },
  {
   "cell_type": "code",
   "execution_count": null,
   "metadata": {},
   "outputs": [],
   "source": [
    "europe_merge.iloc[0]"
   ]
  },
  {
   "cell_type": "code",
   "execution_count": null,
   "metadata": {},
   "outputs": [],
   "source": [
    "alt.Chart(usa_merge).mark_bar(color='#056e90', size=1.3).encode(\n",
    "    x=alt.X('date:T', title='', axis=alt.Axis(tickCount=2, format='%b. %-d', grid=False)),\n",
    "        y=alt.Y('pct_diff:Q', title='', scale=alt.Scale(domain=(-1, 0)), axis=alt.Axis(tickSize=0,domainOpacity=0,\\\n",
    "                                                tickCount=4, format='%',gridWidth=.6, gridColor='#dddddd'))\n",
    ").properties(width=100, height=100).facet(\n",
    "    facet=alt.Facet('airport:N', title=''),\n",
    "    columns=7,\n",
    "    title='Daily reduction in scheduled flights, by U.S. airport'\n",
    ").configure_view(strokeOpacity=0)"
   ]
  },
  {
   "cell_type": "code",
   "execution_count": null,
   "metadata": {},
   "outputs": [],
   "source": [
    "alt.Chart(europe_merge).mark_bar(color='#90d1e2', size=1.3).encode(\n",
    "    x=alt.X('date:T', title='', axis=alt.Axis(tickCount=3, format='%b. %-d', grid=False)),\n",
    "    y=alt.Y('pct_diff:Q', title=None, axis=alt.Axis(tickSize=0, domainOpacity=0, tickCount=4, format='%',\n",
    "                                                    gridWidth=.8, gridColor='#dddddd'))\n",
    ").properties(width=100, height=100).facet(\n",
    "    facet=alt.Facet('airport:N', title=None),\n",
    "    columns=7,\n",
    "    title='Daily reduction in scheduled flights, by European airport'\n",
    ").configure_view(strokeOpacity=0)"
   ]
  },
  {
   "cell_type": "markdown",
   "metadata": {},
   "source": [
    "--- "
   ]
  },
  {
   "cell_type": "markdown",
   "metadata": {},
   "source": [
    "## Loop and cut little charts for each airport in the US and Europe"
   ]
  },
  {
   "cell_type": "markdown",
   "metadata": {},
   "source": [
    "### Cut individual USA charts with no axis"
   ]
  },
  {
   "cell_type": "code",
   "execution_count": null,
   "metadata": {},
   "outputs": [],
   "source": [
    "usa_chart_no_y = []\n",
    "\n",
    "for a in usa_src['airport'].unique():\n",
    "    data = pd.DataFrame(usa_src[usa_src['airport'] == a])\n",
    "    for i in data:\n",
    "        usa_chart_no_y.append(alt.Chart(data).mark_bar(size=1.3,color='#90d1e2').encode(\n",
    "        x=alt.X('date:T', title='', axis=alt.Axis(tickSize=0, domainOpacity=0,labelColor='#ffffff',tickCount=3, \\\n",
    "                                                  format='%b. %-d',grid=False)),\n",
    "        y=alt.Y('pct_diff:Q', title=None, axis=alt.Axis(labelColor='#ffffff',tickCount=4,tickSize=0, \n",
    "                            domainOpacity=0, format='%',gridWidth=.6, gridColor='#dddddd'),\n",
    "        scale=alt.Scale(domain=(-1, 0)))\n",
    ").configure(\n",
    "    padding={\"left\": -40, \"top\": 0, \"right\": 0, \"bottom\": 0}\n",
    ").properties(width=100, height=100,\n",
    "    title='').configure_view(strokeOpacity=0))\n",
    "    for c in usa_chart_no_y:\n",
    "        save(c, '/Users/mhustiles/data/github/\\\n",
    "coronavirus-flight-viz/assetsimages/usa/{}_noaxis.png'.format(a), scale_factor=2.0)"
   ]
  },
  {
   "cell_type": "markdown",
   "metadata": {},
   "source": [
    "### Just LAX for annotation"
   ]
  },
  {
   "cell_type": "code",
   "execution_count": null,
   "metadata": {},
   "outputs": [],
   "source": [
    "chart = alt.Chart(lax).mark_bar(size=1.3,color='#90d1e2').encode(\n",
    "        x=alt.X('date:T', title='', axis=alt.Axis(tickSize=0, domainOpacity=0, labelColor='#ffffff', tickCount=3, format='%b. %-d',grid=False)),\n",
    "        y=alt.Y('pct_diff:Q', title=None, axis=alt.Axis(labelColor='#ffffff',tickCount=4,tickSize=0, \n",
    "                            domainOpacity=0, format='%',gridWidth=.6, gridColor='#dddddd'),\n",
    "        scale=alt.Scale(domain=(-1, 0)))\n",
    ")"
   ]
  },
  {
   "cell_type": "code",
   "execution_count": null,
   "metadata": {},
   "outputs": [],
   "source": [
    "text = (\n",
    "    alt.Chart(lax.query(\"pct_diff == pct_diff.min()\"))\n",
    "    .mark_text(dy=10, color=\"#333333\", font='Benton Gothic', fontWeight='bolder', fontSize=8)\n",
    "    .encode(x=alt.X(\"date:T\"), y=alt.Y(\"pct_diff:Q\"), text=alt.Text(\"pct_diff:Q\",format=',.0%'))\n",
    ")"
   ]
  },
  {
   "cell_type": "code",
   "execution_count": null,
   "metadata": {},
   "outputs": [],
   "source": [
    "save((chart + text).configure(\n",
    "    padding={\"left\": -40, \"top\": 0, \"right\": 0, \"bottom\": 0}\n",
    ").properties(width=100, height=100,\n",
    "    title='').configure_view(strokeOpacity=0),'/Users/mhustiles/data/github/\\\n",
    "coronavirus-flight-viz/assetsimages/usa/LAX_noaxis.png', scale_factor=2.0)"
   ]
  },
  {
   "cell_type": "markdown",
   "metadata": {},
   "source": [
    "---"
   ]
  },
  {
   "cell_type": "markdown",
   "metadata": {},
   "source": [
    "### TSA rider data"
   ]
  },
  {
   "cell_type": "code",
   "execution_count": null,
   "metadata": {},
   "outputs": [],
   "source": [
    "url = 'https://www.tsa.gov/coronavirus/passenger-throughput'"
   ]
  },
  {
   "cell_type": "code",
   "execution_count": null,
   "metadata": {},
   "outputs": [],
   "source": [
    "header = {\n",
    "  \"User-Agent\": \"Mozilla/5.0 (X11; Linux x86_64) AppleWebKit/537.36 (KHTML, like Gecko) Chrome/50.0.2661.75 Safari/537.36\",\n",
    "  \"X-Requested-With\": \"XMLHttpRequest\"\n",
    "}"
   ]
  },
  {
   "cell_type": "code",
   "execution_count": null,
   "metadata": {},
   "outputs": [],
   "source": [
    "r = requests.get(url, headers=header)"
   ]
  },
  {
   "cell_type": "code",
   "execution_count": null,
   "metadata": {},
   "outputs": [],
   "source": [
    "tsa_dfs = pd.read_html(r.text)"
   ]
  },
  {
   "cell_type": "code",
   "execution_count": null,
   "metadata": {},
   "outputs": [],
   "source": [
    "tsa_tables = pd.DataFrame(tsa_dfs[0])"
   ]
  },
  {
   "cell_type": "code",
   "execution_count": null,
   "metadata": {},
   "outputs": [],
   "source": [
    "tsa_tables.rename(columns={\"0\":\"date\",\"1\":\"2020 Travelers\",\"2\":\"2019 Travelers\"}, inplace=True)"
   ]
  },
  {
   "cell_type": "code",
   "execution_count": null,
   "metadata": {},
   "outputs": [],
   "source": [
    "tsa_tables.columns = [\"date\", \"2020\", \"2019\"]"
   ]
  },
  {
   "cell_type": "code",
   "execution_count": null,
   "metadata": {},
   "outputs": [],
   "source": [
    "tsa_tables = tsa_tables.iloc[1:]"
   ]
  },
  {
   "cell_type": "code",
   "execution_count": null,
   "metadata": {},
   "outputs": [],
   "source": [
    "tsa_tables['date'] = pd.to_datetime(tsa_tables['date'])"
   ]
  },
  {
   "cell_type": "code",
   "execution_count": null,
   "metadata": {},
   "outputs": [],
   "source": [
    "tsa_tables"
   ]
  },
  {
   "cell_type": "code",
   "execution_count": null,
   "metadata": {},
   "outputs": [],
   "source": [
    "tsa_tables_melt = pd.melt(tsa_tables, id_vars=['date'], value_vars=['2020', '2019'],\n",
    "        var_name='year', value_name='travelers')"
   ]
  },
  {
   "cell_type": "code",
   "execution_count": null,
   "metadata": {},
   "outputs": [],
   "source": [
    "tsa_tables_melt.head()"
   ]
  },
  {
   "cell_type": "code",
   "execution_count": null,
   "metadata": {},
   "outputs": [],
   "source": [
    "tsa_tables.to_csv('output/tsa_tables.csv')"
   ]
  },
  {
   "cell_type": "code",
   "execution_count": null,
   "metadata": {},
   "outputs": [],
   "source": [
    "tsa_tables_melt.to_csv('output/tsa_tables_melt.csv')"
   ]
  },
  {
   "cell_type": "code",
   "execution_count": null,
   "metadata": {},
   "outputs": [],
   "source": [
    "desktop_chart = alt.Chart(tsa_tables_melt).mark_line(size=3).encode(\n",
    "    x=alt.X('date:T', title='', axis=alt.Axis(tickCount=5, format='%b. %-d', grid=False)),\n",
    "    y=alt.Y('travelers:Q', title='', axis=alt.Axis(tickSize=0,domainOpacity=0,\\\n",
    "                                    tickCount=6,offset=3, gridWidth=.6, gridColor='#dddddd', format='.1s')),\n",
    "    color=alt.Color('year',\n",
    "                   scale=alt.Scale(\n",
    "            domain=['2020', '2019'],\n",
    "            range=['#c2dfe4', '#065360']), legend=None),\n",
    ").properties(width=600, height=350,\n",
    "    title=''\n",
    ")\n",
    "\n",
    "# desktop_chart.configure_legend(\n",
    "#     fillColor='',\n",
    "#     padding=0,\n",
    "#     cornerRadius=0,\n",
    "#     orient='top',\n",
    "#     title=None,\n",
    "#     symbolType='stroke'\n",
    "# )\n",
    "\n",
    "desktop_chart.configure_view(strokeOpacity=0)"
   ]
  },
  {
   "cell_type": "code",
   "execution_count": null,
   "metadata": {},
   "outputs": [],
   "source": [
    "save(desktop_chart.configure_view(strokeOpacity=0), 'images/tsa_desktop.png', scale_factor=2.0)\n",
    "save(desktop_chart.configure_view(strokeOpacity=0), 'images/tsa_desktop.svg', scale_factor=2.0)"
   ]
  },
  {
   "cell_type": "code",
   "execution_count": null,
   "metadata": {},
   "outputs": [],
   "source": [
    "mobile_chart = alt.Chart(tsa_tables_melt).mark_line(size=3, color='#444444').encode(\n",
    "    x=alt.X('date:T', title='', axis=alt.Axis(tickCount=2, format='%b. %-d', grid=False)),\n",
    "    y=alt.Y('travelers:Q', title='', axis=alt.Axis(tickSize=0,domainOpacity=0,\\\n",
    "                                    tickCount=6, gridWidth=.6, offset=3, gridColor='#dddddd', format='.1s')),\n",
    "#     color=alt.Color('year', legend=None, scale=alt.Scale(scheme='dark2')),\n",
    "    color=alt.Color('year',\n",
    "                   scale=alt.Scale(\n",
    "            domain=['2020', '2019'],\n",
    "            range=['#c2dfe4', '#065360']), legend=None)\n",
    ").properties(width=320, height=250,\n",
    "    title=''\n",
    ")\n",
    "\n",
    "# mobile_chart.configure_legend(\n",
    "#     fillColor='',\n",
    "#     padding=0,\n",
    "#     cornerRadius=0,\n",
    "#     orient='top',\n",
    "#     title=None,\n",
    "#     symbolType='stroke'\n",
    "# )\n",
    "mobile_chart.configure_view(strokeOpacity=0)"
   ]
  },
  {
   "cell_type": "code",
   "execution_count": null,
   "metadata": {},
   "outputs": [],
   "source": [
    "save(mobile_chart.configure_view(strokeOpacity=0), 'images/tsa_mobile.png', scale_factor=2.0)\n",
    "save(mobile_chart.configure_view(strokeOpacity=0), 'images/tsa_mobile.svg', scale_factor=2.0)"
   ]
  },
  {
   "cell_type": "code",
   "execution_count": null,
   "metadata": {},
   "outputs": [],
   "source": [
    "# chart2=alt.Chart(tsa_tables).mark_trail(size=10,color='#20d5f0').encode(\n",
    "#     x=alt.X('Date:T', title='', axis=alt.Axis(tickCount=6, format='%b %d')),\n",
    "#     y=alt.Y('2019 Travelers:Q', title='Persons screened')\n",
    "# )"
   ]
  },
  {
   "cell_type": "code",
   "execution_count": null,
   "metadata": {},
   "outputs": [],
   "source": []
  },
  {
   "cell_type": "code",
   "execution_count": null,
   "metadata": {},
   "outputs": [],
   "source": []
  },
  {
   "cell_type": "code",
   "execution_count": null,
   "metadata": {},
   "outputs": [],
   "source": []
  },
  {
   "cell_type": "code",
   "execution_count": null,
   "metadata": {},
   "outputs": [],
   "source": []
  },
  {
   "cell_type": "code",
   "execution_count": null,
   "metadata": {},
   "outputs": [],
   "source": []
  },
  {
   "cell_type": "code",
   "execution_count": null,
   "metadata": {},
   "outputs": [],
   "source": []
  }
 ],
 "metadata": {
  "kernelspec": {
   "display_name": "Python 3",
   "language": "python",
   "name": "python3"
  },
  "language_info": {
   "codemirror_mode": {
    "name": "ipython",
    "version": 3
   },
   "file_extension": ".py",
   "mimetype": "text/x-python",
   "name": "python",
   "nbconvert_exporter": "python",
   "pygments_lexer": "ipython3",
   "version": "3.7.4"
  }
 },
 "nbformat": 4,
 "nbformat_minor": 4
}
