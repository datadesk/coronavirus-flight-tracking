{
 "cells": [
  {
   "cell_type": "markdown",
   "metadata": {},
   "source": [
    "# Processing coronavirus impact on global flights"
   ]
  },
  {
   "cell_type": "markdown",
   "metadata": {},
   "source": [
    "### Load Python tools"
   ]
  },
  {
   "cell_type": "code",
   "execution_count": 1,
   "metadata": {},
   "outputs": [
    {
     "data": {
      "text/plain": [
       "ThemeRegistry.enable('latimes')"
      ]
     },
     "execution_count": 1,
     "metadata": {},
     "output_type": "execute_result"
    }
   ],
   "source": [
    "import pandas as pd\n",
    "import geopandas as gpd\n",
    "import matplotlib\n",
    "import matplotlib.pyplot as plt\n",
    "import openpyxl\n",
    "import altair as alt\n",
    "from altair_saver import save\n",
    "import lxml\n",
    "import requests\n",
    "from shapely.geometry import Point, LineString\n",
    "import geojson\n",
    "import json\n",
    "import glob\n",
    "import io\n",
    "import os\n",
    "import pyarrow\n",
    "from shapely.geometry import Point, LineString, MultiLineString\n",
    "import altair_latimes as lat\n",
    "alt.themes.register('latimes', lat.theme)\n",
    "alt.themes.enable('latimes')"
   ]
  },
  {
   "cell_type": "markdown",
   "metadata": {},
   "source": [
    "## Process 'flights' metadata for Tuesdays from Jan 10 to March 24"
   ]
  },
  {
   "cell_type": "code",
   "execution_count": 2,
   "metadata": {},
   "outputs": [],
   "source": [
    "# https://secure.flightradar24.com/general_media/"
   ]
  },
  {
   "cell_type": "code",
   "execution_count": 3,
   "metadata": {},
   "outputs": [],
   "source": [
    "a_flight = pd.read_csv('coronavirus/20200324_flights.csv')"
   ]
  },
  {
   "cell_type": "code",
   "execution_count": 4,
   "metadata": {},
   "outputs": [
    {
     "data": {
      "text/html": [
       "<div>\n",
       "<style scoped>\n",
       "    .dataframe tbody tr th:only-of-type {\n",
       "        vertical-align: middle;\n",
       "    }\n",
       "\n",
       "    .dataframe tbody tr th {\n",
       "        vertical-align: top;\n",
       "    }\n",
       "\n",
       "    .dataframe thead th {\n",
       "        text-align: right;\n",
       "    }\n",
       "</style>\n",
       "<table border=\"1\" class=\"dataframe\">\n",
       "  <thead>\n",
       "    <tr style=\"text-align: right;\">\n",
       "      <th></th>\n",
       "      <th>flight_id</th>\n",
       "      <th>aircraft_id</th>\n",
       "      <th>reg</th>\n",
       "      <th>equip</th>\n",
       "      <th>callsign</th>\n",
       "      <th>flight</th>\n",
       "      <th>schd_from</th>\n",
       "      <th>schd_to</th>\n",
       "      <th>real_to</th>\n",
       "      <th>reserved</th>\n",
       "    </tr>\n",
       "  </thead>\n",
       "  <tbody>\n",
       "    <tr>\n",
       "      <td>0</td>\n",
       "      <td>608291364</td>\n",
       "      <td>4976852</td>\n",
       "      <td>NaN</td>\n",
       "      <td>GRND</td>\n",
       "      <td>FLWME3</td>\n",
       "      <td>NaN</td>\n",
       "      <td>AYT</td>\n",
       "      <td>NaN</td>\n",
       "      <td>NaN</td>\n",
       "      <td>NaN</td>\n",
       "    </tr>\n",
       "    <tr>\n",
       "      <td>1</td>\n",
       "      <td>608298331</td>\n",
       "      <td>5313483</td>\n",
       "      <td>NaN</td>\n",
       "      <td>NaN</td>\n",
       "      <td>SAATJA4</td>\n",
       "      <td>NaN</td>\n",
       "      <td>TLL</td>\n",
       "      <td>NaN</td>\n",
       "      <td>NaN</td>\n",
       "      <td>NaN</td>\n",
       "    </tr>\n",
       "    <tr>\n",
       "      <td>2</td>\n",
       "      <td>608288050</td>\n",
       "      <td>4546612</td>\n",
       "      <td>NaN</td>\n",
       "      <td>GRND</td>\n",
       "      <td>RANGER2</td>\n",
       "      <td>NaN</td>\n",
       "      <td>SOF</td>\n",
       "      <td>NaN</td>\n",
       "      <td>NaN</td>\n",
       "      <td>NaN</td>\n",
       "    </tr>\n",
       "    <tr>\n",
       "      <td>3</td>\n",
       "      <td>608300515</td>\n",
       "      <td>4735585</td>\n",
       "      <td>LJ-Light</td>\n",
       "      <td>GRND</td>\n",
       "      <td>LI</td>\n",
       "      <td>NaN</td>\n",
       "      <td>NaN</td>\n",
       "      <td>NaN</td>\n",
       "      <td>NaN</td>\n",
       "      <td>NaN</td>\n",
       "    </tr>\n",
       "    <tr>\n",
       "      <td>4</td>\n",
       "      <td>608298634</td>\n",
       "      <td>11402224</td>\n",
       "      <td>NaN</td>\n",
       "      <td>NaN</td>\n",
       "      <td>BIRD</td>\n",
       "      <td>NaN</td>\n",
       "      <td>DMK</td>\n",
       "      <td>NaN</td>\n",
       "      <td>NaN</td>\n",
       "      <td>NaN</td>\n",
       "    </tr>\n",
       "  </tbody>\n",
       "</table>\n",
       "</div>"
      ],
      "text/plain": [
       "   flight_id  aircraft_id       reg equip callsign flight schd_from schd_to  \\\n",
       "0  608291364      4976852       NaN  GRND   FLWME3    NaN       AYT     NaN   \n",
       "1  608298331      5313483       NaN   NaN  SAATJA4    NaN       TLL     NaN   \n",
       "2  608288050      4546612       NaN  GRND  RANGER2    NaN       SOF     NaN   \n",
       "3  608300515      4735585  LJ-Light  GRND       LI    NaN       NaN     NaN   \n",
       "4  608298634     11402224       NaN   NaN     BIRD    NaN       DMK     NaN   \n",
       "\n",
       "  real_to  reserved  \n",
       "0     NaN       NaN  \n",
       "1     NaN       NaN  \n",
       "2     NaN       NaN  \n",
       "3     NaN       NaN  \n",
       "4     NaN       NaN  "
      ]
     },
     "execution_count": 4,
     "metadata": {},
     "output_type": "execute_result"
    }
   ],
   "source": [
    "a_flight.head()"
   ]
  },
  {
   "cell_type": "markdown",
   "metadata": {},
   "source": [
    "### Set path for flights and define the files we'll concatenate"
   ]
  },
  {
   "cell_type": "code",
   "execution_count": 5,
   "metadata": {},
   "outputs": [],
   "source": [
    "path = 'coronavirus/'\n",
    "files = glob.glob(os.path.join(path, \"*flights.csv\"))"
   ]
  },
  {
   "cell_type": "markdown",
   "metadata": {},
   "source": [
    "### Read the csvs and create a 'date' field in the table"
   ]
  },
  {
   "cell_type": "code",
   "execution_count": 6,
   "metadata": {},
   "outputs": [],
   "source": [
    "file_df = (pd.read_csv(f, encoding = \"ISO-8859-1\", low_memory=False)\\\n",
    "           .assign(date=os.path.basename(f)) for f in files)"
   ]
  },
  {
   "cell_type": "markdown",
   "metadata": {},
   "source": [
    "### Combined our newly processed flight files"
   ]
  },
  {
   "cell_type": "code",
   "execution_count": 7,
   "metadata": {},
   "outputs": [],
   "source": [
    "flights_df = pd.concat(file_df, ignore_index=True)"
   ]
  },
  {
   "cell_type": "code",
   "execution_count": 8,
   "metadata": {},
   "outputs": [
    {
     "data": {
      "text/html": [
       "<div>\n",
       "<style scoped>\n",
       "    .dataframe tbody tr th:only-of-type {\n",
       "        vertical-align: middle;\n",
       "    }\n",
       "\n",
       "    .dataframe tbody tr th {\n",
       "        vertical-align: top;\n",
       "    }\n",
       "\n",
       "    .dataframe thead th {\n",
       "        text-align: right;\n",
       "    }\n",
       "</style>\n",
       "<table border=\"1\" class=\"dataframe\">\n",
       "  <thead>\n",
       "    <tr style=\"text-align: right;\">\n",
       "      <th></th>\n",
       "      <th>flight_id</th>\n",
       "      <th>aircraft_id</th>\n",
       "      <th>reg</th>\n",
       "      <th>equip</th>\n",
       "      <th>callsign</th>\n",
       "      <th>flight</th>\n",
       "      <th>schd_from</th>\n",
       "      <th>schd_to</th>\n",
       "      <th>real_to</th>\n",
       "      <th>reserved</th>\n",
       "      <th>date</th>\n",
       "    </tr>\n",
       "  </thead>\n",
       "  <tbody>\n",
       "    <tr>\n",
       "      <td>0</td>\n",
       "      <td>608291364</td>\n",
       "      <td>4976852</td>\n",
       "      <td>NaN</td>\n",
       "      <td>GRND</td>\n",
       "      <td>FLWME3</td>\n",
       "      <td>NaN</td>\n",
       "      <td>AYT</td>\n",
       "      <td>NaN</td>\n",
       "      <td>NaN</td>\n",
       "      <td>NaN</td>\n",
       "      <td>20200324_flights.csv</td>\n",
       "    </tr>\n",
       "    <tr>\n",
       "      <td>1</td>\n",
       "      <td>608298331</td>\n",
       "      <td>5313483</td>\n",
       "      <td>NaN</td>\n",
       "      <td>NaN</td>\n",
       "      <td>SAATJA4</td>\n",
       "      <td>NaN</td>\n",
       "      <td>TLL</td>\n",
       "      <td>NaN</td>\n",
       "      <td>NaN</td>\n",
       "      <td>NaN</td>\n",
       "      <td>20200324_flights.csv</td>\n",
       "    </tr>\n",
       "    <tr>\n",
       "      <td>2</td>\n",
       "      <td>608288050</td>\n",
       "      <td>4546612</td>\n",
       "      <td>NaN</td>\n",
       "      <td>GRND</td>\n",
       "      <td>RANGER2</td>\n",
       "      <td>NaN</td>\n",
       "      <td>SOF</td>\n",
       "      <td>NaN</td>\n",
       "      <td>NaN</td>\n",
       "      <td>NaN</td>\n",
       "      <td>20200324_flights.csv</td>\n",
       "    </tr>\n",
       "    <tr>\n",
       "      <td>3</td>\n",
       "      <td>608300515</td>\n",
       "      <td>4735585</td>\n",
       "      <td>LJ-Light</td>\n",
       "      <td>GRND</td>\n",
       "      <td>LI</td>\n",
       "      <td>NaN</td>\n",
       "      <td>NaN</td>\n",
       "      <td>NaN</td>\n",
       "      <td>NaN</td>\n",
       "      <td>NaN</td>\n",
       "      <td>20200324_flights.csv</td>\n",
       "    </tr>\n",
       "    <tr>\n",
       "      <td>4</td>\n",
       "      <td>608298634</td>\n",
       "      <td>11402224</td>\n",
       "      <td>NaN</td>\n",
       "      <td>NaN</td>\n",
       "      <td>BIRD</td>\n",
       "      <td>NaN</td>\n",
       "      <td>DMK</td>\n",
       "      <td>NaN</td>\n",
       "      <td>NaN</td>\n",
       "      <td>NaN</td>\n",
       "      <td>20200324_flights.csv</td>\n",
       "    </tr>\n",
       "  </tbody>\n",
       "</table>\n",
       "</div>"
      ],
      "text/plain": [
       "   flight_id  aircraft_id       reg equip callsign flight schd_from schd_to  \\\n",
       "0  608291364      4976852       NaN  GRND   FLWME3    NaN       AYT     NaN   \n",
       "1  608298331      5313483       NaN   NaN  SAATJA4    NaN       TLL     NaN   \n",
       "2  608288050      4546612       NaN  GRND  RANGER2    NaN       SOF     NaN   \n",
       "3  608300515      4735585  LJ-Light  GRND       LI    NaN       NaN     NaN   \n",
       "4  608298634     11402224       NaN   NaN     BIRD    NaN       DMK     NaN   \n",
       "\n",
       "  real_to  reserved                  date  \n",
       "0     NaN       NaN  20200324_flights.csv  \n",
       "1     NaN       NaN  20200324_flights.csv  \n",
       "2     NaN       NaN  20200324_flights.csv  \n",
       "3     NaN       NaN  20200324_flights.csv  \n",
       "4     NaN       NaN  20200324_flights.csv  "
      ]
     },
     "execution_count": 8,
     "metadata": {},
     "output_type": "execute_result"
    }
   ],
   "source": [
    "flights_df.head()"
   ]
  },
  {
   "cell_type": "markdown",
   "metadata": {},
   "source": [
    "### Clean up our dates for use later"
   ]
  },
  {
   "cell_type": "code",
   "execution_count": 9,
   "metadata": {},
   "outputs": [],
   "source": [
    "flights_df['date'] = flights_df['date']\\\n",
    "    .str.replace('_flights.csv','')"
   ]
  },
  {
   "cell_type": "code",
   "execution_count": 10,
   "metadata": {},
   "outputs": [],
   "source": [
    "flights_df['date'] = pd.to_datetime(flights_df.date, format='%Y%m%d')\n",
    "flights_df['month'] = flights_df['date'].dt.month \n",
    "flights_df['day'] = flights_df['date'].dt.day \n",
    "flights_df['weekday'] = flights_df['date'].dt.weekday_name"
   ]
  },
  {
   "cell_type": "markdown",
   "metadata": {},
   "source": [
    "### Filter flights list to large, commercial planes"
   ]
  },
  {
   "cell_type": "code",
   "execution_count": 11,
   "metadata": {},
   "outputs": [],
   "source": [
    "# large_planes = ['B738','A320','A321','B737','A20N',\\\n",
    "#                 'B739','B77W','B763','A332','B752',\\\n",
    "#                 'A21N','B789','AT75','A359','B772',\\\n",
    "#                 'B350','B744','A306', 'B733']"
   ]
  },
  {
   "cell_type": "code",
   "execution_count": 12,
   "metadata": {},
   "outputs": [],
   "source": [
    "# flights = flights_df[flights_df['equip'].isin(large_planes)]"
   ]
  },
  {
   "cell_type": "code",
   "execution_count": 13,
   "metadata": {},
   "outputs": [
    {
     "data": {
      "text/plain": [
       "2006722"
      ]
     },
     "execution_count": 13,
     "metadata": {},
     "output_type": "execute_result"
    }
   ],
   "source": [
    "len(flights_df)"
   ]
  },
  {
   "cell_type": "code",
   "execution_count": 14,
   "metadata": {},
   "outputs": [],
   "source": [
    "global_flights = flights_df.groupby(['date']).agg('size').reset_index(name='flights')"
   ]
  },
  {
   "cell_type": "code",
   "execution_count": 15,
   "metadata": {},
   "outputs": [
    {
     "data": {
      "text/html": [
       "<div>\n",
       "<style scoped>\n",
       "    .dataframe tbody tr th:only-of-type {\n",
       "        vertical-align: middle;\n",
       "    }\n",
       "\n",
       "    .dataframe tbody tr th {\n",
       "        vertical-align: top;\n",
       "    }\n",
       "\n",
       "    .dataframe thead th {\n",
       "        text-align: right;\n",
       "    }\n",
       "</style>\n",
       "<table border=\"1\" class=\"dataframe\">\n",
       "  <thead>\n",
       "    <tr style=\"text-align: right;\">\n",
       "      <th></th>\n",
       "      <th>date</th>\n",
       "      <th>flights</th>\n",
       "    </tr>\n",
       "  </thead>\n",
       "  <tbody>\n",
       "    <tr>\n",
       "      <td>0</td>\n",
       "      <td>2020-01-07</td>\n",
       "      <td>182377</td>\n",
       "    </tr>\n",
       "    <tr>\n",
       "      <td>1</td>\n",
       "      <td>2020-01-14</td>\n",
       "      <td>174493</td>\n",
       "    </tr>\n",
       "    <tr>\n",
       "      <td>2</td>\n",
       "      <td>2020-01-21</td>\n",
       "      <td>191671</td>\n",
       "    </tr>\n",
       "    <tr>\n",
       "      <td>3</td>\n",
       "      <td>2020-01-28</td>\n",
       "      <td>179810</td>\n",
       "    </tr>\n",
       "    <tr>\n",
       "      <td>4</td>\n",
       "      <td>2020-02-03</td>\n",
       "      <td>178703</td>\n",
       "    </tr>\n",
       "    <tr>\n",
       "      <td>5</td>\n",
       "      <td>2020-02-10</td>\n",
       "      <td>161538</td>\n",
       "    </tr>\n",
       "    <tr>\n",
       "      <td>6</td>\n",
       "      <td>2020-02-17</td>\n",
       "      <td>173752</td>\n",
       "    </tr>\n",
       "    <tr>\n",
       "      <td>7</td>\n",
       "      <td>2020-02-24</td>\n",
       "      <td>174097</td>\n",
       "    </tr>\n",
       "    <tr>\n",
       "      <td>8</td>\n",
       "      <td>2020-03-03</td>\n",
       "      <td>175658</td>\n",
       "    </tr>\n",
       "    <tr>\n",
       "      <td>9</td>\n",
       "      <td>2020-03-10</td>\n",
       "      <td>170359</td>\n",
       "    </tr>\n",
       "    <tr>\n",
       "      <td>10</td>\n",
       "      <td>2020-03-17</td>\n",
       "      <td>148121</td>\n",
       "    </tr>\n",
       "    <tr>\n",
       "      <td>11</td>\n",
       "      <td>2020-03-24</td>\n",
       "      <td>96143</td>\n",
       "    </tr>\n",
       "  </tbody>\n",
       "</table>\n",
       "</div>"
      ],
      "text/plain": [
       "         date  flights\n",
       "0  2020-01-07   182377\n",
       "1  2020-01-14   174493\n",
       "2  2020-01-21   191671\n",
       "3  2020-01-28   179810\n",
       "4  2020-02-03   178703\n",
       "5  2020-02-10   161538\n",
       "6  2020-02-17   173752\n",
       "7  2020-02-24   174097\n",
       "8  2020-03-03   175658\n",
       "9  2020-03-10   170359\n",
       "10 2020-03-17   148121\n",
       "11 2020-03-24    96143"
      ]
     },
     "execution_count": 15,
     "metadata": {},
     "output_type": "execute_result"
    }
   ],
   "source": [
    "global_flights.head(20)"
   ]
  },
  {
   "cell_type": "code",
   "execution_count": 76,
   "metadata": {},
   "outputs": [
    {
     "data": {
      "text/html": [
       "\n",
       "<div id=\"altair-viz-41fc059af80c434eadc4ad75d4705fdf\"></div>\n",
       "<script type=\"text/javascript\">\n",
       "  (function(spec, embedOpt){\n",
       "    const outputDiv = document.getElementById(\"altair-viz-41fc059af80c434eadc4ad75d4705fdf\");\n",
       "    const paths = {\n",
       "      \"vega\": \"https://cdn.jsdelivr.net/npm//vega@5?noext\",\n",
       "      \"vega-lib\": \"https://cdn.jsdelivr.net/npm//vega-lib?noext\",\n",
       "      \"vega-lite\": \"https://cdn.jsdelivr.net/npm//vega-lite@4.0.2?noext\",\n",
       "      \"vega-embed\": \"https://cdn.jsdelivr.net/npm//vega-embed@6?noext\",\n",
       "    };\n",
       "\n",
       "    function loadScript(lib) {\n",
       "      return new Promise(function(resolve, reject) {\n",
       "        var s = document.createElement('script');\n",
       "        s.src = paths[lib];\n",
       "        s.async = true;\n",
       "        s.onload = () => resolve(paths[lib]);\n",
       "        s.onerror = () => reject(`Error loading script: ${paths[lib]}`);\n",
       "        document.getElementsByTagName(\"head\")[0].appendChild(s);\n",
       "      });\n",
       "    }\n",
       "\n",
       "    function showError(err) {\n",
       "      outputDiv.innerHTML = `<div class=\"error\" style=\"color:red;\">${err}</div>`;\n",
       "      throw err;\n",
       "    }\n",
       "\n",
       "    function displayChart(vegaEmbed) {\n",
       "      vegaEmbed(outputDiv, spec, embedOpt)\n",
       "        .catch(err => showError(`Javascript Error: ${err.message}<br>This usually means there's a typo in your chart specification. See the javascript console for the full traceback.`));\n",
       "    }\n",
       "\n",
       "    if(typeof define === \"function\" && define.amd) {\n",
       "      requirejs.config({paths});\n",
       "      require([\"vega-embed\"], displayChart, err => showError(`Error loading script: ${err.message}`));\n",
       "    } else if (typeof vegaEmbed === \"function\") {\n",
       "      displayChart(vegaEmbed);\n",
       "    } else {\n",
       "      loadScript(\"vega\")\n",
       "        .then(() => loadScript(\"vega-lite\"))\n",
       "        .then(() => loadScript(\"vega-embed\"))\n",
       "        .catch(showError)\n",
       "        .then(() => displayChart(vegaEmbed));\n",
       "    }\n",
       "  })({\"config\": {\"view\": {\"width\": 800, \"height\": 450}, \"background\": \"#ffffff\", \"title\": {\"anchor\": \"start\", \"font\": \"Benton Gothic Bold, sans\", \"fontColor\": \"#000000\", \"fontSize\": 22, \"fontWeight\": \"normal\"}, \"arc\": {\"fill\": \"#82c6df\"}, \"area\": {\"fill\": \"#82c6df\"}, \"line\": {\"stroke\": \"#82c6df\", \"strokeWidth\": 3}, \"path\": {\"stroke\": \"#82c6df\"}, \"rect\": {\"fill\": \"#82c6df\"}, \"shape\": {\"stroke\": \"#82c6df\"}, \"bar\": {\"fill\": \"#82c6df\"}, \"point\": {\"stroke\": \"#82c6df\"}, \"symbol\": {\"fill\": \"#82c6df\", \"size\": 30}, \"axis\": {\"titleFont\": \"Benton Gothic Bold, sans\", \"titleFontSize\": 13, \"titleFontWeight\": \"normal\", \"labelFont\": \"Benton Gothic, sans\", \"labelFontSize\": 11.5, \"labelFontWeight\": \"normal\"}, \"axisX\": {\"labelAngle\": 0, \"labelPadding\": 4, \"tickSize\": 3}, \"axisY\": {\"labelBaseline\": \"middle\", \"maxExtent\": 45, \"minExtent\": 45, \"tickSize\": 2, \"titleAlign\": \"left\", \"titleAngle\": 0, \"titleX\": -45, \"titleY\": -11}, \"legend\": {\"titleFont\": \"Benton Gothic Bold, sans\", \"titleFontSize\": 13, \"titleFontWeight\": \"normal\", \"symbolType\": \"square\", \"labelFont\": \"Benton Gothic, sans\", \"labelFontSize\": 11.5}, \"range\": {\"category\": [\"#3580b1\", \"#ec8431\", \"#ab7fb4\", \"#c89d29\", \"#adc839\", \"#829eb1\"], \"diverging\": [\"#e68a4f\", \"#f4bb6a\", \"#f9e39c\", \"#dadfe2\", \"#a6b7c6\", \"#849eae\"], \"heatmap\": [\"#fbf2c7\", \"#f9e39c\", \"#f8d36e\", \"#f4bb6a\", \"#e68a4f\", \"#d15a40\", \"#ab4232\"], \"ordinal\": [\"#fbf2c7\", \"#f9e39c\", \"#f8d36e\", \"#f4bb6a\", \"#e68a4f\", \"#d15a40\", \"#ab4232\"], \"ramp\": [\"#fbf2c7\", \"#f9e39c\", \"#f8d36e\", \"#f4bb6a\", \"#e68a4f\", \"#d15a40\", \"#ab4232\"]}}, \"data\": {\"name\": \"data-401df136196e4b48bae3c63e568c6cd2\"}, \"mark\": {\"type\": \"line\", \"color\": \"#006D8F\", \"size\": 4}, \"encoding\": {\"x\": {\"type\": \"temporal\", \"axis\": {\"format\": \"%m/%d\", \"grid\": false, \"tickCount\": 6}, \"field\": \"date\", \"title\": \"\"}, \"y\": {\"type\": \"quantitative\", \"axis\": {\"format\": \".0s\", \"grid\": true, \"tickCount\": 6}, \"field\": \"flights\", \"title\": \"\"}}, \"height\": 200, \"title\": \"Global flights each Tuesday: Jan. 7 to March 24\", \"width\": 300, \"$schema\": \"https://vega.github.io/schema/vega-lite/v4.0.2.json\", \"datasets\": {\"data-401df136196e4b48bae3c63e568c6cd2\": [{\"date\": \"2020-01-07T00:00:00\", \"flights\": 182377}, {\"date\": \"2020-01-14T00:00:00\", \"flights\": 174493}, {\"date\": \"2020-01-21T00:00:00\", \"flights\": 191671}, {\"date\": \"2020-01-28T00:00:00\", \"flights\": 179810}, {\"date\": \"2020-02-03T00:00:00\", \"flights\": 178703}, {\"date\": \"2020-02-10T00:00:00\", \"flights\": 161538}, {\"date\": \"2020-02-17T00:00:00\", \"flights\": 173752}, {\"date\": \"2020-02-24T00:00:00\", \"flights\": 174097}, {\"date\": \"2020-03-03T00:00:00\", \"flights\": 175658}, {\"date\": \"2020-03-10T00:00:00\", \"flights\": 170359}, {\"date\": \"2020-03-17T00:00:00\", \"flights\": 148121}, {\"date\": \"2020-03-24T00:00:00\", \"flights\": 96143}]}}, {\"mode\": \"vega-lite\"});\n",
       "</script>"
      ],
      "text/plain": [
       "alt.Chart(...)"
      ]
     },
     "execution_count": 76,
     "metadata": {},
     "output_type": "execute_result"
    }
   ],
   "source": [
    "all_flights_chart_mobile = alt.Chart(global_flights).mark_line(size=4,color='#006D8F').encode(\n",
    "    x=alt.X('date:T', title='', axis=alt.Axis(grid=False, tickCount=6, format='%m/%d')),\n",
    "    y=alt.Y('flights:Q', title='', axis=alt.Axis(grid=True, tickCount=6, format='.0s'))\n",
    ").properties(width=300, height=200,\n",
    "    title='Global flights each Tuesday: Jan. 7 to March 24'\n",
    ")\n",
    "\n",
    "all_flights_chart_mobile"
   ]
  },
  {
   "cell_type": "code",
   "execution_count": 77,
   "metadata": {},
   "outputs": [
    {
     "data": {
      "text/html": [
       "\n",
       "<div id=\"altair-viz-eb59f09eb40e4885bc5a0398a182b7c2\"></div>\n",
       "<script type=\"text/javascript\">\n",
       "  (function(spec, embedOpt){\n",
       "    const outputDiv = document.getElementById(\"altair-viz-eb59f09eb40e4885bc5a0398a182b7c2\");\n",
       "    const paths = {\n",
       "      \"vega\": \"https://cdn.jsdelivr.net/npm//vega@5?noext\",\n",
       "      \"vega-lib\": \"https://cdn.jsdelivr.net/npm//vega-lib?noext\",\n",
       "      \"vega-lite\": \"https://cdn.jsdelivr.net/npm//vega-lite@4.0.2?noext\",\n",
       "      \"vega-embed\": \"https://cdn.jsdelivr.net/npm//vega-embed@6?noext\",\n",
       "    };\n",
       "\n",
       "    function loadScript(lib) {\n",
       "      return new Promise(function(resolve, reject) {\n",
       "        var s = document.createElement('script');\n",
       "        s.src = paths[lib];\n",
       "        s.async = true;\n",
       "        s.onload = () => resolve(paths[lib]);\n",
       "        s.onerror = () => reject(`Error loading script: ${paths[lib]}`);\n",
       "        document.getElementsByTagName(\"head\")[0].appendChild(s);\n",
       "      });\n",
       "    }\n",
       "\n",
       "    function showError(err) {\n",
       "      outputDiv.innerHTML = `<div class=\"error\" style=\"color:red;\">${err}</div>`;\n",
       "      throw err;\n",
       "    }\n",
       "\n",
       "    function displayChart(vegaEmbed) {\n",
       "      vegaEmbed(outputDiv, spec, embedOpt)\n",
       "        .catch(err => showError(`Javascript Error: ${err.message}<br>This usually means there's a typo in your chart specification. See the javascript console for the full traceback.`));\n",
       "    }\n",
       "\n",
       "    if(typeof define === \"function\" && define.amd) {\n",
       "      requirejs.config({paths});\n",
       "      require([\"vega-embed\"], displayChart, err => showError(`Error loading script: ${err.message}`));\n",
       "    } else if (typeof vegaEmbed === \"function\") {\n",
       "      displayChart(vegaEmbed);\n",
       "    } else {\n",
       "      loadScript(\"vega\")\n",
       "        .then(() => loadScript(\"vega-lite\"))\n",
       "        .then(() => loadScript(\"vega-embed\"))\n",
       "        .catch(showError)\n",
       "        .then(() => displayChart(vegaEmbed));\n",
       "    }\n",
       "  })({\"config\": {\"view\": {\"width\": 800, \"height\": 450}, \"background\": \"#ffffff\", \"title\": {\"anchor\": \"start\", \"font\": \"Benton Gothic Bold, sans\", \"fontColor\": \"#000000\", \"fontSize\": 22, \"fontWeight\": \"normal\"}, \"arc\": {\"fill\": \"#82c6df\"}, \"area\": {\"fill\": \"#82c6df\"}, \"line\": {\"stroke\": \"#82c6df\", \"strokeWidth\": 3}, \"path\": {\"stroke\": \"#82c6df\"}, \"rect\": {\"fill\": \"#82c6df\"}, \"shape\": {\"stroke\": \"#82c6df\"}, \"bar\": {\"fill\": \"#82c6df\"}, \"point\": {\"stroke\": \"#82c6df\"}, \"symbol\": {\"fill\": \"#82c6df\", \"size\": 30}, \"axis\": {\"titleFont\": \"Benton Gothic Bold, sans\", \"titleFontSize\": 13, \"titleFontWeight\": \"normal\", \"labelFont\": \"Benton Gothic, sans\", \"labelFontSize\": 11.5, \"labelFontWeight\": \"normal\"}, \"axisX\": {\"labelAngle\": 0, \"labelPadding\": 4, \"tickSize\": 3}, \"axisY\": {\"labelBaseline\": \"middle\", \"maxExtent\": 45, \"minExtent\": 45, \"tickSize\": 2, \"titleAlign\": \"left\", \"titleAngle\": 0, \"titleX\": -45, \"titleY\": -11}, \"legend\": {\"titleFont\": \"Benton Gothic Bold, sans\", \"titleFontSize\": 13, \"titleFontWeight\": \"normal\", \"symbolType\": \"square\", \"labelFont\": \"Benton Gothic, sans\", \"labelFontSize\": 11.5}, \"range\": {\"category\": [\"#3580b1\", \"#ec8431\", \"#ab7fb4\", \"#c89d29\", \"#adc839\", \"#829eb1\"], \"diverging\": [\"#e68a4f\", \"#f4bb6a\", \"#f9e39c\", \"#dadfe2\", \"#a6b7c6\", \"#849eae\"], \"heatmap\": [\"#fbf2c7\", \"#f9e39c\", \"#f8d36e\", \"#f4bb6a\", \"#e68a4f\", \"#d15a40\", \"#ab4232\"], \"ordinal\": [\"#fbf2c7\", \"#f9e39c\", \"#f8d36e\", \"#f4bb6a\", \"#e68a4f\", \"#d15a40\", \"#ab4232\"], \"ramp\": [\"#fbf2c7\", \"#f9e39c\", \"#f8d36e\", \"#f4bb6a\", \"#e68a4f\", \"#d15a40\", \"#ab4232\"]}}, \"data\": {\"name\": \"data-401df136196e4b48bae3c63e568c6cd2\"}, \"mark\": {\"type\": \"line\", \"color\": \"#006D8F\", \"size\": 4}, \"encoding\": {\"x\": {\"type\": \"temporal\", \"axis\": {\"format\": \"%m/%d\", \"grid\": false, \"tickCount\": 6}, \"field\": \"date\", \"title\": \"\"}, \"y\": {\"type\": \"quantitative\", \"axis\": {\"format\": \".0s\", \"grid\": true, \"tickCount\": 6}, \"field\": \"flights\", \"title\": \"\"}}, \"height\": 400, \"title\": \"Global flights each Tuesday: Jan. 7 to March 24\", \"width\": 800, \"$schema\": \"https://vega.github.io/schema/vega-lite/v4.0.2.json\", \"datasets\": {\"data-401df136196e4b48bae3c63e568c6cd2\": [{\"date\": \"2020-01-07T00:00:00\", \"flights\": 182377}, {\"date\": \"2020-01-14T00:00:00\", \"flights\": 174493}, {\"date\": \"2020-01-21T00:00:00\", \"flights\": 191671}, {\"date\": \"2020-01-28T00:00:00\", \"flights\": 179810}, {\"date\": \"2020-02-03T00:00:00\", \"flights\": 178703}, {\"date\": \"2020-02-10T00:00:00\", \"flights\": 161538}, {\"date\": \"2020-02-17T00:00:00\", \"flights\": 173752}, {\"date\": \"2020-02-24T00:00:00\", \"flights\": 174097}, {\"date\": \"2020-03-03T00:00:00\", \"flights\": 175658}, {\"date\": \"2020-03-10T00:00:00\", \"flights\": 170359}, {\"date\": \"2020-03-17T00:00:00\", \"flights\": 148121}, {\"date\": \"2020-03-24T00:00:00\", \"flights\": 96143}]}}, {\"mode\": \"vega-lite\"});\n",
       "</script>"
      ],
      "text/plain": [
       "alt.Chart(...)"
      ]
     },
     "execution_count": 77,
     "metadata": {},
     "output_type": "execute_result"
    }
   ],
   "source": [
    "all_flights_chart_desktop = alt.Chart(global_flights).mark_line(size=4,color='#006D8F').encode(\n",
    "    x=alt.X('date:T', title='', axis=alt.Axis(grid=False, tickCount=6, format='%m/%d')),\n",
    "    y=alt.Y('flights:Q', title='', axis=alt.Axis(grid=True, tickCount=6, format='.0s'))\n",
    ").properties(width=800, height=400,\n",
    "    title='Global flights each Tuesday: Jan. 7 to March 24'\n",
    ")\n",
    "\n",
    "all_flights_chart_desktop"
   ]
  },
  {
   "cell_type": "code",
   "execution_count": 82,
   "metadata": {},
   "outputs": [],
   "source": [
    "save(all_flights_chart_desktop, 'images/all_flights_chart_desktop.png', scale_factor=2.0)\n",
    "save(all_flights_chart_mobile, 'images/all_flights_chart_mobile.png', scale_factor=2.0)"
   ]
  },
  {
   "cell_type": "code",
   "execution_count": 83,
   "metadata": {},
   "outputs": [],
   "source": [
    "save(all_flights_chart_desktop, 'images/all_flights_chart_desktop.svg', scale_factor=2.0)\n",
    "save(all_flights_chart_mobile, 'images/all_flights_chart_mobile.svg', scale_factor=2.0)"
   ]
  },
  {
   "cell_type": "markdown",
   "metadata": {},
   "source": [
    "### Just flights from LAX, SFO, MXP, VCE"
   ]
  },
  {
   "cell_type": "code",
   "execution_count": 17,
   "metadata": {},
   "outputs": [],
   "source": [
    "from_lax = pd.DataFrame(flights_df[(flights_df['schd_from'] == 'LAX')|\\\n",
    "                  (flights_df['schd_from'] == 'SFO')|\\\n",
    "                  (flights_df['schd_from'] == 'MXP')|\\\n",
    "                  (flights_df['schd_from'] == 'VCE')])"
   ]
  },
  {
   "cell_type": "code",
   "execution_count": 18,
   "metadata": {},
   "outputs": [
    {
     "data": {
      "text/plain": [
       "LAX    16811\n",
       "SFO    10232\n",
       "MXP     2745\n",
       "VCE      907\n",
       "Name: schd_from, dtype: int64"
      ]
     },
     "execution_count": 18,
     "metadata": {},
     "output_type": "execute_result"
    }
   ],
   "source": [
    "from_lax.schd_from.value_counts()"
   ]
  },
  {
   "cell_type": "code",
   "execution_count": 19,
   "metadata": {},
   "outputs": [],
   "source": [
    "our_flights = from_lax.groupby(['date']).agg('size').reset_index(name='flights')"
   ]
  },
  {
   "cell_type": "code",
   "execution_count": 73,
   "metadata": {},
   "outputs": [
    {
     "data": {
      "text/html": [
       "\n",
       "<div id=\"altair-viz-81acf2bc56484fb19f20e20a19dff4d9\"></div>\n",
       "<script type=\"text/javascript\">\n",
       "  (function(spec, embedOpt){\n",
       "    const outputDiv = document.getElementById(\"altair-viz-81acf2bc56484fb19f20e20a19dff4d9\");\n",
       "    const paths = {\n",
       "      \"vega\": \"https://cdn.jsdelivr.net/npm//vega@5?noext\",\n",
       "      \"vega-lib\": \"https://cdn.jsdelivr.net/npm//vega-lib?noext\",\n",
       "      \"vega-lite\": \"https://cdn.jsdelivr.net/npm//vega-lite@4.0.2?noext\",\n",
       "      \"vega-embed\": \"https://cdn.jsdelivr.net/npm//vega-embed@6?noext\",\n",
       "    };\n",
       "\n",
       "    function loadScript(lib) {\n",
       "      return new Promise(function(resolve, reject) {\n",
       "        var s = document.createElement('script');\n",
       "        s.src = paths[lib];\n",
       "        s.async = true;\n",
       "        s.onload = () => resolve(paths[lib]);\n",
       "        s.onerror = () => reject(`Error loading script: ${paths[lib]}`);\n",
       "        document.getElementsByTagName(\"head\")[0].appendChild(s);\n",
       "      });\n",
       "    }\n",
       "\n",
       "    function showError(err) {\n",
       "      outputDiv.innerHTML = `<div class=\"error\" style=\"color:red;\">${err}</div>`;\n",
       "      throw err;\n",
       "    }\n",
       "\n",
       "    function displayChart(vegaEmbed) {\n",
       "      vegaEmbed(outputDiv, spec, embedOpt)\n",
       "        .catch(err => showError(`Javascript Error: ${err.message}<br>This usually means there's a typo in your chart specification. See the javascript console for the full traceback.`));\n",
       "    }\n",
       "\n",
       "    if(typeof define === \"function\" && define.amd) {\n",
       "      requirejs.config({paths});\n",
       "      require([\"vega-embed\"], displayChart, err => showError(`Error loading script: ${err.message}`));\n",
       "    } else if (typeof vegaEmbed === \"function\") {\n",
       "      displayChart(vegaEmbed);\n",
       "    } else {\n",
       "      loadScript(\"vega\")\n",
       "        .then(() => loadScript(\"vega-lite\"))\n",
       "        .then(() => loadScript(\"vega-embed\"))\n",
       "        .catch(showError)\n",
       "        .then(() => displayChart(vegaEmbed));\n",
       "    }\n",
       "  })({\"config\": {\"view\": {\"width\": 800, \"height\": 450}, \"background\": \"#ffffff\", \"title\": {\"anchor\": \"start\", \"font\": \"Benton Gothic Bold, sans\", \"fontColor\": \"#000000\", \"fontSize\": 22, \"fontWeight\": \"normal\"}, \"arc\": {\"fill\": \"#82c6df\"}, \"area\": {\"fill\": \"#82c6df\"}, \"line\": {\"stroke\": \"#82c6df\", \"strokeWidth\": 3}, \"path\": {\"stroke\": \"#82c6df\"}, \"rect\": {\"fill\": \"#82c6df\"}, \"shape\": {\"stroke\": \"#82c6df\"}, \"bar\": {\"fill\": \"#82c6df\"}, \"point\": {\"stroke\": \"#82c6df\"}, \"symbol\": {\"fill\": \"#82c6df\", \"size\": 30}, \"axis\": {\"titleFont\": \"Benton Gothic Bold, sans\", \"titleFontSize\": 13, \"titleFontWeight\": \"normal\", \"labelFont\": \"Benton Gothic, sans\", \"labelFontSize\": 11.5, \"labelFontWeight\": \"normal\"}, \"axisX\": {\"labelAngle\": 0, \"labelPadding\": 4, \"tickSize\": 3}, \"axisY\": {\"labelBaseline\": \"middle\", \"maxExtent\": 45, \"minExtent\": 45, \"tickSize\": 2, \"titleAlign\": \"left\", \"titleAngle\": 0, \"titleX\": -45, \"titleY\": -11}, \"legend\": {\"titleFont\": \"Benton Gothic Bold, sans\", \"titleFontSize\": 13, \"titleFontWeight\": \"normal\", \"symbolType\": \"square\", \"labelFont\": \"Benton Gothic, sans\", \"labelFontSize\": 11.5}, \"range\": {\"category\": [\"#3580b1\", \"#ec8431\", \"#ab7fb4\", \"#c89d29\", \"#adc839\", \"#829eb1\"], \"diverging\": [\"#e68a4f\", \"#f4bb6a\", \"#f9e39c\", \"#dadfe2\", \"#a6b7c6\", \"#849eae\"], \"heatmap\": [\"#fbf2c7\", \"#f9e39c\", \"#f8d36e\", \"#f4bb6a\", \"#e68a4f\", \"#d15a40\", \"#ab4232\"], \"ordinal\": [\"#fbf2c7\", \"#f9e39c\", \"#f8d36e\", \"#f4bb6a\", \"#e68a4f\", \"#d15a40\", \"#ab4232\"], \"ramp\": [\"#fbf2c7\", \"#f9e39c\", \"#f8d36e\", \"#f4bb6a\", \"#e68a4f\", \"#d15a40\", \"#ab4232\"]}}, \"data\": {\"name\": \"data-5c76d9a72b19ebbe93a5f2b8745d7edc\"}, \"mark\": {\"type\": \"line\", \"color\": \"#006D8F\", \"size\": 4}, \"encoding\": {\"x\": {\"type\": \"temporal\", \"axis\": {\"format\": \"%m/%d\", \"grid\": false, \"tickCount\": 6}, \"field\": \"date\", \"title\": \"\"}, \"y\": {\"type\": \"quantitative\", \"axis\": {\"format\": \"\", \"grid\": true, \"tickCount\": 6}, \"field\": \"flights\", \"title\": \"\"}}, \"height\": 400, \"title\": \"Flights from our airports each Tuesday: Jan. 7 to March 24\", \"width\": 800, \"$schema\": \"https://vega.github.io/schema/vega-lite/v4.0.2.json\", \"datasets\": {\"data-5c76d9a72b19ebbe93a5f2b8745d7edc\": [{\"date\": \"2020-01-07T00:00:00\", \"flights\": 2905}, {\"date\": \"2020-01-14T00:00:00\", \"flights\": 2749}, {\"date\": \"2020-01-21T00:00:00\", \"flights\": 2623}, {\"date\": \"2020-01-28T00:00:00\", \"flights\": 2651}, {\"date\": \"2020-02-03T00:00:00\", \"flights\": 2715}, {\"date\": \"2020-02-10T00:00:00\", \"flights\": 2714}, {\"date\": \"2020-02-17T00:00:00\", \"flights\": 2576}, {\"date\": \"2020-02-24T00:00:00\", \"flights\": 2899}, {\"date\": \"2020-03-03T00:00:00\", \"flights\": 2703}, {\"date\": \"2020-03-10T00:00:00\", \"flights\": 2441}, {\"date\": \"2020-03-17T00:00:00\", \"flights\": 2226}, {\"date\": \"2020-03-24T00:00:00\", \"flights\": 1493}]}}, {\"mode\": \"vega-lite\"});\n",
       "</script>"
      ],
      "text/plain": [
       "alt.Chart(...)"
      ]
     },
     "execution_count": 73,
     "metadata": {},
     "output_type": "execute_result"
    }
   ],
   "source": [
    "our_flights_chart_desktop = alt.Chart(our_flights).mark_line(size=4,color='#006D8F').encode(\n",
    "    x=alt.X('date:T', title='', axis=alt.Axis(grid=False, tickCount=6, format='%m/%d')),\n",
    "    y=alt.Y('flights:Q', title='', axis=alt.Axis(grid=True, tickCount=6, format=''))\n",
    ").properties(width=800, height=400,\n",
    "    title='Flights from our airports each Tuesday: Jan. 7 to March 24'\n",
    ")\n",
    "\n",
    "our_flights_chart_desktop"
   ]
  },
  {
   "cell_type": "code",
   "execution_count": 74,
   "metadata": {},
   "outputs": [
    {
     "data": {
      "text/html": [
       "\n",
       "<div id=\"altair-viz-d5a1a7f9d90c49ef8096d6400a91e475\"></div>\n",
       "<script type=\"text/javascript\">\n",
       "  (function(spec, embedOpt){\n",
       "    const outputDiv = document.getElementById(\"altair-viz-d5a1a7f9d90c49ef8096d6400a91e475\");\n",
       "    const paths = {\n",
       "      \"vega\": \"https://cdn.jsdelivr.net/npm//vega@5?noext\",\n",
       "      \"vega-lib\": \"https://cdn.jsdelivr.net/npm//vega-lib?noext\",\n",
       "      \"vega-lite\": \"https://cdn.jsdelivr.net/npm//vega-lite@4.0.2?noext\",\n",
       "      \"vega-embed\": \"https://cdn.jsdelivr.net/npm//vega-embed@6?noext\",\n",
       "    };\n",
       "\n",
       "    function loadScript(lib) {\n",
       "      return new Promise(function(resolve, reject) {\n",
       "        var s = document.createElement('script');\n",
       "        s.src = paths[lib];\n",
       "        s.async = true;\n",
       "        s.onload = () => resolve(paths[lib]);\n",
       "        s.onerror = () => reject(`Error loading script: ${paths[lib]}`);\n",
       "        document.getElementsByTagName(\"head\")[0].appendChild(s);\n",
       "      });\n",
       "    }\n",
       "\n",
       "    function showError(err) {\n",
       "      outputDiv.innerHTML = `<div class=\"error\" style=\"color:red;\">${err}</div>`;\n",
       "      throw err;\n",
       "    }\n",
       "\n",
       "    function displayChart(vegaEmbed) {\n",
       "      vegaEmbed(outputDiv, spec, embedOpt)\n",
       "        .catch(err => showError(`Javascript Error: ${err.message}<br>This usually means there's a typo in your chart specification. See the javascript console for the full traceback.`));\n",
       "    }\n",
       "\n",
       "    if(typeof define === \"function\" && define.amd) {\n",
       "      requirejs.config({paths});\n",
       "      require([\"vega-embed\"], displayChart, err => showError(`Error loading script: ${err.message}`));\n",
       "    } else if (typeof vegaEmbed === \"function\") {\n",
       "      displayChart(vegaEmbed);\n",
       "    } else {\n",
       "      loadScript(\"vega\")\n",
       "        .then(() => loadScript(\"vega-lite\"))\n",
       "        .then(() => loadScript(\"vega-embed\"))\n",
       "        .catch(showError)\n",
       "        .then(() => displayChart(vegaEmbed));\n",
       "    }\n",
       "  })({\"config\": {\"view\": {\"width\": 800, \"height\": 450}, \"background\": \"#ffffff\", \"title\": {\"anchor\": \"start\", \"font\": \"Benton Gothic Bold, sans\", \"fontColor\": \"#000000\", \"fontSize\": 22, \"fontWeight\": \"normal\"}, \"arc\": {\"fill\": \"#82c6df\"}, \"area\": {\"fill\": \"#82c6df\"}, \"line\": {\"stroke\": \"#82c6df\", \"strokeWidth\": 3}, \"path\": {\"stroke\": \"#82c6df\"}, \"rect\": {\"fill\": \"#82c6df\"}, \"shape\": {\"stroke\": \"#82c6df\"}, \"bar\": {\"fill\": \"#82c6df\"}, \"point\": {\"stroke\": \"#82c6df\"}, \"symbol\": {\"fill\": \"#82c6df\", \"size\": 30}, \"axis\": {\"titleFont\": \"Benton Gothic Bold, sans\", \"titleFontSize\": 13, \"titleFontWeight\": \"normal\", \"labelFont\": \"Benton Gothic, sans\", \"labelFontSize\": 11.5, \"labelFontWeight\": \"normal\"}, \"axisX\": {\"labelAngle\": 0, \"labelPadding\": 4, \"tickSize\": 3}, \"axisY\": {\"labelBaseline\": \"middle\", \"maxExtent\": 45, \"minExtent\": 45, \"tickSize\": 2, \"titleAlign\": \"left\", \"titleAngle\": 0, \"titleX\": -45, \"titleY\": -11}, \"legend\": {\"titleFont\": \"Benton Gothic Bold, sans\", \"titleFontSize\": 13, \"titleFontWeight\": \"normal\", \"symbolType\": \"square\", \"labelFont\": \"Benton Gothic, sans\", \"labelFontSize\": 11.5}, \"range\": {\"category\": [\"#3580b1\", \"#ec8431\", \"#ab7fb4\", \"#c89d29\", \"#adc839\", \"#829eb1\"], \"diverging\": [\"#e68a4f\", \"#f4bb6a\", \"#f9e39c\", \"#dadfe2\", \"#a6b7c6\", \"#849eae\"], \"heatmap\": [\"#fbf2c7\", \"#f9e39c\", \"#f8d36e\", \"#f4bb6a\", \"#e68a4f\", \"#d15a40\", \"#ab4232\"], \"ordinal\": [\"#fbf2c7\", \"#f9e39c\", \"#f8d36e\", \"#f4bb6a\", \"#e68a4f\", \"#d15a40\", \"#ab4232\"], \"ramp\": [\"#fbf2c7\", \"#f9e39c\", \"#f8d36e\", \"#f4bb6a\", \"#e68a4f\", \"#d15a40\", \"#ab4232\"]}}, \"data\": {\"name\": \"data-5c76d9a72b19ebbe93a5f2b8745d7edc\"}, \"mark\": {\"type\": \"line\", \"color\": \"#006D8F\", \"size\": 4}, \"encoding\": {\"x\": {\"type\": \"temporal\", \"axis\": {\"format\": \"%m/%d\", \"grid\": false, \"tickCount\": 6}, \"field\": \"date\", \"title\": \"\"}, \"y\": {\"type\": \"quantitative\", \"axis\": {\"format\": \"\", \"grid\": true, \"tickCount\": 6}, \"field\": \"flights\", \"title\": \"\"}}, \"height\": 200, \"title\": \"Flights from our airports each Tuesday: Jan. 7 to March 24\", \"width\": 300, \"$schema\": \"https://vega.github.io/schema/vega-lite/v4.0.2.json\", \"datasets\": {\"data-5c76d9a72b19ebbe93a5f2b8745d7edc\": [{\"date\": \"2020-01-07T00:00:00\", \"flights\": 2905}, {\"date\": \"2020-01-14T00:00:00\", \"flights\": 2749}, {\"date\": \"2020-01-21T00:00:00\", \"flights\": 2623}, {\"date\": \"2020-01-28T00:00:00\", \"flights\": 2651}, {\"date\": \"2020-02-03T00:00:00\", \"flights\": 2715}, {\"date\": \"2020-02-10T00:00:00\", \"flights\": 2714}, {\"date\": \"2020-02-17T00:00:00\", \"flights\": 2576}, {\"date\": \"2020-02-24T00:00:00\", \"flights\": 2899}, {\"date\": \"2020-03-03T00:00:00\", \"flights\": 2703}, {\"date\": \"2020-03-10T00:00:00\", \"flights\": 2441}, {\"date\": \"2020-03-17T00:00:00\", \"flights\": 2226}, {\"date\": \"2020-03-24T00:00:00\", \"flights\": 1493}]}}, {\"mode\": \"vega-lite\"});\n",
       "</script>"
      ],
      "text/plain": [
       "alt.Chart(...)"
      ]
     },
     "execution_count": 74,
     "metadata": {},
     "output_type": "execute_result"
    }
   ],
   "source": [
    "our_flights_chart_mobile = alt.Chart(our_flights).mark_line(size=4,color='#006D8F').encode(\n",
    "    x=alt.X('date:T', title='', axis=alt.Axis(grid=False, tickCount=6, format='%m/%d')),\n",
    "    y=alt.Y('flights:Q', title='', axis=alt.Axis(grid=True, tickCount=6, format=''))\n",
    ").properties(width=300, height=200,\n",
    "    title='Flights from our airports each Tuesday: Jan. 7 to March 24'\n",
    ")\n",
    "\n",
    "our_flights_chart_mobile"
   ]
  },
  {
   "cell_type": "code",
   "execution_count": 84,
   "metadata": {},
   "outputs": [],
   "source": [
    "save(our_flights_chart_desktop, 'images/our_flights_chart_desktop.png', scale_factor=2.0)\n",
    "save(our_flights_chart_mobile, 'images/our_flights_chart_mobile.png', scale_factor=2.0)"
   ]
  },
  {
   "cell_type": "code",
   "execution_count": 85,
   "metadata": {},
   "outputs": [],
   "source": [
    "save(our_flights_chart_desktop, 'images/our_flights_chart_desktop.svg', scale_factor=2.0)\n",
    "save(our_flights_chart_mobile, 'images/our_flights_chart_mobile.svg', scale_factor=2.0)"
   ]
  },
  {
   "cell_type": "markdown",
   "metadata": {},
   "source": [
    "### Drop shorter flights without a major airport listed as the final destination"
   ]
  },
  {
   "cell_type": "code",
   "execution_count": 21,
   "metadata": {},
   "outputs": [],
   "source": [
    "# from_lax = pd.DataFrame(from_lax.dropna(subset=['real_to']))"
   ]
  },
  {
   "cell_type": "code",
   "execution_count": 22,
   "metadata": {},
   "outputs": [],
   "source": [
    "# from_lax.schd_from.value_counts()"
   ]
  },
  {
   "cell_type": "markdown",
   "metadata": {},
   "source": [
    "### Make the flight id a string merge later"
   ]
  },
  {
   "cell_type": "code",
   "execution_count": 23,
   "metadata": {},
   "outputs": [],
   "source": [
    "from_lax['flight_id'] = from_lax['flight_id'].astype(str)"
   ]
  },
  {
   "cell_type": "code",
   "execution_count": 24,
   "metadata": {},
   "outputs": [],
   "source": [
    "from_lax_slim = from_lax[['flight_id', 'reg', 'equip', 'flight', 'schd_from', 'real_to']]"
   ]
  },
  {
   "cell_type": "code",
   "execution_count": 25,
   "metadata": {},
   "outputs": [],
   "source": [
    "from_lax_slim.to_csv('output/from_lax.csv')"
   ]
  },
  {
   "cell_type": "markdown",
   "metadata": {},
   "source": [
    "---"
   ]
  },
  {
   "cell_type": "markdown",
   "metadata": {},
   "source": [
    "## Process 'positions' data showing each point along a flight"
   ]
  },
  {
   "cell_type": "code",
   "execution_count": 26,
   "metadata": {},
   "outputs": [
    {
     "data": {
      "text/html": [
       "<div>\n",
       "<style scoped>\n",
       "    .dataframe tbody tr th:only-of-type {\n",
       "        vertical-align: middle;\n",
       "    }\n",
       "\n",
       "    .dataframe tbody tr th {\n",
       "        vertical-align: top;\n",
       "    }\n",
       "\n",
       "    .dataframe thead th {\n",
       "        text-align: right;\n",
       "    }\n",
       "</style>\n",
       "<table border=\"1\" class=\"dataframe\">\n",
       "  <thead>\n",
       "    <tr style=\"text-align: right;\">\n",
       "      <th></th>\n",
       "      <th>snapshot_id</th>\n",
       "      <th>altitude</th>\n",
       "      <th>heading</th>\n",
       "      <th>latitude</th>\n",
       "      <th>longitude</th>\n",
       "      <th>radar_id</th>\n",
       "      <th>speed</th>\n",
       "      <th>squawk</th>\n",
       "    </tr>\n",
       "  </thead>\n",
       "  <tbody>\n",
       "    <tr>\n",
       "      <td>0</td>\n",
       "      <td>1581908696</td>\n",
       "      <td>0</td>\n",
       "      <td>295</td>\n",
       "      <td>38.74120</td>\n",
       "      <td>-90.35629</td>\n",
       "      <td>5798</td>\n",
       "      <td>18</td>\n",
       "      <td>0</td>\n",
       "    </tr>\n",
       "    <tr>\n",
       "      <td>1</td>\n",
       "      <td>1581908707</td>\n",
       "      <td>0</td>\n",
       "      <td>296</td>\n",
       "      <td>38.74166</td>\n",
       "      <td>-90.35723</td>\n",
       "      <td>5798</td>\n",
       "      <td>0</td>\n",
       "      <td>0</td>\n",
       "    </tr>\n",
       "    <tr>\n",
       "      <td>2</td>\n",
       "      <td>1581908716</td>\n",
       "      <td>0</td>\n",
       "      <td>289</td>\n",
       "      <td>38.74215</td>\n",
       "      <td>-90.35832</td>\n",
       "      <td>5798</td>\n",
       "      <td>0</td>\n",
       "      <td>0</td>\n",
       "    </tr>\n",
       "    <tr>\n",
       "      <td>3</td>\n",
       "      <td>1581908726</td>\n",
       "      <td>0</td>\n",
       "      <td>300</td>\n",
       "      <td>38.74275</td>\n",
       "      <td>-90.35944</td>\n",
       "      <td>5798</td>\n",
       "      <td>0</td>\n",
       "      <td>0</td>\n",
       "    </tr>\n",
       "    <tr>\n",
       "      <td>4</td>\n",
       "      <td>1581908736</td>\n",
       "      <td>0</td>\n",
       "      <td>305</td>\n",
       "      <td>38.74332</td>\n",
       "      <td>-90.36056</td>\n",
       "      <td>5798</td>\n",
       "      <td>24</td>\n",
       "      <td>0</td>\n",
       "    </tr>\n",
       "  </tbody>\n",
       "</table>\n",
       "</div>"
      ],
      "text/plain": [
       "   snapshot_id  altitude  heading  latitude  longitude  radar_id  speed  \\\n",
       "0   1581908696         0      295  38.74120  -90.35629      5798     18   \n",
       "1   1581908707         0      296  38.74166  -90.35723      5798      0   \n",
       "2   1581908716         0      289  38.74215  -90.35832      5798      0   \n",
       "3   1581908726         0      300  38.74275  -90.35944      5798      0   \n",
       "4   1581908736         0      305  38.74332  -90.36056      5798     24   \n",
       "\n",
       "   squawk  \n",
       "0       0  \n",
       "1       0  \n",
       "2       0  \n",
       "3       0  \n",
       "4       0  "
      ]
     },
     "execution_count": 26,
     "metadata": {},
     "output_type": "execute_result"
    }
   ],
   "source": [
    "a_position = pd.read_csv('/Users/mhustiles/data/data/flights/coronavirus/\\\n",
    "positions/20200217_positions/20200217_602122877.csv')\n",
    "a_position.head()"
   ]
  },
  {
   "cell_type": "markdown",
   "metadata": {},
   "source": [
    "### Set path for our targeted positions directory and define the files we'll concatenate"
   ]
  },
  {
   "cell_type": "code",
   "execution_count": 27,
   "metadata": {},
   "outputs": [],
   "source": [
    "path = '/Users/mhustiles/data/data/flights/coronavirus/positions/'\n",
    "files = glob.glob(os.path.join(path, \"*/*.csv\"), recursive=True)"
   ]
  },
  {
   "cell_type": "code",
   "execution_count": 28,
   "metadata": {},
   "outputs": [],
   "source": [
    "file_df = (pd.read_csv(f, encoding = \"ISO-8859-1\", low_memory=False)\\\n",
    "           .assign(flightid=os.path.basename(f)) for f in files)"
   ]
  },
  {
   "cell_type": "markdown",
   "metadata": {},
   "source": [
    "### Concateate the frames"
   ]
  },
  {
   "cell_type": "code",
   "execution_count": 29,
   "metadata": {},
   "outputs": [],
   "source": [
    "positions_df = pd.concat(file_df, ignore_index=True)"
   ]
  },
  {
   "cell_type": "code",
   "execution_count": 30,
   "metadata": {},
   "outputs": [
    {
     "data": {
      "text/html": [
       "<div>\n",
       "<style scoped>\n",
       "    .dataframe tbody tr th:only-of-type {\n",
       "        vertical-align: middle;\n",
       "    }\n",
       "\n",
       "    .dataframe tbody tr th {\n",
       "        vertical-align: top;\n",
       "    }\n",
       "\n",
       "    .dataframe thead th {\n",
       "        text-align: right;\n",
       "    }\n",
       "</style>\n",
       "<table border=\"1\" class=\"dataframe\">\n",
       "  <thead>\n",
       "    <tr style=\"text-align: right;\">\n",
       "      <th></th>\n",
       "      <th>snapshot_id</th>\n",
       "      <th>altitude</th>\n",
       "      <th>heading</th>\n",
       "      <th>latitude</th>\n",
       "      <th>longitude</th>\n",
       "      <th>radar_id</th>\n",
       "      <th>speed</th>\n",
       "      <th>squawk</th>\n",
       "      <th>flightid</th>\n",
       "    </tr>\n",
       "  </thead>\n",
       "  <tbody>\n",
       "    <tr>\n",
       "      <td>0</td>\n",
       "      <td>1585073474</td>\n",
       "      <td>0</td>\n",
       "      <td>246</td>\n",
       "      <td>29.98221</td>\n",
       "      <td>-95.35144</td>\n",
       "      <td>5798</td>\n",
       "      <td>0</td>\n",
       "      <td>0</td>\n",
       "      <td>20200324_608444394.csv</td>\n",
       "    </tr>\n",
       "    <tr>\n",
       "      <td>1</td>\n",
       "      <td>1585073483</td>\n",
       "      <td>0</td>\n",
       "      <td>281</td>\n",
       "      <td>29.98213</td>\n",
       "      <td>-95.35208</td>\n",
       "      <td>5798</td>\n",
       "      <td>12</td>\n",
       "      <td>0</td>\n",
       "      <td>20200324_608444394.csv</td>\n",
       "    </tr>\n",
       "    <tr>\n",
       "      <td>2</td>\n",
       "      <td>1585073490</td>\n",
       "      <td>0</td>\n",
       "      <td>337</td>\n",
       "      <td>29.98241</td>\n",
       "      <td>-95.35230</td>\n",
       "      <td>5798</td>\n",
       "      <td>16</td>\n",
       "      <td>0</td>\n",
       "      <td>20200324_608444394.csv</td>\n",
       "    </tr>\n",
       "    <tr>\n",
       "      <td>3</td>\n",
       "      <td>1585073498</td>\n",
       "      <td>0</td>\n",
       "      <td>332</td>\n",
       "      <td>29.98303</td>\n",
       "      <td>-95.35276</td>\n",
       "      <td>5798</td>\n",
       "      <td>14</td>\n",
       "      <td>0</td>\n",
       "      <td>20200324_608444394.csv</td>\n",
       "    </tr>\n",
       "    <tr>\n",
       "      <td>4</td>\n",
       "      <td>1585073515</td>\n",
       "      <td>0</td>\n",
       "      <td>339</td>\n",
       "      <td>29.98390</td>\n",
       "      <td>-95.35322</td>\n",
       "      <td>5798</td>\n",
       "      <td>24</td>\n",
       "      <td>0</td>\n",
       "      <td>20200324_608444394.csv</td>\n",
       "    </tr>\n",
       "  </tbody>\n",
       "</table>\n",
       "</div>"
      ],
      "text/plain": [
       "   snapshot_id  altitude  heading  latitude  longitude  radar_id  speed  \\\n",
       "0   1585073474         0      246  29.98221  -95.35144      5798      0   \n",
       "1   1585073483         0      281  29.98213  -95.35208      5798     12   \n",
       "2   1585073490         0      337  29.98241  -95.35230      5798     16   \n",
       "3   1585073498         0      332  29.98303  -95.35276      5798     14   \n",
       "4   1585073515         0      339  29.98390  -95.35322      5798     24   \n",
       "\n",
       "   squawk                flightid  \n",
       "0       0  20200324_608444394.csv  \n",
       "1       0  20200324_608444394.csv  \n",
       "2       0  20200324_608444394.csv  \n",
       "3       0  20200324_608444394.csv  \n",
       "4       0  20200324_608444394.csv  "
      ]
     },
     "execution_count": 30,
     "metadata": {},
     "output_type": "execute_result"
    }
   ],
   "source": [
    "positions_df.head()"
   ]
  },
  {
   "cell_type": "code",
   "execution_count": 31,
   "metadata": {},
   "outputs": [
    {
     "data": {
      "text/plain": [
       "53205474"
      ]
     },
     "execution_count": 31,
     "metadata": {},
     "output_type": "execute_result"
    }
   ],
   "source": [
    "len(positions_df)"
   ]
  },
  {
   "cell_type": "markdown",
   "metadata": {},
   "source": [
    "### Combined our newly processed flight positions"
   ]
  },
  {
   "cell_type": "code",
   "execution_count": 32,
   "metadata": {},
   "outputs": [],
   "source": [
    "positions_df['flightid'] = positions_df['flightid'].str.replace('.csv','')"
   ]
  },
  {
   "cell_type": "markdown",
   "metadata": {},
   "source": [
    "### Split the flightid field so we have a date string to convert later and also a flightid"
   ]
  },
  {
   "cell_type": "code",
   "execution_count": 33,
   "metadata": {},
   "outputs": [],
   "source": [
    "positions_df[['datestr','flight_id']] = positions_df.flightid.str.split(\"_\",expand=True,)"
   ]
  },
  {
   "cell_type": "code",
   "execution_count": 34,
   "metadata": {},
   "outputs": [
    {
     "data": {
      "text/plain": [
       "53205474"
      ]
     },
     "execution_count": 34,
     "metadata": {},
     "output_type": "execute_result"
    }
   ],
   "source": [
    "len(positions_df)"
   ]
  },
  {
   "cell_type": "code",
   "execution_count": 35,
   "metadata": {},
   "outputs": [
    {
     "data": {
      "text/html": [
       "<div>\n",
       "<style scoped>\n",
       "    .dataframe tbody tr th:only-of-type {\n",
       "        vertical-align: middle;\n",
       "    }\n",
       "\n",
       "    .dataframe tbody tr th {\n",
       "        vertical-align: top;\n",
       "    }\n",
       "\n",
       "    .dataframe thead th {\n",
       "        text-align: right;\n",
       "    }\n",
       "</style>\n",
       "<table border=\"1\" class=\"dataframe\">\n",
       "  <thead>\n",
       "    <tr style=\"text-align: right;\">\n",
       "      <th></th>\n",
       "      <th>snapshot_id</th>\n",
       "      <th>altitude</th>\n",
       "      <th>heading</th>\n",
       "      <th>latitude</th>\n",
       "      <th>longitude</th>\n",
       "      <th>radar_id</th>\n",
       "      <th>speed</th>\n",
       "      <th>squawk</th>\n",
       "      <th>flightid</th>\n",
       "      <th>datestr</th>\n",
       "      <th>flight_id</th>\n",
       "    </tr>\n",
       "  </thead>\n",
       "  <tbody>\n",
       "    <tr>\n",
       "      <td>0</td>\n",
       "      <td>1585073474</td>\n",
       "      <td>0</td>\n",
       "      <td>246</td>\n",
       "      <td>29.98221</td>\n",
       "      <td>-95.35144</td>\n",
       "      <td>5798</td>\n",
       "      <td>0</td>\n",
       "      <td>0</td>\n",
       "      <td>20200324_608444394</td>\n",
       "      <td>20200324</td>\n",
       "      <td>608444394</td>\n",
       "    </tr>\n",
       "    <tr>\n",
       "      <td>1</td>\n",
       "      <td>1585073483</td>\n",
       "      <td>0</td>\n",
       "      <td>281</td>\n",
       "      <td>29.98213</td>\n",
       "      <td>-95.35208</td>\n",
       "      <td>5798</td>\n",
       "      <td>12</td>\n",
       "      <td>0</td>\n",
       "      <td>20200324_608444394</td>\n",
       "      <td>20200324</td>\n",
       "      <td>608444394</td>\n",
       "    </tr>\n",
       "    <tr>\n",
       "      <td>2</td>\n",
       "      <td>1585073490</td>\n",
       "      <td>0</td>\n",
       "      <td>337</td>\n",
       "      <td>29.98241</td>\n",
       "      <td>-95.35230</td>\n",
       "      <td>5798</td>\n",
       "      <td>16</td>\n",
       "      <td>0</td>\n",
       "      <td>20200324_608444394</td>\n",
       "      <td>20200324</td>\n",
       "      <td>608444394</td>\n",
       "    </tr>\n",
       "    <tr>\n",
       "      <td>3</td>\n",
       "      <td>1585073498</td>\n",
       "      <td>0</td>\n",
       "      <td>332</td>\n",
       "      <td>29.98303</td>\n",
       "      <td>-95.35276</td>\n",
       "      <td>5798</td>\n",
       "      <td>14</td>\n",
       "      <td>0</td>\n",
       "      <td>20200324_608444394</td>\n",
       "      <td>20200324</td>\n",
       "      <td>608444394</td>\n",
       "    </tr>\n",
       "    <tr>\n",
       "      <td>4</td>\n",
       "      <td>1585073515</td>\n",
       "      <td>0</td>\n",
       "      <td>339</td>\n",
       "      <td>29.98390</td>\n",
       "      <td>-95.35322</td>\n",
       "      <td>5798</td>\n",
       "      <td>24</td>\n",
       "      <td>0</td>\n",
       "      <td>20200324_608444394</td>\n",
       "      <td>20200324</td>\n",
       "      <td>608444394</td>\n",
       "    </tr>\n",
       "  </tbody>\n",
       "</table>\n",
       "</div>"
      ],
      "text/plain": [
       "   snapshot_id  altitude  heading  latitude  longitude  radar_id  speed  \\\n",
       "0   1585073474         0      246  29.98221  -95.35144      5798      0   \n",
       "1   1585073483         0      281  29.98213  -95.35208      5798     12   \n",
       "2   1585073490         0      337  29.98241  -95.35230      5798     16   \n",
       "3   1585073498         0      332  29.98303  -95.35276      5798     14   \n",
       "4   1585073515         0      339  29.98390  -95.35322      5798     24   \n",
       "\n",
       "   squawk            flightid   datestr  flight_id  \n",
       "0       0  20200324_608444394  20200324  608444394  \n",
       "1       0  20200324_608444394  20200324  608444394  \n",
       "2       0  20200324_608444394  20200324  608444394  \n",
       "3       0  20200324_608444394  20200324  608444394  \n",
       "4       0  20200324_608444394  20200324  608444394  "
      ]
     },
     "execution_count": 35,
     "metadata": {},
     "output_type": "execute_result"
    }
   ],
   "source": [
    "positions_df.head()"
   ]
  },
  {
   "cell_type": "markdown",
   "metadata": {},
   "source": [
    "### Merge and filter positions data to flights departing just our four airports"
   ]
  },
  {
   "cell_type": "code",
   "execution_count": 36,
   "metadata": {},
   "outputs": [],
   "source": [
    "our_positions = from_lax_slim.merge(positions_df, on='flight_id', how='inner')"
   ]
  },
  {
   "cell_type": "code",
   "execution_count": 37,
   "metadata": {},
   "outputs": [
    {
     "data": {
      "text/plain": [
       "947299"
      ]
     },
     "execution_count": 37,
     "metadata": {},
     "output_type": "execute_result"
    }
   ],
   "source": [
    "len(our_positions)"
   ]
  },
  {
   "cell_type": "markdown",
   "metadata": {},
   "source": [
    "### Export to our aiports frame to CSV"
   ]
  },
  {
   "cell_type": "code",
   "execution_count": 38,
   "metadata": {},
   "outputs": [],
   "source": [
    "our_positions.to_csv('/Users/mhustiles/data/data/flights/coronavirus/positions/our_positions.csv')"
   ]
  },
  {
   "cell_type": "markdown",
   "metadata": {},
   "source": [
    "---"
   ]
  },
  {
   "cell_type": "markdown",
   "metadata": {},
   "source": [
    "### Process the 'datestr' field into something we can use"
   ]
  },
  {
   "cell_type": "code",
   "execution_count": 39,
   "metadata": {},
   "outputs": [
    {
     "data": {
      "text/html": [
       "<div>\n",
       "<style scoped>\n",
       "    .dataframe tbody tr th:only-of-type {\n",
       "        vertical-align: middle;\n",
       "    }\n",
       "\n",
       "    .dataframe tbody tr th {\n",
       "        vertical-align: top;\n",
       "    }\n",
       "\n",
       "    .dataframe thead th {\n",
       "        text-align: right;\n",
       "    }\n",
       "</style>\n",
       "<table border=\"1\" class=\"dataframe\">\n",
       "  <thead>\n",
       "    <tr style=\"text-align: right;\">\n",
       "      <th></th>\n",
       "      <th>flight_id</th>\n",
       "      <th>reg</th>\n",
       "      <th>equip</th>\n",
       "      <th>flight</th>\n",
       "      <th>schd_from</th>\n",
       "      <th>real_to</th>\n",
       "      <th>snapshot_id</th>\n",
       "      <th>altitude</th>\n",
       "      <th>heading</th>\n",
       "      <th>latitude</th>\n",
       "      <th>longitude</th>\n",
       "      <th>radar_id</th>\n",
       "      <th>speed</th>\n",
       "      <th>squawk</th>\n",
       "      <th>flightid</th>\n",
       "      <th>datestr</th>\n",
       "    </tr>\n",
       "  </thead>\n",
       "  <tbody>\n",
       "    <tr>\n",
       "      <td>0</td>\n",
       "      <td>608290635</td>\n",
       "      <td>9VSGC</td>\n",
       "      <td>A359</td>\n",
       "      <td>SQ37</td>\n",
       "      <td>LAX</td>\n",
       "      <td>SIN</td>\n",
       "      <td>1585008019</td>\n",
       "      <td>40750</td>\n",
       "      <td>232</td>\n",
       "      <td>1.51936</td>\n",
       "      <td>105.99191</td>\n",
       "      <td>1080</td>\n",
       "      <td>502</td>\n",
       "      <td>7254</td>\n",
       "      <td>20200324_608290635</td>\n",
       "      <td>20200324</td>\n",
       "    </tr>\n",
       "    <tr>\n",
       "      <td>1</td>\n",
       "      <td>608290635</td>\n",
       "      <td>9VSGC</td>\n",
       "      <td>A359</td>\n",
       "      <td>SQ37</td>\n",
       "      <td>LAX</td>\n",
       "      <td>SIN</td>\n",
       "      <td>1585008082</td>\n",
       "      <td>37700</td>\n",
       "      <td>232</td>\n",
       "      <td>1.42992</td>\n",
       "      <td>105.87553</td>\n",
       "      <td>2909</td>\n",
       "      <td>509</td>\n",
       "      <td>7254</td>\n",
       "      <td>20200324_608290635</td>\n",
       "      <td>20200324</td>\n",
       "    </tr>\n",
       "    <tr>\n",
       "      <td>2</td>\n",
       "      <td>608290635</td>\n",
       "      <td>9VSGC</td>\n",
       "      <td>A359</td>\n",
       "      <td>SQ37</td>\n",
       "      <td>LAX</td>\n",
       "      <td>SIN</td>\n",
       "      <td>1585008144</td>\n",
       "      <td>34550</td>\n",
       "      <td>232</td>\n",
       "      <td>1.34196</td>\n",
       "      <td>105.76070</td>\n",
       "      <td>2909</td>\n",
       "      <td>505</td>\n",
       "      <td>7254</td>\n",
       "      <td>20200324_608290635</td>\n",
       "      <td>20200324</td>\n",
       "    </tr>\n",
       "    <tr>\n",
       "      <td>3</td>\n",
       "      <td>608290635</td>\n",
       "      <td>9VSGC</td>\n",
       "      <td>A359</td>\n",
       "      <td>SQ37</td>\n",
       "      <td>LAX</td>\n",
       "      <td>SIN</td>\n",
       "      <td>1585008204</td>\n",
       "      <td>31150</td>\n",
       "      <td>232</td>\n",
       "      <td>1.25598</td>\n",
       "      <td>105.64837</td>\n",
       "      <td>40865</td>\n",
       "      <td>503</td>\n",
       "      <td>7254</td>\n",
       "      <td>20200324_608290635</td>\n",
       "      <td>20200324</td>\n",
       "    </tr>\n",
       "    <tr>\n",
       "      <td>4</td>\n",
       "      <td>608290635</td>\n",
       "      <td>9VSGC</td>\n",
       "      <td>A359</td>\n",
       "      <td>SQ37</td>\n",
       "      <td>LAX</td>\n",
       "      <td>SIN</td>\n",
       "      <td>1585008241</td>\n",
       "      <td>29000</td>\n",
       "      <td>243</td>\n",
       "      <td>1.20785</td>\n",
       "      <td>105.58006</td>\n",
       "      <td>40865</td>\n",
       "      <td>499</td>\n",
       "      <td>7254</td>\n",
       "      <td>20200324_608290635</td>\n",
       "      <td>20200324</td>\n",
       "    </tr>\n",
       "  </tbody>\n",
       "</table>\n",
       "</div>"
      ],
      "text/plain": [
       "   flight_id    reg equip flight schd_from real_to  snapshot_id  altitude  \\\n",
       "0  608290635  9VSGC  A359   SQ37       LAX     SIN   1585008019     40750   \n",
       "1  608290635  9VSGC  A359   SQ37       LAX     SIN   1585008082     37700   \n",
       "2  608290635  9VSGC  A359   SQ37       LAX     SIN   1585008144     34550   \n",
       "3  608290635  9VSGC  A359   SQ37       LAX     SIN   1585008204     31150   \n",
       "4  608290635  9VSGC  A359   SQ37       LAX     SIN   1585008241     29000   \n",
       "\n",
       "   heading  latitude  longitude  radar_id  speed  squawk            flightid  \\\n",
       "0      232   1.51936  105.99191      1080    502    7254  20200324_608290635   \n",
       "1      232   1.42992  105.87553      2909    509    7254  20200324_608290635   \n",
       "2      232   1.34196  105.76070      2909    505    7254  20200324_608290635   \n",
       "3      232   1.25598  105.64837     40865    503    7254  20200324_608290635   \n",
       "4      243   1.20785  105.58006     40865    499    7254  20200324_608290635   \n",
       "\n",
       "    datestr  \n",
       "0  20200324  \n",
       "1  20200324  \n",
       "2  20200324  \n",
       "3  20200324  \n",
       "4  20200324  "
      ]
     },
     "execution_count": 39,
     "metadata": {},
     "output_type": "execute_result"
    }
   ],
   "source": [
    "our_positions.head()"
   ]
  },
  {
   "cell_type": "code",
   "execution_count": 40,
   "metadata": {},
   "outputs": [],
   "source": [
    "our_positions['date'] = pd.to_datetime(our_positions.datestr, format='%Y%m%d')"
   ]
  },
  {
   "cell_type": "markdown",
   "metadata": {},
   "source": [
    "### Convert the unix timestampt to human datetime and localize"
   ]
  },
  {
   "cell_type": "code",
   "execution_count": 41,
   "metadata": {},
   "outputs": [],
   "source": [
    "our_positions['date_time'] = pd.to_datetime(our_positions['snapshot_id'],unit='s')\n",
    "our_positions['utc_datetime'] = \\\n",
    "    pd.to_datetime(our_positions['date_time'], format='%Y-%m-%dT%H:%M:%SZ').dt.tz_localize('UTC')"
   ]
  },
  {
   "cell_type": "code",
   "execution_count": 42,
   "metadata": {},
   "outputs": [],
   "source": [
    "our_positions['datetime_pst'] = our_positions['utc_datetime'].dt.tz_convert('America/Los_Angeles')"
   ]
  },
  {
   "cell_type": "code",
   "execution_count": 43,
   "metadata": {},
   "outputs": [],
   "source": [
    "our_positions['utcdate'] = pd.to_datetime(our_positions['utc_datetime']).dt.strftime('%m/%d/%Y')\n",
    "our_positions['utctime'] = pd.to_datetime(our_positions['utc_datetime']).dt.strftime('%H:%M:%S')\n",
    "our_positions['utcday'] = our_positions['utc_datetime'].dt.day \n",
    "our_positions['utcweekday'] = our_positions['utc_datetime'].dt.weekday_name"
   ]
  },
  {
   "cell_type": "code",
   "execution_count": 44,
   "metadata": {},
   "outputs": [],
   "source": [
    "our_positions['date'] = pd.to_datetime(our_positions['datetime_pst']).dt.strftime('%m/%d/%Y')\n",
    "our_positions['time'] = pd.to_datetime(our_positions['datetime_pst']).dt.strftime('%H:%M:%S')\n",
    "our_positions['day'] = our_positions['datetime_pst'].dt.day \n",
    "our_positions['weekday'] = our_positions['datetime_pst'].dt.weekday_name"
   ]
  },
  {
   "cell_type": "code",
   "execution_count": 45,
   "metadata": {},
   "outputs": [
    {
     "data": {
      "text/plain": [
       "flight_id                       608290635\n",
       "reg                                 9VSGC\n",
       "equip                                A359\n",
       "flight                               SQ37\n",
       "schd_from                             LAX\n",
       "real_to                               SIN\n",
       "snapshot_id                    1585008019\n",
       "altitude                            40750\n",
       "heading                               232\n",
       "latitude                          1.51936\n",
       "longitude                         105.992\n",
       "radar_id                             1080\n",
       "speed                                 502\n",
       "squawk                               7254\n",
       "flightid               20200324_608290635\n",
       "datestr                          20200324\n",
       "date                           03/23/2020\n",
       "date_time             2020-03-24 00:00:19\n",
       "utc_datetime    2020-03-24 00:00:19+00:00\n",
       "datetime_pst    2020-03-23 17:00:19-07:00\n",
       "utcdate                        03/24/2020\n",
       "utctime                          00:00:19\n",
       "utcday                                 24\n",
       "utcweekday                        Tuesday\n",
       "time                             17:00:19\n",
       "day                                    23\n",
       "weekday                            Monday\n",
       "Name: 0, dtype: object"
      ]
     },
     "execution_count": 45,
     "metadata": {},
     "output_type": "execute_result"
    }
   ],
   "source": [
    "our_positions.iloc[0]"
   ]
  },
  {
   "cell_type": "code",
   "execution_count": 46,
   "metadata": {},
   "outputs": [],
   "source": [
    "our_positions = \\\n",
    "    our_positions.drop(['utcday', 'snapshot_id', 'radar_id', 'day', 'flightid', \\\n",
    "                        'squawk', 'speed', 'radar_id','datestr','utc_datetime','date_time',\\\n",
    "                        'datetime_pst', 'altitude', 'heading'],axis=1)"
   ]
  },
  {
   "cell_type": "code",
   "execution_count": 47,
   "metadata": {},
   "outputs": [],
   "source": [
    "positions = pd.DataFrame(our_positions)"
   ]
  },
  {
   "cell_type": "code",
   "execution_count": 48,
   "metadata": {},
   "outputs": [
    {
     "data": {
      "text/html": [
       "<div>\n",
       "<style scoped>\n",
       "    .dataframe tbody tr th:only-of-type {\n",
       "        vertical-align: middle;\n",
       "    }\n",
       "\n",
       "    .dataframe tbody tr th {\n",
       "        vertical-align: top;\n",
       "    }\n",
       "\n",
       "    .dataframe thead th {\n",
       "        text-align: right;\n",
       "    }\n",
       "</style>\n",
       "<table border=\"1\" class=\"dataframe\">\n",
       "  <thead>\n",
       "    <tr style=\"text-align: right;\">\n",
       "      <th></th>\n",
       "      <th>flight_id</th>\n",
       "      <th>reg</th>\n",
       "      <th>equip</th>\n",
       "      <th>flight</th>\n",
       "      <th>schd_from</th>\n",
       "      <th>real_to</th>\n",
       "      <th>latitude</th>\n",
       "      <th>longitude</th>\n",
       "      <th>date</th>\n",
       "      <th>utcdate</th>\n",
       "      <th>utctime</th>\n",
       "      <th>utcweekday</th>\n",
       "      <th>time</th>\n",
       "      <th>weekday</th>\n",
       "    </tr>\n",
       "  </thead>\n",
       "  <tbody>\n",
       "    <tr>\n",
       "      <td>234399</td>\n",
       "      <td>608433873</td>\n",
       "      <td>YRBGJ</td>\n",
       "      <td>B738</td>\n",
       "      <td>RO7204</td>\n",
       "      <td>VCE</td>\n",
       "      <td>CND</td>\n",
       "      <td>45.49717</td>\n",
       "      <td>12.33810</td>\n",
       "      <td>03/24/2020</td>\n",
       "      <td>03/24/2020</td>\n",
       "      <td>16:18:29</td>\n",
       "      <td>Tuesday</td>\n",
       "      <td>09:18:29</td>\n",
       "      <td>Tuesday</td>\n",
       "    </tr>\n",
       "    <tr>\n",
       "      <td>202618</td>\n",
       "      <td>608424856</td>\n",
       "      <td>N987JT</td>\n",
       "      <td>A321</td>\n",
       "      <td>B6416</td>\n",
       "      <td>SFO</td>\n",
       "      <td>JFK</td>\n",
       "      <td>41.60923</td>\n",
       "      <td>-76.89471</td>\n",
       "      <td>03/24/2020</td>\n",
       "      <td>03/24/2020</td>\n",
       "      <td>22:50:55</td>\n",
       "      <td>Tuesday</td>\n",
       "      <td>15:50:55</td>\n",
       "      <td>Tuesday</td>\n",
       "    </tr>\n",
       "    <tr>\n",
       "      <td>202616</td>\n",
       "      <td>608424856</td>\n",
       "      <td>N987JT</td>\n",
       "      <td>A321</td>\n",
       "      <td>B6416</td>\n",
       "      <td>SFO</td>\n",
       "      <td>JFK</td>\n",
       "      <td>41.69659</td>\n",
       "      <td>-77.26522</td>\n",
       "      <td>03/24/2020</td>\n",
       "      <td>03/24/2020</td>\n",
       "      <td>22:48:53</td>\n",
       "      <td>Tuesday</td>\n",
       "      <td>15:48:53</td>\n",
       "      <td>Tuesday</td>\n",
       "    </tr>\n",
       "    <tr>\n",
       "      <td>202615</td>\n",
       "      <td>608424856</td>\n",
       "      <td>N987JT</td>\n",
       "      <td>A321</td>\n",
       "      <td>B6416</td>\n",
       "      <td>SFO</td>\n",
       "      <td>JFK</td>\n",
       "      <td>41.72598</td>\n",
       "      <td>-77.45547</td>\n",
       "      <td>03/24/2020</td>\n",
       "      <td>03/24/2020</td>\n",
       "      <td>22:47:53</td>\n",
       "      <td>Tuesday</td>\n",
       "      <td>15:47:53</td>\n",
       "      <td>Tuesday</td>\n",
       "    </tr>\n",
       "    <tr>\n",
       "      <td>202614</td>\n",
       "      <td>608424856</td>\n",
       "      <td>N987JT</td>\n",
       "      <td>A321</td>\n",
       "      <td>B6416</td>\n",
       "      <td>SFO</td>\n",
       "      <td>JFK</td>\n",
       "      <td>41.75574</td>\n",
       "      <td>-77.65049</td>\n",
       "      <td>03/24/2020</td>\n",
       "      <td>03/24/2020</td>\n",
       "      <td>22:46:51</td>\n",
       "      <td>Tuesday</td>\n",
       "      <td>15:46:51</td>\n",
       "      <td>Tuesday</td>\n",
       "    </tr>\n",
       "  </tbody>\n",
       "</table>\n",
       "</div>"
      ],
      "text/plain": [
       "        flight_id     reg equip  flight schd_from real_to  latitude  \\\n",
       "234399  608433873   YRBGJ  B738  RO7204       VCE     CND  45.49717   \n",
       "202618  608424856  N987JT  A321   B6416       SFO     JFK  41.60923   \n",
       "202616  608424856  N987JT  A321   B6416       SFO     JFK  41.69659   \n",
       "202615  608424856  N987JT  A321   B6416       SFO     JFK  41.72598   \n",
       "202614  608424856  N987JT  A321   B6416       SFO     JFK  41.75574   \n",
       "\n",
       "        longitude        date     utcdate   utctime utcweekday      time  \\\n",
       "234399   12.33810  03/24/2020  03/24/2020  16:18:29    Tuesday  09:18:29   \n",
       "202618  -76.89471  03/24/2020  03/24/2020  22:50:55    Tuesday  15:50:55   \n",
       "202616  -77.26522  03/24/2020  03/24/2020  22:48:53    Tuesday  15:48:53   \n",
       "202615  -77.45547  03/24/2020  03/24/2020  22:47:53    Tuesday  15:47:53   \n",
       "202614  -77.65049  03/24/2020  03/24/2020  22:46:51    Tuesday  15:46:51   \n",
       "\n",
       "        weekday  \n",
       "234399  Tuesday  \n",
       "202618  Tuesday  \n",
       "202616  Tuesday  \n",
       "202615  Tuesday  \n",
       "202614  Tuesday  "
      ]
     },
     "execution_count": 48,
     "metadata": {},
     "output_type": "execute_result"
    }
   ],
   "source": [
    "positions.sort_values(by='date', ascending=False).head()"
   ]
  },
  {
   "cell_type": "code",
   "execution_count": 49,
   "metadata": {},
   "outputs": [],
   "source": [
    "positions.to_csv('/Users/mhustiles/data/data/flights/coronavirus/positions.csv')"
   ]
  },
  {
   "cell_type": "markdown",
   "metadata": {},
   "source": [
    "---"
   ]
  },
  {
   "cell_type": "markdown",
   "metadata": {},
   "source": [
    "## Geography"
   ]
  },
  {
   "cell_type": "markdown",
   "metadata": {},
   "source": [
    "### Convert to positions to a GeoDataFrame using lon/lat for each point in the flight"
   ]
  },
  {
   "cell_type": "code",
   "execution_count": 50,
   "metadata": {},
   "outputs": [
    {
     "data": {
      "text/plain": [
       "flight_id      608322844\n",
       "reg                 BLIE\n",
       "equip               B744\n",
       "flight              CX38\n",
       "schd_from            MXP\n",
       "real_to              HKG\n",
       "latitude         21.7037\n",
       "longitude        113.745\n",
       "date          03/23/2020\n",
       "utcdate       03/24/2020\n",
       "utctime         01:44:40\n",
       "utcweekday       Tuesday\n",
       "time            18:44:40\n",
       "weekday           Monday\n",
       "Name: 1000, dtype: object"
      ]
     },
     "execution_count": 50,
     "metadata": {},
     "output_type": "execute_result"
    }
   ],
   "source": [
    "positions.loc[1000]"
   ]
  },
  {
   "cell_type": "code",
   "execution_count": 51,
   "metadata": {},
   "outputs": [],
   "source": [
    "positions_geo = gpd.GeoDataFrame(\n",
    "    positions, geometry=gpd.points_from_xy(positions.longitude, positions.latitude))"
   ]
  },
  {
   "cell_type": "code",
   "execution_count": 52,
   "metadata": {},
   "outputs": [
    {
     "data": {
      "text/plain": [
       "<matplotlib.axes._subplots.AxesSubplot at 0x716062790>"
      ]
     },
     "execution_count": 52,
     "metadata": {},
     "output_type": "execute_result"
    },
    {
     "data": {
      "image/png": "[encoded data removed]",
      "text/plain": [
       "<Figure size 432x288 with 1 Axes>"
      ]
     },
     "metadata": {
      "needs_background": "light"
     },
     "output_type": "display_data"
    }
   ],
   "source": [
    "positions_geo.plot()"
   ]
  },
  {
   "cell_type": "code",
   "execution_count": 53,
   "metadata": {},
   "outputs": [
    {
     "data": {
      "text/html": [
       "<div>\n",
       "<style scoped>\n",
       "    .dataframe tbody tr th:only-of-type {\n",
       "        vertical-align: middle;\n",
       "    }\n",
       "\n",
       "    .dataframe tbody tr th {\n",
       "        vertical-align: top;\n",
       "    }\n",
       "\n",
       "    .dataframe thead th {\n",
       "        text-align: right;\n",
       "    }\n",
       "</style>\n",
       "<table border=\"1\" class=\"dataframe\">\n",
       "  <thead>\n",
       "    <tr style=\"text-align: right;\">\n",
       "      <th></th>\n",
       "      <th>flight_id</th>\n",
       "      <th>reg</th>\n",
       "      <th>equip</th>\n",
       "      <th>flight</th>\n",
       "      <th>schd_from</th>\n",
       "      <th>real_to</th>\n",
       "      <th>latitude</th>\n",
       "      <th>longitude</th>\n",
       "      <th>date</th>\n",
       "      <th>utcdate</th>\n",
       "      <th>utctime</th>\n",
       "      <th>utcweekday</th>\n",
       "      <th>time</th>\n",
       "      <th>weekday</th>\n",
       "      <th>geometry</th>\n",
       "    </tr>\n",
       "  </thead>\n",
       "  <tbody>\n",
       "    <tr>\n",
       "      <td>0</td>\n",
       "      <td>608290635</td>\n",
       "      <td>9VSGC</td>\n",
       "      <td>A359</td>\n",
       "      <td>SQ37</td>\n",
       "      <td>LAX</td>\n",
       "      <td>SIN</td>\n",
       "      <td>1.51936</td>\n",
       "      <td>105.99191</td>\n",
       "      <td>03/23/2020</td>\n",
       "      <td>03/24/2020</td>\n",
       "      <td>00:00:19</td>\n",
       "      <td>Tuesday</td>\n",
       "      <td>17:00:19</td>\n",
       "      <td>Monday</td>\n",
       "      <td>POINT (105.99191 1.51936)</td>\n",
       "    </tr>\n",
       "    <tr>\n",
       "      <td>1</td>\n",
       "      <td>608290635</td>\n",
       "      <td>9VSGC</td>\n",
       "      <td>A359</td>\n",
       "      <td>SQ37</td>\n",
       "      <td>LAX</td>\n",
       "      <td>SIN</td>\n",
       "      <td>1.42992</td>\n",
       "      <td>105.87553</td>\n",
       "      <td>03/23/2020</td>\n",
       "      <td>03/24/2020</td>\n",
       "      <td>00:01:22</td>\n",
       "      <td>Tuesday</td>\n",
       "      <td>17:01:22</td>\n",
       "      <td>Monday</td>\n",
       "      <td>POINT (105.87553 1.42992)</td>\n",
       "    </tr>\n",
       "    <tr>\n",
       "      <td>2</td>\n",
       "      <td>608290635</td>\n",
       "      <td>9VSGC</td>\n",
       "      <td>A359</td>\n",
       "      <td>SQ37</td>\n",
       "      <td>LAX</td>\n",
       "      <td>SIN</td>\n",
       "      <td>1.34196</td>\n",
       "      <td>105.76070</td>\n",
       "      <td>03/23/2020</td>\n",
       "      <td>03/24/2020</td>\n",
       "      <td>00:02:24</td>\n",
       "      <td>Tuesday</td>\n",
       "      <td>17:02:24</td>\n",
       "      <td>Monday</td>\n",
       "      <td>POINT (105.76070 1.34196)</td>\n",
       "    </tr>\n",
       "    <tr>\n",
       "      <td>3</td>\n",
       "      <td>608290635</td>\n",
       "      <td>9VSGC</td>\n",
       "      <td>A359</td>\n",
       "      <td>SQ37</td>\n",
       "      <td>LAX</td>\n",
       "      <td>SIN</td>\n",
       "      <td>1.25598</td>\n",
       "      <td>105.64837</td>\n",
       "      <td>03/23/2020</td>\n",
       "      <td>03/24/2020</td>\n",
       "      <td>00:03:24</td>\n",
       "      <td>Tuesday</td>\n",
       "      <td>17:03:24</td>\n",
       "      <td>Monday</td>\n",
       "      <td>POINT (105.64837 1.25598)</td>\n",
       "    </tr>\n",
       "    <tr>\n",
       "      <td>4</td>\n",
       "      <td>608290635</td>\n",
       "      <td>9VSGC</td>\n",
       "      <td>A359</td>\n",
       "      <td>SQ37</td>\n",
       "      <td>LAX</td>\n",
       "      <td>SIN</td>\n",
       "      <td>1.20785</td>\n",
       "      <td>105.58006</td>\n",
       "      <td>03/23/2020</td>\n",
       "      <td>03/24/2020</td>\n",
       "      <td>00:04:01</td>\n",
       "      <td>Tuesday</td>\n",
       "      <td>17:04:01</td>\n",
       "      <td>Monday</td>\n",
       "      <td>POINT (105.58006 1.20785)</td>\n",
       "    </tr>\n",
       "  </tbody>\n",
       "</table>\n",
       "</div>"
      ],
      "text/plain": [
       "   flight_id    reg equip flight schd_from real_to  latitude  longitude  \\\n",
       "0  608290635  9VSGC  A359   SQ37       LAX     SIN   1.51936  105.99191   \n",
       "1  608290635  9VSGC  A359   SQ37       LAX     SIN   1.42992  105.87553   \n",
       "2  608290635  9VSGC  A359   SQ37       LAX     SIN   1.34196  105.76070   \n",
       "3  608290635  9VSGC  A359   SQ37       LAX     SIN   1.25598  105.64837   \n",
       "4  608290635  9VSGC  A359   SQ37       LAX     SIN   1.20785  105.58006   \n",
       "\n",
       "         date     utcdate   utctime utcweekday      time weekday  \\\n",
       "0  03/23/2020  03/24/2020  00:00:19    Tuesday  17:00:19  Monday   \n",
       "1  03/23/2020  03/24/2020  00:01:22    Tuesday  17:01:22  Monday   \n",
       "2  03/23/2020  03/24/2020  00:02:24    Tuesday  17:02:24  Monday   \n",
       "3  03/23/2020  03/24/2020  00:03:24    Tuesday  17:03:24  Monday   \n",
       "4  03/23/2020  03/24/2020  00:04:01    Tuesday  17:04:01  Monday   \n",
       "\n",
       "                    geometry  \n",
       "0  POINT (105.99191 1.51936)  \n",
       "1  POINT (105.87553 1.42992)  \n",
       "2  POINT (105.76070 1.34196)  \n",
       "3  POINT (105.64837 1.25598)  \n",
       "4  POINT (105.58006 1.20785)  "
      ]
     },
     "execution_count": 53,
     "metadata": {},
     "output_type": "execute_result"
    }
   ],
   "source": [
    "positions_geo.head()"
   ]
  },
  {
   "cell_type": "code",
   "execution_count": 54,
   "metadata": {},
   "outputs": [],
   "source": [
    "positions_geo.to_file('/Users/mhustiles/data/data/flights/coronavirus/positions_geo.geojson', driver='GeoJSON')"
   ]
  },
  {
   "cell_type": "code",
   "execution_count": 55,
   "metadata": {},
   "outputs": [
    {
     "data": {
      "text/plain": [
       "LAX    493964\n",
       "SFO    314849\n",
       "MXP    108207\n",
       "VCE     30279\n",
       "Name: schd_from, dtype: int64"
      ]
     },
     "execution_count": 55,
     "metadata": {},
     "output_type": "execute_result"
    }
   ],
   "source": [
    "positions_geo.schd_from.value_counts()"
   ]
  },
  {
   "cell_type": "code",
   "execution_count": 56,
   "metadata": {},
   "outputs": [],
   "source": [
    "positions_geo_before = positions_geo[(positions_geo['date'] == '02/16/2020')|\\\n",
    "(positions_geo['date'] == '02/17/2020')]"
   ]
  },
  {
   "cell_type": "code",
   "execution_count": 57,
   "metadata": {},
   "outputs": [],
   "source": [
    "positions_geo_before.to_file('/Users/mhustiles/data/data/flights/coronavirus\\\n",
    "/positions_geo_before.geojson', driver='GeoJSON')"
   ]
  },
  {
   "cell_type": "code",
   "execution_count": 58,
   "metadata": {},
   "outputs": [],
   "source": [
    "positions_geo_after = positions_geo[(positions_geo['date'] == '03/23/2020')|\\\n",
    "(positions_geo['date'] == '03/24/2020')]"
   ]
  },
  {
   "cell_type": "code",
   "execution_count": 59,
   "metadata": {},
   "outputs": [],
   "source": [
    "positions_geo_after.to_file('/Users/mhustiles/data/data/flights/coronavirus/\\\n",
    "positions_geo_after.geojson', driver='GeoJSON')"
   ]
  },
  {
   "cell_type": "markdown",
   "metadata": {},
   "source": [
    "---"
   ]
  },
  {
   "cell_type": "code",
   "execution_count": 60,
   "metadata": {},
   "outputs": [],
   "source": [
    "BBLAX = [[-118.8262336806,33.7793836298],\\\n",
    "        [-118.0482670135,33.7793836298],\\\n",
    "        [-118.0482670135,34.1704564538],\\\n",
    "        [-118.8262336806,34.1704564538],\\\n",
    "        [-118.8262336806,33.7793836298]]"
   ]
  },
  {
   "cell_type": "code",
   "execution_count": 61,
   "metadata": {},
   "outputs": [],
   "source": [
    "BBSFO = [[-122.7731184276,37.4333420012],\\\n",
    "        [-121.9951517604,37.4333420012],\\\n",
    "        [-121.9951517604,37.806868795],\\\n",
    "        [-122.7731184276,37.806868795],\\\n",
    "        [-122.7731184276,37.4333420012]]"
   ]
  },
  {
   "cell_type": "code",
   "execution_count": 62,
   "metadata": {},
   "outputs": [],
   "source": [
    "BBMXP = [[8.3352235847,45.4634628578],\\\n",
    "        [9.1131902518,45.4634628578],\\\n",
    "        [9.1131902518,45.7932430487],\\\n",
    "        [8.3352235847,45.7932430487],\\\n",
    "        [8.3352235847,45.4634628578]]"
   ]
  },
  {
   "cell_type": "code",
   "execution_count": 63,
   "metadata": {},
   "outputs": [],
   "source": [
    "BBVCE = [[11.950419704,45.3311938744],\\\n",
    "        [12.7283863711,45.3311938744],\\\n",
    "        [12.7283863711,45.6617491044],\\\n",
    "        [11.950419704,45.6617491044],\\\n",
    "        [11.950419704,45.3311938744]]"
   ]
  },
  {
   "cell_type": "code",
   "execution_count": 64,
   "metadata": {},
   "outputs": [],
   "source": [
    "lax = 33.9422164,-118.4127457\n",
    "sfo = 37.6189162,-122.3824707\n",
    "milan = 45.6311777,8.7210683\n",
    "venice = 45.5037181,12.3323253"
   ]
  },
  {
   "cell_type": "markdown",
   "metadata": {},
   "source": [
    "---"
   ]
  },
  {
   "cell_type": "markdown",
   "metadata": {},
   "source": [
    "### Cut 'before' GeoJSON files for each of our airports"
   ]
  },
  {
   "cell_type": "code",
   "execution_count": 65,
   "metadata": {},
   "outputs": [],
   "source": [
    "for airport in positions_geo_before.schd_from.unique():\n",
    "    positions_geo_before[positions_geo_before['schd_from'] == '{}'.format(airport)]\\\n",
    "    .to_file('/Users/mhustiles/data/data/flights/coronavirus/\\\n",
    "positions_geo_before_{}.geojson'.format(airport), driver='GeoJSON')"
   ]
  },
  {
   "cell_type": "markdown",
   "metadata": {},
   "source": [
    "### Cut 'after' GeoJSON files for each of our airports"
   ]
  },
  {
   "cell_type": "code",
   "execution_count": 66,
   "metadata": {},
   "outputs": [],
   "source": [
    "for airport in positions_geo_after.schd_from.unique():\n",
    "    positions_geo_after[positions_geo_after['schd_from'] == '{}'.format(airport)]\\\n",
    "    .to_file('/Users/mhustiles/data/data/flights/coronavirus/\\\n",
    "positions_geo_after_{}.geojson'.format(airport), driver='GeoJSON')"
   ]
  },
  {
   "cell_type": "markdown",
   "metadata": {},
   "source": [
    "---"
   ]
  },
  {
   "cell_type": "code",
   "execution_count": 67,
   "metadata": {},
   "outputs": [],
   "source": [
    "# positions_geo_before_line = positions_geo_before.groupby(['flight_id', 'flight', 'schd_from'])['geometry']\\\n",
    "#     .apply(lambda x: LineString(x.tolist()) if x.size > 1 else x.tolist()).reset_index()"
   ]
  },
  {
   "cell_type": "code",
   "execution_count": 68,
   "metadata": {},
   "outputs": [],
   "source": [
    "# positions_geo_after_line = positions_geo_after.groupby(['flight_id', 'flight', 'schd_from'])['geometry']\\\n",
    "#     .apply(lambda x: LineString(x.tolist()) if x.size > 1 else x.tolist()).reset_index()"
   ]
  }
 ],
 "metadata": {
  "kernelspec": {
   "display_name": "Python 3",
   "language": "python",
   "name": "python3"
  },
  "language_info": {
   "codemirror_mode": {
    "name": "ipython",
    "version": 3
   },
   "file_extension": ".py",
   "mimetype": "text/x-python",
   "name": "python",
   "nbconvert_exporter": "python",
   "pygments_lexer": "ipython3",
   "version": "3.7.4"
  }
 },
 "nbformat": 4,
 "nbformat_minor": 4
}
