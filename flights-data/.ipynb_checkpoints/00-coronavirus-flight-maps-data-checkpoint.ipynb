{
 "cells": [
  {
   "cell_type": "markdown",
   "metadata": {},
   "source": [
    "# Processing coronavirus impact on global flights"
   ]
  },
  {
   "cell_type": "markdown",
   "metadata": {},
   "source": [
    "### Load Python tools"
   ]
  },
  {
   "cell_type": "code",
   "execution_count": 1,
   "metadata": {},
   "outputs": [
    {
     "data": {
      "text/plain": [
       "ThemeRegistry.enable('latimes')"
      ]
     },
     "execution_count": 1,
     "metadata": {},
     "output_type": "execute_result"
    }
   ],
   "source": [
    "import pandas as pd\n",
    "from shapely.geometry import shape\n",
    "import geopandas as gpd\n",
    "import matplotlib\n",
    "import matplotlib.pyplot as plt\n",
    "import openpyxl\n",
    "import altair as alt\n",
    "from altair_saver import save\n",
    "import lxml\n",
    "import requests\n",
    "from shapely.geometry import Point, LineString\n",
    "import geojson\n",
    "import json\n",
    "import glob\n",
    "import io\n",
    "import os\n",
    "import pyarrow\n",
    "from shapely.geometry import Point, LineString, MultiLineString\n",
    "import altair_latimes as lat\n",
    "alt.themes.register('latimes', lat.theme)\n",
    "alt.themes.enable('latimes')"
   ]
  },
  {
   "cell_type": "markdown",
   "metadata": {},
   "source": [
    "## FAA airline registristration"
   ]
  },
  {
   "cell_type": "code",
   "execution_count": 2,
   "metadata": {},
   "outputs": [],
   "source": [
    "planes = pd.read_csv('/Users/mhustiles/data/github/notebooks/aircraft/output/airline_planes.csv')"
   ]
  },
  {
   "cell_type": "markdown",
   "metadata": {},
   "source": [
    "### Standardize corporate strings that complicate merging, aggregates"
   ]
  },
  {
   "cell_type": "code",
   "execution_count": 3,
   "metadata": {},
   "outputs": [],
   "source": [
    "planes['name'] = planes['name'].str.replace(' CORPORATION','').str.replace(' CORP','')\\\n",
    ".str.replace(' INC','').str.replace(' LLC','').str.replace('AIRLINES CO', 'AIRLINES')\\\n",
    ".str.replace('UNITED PARCEL SERVICE CO', 'UNITED PARCEL SERVICE').str.replace('AIRWAYS CORP', 'AIRWAYS')\\\n",
    ".str.replace('HORIZON AIR INDUSTRIES', 'HORIZON AIR')"
   ]
  },
  {
   "cell_type": "code",
   "execution_count": 4,
   "metadata": {},
   "outputs": [],
   "source": [
    "planes['name'] = planes['name'].fillna('')"
   ]
  },
  {
   "cell_type": "code",
   "execution_count": 5,
   "metadata": {},
   "outputs": [
    {
     "data": {
      "text/plain": [
       "289820"
      ]
     },
     "execution_count": 5,
     "metadata": {},
     "output_type": "execute_result"
    }
   ],
   "source": [
    "len(planes)"
   ]
  },
  {
   "cell_type": "markdown",
   "metadata": {},
   "source": [
    "### Import world aircraft DB"
   ]
  },
  {
   "cell_type": "code",
   "execution_count": 6,
   "metadata": {},
   "outputs": [],
   "source": [
    "# https://github.com/junzis/aircraft-db\n",
    "fleets = pd.read_csv('input/aircraft_db.csv', header=0, low_memory=False,\\\n",
    "                     names=['icao', 'n_number', 'model', 'type', 'name']).dropna()"
   ]
  },
  {
   "cell_type": "code",
   "execution_count": 7,
   "metadata": {},
   "outputs": [],
   "source": [
    "fleets = fleets.applymap(lambda s:s.upper() if type(s) == str else s)"
   ]
  },
  {
   "cell_type": "code",
   "execution_count": 8,
   "metadata": {},
   "outputs": [
    {
     "data": {
      "text/plain": [
       "icao                06A138\n",
       "n_number            A7-BAV\n",
       "model                 B77W\n",
       "type        BOEING 777-3DZ\n",
       "name         QATAR AIRWAYS\n",
       "Name: 1001, dtype: object"
      ]
     },
     "execution_count": 8,
     "metadata": {},
     "output_type": "execute_result"
    }
   ],
   "source": [
    "fleets.iloc[1000]"
   ]
  },
  {
   "cell_type": "code",
   "execution_count": 9,
   "metadata": {},
   "outputs": [],
   "source": [
    "fleets['name'] = fleets['name'].dropna()"
   ]
  },
  {
   "cell_type": "code",
   "execution_count": 10,
   "metadata": {},
   "outputs": [
    {
     "data": {
      "text/html": [
       "<div>\n",
       "<style scoped>\n",
       "    .dataframe tbody tr th:only-of-type {\n",
       "        vertical-align: middle;\n",
       "    }\n",
       "\n",
       "    .dataframe tbody tr th {\n",
       "        vertical-align: top;\n",
       "    }\n",
       "\n",
       "    .dataframe thead th {\n",
       "        text-align: right;\n",
       "    }\n",
       "</style>\n",
       "<table border=\"1\" class=\"dataframe\">\n",
       "  <thead>\n",
       "    <tr style=\"text-align: right;\">\n",
       "      <th></th>\n",
       "      <th>icao</th>\n",
       "      <th>n_number</th>\n",
       "      <th>model</th>\n",
       "      <th>type</th>\n",
       "      <th>name</th>\n",
       "    </tr>\n",
       "  </thead>\n",
       "  <tbody>\n",
       "    <tr>\n",
       "      <td>33545</td>\n",
       "      <td>A06F8A</td>\n",
       "      <td>N127UW</td>\n",
       "      <td>A320</td>\n",
       "      <td>AIRBUS A320-214</td>\n",
       "      <td>US AIRWAYS</td>\n",
       "    </tr>\n",
       "  </tbody>\n",
       "</table>\n",
       "</div>"
      ],
      "text/plain": [
       "         icao n_number model             type        name\n",
       "33545  A06F8A   N127UW  A320  AIRBUS A320-214  US AIRWAYS"
      ]
     },
     "execution_count": 10,
     "metadata": {},
     "output_type": "execute_result"
    }
   ],
   "source": [
    "fleets[fleets['n_number'] == 'N127UW']"
   ]
  },
  {
   "cell_type": "code",
   "execution_count": 11,
   "metadata": {},
   "outputs": [],
   "source": [
    "planes_merge = planes.merge(fleets, on='n_number', how='left')"
   ]
  },
  {
   "cell_type": "code",
   "execution_count": 12,
   "metadata": {},
   "outputs": [],
   "source": [
    "planes_merge.rename(columns={\"name_x\": \"name\", \"name_y\": \"name_nu\"}, inplace=True)"
   ]
  },
  {
   "cell_type": "markdown",
   "metadata": {},
   "source": [
    "### Import airport database"
   ]
  },
  {
   "cell_type": "code",
   "execution_count": 13,
   "metadata": {},
   "outputs": [],
   "source": [
    "airports = pd.read_csv('output/commercial_airports.csv')"
   ]
  },
  {
   "cell_type": "code",
   "execution_count": 14,
   "metadata": {},
   "outputs": [],
   "source": [
    "comm_cali = airports.airportid.to_list()"
   ]
  },
  {
   "cell_type": "markdown",
   "metadata": {},
   "source": [
    "### Clean up on leased planes"
   ]
  },
  {
   "cell_type": "code",
   "execution_count": 15,
   "metadata": {},
   "outputs": [],
   "source": [
    "planes_merge.loc[(planes_merge.name == 'WELLS FARGO TRUST CO NA TRUSTEE'),'name']=planes_merge.name_nu\n",
    "planes_merge.loc[(planes_merge.name == 'WELLS FARGO BANK NA'),'name']=planes_merge.name_nu\n",
    "planes_merge.loc[(planes_merge.name == 'WILMINGTON TRUST CO TRUSTEE'),'name']=planes_merge.name_nu\n",
    "planes_merge.loc[(planes_merge.name == 'BANK OF UTAH TRUSTEE'),'name']=planes_merge.name_nu"
   ]
  },
  {
   "cell_type": "code",
   "execution_count": 16,
   "metadata": {},
   "outputs": [],
   "source": [
    "planes_merge['n_number'] = planes_merge['n_number'].fillna('')"
   ]
  },
  {
   "cell_type": "code",
   "execution_count": 17,
   "metadata": {},
   "outputs": [
    {
     "data": {
      "text/plain": [
       "289852"
      ]
     },
     "execution_count": 17,
     "metadata": {},
     "output_type": "execute_result"
    }
   ],
   "source": [
    "len(planes_merge)"
   ]
  },
  {
   "cell_type": "markdown",
   "metadata": {},
   "source": [
    "## Process 'flights' metadata"
   ]
  },
  {
   "cell_type": "code",
   "execution_count": 18,
   "metadata": {},
   "outputs": [],
   "source": [
    "# https://secure.flightradar24.com/general_media/"
   ]
  },
  {
   "cell_type": "code",
   "execution_count": 19,
   "metadata": {},
   "outputs": [],
   "source": [
    "a_flight = pd.read_csv('coronavirus/20200217_flights.csv')"
   ]
  },
  {
   "cell_type": "code",
   "execution_count": 20,
   "metadata": {},
   "outputs": [
    {
     "data": {
      "text/html": [
       "<div>\n",
       "<style scoped>\n",
       "    .dataframe tbody tr th:only-of-type {\n",
       "        vertical-align: middle;\n",
       "    }\n",
       "\n",
       "    .dataframe tbody tr th {\n",
       "        vertical-align: top;\n",
       "    }\n",
       "\n",
       "    .dataframe thead th {\n",
       "        text-align: right;\n",
       "    }\n",
       "</style>\n",
       "<table border=\"1\" class=\"dataframe\">\n",
       "  <thead>\n",
       "    <tr style=\"text-align: right;\">\n",
       "      <th></th>\n",
       "      <th>flight_id</th>\n",
       "      <th>aircraft_id</th>\n",
       "      <th>reg</th>\n",
       "      <th>equip</th>\n",
       "      <th>callsign</th>\n",
       "      <th>flight</th>\n",
       "      <th>schd_from</th>\n",
       "      <th>schd_to</th>\n",
       "      <th>real_to</th>\n",
       "      <th>reserved</th>\n",
       "    </tr>\n",
       "  </thead>\n",
       "  <tbody>\n",
       "    <tr>\n",
       "      <td>0</td>\n",
       "      <td>601952841</td>\n",
       "      <td>7793496</td>\n",
       "      <td>NaN</td>\n",
       "      <td>GRND</td>\n",
       "      <td>R17</td>\n",
       "      <td>NaN</td>\n",
       "      <td>SIN</td>\n",
       "      <td>NaN</td>\n",
       "      <td>NaN</td>\n",
       "      <td>NaN</td>\n",
       "    </tr>\n",
       "    <tr>\n",
       "      <td>1</td>\n",
       "      <td>601981055</td>\n",
       "      <td>4648968</td>\n",
       "      <td>NaN</td>\n",
       "      <td>NaN</td>\n",
       "      <td>FLWME2</td>\n",
       "      <td>NaN</td>\n",
       "      <td>SKG</td>\n",
       "      <td>NaN</td>\n",
       "      <td>NaN</td>\n",
       "      <td>NaN</td>\n",
       "    </tr>\n",
       "    <tr>\n",
       "      <td>2</td>\n",
       "      <td>601974918</td>\n",
       "      <td>3948014</td>\n",
       "      <td>NaN</td>\n",
       "      <td>NaN</td>\n",
       "      <td>AP01</td>\n",
       "      <td>NaN</td>\n",
       "      <td>CGN</td>\n",
       "      <td>NaN</td>\n",
       "      <td>NaN</td>\n",
       "      <td>NaN</td>\n",
       "    </tr>\n",
       "    <tr>\n",
       "      <td>3</td>\n",
       "      <td>601965791</td>\n",
       "      <td>3949334</td>\n",
       "      <td>NaN</td>\n",
       "      <td>GRND</td>\n",
       "      <td>V79</td>\n",
       "      <td>NaN</td>\n",
       "      <td>NaN</td>\n",
       "      <td>NaN</td>\n",
       "      <td>NaN</td>\n",
       "      <td>NaN</td>\n",
       "    </tr>\n",
       "    <tr>\n",
       "      <td>4</td>\n",
       "      <td>601965717</td>\n",
       "      <td>1122582</td>\n",
       "      <td>NaN</td>\n",
       "      <td>GRND</td>\n",
       "      <td>RA74006</td>\n",
       "      <td>RA74006</td>\n",
       "      <td>CEK</td>\n",
       "      <td>NaN</td>\n",
       "      <td>NaN</td>\n",
       "      <td>NaN</td>\n",
       "    </tr>\n",
       "  </tbody>\n",
       "</table>\n",
       "</div>"
      ],
      "text/plain": [
       "   flight_id  aircraft_id  reg equip callsign   flight schd_from schd_to  \\\n",
       "0  601952841      7793496  NaN  GRND      R17      NaN       SIN     NaN   \n",
       "1  601981055      4648968  NaN   NaN   FLWME2      NaN       SKG     NaN   \n",
       "2  601974918      3948014  NaN   NaN     AP01      NaN       CGN     NaN   \n",
       "3  601965791      3949334  NaN  GRND      V79      NaN       NaN     NaN   \n",
       "4  601965717      1122582  NaN  GRND  RA74006  RA74006       CEK     NaN   \n",
       "\n",
       "  real_to  reserved  \n",
       "0     NaN       NaN  \n",
       "1     NaN       NaN  \n",
       "2     NaN       NaN  \n",
       "3     NaN       NaN  \n",
       "4     NaN       NaN  "
      ]
     },
     "execution_count": 20,
     "metadata": {},
     "output_type": "execute_result"
    }
   ],
   "source": [
    "a_flight.head()"
   ]
  },
  {
   "cell_type": "markdown",
   "metadata": {},
   "source": [
    "### Set path for flights and define the files we'll concatenate"
   ]
  },
  {
   "cell_type": "code",
   "execution_count": 21,
   "metadata": {},
   "outputs": [],
   "source": [
    "path = '/Users/mhustiles/data/data/flights/coronavirus/flights/'\n",
    "files = glob.glob(os.path.join(path, \"*flights.csv\"))"
   ]
  },
  {
   "cell_type": "markdown",
   "metadata": {},
   "source": [
    "### Read the csvs and create a 'date' field in the table"
   ]
  },
  {
   "cell_type": "code",
   "execution_count": 22,
   "metadata": {},
   "outputs": [],
   "source": [
    "file_df = (pd.read_csv(f, encoding = \"ISO-8859-1\", low_memory=False)\\\n",
    "           .assign(date=os.path.basename(f)) for f in files)"
   ]
  },
  {
   "cell_type": "markdown",
   "metadata": {},
   "source": [
    "### Combined our newly processed flight files"
   ]
  },
  {
   "cell_type": "code",
   "execution_count": 23,
   "metadata": {},
   "outputs": [],
   "source": [
    "flights_df_all = pd.concat(file_df, ignore_index=True)"
   ]
  },
  {
   "cell_type": "code",
   "execution_count": 24,
   "metadata": {},
   "outputs": [
    {
     "data": {
      "text/plain": [
       "2284517"
      ]
     },
     "execution_count": 24,
     "metadata": {},
     "output_type": "execute_result"
    }
   ],
   "source": [
    "len(flights_df_all)"
   ]
  },
  {
   "cell_type": "markdown",
   "metadata": {},
   "source": [
    "### Add owner names from FAA registration"
   ]
  },
  {
   "cell_type": "code",
   "execution_count": 25,
   "metadata": {},
   "outputs": [],
   "source": [
    "flights_df = flights_df_all.merge(planes_merge.dropna(subset=['n_number']), \\\n",
    "                                  right_on='n_number', left_on='reg', how='left')\\\n",
    ".drop(['name_nu', 'model', 'type', 'icao'], axis=1)"
   ]
  },
  {
   "cell_type": "code",
   "execution_count": 26,
   "metadata": {},
   "outputs": [
    {
     "data": {
      "text/html": [
       "<div>\n",
       "<style scoped>\n",
       "    .dataframe tbody tr th:only-of-type {\n",
       "        vertical-align: middle;\n",
       "    }\n",
       "\n",
       "    .dataframe tbody tr th {\n",
       "        vertical-align: top;\n",
       "    }\n",
       "\n",
       "    .dataframe thead th {\n",
       "        text-align: right;\n",
       "    }\n",
       "</style>\n",
       "<table border=\"1\" class=\"dataframe\">\n",
       "  <thead>\n",
       "    <tr style=\"text-align: right;\">\n",
       "      <th></th>\n",
       "      <th>flight_id</th>\n",
       "      <th>aircraft_id</th>\n",
       "      <th>reg</th>\n",
       "      <th>equip</th>\n",
       "      <th>callsign</th>\n",
       "      <th>flight</th>\n",
       "      <th>schd_from</th>\n",
       "      <th>schd_to</th>\n",
       "      <th>real_to</th>\n",
       "      <th>reserved</th>\n",
       "      <th>date</th>\n",
       "      <th>name</th>\n",
       "      <th>n_number</th>\n",
       "    </tr>\n",
       "  </thead>\n",
       "  <tbody>\n",
       "    <tr>\n",
       "      <td>0</td>\n",
       "      <td>608291364</td>\n",
       "      <td>4976852</td>\n",
       "      <td>NaN</td>\n",
       "      <td>GRND</td>\n",
       "      <td>FLWME3</td>\n",
       "      <td>NaN</td>\n",
       "      <td>AYT</td>\n",
       "      <td>NaN</td>\n",
       "      <td>NaN</td>\n",
       "      <td>NaN</td>\n",
       "      <td>20200324_flights.csv</td>\n",
       "      <td>NaN</td>\n",
       "      <td>NaN</td>\n",
       "    </tr>\n",
       "    <tr>\n",
       "      <td>1</td>\n",
       "      <td>608298331</td>\n",
       "      <td>5313483</td>\n",
       "      <td>NaN</td>\n",
       "      <td>NaN</td>\n",
       "      <td>SAATJA4</td>\n",
       "      <td>NaN</td>\n",
       "      <td>TLL</td>\n",
       "      <td>NaN</td>\n",
       "      <td>NaN</td>\n",
       "      <td>NaN</td>\n",
       "      <td>20200324_flights.csv</td>\n",
       "      <td>NaN</td>\n",
       "      <td>NaN</td>\n",
       "    </tr>\n",
       "    <tr>\n",
       "      <td>2</td>\n",
       "      <td>608288050</td>\n",
       "      <td>4546612</td>\n",
       "      <td>NaN</td>\n",
       "      <td>GRND</td>\n",
       "      <td>RANGER2</td>\n",
       "      <td>NaN</td>\n",
       "      <td>SOF</td>\n",
       "      <td>NaN</td>\n",
       "      <td>NaN</td>\n",
       "      <td>NaN</td>\n",
       "      <td>20200324_flights.csv</td>\n",
       "      <td>NaN</td>\n",
       "      <td>NaN</td>\n",
       "    </tr>\n",
       "    <tr>\n",
       "      <td>3</td>\n",
       "      <td>608300515</td>\n",
       "      <td>4735585</td>\n",
       "      <td>LJ-Light</td>\n",
       "      <td>GRND</td>\n",
       "      <td>LI</td>\n",
       "      <td>NaN</td>\n",
       "      <td>NaN</td>\n",
       "      <td>NaN</td>\n",
       "      <td>NaN</td>\n",
       "      <td>NaN</td>\n",
       "      <td>20200324_flights.csv</td>\n",
       "      <td>NaN</td>\n",
       "      <td>NaN</td>\n",
       "    </tr>\n",
       "    <tr>\n",
       "      <td>4</td>\n",
       "      <td>608298634</td>\n",
       "      <td>11402224</td>\n",
       "      <td>NaN</td>\n",
       "      <td>NaN</td>\n",
       "      <td>BIRD</td>\n",
       "      <td>NaN</td>\n",
       "      <td>DMK</td>\n",
       "      <td>NaN</td>\n",
       "      <td>NaN</td>\n",
       "      <td>NaN</td>\n",
       "      <td>20200324_flights.csv</td>\n",
       "      <td>NaN</td>\n",
       "      <td>NaN</td>\n",
       "    </tr>\n",
       "  </tbody>\n",
       "</table>\n",
       "</div>"
      ],
      "text/plain": [
       "   flight_id  aircraft_id       reg equip callsign flight schd_from schd_to  \\\n",
       "0  608291364      4976852       NaN  GRND   FLWME3    NaN       AYT     NaN   \n",
       "1  608298331      5313483       NaN   NaN  SAATJA4    NaN       TLL     NaN   \n",
       "2  608288050      4546612       NaN  GRND  RANGER2    NaN       SOF     NaN   \n",
       "3  608300515      4735585  LJ-Light  GRND       LI    NaN       NaN     NaN   \n",
       "4  608298634     11402224       NaN   NaN     BIRD    NaN       DMK     NaN   \n",
       "\n",
       "  real_to  reserved                  date name n_number  \n",
       "0     NaN       NaN  20200324_flights.csv  NaN      NaN  \n",
       "1     NaN       NaN  20200324_flights.csv  NaN      NaN  \n",
       "2     NaN       NaN  20200324_flights.csv  NaN      NaN  \n",
       "3     NaN       NaN  20200324_flights.csv  NaN      NaN  \n",
       "4     NaN       NaN  20200324_flights.csv  NaN      NaN  "
      ]
     },
     "execution_count": 26,
     "metadata": {},
     "output_type": "execute_result"
    }
   ],
   "source": [
    "flights_df.head()"
   ]
  },
  {
   "cell_type": "markdown",
   "metadata": {},
   "source": [
    "### Clean up our dates for use later"
   ]
  },
  {
   "cell_type": "code",
   "execution_count": 27,
   "metadata": {},
   "outputs": [],
   "source": [
    "flights_df['date'] = flights_df['date']\\\n",
    "    .str.replace('_flights.csv','')"
   ]
  },
  {
   "cell_type": "code",
   "execution_count": 28,
   "metadata": {},
   "outputs": [],
   "source": [
    "flights_df['date'] = pd.to_datetime(flights_df.date, format='%Y%m%d')\n",
    "flights_df['month'] = flights_df['date'].dt.month \n",
    "flights_df['day'] = flights_df['date'].dt.day \n",
    "flights_df['weekday'] = flights_df['date'].dt.weekday_name"
   ]
  },
  {
   "cell_type": "markdown",
   "metadata": {},
   "source": [
    "### Filter flights list to large, commercial planes?"
   ]
  },
  {
   "cell_type": "code",
   "execution_count": 29,
   "metadata": {},
   "outputs": [],
   "source": [
    "# large_planes = ['B738','A320','A321','B737','A20N',\\\n",
    "#                 'B739','B77W','B763','A332','B752',\\\n",
    "#                 'A21N','B789','AT75','A359','B772',\\\n",
    "#                 'B350','B744','A306', 'B733']"
   ]
  },
  {
   "cell_type": "code",
   "execution_count": 30,
   "metadata": {},
   "outputs": [],
   "source": [
    "# cargo_planes = ['B77L', 'B744', 'B748', 'B762', 'B763', 'B75', 'MD1', 'DC1']"
   ]
  },
  {
   "cell_type": "code",
   "execution_count": 31,
   "metadata": {},
   "outputs": [],
   "source": [
    "# flights_df = flights_df[~flights_df['equip'].isin(cargo_planes)]"
   ]
  },
  {
   "cell_type": "markdown",
   "metadata": {},
   "source": [
    "### Remove stray flights by id"
   ]
  },
  {
   "cell_type": "code",
   "execution_count": 32,
   "metadata": {},
   "outputs": [],
   "source": [
    "strays = ['609551948', '609472464', '609472230', '609483318', '602119624','602092291']"
   ]
  },
  {
   "cell_type": "code",
   "execution_count": 33,
   "metadata": {},
   "outputs": [],
   "source": [
    "flights_df = flights_df[~flights_df['flight_id'].isin(strays)]"
   ]
  },
  {
   "cell_type": "code",
   "execution_count": 34,
   "metadata": {},
   "outputs": [],
   "source": [
    "flights_df = pd.DataFrame(flights_df.dropna(subset=['real_to']))"
   ]
  },
  {
   "cell_type": "markdown",
   "metadata": {},
   "source": [
    "### What's left?"
   ]
  },
  {
   "cell_type": "code",
   "execution_count": 35,
   "metadata": {},
   "outputs": [
    {
     "data": {
      "text/plain": [
       "1713016"
      ]
     },
     "execution_count": 35,
     "metadata": {},
     "output_type": "execute_result"
    }
   ],
   "source": [
    "len(flights_df)"
   ]
  },
  {
   "cell_type": "code",
   "execution_count": 36,
   "metadata": {},
   "outputs": [],
   "source": [
    "global_flights = flights_df.groupby(['date']).agg('size').reset_index(name='flights')"
   ]
  },
  {
   "cell_type": "code",
   "execution_count": 37,
   "metadata": {},
   "outputs": [
    {
     "data": {
      "text/html": [
       "<div>\n",
       "<style scoped>\n",
       "    .dataframe tbody tr th:only-of-type {\n",
       "        vertical-align: middle;\n",
       "    }\n",
       "\n",
       "    .dataframe tbody tr th {\n",
       "        vertical-align: top;\n",
       "    }\n",
       "\n",
       "    .dataframe thead th {\n",
       "        text-align: right;\n",
       "    }\n",
       "</style>\n",
       "<table border=\"1\" class=\"dataframe\">\n",
       "  <thead>\n",
       "    <tr style=\"text-align: right;\">\n",
       "      <th></th>\n",
       "      <th>date</th>\n",
       "      <th>flights</th>\n",
       "    </tr>\n",
       "  </thead>\n",
       "  <tbody>\n",
       "    <tr>\n",
       "      <td>0</td>\n",
       "      <td>2020-01-07</td>\n",
       "      <td>141887</td>\n",
       "    </tr>\n",
       "    <tr>\n",
       "      <td>1</td>\n",
       "      <td>2020-01-14</td>\n",
       "      <td>137377</td>\n",
       "    </tr>\n",
       "    <tr>\n",
       "      <td>2</td>\n",
       "      <td>2020-01-21</td>\n",
       "      <td>145690</td>\n",
       "    </tr>\n",
       "    <tr>\n",
       "      <td>3</td>\n",
       "      <td>2020-01-28</td>\n",
       "      <td>138989</td>\n",
       "    </tr>\n",
       "    <tr>\n",
       "      <td>4</td>\n",
       "      <td>2020-02-03</td>\n",
       "      <td>135102</td>\n",
       "    </tr>\n",
       "    <tr>\n",
       "      <td>5</td>\n",
       "      <td>2020-02-10</td>\n",
       "      <td>125837</td>\n",
       "    </tr>\n",
       "    <tr>\n",
       "      <td>6</td>\n",
       "      <td>2020-02-17</td>\n",
       "      <td>133827</td>\n",
       "    </tr>\n",
       "    <tr>\n",
       "      <td>7</td>\n",
       "      <td>2020-02-24</td>\n",
       "      <td>132558</td>\n",
       "    </tr>\n",
       "    <tr>\n",
       "      <td>8</td>\n",
       "      <td>2020-03-03</td>\n",
       "      <td>133400</td>\n",
       "    </tr>\n",
       "    <tr>\n",
       "      <td>9</td>\n",
       "      <td>2020-03-10</td>\n",
       "      <td>128160</td>\n",
       "    </tr>\n",
       "    <tr>\n",
       "      <td>10</td>\n",
       "      <td>2020-03-17</td>\n",
       "      <td>110764</td>\n",
       "    </tr>\n",
       "    <tr>\n",
       "      <td>11</td>\n",
       "      <td>2020-03-24</td>\n",
       "      <td>66925</td>\n",
       "    </tr>\n",
       "    <tr>\n",
       "      <td>12</td>\n",
       "      <td>2020-03-31</td>\n",
       "      <td>50489</td>\n",
       "    </tr>\n",
       "    <tr>\n",
       "      <td>13</td>\n",
       "      <td>2020-04-07</td>\n",
       "      <td>44953</td>\n",
       "    </tr>\n",
       "    <tr>\n",
       "      <td>14</td>\n",
       "      <td>2020-04-14</td>\n",
       "      <td>43220</td>\n",
       "    </tr>\n",
       "    <tr>\n",
       "      <td>15</td>\n",
       "      <td>2020-04-21</td>\n",
       "      <td>43838</td>\n",
       "    </tr>\n",
       "  </tbody>\n",
       "</table>\n",
       "</div>"
      ],
      "text/plain": [
       "         date  flights\n",
       "0  2020-01-07   141887\n",
       "1  2020-01-14   137377\n",
       "2  2020-01-21   145690\n",
       "3  2020-01-28   138989\n",
       "4  2020-02-03   135102\n",
       "5  2020-02-10   125837\n",
       "6  2020-02-17   133827\n",
       "7  2020-02-24   132558\n",
       "8  2020-03-03   133400\n",
       "9  2020-03-10   128160\n",
       "10 2020-03-17   110764\n",
       "11 2020-03-24    66925\n",
       "12 2020-03-31    50489\n",
       "13 2020-04-07    44953\n",
       "14 2020-04-14    43220\n",
       "15 2020-04-21    43838"
      ]
     },
     "execution_count": 37,
     "metadata": {},
     "output_type": "execute_result"
    }
   ],
   "source": [
    "global_flights.head(20)"
   ]
  },
  {
   "cell_type": "markdown",
   "metadata": {},
   "source": [
    "### Decrease from Jan. 7 to April 21"
   ]
  },
  {
   "cell_type": "code",
   "execution_count": 38,
   "metadata": {},
   "outputs": [
    {
     "data": {
      "text/plain": [
       "-69.1"
      ]
     },
     "execution_count": 38,
     "metadata": {},
     "output_type": "execute_result"
    }
   ],
   "source": [
    "(((global_flights.iloc[15,1] - global_flights.iloc[0,1])/global_flights.iloc[0,1])*100).round(2)"
   ]
  },
  {
   "cell_type": "code",
   "execution_count": 39,
   "metadata": {},
   "outputs": [],
   "source": [
    "global_flights.to_csv('output/global_flights.csv')"
   ]
  },
  {
   "cell_type": "markdown",
   "metadata": {},
   "source": [
    "### Filter global flights to just those in the largest airports in Europe and the USA"
   ]
  },
  {
   "cell_type": "code",
   "execution_count": 40,
   "metadata": {},
   "outputs": [],
   "source": [
    "europe_airports = ['AMS','ARN','ATH','BCN','BRU','BUD','CDG','CPH','DME','DUB','FCO','FRA','GVA','HEL',\\\n",
    "                   'KEF','LGW','LHR','LIS','MAD','MAN','MUC','MXP','ORY','OSL','PRG','SVO',\\\n",
    "                   'VCE','VIE','VKO','WAW','ZRH']"
   ]
  },
  {
   "cell_type": "code",
   "execution_count": 41,
   "metadata": {},
   "outputs": [],
   "source": [
    "usa_airports = ['ATL','BOS','BWI','CLT','DEN','DFW','DTW','EWR','FLL','IAD','IAH','JFK','LAS','LAX','LGA',\\\n",
    "                'MCO','MIA','MSP','ORD','PHL','PHX','SAN','SEA','SFO','SLC','YUL','YVR','YYZ']"
   ]
  },
  {
   "cell_type": "code",
   "execution_count": 42,
   "metadata": {},
   "outputs": [],
   "source": [
    "usa_flights_totals = flights_df[flights_df['schd_from'].isin(usa_airports)]\n",
    "europe_flights_totals = flights_df[flights_df['schd_from'].isin(europe_airports)]"
   ]
  },
  {
   "cell_type": "code",
   "execution_count": 43,
   "metadata": {},
   "outputs": [],
   "source": [
    "europe_flights_totals_grouped = europe_flights_totals.groupby(['date']).agg('size').reset_index(name='flights')\n",
    "usa_flights_totals_grouped = usa_flights_totals.groupby(['date']).agg('size').reset_index(name='flights')"
   ]
  },
  {
   "cell_type": "code",
   "execution_count": 44,
   "metadata": {},
   "outputs": [],
   "source": [
    "flights_us_eu_global = pd.concat([global_flights, europe_flights_totals_grouped['flights'],\\\n",
    "                                  usa_flights_totals_grouped['flights']], axis=1)"
   ]
  },
  {
   "cell_type": "code",
   "execution_count": 45,
   "metadata": {},
   "outputs": [],
   "source": [
    "flights_us_eu_global.columns = (['date', 'world', 'europe', 'usa'])"
   ]
  },
  {
   "cell_type": "code",
   "execution_count": 46,
   "metadata": {},
   "outputs": [],
   "source": [
    "flights_us_eu_global['world'] = flights_us_eu_global['world'] \\\n",
    "- (flights_us_eu_global['europe'] + flights_us_eu_global['usa'])"
   ]
  },
  {
   "cell_type": "code",
   "execution_count": 47,
   "metadata": {},
   "outputs": [],
   "source": [
    "flights_us_eu_global.to_csv('output/flights_us_eu_global.csv')"
   ]
  },
  {
   "cell_type": "code",
   "execution_count": 48,
   "metadata": {},
   "outputs": [],
   "source": [
    "flights_us_eu_global_melt = pd.melt(flights_us_eu_global, id_vars=['date'], \\\n",
    "                                    value_vars=['world', 'europe', 'usa'],\n",
    "        var_name='location', value_name='flights')"
   ]
  },
  {
   "cell_type": "markdown",
   "metadata": {},
   "source": [
    "---"
   ]
  },
  {
   "cell_type": "markdown",
   "metadata": {},
   "source": [
    "### Just flights from CA"
   ]
  },
  {
   "cell_type": "code",
   "execution_count": 49,
   "metadata": {},
   "outputs": [],
   "source": [
    "socal = ['BUR', 'SNA', 'LGB', 'LAX', 'ONT', 'PSP']\n",
    "bayarea = ['CCR', 'STS', 'OAK', 'SFO', 'SJC']"
   ]
  },
  {
   "cell_type": "code",
   "execution_count": 50,
   "metadata": {},
   "outputs": [],
   "source": [
    "cali = ['LAX', 'SFO', 'SAN', 'OAK', 'SJC', 'SNA', 'SMF', \\\n",
    "        'ONT', 'BUR', 'LGB', 'PSP', 'FAT', 'SBA', 'MRY', \\\n",
    "        'STS', 'SBP', 'BFL', 'SCK', 'ACV']"
   ]
  },
  {
   "cell_type": "code",
   "execution_count": 51,
   "metadata": {},
   "outputs": [],
   "source": [
    "ours = pd.DataFrame(flights_df[(flights_df['schd_from'].isin(comm_cali))])"
   ]
  },
  {
   "cell_type": "markdown",
   "metadata": {},
   "source": [
    "### Drop flights without an airport listed as the final destination"
   ]
  },
  {
   "cell_type": "code",
   "execution_count": 52,
   "metadata": {},
   "outputs": [],
   "source": [
    "ours = pd.DataFrame(ours.dropna(subset=['real_to']))"
   ]
  },
  {
   "cell_type": "markdown",
   "metadata": {},
   "source": [
    "### Group the CA airports"
   ]
  },
  {
   "cell_type": "code",
   "execution_count": 53,
   "metadata": {},
   "outputs": [],
   "source": [
    "ours_grouped = ours.groupby(['schd_from', 'date']).agg('size').reset_index(name='departures')"
   ]
  },
  {
   "cell_type": "code",
   "execution_count": 54,
   "metadata": {},
   "outputs": [],
   "source": [
    "ours_grouped_all = ours.groupby(['date']).agg('size').reset_index(name='departures')"
   ]
  },
  {
   "cell_type": "code",
   "execution_count": 55,
   "metadata": {},
   "outputs": [
    {
     "data": {
      "text/html": [
       "<div>\n",
       "<style scoped>\n",
       "    .dataframe tbody tr th:only-of-type {\n",
       "        vertical-align: middle;\n",
       "    }\n",
       "\n",
       "    .dataframe tbody tr th {\n",
       "        vertical-align: top;\n",
       "    }\n",
       "\n",
       "    .dataframe thead th {\n",
       "        text-align: right;\n",
       "    }\n",
       "</style>\n",
       "<table border=\"1\" class=\"dataframe\">\n",
       "  <thead>\n",
       "    <tr style=\"text-align: right;\">\n",
       "      <th></th>\n",
       "      <th>date</th>\n",
       "      <th>departures</th>\n",
       "    </tr>\n",
       "  </thead>\n",
       "  <tbody>\n",
       "    <tr>\n",
       "      <td>0</td>\n",
       "      <td>2020-01-07</td>\n",
       "      <td>4317</td>\n",
       "    </tr>\n",
       "    <tr>\n",
       "      <td>1</td>\n",
       "      <td>2020-01-14</td>\n",
       "      <td>4353</td>\n",
       "    </tr>\n",
       "    <tr>\n",
       "      <td>2</td>\n",
       "      <td>2020-01-21</td>\n",
       "      <td>4335</td>\n",
       "    </tr>\n",
       "    <tr>\n",
       "      <td>3</td>\n",
       "      <td>2020-01-28</td>\n",
       "      <td>4370</td>\n",
       "    </tr>\n",
       "    <tr>\n",
       "      <td>4</td>\n",
       "      <td>2020-02-03</td>\n",
       "      <td>4039</td>\n",
       "    </tr>\n",
       "    <tr>\n",
       "      <td>5</td>\n",
       "      <td>2020-02-10</td>\n",
       "      <td>4288</td>\n",
       "    </tr>\n",
       "    <tr>\n",
       "      <td>6</td>\n",
       "      <td>2020-02-17</td>\n",
       "      <td>4289</td>\n",
       "    </tr>\n",
       "    <tr>\n",
       "      <td>7</td>\n",
       "      <td>2020-02-24</td>\n",
       "      <td>4405</td>\n",
       "    </tr>\n",
       "    <tr>\n",
       "      <td>8</td>\n",
       "      <td>2020-03-03</td>\n",
       "      <td>4512</td>\n",
       "    </tr>\n",
       "    <tr>\n",
       "      <td>9</td>\n",
       "      <td>2020-03-10</td>\n",
       "      <td>4187</td>\n",
       "    </tr>\n",
       "    <tr>\n",
       "      <td>10</td>\n",
       "      <td>2020-03-17</td>\n",
       "      <td>4062</td>\n",
       "    </tr>\n",
       "    <tr>\n",
       "      <td>11</td>\n",
       "      <td>2020-03-24</td>\n",
       "      <td>2528</td>\n",
       "    </tr>\n",
       "    <tr>\n",
       "      <td>12</td>\n",
       "      <td>2020-03-31</td>\n",
       "      <td>2090</td>\n",
       "    </tr>\n",
       "    <tr>\n",
       "      <td>13</td>\n",
       "      <td>2020-04-07</td>\n",
       "      <td>1505</td>\n",
       "    </tr>\n",
       "    <tr>\n",
       "      <td>14</td>\n",
       "      <td>2020-04-14</td>\n",
       "      <td>1516</td>\n",
       "    </tr>\n",
       "    <tr>\n",
       "      <td>15</td>\n",
       "      <td>2020-04-21</td>\n",
       "      <td>1348</td>\n",
       "    </tr>\n",
       "  </tbody>\n",
       "</table>\n",
       "</div>"
      ],
      "text/plain": [
       "         date  departures\n",
       "0  2020-01-07        4317\n",
       "1  2020-01-14        4353\n",
       "2  2020-01-21        4335\n",
       "3  2020-01-28        4370\n",
       "4  2020-02-03        4039\n",
       "5  2020-02-10        4288\n",
       "6  2020-02-17        4289\n",
       "7  2020-02-24        4405\n",
       "8  2020-03-03        4512\n",
       "9  2020-03-10        4187\n",
       "10 2020-03-17        4062\n",
       "11 2020-03-24        2528\n",
       "12 2020-03-31        2090\n",
       "13 2020-04-07        1505\n",
       "14 2020-04-14        1516\n",
       "15 2020-04-21        1348"
      ]
     },
     "execution_count": 55,
     "metadata": {},
     "output_type": "execute_result"
    }
   ],
   "source": [
    "ours_grouped_all.head(20)"
   ]
  },
  {
   "cell_type": "code",
   "execution_count": 56,
   "metadata": {},
   "outputs": [],
   "source": [
    "ours_grouped_all['mark'] = '⟶'"
   ]
  },
  {
   "cell_type": "code",
   "execution_count": null,
   "metadata": {},
   "outputs": [],
   "source": [
    "ours_grouped_all['text'] = 'Stay-at-home orders begin'"
   ]
  },
  {
   "cell_type": "markdown",
   "metadata": {},
   "source": [
    "### Don't judge this epic (and janky) annotation layer. It works! "
   ]
  },
  {
   "cell_type": "code",
   "execution_count": null,
   "metadata": {},
   "outputs": [],
   "source": [
    "airports_chart = alt.Chart(ours_grouped_all).mark_line(size=4, color='#C7733E').encode(\n",
    "    x=alt.X('date:T', title='', axis=alt.Axis(tickCount=4, format='%b. %-d', grid=False)),\n",
    "    y=alt.Y('departures:Q', title='', axis=alt.Axis(tickSize=0,domainOpacity=0,\\\n",
    "                                    tickCount=5,offset=3, gridWidth=.6, gridColor='#dddddd', format='')),\n",
    ").properties(width=600, height=320,\n",
    "    title=''\n",
    ")\n",
    "\n",
    "airports_chart_text_min = (\n",
    "    alt.Chart(ours_grouped_all.query(\"departures == departures.min()\"))\n",
    "    .mark_text(dy=15, color=\"#000000\", font='Benton Gothic', fontWeight='bolder', fontSize=13)\n",
    "    .encode(x=alt.X(\"date:T\"), y=alt.Y(\"departures:Q\"), text=alt.Text(\"departures:Q\",format=','))\n",
    ")\n",
    "\n",
    "airports_chart_text_text = (\n",
    "    alt.Chart(ours_grouped_all.query(\"date == '2020-03-17'\"))\n",
    "    .mark_text(dy=32, dx=-105, angle=0,color=\"#000000\", font='Benton Gothic', fontSize=13)\n",
    "    .encode(x=alt.X(\"date:T\"), y=alt.Y(\"departures:Q\"), text=alt.Text(\"text\"))\n",
    ")\n",
    "\n",
    "airports_chart_text_emergency = (\n",
    "    alt.Chart(ours_grouped_all.query(\"date == '2020-03-17'\"))\n",
    "    .mark_text(dy=0, dx=-22, angle=310,color=\"#000000\", font='Benton Gothic', fontSize=18)\n",
    "    .encode(x=alt.X(\"date:T\"), y=alt.Y(\"departures:Q\"), text=alt.Text(\"mark\"))\n",
    ")\n",
    "\n",
    "airports_chart_text_max = (\n",
    "    alt.Chart(ours_grouped_all.query(\"departures == departures.max()\"))\n",
    "    .mark_text(dy=-15, color=\"#000000\", font='Benton Gothic', fontSize=13)\n",
    "    .encode(x=alt.X(\"date:T\"), y=alt.Y(\"departures:Q\"), text=alt.Text(\"departures:Q\",format=','))\n",
    ")\n",
    "\n",
    "(airports_chart + airports_chart_text_text + airports_chart_text_emergency \\\n",
    " + airports_chart_text_min + airports_chart_text_max).configure_view(strokeOpacity=0)"
   ]
  },
  {
   "cell_type": "code",
   "execution_count": 281,
   "metadata": {},
   "outputs": [],
   "source": [
    "save((airports_chart + airports_chart_text_text + airports_chart_text_emergency \\\n",
    " + airports_chart_text_min + airports_chart_text_max).configure_view(strokeOpacity=0), \\\n",
    "'/Users/mhustiles/data/github/coronavirus-flight-viz/assets/images/airports_chart_desktop.png', scale_factor=2.0)"
   ]
  },
  {
   "cell_type": "code",
   "execution_count": 282,
   "metadata": {},
   "outputs": [],
   "source": [
    "save((airports_chart + airports_chart_text_text + airports_chart_text_emergency \\\n",
    " + airports_chart_text_min + airports_chart_text_max).configure_view(strokeOpacity=0), \\\n",
    "'/Users/mhustiles/data/github/coronavirus-flight-viz/assets/images/airports_chart_desktop.svg', scale_factor=2.0)"
   ]
  },
  {
   "cell_type": "code",
   "execution_count": 283,
   "metadata": {},
   "outputs": [
    {
     "data": {
      "text/html": [
       "\n",
       "<div id=\"altair-viz-7038c3cd4ba14e3a9d5f2d2994584655\"></div>\n",
       "<script type=\"text/javascript\">\n",
       "  (function(spec, embedOpt){\n",
       "    const outputDiv = document.getElementById(\"altair-viz-7038c3cd4ba14e3a9d5f2d2994584655\");\n",
       "    const paths = {\n",
       "      \"vega\": \"https://cdn.jsdelivr.net/npm//vega@5?noext\",\n",
       "      \"vega-lib\": \"https://cdn.jsdelivr.net/npm//vega-lib?noext\",\n",
       "      \"vega-lite\": \"https://cdn.jsdelivr.net/npm//vega-lite@4.0.2?noext\",\n",
       "      \"vega-embed\": \"https://cdn.jsdelivr.net/npm//vega-embed@6?noext\",\n",
       "    };\n",
       "\n",
       "    function loadScript(lib) {\n",
       "      return new Promise(function(resolve, reject) {\n",
       "        var s = document.createElement('script');\n",
       "        s.src = paths[lib];\n",
       "        s.async = true;\n",
       "        s.onload = () => resolve(paths[lib]);\n",
       "        s.onerror = () => reject(`Error loading script: ${paths[lib]}`);\n",
       "        document.getElementsByTagName(\"head\")[0].appendChild(s);\n",
       "      });\n",
       "    }\n",
       "\n",
       "    function showError(err) {\n",
       "      outputDiv.innerHTML = `<div class=\"error\" style=\"color:red;\">${err}</div>`;\n",
       "      throw err;\n",
       "    }\n",
       "\n",
       "    function displayChart(vegaEmbed) {\n",
       "      vegaEmbed(outputDiv, spec, embedOpt)\n",
       "        .catch(err => showError(`Javascript Error: ${err.message}<br>This usually means there's a typo in your chart specification. See the javascript console for the full traceback.`));\n",
       "    }\n",
       "\n",
       "    if(typeof define === \"function\" && define.amd) {\n",
       "      requirejs.config({paths});\n",
       "      require([\"vega-embed\"], displayChart, err => showError(`Error loading script: ${err.message}`));\n",
       "    } else if (typeof vegaEmbed === \"function\") {\n",
       "      displayChart(vegaEmbed);\n",
       "    } else {\n",
       "      loadScript(\"vega\")\n",
       "        .then(() => loadScript(\"vega-lite\"))\n",
       "        .then(() => loadScript(\"vega-embed\"))\n",
       "        .catch(showError)\n",
       "        .then(() => displayChart(vegaEmbed));\n",
       "    }\n",
       "  })({\"config\": {\"view\": {\"width\": 800, \"height\": 450, \"strokeOpacity\": 0}, \"background\": \"#ffffff\", \"title\": {\"anchor\": \"start\", \"font\": \"Benton Gothic Bold, sans\", \"fontColor\": \"#000000\", \"fontSize\": 22, \"fontWeight\": \"normal\"}, \"arc\": {\"fill\": \"#82c6df\"}, \"area\": {\"fill\": \"#82c6df\"}, \"line\": {\"stroke\": \"#82c6df\", \"strokeWidth\": 3}, \"path\": {\"stroke\": \"#82c6df\"}, \"rect\": {\"fill\": \"#82c6df\"}, \"shape\": {\"stroke\": \"#82c6df\"}, \"bar\": {\"fill\": \"#82c6df\"}, \"point\": {\"stroke\": \"#82c6df\"}, \"symbol\": {\"fill\": \"#82c6df\", \"size\": 30}, \"axis\": {\"titleFont\": \"Benton Gothic Bold, sans\", \"titleFontSize\": 13, \"titleFontWeight\": \"normal\", \"labelFont\": \"Benton Gothic, sans\", \"labelFontSize\": 11.5, \"labelFontWeight\": \"normal\"}, \"axisX\": {\"labelAngle\": 0, \"labelPadding\": 4, \"tickSize\": 3}, \"axisY\": {\"labelBaseline\": \"middle\", \"maxExtent\": 45, \"minExtent\": 45, \"tickSize\": 2, \"titleAlign\": \"left\", \"titleAngle\": 0, \"titleX\": -45, \"titleY\": -11}, \"legend\": {\"titleFont\": \"Benton Gothic Bold, sans\", \"titleFontSize\": 13, \"titleFontWeight\": \"normal\", \"symbolType\": \"square\", \"labelFont\": \"Benton Gothic, sans\", \"labelFontSize\": 11.5}, \"range\": {\"category\": [\"#3580b1\", \"#ec8431\", \"#ab7fb4\", \"#c89d29\", \"#adc839\", \"#829eb1\"], \"diverging\": [\"#e68a4f\", \"#f4bb6a\", \"#f9e39c\", \"#dadfe2\", \"#a6b7c6\", \"#849eae\"], \"heatmap\": [\"#fbf2c7\", \"#f9e39c\", \"#f8d36e\", \"#f4bb6a\", \"#e68a4f\", \"#d15a40\", \"#ab4232\"], \"ordinal\": [\"#fbf2c7\", \"#f9e39c\", \"#f8d36e\", \"#f4bb6a\", \"#e68a4f\", \"#d15a40\", \"#ab4232\"], \"ramp\": [\"#fbf2c7\", \"#f9e39c\", \"#f8d36e\", \"#f4bb6a\", \"#e68a4f\", \"#d15a40\", \"#ab4232\"]}}, \"layer\": [{\"data\": {\"name\": \"data-dfdd5f61d409e0fe57e526521332b0a5\"}, \"mark\": {\"type\": \"line\", \"color\": \"#C7733E\", \"size\": 4}, \"encoding\": {\"x\": {\"type\": \"temporal\", \"axis\": {\"format\": \"%b. %-d\", \"grid\": false, \"tickCount\": 6}, \"field\": \"date\", \"title\": \"\"}, \"y\": {\"type\": \"quantitative\", \"axis\": {\"domainOpacity\": 0, \"format\": \"\", \"gridColor\": \"#dddddd\", \"gridWidth\": 0.6, \"offset\": 3, \"tickCount\": 6, \"tickSize\": 0}, \"field\": \"departures\", \"title\": \"\"}}, \"height\": 250, \"title\": \"\", \"width\": 320}, {\"data\": {\"name\": \"data-c31c6eab8117f96ef5b0821a3f743745\"}, \"mark\": {\"type\": \"text\", \"color\": \"#000000\", \"dy\": 15, \"font\": \"Benton Gothic\", \"fontSize\": 12, \"fontWeight\": \"bolder\"}, \"encoding\": {\"text\": {\"type\": \"quantitative\", \"field\": \"departures\", \"format\": \",\"}, \"x\": {\"type\": \"temporal\", \"field\": \"date\"}, \"y\": {\"type\": \"quantitative\", \"field\": \"departures\"}}}, {\"data\": {\"name\": \"data-04eadbb7c3d45452a271c864ef5f5807\"}, \"mark\": {\"type\": \"text\", \"angle\": 300, \"color\": \"#000000\", \"dx\": -22, \"dy\": 0, \"font\": \"Benton Gothic\", \"fontSize\": 16}, \"encoding\": {\"text\": {\"type\": \"nominal\", \"field\": \"mark\"}, \"x\": {\"type\": \"temporal\", \"field\": \"date\"}, \"y\": {\"type\": \"quantitative\", \"field\": \"departures\"}}}, {\"data\": {\"name\": \"data-7346f9edba8eb0b1c1eae18e9be82fad\"}, \"mark\": {\"type\": \"text\", \"color\": \"#000000\", \"dx\": 0, \"dy\": -15, \"font\": \"Benton Gothic\", \"fontSize\": 12}, \"encoding\": {\"text\": {\"type\": \"quantitative\", \"field\": \"departures\", \"format\": \",\"}, \"x\": {\"type\": \"temporal\", \"field\": \"date\"}, \"y\": {\"type\": \"quantitative\", \"field\": \"departures\"}}}, {\"data\": {\"name\": \"data-04eadbb7c3d45452a271c864ef5f5807\"}, \"mark\": {\"type\": \"text\", \"angle\": 0, \"color\": \"#000000\", \"dx\": -100, \"dy\": 32, \"font\": \"Benton Gothic\", \"fontSize\": 13}, \"encoding\": {\"text\": {\"type\": \"nominal\", \"field\": \"text\"}, \"x\": {\"type\": \"temporal\", \"field\": \"date\"}, \"y\": {\"type\": \"quantitative\", \"field\": \"departures\"}}}], \"$schema\": \"https://vega.github.io/schema/vega-lite/v4.0.2.json\", \"datasets\": {\"data-dfdd5f61d409e0fe57e526521332b0a5\": [{\"date\": \"2020-01-07T00:00:00\", \"departures\": 4317, \"mark\": \"\\u27f6\", \"text\": \"Stay-at-home orders begin\"}, {\"date\": \"2020-01-14T00:00:00\", \"departures\": 4353, \"mark\": \"\\u27f6\", \"text\": \"Stay-at-home orders begin\"}, {\"date\": \"2020-01-21T00:00:00\", \"departures\": 4335, \"mark\": \"\\u27f6\", \"text\": \"Stay-at-home orders begin\"}, {\"date\": \"2020-01-28T00:00:00\", \"departures\": 4370, \"mark\": \"\\u27f6\", \"text\": \"Stay-at-home orders begin\"}, {\"date\": \"2020-02-03T00:00:00\", \"departures\": 4039, \"mark\": \"\\u27f6\", \"text\": \"Stay-at-home orders begin\"}, {\"date\": \"2020-02-10T00:00:00\", \"departures\": 4288, \"mark\": \"\\u27f6\", \"text\": \"Stay-at-home orders begin\"}, {\"date\": \"2020-02-17T00:00:00\", \"departures\": 4289, \"mark\": \"\\u27f6\", \"text\": \"Stay-at-home orders begin\"}, {\"date\": \"2020-02-24T00:00:00\", \"departures\": 4405, \"mark\": \"\\u27f6\", \"text\": \"Stay-at-home orders begin\"}, {\"date\": \"2020-03-03T00:00:00\", \"departures\": 4512, \"mark\": \"\\u27f6\", \"text\": \"Stay-at-home orders begin\"}, {\"date\": \"2020-03-10T00:00:00\", \"departures\": 4187, \"mark\": \"\\u27f6\", \"text\": \"Stay-at-home orders begin\"}, {\"date\": \"2020-03-17T00:00:00\", \"departures\": 4062, \"mark\": \"\\u27f6\", \"text\": \"Stay-at-home orders begin\"}, {\"date\": \"2020-03-24T00:00:00\", \"departures\": 2528, \"mark\": \"\\u27f6\", \"text\": \"Stay-at-home orders begin\"}, {\"date\": \"2020-03-31T00:00:00\", \"departures\": 2090, \"mark\": \"\\u27f6\", \"text\": \"Stay-at-home orders begin\"}, {\"date\": \"2020-04-07T00:00:00\", \"departures\": 1505, \"mark\": \"\\u27f6\", \"text\": \"Stay-at-home orders begin\"}, {\"date\": \"2020-04-14T00:00:00\", \"departures\": 1516, \"mark\": \"\\u27f6\", \"text\": \"Stay-at-home orders begin\"}, {\"date\": \"2020-04-21T00:00:00\", \"departures\": 1348, \"mark\": \"\\u27f6\", \"text\": \"Stay-at-home orders begin\"}], \"data-c31c6eab8117f96ef5b0821a3f743745\": [{\"date\": \"2020-04-21T00:00:00\", \"departures\": 1348, \"mark\": \"\\u27f6\", \"text\": \"Stay-at-home orders begin\"}], \"data-04eadbb7c3d45452a271c864ef5f5807\": [{\"date\": \"2020-03-17T00:00:00\", \"departures\": 4062, \"mark\": \"\\u27f6\", \"text\": \"Stay-at-home orders begin\"}], \"data-7346f9edba8eb0b1c1eae18e9be82fad\": [{\"date\": \"2020-03-03T00:00:00\", \"departures\": 4512, \"mark\": \"\\u27f6\", \"text\": \"Stay-at-home orders begin\"}]}}, {\"mode\": \"vega-lite\"});\n",
       "</script>"
      ],
      "text/plain": [
       "alt.LayerChart(...)"
      ]
     },
     "execution_count": 283,
     "metadata": {},
     "output_type": "execute_result"
    }
   ],
   "source": [
    "airports_chart_mobile = alt.Chart(ours_grouped_all).mark_line(size=4, color='#C7733E').encode(\n",
    "    x=alt.X('date:T', title='', axis=alt.Axis(tickCount=6, format='%b. %-d', grid=False)),\n",
    "    y=alt.Y('departures:Q', title='', axis=alt.Axis(tickSize=0,domainOpacity=0,\\\n",
    "                                    tickCount=6,offset=3, gridWidth=.6, gridColor='#dddddd', format='')),\n",
    ").properties(width=320, height=250,\n",
    "    title=''\n",
    ")\n",
    "\n",
    "airports_chart_text_min_mobile = (\n",
    "    alt.Chart(ours_grouped_all.query(\"departures == departures.min()\"))\n",
    "    .mark_text(dy=15, color=\"#000000\", font='Benton Gothic', fontWeight='bolder', fontSize=12)\n",
    "    .encode(x=alt.X(\"date:T\"), y=alt.Y(\"departures:Q\"), text=alt.Text(\"departures:Q\",format=','))\n",
    ")\n",
    "\n",
    "airports_chart_text_text_mobile = (\n",
    "    alt.Chart(ours_grouped_all.query(\"date == '2020-03-17'\"))\n",
    "    .mark_text(dy=32, dx=-100, angle=0,color=\"#000000\", font='Benton Gothic', fontSize=13)\n",
    "    .encode(x=alt.X(\"date:T\"), y=alt.Y(\"departures:Q\"), text=alt.Text(\"text\"))\n",
    ")\n",
    "\n",
    "airports_chart_text_emergency_text_mobile = (\n",
    "    alt.Chart(ours_grouped_all.query(\"date == '2020-03-17'\"))\n",
    "    .mark_text(dy=0, dx=-22, angle=300,color=\"#000000\", font='Benton Gothic', fontSize=16)\n",
    "    .encode(x=alt.X(\"date:T\"), y=alt.Y(\"departures:Q\"), text=alt.Text(\"mark\"))\n",
    ")\n",
    "\n",
    "airports_chart_text_max_mobile = (\n",
    "    alt.Chart(ours_grouped_all.query(\"departures == departures.max()\"))\n",
    "    .mark_text(dy=-15, dx=0, color=\"#000000\", font='Benton Gothic', fontSize=12)\n",
    "    .encode(x=alt.X(\"date:T\"), y=alt.Y(\"departures:Q\"), text=alt.Text(\"departures:Q\",format=','))\n",
    ")\n",
    "\n",
    "(airports_chart_mobile + airports_chart_text_min_mobile + airports_chart_text_emergency_text_mobile+\\\n",
    " airports_chart_text_max_mobile+airports_chart_text_text_mobile).configure_view(strokeOpacity=0)"
   ]
  },
  {
   "cell_type": "code",
   "execution_count": 284,
   "metadata": {},
   "outputs": [],
   "source": [
    "save((airports_chart_mobile + airports_chart_text_min_mobile + airports_chart_text_emergency_text_mobile+\\\n",
    " airports_chart_text_max_mobile+airports_chart_text_text_mobile).configure_view(strokeOpacity=0), \\\n",
    "     '/Users/mhustiles/data/github/coronavirus-flight-viz/assets/images/airports_chart_mobile.svg', scale_factor=2.0)"
   ]
  },
  {
   "cell_type": "code",
   "execution_count": 285,
   "metadata": {},
   "outputs": [],
   "source": [
    "save((airports_chart_mobile + airports_chart_text_min_mobile + airports_chart_text_emergency_text_mobile+\\\n",
    " airports_chart_text_max_mobile+airports_chart_text_text_mobile).configure_view(strokeOpacity=0), \\\n",
    "     '/Users/mhustiles/data/github/coronavirus-flight-viz/assets/images/airports_chart_mobile.png', scale_factor=2.0)"
   ]
  },
  {
   "cell_type": "markdown",
   "metadata": {},
   "source": [
    "### What's the percentage change at all 'our' airports"
   ]
  },
  {
   "cell_type": "code",
   "execution_count": 296,
   "metadata": {},
   "outputs": [
    {
     "data": {
      "text/plain": [
       "'-68.57%'"
      ]
     },
     "execution_count": 296,
     "metadata": {},
     "output_type": "execute_result"
    }
   ],
   "source": [
    "'{:,.2f}%'.format(((ours_grouped_all.iloc[15,1] - ours_grouped_all.iloc[6,1])/ours_grouped_all.iloc[6,1]*100))"
   ]
  },
  {
   "cell_type": "code",
   "execution_count": 297,
   "metadata": {},
   "outputs": [],
   "source": [
    "ours_pivot = pd.pivot_table(ours_grouped, values='departures', index=['date'],\n",
    "                    columns=['schd_from']).reset_index()\n"
   ]
  },
  {
   "cell_type": "code",
   "execution_count": 298,
   "metadata": {},
   "outputs": [],
   "source": [
    "ours_before_after = pd.pivot_table(ours_pivot.iloc[[0,15]], values=['LAX', 'SFO', 'SAN', 'OAK', 'SJC', \\\n",
    "                                                                    'SNA', 'SMF', 'ONT', 'BUR', 'LGB', \\\n",
    "                                                                    'PSP', 'FAT', 'SBA', 'MRY', 'STS', \\\n",
    "                                                                    'SBP', 'BFL', 'SCK', 'ACV'],\n",
    "                                   columns=['date']).reset_index()"
   ]
  },
  {
   "cell_type": "code",
   "execution_count": 299,
   "metadata": {},
   "outputs": [],
   "source": [
    "ours_before_after.columns = ['airport','January','April']"
   ]
  },
  {
   "cell_type": "code",
   "execution_count": 290,
   "metadata": {},
   "outputs": [],
   "source": [
    "ours_before_after['change'] = \\\n",
    "((ours_before_after['April'] - ours_before_after['January'])/ours_before_after['January']*100).round(2)"
   ]
  },
  {
   "cell_type": "code",
   "execution_count": 291,
   "metadata": {},
   "outputs": [],
   "source": [
    "ours_before_after_merge = ours_before_after.merge(airports, left_on='airport', right_on='airportid')"
   ]
  },
  {
   "cell_type": "code",
   "execution_count": 292,
   "metadata": {},
   "outputs": [
    {
     "data": {
      "text/html": [
       "<div>\n",
       "<style scoped>\n",
       "    .dataframe tbody tr th:only-of-type {\n",
       "        vertical-align: middle;\n",
       "    }\n",
       "\n",
       "    .dataframe tbody tr th {\n",
       "        vertical-align: top;\n",
       "    }\n",
       "\n",
       "    .dataframe thead th {\n",
       "        text-align: right;\n",
       "    }\n",
       "</style>\n",
       "<table border=\"1\" class=\"dataframe\">\n",
       "  <thead>\n",
       "    <tr style=\"text-align: right;\">\n",
       "      <th></th>\n",
       "      <th>airport</th>\n",
       "      <th>January</th>\n",
       "      <th>April</th>\n",
       "      <th>change</th>\n",
       "      <th>objectid</th>\n",
       "      <th>objectid_1</th>\n",
       "      <th>objectid_2</th>\n",
       "      <th>facility</th>\n",
       "      <th>maplabel</th>\n",
       "      <th>airportid</th>\n",
       "      <th>...</th>\n",
       "      <th>longdd</th>\n",
       "      <th>latdms</th>\n",
       "      <th>pmtlat</th>\n",
       "      <th>longdms</th>\n",
       "      <th>arplatdms</th>\n",
       "      <th>arplongdms</th>\n",
       "      <th>arplats</th>\n",
       "      <th>arplongs</th>\n",
       "      <th>pmtlong</th>\n",
       "      <th>geometry</th>\n",
       "    </tr>\n",
       "  </thead>\n",
       "  <tbody>\n",
       "    <tr>\n",
       "      <td>0</td>\n",
       "      <td>ACV</td>\n",
       "      <td>14.0</td>\n",
       "      <td>8.0</td>\n",
       "      <td>-42.86</td>\n",
       "      <td>9</td>\n",
       "      <td>30</td>\n",
       "      <td>30</td>\n",
       "      <td>ARCATA AIRPORT</td>\n",
       "      <td>ARCATA</td>\n",
       "      <td>ACV</td>\n",
       "      <td>...</td>\n",
       "      <td>-124.108611</td>\n",
       "      <td>40-58-41.215N</td>\n",
       "      <td>40-58-41N</td>\n",
       "      <td>124-06-31.028W</td>\n",
       "      <td>40-58-40.2000N</td>\n",
       "      <td>124-06-30.5000W</td>\n",
       "      <td>147520.2000N</td>\n",
       "      <td>446790.5000W</td>\n",
       "      <td>124-06-31W</td>\n",
       "      <td>POINT (-124.1086109992771 40.97811099961387)</td>\n",
       "    </tr>\n",
       "    <tr>\n",
       "      <td>1</td>\n",
       "      <td>BFL</td>\n",
       "      <td>41.0</td>\n",
       "      <td>40.0</td>\n",
       "      <td>-2.44</td>\n",
       "      <td>126</td>\n",
       "      <td>36</td>\n",
       "      <td>37</td>\n",
       "      <td>MEADOWS FIELD AIRPORT</td>\n",
       "      <td>MEADOWS FIELD</td>\n",
       "      <td>BFL</td>\n",
       "      <td>...</td>\n",
       "      <td>-119.057667</td>\n",
       "      <td>35-26-00.953N</td>\n",
       "      <td>35-26-01N</td>\n",
       "      <td>119-03-24.365W</td>\n",
       "      <td>35-26-01.9000N</td>\n",
       "      <td>119-03-27.6000W</td>\n",
       "      <td>127561.9000N</td>\n",
       "      <td>428607.6000W</td>\n",
       "      <td>119-03-24W</td>\n",
       "      <td>POINT (-119.0576670002234 35.43386099995781)</td>\n",
       "    </tr>\n",
       "    <tr>\n",
       "      <td>2</td>\n",
       "      <td>BUR</td>\n",
       "      <td>179.0</td>\n",
       "      <td>48.0</td>\n",
       "      <td>-73.18</td>\n",
       "      <td>21</td>\n",
       "      <td>41</td>\n",
       "      <td>42</td>\n",
       "      <td>BOB HOPE AIRPORT</td>\n",
       "      <td>BOB HOPE</td>\n",
       "      <td>BUR</td>\n",
       "      <td>...</td>\n",
       "      <td>-118.358667</td>\n",
       "      <td>34-12-02.400N</td>\n",
       "      <td>34-12-02N</td>\n",
       "      <td>118-21-31.200W</td>\n",
       "      <td>34-12-02.4000N</td>\n",
       "      <td>118-21-31.2000W</td>\n",
       "      <td>123122.4000N</td>\n",
       "      <td>426091.2000W</td>\n",
       "      <td>118-21-31W</td>\n",
       "      <td>POINT (-118.3586669999045 34.20066700013432)</td>\n",
       "    </tr>\n",
       "    <tr>\n",
       "      <td>3</td>\n",
       "      <td>FAT</td>\n",
       "      <td>63.0</td>\n",
       "      <td>29.0</td>\n",
       "      <td>-53.97</td>\n",
       "      <td>70</td>\n",
       "      <td>77</td>\n",
       "      <td>81</td>\n",
       "      <td>FRESNO YOSEMITE INTERNATIONAL AIRPORT</td>\n",
       "      <td>FRESNO YOSEMITE</td>\n",
       "      <td>FAT</td>\n",
       "      <td>...</td>\n",
       "      <td>-119.718139</td>\n",
       "      <td>36-46-34.300N</td>\n",
       "      <td>36-46-34N</td>\n",
       "      <td>119-43-05.300W</td>\n",
       "      <td>36-46-34.3000N</td>\n",
       "      <td>119-43-05.3000W</td>\n",
       "      <td>132394.3000N</td>\n",
       "      <td>430985.3000W</td>\n",
       "      <td>119-43-05W</td>\n",
       "      <td>POINT (-119.7181390000149 36.77619399988529)</td>\n",
       "    </tr>\n",
       "    <tr>\n",
       "      <td>4</td>\n",
       "      <td>LAX</td>\n",
       "      <td>1091.0</td>\n",
       "      <td>273.0</td>\n",
       "      <td>-74.98</td>\n",
       "      <td>118</td>\n",
       "      <td>123</td>\n",
       "      <td>130</td>\n",
       "      <td>LOS ANGELES INTERNATIONAL AIRPORT</td>\n",
       "      <td>LOS ANGELES</td>\n",
       "      <td>LAX</td>\n",
       "      <td>...</td>\n",
       "      <td>-118.407161</td>\n",
       "      <td>33-56-33.130N</td>\n",
       "      <td>33-56-33N</td>\n",
       "      <td>118-24-29.068W</td>\n",
       "      <td>33-56-32.9838N</td>\n",
       "      <td>118-24-29.0462W</td>\n",
       "      <td>122192.9838N</td>\n",
       "      <td>426269.0462W</td>\n",
       "      <td>118-24-29W</td>\n",
       "      <td>POINT (-118.4071610000255 33.94252200039755)</td>\n",
       "    </tr>\n",
       "  </tbody>\n",
       "</table>\n",
       "<p>5 rows × 33 columns</p>\n",
       "</div>"
      ],
      "text/plain": [
       "  airport  January  April  change  objectid  objectid_1  objectid_2  \\\n",
       "0     ACV     14.0    8.0  -42.86         9          30          30   \n",
       "1     BFL     41.0   40.0   -2.44       126          36          37   \n",
       "2     BUR    179.0   48.0  -73.18        21          41          42   \n",
       "3     FAT     63.0   29.0  -53.97        70          77          81   \n",
       "4     LAX   1091.0  273.0  -74.98       118         123         130   \n",
       "\n",
       "                                facility          maplabel airportid  ...  \\\n",
       "0                         ARCATA AIRPORT            ARCATA       ACV  ...   \n",
       "1                  MEADOWS FIELD AIRPORT     MEADOWS FIELD       BFL  ...   \n",
       "2                       BOB HOPE AIRPORT          BOB HOPE       BUR  ...   \n",
       "3  FRESNO YOSEMITE INTERNATIONAL AIRPORT  FRESNO YOSEMITE        FAT  ...   \n",
       "4      LOS ANGELES INTERNATIONAL AIRPORT      LOS ANGELES        LAX  ...   \n",
       "\n",
       "       longdd         latdms     pmtlat         longdms       arplatdms  \\\n",
       "0 -124.108611  40-58-41.215N  40-58-41N  124-06-31.028W  40-58-40.2000N   \n",
       "1 -119.057667  35-26-00.953N  35-26-01N  119-03-24.365W  35-26-01.9000N   \n",
       "2 -118.358667  34-12-02.400N  34-12-02N  118-21-31.200W  34-12-02.4000N   \n",
       "3 -119.718139  36-46-34.300N  36-46-34N  119-43-05.300W  36-46-34.3000N   \n",
       "4 -118.407161  33-56-33.130N  33-56-33N  118-24-29.068W  33-56-32.9838N   \n",
       "\n",
       "        arplongdms       arplats      arplongs     pmtlong  \\\n",
       "0  124-06-30.5000W  147520.2000N  446790.5000W  124-06-31W   \n",
       "1  119-03-27.6000W  127561.9000N  428607.6000W  119-03-24W   \n",
       "2  118-21-31.2000W  123122.4000N  426091.2000W  118-21-31W   \n",
       "3  119-43-05.3000W  132394.3000N  430985.3000W  119-43-05W   \n",
       "4  118-24-29.0462W  122192.9838N  426269.0462W  118-24-29W   \n",
       "\n",
       "                                       geometry  \n",
       "0  POINT (-124.1086109992771 40.97811099961387)  \n",
       "1  POINT (-119.0576670002234 35.43386099995781)  \n",
       "2  POINT (-118.3586669999045 34.20066700013432)  \n",
       "3  POINT (-119.7181390000149 36.77619399988529)  \n",
       "4  POINT (-118.4071610000255 33.94252200039755)  \n",
       "\n",
       "[5 rows x 33 columns]"
      ]
     },
     "execution_count": 292,
     "metadata": {},
     "output_type": "execute_result"
    }
   ],
   "source": [
    "ours_before_after_merge.head()"
   ]
  },
  {
   "cell_type": "code",
   "execution_count": 271,
   "metadata": {},
   "outputs": [],
   "source": [
    "ours_compare_slim = pd.DataFrame(ours_before_after_merge[['facility', 'January', 'April', 'change']])"
   ]
  },
  {
   "cell_type": "code",
   "execution_count": 272,
   "metadata": {},
   "outputs": [],
   "source": [
    "ours_compare_slim = ours_compare_slim[ours_compare_slim['January'] > 0]"
   ]
  },
  {
   "cell_type": "code",
   "execution_count": 307,
   "metadata": {},
   "outputs": [],
   "source": [
    "ours_compare_slim['facility'] = ours_compare_slim['facility'].str.title().str.replace(', Orange Co.','')\\\n",
    ".str.replace(r\"\\(.*\\)\",\"\").str.replace('Daugherty Field','').str.replace('Charles M. Schulz, ','')\\\n",
    ".str.replace('International ','').str.replace(', Norman Y. Mineta','')"
   ]
  },
  {
   "cell_type": "code",
   "execution_count": 308,
   "metadata": {},
   "outputs": [
    {
     "data": {
      "text/html": [
       "<div>\n",
       "<style scoped>\n",
       "    .dataframe tbody tr th:only-of-type {\n",
       "        vertical-align: middle;\n",
       "    }\n",
       "\n",
       "    .dataframe tbody tr th {\n",
       "        vertical-align: top;\n",
       "    }\n",
       "\n",
       "    .dataframe thead th {\n",
       "        text-align: right;\n",
       "    }\n",
       "</style>\n",
       "<table border=\"1\" class=\"dataframe\">\n",
       "  <thead>\n",
       "    <tr style=\"text-align: right;\">\n",
       "      <th></th>\n",
       "      <th>facility</th>\n",
       "      <th>January</th>\n",
       "      <th>April</th>\n",
       "      <th>change</th>\n",
       "    </tr>\n",
       "  </thead>\n",
       "  <tbody>\n",
       "    <tr>\n",
       "      <td>0</td>\n",
       "      <td>Arcata Airport</td>\n",
       "      <td>14.0</td>\n",
       "      <td>8.0</td>\n",
       "      <td>-42.86</td>\n",
       "    </tr>\n",
       "    <tr>\n",
       "      <td>1</td>\n",
       "      <td>Meadows Field Airport</td>\n",
       "      <td>41.0</td>\n",
       "      <td>40.0</td>\n",
       "      <td>-2.44</td>\n",
       "    </tr>\n",
       "    <tr>\n",
       "      <td>2</td>\n",
       "      <td>Bob Hope Airport</td>\n",
       "      <td>179.0</td>\n",
       "      <td>48.0</td>\n",
       "      <td>-73.18</td>\n",
       "    </tr>\n",
       "    <tr>\n",
       "      <td>3</td>\n",
       "      <td>Fresno Yosemite Airport</td>\n",
       "      <td>63.0</td>\n",
       "      <td>29.0</td>\n",
       "      <td>-53.97</td>\n",
       "    </tr>\n",
       "    <tr>\n",
       "      <td>4</td>\n",
       "      <td>Los Angeles Airport</td>\n",
       "      <td>1091.0</td>\n",
       "      <td>273.0</td>\n",
       "      <td>-74.98</td>\n",
       "    </tr>\n",
       "    <tr>\n",
       "      <td>5</td>\n",
       "      <td>Long Beach Airport</td>\n",
       "      <td>139.0</td>\n",
       "      <td>69.0</td>\n",
       "      <td>-50.36</td>\n",
       "    </tr>\n",
       "    <tr>\n",
       "      <td>6</td>\n",
       "      <td>Monterey  Peninsula Airport</td>\n",
       "      <td>44.0</td>\n",
       "      <td>20.0</td>\n",
       "      <td>-54.55</td>\n",
       "    </tr>\n",
       "    <tr>\n",
       "      <td>7</td>\n",
       "      <td>Metropolitan Oakland Airport</td>\n",
       "      <td>292.0</td>\n",
       "      <td>104.0</td>\n",
       "      <td>-64.38</td>\n",
       "    </tr>\n",
       "    <tr>\n",
       "      <td>8</td>\n",
       "      <td>Ontario Airport</td>\n",
       "      <td>168.0</td>\n",
       "      <td>105.0</td>\n",
       "      <td>-37.50</td>\n",
       "    </tr>\n",
       "    <tr>\n",
       "      <td>9</td>\n",
       "      <td>Palm Springs Airport</td>\n",
       "      <td>87.0</td>\n",
       "      <td>22.0</td>\n",
       "      <td>-74.71</td>\n",
       "    </tr>\n",
       "    <tr>\n",
       "      <td>10</td>\n",
       "      <td>San Diego Airport</td>\n",
       "      <td>368.0</td>\n",
       "      <td>107.0</td>\n",
       "      <td>-70.92</td>\n",
       "    </tr>\n",
       "    <tr>\n",
       "      <td>11</td>\n",
       "      <td>Santa Barbara Municipal Airport</td>\n",
       "      <td>85.0</td>\n",
       "      <td>28.0</td>\n",
       "      <td>-67.06</td>\n",
       "    </tr>\n",
       "    <tr>\n",
       "      <td>12</td>\n",
       "      <td>San Luis Obispo County Regional Airport</td>\n",
       "      <td>62.0</td>\n",
       "      <td>27.0</td>\n",
       "      <td>-56.45</td>\n",
       "    </tr>\n",
       "    <tr>\n",
       "      <td>13</td>\n",
       "      <td>Stockton Metropolitan Airport</td>\n",
       "      <td>17.0</td>\n",
       "      <td>11.0</td>\n",
       "      <td>-35.29</td>\n",
       "    </tr>\n",
       "    <tr>\n",
       "      <td>14</td>\n",
       "      <td>San Francisco Airport</td>\n",
       "      <td>715.0</td>\n",
       "      <td>136.0</td>\n",
       "      <td>-80.98</td>\n",
       "    </tr>\n",
       "    <tr>\n",
       "      <td>15</td>\n",
       "      <td>San Jose Airport</td>\n",
       "      <td>336.0</td>\n",
       "      <td>63.0</td>\n",
       "      <td>-81.25</td>\n",
       "    </tr>\n",
       "    <tr>\n",
       "      <td>16</td>\n",
       "      <td>Sacramento Airport</td>\n",
       "      <td>219.0</td>\n",
       "      <td>75.0</td>\n",
       "      <td>-65.75</td>\n",
       "    </tr>\n",
       "    <tr>\n",
       "      <td>17</td>\n",
       "      <td>John Wayne Airport</td>\n",
       "      <td>234.0</td>\n",
       "      <td>80.0</td>\n",
       "      <td>-65.81</td>\n",
       "    </tr>\n",
       "    <tr>\n",
       "      <td>18</td>\n",
       "      <td>Sonoma County Airport</td>\n",
       "      <td>46.0</td>\n",
       "      <td>24.0</td>\n",
       "      <td>-47.83</td>\n",
       "    </tr>\n",
       "  </tbody>\n",
       "</table>\n",
       "</div>"
      ],
      "text/plain": [
       "                                   facility  January  April  change\n",
       "0                            Arcata Airport     14.0    8.0  -42.86\n",
       "1                     Meadows Field Airport     41.0   40.0   -2.44\n",
       "2                          Bob Hope Airport    179.0   48.0  -73.18\n",
       "3                   Fresno Yosemite Airport     63.0   29.0  -53.97\n",
       "4                       Los Angeles Airport   1091.0  273.0  -74.98\n",
       "5                       Long Beach Airport     139.0   69.0  -50.36\n",
       "6               Monterey  Peninsula Airport     44.0   20.0  -54.55\n",
       "7              Metropolitan Oakland Airport    292.0  104.0  -64.38\n",
       "8                           Ontario Airport    168.0  105.0  -37.50\n",
       "9                      Palm Springs Airport     87.0   22.0  -74.71\n",
       "10                        San Diego Airport    368.0  107.0  -70.92\n",
       "11          Santa Barbara Municipal Airport     85.0   28.0  -67.06\n",
       "12  San Luis Obispo County Regional Airport     62.0   27.0  -56.45\n",
       "13            Stockton Metropolitan Airport     17.0   11.0  -35.29\n",
       "14                    San Francisco Airport    715.0  136.0  -80.98\n",
       "15                         San Jose Airport    336.0   63.0  -81.25\n",
       "16                       Sacramento Airport    219.0   75.0  -65.75\n",
       "17                       John Wayne Airport    234.0   80.0  -65.81\n",
       "18                    Sonoma County Airport     46.0   24.0  -47.83"
      ]
     },
     "execution_count": 308,
     "metadata": {},
     "output_type": "execute_result"
    }
   ],
   "source": [
    "ours_compare_slim"
   ]
  },
  {
   "cell_type": "code",
   "execution_count": 309,
   "metadata": {},
   "outputs": [],
   "source": [
    "ours_compare_slim_melt = pd.melt(ours_compare_slim, id_vars=['facility'], \\\n",
    "                                    value_vars=['January','April'],\n",
    "        var_name='time', value_name='departures')"
   ]
  },
  {
   "cell_type": "code",
   "execution_count": 310,
   "metadata": {},
   "outputs": [
    {
     "data": {
      "text/html": [
       "<div>\n",
       "<style scoped>\n",
       "    .dataframe tbody tr th:only-of-type {\n",
       "        vertical-align: middle;\n",
       "    }\n",
       "\n",
       "    .dataframe tbody tr th {\n",
       "        vertical-align: top;\n",
       "    }\n",
       "\n",
       "    .dataframe thead th {\n",
       "        text-align: right;\n",
       "    }\n",
       "</style>\n",
       "<table border=\"1\" class=\"dataframe\">\n",
       "  <thead>\n",
       "    <tr style=\"text-align: right;\">\n",
       "      <th></th>\n",
       "      <th>facility</th>\n",
       "      <th>time</th>\n",
       "      <th>departures</th>\n",
       "    </tr>\n",
       "  </thead>\n",
       "  <tbody>\n",
       "    <tr>\n",
       "      <td>4</td>\n",
       "      <td>Los Angeles Airport</td>\n",
       "      <td>January</td>\n",
       "      <td>1091.0</td>\n",
       "    </tr>\n",
       "    <tr>\n",
       "      <td>14</td>\n",
       "      <td>San Francisco Airport</td>\n",
       "      <td>January</td>\n",
       "      <td>715.0</td>\n",
       "    </tr>\n",
       "    <tr>\n",
       "      <td>10</td>\n",
       "      <td>San Diego Airport</td>\n",
       "      <td>January</td>\n",
       "      <td>368.0</td>\n",
       "    </tr>\n",
       "    <tr>\n",
       "      <td>15</td>\n",
       "      <td>San Jose Airport</td>\n",
       "      <td>January</td>\n",
       "      <td>336.0</td>\n",
       "    </tr>\n",
       "    <tr>\n",
       "      <td>7</td>\n",
       "      <td>Metropolitan Oakland Airport</td>\n",
       "      <td>January</td>\n",
       "      <td>292.0</td>\n",
       "    </tr>\n",
       "    <tr>\n",
       "      <td>17</td>\n",
       "      <td>John Wayne Airport</td>\n",
       "      <td>January</td>\n",
       "      <td>234.0</td>\n",
       "    </tr>\n",
       "    <tr>\n",
       "      <td>16</td>\n",
       "      <td>Sacramento Airport</td>\n",
       "      <td>January</td>\n",
       "      <td>219.0</td>\n",
       "    </tr>\n",
       "    <tr>\n",
       "      <td>2</td>\n",
       "      <td>Bob Hope Airport</td>\n",
       "      <td>January</td>\n",
       "      <td>179.0</td>\n",
       "    </tr>\n",
       "    <tr>\n",
       "      <td>8</td>\n",
       "      <td>Ontario Airport</td>\n",
       "      <td>January</td>\n",
       "      <td>168.0</td>\n",
       "    </tr>\n",
       "    <tr>\n",
       "      <td>5</td>\n",
       "      <td>Long Beach Airport</td>\n",
       "      <td>January</td>\n",
       "      <td>139.0</td>\n",
       "    </tr>\n",
       "    <tr>\n",
       "      <td>9</td>\n",
       "      <td>Palm Springs Airport</td>\n",
       "      <td>January</td>\n",
       "      <td>87.0</td>\n",
       "    </tr>\n",
       "    <tr>\n",
       "      <td>11</td>\n",
       "      <td>Santa Barbara Municipal Airport</td>\n",
       "      <td>January</td>\n",
       "      <td>85.0</td>\n",
       "    </tr>\n",
       "    <tr>\n",
       "      <td>3</td>\n",
       "      <td>Fresno Yosemite Airport</td>\n",
       "      <td>January</td>\n",
       "      <td>63.0</td>\n",
       "    </tr>\n",
       "    <tr>\n",
       "      <td>12</td>\n",
       "      <td>San Luis Obispo County Regional Airport</td>\n",
       "      <td>January</td>\n",
       "      <td>62.0</td>\n",
       "    </tr>\n",
       "    <tr>\n",
       "      <td>18</td>\n",
       "      <td>Sonoma County Airport</td>\n",
       "      <td>January</td>\n",
       "      <td>46.0</td>\n",
       "    </tr>\n",
       "    <tr>\n",
       "      <td>6</td>\n",
       "      <td>Monterey  Peninsula Airport</td>\n",
       "      <td>January</td>\n",
       "      <td>44.0</td>\n",
       "    </tr>\n",
       "    <tr>\n",
       "      <td>1</td>\n",
       "      <td>Meadows Field Airport</td>\n",
       "      <td>January</td>\n",
       "      <td>41.0</td>\n",
       "    </tr>\n",
       "    <tr>\n",
       "      <td>13</td>\n",
       "      <td>Stockton Metropolitan Airport</td>\n",
       "      <td>January</td>\n",
       "      <td>17.0</td>\n",
       "    </tr>\n",
       "    <tr>\n",
       "      <td>0</td>\n",
       "      <td>Arcata Airport</td>\n",
       "      <td>January</td>\n",
       "      <td>14.0</td>\n",
       "    </tr>\n",
       "    <tr>\n",
       "      <td>23</td>\n",
       "      <td>Los Angeles Airport</td>\n",
       "      <td>April</td>\n",
       "      <td>273.0</td>\n",
       "    </tr>\n",
       "    <tr>\n",
       "      <td>33</td>\n",
       "      <td>San Francisco Airport</td>\n",
       "      <td>April</td>\n",
       "      <td>136.0</td>\n",
       "    </tr>\n",
       "    <tr>\n",
       "      <td>29</td>\n",
       "      <td>San Diego Airport</td>\n",
       "      <td>April</td>\n",
       "      <td>107.0</td>\n",
       "    </tr>\n",
       "    <tr>\n",
       "      <td>27</td>\n",
       "      <td>Ontario Airport</td>\n",
       "      <td>April</td>\n",
       "      <td>105.0</td>\n",
       "    </tr>\n",
       "    <tr>\n",
       "      <td>26</td>\n",
       "      <td>Metropolitan Oakland Airport</td>\n",
       "      <td>April</td>\n",
       "      <td>104.0</td>\n",
       "    </tr>\n",
       "    <tr>\n",
       "      <td>36</td>\n",
       "      <td>John Wayne Airport</td>\n",
       "      <td>April</td>\n",
       "      <td>80.0</td>\n",
       "    </tr>\n",
       "    <tr>\n",
       "      <td>35</td>\n",
       "      <td>Sacramento Airport</td>\n",
       "      <td>April</td>\n",
       "      <td>75.0</td>\n",
       "    </tr>\n",
       "    <tr>\n",
       "      <td>24</td>\n",
       "      <td>Long Beach Airport</td>\n",
       "      <td>April</td>\n",
       "      <td>69.0</td>\n",
       "    </tr>\n",
       "    <tr>\n",
       "      <td>34</td>\n",
       "      <td>San Jose Airport</td>\n",
       "      <td>April</td>\n",
       "      <td>63.0</td>\n",
       "    </tr>\n",
       "    <tr>\n",
       "      <td>21</td>\n",
       "      <td>Bob Hope Airport</td>\n",
       "      <td>April</td>\n",
       "      <td>48.0</td>\n",
       "    </tr>\n",
       "    <tr>\n",
       "      <td>20</td>\n",
       "      <td>Meadows Field Airport</td>\n",
       "      <td>April</td>\n",
       "      <td>40.0</td>\n",
       "    </tr>\n",
       "    <tr>\n",
       "      <td>22</td>\n",
       "      <td>Fresno Yosemite Airport</td>\n",
       "      <td>April</td>\n",
       "      <td>29.0</td>\n",
       "    </tr>\n",
       "    <tr>\n",
       "      <td>30</td>\n",
       "      <td>Santa Barbara Municipal Airport</td>\n",
       "      <td>April</td>\n",
       "      <td>28.0</td>\n",
       "    </tr>\n",
       "    <tr>\n",
       "      <td>31</td>\n",
       "      <td>San Luis Obispo County Regional Airport</td>\n",
       "      <td>April</td>\n",
       "      <td>27.0</td>\n",
       "    </tr>\n",
       "    <tr>\n",
       "      <td>37</td>\n",
       "      <td>Sonoma County Airport</td>\n",
       "      <td>April</td>\n",
       "      <td>24.0</td>\n",
       "    </tr>\n",
       "    <tr>\n",
       "      <td>28</td>\n",
       "      <td>Palm Springs Airport</td>\n",
       "      <td>April</td>\n",
       "      <td>22.0</td>\n",
       "    </tr>\n",
       "    <tr>\n",
       "      <td>25</td>\n",
       "      <td>Monterey  Peninsula Airport</td>\n",
       "      <td>April</td>\n",
       "      <td>20.0</td>\n",
       "    </tr>\n",
       "    <tr>\n",
       "      <td>32</td>\n",
       "      <td>Stockton Metropolitan Airport</td>\n",
       "      <td>April</td>\n",
       "      <td>11.0</td>\n",
       "    </tr>\n",
       "    <tr>\n",
       "      <td>19</td>\n",
       "      <td>Arcata Airport</td>\n",
       "      <td>April</td>\n",
       "      <td>8.0</td>\n",
       "    </tr>\n",
       "  </tbody>\n",
       "</table>\n",
       "</div>"
      ],
      "text/plain": [
       "                                   facility     time  departures\n",
       "4                       Los Angeles Airport  January      1091.0\n",
       "14                    San Francisco Airport  January       715.0\n",
       "10                        San Diego Airport  January       368.0\n",
       "15                         San Jose Airport  January       336.0\n",
       "7              Metropolitan Oakland Airport  January       292.0\n",
       "17                       John Wayne Airport  January       234.0\n",
       "16                       Sacramento Airport  January       219.0\n",
       "2                          Bob Hope Airport  January       179.0\n",
       "8                           Ontario Airport  January       168.0\n",
       "5                       Long Beach Airport   January       139.0\n",
       "9                      Palm Springs Airport  January        87.0\n",
       "11          Santa Barbara Municipal Airport  January        85.0\n",
       "3                   Fresno Yosemite Airport  January        63.0\n",
       "12  San Luis Obispo County Regional Airport  January        62.0\n",
       "18                    Sonoma County Airport  January        46.0\n",
       "6               Monterey  Peninsula Airport  January        44.0\n",
       "1                     Meadows Field Airport  January        41.0\n",
       "13            Stockton Metropolitan Airport  January        17.0\n",
       "0                            Arcata Airport  January        14.0\n",
       "23                      Los Angeles Airport    April       273.0\n",
       "33                    San Francisco Airport    April       136.0\n",
       "29                        San Diego Airport    April       107.0\n",
       "27                          Ontario Airport    April       105.0\n",
       "26             Metropolitan Oakland Airport    April       104.0\n",
       "36                       John Wayne Airport    April        80.0\n",
       "35                       Sacramento Airport    April        75.0\n",
       "24                      Long Beach Airport     April        69.0\n",
       "34                         San Jose Airport    April        63.0\n",
       "21                         Bob Hope Airport    April        48.0\n",
       "20                    Meadows Field Airport    April        40.0\n",
       "22                  Fresno Yosemite Airport    April        29.0\n",
       "30          Santa Barbara Municipal Airport    April        28.0\n",
       "31  San Luis Obispo County Regional Airport    April        27.0\n",
       "37                    Sonoma County Airport    April        24.0\n",
       "28                     Palm Springs Airport    April        22.0\n",
       "25              Monterey  Peninsula Airport    April        20.0\n",
       "32            Stockton Metropolitan Airport    April        11.0\n",
       "19                           Arcata Airport    April         8.0"
      ]
     },
     "execution_count": 310,
     "metadata": {},
     "output_type": "execute_result"
    }
   ],
   "source": [
    "ours_compare_slim_melt.sort_values(by=['time','departures'], ascending=False)"
   ]
  },
  {
   "cell_type": "code",
   "execution_count": 313,
   "metadata": {},
   "outputs": [
    {
     "data": {
      "text/html": [
       "\n",
       "<div id=\"altair-viz-4d602d77a7bd4a5399e3a8f0857d4538\"></div>\n",
       "<script type=\"text/javascript\">\n",
       "  (function(spec, embedOpt){\n",
       "    const outputDiv = document.getElementById(\"altair-viz-4d602d77a7bd4a5399e3a8f0857d4538\");\n",
       "    const paths = {\n",
       "      \"vega\": \"https://cdn.jsdelivr.net/npm//vega@5?noext\",\n",
       "      \"vega-lib\": \"https://cdn.jsdelivr.net/npm//vega-lib?noext\",\n",
       "      \"vega-lite\": \"https://cdn.jsdelivr.net/npm//vega-lite@4.0.2?noext\",\n",
       "      \"vega-embed\": \"https://cdn.jsdelivr.net/npm//vega-embed@6?noext\",\n",
       "    };\n",
       "\n",
       "    function loadScript(lib) {\n",
       "      return new Promise(function(resolve, reject) {\n",
       "        var s = document.createElement('script');\n",
       "        s.src = paths[lib];\n",
       "        s.async = true;\n",
       "        s.onload = () => resolve(paths[lib]);\n",
       "        s.onerror = () => reject(`Error loading script: ${paths[lib]}`);\n",
       "        document.getElementsByTagName(\"head\")[0].appendChild(s);\n",
       "      });\n",
       "    }\n",
       "\n",
       "    function showError(err) {\n",
       "      outputDiv.innerHTML = `<div class=\"error\" style=\"color:red;\">${err}</div>`;\n",
       "      throw err;\n",
       "    }\n",
       "\n",
       "    function displayChart(vegaEmbed) {\n",
       "      vegaEmbed(outputDiv, spec, embedOpt)\n",
       "        .catch(err => showError(`Javascript Error: ${err.message}<br>This usually means there's a typo in your chart specification. See the javascript console for the full traceback.`));\n",
       "    }\n",
       "\n",
       "    if(typeof define === \"function\" && define.amd) {\n",
       "      requirejs.config({paths});\n",
       "      require([\"vega-embed\"], displayChart, err => showError(`Error loading script: ${err.message}`));\n",
       "    } else if (typeof vegaEmbed === \"function\") {\n",
       "      displayChart(vegaEmbed);\n",
       "    } else {\n",
       "      loadScript(\"vega\")\n",
       "        .then(() => loadScript(\"vega-lite\"))\n",
       "        .then(() => loadScript(\"vega-embed\"))\n",
       "        .catch(showError)\n",
       "        .then(() => displayChart(vegaEmbed));\n",
       "    }\n",
       "  })({\"config\": {\"view\": {\"width\": 800, \"height\": 450, \"strokeOpacity\": 0}, \"background\": \"#ffffff\", \"title\": {\"anchor\": \"start\", \"font\": \"Benton Gothic Bold, sans\", \"fontColor\": \"#000000\", \"fontSize\": 22, \"fontWeight\": \"normal\"}, \"arc\": {\"fill\": \"#82c6df\"}, \"area\": {\"fill\": \"#82c6df\"}, \"line\": {\"stroke\": \"#82c6df\", \"strokeWidth\": 3}, \"path\": {\"stroke\": \"#82c6df\"}, \"rect\": {\"fill\": \"#82c6df\"}, \"shape\": {\"stroke\": \"#82c6df\"}, \"bar\": {\"fill\": \"#82c6df\"}, \"point\": {\"stroke\": \"#82c6df\"}, \"symbol\": {\"fill\": \"#82c6df\", \"size\": 30}, \"axis\": {\"titleFont\": \"Benton Gothic Bold, sans\", \"titleFontSize\": 13, \"titleFontWeight\": \"normal\", \"labelFont\": \"Benton Gothic, sans\", \"labelFontSize\": 11.5, \"labelFontWeight\": \"normal\"}, \"axisX\": {\"labelAngle\": 0, \"labelPadding\": 4, \"tickSize\": 3}, \"axisY\": {\"labelBaseline\": \"middle\", \"maxExtent\": 45, \"minExtent\": 45, \"tickSize\": 2, \"titleAlign\": \"left\", \"titleAngle\": 0, \"titleX\": -45, \"titleY\": -11}, \"legend\": {\"titleFont\": \"Benton Gothic Bold, sans\", \"titleFontSize\": 13, \"titleFontWeight\": \"normal\", \"symbolType\": \"square\", \"labelFont\": \"Benton Gothic, sans\", \"labelFontSize\": 11.5}, \"range\": {\"category\": [\"#3580b1\", \"#ec8431\", \"#ab7fb4\", \"#c89d29\", \"#adc839\", \"#829eb1\"], \"diverging\": [\"#e68a4f\", \"#f4bb6a\", \"#f9e39c\", \"#dadfe2\", \"#a6b7c6\", \"#849eae\"], \"heatmap\": [\"#fbf2c7\", \"#f9e39c\", \"#f8d36e\", \"#f4bb6a\", \"#e68a4f\", \"#d15a40\", \"#ab4232\"], \"ordinal\": [\"#fbf2c7\", \"#f9e39c\", \"#f8d36e\", \"#f4bb6a\", \"#e68a4f\", \"#d15a40\", \"#ab4232\"], \"ramp\": [\"#fbf2c7\", \"#f9e39c\", \"#f8d36e\", \"#f4bb6a\", \"#e68a4f\", \"#d15a40\", \"#ab4232\"]}}, \"data\": {\"name\": \"data-cc3b6da19b5e297e3aef83e64abdc3f3\"}, \"facet\": {\"type\": \"ordinal\", \"field\": \"facility\", \"title\": \" \"}, \"spec\": {\"layer\": [{\"mark\": {\"type\": \"line\", \"size\": 4}, \"encoding\": {\"color\": {\"value\": \"#C7733E\"}, \"x\": {\"type\": \"ordinal\", \"field\": \"time\", \"sort\": \"-x\", \"title\": \"\"}, \"y\": {\"type\": \"quantitative\", \"field\": \"departures\", \"title\": \"\"}}}, {\"mark\": {\"type\": \"circle\", \"color\": \"#C7733E\", \"opacity\": 1, \"size\": 70}, \"encoding\": {\"x\": {\"type\": \"ordinal\", \"field\": \"time\", \"sort\": \"-x\", \"title\": \"\"}, \"y\": {\"type\": \"quantitative\", \"axis\": {\"domainOpacity\": 0, \"gridColor\": \"#dddddd\", \"gridWidth\": 0.6, \"offset\": 3, \"tickCount\": 3, \"tickSize\": 0}, \"field\": \"departures\", \"title\": \"\"}}}], \"height\": 100, \"width\": 100}, \"columns\": 5, \"$schema\": \"https://vega.github.io/schema/vega-lite/v4.0.2.json\", \"datasets\": {\"data-cc3b6da19b5e297e3aef83e64abdc3f3\": [{\"facility\": \"Arcata Airport\", \"time\": \"January\", \"departures\": 14.0}, {\"facility\": \"Meadows Field Airport\", \"time\": \"January\", \"departures\": 41.0}, {\"facility\": \"Bob Hope Airport\", \"time\": \"January\", \"departures\": 179.0}, {\"facility\": \"Fresno Yosemite Airport\", \"time\": \"January\", \"departures\": 63.0}, {\"facility\": \"Los Angeles Airport\", \"time\": \"January\", \"departures\": 1091.0}, {\"facility\": \"Long Beach Airport \", \"time\": \"January\", \"departures\": 139.0}, {\"facility\": \"Monterey  Peninsula Airport\", \"time\": \"January\", \"departures\": 44.0}, {\"facility\": \"Metropolitan Oakland Airport\", \"time\": \"January\", \"departures\": 292.0}, {\"facility\": \"Ontario Airport\", \"time\": \"January\", \"departures\": 168.0}, {\"facility\": \"Palm Springs Airport\", \"time\": \"January\", \"departures\": 87.0}, {\"facility\": \"San Diego Airport\", \"time\": \"January\", \"departures\": 368.0}, {\"facility\": \"Santa Barbara Municipal Airport\", \"time\": \"January\", \"departures\": 85.0}, {\"facility\": \"San Luis Obispo County Regional Airport\", \"time\": \"January\", \"departures\": 62.0}, {\"facility\": \"Stockton Metropolitan Airport\", \"time\": \"January\", \"departures\": 17.0}, {\"facility\": \"San Francisco Airport\", \"time\": \"January\", \"departures\": 715.0}, {\"facility\": \"San Jose Airport\", \"time\": \"January\", \"departures\": 336.0}, {\"facility\": \"Sacramento Airport\", \"time\": \"January\", \"departures\": 219.0}, {\"facility\": \"John Wayne Airport\", \"time\": \"January\", \"departures\": 234.0}, {\"facility\": \"Sonoma County Airport\", \"time\": \"January\", \"departures\": 46.0}, {\"facility\": \"Arcata Airport\", \"time\": \"April\", \"departures\": 8.0}, {\"facility\": \"Meadows Field Airport\", \"time\": \"April\", \"departures\": 40.0}, {\"facility\": \"Bob Hope Airport\", \"time\": \"April\", \"departures\": 48.0}, {\"facility\": \"Fresno Yosemite Airport\", \"time\": \"April\", \"departures\": 29.0}, {\"facility\": \"Los Angeles Airport\", \"time\": \"April\", \"departures\": 273.0}, {\"facility\": \"Long Beach Airport \", \"time\": \"April\", \"departures\": 69.0}, {\"facility\": \"Monterey  Peninsula Airport\", \"time\": \"April\", \"departures\": 20.0}, {\"facility\": \"Metropolitan Oakland Airport\", \"time\": \"April\", \"departures\": 104.0}, {\"facility\": \"Ontario Airport\", \"time\": \"April\", \"departures\": 105.0}, {\"facility\": \"Palm Springs Airport\", \"time\": \"April\", \"departures\": 22.0}, {\"facility\": \"San Diego Airport\", \"time\": \"April\", \"departures\": 107.0}, {\"facility\": \"Santa Barbara Municipal Airport\", \"time\": \"April\", \"departures\": 28.0}, {\"facility\": \"San Luis Obispo County Regional Airport\", \"time\": \"April\", \"departures\": 27.0}, {\"facility\": \"Stockton Metropolitan Airport\", \"time\": \"April\", \"departures\": 11.0}, {\"facility\": \"San Francisco Airport\", \"time\": \"April\", \"departures\": 136.0}, {\"facility\": \"San Jose Airport\", \"time\": \"April\", \"departures\": 63.0}, {\"facility\": \"Sacramento Airport\", \"time\": \"April\", \"departures\": 75.0}, {\"facility\": \"John Wayne Airport\", \"time\": \"April\", \"departures\": 80.0}, {\"facility\": \"Sonoma County Airport\", \"time\": \"April\", \"departures\": 24.0}]}}, {\"mode\": \"vega-lite\"});\n",
       "</script>"
      ],
      "text/plain": [
       "alt.FacetChart(...)"
      ]
     },
     "execution_count": 313,
     "metadata": {},
     "output_type": "execute_result"
    }
   ],
   "source": [
    "lines = alt.Chart(ours_compare_slim_melt).mark_line(size=4).encode(\n",
    "    x=alt.X('time:O', sort='-x', title=''),\n",
    "    y=alt.Y('departures:Q', title=''),\n",
    "    color=alt.value('#C7733E')\n",
    ")\n",
    "\n",
    "points = alt.Chart(ours_compare_slim_melt).mark_circle(size=70, opacity=1,color='#C7733E').encode(\n",
    "    x=alt.X('time:O', sort='-x', title=''),\n",
    "    y=alt.Y('departures:Q', title='',axis=alt.Axis(tickCount=3,gridWidth=.6,\\\n",
    "    gridColor='#dddddd',offset=3,tickSize=0,domainOpacity=0))\n",
    ")\n",
    "\n",
    "(lines + points).properties(width=100, height=100).facet(\n",
    "    facet=alt.Facet('facility:O', title=' '),\n",
    "    columns=5\n",
    ").configure_view(strokeOpacity=0)"
   ]
  },
  {
   "cell_type": "code",
   "execution_count": 79,
   "metadata": {},
   "outputs": [],
   "source": [
    "ours_compare_slim.to_csv('output/ca_airports_then_now.csv', index=False)"
   ]
  },
  {
   "cell_type": "code",
   "execution_count": 80,
   "metadata": {},
   "outputs": [],
   "source": [
    "ours_grouped = ours.groupby(['date', 'schd_from']).agg('size').reset_index(name='departures')"
   ]
  },
  {
   "cell_type": "code",
   "execution_count": 81,
   "metadata": {},
   "outputs": [
    {
     "data": {
      "text/html": [
       "<div>\n",
       "<style scoped>\n",
       "    .dataframe tbody tr th:only-of-type {\n",
       "        vertical-align: middle;\n",
       "    }\n",
       "\n",
       "    .dataframe tbody tr th {\n",
       "        vertical-align: top;\n",
       "    }\n",
       "\n",
       "    .dataframe thead th {\n",
       "        text-align: right;\n",
       "    }\n",
       "</style>\n",
       "<table border=\"1\" class=\"dataframe\">\n",
       "  <thead>\n",
       "    <tr style=\"text-align: right;\">\n",
       "      <th>schd_from</th>\n",
       "      <th>date</th>\n",
       "      <th>ACV</th>\n",
       "      <th>BFL</th>\n",
       "      <th>BUR</th>\n",
       "      <th>CCR</th>\n",
       "      <th>FAT</th>\n",
       "      <th>LAX</th>\n",
       "      <th>LGB</th>\n",
       "      <th>MMH</th>\n",
       "      <th>MRY</th>\n",
       "      <th>...</th>\n",
       "      <th>SAN</th>\n",
       "      <th>SBA</th>\n",
       "      <th>SBP</th>\n",
       "      <th>SCK</th>\n",
       "      <th>SFO</th>\n",
       "      <th>SJC</th>\n",
       "      <th>SMF</th>\n",
       "      <th>SMX</th>\n",
       "      <th>SNA</th>\n",
       "      <th>STS</th>\n",
       "    </tr>\n",
       "  </thead>\n",
       "  <tbody>\n",
       "    <tr>\n",
       "      <td>0</td>\n",
       "      <td>2020-01-07</td>\n",
       "      <td>14.0</td>\n",
       "      <td>41.0</td>\n",
       "      <td>179.0</td>\n",
       "      <td>24.0</td>\n",
       "      <td>63.0</td>\n",
       "      <td>1091.0</td>\n",
       "      <td>139.0</td>\n",
       "      <td>6.0</td>\n",
       "      <td>44.0</td>\n",
       "      <td>...</td>\n",
       "      <td>368.0</td>\n",
       "      <td>85.0</td>\n",
       "      <td>62.0</td>\n",
       "      <td>17.0</td>\n",
       "      <td>715.0</td>\n",
       "      <td>336.0</td>\n",
       "      <td>219.0</td>\n",
       "      <td>19.0</td>\n",
       "      <td>234.0</td>\n",
       "      <td>46.0</td>\n",
       "    </tr>\n",
       "    <tr>\n",
       "      <td>1</td>\n",
       "      <td>2020-01-14</td>\n",
       "      <td>19.0</td>\n",
       "      <td>76.0</td>\n",
       "      <td>163.0</td>\n",
       "      <td>23.0</td>\n",
       "      <td>77.0</td>\n",
       "      <td>1085.0</td>\n",
       "      <td>145.0</td>\n",
       "      <td>1.0</td>\n",
       "      <td>47.0</td>\n",
       "      <td>...</td>\n",
       "      <td>372.0</td>\n",
       "      <td>97.0</td>\n",
       "      <td>67.0</td>\n",
       "      <td>27.0</td>\n",
       "      <td>728.0</td>\n",
       "      <td>299.0</td>\n",
       "      <td>221.0</td>\n",
       "      <td>19.0</td>\n",
       "      <td>250.0</td>\n",
       "      <td>41.0</td>\n",
       "    </tr>\n",
       "    <tr>\n",
       "      <td>2</td>\n",
       "      <td>2020-01-21</td>\n",
       "      <td>18.0</td>\n",
       "      <td>78.0</td>\n",
       "      <td>178.0</td>\n",
       "      <td>26.0</td>\n",
       "      <td>80.0</td>\n",
       "      <td>1067.0</td>\n",
       "      <td>134.0</td>\n",
       "      <td>17.0</td>\n",
       "      <td>41.0</td>\n",
       "      <td>...</td>\n",
       "      <td>379.0</td>\n",
       "      <td>97.0</td>\n",
       "      <td>69.0</td>\n",
       "      <td>31.0</td>\n",
       "      <td>686.0</td>\n",
       "      <td>312.0</td>\n",
       "      <td>221.0</td>\n",
       "      <td>16.0</td>\n",
       "      <td>251.0</td>\n",
       "      <td>41.0</td>\n",
       "    </tr>\n",
       "    <tr>\n",
       "      <td>3</td>\n",
       "      <td>2020-01-28</td>\n",
       "      <td>16.0</td>\n",
       "      <td>67.0</td>\n",
       "      <td>174.0</td>\n",
       "      <td>27.0</td>\n",
       "      <td>87.0</td>\n",
       "      <td>1067.0</td>\n",
       "      <td>151.0</td>\n",
       "      <td>7.0</td>\n",
       "      <td>50.0</td>\n",
       "      <td>...</td>\n",
       "      <td>391.0</td>\n",
       "      <td>83.0</td>\n",
       "      <td>58.0</td>\n",
       "      <td>29.0</td>\n",
       "      <td>707.0</td>\n",
       "      <td>325.0</td>\n",
       "      <td>223.0</td>\n",
       "      <td>17.0</td>\n",
       "      <td>266.0</td>\n",
       "      <td>33.0</td>\n",
       "    </tr>\n",
       "    <tr>\n",
       "      <td>4</td>\n",
       "      <td>2020-02-03</td>\n",
       "      <td>11.0</td>\n",
       "      <td>53.0</td>\n",
       "      <td>172.0</td>\n",
       "      <td>24.0</td>\n",
       "      <td>62.0</td>\n",
       "      <td>1043.0</td>\n",
       "      <td>94.0</td>\n",
       "      <td>7.0</td>\n",
       "      <td>66.0</td>\n",
       "      <td>...</td>\n",
       "      <td>369.0</td>\n",
       "      <td>64.0</td>\n",
       "      <td>40.0</td>\n",
       "      <td>21.0</td>\n",
       "      <td>728.0</td>\n",
       "      <td>281.0</td>\n",
       "      <td>191.0</td>\n",
       "      <td>12.0</td>\n",
       "      <td>258.0</td>\n",
       "      <td>36.0</td>\n",
       "    </tr>\n",
       "    <tr>\n",
       "      <td>5</td>\n",
       "      <td>2020-02-10</td>\n",
       "      <td>15.0</td>\n",
       "      <td>47.0</td>\n",
       "      <td>158.0</td>\n",
       "      <td>21.0</td>\n",
       "      <td>83.0</td>\n",
       "      <td>1107.0</td>\n",
       "      <td>122.0</td>\n",
       "      <td>17.0</td>\n",
       "      <td>104.0</td>\n",
       "      <td>...</td>\n",
       "      <td>388.0</td>\n",
       "      <td>85.0</td>\n",
       "      <td>51.0</td>\n",
       "      <td>31.0</td>\n",
       "      <td>720.0</td>\n",
       "      <td>314.0</td>\n",
       "      <td>209.0</td>\n",
       "      <td>12.0</td>\n",
       "      <td>233.0</td>\n",
       "      <td>43.0</td>\n",
       "    </tr>\n",
       "    <tr>\n",
       "      <td>6</td>\n",
       "      <td>2020-02-17</td>\n",
       "      <td>13.0</td>\n",
       "      <td>41.0</td>\n",
       "      <td>169.0</td>\n",
       "      <td>38.0</td>\n",
       "      <td>61.0</td>\n",
       "      <td>1074.0</td>\n",
       "      <td>134.0</td>\n",
       "      <td>20.0</td>\n",
       "      <td>84.0</td>\n",
       "      <td>...</td>\n",
       "      <td>374.0</td>\n",
       "      <td>96.0</td>\n",
       "      <td>68.0</td>\n",
       "      <td>32.0</td>\n",
       "      <td>681.0</td>\n",
       "      <td>267.0</td>\n",
       "      <td>192.0</td>\n",
       "      <td>11.0</td>\n",
       "      <td>313.0</td>\n",
       "      <td>57.0</td>\n",
       "    </tr>\n",
       "    <tr>\n",
       "      <td>7</td>\n",
       "      <td>2020-02-24</td>\n",
       "      <td>14.0</td>\n",
       "      <td>54.0</td>\n",
       "      <td>162.0</td>\n",
       "      <td>41.0</td>\n",
       "      <td>74.0</td>\n",
       "      <td>1102.0</td>\n",
       "      <td>159.0</td>\n",
       "      <td>12.0</td>\n",
       "      <td>43.0</td>\n",
       "      <td>...</td>\n",
       "      <td>373.0</td>\n",
       "      <td>100.0</td>\n",
       "      <td>66.0</td>\n",
       "      <td>37.0</td>\n",
       "      <td>751.0</td>\n",
       "      <td>310.0</td>\n",
       "      <td>201.0</td>\n",
       "      <td>19.0</td>\n",
       "      <td>289.0</td>\n",
       "      <td>49.0</td>\n",
       "    </tr>\n",
       "    <tr>\n",
       "      <td>8</td>\n",
       "      <td>2020-03-03</td>\n",
       "      <td>17.0</td>\n",
       "      <td>69.0</td>\n",
       "      <td>168.0</td>\n",
       "      <td>43.0</td>\n",
       "      <td>89.0</td>\n",
       "      <td>1089.0</td>\n",
       "      <td>181.0</td>\n",
       "      <td>5.0</td>\n",
       "      <td>61.0</td>\n",
       "      <td>...</td>\n",
       "      <td>387.0</td>\n",
       "      <td>84.0</td>\n",
       "      <td>72.0</td>\n",
       "      <td>40.0</td>\n",
       "      <td>728.0</td>\n",
       "      <td>309.0</td>\n",
       "      <td>224.0</td>\n",
       "      <td>30.0</td>\n",
       "      <td>248.0</td>\n",
       "      <td>50.0</td>\n",
       "    </tr>\n",
       "    <tr>\n",
       "      <td>9</td>\n",
       "      <td>2020-03-10</td>\n",
       "      <td>15.0</td>\n",
       "      <td>64.0</td>\n",
       "      <td>165.0</td>\n",
       "      <td>36.0</td>\n",
       "      <td>77.0</td>\n",
       "      <td>1073.0</td>\n",
       "      <td>88.0</td>\n",
       "      <td>4.0</td>\n",
       "      <td>44.0</td>\n",
       "      <td>...</td>\n",
       "      <td>360.0</td>\n",
       "      <td>77.0</td>\n",
       "      <td>33.0</td>\n",
       "      <td>37.0</td>\n",
       "      <td>711.0</td>\n",
       "      <td>282.0</td>\n",
       "      <td>214.0</td>\n",
       "      <td>11.0</td>\n",
       "      <td>206.0</td>\n",
       "      <td>48.0</td>\n",
       "    </tr>\n",
       "    <tr>\n",
       "      <td>10</td>\n",
       "      <td>2020-03-17</td>\n",
       "      <td>13.0</td>\n",
       "      <td>40.0</td>\n",
       "      <td>154.0</td>\n",
       "      <td>20.0</td>\n",
       "      <td>69.0</td>\n",
       "      <td>1031.0</td>\n",
       "      <td>138.0</td>\n",
       "      <td>3.0</td>\n",
       "      <td>35.0</td>\n",
       "      <td>...</td>\n",
       "      <td>381.0</td>\n",
       "      <td>67.0</td>\n",
       "      <td>41.0</td>\n",
       "      <td>24.0</td>\n",
       "      <td>688.0</td>\n",
       "      <td>273.0</td>\n",
       "      <td>212.0</td>\n",
       "      <td>12.0</td>\n",
       "      <td>244.0</td>\n",
       "      <td>40.0</td>\n",
       "    </tr>\n",
       "    <tr>\n",
       "      <td>11</td>\n",
       "      <td>2020-03-24</td>\n",
       "      <td>11.0</td>\n",
       "      <td>37.0</td>\n",
       "      <td>77.0</td>\n",
       "      <td>5.0</td>\n",
       "      <td>48.0</td>\n",
       "      <td>687.0</td>\n",
       "      <td>88.0</td>\n",
       "      <td>NaN</td>\n",
       "      <td>21.0</td>\n",
       "      <td>...</td>\n",
       "      <td>238.0</td>\n",
       "      <td>42.0</td>\n",
       "      <td>32.0</td>\n",
       "      <td>5.0</td>\n",
       "      <td>373.0</td>\n",
       "      <td>169.0</td>\n",
       "      <td>155.0</td>\n",
       "      <td>11.0</td>\n",
       "      <td>111.0</td>\n",
       "      <td>21.0</td>\n",
       "    </tr>\n",
       "    <tr>\n",
       "      <td>12</td>\n",
       "      <td>2020-03-31</td>\n",
       "      <td>13.0</td>\n",
       "      <td>35.0</td>\n",
       "      <td>66.0</td>\n",
       "      <td>14.0</td>\n",
       "      <td>44.0</td>\n",
       "      <td>532.0</td>\n",
       "      <td>74.0</td>\n",
       "      <td>NaN</td>\n",
       "      <td>21.0</td>\n",
       "      <td>...</td>\n",
       "      <td>189.0</td>\n",
       "      <td>47.0</td>\n",
       "      <td>34.0</td>\n",
       "      <td>9.0</td>\n",
       "      <td>304.0</td>\n",
       "      <td>119.0</td>\n",
       "      <td>98.0</td>\n",
       "      <td>13.0</td>\n",
       "      <td>116.0</td>\n",
       "      <td>17.0</td>\n",
       "    </tr>\n",
       "    <tr>\n",
       "      <td>13</td>\n",
       "      <td>2020-04-07</td>\n",
       "      <td>6.0</td>\n",
       "      <td>26.0</td>\n",
       "      <td>48.0</td>\n",
       "      <td>12.0</td>\n",
       "      <td>37.0</td>\n",
       "      <td>386.0</td>\n",
       "      <td>38.0</td>\n",
       "      <td>NaN</td>\n",
       "      <td>13.0</td>\n",
       "      <td>...</td>\n",
       "      <td>135.0</td>\n",
       "      <td>27.0</td>\n",
       "      <td>23.0</td>\n",
       "      <td>6.0</td>\n",
       "      <td>190.0</td>\n",
       "      <td>75.0</td>\n",
       "      <td>95.0</td>\n",
       "      <td>18.0</td>\n",
       "      <td>52.0</td>\n",
       "      <td>22.0</td>\n",
       "    </tr>\n",
       "    <tr>\n",
       "      <td>14</td>\n",
       "      <td>2020-04-14</td>\n",
       "      <td>7.0</td>\n",
       "      <td>40.0</td>\n",
       "      <td>56.0</td>\n",
       "      <td>25.0</td>\n",
       "      <td>22.0</td>\n",
       "      <td>302.0</td>\n",
       "      <td>79.0</td>\n",
       "      <td>1.0</td>\n",
       "      <td>28.0</td>\n",
       "      <td>...</td>\n",
       "      <td>130.0</td>\n",
       "      <td>37.0</td>\n",
       "      <td>37.0</td>\n",
       "      <td>9.0</td>\n",
       "      <td>143.0</td>\n",
       "      <td>82.0</td>\n",
       "      <td>73.0</td>\n",
       "      <td>22.0</td>\n",
       "      <td>95.0</td>\n",
       "      <td>37.0</td>\n",
       "    </tr>\n",
       "    <tr>\n",
       "      <td>15</td>\n",
       "      <td>2020-04-21</td>\n",
       "      <td>8.0</td>\n",
       "      <td>40.0</td>\n",
       "      <td>48.0</td>\n",
       "      <td>19.0</td>\n",
       "      <td>29.0</td>\n",
       "      <td>273.0</td>\n",
       "      <td>69.0</td>\n",
       "      <td>NaN</td>\n",
       "      <td>20.0</td>\n",
       "      <td>...</td>\n",
       "      <td>107.0</td>\n",
       "      <td>28.0</td>\n",
       "      <td>27.0</td>\n",
       "      <td>11.0</td>\n",
       "      <td>136.0</td>\n",
       "      <td>63.0</td>\n",
       "      <td>75.0</td>\n",
       "      <td>17.0</td>\n",
       "      <td>80.0</td>\n",
       "      <td>24.0</td>\n",
       "    </tr>\n",
       "  </tbody>\n",
       "</table>\n",
       "<p>16 rows × 24 columns</p>\n",
       "</div>"
      ],
      "text/plain": [
       "schd_from       date   ACV   BFL    BUR   CCR   FAT     LAX    LGB   MMH  \\\n",
       "0         2020-01-07  14.0  41.0  179.0  24.0  63.0  1091.0  139.0   6.0   \n",
       "1         2020-01-14  19.0  76.0  163.0  23.0  77.0  1085.0  145.0   1.0   \n",
       "2         2020-01-21  18.0  78.0  178.0  26.0  80.0  1067.0  134.0  17.0   \n",
       "3         2020-01-28  16.0  67.0  174.0  27.0  87.0  1067.0  151.0   7.0   \n",
       "4         2020-02-03  11.0  53.0  172.0  24.0  62.0  1043.0   94.0   7.0   \n",
       "5         2020-02-10  15.0  47.0  158.0  21.0  83.0  1107.0  122.0  17.0   \n",
       "6         2020-02-17  13.0  41.0  169.0  38.0  61.0  1074.0  134.0  20.0   \n",
       "7         2020-02-24  14.0  54.0  162.0  41.0  74.0  1102.0  159.0  12.0   \n",
       "8         2020-03-03  17.0  69.0  168.0  43.0  89.0  1089.0  181.0   5.0   \n",
       "9         2020-03-10  15.0  64.0  165.0  36.0  77.0  1073.0   88.0   4.0   \n",
       "10        2020-03-17  13.0  40.0  154.0  20.0  69.0  1031.0  138.0   3.0   \n",
       "11        2020-03-24  11.0  37.0   77.0   5.0  48.0   687.0   88.0   NaN   \n",
       "12        2020-03-31  13.0  35.0   66.0  14.0  44.0   532.0   74.0   NaN   \n",
       "13        2020-04-07   6.0  26.0   48.0  12.0  37.0   386.0   38.0   NaN   \n",
       "14        2020-04-14   7.0  40.0   56.0  25.0  22.0   302.0   79.0   1.0   \n",
       "15        2020-04-21   8.0  40.0   48.0  19.0  29.0   273.0   69.0   NaN   \n",
       "\n",
       "schd_from    MRY  ...    SAN    SBA   SBP   SCK    SFO    SJC    SMF   SMX  \\\n",
       "0           44.0  ...  368.0   85.0  62.0  17.0  715.0  336.0  219.0  19.0   \n",
       "1           47.0  ...  372.0   97.0  67.0  27.0  728.0  299.0  221.0  19.0   \n",
       "2           41.0  ...  379.0   97.0  69.0  31.0  686.0  312.0  221.0  16.0   \n",
       "3           50.0  ...  391.0   83.0  58.0  29.0  707.0  325.0  223.0  17.0   \n",
       "4           66.0  ...  369.0   64.0  40.0  21.0  728.0  281.0  191.0  12.0   \n",
       "5          104.0  ...  388.0   85.0  51.0  31.0  720.0  314.0  209.0  12.0   \n",
       "6           84.0  ...  374.0   96.0  68.0  32.0  681.0  267.0  192.0  11.0   \n",
       "7           43.0  ...  373.0  100.0  66.0  37.0  751.0  310.0  201.0  19.0   \n",
       "8           61.0  ...  387.0   84.0  72.0  40.0  728.0  309.0  224.0  30.0   \n",
       "9           44.0  ...  360.0   77.0  33.0  37.0  711.0  282.0  214.0  11.0   \n",
       "10          35.0  ...  381.0   67.0  41.0  24.0  688.0  273.0  212.0  12.0   \n",
       "11          21.0  ...  238.0   42.0  32.0   5.0  373.0  169.0  155.0  11.0   \n",
       "12          21.0  ...  189.0   47.0  34.0   9.0  304.0  119.0   98.0  13.0   \n",
       "13          13.0  ...  135.0   27.0  23.0   6.0  190.0   75.0   95.0  18.0   \n",
       "14          28.0  ...  130.0   37.0  37.0   9.0  143.0   82.0   73.0  22.0   \n",
       "15          20.0  ...  107.0   28.0  27.0  11.0  136.0   63.0   75.0  17.0   \n",
       "\n",
       "schd_from    SNA   STS  \n",
       "0          234.0  46.0  \n",
       "1          250.0  41.0  \n",
       "2          251.0  41.0  \n",
       "3          266.0  33.0  \n",
       "4          258.0  36.0  \n",
       "5          233.0  43.0  \n",
       "6          313.0  57.0  \n",
       "7          289.0  49.0  \n",
       "8          248.0  50.0  \n",
       "9          206.0  48.0  \n",
       "10         244.0  40.0  \n",
       "11         111.0  21.0  \n",
       "12         116.0  17.0  \n",
       "13          52.0  22.0  \n",
       "14          95.0  37.0  \n",
       "15          80.0  24.0  \n",
       "\n",
       "[16 rows x 24 columns]"
      ]
     },
     "execution_count": 81,
     "metadata": {},
     "output_type": "execute_result"
    }
   ],
   "source": [
    "ours_pivot"
   ]
  },
  {
   "cell_type": "code",
   "execution_count": 82,
   "metadata": {},
   "outputs": [
    {
     "data": {
      "text/plain": [
       "'-74.58%'"
      ]
     },
     "execution_count": 82,
     "metadata": {},
     "output_type": "execute_result"
    }
   ],
   "source": [
    "# change LAX\n",
    "'{:,.2f}%'.format(((ours_pivot.iloc[15,6] - ours_pivot.iloc[6,6])/ours_pivot.iloc[6,6]*100))"
   ]
  },
  {
   "cell_type": "code",
   "execution_count": 83,
   "metadata": {},
   "outputs": [
    {
     "data": {
      "text/plain": [
       "'-56.85%'"
      ]
     },
     "execution_count": 83,
     "metadata": {},
     "output_type": "execute_result"
    }
   ],
   "source": [
    "# change OAK\n",
    "'{:,.2f}%'.format(((ours_pivot.iloc[15,10] - ours_pivot.iloc[6,10])/ours_pivot.iloc[6,10]*100))"
   ]
  },
  {
   "cell_type": "code",
   "execution_count": 84,
   "metadata": {},
   "outputs": [
    {
     "data": {
      "text/plain": [
       "'-71.39%'"
      ]
     },
     "execution_count": 84,
     "metadata": {},
     "output_type": "execute_result"
    }
   ],
   "source": [
    "# change SAN\n",
    "'{:,.2f}%'.format(((ours_pivot.iloc[15,14] - ours_pivot.iloc[6,14])/ours_pivot.iloc[6,14]*100))"
   ]
  },
  {
   "cell_type": "code",
   "execution_count": 85,
   "metadata": {},
   "outputs": [
    {
     "data": {
      "text/plain": [
       "'-74.44%'"
      ]
     },
     "execution_count": 85,
     "metadata": {},
     "output_type": "execute_result"
    }
   ],
   "source": [
    "# change SNA\n",
    "'{:,.2f}%'.format(((ours_pivot.iloc[15,22] - ours_pivot.iloc[6,22])/ours_pivot.iloc[6,22]*100))"
   ]
  },
  {
   "cell_type": "code",
   "execution_count": 86,
   "metadata": {},
   "outputs": [
    {
     "data": {
      "text/plain": [
       "'-50.00%'"
      ]
     },
     "execution_count": 86,
     "metadata": {},
     "output_type": "execute_result"
    }
   ],
   "source": [
    "# change BUR\n",
    "'{:,.2f}%'.format(((ours_pivot.iloc[15,4] - ours_pivot.iloc[6,4])/ours_pivot.iloc[6,4]*100))"
   ]
  },
  {
   "cell_type": "code",
   "execution_count": 87,
   "metadata": {},
   "outputs": [
    {
     "data": {
      "text/plain": [
       "'-80.03%'"
      ]
     },
     "execution_count": 87,
     "metadata": {},
     "output_type": "execute_result"
    }
   ],
   "source": [
    "# change SFO\n",
    "'{:,.2f}%'.format(((ours_pivot.iloc[15,18] - ours_pivot.iloc[6,18])/ours_pivot.iloc[6,18]*100))"
   ]
  },
  {
   "cell_type": "code",
   "execution_count": 88,
   "metadata": {},
   "outputs": [
    {
     "data": {
      "text/plain": [
       "'-76.40%'"
      ]
     },
     "execution_count": 88,
     "metadata": {},
     "output_type": "execute_result"
    }
   ],
   "source": [
    "# change SJC\n",
    "'{:,.2f}%'.format(((ours_pivot.iloc[15,19] - ours_pivot.iloc[6,19])/ours_pivot.iloc[6,19]*100))"
   ]
  },
  {
   "cell_type": "code",
   "execution_count": 89,
   "metadata": {},
   "outputs": [
    {
     "data": {
      "text/plain": [
       "'-60.94%'"
      ]
     },
     "execution_count": 89,
     "metadata": {},
     "output_type": "execute_result"
    }
   ],
   "source": [
    "# change SMF\n",
    "'{:,.2f}%'.format(((ours_pivot.iloc[15,20] - ours_pivot.iloc[6,20])/ours_pivot.iloc[6,20]*100))"
   ]
  },
  {
   "cell_type": "markdown",
   "metadata": {},
   "source": [
    "### Make the flight id a string merge later"
   ]
  },
  {
   "cell_type": "code",
   "execution_count": 90,
   "metadata": {},
   "outputs": [],
   "source": [
    "ours['flight_id'] = ours['flight_id'].astype(str)"
   ]
  },
  {
   "cell_type": "code",
   "execution_count": 91,
   "metadata": {},
   "outputs": [],
   "source": [
    "ours_slim = ours[['flight_id', 'reg', 'equip', 'flight', 'schd_from', 'real_to', 'name']]"
   ]
  },
  {
   "cell_type": "code",
   "execution_count": 92,
   "metadata": {},
   "outputs": [
    {
     "data": {
      "text/html": [
       "<div>\n",
       "<style scoped>\n",
       "    .dataframe tbody tr th:only-of-type {\n",
       "        vertical-align: middle;\n",
       "    }\n",
       "\n",
       "    .dataframe tbody tr th {\n",
       "        vertical-align: top;\n",
       "    }\n",
       "\n",
       "    .dataframe thead th {\n",
       "        text-align: right;\n",
       "    }\n",
       "</style>\n",
       "<table border=\"1\" class=\"dataframe\">\n",
       "  <thead>\n",
       "    <tr style=\"text-align: right;\">\n",
       "      <th></th>\n",
       "      <th>flight_id</th>\n",
       "      <th>reg</th>\n",
       "      <th>equip</th>\n",
       "      <th>flight</th>\n",
       "      <th>schd_from</th>\n",
       "      <th>real_to</th>\n",
       "      <th>name</th>\n",
       "    </tr>\n",
       "  </thead>\n",
       "  <tbody>\n",
       "    <tr>\n",
       "      <td>70</td>\n",
       "      <td>608290635</td>\n",
       "      <td>9VSGC</td>\n",
       "      <td>A359</td>\n",
       "      <td>SQ37</td>\n",
       "      <td>LAX</td>\n",
       "      <td>SIN</td>\n",
       "      <td>NaN</td>\n",
       "    </tr>\n",
       "    <tr>\n",
       "      <td>116</td>\n",
       "      <td>608308449</td>\n",
       "      <td>HL7639</td>\n",
       "      <td>B748</td>\n",
       "      <td>KE214</td>\n",
       "      <td>SFO</td>\n",
       "      <td>ICN</td>\n",
       "      <td>NaN</td>\n",
       "    </tr>\n",
       "    <tr>\n",
       "      <td>149</td>\n",
       "      <td>608304259</td>\n",
       "      <td>B18715</td>\n",
       "      <td>B744</td>\n",
       "      <td>CI5137</td>\n",
       "      <td>LAX</td>\n",
       "      <td>TPE</td>\n",
       "      <td>NaN</td>\n",
       "    </tr>\n",
       "    <tr>\n",
       "      <td>175</td>\n",
       "      <td>608305412</td>\n",
       "      <td>N26232</td>\n",
       "      <td>B738</td>\n",
       "      <td>UA292</td>\n",
       "      <td>SFO</td>\n",
       "      <td>MCO</td>\n",
       "      <td>UNITED AIRLINES</td>\n",
       "    </tr>\n",
       "    <tr>\n",
       "      <td>351</td>\n",
       "      <td>608319946</td>\n",
       "      <td>N121DU</td>\n",
       "      <td>BCS1</td>\n",
       "      <td>DL2703</td>\n",
       "      <td>SFO</td>\n",
       "      <td>SEA</td>\n",
       "      <td>DELTA AIR LINES</td>\n",
       "    </tr>\n",
       "  </tbody>\n",
       "</table>\n",
       "</div>"
      ],
      "text/plain": [
       "     flight_id     reg equip  flight schd_from real_to             name\n",
       "70   608290635   9VSGC  A359    SQ37       LAX     SIN              NaN\n",
       "116  608308449  HL7639  B748   KE214       SFO     ICN              NaN\n",
       "149  608304259  B18715  B744  CI5137       LAX     TPE              NaN\n",
       "175  608305412  N26232  B738   UA292       SFO     MCO  UNITED AIRLINES\n",
       "351  608319946  N121DU  BCS1  DL2703       SFO     SEA  DELTA AIR LINES"
      ]
     },
     "execution_count": 92,
     "metadata": {},
     "output_type": "execute_result"
    }
   ],
   "source": [
    "ours_slim.head()"
   ]
  },
  {
   "cell_type": "code",
   "execution_count": 93,
   "metadata": {},
   "outputs": [],
   "source": [
    "ours_slim.to_csv('output/ours.csv')"
   ]
  },
  {
   "cell_type": "markdown",
   "metadata": {},
   "source": [
    "---"
   ]
  },
  {
   "cell_type": "markdown",
   "metadata": {},
   "source": [
    "## Process 'positions' data showing each point along a flight"
   ]
  },
  {
   "cell_type": "markdown",
   "metadata": {},
   "source": [
    "### Set path for our targeted positions directory and define the files we'll concatenate"
   ]
  },
  {
   "cell_type": "code",
   "execution_count": 94,
   "metadata": {},
   "outputs": [],
   "source": [
    "path = '/Users/mhustiles/data/data/flights/coronavirus/positions/'\n",
    "files = glob.glob(os.path.join(path, \"*/*.csv\"), recursive=True)"
   ]
  },
  {
   "cell_type": "code",
   "execution_count": 95,
   "metadata": {},
   "outputs": [],
   "source": [
    "file_df = (pd.read_csv(f, encoding = \"ISO-8859-1\", low_memory=False)\\\n",
    "           .assign(flightid=os.path.basename(f)) for f in files)"
   ]
  },
  {
   "cell_type": "markdown",
   "metadata": {},
   "source": [
    "### Concateate the frames"
   ]
  },
  {
   "cell_type": "code",
   "execution_count": 96,
   "metadata": {},
   "outputs": [],
   "source": [
    "positions_df = pd.concat(file_df, ignore_index=True)"
   ]
  },
  {
   "cell_type": "code",
   "execution_count": 97,
   "metadata": {},
   "outputs": [
    {
     "data": {
      "text/html": [
       "<div>\n",
       "<style scoped>\n",
       "    .dataframe tbody tr th:only-of-type {\n",
       "        vertical-align: middle;\n",
       "    }\n",
       "\n",
       "    .dataframe tbody tr th {\n",
       "        vertical-align: top;\n",
       "    }\n",
       "\n",
       "    .dataframe thead th {\n",
       "        text-align: right;\n",
       "    }\n",
       "</style>\n",
       "<table border=\"1\" class=\"dataframe\">\n",
       "  <thead>\n",
       "    <tr style=\"text-align: right;\">\n",
       "      <th></th>\n",
       "      <th>snapshot_id</th>\n",
       "      <th>altitude</th>\n",
       "      <th>heading</th>\n",
       "      <th>latitude</th>\n",
       "      <th>longitude</th>\n",
       "      <th>radar_id</th>\n",
       "      <th>speed</th>\n",
       "      <th>squawk</th>\n",
       "      <th>flightid</th>\n",
       "    </tr>\n",
       "  </thead>\n",
       "  <tbody>\n",
       "    <tr>\n",
       "      <td>0</td>\n",
       "      <td>1583256938</td>\n",
       "      <td>0</td>\n",
       "      <td>180</td>\n",
       "      <td>21.32861</td>\n",
       "      <td>-157.93341</td>\n",
       "      <td>41354</td>\n",
       "      <td>0</td>\n",
       "      <td>0</td>\n",
       "      <td>20200303_605032731.csv</td>\n",
       "    </tr>\n",
       "    <tr>\n",
       "      <td>1</td>\n",
       "      <td>1583226324</td>\n",
       "      <td>0</td>\n",
       "      <td>343</td>\n",
       "      <td>55.62553</td>\n",
       "      <td>12.64766</td>\n",
       "      <td>22090</td>\n",
       "      <td>10</td>\n",
       "      <td>0</td>\n",
       "      <td>20200303_604960246.csv</td>\n",
       "    </tr>\n",
       "  </tbody>\n",
       "</table>\n",
       "</div>"
      ],
      "text/plain": [
       "   snapshot_id  altitude  heading  latitude  longitude  radar_id  speed  \\\n",
       "0   1583256938         0      180  21.32861 -157.93341     41354      0   \n",
       "1   1583226324         0      343  55.62553   12.64766     22090     10   \n",
       "\n",
       "   squawk                flightid  \n",
       "0       0  20200303_605032731.csv  \n",
       "1       0  20200303_604960246.csv  "
      ]
     },
     "execution_count": 97,
     "metadata": {},
     "output_type": "execute_result"
    }
   ],
   "source": [
    "positions_df.head(2)"
   ]
  },
  {
   "cell_type": "code",
   "execution_count": 98,
   "metadata": {},
   "outputs": [
    {
     "data": {
      "text/plain": [
       "48196023"
      ]
     },
     "execution_count": 98,
     "metadata": {},
     "output_type": "execute_result"
    }
   ],
   "source": [
    "len(positions_df)"
   ]
  },
  {
   "cell_type": "markdown",
   "metadata": {},
   "source": [
    "### Combined our newly processed flight positions"
   ]
  },
  {
   "cell_type": "code",
   "execution_count": 99,
   "metadata": {},
   "outputs": [],
   "source": [
    "positions_df['flightid'] = positions_df['flightid'].str.replace('.csv','')"
   ]
  },
  {
   "cell_type": "markdown",
   "metadata": {},
   "source": [
    "### Split the flightid field so we have a date string to convert later and also a flightid"
   ]
  },
  {
   "cell_type": "code",
   "execution_count": 100,
   "metadata": {},
   "outputs": [],
   "source": [
    "positions_df[['datestr','flight_id']] = positions_df.flightid.str.split(\"_\",expand=True,)"
   ]
  },
  {
   "cell_type": "code",
   "execution_count": 101,
   "metadata": {},
   "outputs": [
    {
     "data": {
      "text/plain": [
       "48196023"
      ]
     },
     "execution_count": 101,
     "metadata": {},
     "output_type": "execute_result"
    }
   ],
   "source": [
    "len(positions_df)"
   ]
  },
  {
   "cell_type": "code",
   "execution_count": 102,
   "metadata": {},
   "outputs": [
    {
     "data": {
      "text/html": [
       "<div>\n",
       "<style scoped>\n",
       "    .dataframe tbody tr th:only-of-type {\n",
       "        vertical-align: middle;\n",
       "    }\n",
       "\n",
       "    .dataframe tbody tr th {\n",
       "        vertical-align: top;\n",
       "    }\n",
       "\n",
       "    .dataframe thead th {\n",
       "        text-align: right;\n",
       "    }\n",
       "</style>\n",
       "<table border=\"1\" class=\"dataframe\">\n",
       "  <thead>\n",
       "    <tr style=\"text-align: right;\">\n",
       "      <th></th>\n",
       "      <th>snapshot_id</th>\n",
       "      <th>altitude</th>\n",
       "      <th>heading</th>\n",
       "      <th>latitude</th>\n",
       "      <th>longitude</th>\n",
       "      <th>radar_id</th>\n",
       "      <th>speed</th>\n",
       "      <th>squawk</th>\n",
       "      <th>flightid</th>\n",
       "      <th>datestr</th>\n",
       "      <th>flight_id</th>\n",
       "    </tr>\n",
       "  </thead>\n",
       "  <tbody>\n",
       "    <tr>\n",
       "      <td>0</td>\n",
       "      <td>1583256938</td>\n",
       "      <td>0</td>\n",
       "      <td>180</td>\n",
       "      <td>21.32861</td>\n",
       "      <td>-157.93341</td>\n",
       "      <td>41354</td>\n",
       "      <td>0</td>\n",
       "      <td>0</td>\n",
       "      <td>20200303_605032731</td>\n",
       "      <td>20200303</td>\n",
       "      <td>605032731</td>\n",
       "    </tr>\n",
       "    <tr>\n",
       "      <td>1</td>\n",
       "      <td>1583226324</td>\n",
       "      <td>0</td>\n",
       "      <td>343</td>\n",
       "      <td>55.62553</td>\n",
       "      <td>12.64766</td>\n",
       "      <td>22090</td>\n",
       "      <td>10</td>\n",
       "      <td>0</td>\n",
       "      <td>20200303_604960246</td>\n",
       "      <td>20200303</td>\n",
       "      <td>604960246</td>\n",
       "    </tr>\n",
       "  </tbody>\n",
       "</table>\n",
       "</div>"
      ],
      "text/plain": [
       "   snapshot_id  altitude  heading  latitude  longitude  radar_id  speed  \\\n",
       "0   1583256938         0      180  21.32861 -157.93341     41354      0   \n",
       "1   1583226324         0      343  55.62553   12.64766     22090     10   \n",
       "\n",
       "   squawk            flightid   datestr  flight_id  \n",
       "0       0  20200303_605032731  20200303  605032731  \n",
       "1       0  20200303_604960246  20200303  604960246  "
      ]
     },
     "execution_count": 102,
     "metadata": {},
     "output_type": "execute_result"
    }
   ],
   "source": [
    "positions_df.head(2)"
   ]
  },
  {
   "cell_type": "markdown",
   "metadata": {},
   "source": [
    "### Merge and filter positions data to flights departing just our four airports"
   ]
  },
  {
   "cell_type": "code",
   "execution_count": 103,
   "metadata": {},
   "outputs": [],
   "source": [
    "our_positions = ours_slim.merge(positions_df, on='flight_id', how='inner')"
   ]
  },
  {
   "cell_type": "code",
   "execution_count": 104,
   "metadata": {},
   "outputs": [
    {
     "data": {
      "text/plain": [
       "1582936"
      ]
     },
     "execution_count": 104,
     "metadata": {},
     "output_type": "execute_result"
    }
   ],
   "source": [
    "len(our_positions)"
   ]
  },
  {
   "cell_type": "markdown",
   "metadata": {},
   "source": [
    "---"
   ]
  },
  {
   "cell_type": "markdown",
   "metadata": {},
   "source": [
    "### Process the 'datestr' field into something we can use"
   ]
  },
  {
   "cell_type": "code",
   "execution_count": 105,
   "metadata": {},
   "outputs": [
    {
     "data": {
      "text/html": [
       "<div>\n",
       "<style scoped>\n",
       "    .dataframe tbody tr th:only-of-type {\n",
       "        vertical-align: middle;\n",
       "    }\n",
       "\n",
       "    .dataframe tbody tr th {\n",
       "        vertical-align: top;\n",
       "    }\n",
       "\n",
       "    .dataframe thead th {\n",
       "        text-align: right;\n",
       "    }\n",
       "</style>\n",
       "<table border=\"1\" class=\"dataframe\">\n",
       "  <thead>\n",
       "    <tr style=\"text-align: right;\">\n",
       "      <th></th>\n",
       "      <th>flight_id</th>\n",
       "      <th>reg</th>\n",
       "      <th>equip</th>\n",
       "      <th>flight</th>\n",
       "      <th>schd_from</th>\n",
       "      <th>real_to</th>\n",
       "      <th>name</th>\n",
       "      <th>snapshot_id</th>\n",
       "      <th>altitude</th>\n",
       "      <th>heading</th>\n",
       "      <th>latitude</th>\n",
       "      <th>longitude</th>\n",
       "      <th>radar_id</th>\n",
       "      <th>speed</th>\n",
       "      <th>squawk</th>\n",
       "      <th>flightid</th>\n",
       "      <th>datestr</th>\n",
       "    </tr>\n",
       "  </thead>\n",
       "  <tbody>\n",
       "    <tr>\n",
       "      <td>0</td>\n",
       "      <td>610380206</td>\n",
       "      <td>N987JT</td>\n",
       "      <td>A321</td>\n",
       "      <td>B61424</td>\n",
       "      <td>LAX</td>\n",
       "      <td>JFK</td>\n",
       "      <td>JETBLUE AIRWAYS</td>\n",
       "      <td>1587436418</td>\n",
       "      <td>0</td>\n",
       "      <td>240</td>\n",
       "      <td>40.64724</td>\n",
       "      <td>-73.77686</td>\n",
       "      <td>1502</td>\n",
       "      <td>0</td>\n",
       "      <td>2000</td>\n",
       "      <td>20200421_610380206</td>\n",
       "      <td>20200421</td>\n",
       "    </tr>\n",
       "    <tr>\n",
       "      <td>1</td>\n",
       "      <td>610380206</td>\n",
       "      <td>N987JT</td>\n",
       "      <td>A321</td>\n",
       "      <td>B61424</td>\n",
       "      <td>LAX</td>\n",
       "      <td>JFK</td>\n",
       "      <td>JETBLUE AIRWAYS</td>\n",
       "      <td>1587436424</td>\n",
       "      <td>0</td>\n",
       "      <td>59</td>\n",
       "      <td>40.64735</td>\n",
       "      <td>-73.77660</td>\n",
       "      <td>1502</td>\n",
       "      <td>0</td>\n",
       "      <td>2000</td>\n",
       "      <td>20200421_610380206</td>\n",
       "      <td>20200421</td>\n",
       "    </tr>\n",
       "  </tbody>\n",
       "</table>\n",
       "</div>"
      ],
      "text/plain": [
       "   flight_id     reg equip  flight schd_from real_to             name  \\\n",
       "0  610380206  N987JT  A321  B61424       LAX     JFK  JETBLUE AIRWAYS   \n",
       "1  610380206  N987JT  A321  B61424       LAX     JFK  JETBLUE AIRWAYS   \n",
       "\n",
       "   snapshot_id  altitude  heading  latitude  longitude  radar_id  speed  \\\n",
       "0   1587436418         0      240  40.64724  -73.77686      1502      0   \n",
       "1   1587436424         0       59  40.64735  -73.77660      1502      0   \n",
       "\n",
       "   squawk            flightid   datestr  \n",
       "0    2000  20200421_610380206  20200421  \n",
       "1    2000  20200421_610380206  20200421  "
      ]
     },
     "execution_count": 105,
     "metadata": {},
     "output_type": "execute_result"
    }
   ],
   "source": [
    "our_positions.head(2)"
   ]
  },
  {
   "cell_type": "code",
   "execution_count": 106,
   "metadata": {},
   "outputs": [],
   "source": [
    "our_positions['date'] = pd.to_datetime(our_positions.datestr, format='%Y%m%d')"
   ]
  },
  {
   "cell_type": "markdown",
   "metadata": {},
   "source": [
    "### Convert the unix timestampt to human datetime and localize"
   ]
  },
  {
   "cell_type": "code",
   "execution_count": 107,
   "metadata": {},
   "outputs": [],
   "source": [
    "our_positions['date_time'] = pd.to_datetime(our_positions['snapshot_id'],unit='s')\n",
    "our_positions['utc_datetime'] = \\\n",
    "    pd.to_datetime(our_positions['date_time'], format='%Y-%m-%dT%H:%M:%SZ').dt.tz_localize('UTC')"
   ]
  },
  {
   "cell_type": "code",
   "execution_count": 108,
   "metadata": {},
   "outputs": [],
   "source": [
    "our_positions['datetime_pst'] = our_positions['utc_datetime'].dt.tz_convert('America/Los_Angeles')"
   ]
  },
  {
   "cell_type": "code",
   "execution_count": 109,
   "metadata": {},
   "outputs": [],
   "source": [
    "our_positions['date'] = pd.to_datetime(our_positions['datetime_pst']).dt.strftime('%m/%d/%Y')\n",
    "our_positions['time'] = pd.to_datetime(our_positions['datetime_pst']).dt.strftime('%H:%M:%S')"
   ]
  },
  {
   "cell_type": "code",
   "execution_count": 110,
   "metadata": {},
   "outputs": [],
   "source": [
    "positions = pd.DataFrame(our_positions)"
   ]
  },
  {
   "cell_type": "code",
   "execution_count": 111,
   "metadata": {},
   "outputs": [
    {
     "data": {
      "text/html": [
       "<div>\n",
       "<style scoped>\n",
       "    .dataframe tbody tr th:only-of-type {\n",
       "        vertical-align: middle;\n",
       "    }\n",
       "\n",
       "    .dataframe tbody tr th {\n",
       "        vertical-align: top;\n",
       "    }\n",
       "\n",
       "    .dataframe thead th {\n",
       "        text-align: right;\n",
       "    }\n",
       "</style>\n",
       "<table border=\"1\" class=\"dataframe\">\n",
       "  <thead>\n",
       "    <tr style=\"text-align: right;\">\n",
       "      <th></th>\n",
       "      <th>flight_id</th>\n",
       "      <th>reg</th>\n",
       "      <th>equip</th>\n",
       "      <th>flight</th>\n",
       "      <th>schd_from</th>\n",
       "      <th>real_to</th>\n",
       "      <th>name</th>\n",
       "      <th>snapshot_id</th>\n",
       "      <th>altitude</th>\n",
       "      <th>heading</th>\n",
       "      <th>...</th>\n",
       "      <th>radar_id</th>\n",
       "      <th>speed</th>\n",
       "      <th>squawk</th>\n",
       "      <th>flightid</th>\n",
       "      <th>datestr</th>\n",
       "      <th>date</th>\n",
       "      <th>date_time</th>\n",
       "      <th>utc_datetime</th>\n",
       "      <th>datetime_pst</th>\n",
       "      <th>time</th>\n",
       "    </tr>\n",
       "  </thead>\n",
       "  <tbody>\n",
       "    <tr>\n",
       "      <td>335987</td>\n",
       "      <td>610507026</td>\n",
       "      <td>N275MC</td>\n",
       "      <td>XL2</td>\n",
       "      <td>NaN</td>\n",
       "      <td>SNA</td>\n",
       "      <td>CNO</td>\n",
       "      <td>GAARENSTROOM PAUL WARREN</td>\n",
       "      <td>1587504090</td>\n",
       "      <td>1800</td>\n",
       "      <td>33</td>\n",
       "      <td>...</td>\n",
       "      <td>566</td>\n",
       "      <td>110</td>\n",
       "      <td>226</td>\n",
       "      <td>20200421_610507026</td>\n",
       "      <td>20200421</td>\n",
       "      <td>04/21/2020</td>\n",
       "      <td>2020-04-21 21:21:30</td>\n",
       "      <td>2020-04-21 21:21:30+00:00</td>\n",
       "      <td>2020-04-21 14:21:30-07:00</td>\n",
       "      <td>14:21:30</td>\n",
       "    </tr>\n",
       "    <tr>\n",
       "      <td>193199</td>\n",
       "      <td>610483503</td>\n",
       "      <td>N7854B</td>\n",
       "      <td>B737</td>\n",
       "      <td>WN262</td>\n",
       "      <td>SFO</td>\n",
       "      <td>LAS</td>\n",
       "      <td>NaN</td>\n",
       "      <td>1587484251</td>\n",
       "      <td>4850</td>\n",
       "      <td>298</td>\n",
       "      <td>...</td>\n",
       "      <td>2590</td>\n",
       "      <td>232</td>\n",
       "      <td>3301</td>\n",
       "      <td>20200421_610483503</td>\n",
       "      <td>20200421</td>\n",
       "      <td>04/21/2020</td>\n",
       "      <td>2020-04-21 15:50:51</td>\n",
       "      <td>2020-04-21 15:50:51+00:00</td>\n",
       "      <td>2020-04-21 08:50:51-07:00</td>\n",
       "      <td>08:50:51</td>\n",
       "    </tr>\n",
       "  </tbody>\n",
       "</table>\n",
       "<p>2 rows × 22 columns</p>\n",
       "</div>"
      ],
      "text/plain": [
       "        flight_id     reg equip flight schd_from real_to  \\\n",
       "335987  610507026  N275MC   XL2    NaN       SNA     CNO   \n",
       "193199  610483503  N7854B  B737  WN262       SFO     LAS   \n",
       "\n",
       "                            name  snapshot_id  altitude  heading  ...  \\\n",
       "335987  GAARENSTROOM PAUL WARREN   1587504090      1800       33  ...   \n",
       "193199                       NaN   1587484251      4850      298  ...   \n",
       "\n",
       "        radar_id  speed  squawk            flightid   datestr        date  \\\n",
       "335987       566    110     226  20200421_610507026  20200421  04/21/2020   \n",
       "193199      2590    232    3301  20200421_610483503  20200421  04/21/2020   \n",
       "\n",
       "                 date_time              utc_datetime  \\\n",
       "335987 2020-04-21 21:21:30 2020-04-21 21:21:30+00:00   \n",
       "193199 2020-04-21 15:50:51 2020-04-21 15:50:51+00:00   \n",
       "\n",
       "                    datetime_pst      time  \n",
       "335987 2020-04-21 14:21:30-07:00  14:21:30  \n",
       "193199 2020-04-21 08:50:51-07:00  08:50:51  \n",
       "\n",
       "[2 rows x 22 columns]"
      ]
     },
     "execution_count": 111,
     "metadata": {},
     "output_type": "execute_result"
    }
   ],
   "source": [
    "positions.sort_values(by='date', ascending=False).head(2)"
   ]
  },
  {
   "cell_type": "code",
   "execution_count": 112,
   "metadata": {},
   "outputs": [],
   "source": [
    "positions['before'] = (positions['date'] == '03/02/2020')|(positions['date'] == '03/03/2020')\n",
    "positions['after'] = (positions['date'] == '04/06/2020')|(positions['date'] == '04/21/2020')"
   ]
  },
  {
   "cell_type": "code",
   "execution_count": 113,
   "metadata": {},
   "outputs": [
    {
     "data": {
      "text/html": [
       "<div>\n",
       "<style scoped>\n",
       "    .dataframe tbody tr th:only-of-type {\n",
       "        vertical-align: middle;\n",
       "    }\n",
       "\n",
       "    .dataframe tbody tr th {\n",
       "        vertical-align: top;\n",
       "    }\n",
       "\n",
       "    .dataframe thead th {\n",
       "        text-align: right;\n",
       "    }\n",
       "</style>\n",
       "<table border=\"1\" class=\"dataframe\">\n",
       "  <thead>\n",
       "    <tr style=\"text-align: right;\">\n",
       "      <th></th>\n",
       "      <th>flight_id</th>\n",
       "      <th>reg</th>\n",
       "      <th>equip</th>\n",
       "      <th>flight</th>\n",
       "      <th>schd_from</th>\n",
       "      <th>real_to</th>\n",
       "      <th>name</th>\n",
       "      <th>snapshot_id</th>\n",
       "      <th>altitude</th>\n",
       "      <th>heading</th>\n",
       "      <th>...</th>\n",
       "      <th>squawk</th>\n",
       "      <th>flightid</th>\n",
       "      <th>datestr</th>\n",
       "      <th>date</th>\n",
       "      <th>date_time</th>\n",
       "      <th>utc_datetime</th>\n",
       "      <th>datetime_pst</th>\n",
       "      <th>time</th>\n",
       "      <th>before</th>\n",
       "      <th>after</th>\n",
       "    </tr>\n",
       "  </thead>\n",
       "  <tbody>\n",
       "    <tr>\n",
       "      <td>1582931</td>\n",
       "      <td>605090465</td>\n",
       "      <td>N416UA</td>\n",
       "      <td>A320</td>\n",
       "      <td>UA2178</td>\n",
       "      <td>SMF</td>\n",
       "      <td>DEN</td>\n",
       "      <td>UNITED AIRLINES</td>\n",
       "      <td>1583279983</td>\n",
       "      <td>0</td>\n",
       "      <td>267</td>\n",
       "      <td>...</td>\n",
       "      <td>1736</td>\n",
       "      <td>20200303_605090465</td>\n",
       "      <td>20200303</td>\n",
       "      <td>03/03/2020</td>\n",
       "      <td>2020-03-03 23:59:43</td>\n",
       "      <td>2020-03-03 23:59:43+00:00</td>\n",
       "      <td>2020-03-03 15:59:43-08:00</td>\n",
       "      <td>15:59:43</td>\n",
       "      <td>True</td>\n",
       "      <td>False</td>\n",
       "    </tr>\n",
       "    <tr>\n",
       "      <td>1582932</td>\n",
       "      <td>605090465</td>\n",
       "      <td>N416UA</td>\n",
       "      <td>A320</td>\n",
       "      <td>UA2178</td>\n",
       "      <td>SMF</td>\n",
       "      <td>DEN</td>\n",
       "      <td>UNITED AIRLINES</td>\n",
       "      <td>1583279998</td>\n",
       "      <td>0</td>\n",
       "      <td>309</td>\n",
       "      <td>...</td>\n",
       "      <td>1736</td>\n",
       "      <td>20200303_605090465</td>\n",
       "      <td>20200303</td>\n",
       "      <td>03/03/2020</td>\n",
       "      <td>2020-03-03 23:59:58</td>\n",
       "      <td>2020-03-03 23:59:58+00:00</td>\n",
       "      <td>2020-03-03 15:59:58-08:00</td>\n",
       "      <td>15:59:58</td>\n",
       "      <td>True</td>\n",
       "      <td>False</td>\n",
       "    </tr>\n",
       "    <tr>\n",
       "      <td>1582933</td>\n",
       "      <td>605090557</td>\n",
       "      <td>N981AN</td>\n",
       "      <td>B738</td>\n",
       "      <td>AA542</td>\n",
       "      <td>SMF</td>\n",
       "      <td>PHX</td>\n",
       "      <td>AMERICAN AIRLINES</td>\n",
       "      <td>1583279984</td>\n",
       "      <td>0</td>\n",
       "      <td>222</td>\n",
       "      <td>...</td>\n",
       "      <td>0</td>\n",
       "      <td>20200303_605090557</td>\n",
       "      <td>20200303</td>\n",
       "      <td>03/03/2020</td>\n",
       "      <td>2020-03-03 23:59:44</td>\n",
       "      <td>2020-03-03 23:59:44+00:00</td>\n",
       "      <td>2020-03-03 15:59:44-08:00</td>\n",
       "      <td>15:59:44</td>\n",
       "      <td>True</td>\n",
       "      <td>False</td>\n",
       "    </tr>\n",
       "    <tr>\n",
       "      <td>1582934</td>\n",
       "      <td>605090619</td>\n",
       "      <td>N205NN</td>\n",
       "      <td>E75L</td>\n",
       "      <td>AA6031</td>\n",
       "      <td>SJC</td>\n",
       "      <td>LAX</td>\n",
       "      <td>AMERICAN AIRLINES</td>\n",
       "      <td>1583279999</td>\n",
       "      <td>0</td>\n",
       "      <td>300</td>\n",
       "      <td>...</td>\n",
       "      <td>0</td>\n",
       "      <td>20200303_605090619</td>\n",
       "      <td>20200303</td>\n",
       "      <td>03/03/2020</td>\n",
       "      <td>2020-03-03 23:59:59</td>\n",
       "      <td>2020-03-03 23:59:59+00:00</td>\n",
       "      <td>2020-03-03 15:59:59-08:00</td>\n",
       "      <td>15:59:59</td>\n",
       "      <td>True</td>\n",
       "      <td>False</td>\n",
       "    </tr>\n",
       "    <tr>\n",
       "      <td>1582935</td>\n",
       "      <td>605090578</td>\n",
       "      <td>N950X</td>\n",
       "      <td>FA7X</td>\n",
       "      <td>N950X</td>\n",
       "      <td>SFO</td>\n",
       "      <td>TEB</td>\n",
       "      <td>NaN</td>\n",
       "      <td>1583279982</td>\n",
       "      <td>0</td>\n",
       "      <td>298</td>\n",
       "      <td>...</td>\n",
       "      <td>0</td>\n",
       "      <td>20200303_605090578</td>\n",
       "      <td>20200303</td>\n",
       "      <td>03/03/2020</td>\n",
       "      <td>2020-03-03 23:59:42</td>\n",
       "      <td>2020-03-03 23:59:42+00:00</td>\n",
       "      <td>2020-03-03 15:59:42-08:00</td>\n",
       "      <td>15:59:42</td>\n",
       "      <td>True</td>\n",
       "      <td>False</td>\n",
       "    </tr>\n",
       "  </tbody>\n",
       "</table>\n",
       "<p>5 rows × 24 columns</p>\n",
       "</div>"
      ],
      "text/plain": [
       "         flight_id     reg equip  flight schd_from real_to               name  \\\n",
       "1582931  605090465  N416UA  A320  UA2178       SMF     DEN    UNITED AIRLINES   \n",
       "1582932  605090465  N416UA  A320  UA2178       SMF     DEN    UNITED AIRLINES   \n",
       "1582933  605090557  N981AN  B738   AA542       SMF     PHX  AMERICAN AIRLINES   \n",
       "1582934  605090619  N205NN  E75L  AA6031       SJC     LAX  AMERICAN AIRLINES   \n",
       "1582935  605090578   N950X  FA7X   N950X       SFO     TEB                NaN   \n",
       "\n",
       "         snapshot_id  altitude  heading  ...  squawk            flightid  \\\n",
       "1582931   1583279983         0      267  ...    1736  20200303_605090465   \n",
       "1582932   1583279998         0      309  ...    1736  20200303_605090465   \n",
       "1582933   1583279984         0      222  ...       0  20200303_605090557   \n",
       "1582934   1583279999         0      300  ...       0  20200303_605090619   \n",
       "1582935   1583279982         0      298  ...       0  20200303_605090578   \n",
       "\n",
       "          datestr        date           date_time              utc_datetime  \\\n",
       "1582931  20200303  03/03/2020 2020-03-03 23:59:43 2020-03-03 23:59:43+00:00   \n",
       "1582932  20200303  03/03/2020 2020-03-03 23:59:58 2020-03-03 23:59:58+00:00   \n",
       "1582933  20200303  03/03/2020 2020-03-03 23:59:44 2020-03-03 23:59:44+00:00   \n",
       "1582934  20200303  03/03/2020 2020-03-03 23:59:59 2020-03-03 23:59:59+00:00   \n",
       "1582935  20200303  03/03/2020 2020-03-03 23:59:42 2020-03-03 23:59:42+00:00   \n",
       "\n",
       "                     datetime_pst      time before  after  \n",
       "1582931 2020-03-03 15:59:43-08:00  15:59:43   True  False  \n",
       "1582932 2020-03-03 15:59:58-08:00  15:59:58   True  False  \n",
       "1582933 2020-03-03 15:59:44-08:00  15:59:44   True  False  \n",
       "1582934 2020-03-03 15:59:59-08:00  15:59:59   True  False  \n",
       "1582935 2020-03-03 15:59:42-08:00  15:59:42   True  False  \n",
       "\n",
       "[5 rows x 24 columns]"
      ]
     },
     "execution_count": 113,
     "metadata": {},
     "output_type": "execute_result"
    }
   ],
   "source": [
    "positions.tail()"
   ]
  },
  {
   "cell_type": "markdown",
   "metadata": {},
   "source": [
    "---"
   ]
  },
  {
   "cell_type": "markdown",
   "metadata": {},
   "source": [
    "## Geography"
   ]
  },
  {
   "cell_type": "markdown",
   "metadata": {},
   "source": [
    "### Convert to positions to a GeoDataFrame using lon/lat for each point in the flight"
   ]
  },
  {
   "cell_type": "code",
   "execution_count": 114,
   "metadata": {},
   "outputs": [
    {
     "data": {
      "text/plain": [
       "flight_id                       610409978\n",
       "reg                                N908AA\n",
       "equip                                A321\n",
       "flight                             AA2279\n",
       "schd_from                             LAX\n",
       "real_to                               MCO\n",
       "name                                  NaN\n",
       "snapshot_id                    1587435842\n",
       "altitude                             9550\n",
       "heading                                33\n",
       "latitude                          28.3248\n",
       "longitude                        -81.6367\n",
       "radar_id                             3546\n",
       "speed                                 314\n",
       "squawk                               7335\n",
       "flightid               20200421_610409978\n",
       "datestr                          20200421\n",
       "date                           04/20/2020\n",
       "date_time             2020-04-21 02:24:02\n",
       "utc_datetime    2020-04-21 02:24:02+00:00\n",
       "datetime_pst    2020-04-20 19:24:02-07:00\n",
       "time                             19:24:02\n",
       "before                              False\n",
       "after                               False\n",
       "Name: 1000, dtype: object"
      ]
     },
     "execution_count": 114,
     "metadata": {},
     "output_type": "execute_result"
    }
   ],
   "source": [
    "positions.loc[1000]"
   ]
  },
  {
   "cell_type": "code",
   "execution_count": 115,
   "metadata": {},
   "outputs": [],
   "source": [
    "positions_geo_all = gpd.GeoDataFrame(\n",
    "    positions, geometry=gpd.points_from_xy(positions.longitude, positions.latitude))"
   ]
  },
  {
   "cell_type": "code",
   "execution_count": 116,
   "metadata": {},
   "outputs": [],
   "source": [
    "positions_geo_all_grouped = positions_geo_all.groupby('flight_id')['geometry'].size().reset_index()"
   ]
  },
  {
   "cell_type": "code",
   "execution_count": 117,
   "metadata": {},
   "outputs": [],
   "source": [
    "postitions_geo_filtered = positions_geo_all_grouped[positions_geo_all_grouped['geometry'] > 20]"
   ]
  },
  {
   "cell_type": "code",
   "execution_count": 118,
   "metadata": {},
   "outputs": [],
   "source": [
    "postitions_geo_slim = gpd.GeoDataFrame(positions_geo_all.merge(postitions_geo_filtered,\\\n",
    "                                                               on='flight_id', how='inner'))"
   ]
  },
  {
   "cell_type": "code",
   "execution_count": 119,
   "metadata": {},
   "outputs": [],
   "source": [
    "postitions_geo_slim.rename(columns={\"geometry_x\": \"geometry\", \"geometry_y\": \"pointcnt\"}, inplace=True)"
   ]
  },
  {
   "cell_type": "code",
   "execution_count": 120,
   "metadata": {},
   "outputs": [],
   "source": [
    "postitions_geo_slim = postitions_geo_slim.drop(['snapshot_id','latitude', \\\n",
    "                                    'longitude', 'datestr', \\\n",
    "                                   'utc_datetime','squawk',\\\n",
    "                                    'radar_id','heading'], axis=1)"
   ]
  },
  {
   "cell_type": "code",
   "execution_count": 121,
   "metadata": {},
   "outputs": [
    {
     "data": {
      "text/plain": [
       "03/03/2020    791929\n",
       "03/02/2020    421715\n",
       "04/21/2020    289635\n",
       "04/20/2020     78414\n",
       "Name: date, dtype: int64"
      ]
     },
     "execution_count": 121,
     "metadata": {},
     "output_type": "execute_result"
    }
   ],
   "source": [
    "postitions_geo_slim.date.value_counts()"
   ]
  },
  {
   "cell_type": "code",
   "execution_count": 122,
   "metadata": {},
   "outputs": [],
   "source": [
    "postitions_geo_slim.to_file('/Users/mhustiles/data/data/flights/\\\n",
    "coronavirus/postitions_geo_slim.geojson', driver='GeoJSON')"
   ]
  },
  {
   "cell_type": "markdown",
   "metadata": {},
   "source": [
    "### Clip the flight data to around continental United States"
   ]
  },
  {
   "cell_type": "code",
   "execution_count": 123,
   "metadata": {},
   "outputs": [
    {
     "name": "stdout",
     "output_type": "stream",
     "text": [
      "Warning 1: The output driver does not natively support DateTime type for field date_time. Misconversion can happen. -mapFieldType can be used to control field type conversion.\r\n",
      "Warning 1: The output driver does not natively support DateTime type for field datetime_pst. Misconversion can happen. -mapFieldType can be used to control field type conversion.\r\n",
      "Warning 1: The output driver does not natively support Time type for field time. Misconversion can happen. -mapFieldType can be used to control field type conversion.\r\n"
     ]
    }
   ],
   "source": [
    "!ogr2ogr -f \"GeoJSON\" '/Users/mhustiles/data/data/flights/coronavirus/positions_geo_clipped.geojson' \\\n",
    "'/Users/mhustiles/data/data/flights/coronavirus/postitions_geo_slim.geojson' \\\n",
    "-clipsrc -136.5 6.4 -62.9 55.7"
   ]
  },
  {
   "cell_type": "code",
   "execution_count": 124,
   "metadata": {},
   "outputs": [],
   "source": [
    "positions_geo_clipped = gpd.read_file('/Users/mhustiles/data/data/flights/\\\n",
    "coronavirus/positions_geo_clipped.geojson')"
   ]
  },
  {
   "cell_type": "markdown",
   "metadata": {},
   "source": [
    "### Before (Feb. 17) points"
   ]
  },
  {
   "cell_type": "code",
   "execution_count": 125,
   "metadata": {},
   "outputs": [],
   "source": [
    "positions_geo_before = gpd.GeoDataFrame(positions_geo_clipped[positions_geo_clipped['before'] == True])"
   ]
  },
  {
   "cell_type": "code",
   "execution_count": 126,
   "metadata": {},
   "outputs": [
    {
     "data": {
      "text/plain": [
       "<matplotlib.axes._subplots.AxesSubplot at 0x6b4ad62d0>"
      ]
     },
     "execution_count": 126,
     "metadata": {},
     "output_type": "execute_result"
    },
    {
     "data": {
      "image/png": "[encoded data removed]",
      "text/plain": [
       "<Figure size 432x288 with 1 Axes>"
      ]
     },
     "metadata": {
      "needs_background": "light"
     },
     "output_type": "display_data"
    }
   ],
   "source": [
    "positions_geo_before.plot()"
   ]
  },
  {
   "cell_type": "markdown",
   "metadata": {},
   "source": [
    "### After (April 7) points"
   ]
  },
  {
   "cell_type": "code",
   "execution_count": 127,
   "metadata": {},
   "outputs": [],
   "source": [
    "positions_geo_after = gpd.GeoDataFrame(positions_geo_clipped[positions_geo_clipped['after'] == True])"
   ]
  },
  {
   "cell_type": "code",
   "execution_count": 128,
   "metadata": {},
   "outputs": [
    {
     "data": {
      "text/plain": [
       "<matplotlib.axes._subplots.AxesSubplot at 0x673bfc690>"
      ]
     },
     "execution_count": 128,
     "metadata": {},
     "output_type": "execute_result"
    },
    {
     "data": {
      "image/png": "[encoded data removed]",
      "text/plain": [
       "<Figure size 432x288 with 1 Axes>"
      ]
     },
     "metadata": {
      "needs_background": "light"
     },
     "output_type": "display_data"
    }
   ],
   "source": [
    "positions_geo_after.plot()"
   ]
  },
  {
   "cell_type": "markdown",
   "metadata": {},
   "source": [
    "---"
   ]
  },
  {
   "cell_type": "markdown",
   "metadata": {},
   "source": [
    "### Convert the points to lines"
   ]
  },
  {
   "cell_type": "code",
   "execution_count": 129,
   "metadata": {},
   "outputs": [],
   "source": [
    "positions_geo_line = gpd.GeoDataFrame(positions_geo_clipped.groupby(['flight_id','schd_from','name','before'])['geometry']\\\n",
    "    .apply(lambda x: LineString(x.tolist())).reset_index())"
   ]
  },
  {
   "cell_type": "markdown",
   "metadata": {},
   "source": [
    "### Lines for \"before\" flights"
   ]
  },
  {
   "cell_type": "code",
   "execution_count": 130,
   "metadata": {},
   "outputs": [],
   "source": [
    "positions_geo_before_line = gpd.GeoDataFrame(positions_geo_before.groupby(['flight_id','schd_from','name','before'])['geometry']\\\n",
    "    .apply(lambda x: LineString(x.tolist())).reset_index())"
   ]
  },
  {
   "cell_type": "code",
   "execution_count": 131,
   "metadata": {},
   "outputs": [
    {
     "data": {
      "text/plain": [
       "<matplotlib.axes._subplots.AxesSubplot at 0x6a96b8f50>"
      ]
     },
     "execution_count": 131,
     "metadata": {},
     "output_type": "execute_result"
    },
    {
     "data": {
      "image/png": "[encoded data removed]",
      "text/plain": [
       "<Figure size 432x288 with 1 Axes>"
      ]
     },
     "metadata": {
      "needs_background": "light"
     },
     "output_type": "display_data"
    }
   ],
   "source": [
    "positions_geo_before_line.plot()"
   ]
  },
  {
   "cell_type": "markdown",
   "metadata": {},
   "source": [
    "### Lines for \"after\" flights"
   ]
  },
  {
   "cell_type": "code",
   "execution_count": 132,
   "metadata": {},
   "outputs": [],
   "source": [
    "positions_geo_after_line = gpd.GeoDataFrame(positions_geo_after.groupby(['flight_id','schd_from','name','before'])['geometry']\\\n",
    "    .apply(lambda x: LineString(x.tolist())).reset_index())"
   ]
  },
  {
   "cell_type": "code",
   "execution_count": 133,
   "metadata": {},
   "outputs": [
    {
     "data": {
      "text/plain": [
       "<matplotlib.axes._subplots.AxesSubplot at 0x6a9839290>"
      ]
     },
     "execution_count": 133,
     "metadata": {},
     "output_type": "execute_result"
    },
    {
     "data": {
      "image/png": "[encoded data removed]",
      "text/plain": [
       "<Figure size 432x288 with 1 Axes>"
      ]
     },
     "metadata": {
      "needs_background": "light"
     },
     "output_type": "display_data"
    }
   ],
   "source": [
    "positions_geo_after_line.plot()"
   ]
  },
  {
   "cell_type": "markdown",
   "metadata": {},
   "source": [
    "### Export all lines to geojson"
   ]
  },
  {
   "cell_type": "code",
   "execution_count": 134,
   "metadata": {},
   "outputs": [],
   "source": [
    "positions_geo_line.to_file('/Users/mhustiles/data/data/flights/coronavirus\\\n",
    "/positions_geo_line.geojson', driver='GeoJSON')"
   ]
  },
  {
   "cell_type": "markdown",
   "metadata": {},
   "source": [
    "### Output all before/after lines to mbtiles for Mapbox"
   ]
  },
  {
   "cell_type": "code",
   "execution_count": 135,
   "metadata": {},
   "outputs": [
    {
     "name": "stdout",
     "output_type": "stream",
     "text": [
      "For layer 0, using name \"positions_geo_line\"\n",
      "4851 features, 5323020 bytes of geometry, 62453 bytes of separate metadata, 65556 bytes of string pool\n",
      "  99.9%  10/163/396  \n"
     ]
    }
   ],
   "source": [
    "!tippecanoe --generate-ids --force -Z4 -z10 -r1 -pk -pf -o \\\n",
    "/Users/mhustiles/data/data/flights/coronavirus/positions_geo_line_slim.mbtiles \\\n",
    "/Users/mhustiles/data/data/flights/coronavirus/positions_geo_line.geojson"
   ]
  },
  {
   "cell_type": "markdown",
   "metadata": {},
   "source": [
    "---"
   ]
  },
  {
   "cell_type": "markdown",
   "metadata": {},
   "source": [
    "### What's still flying at LAX?"
   ]
  },
  {
   "cell_type": "code",
   "execution_count": 136,
   "metadata": {},
   "outputs": [],
   "source": [
    "lax_pos_after = positions_geo_after_line[positions_geo_after_line['schd_from'] == 'LAX']"
   ]
  },
  {
   "cell_type": "code",
   "execution_count": null,
   "metadata": {},
   "outputs": [],
   "source": []
  },
  {
   "cell_type": "code",
   "execution_count": 137,
   "metadata": {},
   "outputs": [],
   "source": [
    "lax_pos_before = positions_geo_before_line[positions_geo_before_line['schd_from'] == 'LAX']"
   ]
  },
  {
   "cell_type": "code",
   "execution_count": 138,
   "metadata": {},
   "outputs": [],
   "source": [
    "lax_pos_after_names = lax_pos_after.groupby(['name']).agg('size').reset_index(name='flights')\n",
    "lax_pos_before_names = lax_pos_before.groupby(['name']).agg('size').reset_index(name='flights')"
   ]
  },
  {
   "cell_type": "code",
   "execution_count": 139,
   "metadata": {},
   "outputs": [
    {
     "data": {
      "text/html": [
       "<div>\n",
       "<style scoped>\n",
       "    .dataframe tbody tr th:only-of-type {\n",
       "        vertical-align: middle;\n",
       "    }\n",
       "\n",
       "    .dataframe tbody tr th {\n",
       "        vertical-align: top;\n",
       "    }\n",
       "\n",
       "    .dataframe thead th {\n",
       "        text-align: right;\n",
       "    }\n",
       "</style>\n",
       "<table border=\"1\" class=\"dataframe\">\n",
       "  <thead>\n",
       "    <tr style=\"text-align: right;\">\n",
       "      <th></th>\n",
       "      <th>name</th>\n",
       "      <th>flights</th>\n",
       "    </tr>\n",
       "  </thead>\n",
       "  <tbody>\n",
       "    <tr>\n",
       "      <td>6</td>\n",
       "      <td>AMERICAN AIRLINES</td>\n",
       "      <td>166</td>\n",
       "    </tr>\n",
       "    <tr>\n",
       "      <td>17</td>\n",
       "      <td>DELTA AIR LINES</td>\n",
       "      <td>140</td>\n",
       "    </tr>\n",
       "    <tr>\n",
       "      <td>42</td>\n",
       "      <td>SOUTHWEST AIRLINES</td>\n",
       "      <td>113</td>\n",
       "    </tr>\n",
       "    <tr>\n",
       "      <td>41</td>\n",
       "      <td>SKYWEST AIRLINES</td>\n",
       "      <td>112</td>\n",
       "    </tr>\n",
       "    <tr>\n",
       "      <td>56</td>\n",
       "      <td>UNITED AIRLINES</td>\n",
       "      <td>83</td>\n",
       "    </tr>\n",
       "  </tbody>\n",
       "</table>\n",
       "</div>"
      ],
      "text/plain": [
       "                  name  flights\n",
       "6    AMERICAN AIRLINES      166\n",
       "17     DELTA AIR LINES      140\n",
       "42  SOUTHWEST AIRLINES      113\n",
       "41    SKYWEST AIRLINES      112\n",
       "56     UNITED AIRLINES       83"
      ]
     },
     "execution_count": 139,
     "metadata": {},
     "output_type": "execute_result"
    }
   ],
   "source": [
    "lax_pos_before_names.sort_values(by='flights', ascending=False).head(5)"
   ]
  },
  {
   "cell_type": "code",
   "execution_count": 140,
   "metadata": {},
   "outputs": [
    {
     "data": {
      "text/html": [
       "<div>\n",
       "<style scoped>\n",
       "    .dataframe tbody tr th:only-of-type {\n",
       "        vertical-align: middle;\n",
       "    }\n",
       "\n",
       "    .dataframe tbody tr th {\n",
       "        vertical-align: top;\n",
       "    }\n",
       "\n",
       "    .dataframe thead th {\n",
       "        text-align: right;\n",
       "    }\n",
       "</style>\n",
       "<table border=\"1\" class=\"dataframe\">\n",
       "  <thead>\n",
       "    <tr style=\"text-align: right;\">\n",
       "      <th></th>\n",
       "      <th>name</th>\n",
       "      <th>flights</th>\n",
       "    </tr>\n",
       "  </thead>\n",
       "  <tbody>\n",
       "    <tr>\n",
       "      <td>20</td>\n",
       "      <td>SOUTHWEST AIRLINES</td>\n",
       "      <td>24</td>\n",
       "    </tr>\n",
       "    <tr>\n",
       "      <td>1</td>\n",
       "      <td>AMERICAN AIRLINES</td>\n",
       "      <td>19</td>\n",
       "    </tr>\n",
       "    <tr>\n",
       "      <td>25</td>\n",
       "      <td>UNITED AIRLINES</td>\n",
       "      <td>16</td>\n",
       "    </tr>\n",
       "    <tr>\n",
       "      <td>8</td>\n",
       "      <td>DELTA AIR LINES</td>\n",
       "      <td>13</td>\n",
       "    </tr>\n",
       "    <tr>\n",
       "      <td>9</td>\n",
       "      <td>FEDERAL EXPRESS</td>\n",
       "      <td>13</td>\n",
       "    </tr>\n",
       "  </tbody>\n",
       "</table>\n",
       "</div>"
      ],
      "text/plain": [
       "                  name  flights\n",
       "20  SOUTHWEST AIRLINES       24\n",
       "1    AMERICAN AIRLINES       19\n",
       "25     UNITED AIRLINES       16\n",
       "8      DELTA AIR LINES       13\n",
       "9      FEDERAL EXPRESS       13"
      ]
     },
     "execution_count": 140,
     "metadata": {},
     "output_type": "execute_result"
    }
   ],
   "source": [
    "lax_pos_after_names.sort_values(by='flights', ascending=False).head(5)"
   ]
  },
  {
   "cell_type": "code",
   "execution_count": 141,
   "metadata": {},
   "outputs": [],
   "source": [
    "before_after_lax_merge = pd.merge(lax_pos_before_names, lax_pos_after_names, on='name', how='left')"
   ]
  },
  {
   "cell_type": "code",
   "execution_count": 142,
   "metadata": {},
   "outputs": [],
   "source": [
    "before_after_lax_merge.rename(columns={\"flights_x\": \"before\", \"flights_y\": \"after\"}, inplace=True)"
   ]
  },
  {
   "cell_type": "code",
   "execution_count": 143,
   "metadata": {},
   "outputs": [
    {
     "data": {
      "text/html": [
       "<div>\n",
       "<style scoped>\n",
       "    .dataframe tbody tr th:only-of-type {\n",
       "        vertical-align: middle;\n",
       "    }\n",
       "\n",
       "    .dataframe tbody tr th {\n",
       "        vertical-align: top;\n",
       "    }\n",
       "\n",
       "    .dataframe thead th {\n",
       "        text-align: right;\n",
       "    }\n",
       "</style>\n",
       "<table border=\"1\" class=\"dataframe\">\n",
       "  <thead>\n",
       "    <tr style=\"text-align: right;\">\n",
       "      <th></th>\n",
       "      <th>name</th>\n",
       "      <th>before</th>\n",
       "      <th>after</th>\n",
       "    </tr>\n",
       "  </thead>\n",
       "  <tbody>\n",
       "    <tr>\n",
       "      <td>0</td>\n",
       "      <td>728 SERVICES</td>\n",
       "      <td>1</td>\n",
       "      <td>NaN</td>\n",
       "    </tr>\n",
       "    <tr>\n",
       "      <td>1</td>\n",
       "      <td>AEROMEXICO</td>\n",
       "      <td>3</td>\n",
       "      <td>NaN</td>\n",
       "    </tr>\n",
       "    <tr>\n",
       "      <td>2</td>\n",
       "      <td>AFS INVESTMENTS 48</td>\n",
       "      <td>2</td>\n",
       "      <td>NaN</td>\n",
       "    </tr>\n",
       "    <tr>\n",
       "      <td>3</td>\n",
       "      <td>AFS INVESTMENTS 57</td>\n",
       "      <td>1</td>\n",
       "      <td>NaN</td>\n",
       "    </tr>\n",
       "    <tr>\n",
       "      <td>4</td>\n",
       "      <td>ALASKA AIRLINES</td>\n",
       "      <td>39</td>\n",
       "      <td>4.0</td>\n",
       "    </tr>\n",
       "  </tbody>\n",
       "</table>\n",
       "</div>"
      ],
      "text/plain": [
       "                 name  before  after\n",
       "0        728 SERVICES       1    NaN\n",
       "1          AEROMEXICO       3    NaN\n",
       "2  AFS INVESTMENTS 48       2    NaN\n",
       "3  AFS INVESTMENTS 57       1    NaN\n",
       "4     ALASKA AIRLINES      39    4.0"
      ]
     },
     "execution_count": 143,
     "metadata": {},
     "output_type": "execute_result"
    }
   ],
   "source": [
    "before_after_lax_merge.head()"
   ]
  },
  {
   "cell_type": "code",
   "execution_count": 144,
   "metadata": {},
   "outputs": [],
   "source": [
    "before_after_lax_merge['change'] = \\\n",
    "((before_after_lax_merge['after'] - before_after_lax_merge['before'])/\\\n",
    " before_after_lax_merge['before']*100).round(0)"
   ]
  },
  {
   "cell_type": "code",
   "execution_count": 145,
   "metadata": {},
   "outputs": [],
   "source": [
    "before_after_lax_merge.sort_values(by='before', ascending=False)\\\n",
    ".to_csv('output/lax_before_after_webtable.csv', index=False)"
   ]
  },
  {
   "cell_type": "code",
   "execution_count": 146,
   "metadata": {},
   "outputs": [
    {
     "data": {
      "text/html": [
       "<div>\n",
       "<style scoped>\n",
       "    .dataframe tbody tr th:only-of-type {\n",
       "        vertical-align: middle;\n",
       "    }\n",
       "\n",
       "    .dataframe tbody tr th {\n",
       "        vertical-align: top;\n",
       "    }\n",
       "\n",
       "    .dataframe thead th {\n",
       "        text-align: right;\n",
       "    }\n",
       "</style>\n",
       "<table border=\"1\" class=\"dataframe\">\n",
       "  <thead>\n",
       "    <tr style=\"text-align: right;\">\n",
       "      <th></th>\n",
       "      <th>name</th>\n",
       "      <th>before</th>\n",
       "      <th>after</th>\n",
       "      <th>change</th>\n",
       "    </tr>\n",
       "  </thead>\n",
       "  <tbody>\n",
       "    <tr>\n",
       "      <td>6</td>\n",
       "      <td>AMERICAN AIRLINES</td>\n",
       "      <td>166</td>\n",
       "      <td>19.0</td>\n",
       "      <td>-89.0</td>\n",
       "    </tr>\n",
       "    <tr>\n",
       "      <td>17</td>\n",
       "      <td>DELTA AIR LINES</td>\n",
       "      <td>140</td>\n",
       "      <td>13.0</td>\n",
       "      <td>-91.0</td>\n",
       "    </tr>\n",
       "    <tr>\n",
       "      <td>42</td>\n",
       "      <td>SOUTHWEST AIRLINES</td>\n",
       "      <td>113</td>\n",
       "      <td>24.0</td>\n",
       "      <td>-79.0</td>\n",
       "    </tr>\n",
       "    <tr>\n",
       "      <td>41</td>\n",
       "      <td>SKYWEST AIRLINES</td>\n",
       "      <td>112</td>\n",
       "      <td>12.0</td>\n",
       "      <td>-89.0</td>\n",
       "    </tr>\n",
       "    <tr>\n",
       "      <td>56</td>\n",
       "      <td>UNITED AIRLINES</td>\n",
       "      <td>83</td>\n",
       "      <td>16.0</td>\n",
       "      <td>-81.0</td>\n",
       "    </tr>\n",
       "    <tr>\n",
       "      <td>4</td>\n",
       "      <td>ALASKA AIRLINES</td>\n",
       "      <td>39</td>\n",
       "      <td>4.0</td>\n",
       "      <td>-90.0</td>\n",
       "    </tr>\n",
       "    <tr>\n",
       "      <td>30</td>\n",
       "      <td>JETBLUE AIRWAYS</td>\n",
       "      <td>25</td>\n",
       "      <td>3.0</td>\n",
       "      <td>-88.0</td>\n",
       "    </tr>\n",
       "    <tr>\n",
       "      <td>44</td>\n",
       "      <td>SPIRIT AIRLINES</td>\n",
       "      <td>19</td>\n",
       "      <td>3.0</td>\n",
       "      <td>-84.0</td>\n",
       "    </tr>\n",
       "    <tr>\n",
       "      <td>20</td>\n",
       "      <td>FEDERAL EXPRESS</td>\n",
       "      <td>17</td>\n",
       "      <td>13.0</td>\n",
       "      <td>-24.0</td>\n",
       "    </tr>\n",
       "    <tr>\n",
       "      <td>61</td>\n",
       "      <td>VIRGIN AMERICA</td>\n",
       "      <td>16</td>\n",
       "      <td>2.0</td>\n",
       "      <td>-88.0</td>\n",
       "    </tr>\n",
       "    <tr>\n",
       "      <td>55</td>\n",
       "      <td>UMB BANK NA TRUSTEE</td>\n",
       "      <td>9</td>\n",
       "      <td>NaN</td>\n",
       "      <td>NaN</td>\n",
       "    </tr>\n",
       "    <tr>\n",
       "      <td>27</td>\n",
       "      <td>HORIZON AIR</td>\n",
       "      <td>8</td>\n",
       "      <td>2.0</td>\n",
       "      <td>-75.0</td>\n",
       "    </tr>\n",
       "    <tr>\n",
       "      <td>59</td>\n",
       "      <td>US AIRWAYS</td>\n",
       "      <td>7</td>\n",
       "      <td>3.0</td>\n",
       "      <td>-57.0</td>\n",
       "    </tr>\n",
       "    <tr>\n",
       "      <td>31</td>\n",
       "      <td>KALITTA AIR</td>\n",
       "      <td>6</td>\n",
       "      <td>5.0</td>\n",
       "      <td>-17.0</td>\n",
       "    </tr>\n",
       "    <tr>\n",
       "      <td>34</td>\n",
       "      <td>MOKULELE FLIGHT SERVICE</td>\n",
       "      <td>5</td>\n",
       "      <td>4.0</td>\n",
       "      <td>-20.0</td>\n",
       "    </tr>\n",
       "  </tbody>\n",
       "</table>\n",
       "</div>"
      ],
      "text/plain": [
       "                       name  before  after  change\n",
       "6         AMERICAN AIRLINES     166   19.0   -89.0\n",
       "17          DELTA AIR LINES     140   13.0   -91.0\n",
       "42       SOUTHWEST AIRLINES     113   24.0   -79.0\n",
       "41         SKYWEST AIRLINES     112   12.0   -89.0\n",
       "56          UNITED AIRLINES      83   16.0   -81.0\n",
       "4           ALASKA AIRLINES      39    4.0   -90.0\n",
       "30          JETBLUE AIRWAYS      25    3.0   -88.0\n",
       "44          SPIRIT AIRLINES      19    3.0   -84.0\n",
       "20          FEDERAL EXPRESS      17   13.0   -24.0\n",
       "61           VIRGIN AMERICA      16    2.0   -88.0\n",
       "55      UMB BANK NA TRUSTEE       9    NaN     NaN\n",
       "27              HORIZON AIR       8    2.0   -75.0\n",
       "59               US AIRWAYS       7    3.0   -57.0\n",
       "31              KALITTA AIR       6    5.0   -17.0\n",
       "34  MOKULELE FLIGHT SERVICE       5    4.0   -20.0"
      ]
     },
     "execution_count": 146,
     "metadata": {},
     "output_type": "execute_result"
    }
   ],
   "source": [
    "before_after_lax_merge.sort_values(by='before', ascending=False).head(15)"
   ]
  },
  {
   "cell_type": "code",
   "execution_count": 147,
   "metadata": {},
   "outputs": [],
   "source": [
    "lax_pos_before_names.to_csv('output/table_lax_pos_before_names.csv')\n",
    "lax_pos_after_names.to_csv('output/table_lax_pos_after_names.csv')"
   ]
  },
  {
   "cell_type": "markdown",
   "metadata": {},
   "source": [
    "### Top airlines before"
   ]
  },
  {
   "cell_type": "code",
   "execution_count": 189,
   "metadata": {},
   "outputs": [
    {
     "data": {
      "text/plain": [
       "858"
      ]
     },
     "execution_count": 189,
     "metadata": {},
     "output_type": "execute_result"
    }
   ],
   "source": [
    "lax_pos_before_names.flights.sum()"
   ]
  },
  {
   "cell_type": "markdown",
   "metadata": {},
   "source": [
    "### Top airlines after"
   ]
  },
  {
   "cell_type": "code",
   "execution_count": 190,
   "metadata": {},
   "outputs": [
    {
     "data": {
      "text/plain": [
       "141"
      ]
     },
     "execution_count": 190,
     "metadata": {},
     "output_type": "execute_result"
    }
   ],
   "source": [
    "lax_pos_after_names.flights.sum()"
   ]
  },
  {
   "cell_type": "markdown",
   "metadata": {},
   "source": [
    "### How much was the decline in total flights at LAX?"
   ]
  },
  {
   "cell_type": "code",
   "execution_count": 191,
   "metadata": {},
   "outputs": [
    {
     "data": {
      "text/plain": [
       "'-83.57%'"
      ]
     },
     "execution_count": 191,
     "metadata": {},
     "output_type": "execute_result"
    }
   ],
   "source": [
    "'{:,.2f}%'.format(((lax_pos_after_names.flights.sum() - \\\n",
    "   lax_pos_before_names.flights.sum())/lax_pos_before_names.flights.sum()*100))"
   ]
  },
  {
   "cell_type": "markdown",
   "metadata": {},
   "source": [
    "---"
   ]
  },
  {
   "cell_type": "markdown",
   "metadata": {},
   "source": [
    "### What's still flying at SFO?"
   ]
  },
  {
   "cell_type": "code",
   "execution_count": 192,
   "metadata": {},
   "outputs": [],
   "source": [
    "sfo_pos_after = positions_geo_after_line[positions_geo_after_line['schd_from'] == 'SFO']"
   ]
  },
  {
   "cell_type": "code",
   "execution_count": 193,
   "metadata": {},
   "outputs": [],
   "source": [
    "sfo_pos_before = positions_geo_before_line[positions_geo_before_line['schd_from'] == 'SFO']"
   ]
  },
  {
   "cell_type": "code",
   "execution_count": 194,
   "metadata": {},
   "outputs": [],
   "source": [
    "sfo_pos_after_names = sfo_pos_after.groupby(['name']).agg('size').reset_index(name='flights')\n",
    "sfo_pos_before_names = sfo_pos_before.groupby(['name']).agg('size').reset_index(name='flights')"
   ]
  },
  {
   "cell_type": "code",
   "execution_count": 195,
   "metadata": {},
   "outputs": [
    {
     "data": {
      "text/html": [
       "<div>\n",
       "<style scoped>\n",
       "    .dataframe tbody tr th:only-of-type {\n",
       "        vertical-align: middle;\n",
       "    }\n",
       "\n",
       "    .dataframe tbody tr th {\n",
       "        vertical-align: top;\n",
       "    }\n",
       "\n",
       "    .dataframe thead th {\n",
       "        text-align: right;\n",
       "    }\n",
       "</style>\n",
       "<table border=\"1\" class=\"dataframe\">\n",
       "  <thead>\n",
       "    <tr style=\"text-align: right;\">\n",
       "      <th></th>\n",
       "      <th>name</th>\n",
       "      <th>flights</th>\n",
       "    </tr>\n",
       "  </thead>\n",
       "  <tbody>\n",
       "    <tr>\n",
       "      <td>41</td>\n",
       "      <td>UNITED AIRLINES</td>\n",
       "      <td>187</td>\n",
       "    </tr>\n",
       "    <tr>\n",
       "      <td>36</td>\n",
       "      <td>SKYWEST AIRLINES</td>\n",
       "      <td>125</td>\n",
       "    </tr>\n",
       "    <tr>\n",
       "      <td>11</td>\n",
       "      <td>DELTA AIR LINES</td>\n",
       "      <td>50</td>\n",
       "    </tr>\n",
       "    <tr>\n",
       "      <td>38</td>\n",
       "      <td>SOUTHWEST AIRLINES</td>\n",
       "      <td>49</td>\n",
       "    </tr>\n",
       "    <tr>\n",
       "      <td>6</td>\n",
       "      <td>AMERICAN AIRLINES</td>\n",
       "      <td>44</td>\n",
       "    </tr>\n",
       "    <tr>\n",
       "      <td>4</td>\n",
       "      <td>ALASKA AIRLINES</td>\n",
       "      <td>31</td>\n",
       "    </tr>\n",
       "    <tr>\n",
       "      <td>44</td>\n",
       "      <td>VIRGIN AMERICA</td>\n",
       "      <td>23</td>\n",
       "    </tr>\n",
       "    <tr>\n",
       "      <td>22</td>\n",
       "      <td>JETBLUE AIRWAYS</td>\n",
       "      <td>21</td>\n",
       "    </tr>\n",
       "    <tr>\n",
       "      <td>25</td>\n",
       "      <td>NETJETS SALES</td>\n",
       "      <td>7</td>\n",
       "    </tr>\n",
       "    <tr>\n",
       "      <td>18</td>\n",
       "      <td>HORIZON AIR</td>\n",
       "      <td>5</td>\n",
       "    </tr>\n",
       "  </tbody>\n",
       "</table>\n",
       "</div>"
      ],
      "text/plain": [
       "                  name  flights\n",
       "41     UNITED AIRLINES      187\n",
       "36    SKYWEST AIRLINES      125\n",
       "11     DELTA AIR LINES       50\n",
       "38  SOUTHWEST AIRLINES       49\n",
       "6    AMERICAN AIRLINES       44\n",
       "4      ALASKA AIRLINES       31\n",
       "44      VIRGIN AMERICA       23\n",
       "22     JETBLUE AIRWAYS       21\n",
       "25       NETJETS SALES        7\n",
       "18         HORIZON AIR        5"
      ]
     },
     "execution_count": 195,
     "metadata": {},
     "output_type": "execute_result"
    }
   ],
   "source": [
    "sfo_pos_before_names.sort_values(by='flights', ascending=False).head(10)"
   ]
  },
  {
   "cell_type": "code",
   "execution_count": 196,
   "metadata": {},
   "outputs": [
    {
     "data": {
      "text/html": [
       "<div>\n",
       "<style scoped>\n",
       "    .dataframe tbody tr th:only-of-type {\n",
       "        vertical-align: middle;\n",
       "    }\n",
       "\n",
       "    .dataframe tbody tr th {\n",
       "        vertical-align: top;\n",
       "    }\n",
       "\n",
       "    .dataframe thead th {\n",
       "        text-align: right;\n",
       "    }\n",
       "</style>\n",
       "<table border=\"1\" class=\"dataframe\">\n",
       "  <thead>\n",
       "    <tr style=\"text-align: right;\">\n",
       "      <th></th>\n",
       "      <th>name</th>\n",
       "      <th>flights</th>\n",
       "    </tr>\n",
       "  </thead>\n",
       "  <tbody>\n",
       "    <tr>\n",
       "      <td>12</td>\n",
       "      <td>UNITED AIRLINES</td>\n",
       "      <td>26</td>\n",
       "    </tr>\n",
       "    <tr>\n",
       "      <td>9</td>\n",
       "      <td>SKYWEST AIRLINES</td>\n",
       "      <td>14</td>\n",
       "    </tr>\n",
       "    <tr>\n",
       "      <td>4</td>\n",
       "      <td>DELTA AIR LINES</td>\n",
       "      <td>9</td>\n",
       "    </tr>\n",
       "    <tr>\n",
       "      <td>10</td>\n",
       "      <td>SOUTHWEST AIRLINES</td>\n",
       "      <td>7</td>\n",
       "    </tr>\n",
       "    <tr>\n",
       "      <td>1</td>\n",
       "      <td>AMERICAN AIRLINES</td>\n",
       "      <td>5</td>\n",
       "    </tr>\n",
       "    <tr>\n",
       "      <td>7</td>\n",
       "      <td>HORIZON AIR</td>\n",
       "      <td>5</td>\n",
       "    </tr>\n",
       "    <tr>\n",
       "      <td>2</td>\n",
       "      <td>BYRUM LYLE TRUSTEE</td>\n",
       "      <td>3</td>\n",
       "    </tr>\n",
       "    <tr>\n",
       "      <td>3</td>\n",
       "      <td>CARGO AIRCRAFT MANAGEMENT</td>\n",
       "      <td>2</td>\n",
       "    </tr>\n",
       "    <tr>\n",
       "      <td>0</td>\n",
       "      <td>ALASKA AIRLINES</td>\n",
       "      <td>1</td>\n",
       "    </tr>\n",
       "    <tr>\n",
       "      <td>5</td>\n",
       "      <td>FEDERAL EXPRESS</td>\n",
       "      <td>1</td>\n",
       "    </tr>\n",
       "  </tbody>\n",
       "</table>\n",
       "</div>"
      ],
      "text/plain": [
       "                         name  flights\n",
       "12            UNITED AIRLINES       26\n",
       "9            SKYWEST AIRLINES       14\n",
       "4             DELTA AIR LINES        9\n",
       "10         SOUTHWEST AIRLINES        7\n",
       "1           AMERICAN AIRLINES        5\n",
       "7                 HORIZON AIR        5\n",
       "2          BYRUM LYLE TRUSTEE        3\n",
       "3   CARGO AIRCRAFT MANAGEMENT        2\n",
       "0             ALASKA AIRLINES        1\n",
       "5             FEDERAL EXPRESS        1"
      ]
     },
     "execution_count": 196,
     "metadata": {},
     "output_type": "execute_result"
    }
   ],
   "source": [
    "sfo_pos_after_names.sort_values(by='flights', ascending=False).head(10)"
   ]
  },
  {
   "cell_type": "code",
   "execution_count": 197,
   "metadata": {},
   "outputs": [],
   "source": [
    "before_after_sfo_merge = pd.merge(sfo_pos_before_names, sfo_pos_after_names, on='name', how='left')"
   ]
  },
  {
   "cell_type": "code",
   "execution_count": 198,
   "metadata": {},
   "outputs": [],
   "source": [
    "before_after_sfo_merge.rename(columns={\"flights_x\": \"before\", \"flights_y\": \"after\"}, inplace=True)"
   ]
  },
  {
   "cell_type": "code",
   "execution_count": 199,
   "metadata": {},
   "outputs": [
    {
     "data": {
      "text/html": [
       "<div>\n",
       "<style scoped>\n",
       "    .dataframe tbody tr th:only-of-type {\n",
       "        vertical-align: middle;\n",
       "    }\n",
       "\n",
       "    .dataframe tbody tr th {\n",
       "        vertical-align: top;\n",
       "    }\n",
       "\n",
       "    .dataframe thead th {\n",
       "        text-align: right;\n",
       "    }\n",
       "</style>\n",
       "<table border=\"1\" class=\"dataframe\">\n",
       "  <thead>\n",
       "    <tr style=\"text-align: right;\">\n",
       "      <th></th>\n",
       "      <th>name</th>\n",
       "      <th>before</th>\n",
       "      <th>after</th>\n",
       "    </tr>\n",
       "  </thead>\n",
       "  <tbody>\n",
       "    <tr>\n",
       "      <td>0</td>\n",
       "      <td>AEROMEXICO</td>\n",
       "      <td>1</td>\n",
       "      <td>NaN</td>\n",
       "    </tr>\n",
       "    <tr>\n",
       "      <td>1</td>\n",
       "      <td>AFS INVESTMENTS 57</td>\n",
       "      <td>2</td>\n",
       "      <td>NaN</td>\n",
       "    </tr>\n",
       "    <tr>\n",
       "      <td>2</td>\n",
       "      <td>AFS INVESTMENTS I</td>\n",
       "      <td>1</td>\n",
       "      <td>NaN</td>\n",
       "    </tr>\n",
       "    <tr>\n",
       "      <td>3</td>\n",
       "      <td>AIRCRAFT MSN 3977 STATUTORY TRUST</td>\n",
       "      <td>1</td>\n",
       "      <td>NaN</td>\n",
       "    </tr>\n",
       "    <tr>\n",
       "      <td>4</td>\n",
       "      <td>ALASKA AIRLINES</td>\n",
       "      <td>31</td>\n",
       "      <td>1.0</td>\n",
       "    </tr>\n",
       "    <tr>\n",
       "      <td>5</td>\n",
       "      <td>ALTAMONT CAPITAL MANAGEMENT</td>\n",
       "      <td>1</td>\n",
       "      <td>NaN</td>\n",
       "    </tr>\n",
       "    <tr>\n",
       "      <td>6</td>\n",
       "      <td>AMERICAN AIRLINES</td>\n",
       "      <td>44</td>\n",
       "      <td>5.0</td>\n",
       "    </tr>\n",
       "    <tr>\n",
       "      <td>7</td>\n",
       "      <td>AWAS 4991 TRUST</td>\n",
       "      <td>2</td>\n",
       "      <td>NaN</td>\n",
       "    </tr>\n",
       "    <tr>\n",
       "      <td>8</td>\n",
       "      <td>BANK OF AMERICA NA</td>\n",
       "      <td>1</td>\n",
       "      <td>NaN</td>\n",
       "    </tr>\n",
       "    <tr>\n",
       "      <td>9</td>\n",
       "      <td>BLUE SKIES CALIFORNIA</td>\n",
       "      <td>1</td>\n",
       "      <td>NaN</td>\n",
       "    </tr>\n",
       "  </tbody>\n",
       "</table>\n",
       "</div>"
      ],
      "text/plain": [
       "                                name  before  after\n",
       "0                         AEROMEXICO       1    NaN\n",
       "1                 AFS INVESTMENTS 57       2    NaN\n",
       "2                  AFS INVESTMENTS I       1    NaN\n",
       "3  AIRCRAFT MSN 3977 STATUTORY TRUST       1    NaN\n",
       "4                    ALASKA AIRLINES      31    1.0\n",
       "5        ALTAMONT CAPITAL MANAGEMENT       1    NaN\n",
       "6                  AMERICAN AIRLINES      44    5.0\n",
       "7                    AWAS 4991 TRUST       2    NaN\n",
       "8                 BANK OF AMERICA NA       1    NaN\n",
       "9              BLUE SKIES CALIFORNIA       1    NaN"
      ]
     },
     "execution_count": 199,
     "metadata": {},
     "output_type": "execute_result"
    }
   ],
   "source": [
    "before_after_sfo_merge.head(10)"
   ]
  },
  {
   "cell_type": "code",
   "execution_count": 200,
   "metadata": {},
   "outputs": [],
   "source": [
    "before_after_sfo_merge['change'] = \\\n",
    "((before_after_sfo_merge['after'] - before_after_sfo_merge['before'])/\\\n",
    " before_after_sfo_merge['before']*100).round(0)"
   ]
  },
  {
   "cell_type": "code",
   "execution_count": 201,
   "metadata": {},
   "outputs": [],
   "source": [
    "before_after_sfo_merge.sort_values(by='before', ascending=False)\\\n",
    ".to_csv('output/sfo_before_after_webtable.csv', index=False)"
   ]
  },
  {
   "cell_type": "code",
   "execution_count": 202,
   "metadata": {},
   "outputs": [
    {
     "data": {
      "text/html": [
       "<div>\n",
       "<style scoped>\n",
       "    .dataframe tbody tr th:only-of-type {\n",
       "        vertical-align: middle;\n",
       "    }\n",
       "\n",
       "    .dataframe tbody tr th {\n",
       "        vertical-align: top;\n",
       "    }\n",
       "\n",
       "    .dataframe thead th {\n",
       "        text-align: right;\n",
       "    }\n",
       "</style>\n",
       "<table border=\"1\" class=\"dataframe\">\n",
       "  <thead>\n",
       "    <tr style=\"text-align: right;\">\n",
       "      <th></th>\n",
       "      <th>name</th>\n",
       "      <th>before</th>\n",
       "      <th>after</th>\n",
       "      <th>change</th>\n",
       "    </tr>\n",
       "  </thead>\n",
       "  <tbody>\n",
       "    <tr>\n",
       "      <td>41</td>\n",
       "      <td>UNITED AIRLINES</td>\n",
       "      <td>187</td>\n",
       "      <td>26.0</td>\n",
       "      <td>-86.0</td>\n",
       "    </tr>\n",
       "    <tr>\n",
       "      <td>36</td>\n",
       "      <td>SKYWEST AIRLINES</td>\n",
       "      <td>125</td>\n",
       "      <td>14.0</td>\n",
       "      <td>-89.0</td>\n",
       "    </tr>\n",
       "    <tr>\n",
       "      <td>11</td>\n",
       "      <td>DELTA AIR LINES</td>\n",
       "      <td>50</td>\n",
       "      <td>9.0</td>\n",
       "      <td>-82.0</td>\n",
       "    </tr>\n",
       "    <tr>\n",
       "      <td>38</td>\n",
       "      <td>SOUTHWEST AIRLINES</td>\n",
       "      <td>49</td>\n",
       "      <td>7.0</td>\n",
       "      <td>-86.0</td>\n",
       "    </tr>\n",
       "    <tr>\n",
       "      <td>6</td>\n",
       "      <td>AMERICAN AIRLINES</td>\n",
       "      <td>44</td>\n",
       "      <td>5.0</td>\n",
       "      <td>-89.0</td>\n",
       "    </tr>\n",
       "    <tr>\n",
       "      <td>4</td>\n",
       "      <td>ALASKA AIRLINES</td>\n",
       "      <td>31</td>\n",
       "      <td>1.0</td>\n",
       "      <td>-97.0</td>\n",
       "    </tr>\n",
       "    <tr>\n",
       "      <td>44</td>\n",
       "      <td>VIRGIN AMERICA</td>\n",
       "      <td>23</td>\n",
       "      <td>NaN</td>\n",
       "      <td>NaN</td>\n",
       "    </tr>\n",
       "    <tr>\n",
       "      <td>22</td>\n",
       "      <td>JETBLUE AIRWAYS</td>\n",
       "      <td>21</td>\n",
       "      <td>NaN</td>\n",
       "      <td>NaN</td>\n",
       "    </tr>\n",
       "    <tr>\n",
       "      <td>25</td>\n",
       "      <td>NETJETS SALES</td>\n",
       "      <td>7</td>\n",
       "      <td>NaN</td>\n",
       "      <td>NaN</td>\n",
       "    </tr>\n",
       "    <tr>\n",
       "      <td>18</td>\n",
       "      <td>HORIZON AIR</td>\n",
       "      <td>5</td>\n",
       "      <td>5.0</td>\n",
       "      <td>0.0</td>\n",
       "    </tr>\n",
       "    <tr>\n",
       "      <td>13</td>\n",
       "      <td>FLEXJET</td>\n",
       "      <td>4</td>\n",
       "      <td>NaN</td>\n",
       "      <td>NaN</td>\n",
       "    </tr>\n",
       "    <tr>\n",
       "      <td>35</td>\n",
       "      <td>SKYWEST AILINES</td>\n",
       "      <td>4</td>\n",
       "      <td>NaN</td>\n",
       "      <td>NaN</td>\n",
       "    </tr>\n",
       "    <tr>\n",
       "      <td>40</td>\n",
       "      <td>UMB BANK NA TRUSTEE</td>\n",
       "      <td>4</td>\n",
       "      <td>NaN</td>\n",
       "      <td>NaN</td>\n",
       "    </tr>\n",
       "    <tr>\n",
       "      <td>42</td>\n",
       "      <td>US AIRWAYS</td>\n",
       "      <td>3</td>\n",
       "      <td>1.0</td>\n",
       "      <td>-67.0</td>\n",
       "    </tr>\n",
       "    <tr>\n",
       "      <td>17</td>\n",
       "      <td>HAWAIIAN AIRLINES</td>\n",
       "      <td>3</td>\n",
       "      <td>1.0</td>\n",
       "      <td>-67.0</td>\n",
       "    </tr>\n",
       "  </tbody>\n",
       "</table>\n",
       "</div>"
      ],
      "text/plain": [
       "                   name  before  after  change\n",
       "41      UNITED AIRLINES     187   26.0   -86.0\n",
       "36     SKYWEST AIRLINES     125   14.0   -89.0\n",
       "11      DELTA AIR LINES      50    9.0   -82.0\n",
       "38   SOUTHWEST AIRLINES      49    7.0   -86.0\n",
       "6     AMERICAN AIRLINES      44    5.0   -89.0\n",
       "4       ALASKA AIRLINES      31    1.0   -97.0\n",
       "44       VIRGIN AMERICA      23    NaN     NaN\n",
       "22      JETBLUE AIRWAYS      21    NaN     NaN\n",
       "25        NETJETS SALES       7    NaN     NaN\n",
       "18          HORIZON AIR       5    5.0     0.0\n",
       "13              FLEXJET       4    NaN     NaN\n",
       "35      SKYWEST AILINES       4    NaN     NaN\n",
       "40  UMB BANK NA TRUSTEE       4    NaN     NaN\n",
       "42           US AIRWAYS       3    1.0   -67.0\n",
       "17    HAWAIIAN AIRLINES       3    1.0   -67.0"
      ]
     },
     "execution_count": 202,
     "metadata": {},
     "output_type": "execute_result"
    }
   ],
   "source": [
    "before_after_sfo_merge.sort_values(by='before', ascending=False).head(15)"
   ]
  },
  {
   "cell_type": "code",
   "execution_count": 203,
   "metadata": {},
   "outputs": [],
   "source": [
    "sfo_pos_before_names.to_csv('output/table_sfo_pos_before_names.csv')\n",
    "sfo_pos_after_names.to_csv('output/table_sfo_pos_after_names.csv')"
   ]
  },
  {
   "cell_type": "markdown",
   "metadata": {},
   "source": [
    "### Top airlines before"
   ]
  },
  {
   "cell_type": "code",
   "execution_count": 204,
   "metadata": {},
   "outputs": [
    {
     "data": {
      "text/plain": [
       "599"
      ]
     },
     "execution_count": 204,
     "metadata": {},
     "output_type": "execute_result"
    }
   ],
   "source": [
    "sfo_pos_before_names.flights.sum()"
   ]
  },
  {
   "cell_type": "markdown",
   "metadata": {},
   "source": [
    "### Top airlines after"
   ]
  },
  {
   "cell_type": "code",
   "execution_count": 205,
   "metadata": {},
   "outputs": [
    {
     "data": {
      "text/plain": [
       "79"
      ]
     },
     "execution_count": 205,
     "metadata": {},
     "output_type": "execute_result"
    }
   ],
   "source": [
    "sfo_pos_after_names.flights.sum()"
   ]
  },
  {
   "cell_type": "markdown",
   "metadata": {},
   "source": [
    "### How much was the decline in total flights at SFO?"
   ]
  },
  {
   "cell_type": "code",
   "execution_count": 206,
   "metadata": {},
   "outputs": [
    {
     "data": {
      "text/plain": [
       "'-86.81%'"
      ]
     },
     "execution_count": 206,
     "metadata": {},
     "output_type": "execute_result"
    }
   ],
   "source": [
    "'{:,.2f}%'.format(((sfo_pos_after_names.flights.sum() - \\\n",
    "   sfo_pos_before_names.flights.sum())/sfo_pos_before_names.flights.sum()*100))"
   ]
  },
  {
   "cell_type": "markdown",
   "metadata": {},
   "source": [
    "---"
   ]
  },
  {
   "cell_type": "markdown",
   "metadata": {},
   "source": [
    "### What's still flying at SNA?"
   ]
  },
  {
   "cell_type": "code",
   "execution_count": 230,
   "metadata": {},
   "outputs": [],
   "source": [
    "sna_pos_after = positions_geo_after_line[positions_geo_after_line['schd_from'] == 'SNA']"
   ]
  },
  {
   "cell_type": "code",
   "execution_count": 231,
   "metadata": {},
   "outputs": [],
   "source": [
    "sna_pos_before = positions_geo_before_line[positions_geo_before_line['schd_from'] == 'SNA']"
   ]
  },
  {
   "cell_type": "code",
   "execution_count": 232,
   "metadata": {},
   "outputs": [],
   "source": [
    "sna_pos_after_names = sna_pos_after.groupby(['name']).agg('size').reset_index(name='flights')\n",
    "sna_pos_before_names = sna_pos_before.groupby(['name']).agg('size').reset_index(name='flights')"
   ]
  },
  {
   "cell_type": "code",
   "execution_count": 233,
   "metadata": {},
   "outputs": [
    {
     "data": {
      "text/html": [
       "<div>\n",
       "<style scoped>\n",
       "    .dataframe tbody tr th:only-of-type {\n",
       "        vertical-align: middle;\n",
       "    }\n",
       "\n",
       "    .dataframe tbody tr th {\n",
       "        vertical-align: top;\n",
       "    }\n",
       "\n",
       "    .dataframe thead th {\n",
       "        text-align: right;\n",
       "    }\n",
       "</style>\n",
       "<table border=\"1\" class=\"dataframe\">\n",
       "  <thead>\n",
       "    <tr style=\"text-align: right;\">\n",
       "      <th></th>\n",
       "      <th>name</th>\n",
       "      <th>flights</th>\n",
       "    </tr>\n",
       "  </thead>\n",
       "  <tbody>\n",
       "    <tr>\n",
       "      <td>69</td>\n",
       "      <td>SOUTHWEST AIRLINES</td>\n",
       "      <td>38</td>\n",
       "    </tr>\n",
       "    <tr>\n",
       "      <td>74</td>\n",
       "      <td>UNITED AIRLINES</td>\n",
       "      <td>19</td>\n",
       "    </tr>\n",
       "    <tr>\n",
       "      <td>21</td>\n",
       "      <td>DELTA AIR LINES</td>\n",
       "      <td>18</td>\n",
       "    </tr>\n",
       "    <tr>\n",
       "      <td>11</td>\n",
       "      <td>AMERICAN AIRLINES</td>\n",
       "      <td>16</td>\n",
       "    </tr>\n",
       "    <tr>\n",
       "      <td>68</td>\n",
       "      <td>SKYWEST AIRLINES</td>\n",
       "      <td>15</td>\n",
       "    </tr>\n",
       "    <tr>\n",
       "      <td>52</td>\n",
       "      <td>NETJETS SALES</td>\n",
       "      <td>6</td>\n",
       "    </tr>\n",
       "    <tr>\n",
       "      <td>9</td>\n",
       "      <td>ALASKA AIRLINES</td>\n",
       "      <td>6</td>\n",
       "    </tr>\n",
       "    <tr>\n",
       "      <td>6</td>\n",
       "      <td>AFS INVESTMENTS 56</td>\n",
       "      <td>3</td>\n",
       "    </tr>\n",
       "    <tr>\n",
       "      <td>81</td>\n",
       "      <td>VIRGIN AMERICA</td>\n",
       "      <td>3</td>\n",
       "    </tr>\n",
       "    <tr>\n",
       "      <td>43</td>\n",
       "      <td>JETSUITEX</td>\n",
       "      <td>3</td>\n",
       "    </tr>\n",
       "  </tbody>\n",
       "</table>\n",
       "</div>"
      ],
      "text/plain": [
       "                  name  flights\n",
       "69  SOUTHWEST AIRLINES       38\n",
       "74     UNITED AIRLINES       19\n",
       "21     DELTA AIR LINES       18\n",
       "11   AMERICAN AIRLINES       16\n",
       "68    SKYWEST AIRLINES       15\n",
       "52       NETJETS SALES        6\n",
       "9      ALASKA AIRLINES        6\n",
       "6   AFS INVESTMENTS 56        3\n",
       "81      VIRGIN AMERICA        3\n",
       "43           JETSUITEX        3"
      ]
     },
     "execution_count": 233,
     "metadata": {},
     "output_type": "execute_result"
    }
   ],
   "source": [
    "sna_pos_before_names.sort_values(by='flights', ascending=False).head(10)"
   ]
  },
  {
   "cell_type": "code",
   "execution_count": 234,
   "metadata": {},
   "outputs": [
    {
     "data": {
      "text/html": [
       "<div>\n",
       "<style scoped>\n",
       "    .dataframe tbody tr th:only-of-type {\n",
       "        vertical-align: middle;\n",
       "    }\n",
       "\n",
       "    .dataframe tbody tr th {\n",
       "        vertical-align: top;\n",
       "    }\n",
       "\n",
       "    .dataframe thead th {\n",
       "        text-align: right;\n",
       "    }\n",
       "</style>\n",
       "<table border=\"1\" class=\"dataframe\">\n",
       "  <thead>\n",
       "    <tr style=\"text-align: right;\">\n",
       "      <th></th>\n",
       "      <th>name</th>\n",
       "      <th>flights</th>\n",
       "    </tr>\n",
       "  </thead>\n",
       "  <tbody>\n",
       "    <tr>\n",
       "      <td>28</td>\n",
       "      <td>SOUTHWEST AIRLINES</td>\n",
       "      <td>9</td>\n",
       "    </tr>\n",
       "    <tr>\n",
       "      <td>2</td>\n",
       "      <td>AI DULIMBAI GASHA</td>\n",
       "      <td>4</td>\n",
       "    </tr>\n",
       "    <tr>\n",
       "      <td>22</td>\n",
       "      <td>ORANGE COUNTY FLIGHT CENTER DBA</td>\n",
       "      <td>2</td>\n",
       "    </tr>\n",
       "    <tr>\n",
       "      <td>4</td>\n",
       "      <td>AMERICAN AIRLINES</td>\n",
       "      <td>2</td>\n",
       "    </tr>\n",
       "    <tr>\n",
       "      <td>7</td>\n",
       "      <td>DELTA AIR LINES</td>\n",
       "      <td>2</td>\n",
       "    </tr>\n",
       "    <tr>\n",
       "      <td>8</td>\n",
       "      <td>DIAMOND STAR XL</td>\n",
       "      <td>2</td>\n",
       "    </tr>\n",
       "    <tr>\n",
       "      <td>31</td>\n",
       "      <td>UNITED AIRLINES</td>\n",
       "      <td>2</td>\n",
       "    </tr>\n",
       "    <tr>\n",
       "      <td>0</td>\n",
       "      <td>684CB</td>\n",
       "      <td>1</td>\n",
       "    </tr>\n",
       "    <tr>\n",
       "      <td>27</td>\n",
       "      <td>SLAMA KARL</td>\n",
       "      <td>1</td>\n",
       "    </tr>\n",
       "    <tr>\n",
       "      <td>23</td>\n",
       "      <td>PERFECT AGREEMENTS LEASING</td>\n",
       "      <td>1</td>\n",
       "    </tr>\n",
       "  </tbody>\n",
       "</table>\n",
       "</div>"
      ],
      "text/plain": [
       "                               name  flights\n",
       "28               SOUTHWEST AIRLINES        9\n",
       "2                 AI DULIMBAI GASHA        4\n",
       "22  ORANGE COUNTY FLIGHT CENTER DBA        2\n",
       "4                 AMERICAN AIRLINES        2\n",
       "7                   DELTA AIR LINES        2\n",
       "8                   DIAMOND STAR XL        2\n",
       "31                  UNITED AIRLINES        2\n",
       "0                             684CB        1\n",
       "27                       SLAMA KARL        1\n",
       "23       PERFECT AGREEMENTS LEASING        1"
      ]
     },
     "execution_count": 234,
     "metadata": {},
     "output_type": "execute_result"
    }
   ],
   "source": [
    "sna_pos_after_names.sort_values(by='flights', ascending=False).head(10)"
   ]
  },
  {
   "cell_type": "code",
   "execution_count": 235,
   "metadata": {},
   "outputs": [],
   "source": [
    "before_after_sna_merge = pd.merge(sna_pos_before_names, sna_pos_after_names, on='name', how='inner')"
   ]
  },
  {
   "cell_type": "code",
   "execution_count": 236,
   "metadata": {},
   "outputs": [],
   "source": [
    "before_after_sna_merge.rename(columns={\"flights_x\": \"before\", \"flights_y\": \"after\"}, inplace=True)"
   ]
  },
  {
   "cell_type": "code",
   "execution_count": 237,
   "metadata": {},
   "outputs": [
    {
     "data": {
      "text/html": [
       "<div>\n",
       "<style scoped>\n",
       "    .dataframe tbody tr th:only-of-type {\n",
       "        vertical-align: middle;\n",
       "    }\n",
       "\n",
       "    .dataframe tbody tr th {\n",
       "        vertical-align: top;\n",
       "    }\n",
       "\n",
       "    .dataframe thead th {\n",
       "        text-align: right;\n",
       "    }\n",
       "</style>\n",
       "<table border=\"1\" class=\"dataframe\">\n",
       "  <thead>\n",
       "    <tr style=\"text-align: right;\">\n",
       "      <th></th>\n",
       "      <th>name</th>\n",
       "      <th>before</th>\n",
       "      <th>after</th>\n",
       "    </tr>\n",
       "  </thead>\n",
       "  <tbody>\n",
       "    <tr>\n",
       "      <td>0</td>\n",
       "      <td>684CB</td>\n",
       "      <td>1</td>\n",
       "      <td>1</td>\n",
       "    </tr>\n",
       "    <tr>\n",
       "      <td>1</td>\n",
       "      <td>AI DULIMBAI GASHA</td>\n",
       "      <td>1</td>\n",
       "      <td>4</td>\n",
       "    </tr>\n",
       "    <tr>\n",
       "      <td>2</td>\n",
       "      <td>AMERICAN AIRLINES</td>\n",
       "      <td>16</td>\n",
       "      <td>2</td>\n",
       "    </tr>\n",
       "    <tr>\n",
       "      <td>3</td>\n",
       "      <td>DELTA AIR LINES</td>\n",
       "      <td>18</td>\n",
       "      <td>2</td>\n",
       "    </tr>\n",
       "    <tr>\n",
       "      <td>4</td>\n",
       "      <td>DIAMOND STAR XL</td>\n",
       "      <td>1</td>\n",
       "      <td>2</td>\n",
       "    </tr>\n",
       "    <tr>\n",
       "      <td>5</td>\n",
       "      <td>HORIZON AIR</td>\n",
       "      <td>2</td>\n",
       "      <td>1</td>\n",
       "    </tr>\n",
       "    <tr>\n",
       "      <td>6</td>\n",
       "      <td>NETJETS SALES</td>\n",
       "      <td>6</td>\n",
       "      <td>1</td>\n",
       "    </tr>\n",
       "    <tr>\n",
       "      <td>7</td>\n",
       "      <td>ORANGE COUNTY FLIGHT CENTER DBA</td>\n",
       "      <td>1</td>\n",
       "      <td>2</td>\n",
       "    </tr>\n",
       "    <tr>\n",
       "      <td>8</td>\n",
       "      <td>PERFECT AGREEMENTS LEASING</td>\n",
       "      <td>2</td>\n",
       "      <td>1</td>\n",
       "    </tr>\n",
       "    <tr>\n",
       "      <td>9</td>\n",
       "      <td>SKYWEST AIRLINES</td>\n",
       "      <td>15</td>\n",
       "      <td>1</td>\n",
       "    </tr>\n",
       "    <tr>\n",
       "      <td>10</td>\n",
       "      <td>SOUTHWEST AIRLINES</td>\n",
       "      <td>38</td>\n",
       "      <td>9</td>\n",
       "    </tr>\n",
       "    <tr>\n",
       "      <td>11</td>\n",
       "      <td>UNITED AIRLINES</td>\n",
       "      <td>19</td>\n",
       "      <td>2</td>\n",
       "    </tr>\n",
       "  </tbody>\n",
       "</table>\n",
       "</div>"
      ],
      "text/plain": [
       "                               name  before  after\n",
       "0                             684CB       1      1\n",
       "1                 AI DULIMBAI GASHA       1      4\n",
       "2                 AMERICAN AIRLINES      16      2\n",
       "3                   DELTA AIR LINES      18      2\n",
       "4                   DIAMOND STAR XL       1      2\n",
       "5                       HORIZON AIR       2      1\n",
       "6                     NETJETS SALES       6      1\n",
       "7   ORANGE COUNTY FLIGHT CENTER DBA       1      2\n",
       "8        PERFECT AGREEMENTS LEASING       2      1\n",
       "9                  SKYWEST AIRLINES      15      1\n",
       "10               SOUTHWEST AIRLINES      38      9\n",
       "11                  UNITED AIRLINES      19      2"
      ]
     },
     "execution_count": 237,
     "metadata": {},
     "output_type": "execute_result"
    }
   ],
   "source": [
    "before_after_sna_merge.head(50)"
   ]
  },
  {
   "cell_type": "code",
   "execution_count": 238,
   "metadata": {},
   "outputs": [],
   "source": [
    "before_after_sna_merge['change'] = \\\n",
    "((before_after_sna_merge['after'] - before_after_sna_merge['before'])/\\\n",
    " before_after_sna_merge['before']*100).round(2)"
   ]
  },
  {
   "cell_type": "code",
   "execution_count": 239,
   "metadata": {},
   "outputs": [],
   "source": [
    "before_after_sna_merge.sort_values(by='before', ascending=False).to_csv('output/sna_before_after_webtable.csv', index=False)"
   ]
  },
  {
   "cell_type": "code",
   "execution_count": 240,
   "metadata": {},
   "outputs": [
    {
     "data": {
      "text/html": [
       "<div>\n",
       "<style scoped>\n",
       "    .dataframe tbody tr th:only-of-type {\n",
       "        vertical-align: middle;\n",
       "    }\n",
       "\n",
       "    .dataframe tbody tr th {\n",
       "        vertical-align: top;\n",
       "    }\n",
       "\n",
       "    .dataframe thead th {\n",
       "        text-align: right;\n",
       "    }\n",
       "</style>\n",
       "<table border=\"1\" class=\"dataframe\">\n",
       "  <thead>\n",
       "    <tr style=\"text-align: right;\">\n",
       "      <th></th>\n",
       "      <th>name</th>\n",
       "      <th>before</th>\n",
       "      <th>after</th>\n",
       "      <th>change</th>\n",
       "    </tr>\n",
       "  </thead>\n",
       "  <tbody>\n",
       "    <tr>\n",
       "      <td>10</td>\n",
       "      <td>SOUTHWEST AIRLINES</td>\n",
       "      <td>38</td>\n",
       "      <td>9</td>\n",
       "      <td>-76.32</td>\n",
       "    </tr>\n",
       "    <tr>\n",
       "      <td>11</td>\n",
       "      <td>UNITED AIRLINES</td>\n",
       "      <td>19</td>\n",
       "      <td>2</td>\n",
       "      <td>-89.47</td>\n",
       "    </tr>\n",
       "    <tr>\n",
       "      <td>3</td>\n",
       "      <td>DELTA AIR LINES</td>\n",
       "      <td>18</td>\n",
       "      <td>2</td>\n",
       "      <td>-88.89</td>\n",
       "    </tr>\n",
       "    <tr>\n",
       "      <td>2</td>\n",
       "      <td>AMERICAN AIRLINES</td>\n",
       "      <td>16</td>\n",
       "      <td>2</td>\n",
       "      <td>-87.50</td>\n",
       "    </tr>\n",
       "    <tr>\n",
       "      <td>9</td>\n",
       "      <td>SKYWEST AIRLINES</td>\n",
       "      <td>15</td>\n",
       "      <td>1</td>\n",
       "      <td>-93.33</td>\n",
       "    </tr>\n",
       "    <tr>\n",
       "      <td>6</td>\n",
       "      <td>NETJETS SALES</td>\n",
       "      <td>6</td>\n",
       "      <td>1</td>\n",
       "      <td>-83.33</td>\n",
       "    </tr>\n",
       "    <tr>\n",
       "      <td>5</td>\n",
       "      <td>HORIZON AIR</td>\n",
       "      <td>2</td>\n",
       "      <td>1</td>\n",
       "      <td>-50.00</td>\n",
       "    </tr>\n",
       "    <tr>\n",
       "      <td>8</td>\n",
       "      <td>PERFECT AGREEMENTS LEASING</td>\n",
       "      <td>2</td>\n",
       "      <td>1</td>\n",
       "      <td>-50.00</td>\n",
       "    </tr>\n",
       "    <tr>\n",
       "      <td>0</td>\n",
       "      <td>684CB</td>\n",
       "      <td>1</td>\n",
       "      <td>1</td>\n",
       "      <td>0.00</td>\n",
       "    </tr>\n",
       "    <tr>\n",
       "      <td>1</td>\n",
       "      <td>AI DULIMBAI GASHA</td>\n",
       "      <td>1</td>\n",
       "      <td>4</td>\n",
       "      <td>300.00</td>\n",
       "    </tr>\n",
       "  </tbody>\n",
       "</table>\n",
       "</div>"
      ],
      "text/plain": [
       "                          name  before  after  change\n",
       "10          SOUTHWEST AIRLINES      38      9  -76.32\n",
       "11             UNITED AIRLINES      19      2  -89.47\n",
       "3              DELTA AIR LINES      18      2  -88.89\n",
       "2            AMERICAN AIRLINES      16      2  -87.50\n",
       "9             SKYWEST AIRLINES      15      1  -93.33\n",
       "6                NETJETS SALES       6      1  -83.33\n",
       "5                  HORIZON AIR       2      1  -50.00\n",
       "8   PERFECT AGREEMENTS LEASING       2      1  -50.00\n",
       "0                        684CB       1      1    0.00\n",
       "1            AI DULIMBAI GASHA       1      4  300.00"
      ]
     },
     "execution_count": 240,
     "metadata": {},
     "output_type": "execute_result"
    }
   ],
   "source": [
    "before_after_sna_merge.sort_values(by='before', ascending=False).head(10)"
   ]
  },
  {
   "cell_type": "code",
   "execution_count": 218,
   "metadata": {},
   "outputs": [],
   "source": [
    "sna_pos_before_names.to_csv('output/table_sna_pos_before_names.csv')\n",
    "sna_pos_after_names.to_csv('output/table_sna_pos_after_names.csv')"
   ]
  },
  {
   "cell_type": "markdown",
   "metadata": {},
   "source": [
    "### Top airlines before"
   ]
  },
  {
   "cell_type": "code",
   "execution_count": 219,
   "metadata": {},
   "outputs": [
    {
     "data": {
      "text/plain": [
       "209"
      ]
     },
     "execution_count": 219,
     "metadata": {},
     "output_type": "execute_result"
    }
   ],
   "source": [
    "sna_pos_before_names.flights.sum()"
   ]
  },
  {
   "cell_type": "markdown",
   "metadata": {},
   "source": [
    "### Top airlines after"
   ]
  },
  {
   "cell_type": "code",
   "execution_count": 220,
   "metadata": {},
   "outputs": [
    {
     "data": {
      "text/plain": [
       "52"
      ]
     },
     "execution_count": 220,
     "metadata": {},
     "output_type": "execute_result"
    }
   ],
   "source": [
    "sna_pos_after_names.flights.sum()"
   ]
  },
  {
   "cell_type": "markdown",
   "metadata": {},
   "source": [
    "### How much was the decline in total flights at SFO?"
   ]
  },
  {
   "cell_type": "code",
   "execution_count": 221,
   "metadata": {},
   "outputs": [
    {
     "data": {
      "text/plain": [
       "'-75.12%'"
      ]
     },
     "execution_count": 221,
     "metadata": {},
     "output_type": "execute_result"
    }
   ],
   "source": [
    "'{:,.2f}%'.format(((sna_pos_after_names.flights.sum() - \\\n",
    "   sna_pos_before_names.flights.sum())/sna_pos_before_names.flights.sum()*100))"
   ]
  },
  {
   "cell_type": "markdown",
   "metadata": {},
   "source": [
    "### What's still flying at ONA?"
   ]
  },
  {
   "cell_type": "code",
   "execution_count": 241,
   "metadata": {},
   "outputs": [],
   "source": [
    "ont_pos_after = positions_geo_after_line[positions_geo_after_line['schd_from'] == 'ONT']"
   ]
  },
  {
   "cell_type": "code",
   "execution_count": 242,
   "metadata": {},
   "outputs": [],
   "source": [
    "ont_pos_before = positions_geo_before_line[positions_geo_before_line['schd_from'] == 'ONT']"
   ]
  },
  {
   "cell_type": "code",
   "execution_count": 244,
   "metadata": {},
   "outputs": [],
   "source": [
    "ont_pos_after_names = ont_pos_after.groupby(['name']).agg('size').reset_index(name='flights')\n",
    "ont_pos_before_names = ont_pos_before.groupby(['name']).agg('size').reset_index(name='flights')"
   ]
  },
  {
   "cell_type": "code",
   "execution_count": 245,
   "metadata": {},
   "outputs": [
    {
     "data": {
      "text/html": [
       "<div>\n",
       "<style scoped>\n",
       "    .dataframe tbody tr th:only-of-type {\n",
       "        vertical-align: middle;\n",
       "    }\n",
       "\n",
       "    .dataframe tbody tr th {\n",
       "        vertical-align: top;\n",
       "    }\n",
       "\n",
       "    .dataframe thead th {\n",
       "        text-align: right;\n",
       "    }\n",
       "</style>\n",
       "<table border=\"1\" class=\"dataframe\">\n",
       "  <thead>\n",
       "    <tr style=\"text-align: right;\">\n",
       "      <th></th>\n",
       "      <th>name</th>\n",
       "      <th>flights</th>\n",
       "    </tr>\n",
       "  </thead>\n",
       "  <tbody>\n",
       "    <tr>\n",
       "      <td>20</td>\n",
       "      <td>SOUTHWEST AIRLINES</td>\n",
       "      <td>33</td>\n",
       "    </tr>\n",
       "    <tr>\n",
       "      <td>26</td>\n",
       "      <td>UNITED PARCEL SERVICE</td>\n",
       "      <td>31</td>\n",
       "    </tr>\n",
       "    <tr>\n",
       "      <td>11</td>\n",
       "      <td>FEDERAL EXPRESS</td>\n",
       "      <td>17</td>\n",
       "    </tr>\n",
       "    <tr>\n",
       "      <td>7</td>\n",
       "      <td>CARGO AIRCRAFT MANAGEMENT</td>\n",
       "      <td>10</td>\n",
       "    </tr>\n",
       "    <tr>\n",
       "      <td>4</td>\n",
       "      <td>AMERICAN AIRLINES</td>\n",
       "      <td>8</td>\n",
       "    </tr>\n",
       "    <tr>\n",
       "      <td>6</td>\n",
       "      <td>C C &amp; E I</td>\n",
       "      <td>8</td>\n",
       "    </tr>\n",
       "    <tr>\n",
       "      <td>19</td>\n",
       "      <td>SKYWEST AIRLINES</td>\n",
       "      <td>8</td>\n",
       "    </tr>\n",
       "    <tr>\n",
       "      <td>24</td>\n",
       "      <td>UAS TRANSERVICES</td>\n",
       "      <td>6</td>\n",
       "    </tr>\n",
       "    <tr>\n",
       "      <td>1</td>\n",
       "      <td>ALASKA AIRLINES</td>\n",
       "      <td>5</td>\n",
       "    </tr>\n",
       "    <tr>\n",
       "      <td>22</td>\n",
       "      <td>U S BANK NA TRUSTEE</td>\n",
       "      <td>4</td>\n",
       "    </tr>\n",
       "  </tbody>\n",
       "</table>\n",
       "</div>"
      ],
      "text/plain": [
       "                         name  flights\n",
       "20         SOUTHWEST AIRLINES       33\n",
       "26      UNITED PARCEL SERVICE       31\n",
       "11            FEDERAL EXPRESS       17\n",
       "7   CARGO AIRCRAFT MANAGEMENT       10\n",
       "4           AMERICAN AIRLINES        8\n",
       "6                   C C & E I        8\n",
       "19           SKYWEST AIRLINES        8\n",
       "24           UAS TRANSERVICES        6\n",
       "1             ALASKA AIRLINES        5\n",
       "22        U S BANK NA TRUSTEE        4"
      ]
     },
     "execution_count": 245,
     "metadata": {},
     "output_type": "execute_result"
    }
   ],
   "source": [
    "ont_pos_before_names.sort_values(by='flights', ascending=False).head(10)"
   ]
  },
  {
   "cell_type": "code",
   "execution_count": 246,
   "metadata": {},
   "outputs": [
    {
     "data": {
      "text/html": [
       "<div>\n",
       "<style scoped>\n",
       "    .dataframe tbody tr th:only-of-type {\n",
       "        vertical-align: middle;\n",
       "    }\n",
       "\n",
       "    .dataframe tbody tr th {\n",
       "        vertical-align: top;\n",
       "    }\n",
       "\n",
       "    .dataframe thead th {\n",
       "        text-align: right;\n",
       "    }\n",
       "</style>\n",
       "<table border=\"1\" class=\"dataframe\">\n",
       "  <thead>\n",
       "    <tr style=\"text-align: right;\">\n",
       "      <th></th>\n",
       "      <th>name</th>\n",
       "      <th>flights</th>\n",
       "    </tr>\n",
       "  </thead>\n",
       "  <tbody>\n",
       "    <tr>\n",
       "      <td>14</td>\n",
       "      <td>UNITED PARCEL SERVICE</td>\n",
       "      <td>26</td>\n",
       "    </tr>\n",
       "    <tr>\n",
       "      <td>6</td>\n",
       "      <td>FEDERAL EXPRESS</td>\n",
       "      <td>14</td>\n",
       "    </tr>\n",
       "    <tr>\n",
       "      <td>12</td>\n",
       "      <td>SOUTHWEST AIRLINES</td>\n",
       "      <td>9</td>\n",
       "    </tr>\n",
       "    <tr>\n",
       "      <td>4</td>\n",
       "      <td>C C &amp; E I</td>\n",
       "      <td>8</td>\n",
       "    </tr>\n",
       "    <tr>\n",
       "      <td>5</td>\n",
       "      <td>CARGO AIRCRAFT MANAGEMENT</td>\n",
       "      <td>6</td>\n",
       "    </tr>\n",
       "    <tr>\n",
       "      <td>13</td>\n",
       "      <td>UAS TRANSERVICES</td>\n",
       "      <td>5</td>\n",
       "    </tr>\n",
       "    <tr>\n",
       "      <td>11</td>\n",
       "      <td>SKYWEST AIRLINES</td>\n",
       "      <td>4</td>\n",
       "    </tr>\n",
       "    <tr>\n",
       "      <td>1</td>\n",
       "      <td>AMERICAN AIRLINES</td>\n",
       "      <td>3</td>\n",
       "    </tr>\n",
       "    <tr>\n",
       "      <td>0</td>\n",
       "      <td>ALPINE AVIATION</td>\n",
       "      <td>1</td>\n",
       "    </tr>\n",
       "    <tr>\n",
       "      <td>2</td>\n",
       "      <td>ANDROMEDA LEASING I</td>\n",
       "      <td>1</td>\n",
       "    </tr>\n",
       "  </tbody>\n",
       "</table>\n",
       "</div>"
      ],
      "text/plain": [
       "                         name  flights\n",
       "14      UNITED PARCEL SERVICE       26\n",
       "6             FEDERAL EXPRESS       14\n",
       "12         SOUTHWEST AIRLINES        9\n",
       "4                   C C & E I        8\n",
       "5   CARGO AIRCRAFT MANAGEMENT        6\n",
       "13           UAS TRANSERVICES        5\n",
       "11           SKYWEST AIRLINES        4\n",
       "1           AMERICAN AIRLINES        3\n",
       "0             ALPINE AVIATION        1\n",
       "2         ANDROMEDA LEASING I        1"
      ]
     },
     "execution_count": 246,
     "metadata": {},
     "output_type": "execute_result"
    }
   ],
   "source": [
    "ont_pos_after_names.sort_values(by='flights', ascending=False).head(10)"
   ]
  },
  {
   "cell_type": "code",
   "execution_count": 262,
   "metadata": {},
   "outputs": [],
   "source": [
    "before_after_ont_merge = pd.merge(ont_pos_before_names, ont_pos_after_names, on='name', how='left')"
   ]
  },
  {
   "cell_type": "code",
   "execution_count": 263,
   "metadata": {},
   "outputs": [],
   "source": [
    "before_after_ont_merge.rename(columns={\"flights_x\": \"before\", \"flights_y\": \"after\"}, inplace=True)"
   ]
  },
  {
   "cell_type": "code",
   "execution_count": 264,
   "metadata": {},
   "outputs": [
    {
     "data": {
      "text/html": [
       "<div>\n",
       "<style scoped>\n",
       "    .dataframe tbody tr th:only-of-type {\n",
       "        vertical-align: middle;\n",
       "    }\n",
       "\n",
       "    .dataframe tbody tr th {\n",
       "        vertical-align: top;\n",
       "    }\n",
       "\n",
       "    .dataframe thead th {\n",
       "        text-align: right;\n",
       "    }\n",
       "</style>\n",
       "<table border=\"1\" class=\"dataframe\">\n",
       "  <thead>\n",
       "    <tr style=\"text-align: right;\">\n",
       "      <th></th>\n",
       "      <th>name</th>\n",
       "      <th>before</th>\n",
       "      <th>after</th>\n",
       "    </tr>\n",
       "  </thead>\n",
       "  <tbody>\n",
       "    <tr>\n",
       "      <td>0</td>\n",
       "      <td>AFS INVESTMENTS 57</td>\n",
       "      <td>1</td>\n",
       "      <td>NaN</td>\n",
       "    </tr>\n",
       "    <tr>\n",
       "      <td>1</td>\n",
       "      <td>ALASKA AIRLINES</td>\n",
       "      <td>5</td>\n",
       "      <td>NaN</td>\n",
       "    </tr>\n",
       "    <tr>\n",
       "      <td>2</td>\n",
       "      <td>ALPHA BRAVO AVIATION PREMIER</td>\n",
       "      <td>1</td>\n",
       "      <td>NaN</td>\n",
       "    </tr>\n",
       "    <tr>\n",
       "      <td>3</td>\n",
       "      <td>ALPINE AVIATION</td>\n",
       "      <td>1</td>\n",
       "      <td>1.0</td>\n",
       "    </tr>\n",
       "    <tr>\n",
       "      <td>4</td>\n",
       "      <td>AMERICAN AIRLINES</td>\n",
       "      <td>8</td>\n",
       "      <td>3.0</td>\n",
       "    </tr>\n",
       "    <tr>\n",
       "      <td>5</td>\n",
       "      <td>ANDROMEDA LEASING I</td>\n",
       "      <td>2</td>\n",
       "      <td>1.0</td>\n",
       "    </tr>\n",
       "    <tr>\n",
       "      <td>6</td>\n",
       "      <td>C C &amp; E I</td>\n",
       "      <td>8</td>\n",
       "      <td>8.0</td>\n",
       "    </tr>\n",
       "    <tr>\n",
       "      <td>7</td>\n",
       "      <td>CARGO AIRCRAFT MANAGEMENT</td>\n",
       "      <td>10</td>\n",
       "      <td>6.0</td>\n",
       "    </tr>\n",
       "    <tr>\n",
       "      <td>8</td>\n",
       "      <td>CC&amp;EI</td>\n",
       "      <td>1</td>\n",
       "      <td>NaN</td>\n",
       "    </tr>\n",
       "    <tr>\n",
       "      <td>9</td>\n",
       "      <td>DELTA AIR LINES</td>\n",
       "      <td>3</td>\n",
       "      <td>NaN</td>\n",
       "    </tr>\n",
       "    <tr>\n",
       "      <td>10</td>\n",
       "      <td>EFS AIRCRAFT LEASING</td>\n",
       "      <td>2</td>\n",
       "      <td>NaN</td>\n",
       "    </tr>\n",
       "    <tr>\n",
       "      <td>11</td>\n",
       "      <td>FEDERAL EXPRESS</td>\n",
       "      <td>17</td>\n",
       "      <td>14.0</td>\n",
       "    </tr>\n",
       "    <tr>\n",
       "      <td>12</td>\n",
       "      <td>FRONTIER AIRLINES</td>\n",
       "      <td>1</td>\n",
       "      <td>NaN</td>\n",
       "    </tr>\n",
       "    <tr>\n",
       "      <td>13</td>\n",
       "      <td>HENDRICK MOTORSPORTS</td>\n",
       "      <td>1</td>\n",
       "      <td>NaN</td>\n",
       "    </tr>\n",
       "    <tr>\n",
       "      <td>14</td>\n",
       "      <td>JETBLUE AIRWAYS</td>\n",
       "      <td>1</td>\n",
       "      <td>NaN</td>\n",
       "    </tr>\n",
       "    <tr>\n",
       "      <td>15</td>\n",
       "      <td>MANDALAY RESORT GROUP</td>\n",
       "      <td>1</td>\n",
       "      <td>NaN</td>\n",
       "    </tr>\n",
       "    <tr>\n",
       "      <td>16</td>\n",
       "      <td>MSN 26206</td>\n",
       "      <td>1</td>\n",
       "      <td>1.0</td>\n",
       "    </tr>\n",
       "    <tr>\n",
       "      <td>17</td>\n",
       "      <td>REGIONS BANK TRUSTEE</td>\n",
       "      <td>1</td>\n",
       "      <td>NaN</td>\n",
       "    </tr>\n",
       "    <tr>\n",
       "      <td>18</td>\n",
       "      <td>SCOTT AIR</td>\n",
       "      <td>1</td>\n",
       "      <td>NaN</td>\n",
       "    </tr>\n",
       "    <tr>\n",
       "      <td>19</td>\n",
       "      <td>SKYWEST AIRLINES</td>\n",
       "      <td>8</td>\n",
       "      <td>4.0</td>\n",
       "    </tr>\n",
       "    <tr>\n",
       "      <td>20</td>\n",
       "      <td>SOUTHWEST AIRLINES</td>\n",
       "      <td>33</td>\n",
       "      <td>9.0</td>\n",
       "    </tr>\n",
       "    <tr>\n",
       "      <td>21</td>\n",
       "      <td>SUN COUNTRY</td>\n",
       "      <td>1</td>\n",
       "      <td>NaN</td>\n",
       "    </tr>\n",
       "    <tr>\n",
       "      <td>22</td>\n",
       "      <td>U S BANK NA TRUSTEE</td>\n",
       "      <td>4</td>\n",
       "      <td>NaN</td>\n",
       "    </tr>\n",
       "    <tr>\n",
       "      <td>23</td>\n",
       "      <td>U S BANK NATIONAL ASSOCIATION TRUSTEE</td>\n",
       "      <td>1</td>\n",
       "      <td>NaN</td>\n",
       "    </tr>\n",
       "    <tr>\n",
       "      <td>24</td>\n",
       "      <td>UAS TRANSERVICES</td>\n",
       "      <td>6</td>\n",
       "      <td>5.0</td>\n",
       "    </tr>\n",
       "    <tr>\n",
       "      <td>25</td>\n",
       "      <td>UNITED AIRLINES</td>\n",
       "      <td>3</td>\n",
       "      <td>NaN</td>\n",
       "    </tr>\n",
       "    <tr>\n",
       "      <td>26</td>\n",
       "      <td>UNITED PARCEL SERVICE</td>\n",
       "      <td>31</td>\n",
       "      <td>26.0</td>\n",
       "    </tr>\n",
       "    <tr>\n",
       "      <td>27</td>\n",
       "      <td>UNITED PARCEL SERVICE OC</td>\n",
       "      <td>1</td>\n",
       "      <td>NaN</td>\n",
       "    </tr>\n",
       "    <tr>\n",
       "      <td>28</td>\n",
       "      <td>VICTORY OUTREACH LA PUENTE</td>\n",
       "      <td>1</td>\n",
       "      <td>NaN</td>\n",
       "    </tr>\n",
       "  </tbody>\n",
       "</table>\n",
       "</div>"
      ],
      "text/plain": [
       "                                     name  before  after\n",
       "0                      AFS INVESTMENTS 57       1    NaN\n",
       "1                         ALASKA AIRLINES       5    NaN\n",
       "2            ALPHA BRAVO AVIATION PREMIER       1    NaN\n",
       "3                         ALPINE AVIATION       1    1.0\n",
       "4                       AMERICAN AIRLINES       8    3.0\n",
       "5                     ANDROMEDA LEASING I       2    1.0\n",
       "6                               C C & E I       8    8.0\n",
       "7               CARGO AIRCRAFT MANAGEMENT      10    6.0\n",
       "8                                   CC&EI       1    NaN\n",
       "9                         DELTA AIR LINES       3    NaN\n",
       "10                   EFS AIRCRAFT LEASING       2    NaN\n",
       "11                        FEDERAL EXPRESS      17   14.0\n",
       "12                      FRONTIER AIRLINES       1    NaN\n",
       "13                   HENDRICK MOTORSPORTS       1    NaN\n",
       "14                        JETBLUE AIRWAYS       1    NaN\n",
       "15                  MANDALAY RESORT GROUP       1    NaN\n",
       "16                              MSN 26206       1    1.0\n",
       "17                   REGIONS BANK TRUSTEE       1    NaN\n",
       "18                              SCOTT AIR       1    NaN\n",
       "19                       SKYWEST AIRLINES       8    4.0\n",
       "20                     SOUTHWEST AIRLINES      33    9.0\n",
       "21                            SUN COUNTRY       1    NaN\n",
       "22                    U S BANK NA TRUSTEE       4    NaN\n",
       "23  U S BANK NATIONAL ASSOCIATION TRUSTEE       1    NaN\n",
       "24                       UAS TRANSERVICES       6    5.0\n",
       "25                        UNITED AIRLINES       3    NaN\n",
       "26                  UNITED PARCEL SERVICE      31   26.0\n",
       "27               UNITED PARCEL SERVICE OC       1    NaN\n",
       "28             VICTORY OUTREACH LA PUENTE       1    NaN"
      ]
     },
     "execution_count": 264,
     "metadata": {},
     "output_type": "execute_result"
    }
   ],
   "source": [
    "before_after_ont_merge.head(50)"
   ]
  },
  {
   "cell_type": "code",
   "execution_count": 265,
   "metadata": {},
   "outputs": [],
   "source": [
    "before_after_ont_merge['change'] = \\\n",
    "((before_after_ont_merge['after'] - before_after_ont_merge['before'])/\\\n",
    " before_after_ont_merge['before']*100).round(2)"
   ]
  },
  {
   "cell_type": "code",
   "execution_count": 266,
   "metadata": {},
   "outputs": [],
   "source": [
    "before_after_ont_merge.sort_values(by='before', ascending=False).to_csv('output/ont_before_after_webtable.csv', index=False)"
   ]
  },
  {
   "cell_type": "code",
   "execution_count": 267,
   "metadata": {},
   "outputs": [
    {
     "data": {
      "text/html": [
       "<div>\n",
       "<style scoped>\n",
       "    .dataframe tbody tr th:only-of-type {\n",
       "        vertical-align: middle;\n",
       "    }\n",
       "\n",
       "    .dataframe tbody tr th {\n",
       "        vertical-align: top;\n",
       "    }\n",
       "\n",
       "    .dataframe thead th {\n",
       "        text-align: right;\n",
       "    }\n",
       "</style>\n",
       "<table border=\"1\" class=\"dataframe\">\n",
       "  <thead>\n",
       "    <tr style=\"text-align: right;\">\n",
       "      <th></th>\n",
       "      <th>name</th>\n",
       "      <th>before</th>\n",
       "      <th>after</th>\n",
       "      <th>change</th>\n",
       "    </tr>\n",
       "  </thead>\n",
       "  <tbody>\n",
       "    <tr>\n",
       "      <td>20</td>\n",
       "      <td>SOUTHWEST AIRLINES</td>\n",
       "      <td>33</td>\n",
       "      <td>9.0</td>\n",
       "      <td>-72.73</td>\n",
       "    </tr>\n",
       "    <tr>\n",
       "      <td>26</td>\n",
       "      <td>UNITED PARCEL SERVICE</td>\n",
       "      <td>31</td>\n",
       "      <td>26.0</td>\n",
       "      <td>-16.13</td>\n",
       "    </tr>\n",
       "    <tr>\n",
       "      <td>11</td>\n",
       "      <td>FEDERAL EXPRESS</td>\n",
       "      <td>17</td>\n",
       "      <td>14.0</td>\n",
       "      <td>-17.65</td>\n",
       "    </tr>\n",
       "    <tr>\n",
       "      <td>7</td>\n",
       "      <td>CARGO AIRCRAFT MANAGEMENT</td>\n",
       "      <td>10</td>\n",
       "      <td>6.0</td>\n",
       "      <td>-40.00</td>\n",
       "    </tr>\n",
       "    <tr>\n",
       "      <td>4</td>\n",
       "      <td>AMERICAN AIRLINES</td>\n",
       "      <td>8</td>\n",
       "      <td>3.0</td>\n",
       "      <td>-62.50</td>\n",
       "    </tr>\n",
       "    <tr>\n",
       "      <td>6</td>\n",
       "      <td>C C &amp; E I</td>\n",
       "      <td>8</td>\n",
       "      <td>8.0</td>\n",
       "      <td>0.00</td>\n",
       "    </tr>\n",
       "    <tr>\n",
       "      <td>19</td>\n",
       "      <td>SKYWEST AIRLINES</td>\n",
       "      <td>8</td>\n",
       "      <td>4.0</td>\n",
       "      <td>-50.00</td>\n",
       "    </tr>\n",
       "    <tr>\n",
       "      <td>24</td>\n",
       "      <td>UAS TRANSERVICES</td>\n",
       "      <td>6</td>\n",
       "      <td>5.0</td>\n",
       "      <td>-16.67</td>\n",
       "    </tr>\n",
       "    <tr>\n",
       "      <td>1</td>\n",
       "      <td>ALASKA AIRLINES</td>\n",
       "      <td>5</td>\n",
       "      <td>NaN</td>\n",
       "      <td>NaN</td>\n",
       "    </tr>\n",
       "    <tr>\n",
       "      <td>22</td>\n",
       "      <td>U S BANK NA TRUSTEE</td>\n",
       "      <td>4</td>\n",
       "      <td>NaN</td>\n",
       "      <td>NaN</td>\n",
       "    </tr>\n",
       "  </tbody>\n",
       "</table>\n",
       "</div>"
      ],
      "text/plain": [
       "                         name  before  after  change\n",
       "20         SOUTHWEST AIRLINES      33    9.0  -72.73\n",
       "26      UNITED PARCEL SERVICE      31   26.0  -16.13\n",
       "11            FEDERAL EXPRESS      17   14.0  -17.65\n",
       "7   CARGO AIRCRAFT MANAGEMENT      10    6.0  -40.00\n",
       "4           AMERICAN AIRLINES       8    3.0  -62.50\n",
       "6                   C C & E I       8    8.0    0.00\n",
       "19           SKYWEST AIRLINES       8    4.0  -50.00\n",
       "24           UAS TRANSERVICES       6    5.0  -16.67\n",
       "1             ALASKA AIRLINES       5    NaN     NaN\n",
       "22        U S BANK NA TRUSTEE       4    NaN     NaN"
      ]
     },
     "execution_count": 267,
     "metadata": {},
     "output_type": "execute_result"
    }
   ],
   "source": [
    "before_after_ont_merge.sort_values(by='before', ascending=False).head(10)"
   ]
  },
  {
   "cell_type": "code",
   "execution_count": 258,
   "metadata": {},
   "outputs": [],
   "source": [
    "ont_pos_before_names.to_csv('output/table_ont_pos_before_names.csv')\n",
    "ont_pos_after_names.to_csv('output/table_ont_pos_after_names.csv')"
   ]
  },
  {
   "cell_type": "markdown",
   "metadata": {},
   "source": [
    "### Top airlines before"
   ]
  },
  {
   "cell_type": "code",
   "execution_count": 259,
   "metadata": {},
   "outputs": [
    {
     "data": {
      "text/plain": [
       "155"
      ]
     },
     "execution_count": 259,
     "metadata": {},
     "output_type": "execute_result"
    }
   ],
   "source": [
    "ont_pos_before_names.flights.sum()"
   ]
  },
  {
   "cell_type": "markdown",
   "metadata": {},
   "source": [
    "### Top airlines after"
   ]
  },
  {
   "cell_type": "code",
   "execution_count": 260,
   "metadata": {},
   "outputs": [
    {
     "data": {
      "text/plain": [
       "83"
      ]
     },
     "execution_count": 260,
     "metadata": {},
     "output_type": "execute_result"
    }
   ],
   "source": [
    "ont_pos_after_names.flights.sum()"
   ]
  },
  {
   "cell_type": "markdown",
   "metadata": {},
   "source": [
    "### How much was the decline in total flights at SFO?"
   ]
  },
  {
   "cell_type": "code",
   "execution_count": 261,
   "metadata": {},
   "outputs": [
    {
     "data": {
      "text/plain": [
       "'-46.45%'"
      ]
     },
     "execution_count": 261,
     "metadata": {},
     "output_type": "execute_result"
    }
   ],
   "source": [
    "'{:,.2f}%'.format(((ont_pos_after_names.flights.sum() - \\\n",
    "   ont_pos_before_names.flights.sum())/ont_pos_before_names.flights.sum()*100))"
   ]
  },
  {
   "cell_type": "markdown",
   "metadata": {},
   "source": [
    "---"
   ]
  },
  {
   "cell_type": "markdown",
   "metadata": {},
   "source": [
    "## Flights by airline"
   ]
  },
  {
   "cell_type": "markdown",
   "metadata": {},
   "source": [
    "### American Airlines before"
   ]
  },
  {
   "cell_type": "code",
   "execution_count": 222,
   "metadata": {},
   "outputs": [],
   "source": [
    "aa_before_line_lax = positions_geo_before_line[(positions_geo_before_line['name'] == 'AMERICAN AIRLINES')&\\\n",
    "                                              (positions_geo_before_line['schd_from'] == 'LAX')]"
   ]
  },
  {
   "cell_type": "code",
   "execution_count": 223,
   "metadata": {},
   "outputs": [
    {
     "data": {
      "text/plain": [
       "<matplotlib.axes._subplots.AxesSubplot at 0x68e89a0d0>"
      ]
     },
     "execution_count": 223,
     "metadata": {},
     "output_type": "execute_result"
    },
    {
     "data": {
      "image/png": "[encoded data removed]",
      "text/plain": [
       "<Figure size 432x288 with 1 Axes>"
      ]
     },
     "metadata": {
      "needs_background": "light"
     },
     "output_type": "display_data"
    }
   ],
   "source": [
    "aa_before_line_lax.plot()"
   ]
  },
  {
   "cell_type": "markdown",
   "metadata": {},
   "source": [
    "### American Airlines after"
   ]
  },
  {
   "cell_type": "code",
   "execution_count": 224,
   "metadata": {},
   "outputs": [],
   "source": [
    "aa_after_line_lax = positions_geo_after_line[(positions_geo_after_line['name'] == 'AMERICAN AIRLINES')&\\\n",
    "                                              (positions_geo_after_line['schd_from'] == 'LAX')]"
   ]
  },
  {
   "cell_type": "code",
   "execution_count": 225,
   "metadata": {},
   "outputs": [
    {
     "data": {
      "text/plain": [
       "<matplotlib.axes._subplots.AxesSubplot at 0x6a99731d0>"
      ]
     },
     "execution_count": 225,
     "metadata": {},
     "output_type": "execute_result"
    },
    {
     "data": {
      "image/png": "[encoded data removed]",
      "text/plain": [
       "<Figure size 432x288 with 1 Axes>"
      ]
     },
     "metadata": {
      "needs_background": "light"
     },
     "output_type": "display_data"
    }
   ],
   "source": [
    "aa_after_line_lax.plot()"
   ]
  },
  {
   "cell_type": "markdown",
   "metadata": {},
   "source": [
    "---"
   ]
  },
  {
   "cell_type": "markdown",
   "metadata": {},
   "source": [
    "### Cut 'before' GeoJSON files for each of our airports before COVID-19"
   ]
  },
  {
   "cell_type": "code",
   "execution_count": 226,
   "metadata": {},
   "outputs": [],
   "source": [
    "for airport in positions_geo_before.schd_from.unique():\n",
    "    positions_geo_before[positions_geo_before['schd_from'] == '{}'.format(airport)]\\\n",
    "    .to_file('/Users/mhustiles/data/data/flights/coronavirus/\\\n",
    "positions_geo_before_{}.geojson'.format(airport), driver='GeoJSON')"
   ]
  },
  {
   "cell_type": "code",
   "execution_count": 227,
   "metadata": {},
   "outputs": [],
   "source": [
    "for airport in positions_geo_before_line.schd_from.unique():\n",
    "    positions_geo_before_line[positions_geo_before_line['schd_from'] == '{}'.format(airport)]\\\n",
    "    .to_file('/Users/mhustiles/data/data/flights/coronavirus/\\\n",
    "positions_geo_before_line_{}.geojson'.format(airport), driver='GeoJSON')"
   ]
  },
  {
   "cell_type": "markdown",
   "metadata": {},
   "source": [
    "### Cut 'after' GeoJSON files for each of our airports after COVID-19"
   ]
  },
  {
   "cell_type": "code",
   "execution_count": 228,
   "metadata": {},
   "outputs": [],
   "source": [
    "for airport in positions_geo_after.schd_from.unique():\n",
    "    positions_geo_after[positions_geo_after['schd_from'] == '{}'.format(airport)]\\\n",
    "    .to_file('/Users/mhustiles/data/data/flights/coronavirus/\\\n",
    "positions_geo_after_{}.geojson'.format(airport), driver='GeoJSON')"
   ]
  },
  {
   "cell_type": "code",
   "execution_count": 229,
   "metadata": {},
   "outputs": [],
   "source": [
    "for airport in positions_geo_after_line.schd_from.unique():\n",
    "    positions_geo_after_line[positions_geo_after_line['schd_from'] == '{}'.format(airport)]\\\n",
    "    .to_file('/Users/mhustiles/data/data/flights/coronavirus/\\\n",
    "positions_geo_after_line_{}.geojson'.format(airport), driver='GeoJSON')"
   ]
  }
 ],
 "metadata": {
  "kernelspec": {
   "display_name": "Python 3",
   "language": "python",
   "name": "python3"
  },
  "language_info": {
   "codemirror_mode": {
    "name": "ipython",
    "version": 3
   },
   "file_extension": ".py",
   "mimetype": "text/x-python",
   "name": "python",
   "nbconvert_exporter": "python",
   "pygments_lexer": "ipython3",
   "version": "3.7.4"
  }
 },
 "nbformat": 4,
 "nbformat_minor": 4
}
