{
 "cells": [
  {
   "cell_type": "markdown",
   "metadata": {},
   "source": [
    "# Processing coronavirus impact on global flights"
   ]
  },
  {
   "cell_type": "markdown",
   "metadata": {},
   "source": [
    "### Load Python tools"
   ]
  },
  {
   "cell_type": "code",
   "execution_count": 1,
   "metadata": {},
   "outputs": [
    {
     "data": {
      "text/plain": [
       "ThemeRegistry.enable('latimes')"
      ]
     },
     "execution_count": 1,
     "metadata": {},
     "output_type": "execute_result"
    }
   ],
   "source": [
    "import pandas as pd\n",
    "from shapely.geometry import shape\n",
    "import geopandas as gpd\n",
    "import matplotlib\n",
    "import matplotlib.pyplot as plt\n",
    "import openpyxl\n",
    "import altair as alt\n",
    "from altair_saver import save\n",
    "import lxml\n",
    "import requests\n",
    "from shapely.geometry import Point, LineString\n",
    "import geojson\n",
    "import json\n",
    "import glob\n",
    "import io\n",
    "import os\n",
    "import pyarrow\n",
    "from shapely.geometry import Point, LineString, MultiLineString\n",
    "import altair_latimes as lat\n",
    "alt.themes.register('latimes', lat.theme)\n",
    "alt.themes.enable('latimes')"
   ]
  },
  {
   "cell_type": "markdown",
   "metadata": {},
   "source": [
    "## FAA airline registristration"
   ]
  },
  {
   "cell_type": "code",
   "execution_count": 2,
   "metadata": {},
   "outputs": [],
   "source": [
    "planes = pd.read_csv('/Users/mhustiles/data/github/notebooks/aircraft/output/airline_planes.csv')"
   ]
  },
  {
   "cell_type": "code",
   "execution_count": 3,
   "metadata": {},
   "outputs": [
    {
     "data": {
      "text/html": [
       "<div>\n",
       "<style scoped>\n",
       "    .dataframe tbody tr th:only-of-type {\n",
       "        vertical-align: middle;\n",
       "    }\n",
       "\n",
       "    .dataframe tbody tr th {\n",
       "        vertical-align: top;\n",
       "    }\n",
       "\n",
       "    .dataframe thead th {\n",
       "        text-align: right;\n",
       "    }\n",
       "</style>\n",
       "<table border=\"1\" class=\"dataframe\">\n",
       "  <thead>\n",
       "    <tr style=\"text-align: right;\">\n",
       "      <th></th>\n",
       "      <th>name</th>\n",
       "      <th>n_number</th>\n",
       "    </tr>\n",
       "  </thead>\n",
       "  <tbody>\n",
       "    <tr>\n",
       "      <td>0</td>\n",
       "      <td>BENE MARY D</td>\n",
       "      <td>N100</td>\n",
       "    </tr>\n",
       "    <tr>\n",
       "      <td>1</td>\n",
       "      <td>STOOS ROBERT A</td>\n",
       "      <td>N10001</td>\n",
       "    </tr>\n",
       "    <tr>\n",
       "      <td>2</td>\n",
       "      <td>ENGLISH AIR SERVICE</td>\n",
       "      <td>N10002</td>\n",
       "    </tr>\n",
       "    <tr>\n",
       "      <td>3</td>\n",
       "      <td>CAMPBELL CHARLES N</td>\n",
       "      <td>N10003</td>\n",
       "    </tr>\n",
       "    <tr>\n",
       "      <td>4</td>\n",
       "      <td>ETOS AIR LLC</td>\n",
       "      <td>N10004</td>\n",
       "    </tr>\n",
       "  </tbody>\n",
       "</table>\n",
       "</div>"
      ],
      "text/plain": [
       "                  name n_number\n",
       "0          BENE MARY D   N100  \n",
       "1       STOOS ROBERT A   N10001\n",
       "2  ENGLISH AIR SERVICE   N10002\n",
       "3   CAMPBELL CHARLES N   N10003\n",
       "4         ETOS AIR LLC   N10004"
      ]
     },
     "execution_count": 3,
     "metadata": {},
     "output_type": "execute_result"
    }
   ],
   "source": [
    "planes.head()"
   ]
  },
  {
   "cell_type": "markdown",
   "metadata": {},
   "source": [
    "## Process 'flights' metadata"
   ]
  },
  {
   "cell_type": "code",
   "execution_count": 4,
   "metadata": {},
   "outputs": [],
   "source": [
    "# https://secure.flightradar24.com/general_media/"
   ]
  },
  {
   "cell_type": "code",
   "execution_count": 5,
   "metadata": {},
   "outputs": [],
   "source": [
    "a_flight = pd.read_csv('coronavirus/20200217_flights.csv')"
   ]
  },
  {
   "cell_type": "code",
   "execution_count": 6,
   "metadata": {},
   "outputs": [
    {
     "data": {
      "text/html": [
       "<div>\n",
       "<style scoped>\n",
       "    .dataframe tbody tr th:only-of-type {\n",
       "        vertical-align: middle;\n",
       "    }\n",
       "\n",
       "    .dataframe tbody tr th {\n",
       "        vertical-align: top;\n",
       "    }\n",
       "\n",
       "    .dataframe thead th {\n",
       "        text-align: right;\n",
       "    }\n",
       "</style>\n",
       "<table border=\"1\" class=\"dataframe\">\n",
       "  <thead>\n",
       "    <tr style=\"text-align: right;\">\n",
       "      <th></th>\n",
       "      <th>flight_id</th>\n",
       "      <th>aircraft_id</th>\n",
       "      <th>reg</th>\n",
       "      <th>equip</th>\n",
       "      <th>callsign</th>\n",
       "      <th>flight</th>\n",
       "      <th>schd_from</th>\n",
       "      <th>schd_to</th>\n",
       "      <th>real_to</th>\n",
       "      <th>reserved</th>\n",
       "    </tr>\n",
       "  </thead>\n",
       "  <tbody>\n",
       "    <tr>\n",
       "      <td>0</td>\n",
       "      <td>601952841</td>\n",
       "      <td>7793496</td>\n",
       "      <td>NaN</td>\n",
       "      <td>GRND</td>\n",
       "      <td>R17</td>\n",
       "      <td>NaN</td>\n",
       "      <td>SIN</td>\n",
       "      <td>NaN</td>\n",
       "      <td>NaN</td>\n",
       "      <td>NaN</td>\n",
       "    </tr>\n",
       "    <tr>\n",
       "      <td>1</td>\n",
       "      <td>601981055</td>\n",
       "      <td>4648968</td>\n",
       "      <td>NaN</td>\n",
       "      <td>NaN</td>\n",
       "      <td>FLWME2</td>\n",
       "      <td>NaN</td>\n",
       "      <td>SKG</td>\n",
       "      <td>NaN</td>\n",
       "      <td>NaN</td>\n",
       "      <td>NaN</td>\n",
       "    </tr>\n",
       "    <tr>\n",
       "      <td>2</td>\n",
       "      <td>601974918</td>\n",
       "      <td>3948014</td>\n",
       "      <td>NaN</td>\n",
       "      <td>NaN</td>\n",
       "      <td>AP01</td>\n",
       "      <td>NaN</td>\n",
       "      <td>CGN</td>\n",
       "      <td>NaN</td>\n",
       "      <td>NaN</td>\n",
       "      <td>NaN</td>\n",
       "    </tr>\n",
       "    <tr>\n",
       "      <td>3</td>\n",
       "      <td>601965791</td>\n",
       "      <td>3949334</td>\n",
       "      <td>NaN</td>\n",
       "      <td>GRND</td>\n",
       "      <td>V79</td>\n",
       "      <td>NaN</td>\n",
       "      <td>NaN</td>\n",
       "      <td>NaN</td>\n",
       "      <td>NaN</td>\n",
       "      <td>NaN</td>\n",
       "    </tr>\n",
       "    <tr>\n",
       "      <td>4</td>\n",
       "      <td>601965717</td>\n",
       "      <td>1122582</td>\n",
       "      <td>NaN</td>\n",
       "      <td>GRND</td>\n",
       "      <td>RA74006</td>\n",
       "      <td>RA74006</td>\n",
       "      <td>CEK</td>\n",
       "      <td>NaN</td>\n",
       "      <td>NaN</td>\n",
       "      <td>NaN</td>\n",
       "    </tr>\n",
       "  </tbody>\n",
       "</table>\n",
       "</div>"
      ],
      "text/plain": [
       "   flight_id  aircraft_id  reg equip callsign   flight schd_from schd_to  \\\n",
       "0  601952841      7793496  NaN  GRND      R17      NaN       SIN     NaN   \n",
       "1  601981055      4648968  NaN   NaN   FLWME2      NaN       SKG     NaN   \n",
       "2  601974918      3948014  NaN   NaN     AP01      NaN       CGN     NaN   \n",
       "3  601965791      3949334  NaN  GRND      V79      NaN       NaN     NaN   \n",
       "4  601965717      1122582  NaN  GRND  RA74006  RA74006       CEK     NaN   \n",
       "\n",
       "  real_to  reserved  \n",
       "0     NaN       NaN  \n",
       "1     NaN       NaN  \n",
       "2     NaN       NaN  \n",
       "3     NaN       NaN  \n",
       "4     NaN       NaN  "
      ]
     },
     "execution_count": 6,
     "metadata": {},
     "output_type": "execute_result"
    }
   ],
   "source": [
    "a_flight.head()"
   ]
  },
  {
   "cell_type": "markdown",
   "metadata": {},
   "source": [
    "### Set path for flights and define the files we'll concatenate"
   ]
  },
  {
   "cell_type": "code",
   "execution_count": 7,
   "metadata": {},
   "outputs": [],
   "source": [
    "path = '/Users/mhustiles/data/data/flights/coronavirus/flights/'\n",
    "files = glob.glob(os.path.join(path, \"*flights.csv\"))"
   ]
  },
  {
   "cell_type": "markdown",
   "metadata": {},
   "source": [
    "### Read the csvs and create a 'date' field in the table"
   ]
  },
  {
   "cell_type": "code",
   "execution_count": 8,
   "metadata": {},
   "outputs": [],
   "source": [
    "file_df = (pd.read_csv(f, encoding = \"ISO-8859-1\", low_memory=False)\\\n",
    "           .assign(date=os.path.basename(f)) for f in files)"
   ]
  },
  {
   "cell_type": "markdown",
   "metadata": {},
   "source": [
    "### Combined our newly processed flight files"
   ]
  },
  {
   "cell_type": "code",
   "execution_count": 9,
   "metadata": {},
   "outputs": [],
   "source": [
    "flights_df_all = pd.concat(file_df, ignore_index=True)"
   ]
  },
  {
   "cell_type": "code",
   "execution_count": 10,
   "metadata": {},
   "outputs": [
    {
     "data": {
      "text/plain": [
       "2149720"
      ]
     },
     "execution_count": 10,
     "metadata": {},
     "output_type": "execute_result"
    }
   ],
   "source": [
    "len(flights_df_all)"
   ]
  },
  {
   "cell_type": "markdown",
   "metadata": {},
   "source": [
    "### Add owner names from FAA registration"
   ]
  },
  {
   "cell_type": "code",
   "execution_count": 11,
   "metadata": {},
   "outputs": [],
   "source": [
    "flights_df = flights_df_all.merge(planes, right_on='n_number', left_on='reg', how='left')"
   ]
  },
  {
   "cell_type": "code",
   "execution_count": 12,
   "metadata": {},
   "outputs": [
    {
     "data": {
      "text/html": [
       "<div>\n",
       "<style scoped>\n",
       "    .dataframe tbody tr th:only-of-type {\n",
       "        vertical-align: middle;\n",
       "    }\n",
       "\n",
       "    .dataframe tbody tr th {\n",
       "        vertical-align: top;\n",
       "    }\n",
       "\n",
       "    .dataframe thead th {\n",
       "        text-align: right;\n",
       "    }\n",
       "</style>\n",
       "<table border=\"1\" class=\"dataframe\">\n",
       "  <thead>\n",
       "    <tr style=\"text-align: right;\">\n",
       "      <th></th>\n",
       "      <th>flight_id</th>\n",
       "      <th>aircraft_id</th>\n",
       "      <th>reg</th>\n",
       "      <th>equip</th>\n",
       "      <th>callsign</th>\n",
       "      <th>flight</th>\n",
       "      <th>schd_from</th>\n",
       "      <th>schd_to</th>\n",
       "      <th>real_to</th>\n",
       "      <th>reserved</th>\n",
       "      <th>date</th>\n",
       "      <th>name</th>\n",
       "      <th>n_number</th>\n",
       "    </tr>\n",
       "  </thead>\n",
       "  <tbody>\n",
       "    <tr>\n",
       "      <td>0</td>\n",
       "      <td>608291364</td>\n",
       "      <td>4976852</td>\n",
       "      <td>NaN</td>\n",
       "      <td>GRND</td>\n",
       "      <td>FLWME3</td>\n",
       "      <td>NaN</td>\n",
       "      <td>AYT</td>\n",
       "      <td>NaN</td>\n",
       "      <td>NaN</td>\n",
       "      <td>NaN</td>\n",
       "      <td>20200324_flights.csv</td>\n",
       "      <td>NaN</td>\n",
       "      <td>NaN</td>\n",
       "    </tr>\n",
       "    <tr>\n",
       "      <td>1</td>\n",
       "      <td>608298331</td>\n",
       "      <td>5313483</td>\n",
       "      <td>NaN</td>\n",
       "      <td>NaN</td>\n",
       "      <td>SAATJA4</td>\n",
       "      <td>NaN</td>\n",
       "      <td>TLL</td>\n",
       "      <td>NaN</td>\n",
       "      <td>NaN</td>\n",
       "      <td>NaN</td>\n",
       "      <td>20200324_flights.csv</td>\n",
       "      <td>NaN</td>\n",
       "      <td>NaN</td>\n",
       "    </tr>\n",
       "    <tr>\n",
       "      <td>2</td>\n",
       "      <td>608288050</td>\n",
       "      <td>4546612</td>\n",
       "      <td>NaN</td>\n",
       "      <td>GRND</td>\n",
       "      <td>RANGER2</td>\n",
       "      <td>NaN</td>\n",
       "      <td>SOF</td>\n",
       "      <td>NaN</td>\n",
       "      <td>NaN</td>\n",
       "      <td>NaN</td>\n",
       "      <td>20200324_flights.csv</td>\n",
       "      <td>NaN</td>\n",
       "      <td>NaN</td>\n",
       "    </tr>\n",
       "    <tr>\n",
       "      <td>3</td>\n",
       "      <td>608300515</td>\n",
       "      <td>4735585</td>\n",
       "      <td>LJ-Light</td>\n",
       "      <td>GRND</td>\n",
       "      <td>LI</td>\n",
       "      <td>NaN</td>\n",
       "      <td>NaN</td>\n",
       "      <td>NaN</td>\n",
       "      <td>NaN</td>\n",
       "      <td>NaN</td>\n",
       "      <td>20200324_flights.csv</td>\n",
       "      <td>NaN</td>\n",
       "      <td>NaN</td>\n",
       "    </tr>\n",
       "    <tr>\n",
       "      <td>4</td>\n",
       "      <td>608298634</td>\n",
       "      <td>11402224</td>\n",
       "      <td>NaN</td>\n",
       "      <td>NaN</td>\n",
       "      <td>BIRD</td>\n",
       "      <td>NaN</td>\n",
       "      <td>DMK</td>\n",
       "      <td>NaN</td>\n",
       "      <td>NaN</td>\n",
       "      <td>NaN</td>\n",
       "      <td>20200324_flights.csv</td>\n",
       "      <td>NaN</td>\n",
       "      <td>NaN</td>\n",
       "    </tr>\n",
       "  </tbody>\n",
       "</table>\n",
       "</div>"
      ],
      "text/plain": [
       "   flight_id  aircraft_id       reg equip callsign flight schd_from schd_to  \\\n",
       "0  608291364      4976852       NaN  GRND   FLWME3    NaN       AYT     NaN   \n",
       "1  608298331      5313483       NaN   NaN  SAATJA4    NaN       TLL     NaN   \n",
       "2  608288050      4546612       NaN  GRND  RANGER2    NaN       SOF     NaN   \n",
       "3  608300515      4735585  LJ-Light  GRND       LI    NaN       NaN     NaN   \n",
       "4  608298634     11402224       NaN   NaN     BIRD    NaN       DMK     NaN   \n",
       "\n",
       "  real_to  reserved                  date name n_number  \n",
       "0     NaN       NaN  20200324_flights.csv  NaN      NaN  \n",
       "1     NaN       NaN  20200324_flights.csv  NaN      NaN  \n",
       "2     NaN       NaN  20200324_flights.csv  NaN      NaN  \n",
       "3     NaN       NaN  20200324_flights.csv  NaN      NaN  \n",
       "4     NaN       NaN  20200324_flights.csv  NaN      NaN  "
      ]
     },
     "execution_count": 12,
     "metadata": {},
     "output_type": "execute_result"
    }
   ],
   "source": [
    "flights_df.head()"
   ]
  },
  {
   "cell_type": "markdown",
   "metadata": {},
   "source": [
    "### Clean up our dates for use later"
   ]
  },
  {
   "cell_type": "code",
   "execution_count": 13,
   "metadata": {},
   "outputs": [],
   "source": [
    "flights_df['date'] = flights_df['date']\\\n",
    "    .str.replace('_flights.csv','')"
   ]
  },
  {
   "cell_type": "code",
   "execution_count": 14,
   "metadata": {},
   "outputs": [],
   "source": [
    "flights_df['date'] = pd.to_datetime(flights_df.date, format='%Y%m%d')\n",
    "flights_df['month'] = flights_df['date'].dt.month \n",
    "flights_df['day'] = flights_df['date'].dt.day \n",
    "flights_df['weekday'] = flights_df['date'].dt.weekday_name"
   ]
  },
  {
   "cell_type": "markdown",
   "metadata": {},
   "source": [
    "### Filter flights list to large, commercial planes?"
   ]
  },
  {
   "cell_type": "code",
   "execution_count": 15,
   "metadata": {},
   "outputs": [],
   "source": [
    "large_planes = ['B738','A320','A321','B737','A20N',\\\n",
    "                'B739','B77W','B763','A332','B752',\\\n",
    "                'A21N','B789','AT75','A359','B772',\\\n",
    "                'B350','B744','A306', 'B733']"
   ]
  },
  {
   "cell_type": "code",
   "execution_count": 16,
   "metadata": {},
   "outputs": [],
   "source": [
    "cargo_planes = ['B77L', 'B744', 'B748', 'B762', 'B763', 'B75', 'MD1', 'DC1']"
   ]
  },
  {
   "cell_type": "code",
   "execution_count": 17,
   "metadata": {},
   "outputs": [],
   "source": [
    "# flights_df = flights_df[~flights_df['equip'].isin(cargo_planes)]"
   ]
  },
  {
   "cell_type": "markdown",
   "metadata": {},
   "source": [
    "### Remove stray flights by id"
   ]
  },
  {
   "cell_type": "code",
   "execution_count": 18,
   "metadata": {},
   "outputs": [],
   "source": [
    "strays = ['609551948', '609472464', '609472230', '609483318']"
   ]
  },
  {
   "cell_type": "code",
   "execution_count": 19,
   "metadata": {},
   "outputs": [],
   "source": [
    "# flights_df = flights_df[~flights_df['equip'].isin(strays)]"
   ]
  },
  {
   "cell_type": "markdown",
   "metadata": {},
   "source": [
    "### What's left?"
   ]
  },
  {
   "cell_type": "code",
   "execution_count": 20,
   "metadata": {},
   "outputs": [
    {
     "data": {
      "text/plain": [
       "2149720"
      ]
     },
     "execution_count": 20,
     "metadata": {},
     "output_type": "execute_result"
    }
   ],
   "source": [
    "len(flights_df)"
   ]
  },
  {
   "cell_type": "code",
   "execution_count": 21,
   "metadata": {},
   "outputs": [],
   "source": [
    "global_flights = flights_df.groupby(['date']).agg('size').reset_index(name='flights')"
   ]
  },
  {
   "cell_type": "code",
   "execution_count": 22,
   "metadata": {},
   "outputs": [
    {
     "data": {
      "text/html": [
       "<div>\n",
       "<style scoped>\n",
       "    .dataframe tbody tr th:only-of-type {\n",
       "        vertical-align: middle;\n",
       "    }\n",
       "\n",
       "    .dataframe tbody tr th {\n",
       "        vertical-align: top;\n",
       "    }\n",
       "\n",
       "    .dataframe thead th {\n",
       "        text-align: right;\n",
       "    }\n",
       "</style>\n",
       "<table border=\"1\" class=\"dataframe\">\n",
       "  <thead>\n",
       "    <tr style=\"text-align: right;\">\n",
       "      <th></th>\n",
       "      <th>date</th>\n",
       "      <th>flights</th>\n",
       "    </tr>\n",
       "  </thead>\n",
       "  <tbody>\n",
       "    <tr>\n",
       "      <td>0</td>\n",
       "      <td>2020-01-07</td>\n",
       "      <td>182377</td>\n",
       "    </tr>\n",
       "    <tr>\n",
       "      <td>1</td>\n",
       "      <td>2020-01-14</td>\n",
       "      <td>174493</td>\n",
       "    </tr>\n",
       "    <tr>\n",
       "      <td>2</td>\n",
       "      <td>2020-01-21</td>\n",
       "      <td>191671</td>\n",
       "    </tr>\n",
       "    <tr>\n",
       "      <td>3</td>\n",
       "      <td>2020-01-28</td>\n",
       "      <td>179810</td>\n",
       "    </tr>\n",
       "    <tr>\n",
       "      <td>4</td>\n",
       "      <td>2020-02-03</td>\n",
       "      <td>178703</td>\n",
       "    </tr>\n",
       "    <tr>\n",
       "      <td>5</td>\n",
       "      <td>2020-02-10</td>\n",
       "      <td>161538</td>\n",
       "    </tr>\n",
       "    <tr>\n",
       "      <td>6</td>\n",
       "      <td>2020-02-17</td>\n",
       "      <td>173752</td>\n",
       "    </tr>\n",
       "    <tr>\n",
       "      <td>7</td>\n",
       "      <td>2020-02-24</td>\n",
       "      <td>174097</td>\n",
       "    </tr>\n",
       "    <tr>\n",
       "      <td>8</td>\n",
       "      <td>2020-03-03</td>\n",
       "      <td>175658</td>\n",
       "    </tr>\n",
       "    <tr>\n",
       "      <td>9</td>\n",
       "      <td>2020-03-10</td>\n",
       "      <td>170359</td>\n",
       "    </tr>\n",
       "    <tr>\n",
       "      <td>10</td>\n",
       "      <td>2020-03-17</td>\n",
       "      <td>148121</td>\n",
       "    </tr>\n",
       "    <tr>\n",
       "      <td>11</td>\n",
       "      <td>2020-03-24</td>\n",
       "      <td>96143</td>\n",
       "    </tr>\n",
       "    <tr>\n",
       "      <td>12</td>\n",
       "      <td>2020-03-31</td>\n",
       "      <td>74603</td>\n",
       "    </tr>\n",
       "    <tr>\n",
       "      <td>13</td>\n",
       "      <td>2020-04-07</td>\n",
       "      <td>68395</td>\n",
       "    </tr>\n",
       "  </tbody>\n",
       "</table>\n",
       "</div>"
      ],
      "text/plain": [
       "         date  flights\n",
       "0  2020-01-07   182377\n",
       "1  2020-01-14   174493\n",
       "2  2020-01-21   191671\n",
       "3  2020-01-28   179810\n",
       "4  2020-02-03   178703\n",
       "5  2020-02-10   161538\n",
       "6  2020-02-17   173752\n",
       "7  2020-02-24   174097\n",
       "8  2020-03-03   175658\n",
       "9  2020-03-10   170359\n",
       "10 2020-03-17   148121\n",
       "11 2020-03-24    96143\n",
       "12 2020-03-31    74603\n",
       "13 2020-04-07    68395"
      ]
     },
     "execution_count": 22,
     "metadata": {},
     "output_type": "execute_result"
    }
   ],
   "source": [
    "global_flights.head(20)"
   ]
  },
  {
   "cell_type": "markdown",
   "metadata": {},
   "source": [
    "### Decrease from Jan. 7 to March 31"
   ]
  },
  {
   "cell_type": "code",
   "execution_count": 23,
   "metadata": {},
   "outputs": [
    {
     "data": {
      "text/plain": [
       "-59.09"
      ]
     },
     "execution_count": 23,
     "metadata": {},
     "output_type": "execute_result"
    }
   ],
   "source": [
    "(((global_flights.iloc[12,1] - global_flights.iloc[0,1])/global_flights.iloc[0,1])*100).round(2)"
   ]
  },
  {
   "cell_type": "code",
   "execution_count": 24,
   "metadata": {},
   "outputs": [],
   "source": [
    "global_flights.to_csv('output/global_flights.csv')"
   ]
  },
  {
   "cell_type": "markdown",
   "metadata": {},
   "source": [
    "### Filter global flights to just those in the largest airports in Europe and the USA"
   ]
  },
  {
   "cell_type": "code",
   "execution_count": 25,
   "metadata": {},
   "outputs": [],
   "source": [
    "europe_airports = ['AMS','ARN','ATH','BCN','BRU','BUD','CDG','CPH','DME','DUB','FCO','FRA','GVA','HEL',\\\n",
    "                   'KEF','LGW','LHR','LIS','MAD','MAN','MUC','MXP','ORY','OSL','PRG','SVO',\\\n",
    "                   'VCE','VIE','VKO','WAW','ZRH']"
   ]
  },
  {
   "cell_type": "code",
   "execution_count": 26,
   "metadata": {},
   "outputs": [],
   "source": [
    "usa_airports = ['ATL','BOS','BWI','CLT','DEN','DFW','DTW','EWR','FLL','IAD','IAH','JFK','LAS','LAX','LGA',\\\n",
    "                'MCO','MIA','MSP','ORD','PHL','PHX','SAN','SEA','SFO','SLC','YUL','YVR','YYZ']"
   ]
  },
  {
   "cell_type": "code",
   "execution_count": 27,
   "metadata": {},
   "outputs": [],
   "source": [
    "usa_flights_totals = flights_df[flights_df['schd_from'].isin(usa_airports)]\n",
    "europe_flights_totals = flights_df[flights_df['schd_from'].isin(europe_airports)]"
   ]
  },
  {
   "cell_type": "code",
   "execution_count": 28,
   "metadata": {},
   "outputs": [],
   "source": [
    "europe_flights_totals_grouped = europe_flights_totals.groupby(['date']).agg('size').reset_index(name='flights')\n",
    "usa_flights_totals_grouped = usa_flights_totals.groupby(['date']).agg('size').reset_index(name='flights')"
   ]
  },
  {
   "cell_type": "code",
   "execution_count": 29,
   "metadata": {},
   "outputs": [],
   "source": [
    "flights_us_eu_global = pd.concat([global_flights, europe_flights_totals_grouped['flights'],\\\n",
    "                                  usa_flights_totals_grouped['flights']], axis=1)"
   ]
  },
  {
   "cell_type": "code",
   "execution_count": 30,
   "metadata": {},
   "outputs": [],
   "source": [
    "flights_us_eu_global.columns = (['date', 'world', 'europe', 'usa'])"
   ]
  },
  {
   "cell_type": "code",
   "execution_count": 31,
   "metadata": {},
   "outputs": [],
   "source": [
    "flights_us_eu_global['world'] = flights_us_eu_global['world'] - (flights_us_eu_global['europe'] + flights_us_eu_global['usa']) \n"
   ]
  },
  {
   "cell_type": "code",
   "execution_count": 32,
   "metadata": {},
   "outputs": [],
   "source": [
    "flights_us_eu_global.to_csv('output/flights_us_eu_global.csv')"
   ]
  },
  {
   "cell_type": "code",
   "execution_count": 33,
   "metadata": {},
   "outputs": [],
   "source": [
    "flights_us_eu_global_melt = pd.melt(flights_us_eu_global, id_vars=['date'], \\\n",
    "                                    value_vars=['world', 'europe', 'usa'],\n",
    "        var_name='location', value_name='flights')"
   ]
  },
  {
   "cell_type": "code",
   "execution_count": 34,
   "metadata": {},
   "outputs": [
    {
     "data": {
      "text/html": [
       "<div>\n",
       "<style scoped>\n",
       "    .dataframe tbody tr th:only-of-type {\n",
       "        vertical-align: middle;\n",
       "    }\n",
       "\n",
       "    .dataframe tbody tr th {\n",
       "        vertical-align: top;\n",
       "    }\n",
       "\n",
       "    .dataframe thead th {\n",
       "        text-align: right;\n",
       "    }\n",
       "</style>\n",
       "<table border=\"1\" class=\"dataframe\">\n",
       "  <thead>\n",
       "    <tr style=\"text-align: right;\">\n",
       "      <th></th>\n",
       "      <th>date</th>\n",
       "      <th>location</th>\n",
       "      <th>flights</th>\n",
       "    </tr>\n",
       "  </thead>\n",
       "  <tbody>\n",
       "    <tr>\n",
       "      <td>0</td>\n",
       "      <td>2020-01-07</td>\n",
       "      <td>world</td>\n",
       "      <td>145204</td>\n",
       "    </tr>\n",
       "    <tr>\n",
       "      <td>1</td>\n",
       "      <td>2020-01-14</td>\n",
       "      <td>world</td>\n",
       "      <td>139024</td>\n",
       "    </tr>\n",
       "    <tr>\n",
       "      <td>2</td>\n",
       "      <td>2020-01-21</td>\n",
       "      <td>world</td>\n",
       "      <td>155738</td>\n",
       "    </tr>\n",
       "    <tr>\n",
       "      <td>3</td>\n",
       "      <td>2020-01-28</td>\n",
       "      <td>world</td>\n",
       "      <td>143842</td>\n",
       "    </tr>\n",
       "    <tr>\n",
       "      <td>4</td>\n",
       "      <td>2020-02-03</td>\n",
       "      <td>world</td>\n",
       "      <td>141813</td>\n",
       "    </tr>\n",
       "    <tr>\n",
       "      <td>5</td>\n",
       "      <td>2020-02-10</td>\n",
       "      <td>world</td>\n",
       "      <td>125532</td>\n",
       "    </tr>\n",
       "    <tr>\n",
       "      <td>6</td>\n",
       "      <td>2020-02-17</td>\n",
       "      <td>world</td>\n",
       "      <td>137174</td>\n",
       "    </tr>\n",
       "    <tr>\n",
       "      <td>7</td>\n",
       "      <td>2020-02-24</td>\n",
       "      <td>world</td>\n",
       "      <td>135868</td>\n",
       "    </tr>\n",
       "    <tr>\n",
       "      <td>8</td>\n",
       "      <td>2020-03-03</td>\n",
       "      <td>world</td>\n",
       "      <td>138586</td>\n",
       "    </tr>\n",
       "    <tr>\n",
       "      <td>9</td>\n",
       "      <td>2020-03-10</td>\n",
       "      <td>world</td>\n",
       "      <td>134817</td>\n",
       "    </tr>\n",
       "    <tr>\n",
       "      <td>10</td>\n",
       "      <td>2020-03-17</td>\n",
       "      <td>world</td>\n",
       "      <td>117274</td>\n",
       "    </tr>\n",
       "    <tr>\n",
       "      <td>11</td>\n",
       "      <td>2020-03-24</td>\n",
       "      <td>world</td>\n",
       "      <td>77356</td>\n",
       "    </tr>\n",
       "    <tr>\n",
       "      <td>12</td>\n",
       "      <td>2020-03-31</td>\n",
       "      <td>world</td>\n",
       "      <td>60722</td>\n",
       "    </tr>\n",
       "    <tr>\n",
       "      <td>13</td>\n",
       "      <td>2020-04-07</td>\n",
       "      <td>world</td>\n",
       "      <td>57409</td>\n",
       "    </tr>\n",
       "    <tr>\n",
       "      <td>14</td>\n",
       "      <td>2020-01-07</td>\n",
       "      <td>europe</td>\n",
       "      <td>12410</td>\n",
       "    </tr>\n",
       "    <tr>\n",
       "      <td>15</td>\n",
       "      <td>2020-01-14</td>\n",
       "      <td>europe</td>\n",
       "      <td>11605</td>\n",
       "    </tr>\n",
       "    <tr>\n",
       "      <td>16</td>\n",
       "      <td>2020-01-21</td>\n",
       "      <td>europe</td>\n",
       "      <td>11866</td>\n",
       "    </tr>\n",
       "    <tr>\n",
       "      <td>17</td>\n",
       "      <td>2020-01-28</td>\n",
       "      <td>europe</td>\n",
       "      <td>11952</td>\n",
       "    </tr>\n",
       "    <tr>\n",
       "      <td>18</td>\n",
       "      <td>2020-02-03</td>\n",
       "      <td>europe</td>\n",
       "      <td>12890</td>\n",
       "    </tr>\n",
       "    <tr>\n",
       "      <td>19</td>\n",
       "      <td>2020-02-10</td>\n",
       "      <td>europe</td>\n",
       "      <td>11905</td>\n",
       "    </tr>\n",
       "    <tr>\n",
       "      <td>20</td>\n",
       "      <td>2020-02-17</td>\n",
       "      <td>europe</td>\n",
       "      <td>13225</td>\n",
       "    </tr>\n",
       "    <tr>\n",
       "      <td>21</td>\n",
       "      <td>2020-02-24</td>\n",
       "      <td>europe</td>\n",
       "      <td>13327</td>\n",
       "    </tr>\n",
       "    <tr>\n",
       "      <td>22</td>\n",
       "      <td>2020-03-03</td>\n",
       "      <td>europe</td>\n",
       "      <td>12575</td>\n",
       "    </tr>\n",
       "    <tr>\n",
       "      <td>23</td>\n",
       "      <td>2020-03-10</td>\n",
       "      <td>europe</td>\n",
       "      <td>11111</td>\n",
       "    </tr>\n",
       "    <tr>\n",
       "      <td>24</td>\n",
       "      <td>2020-03-17</td>\n",
       "      <td>europe</td>\n",
       "      <td>7609</td>\n",
       "    </tr>\n",
       "    <tr>\n",
       "      <td>25</td>\n",
       "      <td>2020-03-24</td>\n",
       "      <td>europe</td>\n",
       "      <td>3755</td>\n",
       "    </tr>\n",
       "    <tr>\n",
       "      <td>26</td>\n",
       "      <td>2020-03-31</td>\n",
       "      <td>europe</td>\n",
       "      <td>2411</td>\n",
       "    </tr>\n",
       "    <tr>\n",
       "      <td>27</td>\n",
       "      <td>2020-04-07</td>\n",
       "      <td>europe</td>\n",
       "      <td>1827</td>\n",
       "    </tr>\n",
       "    <tr>\n",
       "      <td>28</td>\n",
       "      <td>2020-01-07</td>\n",
       "      <td>usa</td>\n",
       "      <td>24763</td>\n",
       "    </tr>\n",
       "    <tr>\n",
       "      <td>29</td>\n",
       "      <td>2020-01-14</td>\n",
       "      <td>usa</td>\n",
       "      <td>23864</td>\n",
       "    </tr>\n",
       "    <tr>\n",
       "      <td>30</td>\n",
       "      <td>2020-01-21</td>\n",
       "      <td>usa</td>\n",
       "      <td>24067</td>\n",
       "    </tr>\n",
       "    <tr>\n",
       "      <td>31</td>\n",
       "      <td>2020-01-28</td>\n",
       "      <td>usa</td>\n",
       "      <td>24016</td>\n",
       "    </tr>\n",
       "    <tr>\n",
       "      <td>32</td>\n",
       "      <td>2020-02-03</td>\n",
       "      <td>usa</td>\n",
       "      <td>24000</td>\n",
       "    </tr>\n",
       "    <tr>\n",
       "      <td>33</td>\n",
       "      <td>2020-02-10</td>\n",
       "      <td>usa</td>\n",
       "      <td>24101</td>\n",
       "    </tr>\n",
       "    <tr>\n",
       "      <td>34</td>\n",
       "      <td>2020-02-17</td>\n",
       "      <td>usa</td>\n",
       "      <td>23353</td>\n",
       "    </tr>\n",
       "    <tr>\n",
       "      <td>35</td>\n",
       "      <td>2020-02-24</td>\n",
       "      <td>usa</td>\n",
       "      <td>24902</td>\n",
       "    </tr>\n",
       "    <tr>\n",
       "      <td>36</td>\n",
       "      <td>2020-03-03</td>\n",
       "      <td>usa</td>\n",
       "      <td>24497</td>\n",
       "    </tr>\n",
       "    <tr>\n",
       "      <td>37</td>\n",
       "      <td>2020-03-10</td>\n",
       "      <td>usa</td>\n",
       "      <td>24431</td>\n",
       "    </tr>\n",
       "    <tr>\n",
       "      <td>38</td>\n",
       "      <td>2020-03-17</td>\n",
       "      <td>usa</td>\n",
       "      <td>23238</td>\n",
       "    </tr>\n",
       "    <tr>\n",
       "      <td>39</td>\n",
       "      <td>2020-03-24</td>\n",
       "      <td>usa</td>\n",
       "      <td>15032</td>\n",
       "    </tr>\n",
       "    <tr>\n",
       "      <td>40</td>\n",
       "      <td>2020-03-31</td>\n",
       "      <td>usa</td>\n",
       "      <td>11470</td>\n",
       "    </tr>\n",
       "    <tr>\n",
       "      <td>41</td>\n",
       "      <td>2020-04-07</td>\n",
       "      <td>usa</td>\n",
       "      <td>9159</td>\n",
       "    </tr>\n",
       "  </tbody>\n",
       "</table>\n",
       "</div>"
      ],
      "text/plain": [
       "         date location  flights\n",
       "0  2020-01-07    world   145204\n",
       "1  2020-01-14    world   139024\n",
       "2  2020-01-21    world   155738\n",
       "3  2020-01-28    world   143842\n",
       "4  2020-02-03    world   141813\n",
       "5  2020-02-10    world   125532\n",
       "6  2020-02-17    world   137174\n",
       "7  2020-02-24    world   135868\n",
       "8  2020-03-03    world   138586\n",
       "9  2020-03-10    world   134817\n",
       "10 2020-03-17    world   117274\n",
       "11 2020-03-24    world    77356\n",
       "12 2020-03-31    world    60722\n",
       "13 2020-04-07    world    57409\n",
       "14 2020-01-07   europe    12410\n",
       "15 2020-01-14   europe    11605\n",
       "16 2020-01-21   europe    11866\n",
       "17 2020-01-28   europe    11952\n",
       "18 2020-02-03   europe    12890\n",
       "19 2020-02-10   europe    11905\n",
       "20 2020-02-17   europe    13225\n",
       "21 2020-02-24   europe    13327\n",
       "22 2020-03-03   europe    12575\n",
       "23 2020-03-10   europe    11111\n",
       "24 2020-03-17   europe     7609\n",
       "25 2020-03-24   europe     3755\n",
       "26 2020-03-31   europe     2411\n",
       "27 2020-04-07   europe     1827\n",
       "28 2020-01-07      usa    24763\n",
       "29 2020-01-14      usa    23864\n",
       "30 2020-01-21      usa    24067\n",
       "31 2020-01-28      usa    24016\n",
       "32 2020-02-03      usa    24000\n",
       "33 2020-02-10      usa    24101\n",
       "34 2020-02-17      usa    23353\n",
       "35 2020-02-24      usa    24902\n",
       "36 2020-03-03      usa    24497\n",
       "37 2020-03-10      usa    24431\n",
       "38 2020-03-17      usa    23238\n",
       "39 2020-03-24      usa    15032\n",
       "40 2020-03-31      usa    11470\n",
       "41 2020-04-07      usa     9159"
      ]
     },
     "execution_count": 34,
     "metadata": {},
     "output_type": "execute_result"
    }
   ],
   "source": [
    "flights_us_eu_global_melt"
   ]
  },
  {
   "cell_type": "code",
   "execution_count": 35,
   "metadata": {},
   "outputs": [
    {
     "data": {
      "text/html": [
       "\n",
       "<div id=\"altair-viz-b81df4ec41b04f3d88bf7765fe1ea432\"></div>\n",
       "<script type=\"text/javascript\">\n",
       "  (function(spec, embedOpt){\n",
       "    const outputDiv = document.getElementById(\"altair-viz-b81df4ec41b04f3d88bf7765fe1ea432\");\n",
       "    const paths = {\n",
       "      \"vega\": \"https://cdn.jsdelivr.net/npm//vega@5?noext\",\n",
       "      \"vega-lib\": \"https://cdn.jsdelivr.net/npm//vega-lib?noext\",\n",
       "      \"vega-lite\": \"https://cdn.jsdelivr.net/npm//vega-lite@4.0.2?noext\",\n",
       "      \"vega-embed\": \"https://cdn.jsdelivr.net/npm//vega-embed@6?noext\",\n",
       "    };\n",
       "\n",
       "    function loadScript(lib) {\n",
       "      return new Promise(function(resolve, reject) {\n",
       "        var s = document.createElement('script');\n",
       "        s.src = paths[lib];\n",
       "        s.async = true;\n",
       "        s.onload = () => resolve(paths[lib]);\n",
       "        s.onerror = () => reject(`Error loading script: ${paths[lib]}`);\n",
       "        document.getElementsByTagName(\"head\")[0].appendChild(s);\n",
       "      });\n",
       "    }\n",
       "\n",
       "    function showError(err) {\n",
       "      outputDiv.innerHTML = `<div class=\"error\" style=\"color:red;\">${err}</div>`;\n",
       "      throw err;\n",
       "    }\n",
       "\n",
       "    function displayChart(vegaEmbed) {\n",
       "      vegaEmbed(outputDiv, spec, embedOpt)\n",
       "        .catch(err => showError(`Javascript Error: ${err.message}<br>This usually means there's a typo in your chart specification. See the javascript console for the full traceback.`));\n",
       "    }\n",
       "\n",
       "    if(typeof define === \"function\" && define.amd) {\n",
       "      requirejs.config({paths});\n",
       "      require([\"vega-embed\"], displayChart, err => showError(`Error loading script: ${err.message}`));\n",
       "    } else if (typeof vegaEmbed === \"function\") {\n",
       "      displayChart(vegaEmbed);\n",
       "    } else {\n",
       "      loadScript(\"vega\")\n",
       "        .then(() => loadScript(\"vega-lite\"))\n",
       "        .then(() => loadScript(\"vega-embed\"))\n",
       "        .catch(showError)\n",
       "        .then(() => displayChart(vegaEmbed));\n",
       "    }\n",
       "  })({\"config\": {\"view\": {\"width\": 800, \"height\": 450, \"strokeOpacity\": 0}, \"background\": \"#ffffff\", \"title\": {\"anchor\": \"start\", \"font\": \"Benton Gothic Bold, sans\", \"fontColor\": \"#000000\", \"fontSize\": 22, \"fontWeight\": \"normal\"}, \"arc\": {\"fill\": \"#82c6df\"}, \"area\": {\"fill\": \"#82c6df\"}, \"line\": {\"stroke\": \"#82c6df\", \"strokeWidth\": 3}, \"path\": {\"stroke\": \"#82c6df\"}, \"rect\": {\"fill\": \"#82c6df\"}, \"shape\": {\"stroke\": \"#82c6df\"}, \"bar\": {\"fill\": \"#82c6df\"}, \"point\": {\"stroke\": \"#82c6df\"}, \"symbol\": {\"fill\": \"#82c6df\", \"size\": 30}, \"axis\": {\"titleFont\": \"Benton Gothic Bold, sans\", \"titleFontSize\": 13, \"titleFontWeight\": \"normal\", \"labelFont\": \"Benton Gothic, sans\", \"labelFontSize\": 11.5, \"labelFontWeight\": \"normal\"}, \"axisX\": {\"labelAngle\": 0, \"labelPadding\": 4, \"tickSize\": 3}, \"axisY\": {\"labelBaseline\": \"middle\", \"maxExtent\": 45, \"minExtent\": 45, \"tickSize\": 2, \"titleAlign\": \"left\", \"titleAngle\": 0, \"titleX\": -45, \"titleY\": -11}, \"legend\": {\"titleFont\": \"Benton Gothic Bold, sans\", \"titleFontSize\": 13, \"titleFontWeight\": \"normal\", \"symbolType\": \"square\", \"labelFont\": \"Benton Gothic, sans\", \"labelFontSize\": 11.5}, \"range\": {\"category\": [\"#3580b1\", \"#ec8431\", \"#ab7fb4\", \"#c89d29\", \"#adc839\", \"#829eb1\"], \"diverging\": [\"#e68a4f\", \"#f4bb6a\", \"#f9e39c\", \"#dadfe2\", \"#a6b7c6\", \"#849eae\"], \"heatmap\": [\"#fbf2c7\", \"#f9e39c\", \"#f8d36e\", \"#f4bb6a\", \"#e68a4f\", \"#d15a40\", \"#ab4232\"], \"ordinal\": [\"#fbf2c7\", \"#f9e39c\", \"#f8d36e\", \"#f4bb6a\", \"#e68a4f\", \"#d15a40\", \"#ab4232\"], \"ramp\": [\"#fbf2c7\", \"#f9e39c\", \"#f8d36e\", \"#f4bb6a\", \"#e68a4f\", \"#d15a40\", \"#ab4232\"]}}, \"data\": {\"name\": \"data-6736df575bc064d7c588a98c2d26ab63\"}, \"mark\": {\"type\": \"area\", \"color\": \"#006D8F\", \"size\": 4}, \"encoding\": {\"color\": {\"type\": \"nominal\", \"field\": \"location\", \"legend\": null, \"scale\": {\"domain\": [\"usa\", \"europe\", \"world\"], \"range\": [\"#fadc90\", \"#ec862b\", \"#a84b24\"]}}, \"x\": {\"type\": \"temporal\", \"axis\": {\"format\": \"%b. %-d\", \"grid\": false, \"tickCount\": 6}, \"field\": \"date\", \"title\": \"\"}, \"y\": {\"type\": \"quantitative\", \"axis\": {\"domainOpacity\": 0, \"format\": \".0s\", \"grid\": true, \"tickCount\": 6, \"tickSize\": 0}, \"field\": \"flights\", \"sort\": {\"field\": \"location\", \"op\": \"sum\", \"order\": \"ascending\"}, \"title\": \"\"}}, \"height\": 200, \"title\": \"\", \"width\": 320, \"$schema\": \"https://vega.github.io/schema/vega-lite/v4.0.2.json\", \"datasets\": {\"data-6736df575bc064d7c588a98c2d26ab63\": [{\"date\": \"2020-01-07T00:00:00\", \"location\": \"world\", \"flights\": 145204}, {\"date\": \"2020-01-14T00:00:00\", \"location\": \"world\", \"flights\": 139024}, {\"date\": \"2020-01-21T00:00:00\", \"location\": \"world\", \"flights\": 155738}, {\"date\": \"2020-01-28T00:00:00\", \"location\": \"world\", \"flights\": 143842}, {\"date\": \"2020-02-03T00:00:00\", \"location\": \"world\", \"flights\": 141813}, {\"date\": \"2020-02-10T00:00:00\", \"location\": \"world\", \"flights\": 125532}, {\"date\": \"2020-02-17T00:00:00\", \"location\": \"world\", \"flights\": 137174}, {\"date\": \"2020-02-24T00:00:00\", \"location\": \"world\", \"flights\": 135868}, {\"date\": \"2020-03-03T00:00:00\", \"location\": \"world\", \"flights\": 138586}, {\"date\": \"2020-03-10T00:00:00\", \"location\": \"world\", \"flights\": 134817}, {\"date\": \"2020-03-17T00:00:00\", \"location\": \"world\", \"flights\": 117274}, {\"date\": \"2020-03-24T00:00:00\", \"location\": \"world\", \"flights\": 77356}, {\"date\": \"2020-03-31T00:00:00\", \"location\": \"world\", \"flights\": 60722}, {\"date\": \"2020-04-07T00:00:00\", \"location\": \"world\", \"flights\": 57409}, {\"date\": \"2020-01-07T00:00:00\", \"location\": \"europe\", \"flights\": 12410}, {\"date\": \"2020-01-14T00:00:00\", \"location\": \"europe\", \"flights\": 11605}, {\"date\": \"2020-01-21T00:00:00\", \"location\": \"europe\", \"flights\": 11866}, {\"date\": \"2020-01-28T00:00:00\", \"location\": \"europe\", \"flights\": 11952}, {\"date\": \"2020-02-03T00:00:00\", \"location\": \"europe\", \"flights\": 12890}, {\"date\": \"2020-02-10T00:00:00\", \"location\": \"europe\", \"flights\": 11905}, {\"date\": \"2020-02-17T00:00:00\", \"location\": \"europe\", \"flights\": 13225}, {\"date\": \"2020-02-24T00:00:00\", \"location\": \"europe\", \"flights\": 13327}, {\"date\": \"2020-03-03T00:00:00\", \"location\": \"europe\", \"flights\": 12575}, {\"date\": \"2020-03-10T00:00:00\", \"location\": \"europe\", \"flights\": 11111}, {\"date\": \"2020-03-17T00:00:00\", \"location\": \"europe\", \"flights\": 7609}, {\"date\": \"2020-03-24T00:00:00\", \"location\": \"europe\", \"flights\": 3755}, {\"date\": \"2020-03-31T00:00:00\", \"location\": \"europe\", \"flights\": 2411}, {\"date\": \"2020-04-07T00:00:00\", \"location\": \"europe\", \"flights\": 1827}, {\"date\": \"2020-01-07T00:00:00\", \"location\": \"usa\", \"flights\": 24763}, {\"date\": \"2020-01-14T00:00:00\", \"location\": \"usa\", \"flights\": 23864}, {\"date\": \"2020-01-21T00:00:00\", \"location\": \"usa\", \"flights\": 24067}, {\"date\": \"2020-01-28T00:00:00\", \"location\": \"usa\", \"flights\": 24016}, {\"date\": \"2020-02-03T00:00:00\", \"location\": \"usa\", \"flights\": 24000}, {\"date\": \"2020-02-10T00:00:00\", \"location\": \"usa\", \"flights\": 24101}, {\"date\": \"2020-02-17T00:00:00\", \"location\": \"usa\", \"flights\": 23353}, {\"date\": \"2020-02-24T00:00:00\", \"location\": \"usa\", \"flights\": 24902}, {\"date\": \"2020-03-03T00:00:00\", \"location\": \"usa\", \"flights\": 24497}, {\"date\": \"2020-03-10T00:00:00\", \"location\": \"usa\", \"flights\": 24431}, {\"date\": \"2020-03-17T00:00:00\", \"location\": \"usa\", \"flights\": 23238}, {\"date\": \"2020-03-24T00:00:00\", \"location\": \"usa\", \"flights\": 15032}, {\"date\": \"2020-03-31T00:00:00\", \"location\": \"usa\", \"flights\": 11470}, {\"date\": \"2020-04-07T00:00:00\", \"location\": \"usa\", \"flights\": 9159}]}}, {\"mode\": \"vega-lite\"});\n",
       "</script>"
      ],
      "text/plain": [
       "alt.Chart(...)"
      ]
     },
     "execution_count": 35,
     "metadata": {},
     "output_type": "execute_result"
    }
   ],
   "source": [
    "all_flights_chart_mobile = alt.Chart(flights_us_eu_global_melt).mark_area(size=4,color='#006D8F').encode(\n",
    "    x=alt.X('date:T', title='', axis=alt.Axis(grid=False, tickCount=6, format='%b. %-d')),\n",
    "    y=alt.Y('flights:Q', title='', axis=alt.Axis(domainOpacity=0, tickSize=0,grid=True, tickCount=6, format='.0s'),\n",
    "                             sort=alt.EncodingSortField(\n",
    "                                field=\"location\",\n",
    "                                op=\"sum\",\n",
    "                                order=\"ascending\")),\n",
    "    color=alt.Color('location:N',\n",
    "                   scale=alt.Scale(\n",
    "            domain=['usa', 'europe', 'world'],\n",
    "            range=['#fadc90', '#ec862b', '#a84b24']), legend=None),\n",
    ").properties(width=320, height=200,\n",
    "    title=''\n",
    ")\n",
    "\n",
    "all_flights_chart_mobile.configure_view(strokeOpacity=0)"
   ]
  },
  {
   "cell_type": "code",
   "execution_count": 36,
   "metadata": {},
   "outputs": [],
   "source": [
    "#a84b24\n",
    "#d36627\n",
    "#ec862b\n",
    "#f5bd63\n",
    "#fadc90\n",
    "#fbf7c6"
   ]
  },
  {
   "cell_type": "code",
   "execution_count": 37,
   "metadata": {},
   "outputs": [
    {
     "data": {
      "text/html": [
       "\n",
       "<div id=\"altair-viz-ebabe6329ac14c789f76bb1206725b7a\"></div>\n",
       "<script type=\"text/javascript\">\n",
       "  (function(spec, embedOpt){\n",
       "    const outputDiv = document.getElementById(\"altair-viz-ebabe6329ac14c789f76bb1206725b7a\");\n",
       "    const paths = {\n",
       "      \"vega\": \"https://cdn.jsdelivr.net/npm//vega@5?noext\",\n",
       "      \"vega-lib\": \"https://cdn.jsdelivr.net/npm//vega-lib?noext\",\n",
       "      \"vega-lite\": \"https://cdn.jsdelivr.net/npm//vega-lite@4.0.2?noext\",\n",
       "      \"vega-embed\": \"https://cdn.jsdelivr.net/npm//vega-embed@6?noext\",\n",
       "    };\n",
       "\n",
       "    function loadScript(lib) {\n",
       "      return new Promise(function(resolve, reject) {\n",
       "        var s = document.createElement('script');\n",
       "        s.src = paths[lib];\n",
       "        s.async = true;\n",
       "        s.onload = () => resolve(paths[lib]);\n",
       "        s.onerror = () => reject(`Error loading script: ${paths[lib]}`);\n",
       "        document.getElementsByTagName(\"head\")[0].appendChild(s);\n",
       "      });\n",
       "    }\n",
       "\n",
       "    function showError(err) {\n",
       "      outputDiv.innerHTML = `<div class=\"error\" style=\"color:red;\">${err}</div>`;\n",
       "      throw err;\n",
       "    }\n",
       "\n",
       "    function displayChart(vegaEmbed) {\n",
       "      vegaEmbed(outputDiv, spec, embedOpt)\n",
       "        .catch(err => showError(`Javascript Error: ${err.message}<br>This usually means there's a typo in your chart specification. See the javascript console for the full traceback.`));\n",
       "    }\n",
       "\n",
       "    if(typeof define === \"function\" && define.amd) {\n",
       "      requirejs.config({paths});\n",
       "      require([\"vega-embed\"], displayChart, err => showError(`Error loading script: ${err.message}`));\n",
       "    } else if (typeof vegaEmbed === \"function\") {\n",
       "      displayChart(vegaEmbed);\n",
       "    } else {\n",
       "      loadScript(\"vega\")\n",
       "        .then(() => loadScript(\"vega-lite\"))\n",
       "        .then(() => loadScript(\"vega-embed\"))\n",
       "        .catch(showError)\n",
       "        .then(() => displayChart(vegaEmbed));\n",
       "    }\n",
       "  })({\"config\": {\"view\": {\"width\": 800, \"height\": 450, \"strokeOpacity\": 0}, \"background\": \"#ffffff\", \"title\": {\"anchor\": \"start\", \"font\": \"Benton Gothic Bold, sans\", \"fontColor\": \"#000000\", \"fontSize\": 22, \"fontWeight\": \"normal\"}, \"arc\": {\"fill\": \"#82c6df\"}, \"area\": {\"fill\": \"#82c6df\"}, \"line\": {\"stroke\": \"#82c6df\", \"strokeWidth\": 3}, \"path\": {\"stroke\": \"#82c6df\"}, \"rect\": {\"fill\": \"#82c6df\"}, \"shape\": {\"stroke\": \"#82c6df\"}, \"bar\": {\"fill\": \"#82c6df\"}, \"point\": {\"stroke\": \"#82c6df\"}, \"symbol\": {\"fill\": \"#82c6df\", \"size\": 30}, \"axis\": {\"titleFont\": \"Benton Gothic Bold, sans\", \"titleFontSize\": 13, \"titleFontWeight\": \"normal\", \"labelFont\": \"Benton Gothic, sans\", \"labelFontSize\": 11.5, \"labelFontWeight\": \"normal\"}, \"axisX\": {\"labelAngle\": 0, \"labelPadding\": 4, \"tickSize\": 3}, \"axisY\": {\"labelBaseline\": \"middle\", \"maxExtent\": 45, \"minExtent\": 45, \"tickSize\": 2, \"titleAlign\": \"left\", \"titleAngle\": 0, \"titleX\": -45, \"titleY\": -11}, \"legend\": {\"titleFont\": \"Benton Gothic Bold, sans\", \"titleFontSize\": 13, \"titleFontWeight\": \"normal\", \"symbolType\": \"square\", \"labelFont\": \"Benton Gothic, sans\", \"labelFontSize\": 11.5}, \"range\": {\"category\": [\"#3580b1\", \"#ec8431\", \"#ab7fb4\", \"#c89d29\", \"#adc839\", \"#829eb1\"], \"diverging\": [\"#e68a4f\", \"#f4bb6a\", \"#f9e39c\", \"#dadfe2\", \"#a6b7c6\", \"#849eae\"], \"heatmap\": [\"#fbf2c7\", \"#f9e39c\", \"#f8d36e\", \"#f4bb6a\", \"#e68a4f\", \"#d15a40\", \"#ab4232\"], \"ordinal\": [\"#fbf2c7\", \"#f9e39c\", \"#f8d36e\", \"#f4bb6a\", \"#e68a4f\", \"#d15a40\", \"#ab4232\"], \"ramp\": [\"#fbf2c7\", \"#f9e39c\", \"#f8d36e\", \"#f4bb6a\", \"#e68a4f\", \"#d15a40\", \"#ab4232\"]}}, \"data\": {\"name\": \"data-6736df575bc064d7c588a98c2d26ab63\"}, \"mark\": {\"type\": \"area\", \"color\": \"#006D8F\", \"size\": 4}, \"encoding\": {\"color\": {\"type\": \"nominal\", \"field\": \"location\", \"legend\": null, \"scale\": {\"domain\": [\"usa\", \"europe\", \"world\"], \"range\": [\"#fadc90\", \"#ec862b\", \"#a84b24\"]}}, \"x\": {\"type\": \"temporal\", \"axis\": {\"format\": \"%b. %-d\", \"grid\": false, \"tickCount\": 6}, \"field\": \"date\", \"title\": \"\"}, \"y\": {\"type\": \"quantitative\", \"axis\": {\"domainOpacity\": 0, \"format\": \".0s\", \"grid\": true, \"tickCount\": 6, \"tickSize\": 0}, \"field\": \"flights\", \"sort\": {\"field\": \"location\", \"op\": \"sum\", \"order\": \"ascending\"}, \"title\": \"\"}}, \"height\": 300, \"title\": \"\", \"width\": 600, \"$schema\": \"https://vega.github.io/schema/vega-lite/v4.0.2.json\", \"datasets\": {\"data-6736df575bc064d7c588a98c2d26ab63\": [{\"date\": \"2020-01-07T00:00:00\", \"location\": \"world\", \"flights\": 145204}, {\"date\": \"2020-01-14T00:00:00\", \"location\": \"world\", \"flights\": 139024}, {\"date\": \"2020-01-21T00:00:00\", \"location\": \"world\", \"flights\": 155738}, {\"date\": \"2020-01-28T00:00:00\", \"location\": \"world\", \"flights\": 143842}, {\"date\": \"2020-02-03T00:00:00\", \"location\": \"world\", \"flights\": 141813}, {\"date\": \"2020-02-10T00:00:00\", \"location\": \"world\", \"flights\": 125532}, {\"date\": \"2020-02-17T00:00:00\", \"location\": \"world\", \"flights\": 137174}, {\"date\": \"2020-02-24T00:00:00\", \"location\": \"world\", \"flights\": 135868}, {\"date\": \"2020-03-03T00:00:00\", \"location\": \"world\", \"flights\": 138586}, {\"date\": \"2020-03-10T00:00:00\", \"location\": \"world\", \"flights\": 134817}, {\"date\": \"2020-03-17T00:00:00\", \"location\": \"world\", \"flights\": 117274}, {\"date\": \"2020-03-24T00:00:00\", \"location\": \"world\", \"flights\": 77356}, {\"date\": \"2020-03-31T00:00:00\", \"location\": \"world\", \"flights\": 60722}, {\"date\": \"2020-04-07T00:00:00\", \"location\": \"world\", \"flights\": 57409}, {\"date\": \"2020-01-07T00:00:00\", \"location\": \"europe\", \"flights\": 12410}, {\"date\": \"2020-01-14T00:00:00\", \"location\": \"europe\", \"flights\": 11605}, {\"date\": \"2020-01-21T00:00:00\", \"location\": \"europe\", \"flights\": 11866}, {\"date\": \"2020-01-28T00:00:00\", \"location\": \"europe\", \"flights\": 11952}, {\"date\": \"2020-02-03T00:00:00\", \"location\": \"europe\", \"flights\": 12890}, {\"date\": \"2020-02-10T00:00:00\", \"location\": \"europe\", \"flights\": 11905}, {\"date\": \"2020-02-17T00:00:00\", \"location\": \"europe\", \"flights\": 13225}, {\"date\": \"2020-02-24T00:00:00\", \"location\": \"europe\", \"flights\": 13327}, {\"date\": \"2020-03-03T00:00:00\", \"location\": \"europe\", \"flights\": 12575}, {\"date\": \"2020-03-10T00:00:00\", \"location\": \"europe\", \"flights\": 11111}, {\"date\": \"2020-03-17T00:00:00\", \"location\": \"europe\", \"flights\": 7609}, {\"date\": \"2020-03-24T00:00:00\", \"location\": \"europe\", \"flights\": 3755}, {\"date\": \"2020-03-31T00:00:00\", \"location\": \"europe\", \"flights\": 2411}, {\"date\": \"2020-04-07T00:00:00\", \"location\": \"europe\", \"flights\": 1827}, {\"date\": \"2020-01-07T00:00:00\", \"location\": \"usa\", \"flights\": 24763}, {\"date\": \"2020-01-14T00:00:00\", \"location\": \"usa\", \"flights\": 23864}, {\"date\": \"2020-01-21T00:00:00\", \"location\": \"usa\", \"flights\": 24067}, {\"date\": \"2020-01-28T00:00:00\", \"location\": \"usa\", \"flights\": 24016}, {\"date\": \"2020-02-03T00:00:00\", \"location\": \"usa\", \"flights\": 24000}, {\"date\": \"2020-02-10T00:00:00\", \"location\": \"usa\", \"flights\": 24101}, {\"date\": \"2020-02-17T00:00:00\", \"location\": \"usa\", \"flights\": 23353}, {\"date\": \"2020-02-24T00:00:00\", \"location\": \"usa\", \"flights\": 24902}, {\"date\": \"2020-03-03T00:00:00\", \"location\": \"usa\", \"flights\": 24497}, {\"date\": \"2020-03-10T00:00:00\", \"location\": \"usa\", \"flights\": 24431}, {\"date\": \"2020-03-17T00:00:00\", \"location\": \"usa\", \"flights\": 23238}, {\"date\": \"2020-03-24T00:00:00\", \"location\": \"usa\", \"flights\": 15032}, {\"date\": \"2020-03-31T00:00:00\", \"location\": \"usa\", \"flights\": 11470}, {\"date\": \"2020-04-07T00:00:00\", \"location\": \"usa\", \"flights\": 9159}]}}, {\"mode\": \"vega-lite\"});\n",
       "</script>"
      ],
      "text/plain": [
       "alt.Chart(...)"
      ]
     },
     "execution_count": 37,
     "metadata": {},
     "output_type": "execute_result"
    }
   ],
   "source": [
    "all_flights_chart_desktop = alt.Chart(flights_us_eu_global_melt).mark_area(size=4,color='#006D8F').encode(\n",
    "    x=alt.X('date:T', title='', axis=alt.Axis(grid=False, tickCount=6, format='%b. %-d')),\n",
    "    y=alt.Y('flights:Q', title='', axis=alt.Axis(domainOpacity=0, tickSize=0, grid=True, tickCount=6, format='.0s'),\n",
    "                             sort=alt.EncodingSortField(\n",
    "                                field=\"location\",\n",
    "                                op=\"sum\",\n",
    "                                order=\"ascending\")),\n",
    "    color=alt.Color('location:N',\n",
    "                   scale=alt.Scale(\n",
    "            domain=['usa', 'europe', 'world'],\n",
    "            range=['#fadc90', '#ec862b', '#a84b24']), legend=None),\n",
    ").properties(width=600, height=300,\n",
    "    title=''\n",
    ")\n",
    "\n",
    "all_flights_chart_desktop.configure_view(strokeOpacity=0)"
   ]
  },
  {
   "cell_type": "code",
   "execution_count": 38,
   "metadata": {},
   "outputs": [],
   "source": [
    "save(all_flights_chart_desktop, 'images/all_flights_chart_desktop.png', scale_factor=2.0)\n",
    "save(all_flights_chart_mobile, 'images/all_flights_chart_mobile.png', scale_factor=2.0)"
   ]
  },
  {
   "cell_type": "code",
   "execution_count": 39,
   "metadata": {},
   "outputs": [],
   "source": [
    "save(all_flights_chart_desktop, 'images/all_flights_chart_desktop.svg', scale_factor=2.0)\n",
    "save(all_flights_chart_mobile, 'images/all_flights_chart_mobile.svg', scale_factor=2.0)"
   ]
  },
  {
   "cell_type": "markdown",
   "metadata": {},
   "source": [
    "---"
   ]
  },
  {
   "cell_type": "markdown",
   "metadata": {},
   "source": [
    "### Just flights from CA"
   ]
  },
  {
   "cell_type": "code",
   "execution_count": 39,
   "metadata": {},
   "outputs": [],
   "source": [
    "socal = ['BUR', 'SNA', 'LGB', 'LAX', 'ONT', 'PSP']\n",
    "bayarea = ['CCR', 'STS', 'OAK', 'SFO', 'SJC']"
   ]
  },
  {
   "cell_type": "code",
   "execution_count": 40,
   "metadata": {},
   "outputs": [],
   "source": [
    "cali = ['LAX','SFO','SAN','OAK','SJC','SNA','TIJ','SMF','ONT','BUR','LGB','PSP','FAT','SBA', 'LAS', 'SEA']"
   ]
  },
  {
   "cell_type": "code",
   "execution_count": 41,
   "metadata": {},
   "outputs": [],
   "source": [
    "ours = pd.DataFrame(flights_df[(flights_df['schd_from'].isin(socal)) | \\\n",
    "                                  (flights_df['schd_from'].isin(bayarea))])"
   ]
  },
  {
   "cell_type": "code",
   "execution_count": 42,
   "metadata": {},
   "outputs": [
    {
     "data": {
      "text/plain": [
       "LAX    18112\n",
       "SFO    10858\n",
       "SJC     3870\n",
       "SNA     3845\n",
       "OAK     3752\n",
       "LGB     2275\n",
       "ONT     2245\n",
       "BUR     2222\n",
       "PSP     1471\n",
       "STS      678\n",
       "CCR      625\n",
       "Name: schd_from, dtype: int64"
      ]
     },
     "execution_count": 42,
     "metadata": {},
     "output_type": "execute_result"
    }
   ],
   "source": [
    "ours.schd_from.value_counts()"
   ]
  },
  {
   "cell_type": "code",
   "execution_count": 43,
   "metadata": {},
   "outputs": [],
   "source": [
    "our_flights = ours.groupby(['date']).agg('size').reset_index(name='flights')"
   ]
  },
  {
   "cell_type": "markdown",
   "metadata": {},
   "source": [
    "---"
   ]
  },
  {
   "cell_type": "markdown",
   "metadata": {},
   "source": [
    "### Drop shorter flights without a major airport listed as the final destination"
   ]
  },
  {
   "cell_type": "code",
   "execution_count": 44,
   "metadata": {},
   "outputs": [],
   "source": [
    "ours = pd.DataFrame(ours.dropna(subset=['real_to']))"
   ]
  },
  {
   "cell_type": "code",
   "execution_count": 45,
   "metadata": {},
   "outputs": [
    {
     "data": {
      "text/plain": [
       "LAX    13390\n",
       "SFO     8688\n",
       "SJC     3659\n",
       "OAK     3441\n",
       "SNA     3069\n",
       "BUR     2030\n",
       "ONT     1973\n",
       "LGB     1685\n",
       "PSP     1315\n",
       "STS      544\n",
       "CCR      355\n",
       "Name: schd_from, dtype: int64"
      ]
     },
     "execution_count": 45,
     "metadata": {},
     "output_type": "execute_result"
    }
   ],
   "source": [
    "ours.schd_from.value_counts()"
   ]
  },
  {
   "cell_type": "markdown",
   "metadata": {},
   "source": [
    "### Make the flight id a string merge later"
   ]
  },
  {
   "cell_type": "code",
   "execution_count": 46,
   "metadata": {},
   "outputs": [],
   "source": [
    "ours['flight_id'] = ours['flight_id'].astype(str)"
   ]
  },
  {
   "cell_type": "code",
   "execution_count": 47,
   "metadata": {},
   "outputs": [],
   "source": [
    "ours_slim = ours[['flight_id', 'reg', 'equip', 'flight', 'schd_from', 'real_to', 'name']]"
   ]
  },
  {
   "cell_type": "code",
   "execution_count": 48,
   "metadata": {},
   "outputs": [
    {
     "data": {
      "text/html": [
       "<div>\n",
       "<style scoped>\n",
       "    .dataframe tbody tr th:only-of-type {\n",
       "        vertical-align: middle;\n",
       "    }\n",
       "\n",
       "    .dataframe tbody tr th {\n",
       "        vertical-align: top;\n",
       "    }\n",
       "\n",
       "    .dataframe thead th {\n",
       "        text-align: right;\n",
       "    }\n",
       "</style>\n",
       "<table border=\"1\" class=\"dataframe\">\n",
       "  <thead>\n",
       "    <tr style=\"text-align: right;\">\n",
       "      <th></th>\n",
       "      <th>flight_id</th>\n",
       "      <th>reg</th>\n",
       "      <th>equip</th>\n",
       "      <th>flight</th>\n",
       "      <th>schd_from</th>\n",
       "      <th>real_to</th>\n",
       "      <th>name</th>\n",
       "    </tr>\n",
       "  </thead>\n",
       "  <tbody>\n",
       "    <tr>\n",
       "      <td>70</td>\n",
       "      <td>608290635</td>\n",
       "      <td>9VSGC</td>\n",
       "      <td>A359</td>\n",
       "      <td>SQ37</td>\n",
       "      <td>LAX</td>\n",
       "      <td>SIN</td>\n",
       "      <td>NaN</td>\n",
       "    </tr>\n",
       "    <tr>\n",
       "      <td>116</td>\n",
       "      <td>608308449</td>\n",
       "      <td>HL7639</td>\n",
       "      <td>B748</td>\n",
       "      <td>KE214</td>\n",
       "      <td>SFO</td>\n",
       "      <td>ICN</td>\n",
       "      <td>NaN</td>\n",
       "    </tr>\n",
       "    <tr>\n",
       "      <td>149</td>\n",
       "      <td>608304259</td>\n",
       "      <td>B18715</td>\n",
       "      <td>B744</td>\n",
       "      <td>CI5137</td>\n",
       "      <td>LAX</td>\n",
       "      <td>TPE</td>\n",
       "      <td>NaN</td>\n",
       "    </tr>\n",
       "    <tr>\n",
       "      <td>175</td>\n",
       "      <td>608305412</td>\n",
       "      <td>N26232</td>\n",
       "      <td>B738</td>\n",
       "      <td>UA292</td>\n",
       "      <td>SFO</td>\n",
       "      <td>MCO</td>\n",
       "      <td>UNITED AIRLINES INC</td>\n",
       "    </tr>\n",
       "    <tr>\n",
       "      <td>351</td>\n",
       "      <td>608319946</td>\n",
       "      <td>N121DU</td>\n",
       "      <td>BCS1</td>\n",
       "      <td>DL2703</td>\n",
       "      <td>SFO</td>\n",
       "      <td>SEA</td>\n",
       "      <td>DELTA AIR LINES INC</td>\n",
       "    </tr>\n",
       "    <tr>\n",
       "      <td>...</td>\n",
       "      <td>...</td>\n",
       "      <td>...</td>\n",
       "      <td>...</td>\n",
       "      <td>...</td>\n",
       "      <td>...</td>\n",
       "      <td>...</td>\n",
       "      <td>...</td>\n",
       "    </tr>\n",
       "    <tr>\n",
       "      <td>2149531</td>\n",
       "      <td>599765089</td>\n",
       "      <td>A6EOL</td>\n",
       "      <td>A388</td>\n",
       "      <td>EK226</td>\n",
       "      <td>SFO</td>\n",
       "      <td>DXB</td>\n",
       "      <td>NaN</td>\n",
       "    </tr>\n",
       "    <tr>\n",
       "      <td>2149549</td>\n",
       "      <td>599765172</td>\n",
       "      <td>N73299</td>\n",
       "      <td>B738</td>\n",
       "      <td>UA810</td>\n",
       "      <td>SFO</td>\n",
       "      <td>IAH</td>\n",
       "      <td>WELLS FARGO TRUST CO NA TRUSTEE</td>\n",
       "    </tr>\n",
       "    <tr>\n",
       "      <td>2149648</td>\n",
       "      <td>599765263</td>\n",
       "      <td>N105DU</td>\n",
       "      <td>BCS1</td>\n",
       "      <td>DL1550</td>\n",
       "      <td>SJC</td>\n",
       "      <td>SEA</td>\n",
       "      <td>DELTA AIR LINES INC</td>\n",
       "    </tr>\n",
       "    <tr>\n",
       "      <td>2149653</td>\n",
       "      <td>599765246</td>\n",
       "      <td>N400WN</td>\n",
       "      <td>B737</td>\n",
       "      <td>WN1465</td>\n",
       "      <td>SJC</td>\n",
       "      <td>BUR</td>\n",
       "      <td>SOUTHWEST AIRLINES CO</td>\n",
       "    </tr>\n",
       "    <tr>\n",
       "      <td>2149667</td>\n",
       "      <td>599765272</td>\n",
       "      <td>N769SW</td>\n",
       "      <td>B737</td>\n",
       "      <td>WN1767</td>\n",
       "      <td>SJC</td>\n",
       "      <td>LGB</td>\n",
       "      <td>SOUTHWEST AIRLINES CO</td>\n",
       "    </tr>\n",
       "  </tbody>\n",
       "</table>\n",
       "<p>40149 rows × 7 columns</p>\n",
       "</div>"
      ],
      "text/plain": [
       "         flight_id     reg equip  flight schd_from real_to  \\\n",
       "70       608290635   9VSGC  A359    SQ37       LAX     SIN   \n",
       "116      608308449  HL7639  B748   KE214       SFO     ICN   \n",
       "149      608304259  B18715  B744  CI5137       LAX     TPE   \n",
       "175      608305412  N26232  B738   UA292       SFO     MCO   \n",
       "351      608319946  N121DU  BCS1  DL2703       SFO     SEA   \n",
       "...            ...     ...   ...     ...       ...     ...   \n",
       "2149531  599765089   A6EOL  A388   EK226       SFO     DXB   \n",
       "2149549  599765172  N73299  B738   UA810       SFO     IAH   \n",
       "2149648  599765263  N105DU  BCS1  DL1550       SJC     SEA   \n",
       "2149653  599765246  N400WN  B737  WN1465       SJC     BUR   \n",
       "2149667  599765272  N769SW  B737  WN1767       SJC     LGB   \n",
       "\n",
       "                                    name  \n",
       "70                                   NaN  \n",
       "116                                  NaN  \n",
       "149                                  NaN  \n",
       "175                  UNITED AIRLINES INC  \n",
       "351                  DELTA AIR LINES INC  \n",
       "...                                  ...  \n",
       "2149531                              NaN  \n",
       "2149549  WELLS FARGO TRUST CO NA TRUSTEE  \n",
       "2149648              DELTA AIR LINES INC  \n",
       "2149653            SOUTHWEST AIRLINES CO  \n",
       "2149667            SOUTHWEST AIRLINES CO  \n",
       "\n",
       "[40149 rows x 7 columns]"
      ]
     },
     "execution_count": 48,
     "metadata": {},
     "output_type": "execute_result"
    }
   ],
   "source": [
    "ours_slim"
   ]
  },
  {
   "cell_type": "code",
   "execution_count": 49,
   "metadata": {},
   "outputs": [],
   "source": [
    "ours_slim.to_csv('output/ours.csv')"
   ]
  },
  {
   "cell_type": "markdown",
   "metadata": {},
   "source": [
    "---"
   ]
  },
  {
   "cell_type": "markdown",
   "metadata": {},
   "source": [
    "## Process 'positions' data showing each point along a flight"
   ]
  },
  {
   "cell_type": "code",
   "execution_count": 50,
   "metadata": {},
   "outputs": [
    {
     "data": {
      "text/html": [
       "<div>\n",
       "<style scoped>\n",
       "    .dataframe tbody tr th:only-of-type {\n",
       "        vertical-align: middle;\n",
       "    }\n",
       "\n",
       "    .dataframe tbody tr th {\n",
       "        vertical-align: top;\n",
       "    }\n",
       "\n",
       "    .dataframe thead th {\n",
       "        text-align: right;\n",
       "    }\n",
       "</style>\n",
       "<table border=\"1\" class=\"dataframe\">\n",
       "  <thead>\n",
       "    <tr style=\"text-align: right;\">\n",
       "      <th></th>\n",
       "      <th>snapshot_id</th>\n",
       "      <th>altitude</th>\n",
       "      <th>heading</th>\n",
       "      <th>latitude</th>\n",
       "      <th>longitude</th>\n",
       "      <th>radar_id</th>\n",
       "      <th>speed</th>\n",
       "      <th>squawk</th>\n",
       "    </tr>\n",
       "  </thead>\n",
       "  <tbody>\n",
       "    <tr>\n",
       "      <td>0</td>\n",
       "      <td>1581908696</td>\n",
       "      <td>0</td>\n",
       "      <td>295</td>\n",
       "      <td>38.74120</td>\n",
       "      <td>-90.35629</td>\n",
       "      <td>5798</td>\n",
       "      <td>18</td>\n",
       "      <td>0</td>\n",
       "    </tr>\n",
       "    <tr>\n",
       "      <td>1</td>\n",
       "      <td>1581908707</td>\n",
       "      <td>0</td>\n",
       "      <td>296</td>\n",
       "      <td>38.74166</td>\n",
       "      <td>-90.35723</td>\n",
       "      <td>5798</td>\n",
       "      <td>0</td>\n",
       "      <td>0</td>\n",
       "    </tr>\n",
       "    <tr>\n",
       "      <td>2</td>\n",
       "      <td>1581908716</td>\n",
       "      <td>0</td>\n",
       "      <td>289</td>\n",
       "      <td>38.74215</td>\n",
       "      <td>-90.35832</td>\n",
       "      <td>5798</td>\n",
       "      <td>0</td>\n",
       "      <td>0</td>\n",
       "    </tr>\n",
       "    <tr>\n",
       "      <td>3</td>\n",
       "      <td>1581908726</td>\n",
       "      <td>0</td>\n",
       "      <td>300</td>\n",
       "      <td>38.74275</td>\n",
       "      <td>-90.35944</td>\n",
       "      <td>5798</td>\n",
       "      <td>0</td>\n",
       "      <td>0</td>\n",
       "    </tr>\n",
       "    <tr>\n",
       "      <td>4</td>\n",
       "      <td>1581908736</td>\n",
       "      <td>0</td>\n",
       "      <td>305</td>\n",
       "      <td>38.74332</td>\n",
       "      <td>-90.36056</td>\n",
       "      <td>5798</td>\n",
       "      <td>24</td>\n",
       "      <td>0</td>\n",
       "    </tr>\n",
       "  </tbody>\n",
       "</table>\n",
       "</div>"
      ],
      "text/plain": [
       "   snapshot_id  altitude  heading  latitude  longitude  radar_id  speed  \\\n",
       "0   1581908696         0      295  38.74120  -90.35629      5798     18   \n",
       "1   1581908707         0      296  38.74166  -90.35723      5798      0   \n",
       "2   1581908716         0      289  38.74215  -90.35832      5798      0   \n",
       "3   1581908726         0      300  38.74275  -90.35944      5798      0   \n",
       "4   1581908736         0      305  38.74332  -90.36056      5798     24   \n",
       "\n",
       "   squawk  \n",
       "0       0  \n",
       "1       0  \n",
       "2       0  \n",
       "3       0  \n",
       "4       0  "
      ]
     },
     "execution_count": 50,
     "metadata": {},
     "output_type": "execute_result"
    }
   ],
   "source": [
    "a_position = pd.read_csv('/Users/mhustiles/data/data/flights/coronavirus/\\\n",
    "positions/20200217_positions/20200217_602122877.csv')\n",
    "a_position.head()"
   ]
  },
  {
   "cell_type": "markdown",
   "metadata": {},
   "source": [
    "### Set path for our targeted positions directory and define the files we'll concatenate"
   ]
  },
  {
   "cell_type": "code",
   "execution_count": 51,
   "metadata": {},
   "outputs": [],
   "source": [
    "path = '/Users/mhustiles/data/data/flights/coronavirus/positions/'\n",
    "files = glob.glob(os.path.join(path, \"*/*.csv\"), recursive=True)"
   ]
  },
  {
   "cell_type": "code",
   "execution_count": 52,
   "metadata": {},
   "outputs": [],
   "source": [
    "file_df = (pd.read_csv(f, encoding = \"ISO-8859-1\", low_memory=False)\\\n",
    "           .assign(flightid=os.path.basename(f)) for f in files)"
   ]
  },
  {
   "cell_type": "markdown",
   "metadata": {},
   "source": [
    "### Concateate the frames"
   ]
  },
  {
   "cell_type": "code",
   "execution_count": 53,
   "metadata": {},
   "outputs": [],
   "source": [
    "positions_df = pd.concat(file_df, ignore_index=True)"
   ]
  },
  {
   "cell_type": "code",
   "execution_count": 54,
   "metadata": {},
   "outputs": [
    {
     "data": {
      "text/html": [
       "<div>\n",
       "<style scoped>\n",
       "    .dataframe tbody tr th:only-of-type {\n",
       "        vertical-align: middle;\n",
       "    }\n",
       "\n",
       "    .dataframe tbody tr th {\n",
       "        vertical-align: top;\n",
       "    }\n",
       "\n",
       "    .dataframe thead th {\n",
       "        text-align: right;\n",
       "    }\n",
       "</style>\n",
       "<table border=\"1\" class=\"dataframe\">\n",
       "  <thead>\n",
       "    <tr style=\"text-align: right;\">\n",
       "      <th></th>\n",
       "      <th>snapshot_id</th>\n",
       "      <th>altitude</th>\n",
       "      <th>heading</th>\n",
       "      <th>latitude</th>\n",
       "      <th>longitude</th>\n",
       "      <th>radar_id</th>\n",
       "      <th>speed</th>\n",
       "      <th>squawk</th>\n",
       "      <th>flightid</th>\n",
       "    </tr>\n",
       "  </thead>\n",
       "  <tbody>\n",
       "    <tr>\n",
       "      <td>0</td>\n",
       "      <td>1586242630</td>\n",
       "      <td>0</td>\n",
       "      <td>99</td>\n",
       "      <td>22.29726</td>\n",
       "      <td>113.91716</td>\n",
       "      <td>22825</td>\n",
       "      <td>0</td>\n",
       "      <td>0</td>\n",
       "      <td>20200407_609507281.csv</td>\n",
       "    </tr>\n",
       "    <tr>\n",
       "      <td>1</td>\n",
       "      <td>1586242699</td>\n",
       "      <td>0</td>\n",
       "      <td>39</td>\n",
       "      <td>22.29724</td>\n",
       "      <td>113.91737</td>\n",
       "      <td>2892</td>\n",
       "      <td>0</td>\n",
       "      <td>2000</td>\n",
       "      <td>20200407_609507281.csv</td>\n",
       "    </tr>\n",
       "    <tr>\n",
       "      <td>2</td>\n",
       "      <td>1586242785</td>\n",
       "      <td>0</td>\n",
       "      <td>277</td>\n",
       "      <td>22.29727</td>\n",
       "      <td>113.91712</td>\n",
       "      <td>2892</td>\n",
       "      <td>2</td>\n",
       "      <td>2000</td>\n",
       "      <td>20200407_609507281.csv</td>\n",
       "    </tr>\n",
       "    <tr>\n",
       "      <td>3</td>\n",
       "      <td>1586242821</td>\n",
       "      <td>0</td>\n",
       "      <td>99</td>\n",
       "      <td>22.29723</td>\n",
       "      <td>113.91735</td>\n",
       "      <td>2892</td>\n",
       "      <td>0</td>\n",
       "      <td>2000</td>\n",
       "      <td>20200407_609507281.csv</td>\n",
       "    </tr>\n",
       "    <tr>\n",
       "      <td>4</td>\n",
       "      <td>1586242899</td>\n",
       "      <td>0</td>\n",
       "      <td>234</td>\n",
       "      <td>22.29707</td>\n",
       "      <td>113.91712</td>\n",
       "      <td>2892</td>\n",
       "      <td>0</td>\n",
       "      <td>2000</td>\n",
       "      <td>20200407_609507281.csv</td>\n",
       "    </tr>\n",
       "  </tbody>\n",
       "</table>\n",
       "</div>"
      ],
      "text/plain": [
       "   snapshot_id  altitude  heading  latitude  longitude  radar_id  speed  \\\n",
       "0   1586242630         0       99  22.29726  113.91716     22825      0   \n",
       "1   1586242699         0       39  22.29724  113.91737      2892      0   \n",
       "2   1586242785         0      277  22.29727  113.91712      2892      2   \n",
       "3   1586242821         0       99  22.29723  113.91735      2892      0   \n",
       "4   1586242899         0      234  22.29707  113.91712      2892      0   \n",
       "\n",
       "   squawk                flightid  \n",
       "0       0  20200407_609507281.csv  \n",
       "1    2000  20200407_609507281.csv  \n",
       "2    2000  20200407_609507281.csv  \n",
       "3    2000  20200407_609507281.csv  \n",
       "4    2000  20200407_609507281.csv  "
      ]
     },
     "execution_count": 54,
     "metadata": {},
     "output_type": "execute_result"
    }
   ],
   "source": [
    "positions_df.head()"
   ]
  },
  {
   "cell_type": "code",
   "execution_count": 55,
   "metadata": {},
   "outputs": [
    {
     "data": {
      "text/plain": [
       "48412520"
      ]
     },
     "execution_count": 55,
     "metadata": {},
     "output_type": "execute_result"
    }
   ],
   "source": [
    "len(positions_df)"
   ]
  },
  {
   "cell_type": "markdown",
   "metadata": {},
   "source": [
    "### Combined our newly processed flight positions"
   ]
  },
  {
   "cell_type": "code",
   "execution_count": 56,
   "metadata": {},
   "outputs": [],
   "source": [
    "positions_df['flightid'] = positions_df['flightid'].str.replace('.csv','')"
   ]
  },
  {
   "cell_type": "markdown",
   "metadata": {},
   "source": [
    "### Split the flightid field so we have a date string to convert later and also a flightid"
   ]
  },
  {
   "cell_type": "code",
   "execution_count": 57,
   "metadata": {},
   "outputs": [],
   "source": [
    "positions_df[['datestr','flight_id']] = positions_df.flightid.str.split(\"_\",expand=True,)"
   ]
  },
  {
   "cell_type": "code",
   "execution_count": 58,
   "metadata": {},
   "outputs": [
    {
     "data": {
      "text/plain": [
       "48412520"
      ]
     },
     "execution_count": 58,
     "metadata": {},
     "output_type": "execute_result"
    }
   ],
   "source": [
    "len(positions_df)"
   ]
  },
  {
   "cell_type": "code",
   "execution_count": 59,
   "metadata": {},
   "outputs": [
    {
     "data": {
      "text/html": [
       "<div>\n",
       "<style scoped>\n",
       "    .dataframe tbody tr th:only-of-type {\n",
       "        vertical-align: middle;\n",
       "    }\n",
       "\n",
       "    .dataframe tbody tr th {\n",
       "        vertical-align: top;\n",
       "    }\n",
       "\n",
       "    .dataframe thead th {\n",
       "        text-align: right;\n",
       "    }\n",
       "</style>\n",
       "<table border=\"1\" class=\"dataframe\">\n",
       "  <thead>\n",
       "    <tr style=\"text-align: right;\">\n",
       "      <th></th>\n",
       "      <th>snapshot_id</th>\n",
       "      <th>altitude</th>\n",
       "      <th>heading</th>\n",
       "      <th>latitude</th>\n",
       "      <th>longitude</th>\n",
       "      <th>radar_id</th>\n",
       "      <th>speed</th>\n",
       "      <th>squawk</th>\n",
       "      <th>flightid</th>\n",
       "      <th>datestr</th>\n",
       "      <th>flight_id</th>\n",
       "    </tr>\n",
       "  </thead>\n",
       "  <tbody>\n",
       "    <tr>\n",
       "      <td>0</td>\n",
       "      <td>1586242630</td>\n",
       "      <td>0</td>\n",
       "      <td>99</td>\n",
       "      <td>22.29726</td>\n",
       "      <td>113.91716</td>\n",
       "      <td>22825</td>\n",
       "      <td>0</td>\n",
       "      <td>0</td>\n",
       "      <td>20200407_609507281</td>\n",
       "      <td>20200407</td>\n",
       "      <td>609507281</td>\n",
       "    </tr>\n",
       "    <tr>\n",
       "      <td>1</td>\n",
       "      <td>1586242699</td>\n",
       "      <td>0</td>\n",
       "      <td>39</td>\n",
       "      <td>22.29724</td>\n",
       "      <td>113.91737</td>\n",
       "      <td>2892</td>\n",
       "      <td>0</td>\n",
       "      <td>2000</td>\n",
       "      <td>20200407_609507281</td>\n",
       "      <td>20200407</td>\n",
       "      <td>609507281</td>\n",
       "    </tr>\n",
       "    <tr>\n",
       "      <td>2</td>\n",
       "      <td>1586242785</td>\n",
       "      <td>0</td>\n",
       "      <td>277</td>\n",
       "      <td>22.29727</td>\n",
       "      <td>113.91712</td>\n",
       "      <td>2892</td>\n",
       "      <td>2</td>\n",
       "      <td>2000</td>\n",
       "      <td>20200407_609507281</td>\n",
       "      <td>20200407</td>\n",
       "      <td>609507281</td>\n",
       "    </tr>\n",
       "    <tr>\n",
       "      <td>3</td>\n",
       "      <td>1586242821</td>\n",
       "      <td>0</td>\n",
       "      <td>99</td>\n",
       "      <td>22.29723</td>\n",
       "      <td>113.91735</td>\n",
       "      <td>2892</td>\n",
       "      <td>0</td>\n",
       "      <td>2000</td>\n",
       "      <td>20200407_609507281</td>\n",
       "      <td>20200407</td>\n",
       "      <td>609507281</td>\n",
       "    </tr>\n",
       "    <tr>\n",
       "      <td>4</td>\n",
       "      <td>1586242899</td>\n",
       "      <td>0</td>\n",
       "      <td>234</td>\n",
       "      <td>22.29707</td>\n",
       "      <td>113.91712</td>\n",
       "      <td>2892</td>\n",
       "      <td>0</td>\n",
       "      <td>2000</td>\n",
       "      <td>20200407_609507281</td>\n",
       "      <td>20200407</td>\n",
       "      <td>609507281</td>\n",
       "    </tr>\n",
       "  </tbody>\n",
       "</table>\n",
       "</div>"
      ],
      "text/plain": [
       "   snapshot_id  altitude  heading  latitude  longitude  radar_id  speed  \\\n",
       "0   1586242630         0       99  22.29726  113.91716     22825      0   \n",
       "1   1586242699         0       39  22.29724  113.91737      2892      0   \n",
       "2   1586242785         0      277  22.29727  113.91712      2892      2   \n",
       "3   1586242821         0       99  22.29723  113.91735      2892      0   \n",
       "4   1586242899         0      234  22.29707  113.91712      2892      0   \n",
       "\n",
       "   squawk            flightid   datestr  flight_id  \n",
       "0       0  20200407_609507281  20200407  609507281  \n",
       "1    2000  20200407_609507281  20200407  609507281  \n",
       "2    2000  20200407_609507281  20200407  609507281  \n",
       "3    2000  20200407_609507281  20200407  609507281  \n",
       "4    2000  20200407_609507281  20200407  609507281  "
      ]
     },
     "execution_count": 59,
     "metadata": {},
     "output_type": "execute_result"
    }
   ],
   "source": [
    "positions_df.head()"
   ]
  },
  {
   "cell_type": "markdown",
   "metadata": {},
   "source": [
    "### Merge and filter positions data to flights departing just our four airports"
   ]
  },
  {
   "cell_type": "code",
   "execution_count": 60,
   "metadata": {},
   "outputs": [],
   "source": [
    "our_positions = ours_slim.merge(positions_df, on='flight_id', how='inner')"
   ]
  },
  {
   "cell_type": "code",
   "execution_count": 61,
   "metadata": {},
   "outputs": [
    {
     "data": {
      "text/plain": [
       "1136674"
      ]
     },
     "execution_count": 61,
     "metadata": {},
     "output_type": "execute_result"
    }
   ],
   "source": [
    "len(our_positions)"
   ]
  },
  {
   "cell_type": "markdown",
   "metadata": {},
   "source": [
    "---"
   ]
  },
  {
   "cell_type": "markdown",
   "metadata": {},
   "source": [
    "### Process the 'datestr' field into something we can use"
   ]
  },
  {
   "cell_type": "code",
   "execution_count": 62,
   "metadata": {},
   "outputs": [
    {
     "data": {
      "text/html": [
       "<div>\n",
       "<style scoped>\n",
       "    .dataframe tbody tr th:only-of-type {\n",
       "        vertical-align: middle;\n",
       "    }\n",
       "\n",
       "    .dataframe tbody tr th {\n",
       "        vertical-align: top;\n",
       "    }\n",
       "\n",
       "    .dataframe thead th {\n",
       "        text-align: right;\n",
       "    }\n",
       "</style>\n",
       "<table border=\"1\" class=\"dataframe\">\n",
       "  <thead>\n",
       "    <tr style=\"text-align: right;\">\n",
       "      <th></th>\n",
       "      <th>flight_id</th>\n",
       "      <th>reg</th>\n",
       "      <th>equip</th>\n",
       "      <th>flight</th>\n",
       "      <th>schd_from</th>\n",
       "      <th>real_to</th>\n",
       "      <th>name</th>\n",
       "      <th>snapshot_id</th>\n",
       "      <th>altitude</th>\n",
       "      <th>heading</th>\n",
       "      <th>latitude</th>\n",
       "      <th>longitude</th>\n",
       "      <th>radar_id</th>\n",
       "      <th>speed</th>\n",
       "      <th>squawk</th>\n",
       "      <th>flightid</th>\n",
       "      <th>datestr</th>\n",
       "    </tr>\n",
       "  </thead>\n",
       "  <tbody>\n",
       "    <tr>\n",
       "      <td>0</td>\n",
       "      <td>601998047</td>\n",
       "      <td>HL7413</td>\n",
       "      <td>B744</td>\n",
       "      <td>OZ285</td>\n",
       "      <td>SFO</td>\n",
       "      <td>ICN</td>\n",
       "      <td>NaN</td>\n",
       "      <td>1581897680</td>\n",
       "      <td>0</td>\n",
       "      <td>25</td>\n",
       "      <td>37.46589</td>\n",
       "      <td>126.46249</td>\n",
       "      <td>41014</td>\n",
       "      <td>0</td>\n",
       "      <td>3302</td>\n",
       "      <td>20200217_601998047</td>\n",
       "      <td>20200217</td>\n",
       "    </tr>\n",
       "    <tr>\n",
       "      <td>1</td>\n",
       "      <td>602018853</td>\n",
       "      <td>JA11KZ</td>\n",
       "      <td>B748</td>\n",
       "      <td>KZ101</td>\n",
       "      <td>LAX</td>\n",
       "      <td>NRT</td>\n",
       "      <td>NaN</td>\n",
       "      <td>1581899760</td>\n",
       "      <td>36000</td>\n",
       "      <td>224</td>\n",
       "      <td>41.86270</td>\n",
       "      <td>148.38032</td>\n",
       "      <td>2953</td>\n",
       "      <td>387</td>\n",
       "      <td>6207</td>\n",
       "      <td>20200217_602018853</td>\n",
       "      <td>20200217</td>\n",
       "    </tr>\n",
       "    <tr>\n",
       "      <td>2</td>\n",
       "      <td>602018853</td>\n",
       "      <td>JA11KZ</td>\n",
       "      <td>B748</td>\n",
       "      <td>KZ101</td>\n",
       "      <td>LAX</td>\n",
       "      <td>NRT</td>\n",
       "      <td>NaN</td>\n",
       "      <td>1581899794</td>\n",
       "      <td>36000</td>\n",
       "      <td>224</td>\n",
       "      <td>41.81955</td>\n",
       "      <td>148.32317</td>\n",
       "      <td>2953</td>\n",
       "      <td>386</td>\n",
       "      <td>6207</td>\n",
       "      <td>20200217_602018853</td>\n",
       "      <td>20200217</td>\n",
       "    </tr>\n",
       "    <tr>\n",
       "      <td>3</td>\n",
       "      <td>602018853</td>\n",
       "      <td>JA11KZ</td>\n",
       "      <td>B748</td>\n",
       "      <td>KZ101</td>\n",
       "      <td>LAX</td>\n",
       "      <td>NRT</td>\n",
       "      <td>NaN</td>\n",
       "      <td>1581899888</td>\n",
       "      <td>36000</td>\n",
       "      <td>223</td>\n",
       "      <td>41.70224</td>\n",
       "      <td>148.16896</td>\n",
       "      <td>8695</td>\n",
       "      <td>384</td>\n",
       "      <td>2000</td>\n",
       "      <td>20200217_602018853</td>\n",
       "      <td>20200217</td>\n",
       "    </tr>\n",
       "    <tr>\n",
       "      <td>4</td>\n",
       "      <td>602018853</td>\n",
       "      <td>JA11KZ</td>\n",
       "      <td>B748</td>\n",
       "      <td>KZ101</td>\n",
       "      <td>LAX</td>\n",
       "      <td>NRT</td>\n",
       "      <td>NaN</td>\n",
       "      <td>1581899950</td>\n",
       "      <td>36000</td>\n",
       "      <td>224</td>\n",
       "      <td>41.62322</td>\n",
       "      <td>148.06737</td>\n",
       "      <td>8695</td>\n",
       "      <td>382</td>\n",
       "      <td>2000</td>\n",
       "      <td>20200217_602018853</td>\n",
       "      <td>20200217</td>\n",
       "    </tr>\n",
       "  </tbody>\n",
       "</table>\n",
       "</div>"
      ],
      "text/plain": [
       "   flight_id     reg equip flight schd_from real_to name  snapshot_id  \\\n",
       "0  601998047  HL7413  B744  OZ285       SFO     ICN  NaN   1581897680   \n",
       "1  602018853  JA11KZ  B748  KZ101       LAX     NRT  NaN   1581899760   \n",
       "2  602018853  JA11KZ  B748  KZ101       LAX     NRT  NaN   1581899794   \n",
       "3  602018853  JA11KZ  B748  KZ101       LAX     NRT  NaN   1581899888   \n",
       "4  602018853  JA11KZ  B748  KZ101       LAX     NRT  NaN   1581899950   \n",
       "\n",
       "   altitude  heading  latitude  longitude  radar_id  speed  squawk  \\\n",
       "0         0       25  37.46589  126.46249     41014      0    3302   \n",
       "1     36000      224  41.86270  148.38032      2953    387    6207   \n",
       "2     36000      224  41.81955  148.32317      2953    386    6207   \n",
       "3     36000      223  41.70224  148.16896      8695    384    2000   \n",
       "4     36000      224  41.62322  148.06737      8695    382    2000   \n",
       "\n",
       "             flightid   datestr  \n",
       "0  20200217_601998047  20200217  \n",
       "1  20200217_602018853  20200217  \n",
       "2  20200217_602018853  20200217  \n",
       "3  20200217_602018853  20200217  \n",
       "4  20200217_602018853  20200217  "
      ]
     },
     "execution_count": 62,
     "metadata": {},
     "output_type": "execute_result"
    }
   ],
   "source": [
    "our_positions.head()"
   ]
  },
  {
   "cell_type": "code",
   "execution_count": 63,
   "metadata": {},
   "outputs": [],
   "source": [
    "our_positions['date'] = pd.to_datetime(our_positions.datestr, format='%Y%m%d')"
   ]
  },
  {
   "cell_type": "markdown",
   "metadata": {},
   "source": [
    "### Convert the unix timestampt to human datetime and localize"
   ]
  },
  {
   "cell_type": "code",
   "execution_count": 64,
   "metadata": {},
   "outputs": [],
   "source": [
    "our_positions['date_time'] = pd.to_datetime(our_positions['snapshot_id'],unit='s')\n",
    "our_positions['utc_datetime'] = \\\n",
    "    pd.to_datetime(our_positions['date_time'], format='%Y-%m-%dT%H:%M:%SZ').dt.tz_localize('UTC')"
   ]
  },
  {
   "cell_type": "code",
   "execution_count": 65,
   "metadata": {},
   "outputs": [],
   "source": [
    "our_positions['datetime_pst'] = our_positions['utc_datetime'].dt.tz_convert('America/Los_Angeles')"
   ]
  },
  {
   "cell_type": "code",
   "execution_count": 66,
   "metadata": {},
   "outputs": [],
   "source": [
    "our_positions['date'] = pd.to_datetime(our_positions['datetime_pst']).dt.strftime('%m/%d/%Y')\n",
    "our_positions['time'] = pd.to_datetime(our_positions['datetime_pst']).dt.strftime('%H:%M:%S')"
   ]
  },
  {
   "cell_type": "code",
   "execution_count": 67,
   "metadata": {},
   "outputs": [],
   "source": [
    "positions = pd.DataFrame(our_positions)"
   ]
  },
  {
   "cell_type": "code",
   "execution_count": null,
   "metadata": {},
   "outputs": [],
   "source": [
    "positions.sort_values(by='date', ascending=False).head()"
   ]
  },
  {
   "cell_type": "code",
   "execution_count": 142,
   "metadata": {},
   "outputs": [],
   "source": [
    "positions['before'] = (positions['date'] == '02/16/2020')|(positions['date'] == '02/17/2020')\n",
    "positions['after'] = (positions['date'] == '04/06/2020')|(positions['date'] == '04/7/2020')"
   ]
  },
  {
   "cell_type": "code",
   "execution_count": 170,
   "metadata": {},
   "outputs": [
    {
     "data": {
      "text/plain": [
       "flight_id                        601998047\n",
       "reg                                 HL7413\n",
       "equip                                 B744\n",
       "flight                               OZ285\n",
       "schd_from                              SFO\n",
       "real_to                                ICN\n",
       "name                                   NaN\n",
       "snapshot_id                     1581897680\n",
       "altitude                                 0\n",
       "heading                                 25\n",
       "latitude                           37.4659\n",
       "longitude                          126.462\n",
       "radar_id                             41014\n",
       "speed                                    0\n",
       "squawk                                3302\n",
       "flightid                20200217_601998047\n",
       "datestr                           20200217\n",
       "date                            02/16/2020\n",
       "date_time              2020-02-17 00:01:20\n",
       "utc_datetime     2020-02-17 00:01:20+00:00\n",
       "datetime_pst     2020-02-16 16:01:20-08:00\n",
       "time                              16:01:20\n",
       "geometry        POINT (126.46249 37.46589)\n",
       "before                                True\n",
       "after                                False\n",
       "Name: 0, dtype: object"
      ]
     },
     "execution_count": 170,
     "metadata": {},
     "output_type": "execute_result"
    }
   ],
   "source": [
    "positions.iloc[0]"
   ]
  },
  {
   "cell_type": "markdown",
   "metadata": {},
   "source": [
    "---"
   ]
  },
  {
   "cell_type": "markdown",
   "metadata": {},
   "source": [
    "## Geography"
   ]
  },
  {
   "cell_type": "markdown",
   "metadata": {},
   "source": [
    "### Convert to positions to a GeoDataFrame using lon/lat for each point in the flight"
   ]
  },
  {
   "cell_type": "code",
   "execution_count": 144,
   "metadata": {},
   "outputs": [
    {
     "data": {
      "text/plain": [
       "flight_id                       602036559\n",
       "reg                                B16709\n",
       "equip                                B77W\n",
       "flight                                BR7\n",
       "schd_from                             SFO\n",
       "real_to                               TPE\n",
       "name                                  NaN\n",
       "snapshot_id                    1581937285\n",
       "altitude                                0\n",
       "heading                               320\n",
       "latitude                          25.0779\n",
       "longitude                         121.238\n",
       "radar_id                             6586\n",
       "speed                                  14\n",
       "squawk                               3226\n",
       "flightid               20200217_602036559\n",
       "datestr                          20200217\n",
       "date                           02/17/2020\n",
       "date_time             2020-02-17 11:01:25\n",
       "utc_datetime    2020-02-17 11:01:25+00:00\n",
       "datetime_pst    2020-02-17 03:01:25-08:00\n",
       "time                             03:01:25\n",
       "geometry        POINT (121.23759 25.0779)\n",
       "before                               True\n",
       "after                               False\n",
       "Name: 1000, dtype: object"
      ]
     },
     "execution_count": 144,
     "metadata": {},
     "output_type": "execute_result"
    }
   ],
   "source": [
    "positions.loc[1000]"
   ]
  },
  {
   "cell_type": "code",
   "execution_count": 145,
   "metadata": {},
   "outputs": [],
   "source": [
    "positions_geo_all = gpd.GeoDataFrame(\n",
    "    positions, geometry=gpd.points_from_xy(positions.longitude, positions.latitude))"
   ]
  },
  {
   "cell_type": "code",
   "execution_count": 146,
   "metadata": {},
   "outputs": [],
   "source": [
    "positions_geo_all_grouped = positions_geo_all.groupby('flight_id')['geometry'].size().reset_index()"
   ]
  },
  {
   "cell_type": "code",
   "execution_count": 147,
   "metadata": {},
   "outputs": [],
   "source": [
    "postitions_geo_filtered = positions_geo_all_grouped[positions_geo_all_grouped['geometry'] > 10]"
   ]
  },
  {
   "cell_type": "code",
   "execution_count": 148,
   "metadata": {},
   "outputs": [],
   "source": [
    "postitions_geo_slim = gpd.GeoDataFrame(positions_geo_all.merge(postitions_geo_filtered,\\\n",
    "                                                               on='flight_id', how='inner'))"
   ]
  },
  {
   "cell_type": "code",
   "execution_count": 149,
   "metadata": {},
   "outputs": [],
   "source": [
    "postitions_geo_slim.rename(columns={\"geometry_x\": \"geometry\", \"geometry_y\": \"pointcnt\"}, inplace=True)"
   ]
  },
  {
   "cell_type": "code",
   "execution_count": 150,
   "metadata": {},
   "outputs": [],
   "source": [
    "postitions_geo_slim = postitions_geo_slim.drop(['snapshot_id','latitude', \\\n",
    "                                    'longitude', 'datestr', \\\n",
    "                                   'utc_datetime','squawk',\\\n",
    "                                    'radar_id',\\\n",
    "                                   'heading'], axis=1)"
   ]
  },
  {
   "cell_type": "code",
   "execution_count": 151,
   "metadata": {},
   "outputs": [
    {
     "data": {
      "text/plain": [
       "02/17/2020    573947\n",
       "02/16/2020    278533\n",
       "04/07/2020    208403\n",
       "04/06/2020     75394\n",
       "Name: date, dtype: int64"
      ]
     },
     "execution_count": 151,
     "metadata": {},
     "output_type": "execute_result"
    }
   ],
   "source": [
    "postitions_geo_slim.date.value_counts()"
   ]
  },
  {
   "cell_type": "code",
   "execution_count": null,
   "metadata": {},
   "outputs": [],
   "source": [
    "postitions_geo_slim.to_file('/Users/mhustiles/data/data/flights/\\\n",
    "coronavirus/postitions_geo_slim.geojson', driver='GeoJSON')"
   ]
  },
  {
   "cell_type": "markdown",
   "metadata": {},
   "source": [
    "### Clip the flight data to around continental United States"
   ]
  },
  {
   "cell_type": "code",
   "execution_count": 153,
   "metadata": {},
   "outputs": [
    {
     "name": "stdout",
     "output_type": "stream",
     "text": [
      "Warning 1: The output driver does not natively support DateTime type for field date_time. Misconversion can happen. -mapFieldType can be used to control field type conversion.\r\n",
      "Warning 1: The output driver does not natively support DateTime type for field datetime_pst. Misconversion can happen. -mapFieldType can be used to control field type conversion.\r\n",
      "Warning 1: The output driver does not natively support Time type for field time. Misconversion can happen. -mapFieldType can be used to control field type conversion.\r\n"
     ]
    }
   ],
   "source": [
    "!ogr2ogr -f \"GeoJSON\" '/Users/mhustiles/data/data/flights/coronavirus/positions_geo_clipped.geojson' \\\n",
    "'/Users/mhustiles/data/data/flights/coronavirus/postitions_geo_slim.geojson' \\\n",
    "-clipsrc -136.5 6.4 -62.9 55.7"
   ]
  },
  {
   "cell_type": "code",
   "execution_count": null,
   "metadata": {},
   "outputs": [],
   "source": [
    "positions_geo_clipped = gpd.read_file('/Users/mhustiles/data/data/flights/\\\n",
    "coronavirus/positions_geo_clipped.geojson')"
   ]
  },
  {
   "cell_type": "markdown",
   "metadata": {},
   "source": [
    "### Before (Feb. 17) points"
   ]
  },
  {
   "cell_type": "code",
   "execution_count": 173,
   "metadata": {},
   "outputs": [],
   "source": [
    "positions_geo_before = gpd.GeoDataFrame(positions_geo_clipped[positions_geo_clipped['before'] == True])"
   ]
  },
  {
   "cell_type": "code",
   "execution_count": 174,
   "metadata": {},
   "outputs": [],
   "source": [
    "positions_geo_before.to_file('/Users/mhustiles/data/data/flights/coronavirus\\\n",
    "/positions_geo_before.geojson', driver='GeoJSON')"
   ]
  },
  {
   "cell_type": "code",
   "execution_count": 175,
   "metadata": {},
   "outputs": [
    {
     "data": {
      "text/plain": [
       "<matplotlib.axes._subplots.AxesSubplot at 0x690a42790>"
      ]
     },
     "execution_count": 175,
     "metadata": {},
     "output_type": "execute_result"
    },
    {
     "data": {
      "image/png": "[encoded data removed]",
      "text/plain": [
       "<Figure size 432x288 with 1 Axes>"
      ]
     },
     "metadata": {
      "needs_background": "light"
     },
     "output_type": "display_data"
    }
   ],
   "source": [
    "positions_geo_before.plot()"
   ]
  },
  {
   "cell_type": "markdown",
   "metadata": {},
   "source": [
    "### After (April 7) points"
   ]
  },
  {
   "cell_type": "code",
   "execution_count": 164,
   "metadata": {},
   "outputs": [],
   "source": [
    "positions_geo_after = gpd.GeoDataFrame(positions_geo_clipped[positions_geo_clipped['after'] == True])"
   ]
  },
  {
   "cell_type": "code",
   "execution_count": 165,
   "metadata": {},
   "outputs": [],
   "source": [
    "positions_geo_after.to_file('/Users/mhustiles/data/data/flights/coronavirus\\\n",
    "/positions_geo_after.geojson', driver='GeoJSON')"
   ]
  },
  {
   "cell_type": "code",
   "execution_count": 166,
   "metadata": {},
   "outputs": [
    {
     "data": {
      "text/plain": [
       "<matplotlib.axes._subplots.AxesSubplot at 0x6909c8450>"
      ]
     },
     "execution_count": 166,
     "metadata": {},
     "output_type": "execute_result"
    },
    {
     "data": {
      "image/png": "[encoded data removed]",
      "text/plain": [
       "<Figure size 432x288 with 1 Axes>"
      ]
     },
     "metadata": {
      "needs_background": "light"
     },
     "output_type": "display_data"
    }
   ],
   "source": [
    "positions_geo_after.plot()"
   ]
  },
  {
   "cell_type": "markdown",
   "metadata": {},
   "source": [
    "---"
   ]
  },
  {
   "cell_type": "markdown",
   "metadata": {},
   "source": [
    "### Convert the points to lines"
   ]
  },
  {
   "cell_type": "code",
   "execution_count": 189,
   "metadata": {},
   "outputs": [],
   "source": [
    "positions_geo_line = gpd.GeoDataFrame(positions_geo_clipped.groupby(['flight_id','schd_from','name'])['geometry']\\\n",
    "    .apply(lambda x: LineString(x.tolist())).reset_index())"
   ]
  },
  {
   "cell_type": "code",
   "execution_count": 190,
   "metadata": {},
   "outputs": [
    {
     "data": {
      "text/plain": [
       "<matplotlib.axes._subplots.AxesSubplot at 0x691281cd0>"
      ]
     },
     "execution_count": 190,
     "metadata": {},
     "output_type": "execute_result"
    },
    {
     "data": {
      "image/png": "[encoded data removed]",
      "text/plain": [
       "<Figure size 432x288 with 1 Axes>"
      ]
     },
     "metadata": {
      "needs_background": "light"
     },
     "output_type": "display_data"
    }
   ],
   "source": [
    "positions_geo_before_line.plot()"
   ]
  },
  {
   "cell_type": "markdown",
   "metadata": {},
   "source": [
    "### Lines for \"before\" flights"
   ]
  },
  {
   "cell_type": "code",
   "execution_count": 91,
   "metadata": {},
   "outputs": [],
   "source": [
    "positions_geo_before_line = gpd.GeoDataFrame(positions_geo_before.groupby(['flight_id','schd_from','name'])['geometry']\\\n",
    "    .apply(lambda x: LineString(x.tolist())).reset_index())"
   ]
  },
  {
   "cell_type": "code",
   "execution_count": 92,
   "metadata": {},
   "outputs": [
    {
     "data": {
      "text/plain": [
       "<matplotlib.axes._subplots.AxesSubplot at 0x6a89eb210>"
      ]
     },
     "execution_count": 92,
     "metadata": {},
     "output_type": "execute_result"
    },
    {
     "data": {
      "image/png": "[encoded data removed]",
      "text/plain": [
       "<Figure size 432x288 with 1 Axes>"
      ]
     },
     "metadata": {
      "needs_background": "light"
     },
     "output_type": "display_data"
    }
   ],
   "source": [
    "positions_geo_before_line.plot()"
   ]
  },
  {
   "cell_type": "markdown",
   "metadata": {},
   "source": [
    "### Lines for \"after\" flights"
   ]
  },
  {
   "cell_type": "code",
   "execution_count": 43,
   "metadata": {},
   "outputs": [
    {
     "ename": "NameError",
     "evalue": "name 'positions_geo_after' is not defined",
     "output_type": "error",
     "traceback": [
      "\u001b[0;31m---------------------------------------------------------------------------\u001b[0m",
      "\u001b[0;31mNameError\u001b[0m                                 Traceback (most recent call last)",
      "\u001b[0;32m<ipython-input-43-81f234b4dd93>\u001b[0m in \u001b[0;36m<module>\u001b[0;34m\u001b[0m\n\u001b[0;32m----> 1\u001b[0;31m positions_geo_after_line = gpd.GeoDataFrame(positions_geo_after.groupby(['flight_id','schd_from','name', 'before'])['geometry']\\\n\u001b[0m\u001b[1;32m      2\u001b[0m     .apply(lambda x: LineString(x.tolist())).reset_index())\n",
      "\u001b[0;31mNameError\u001b[0m: name 'positions_geo_after' is not defined"
     ]
    }
   ],
   "source": [
    "positions_geo_after_line = gpd.GeoDataFrame(positions_geo_after.groupby(['flight_id','schd_from','name', 'before'])['geometry']\\\n",
    "    .apply(lambda x: LineString(x.tolist())).reset_index())"
   ]
  },
  {
   "cell_type": "code",
   "execution_count": 94,
   "metadata": {},
   "outputs": [
    {
     "data": {
      "text/plain": [
       "<matplotlib.axes._subplots.AxesSubplot at 0x6a8b45e50>"
      ]
     },
     "execution_count": 94,
     "metadata": {},
     "output_type": "execute_result"
    },
    {
     "data": {
      "image/png": "[encoded data removed]",
      "text/plain": [
       "<Figure size 432x288 with 1 Axes>"
      ]
     },
     "metadata": {
      "needs_background": "light"
     },
     "output_type": "display_data"
    }
   ],
   "source": [
    "positions_geo_after_line.plot()"
   ]
  },
  {
   "cell_type": "markdown",
   "metadata": {},
   "source": [
    "### Export before/after lines to geojson"
   ]
  },
  {
   "cell_type": "code",
   "execution_count": 96,
   "metadata": {},
   "outputs": [],
   "source": [
    "positions_geo_before_line.to_file('/Users/mhustiles/data/data/flights/coronavirus\\\n",
    "/positions_geo_before_line.geojson', driver='GeoJSON')"
   ]
  },
  {
   "cell_type": "code",
   "execution_count": null,
   "metadata": {},
   "outputs": [],
   "source": [
    "positions_geo_after_line.to_file('/Users/mhustiles/data/data/flights/coronavirus\\\n",
    "/positions_geo_after_line.geojson', driver='GeoJSON')"
   ]
  },
  {
   "cell_type": "markdown",
   "metadata": {},
   "source": [
    "### Output all before/after lines to mbtiles for Mapbox"
   ]
  },
  {
   "cell_type": "code",
   "execution_count": 202,
   "metadata": {},
   "outputs": [
    {
     "name": "stdout",
     "output_type": "stream",
     "text": [
      "For layer 0, using name \"positions_geo_after_line\"\n",
      "954 features, 1136502 bytes of geometry, 9620 bytes of separate metadata, 13429 bytes of string pool\n",
      "  99.9%  12/719/1622   \n"
     ]
    }
   ],
   "source": [
    "!tippecanoe --generate-ids --force -Z4 -z12 -r1 -pk -pf -o \\\n",
    "/Users/mhustiles/data/data/flights/coronavirus/positions_geo_after_line.mbtiles \\\n",
    "/Users/mhustiles/data/data/flights/coronavirus/positions_geo_after_line.geojson"
   ]
  },
  {
   "cell_type": "code",
   "execution_count": null,
   "metadata": {},
   "outputs": [],
   "source": [
    "!tippecanoe --generate-ids --force -Z4 -z12 -r1 -pk -pf -o \\\n",
    "/Users/mhustiles/data/data/flights/coronavirus/positions_geo_before_line.mbtiles \\\n",
    "/Users/mhustiles/data/data/flights/coronavirus/positions_geo_before_line.geojson"
   ]
  },
  {
   "cell_type": "markdown",
   "metadata": {},
   "source": [
    "### Output airport-specific mbtiles for Mapbox"
   ]
  },
  {
   "cell_type": "code",
   "execution_count": 292,
   "metadata": {},
   "outputs": [
    {
     "name": "stdout",
     "output_type": "stream",
     "text": [
      "LAX\n",
      "For layer 0, using name \"positions_geo_after_line_LAX\"\n",
      "316 features, 395272 bytes of geometry, 2777 bytes of separate metadata, 4325 bytes of string pool\n",
      "  99.9%  12/703/1635   \n",
      "SNA\n",
      "For layer 0, using name \"positions_geo_after_line_SNA\"\n",
      "49 features, 45137 bytes of geometry, 426 bytes of separate metadata, 1132 bytes of string pool\n",
      "  99.9%  12/993/1618   \n",
      "LGB\n",
      "For layer 0, using name \"positions_geo_after_line_LGB\"\n",
      "32 features, 53448 bytes of geometry, 264 bytes of separate metadata, 902 bytes of string pool\n",
      "  99.9%  12/894/1533   \n",
      "PSP\n",
      "For layer 0, using name \"positions_geo_after_line_PSP\"\n",
      "21 features, 20668 bytes of geometry, 202 bytes of separate metadata, 529 bytes of string pool\n",
      "  99.9%  12/955/1560   \n",
      "SFO\n",
      "For layer 0, using name \"positions_geo_after_line_SFO\"\n",
      "172 features, 196504 bytes of geometry, 1525 bytes of separate metadata, 2457 bytes of string pool\n",
      "  99.9%  12/1130/1325  \n",
      "SJC\n",
      "For layer 0, using name \"positions_geo_after_line_SJC\"\n",
      "70 features, 78621 bytes of geometry, 601 bytes of separate metadata, 1355 bytes of string pool\n",
      "  99.9%  12/684/1611   \n",
      "OAK\n",
      "For layer 0, using name \"positions_geo_after_line_OAK\"\n",
      "115 features, 135992 bytes of geometry, 965 bytes of separate metadata, 1846 bytes of string pool\n",
      "  99.9%  12/967/1522   \n",
      "ONT\n",
      "For layer 0, using name \"positions_geo_after_line_ONT\"\n",
      "106 features, 134257 bytes of geometry, 959 bytes of separate metadata, 1790 bytes of string pool\n",
      "  99.9%  12/865/1634   \n",
      "BUR\n",
      "For layer 0, using name \"positions_geo_after_line_BUR\"\n",
      "45 features, 41393 bytes of geometry, 412 bytes of separate metadata, 887 bytes of string pool\n",
      "  99.9%  12/770/1643   \n",
      "STS\n",
      "For layer 0, using name \"positions_geo_after_line_STS\"\n",
      "18 features, 19555 bytes of geometry, 164 bytes of separate metadata, 537 bytes of string pool\n",
      "  99.9%  12/688/1627  \n",
      "CCR\n",
      "For layer 0, using name \"positions_geo_after_line_CCR\"\n",
      "10 features, 13198 bytes of geometry, 86 bytes of separate metadata, 381 bytes of string pool\n",
      "  99.9%  12/744/1450  \n"
     ]
    }
   ],
   "source": [
    "for a in positions_geo_after_line['schd_from'].unique():\n",
    "    print(a)\n",
    "    \n",
    "    !tippecanoe --generate-ids --force -Z4 -z12 -r1 -pk -pf -o \\\n",
    "    /Users/mhustiles/data/data/flights/coronavirus/tiles/covid_'{a}'_after.mbtiles \\\n",
    "    /Users/mhustiles/data/data/flights/coronavirus/positions_geo_after_line_'{a}'.geojson"
   ]
  },
  {
   "cell_type": "code",
   "execution_count": 294,
   "metadata": {},
   "outputs": [
    {
     "name": "stdout",
     "output_type": "stream",
     "text": [
      "LAX\n",
      "For layer 0, using name \"positions_geo_before_line_LAX\"\n",
      "861 features, 1060141 bytes of geometry, 7654 bytes of separate metadata, 11077 bytes of string pool\n",
      "  99.9%  12/708/1641   \n",
      "SNA\n",
      "For layer 0, using name \"positions_geo_before_line_SNA\"\n",
      "263 features, 283711 bytes of geometry, 2290 bytes of separate metadata, 5519 bytes of string pool\n",
      "  99.9%  12/770/1635   \n",
      "LGB\n",
      "For layer 0, using name \"positions_geo_before_line_LGB\"\n",
      "118 features, 173882 bytes of geometry, 940 bytes of separate metadata, 2387 bytes of string pool\n",
      "  99.9%  12/668/1577   \n",
      "PSP\n",
      "For layer 0, using name \"positions_geo_before_line_PSP\"\n",
      "115 features, 130983 bytes of geometry, 1038 bytes of separate metadata, 2578 bytes of string pool\n",
      "  99.9%  12/704/1606   \n",
      "SFO\n",
      "For layer 0, using name \"positions_geo_before_line_SFO\"\n",
      "581 features, 751042 bytes of geometry, 5170 bytes of separate metadata, 7465 bytes of string pool\n",
      "  99.9%  12/827/1613   \n",
      "SJC\n",
      "For layer 0, using name \"positions_geo_before_line_SJC\"\n",
      "236 features, 253485 bytes of geometry, 2084 bytes of separate metadata, 3786 bytes of string pool\n",
      "  99.9%  12/699/1635   \n",
      "OAK\n",
      "For layer 0, using name \"positions_geo_before_line_OAK\"\n",
      "222 features, 237482 bytes of geometry, 1949 bytes of separate metadata, 3746 bytes of string pool\n",
      "  99.9%  12/656/1584   \n",
      "ONT\n",
      "For layer 0, using name \"positions_geo_before_line_ONT\"\n",
      "110 features, 117247 bytes of geometry, 970 bytes of separate metadata, 1883 bytes of string pool\n",
      "  99.9%  12/1176/1560  \n",
      "BUR\n",
      "For layer 0, using name \"positions_geo_before_line_BUR\"\n",
      "148 features, 135079 bytes of geometry, 1316 bytes of separate metadata, 2480 bytes of string pool\n",
      "  99.9%  12/769/1631   \n",
      "STS\n",
      "For layer 0, using name \"positions_geo_before_line_STS\"\n",
      "49 features, 67639 bytes of geometry, 436 bytes of separate metadata, 1394 bytes of string pool\n",
      "  99.9%  12/659/1581  \n",
      "CCR\n",
      "For layer 0, using name \"positions_geo_before_line_CCR\"\n",
      "25 features, 30810 bytes of geometry, 230 bytes of separate metadata, 801 bytes of string pool\n",
      "  99.9%  12/675/1562  \n"
     ]
    }
   ],
   "source": [
    "for a in positions_geo_before_line['schd_from'].unique():\n",
    "    print(a)\n",
    "    \n",
    "    !tippecanoe --generate-ids --force -Z4 -z12 -r1 -pk -pf -o \\\n",
    "    /Users/mhustiles/data/data/flights/coronavirus/tiles/covid_'{a}'_before.mbtiles \\\n",
    "    /Users/mhustiles/data/data/flights/coronavirus/positions_geo_before_line_'{a}'.geojson"
   ]
  },
  {
   "cell_type": "code",
   "execution_count": 289,
   "metadata": {},
   "outputs": [
    {
     "name": "stdout",
     "output_type": "stream",
     "text": [
      "LAX\n",
      "For layer 0, using name \"positions_geo_after_LAX\"\n",
      "95810 features, 8582842 bytes of geometry, 16 bytes of separate metadata, 2433935 bytes of string pool\n",
      "  99.9%  12/727/1652   \n",
      "SNA\n",
      "For layer 0, using name \"positions_geo_after_SNA\"\n",
      "9722 features, 810848 bytes of geometry, 16 bytes of separate metadata, 472557 bytes of string pool\n",
      "  99.9%  12/913/1635   \n",
      "LGB\n",
      "For layer 0, using name \"positions_geo_after_LGB\"\n",
      "14099 features, 1177862 bytes of geometry, 16 bytes of separate metadata, 590955 bytes of string pool\n",
      "  99.9%  12/704/1640  \n",
      "PSP\n",
      "For layer 0, using name \"positions_geo_after_PSP\"\n",
      "4581 features, 385135 bytes of geometry, 16 bytes of separate metadata, 234761 bytes of string pool\n",
      "  99.9%  12/722/1634   \n",
      "SFO\n",
      "For layer 0, using name \"positions_geo_after_SFO\"\n",
      "45415 features, 3990763 bytes of geometry, 16 bytes of separate metadata, 1620241 bytes of string pool\n",
      "  99.9%  12/826/1564   \n",
      "SJC\n",
      "For layer 0, using name \"positions_geo_after_SJC\"\n",
      "18006 features, 1520894 bytes of geometry, 16 bytes of separate metadata, 792814 bytes of string pool\n",
      "  99.9%  12/749/1540   \n",
      "OAK\n",
      "For layer 0, using name \"positions_geo_after_OAK\"\n",
      "30098 features, 2586360 bytes of geometry, 16 bytes of separate metadata, 1174815 bytes of string pool\n",
      "  99.9%  12/698/1637   \n",
      "ONT\n",
      "For layer 0, using name \"positions_geo_after_ONT\"\n",
      "28238 features, 2450050 bytes of geometry, 16 bytes of separate metadata, 1110501 bytes of string pool\n",
      "  99.9%  12/919/1691   \n",
      "BUR\n",
      "For layer 0, using name \"positions_geo_after_BUR\"\n",
      "8885 features, 747479 bytes of geometry, 16 bytes of separate metadata, 435080 bytes of string pool\n",
      "  99.9%  12/955/1620   \n",
      "STS\n",
      "For layer 0, using name \"positions_geo_after_STS\"\n",
      "5093 features, 422966 bytes of geometry, 16 bytes of separate metadata, 256412 bytes of string pool\n",
      "  99.9%  12/660/1598  \n",
      "CCR\n",
      "For layer 0, using name \"positions_geo_after_CCR\"\n",
      "4789 features, 394519 bytes of geometry, 16 bytes of separate metadata, 240658 bytes of string pool\n",
      "  99.9%  12/660/1578   \n"
     ]
    }
   ],
   "source": []
  },
  {
   "cell_type": "code",
   "execution_count": null,
   "metadata": {},
   "outputs": [],
   "source": [
    "positions_geo_after_line_STS.geojson\n",
    "positions_geo_before_line_STS.geojson"
   ]
  },
  {
   "cell_type": "code",
   "execution_count": null,
   "metadata": {},
   "outputs": [],
   "source": []
  },
  {
   "cell_type": "markdown",
   "metadata": {},
   "source": [
    "---"
   ]
  },
  {
   "cell_type": "markdown",
   "metadata": {},
   "source": [
    "### What's still flying at LAX?"
   ]
  },
  {
   "cell_type": "code",
   "execution_count": 128,
   "metadata": {},
   "outputs": [],
   "source": [
    "lax_pos_after = positions_geo_after_line[positions_geo_after_line['schd_from'] == 'LAX']"
   ]
  },
  {
   "cell_type": "code",
   "execution_count": 129,
   "metadata": {},
   "outputs": [],
   "source": [
    "lax_pos_before = positions_geo_before_line[positions_geo_before_line['schd_from'] == 'LAX']"
   ]
  },
  {
   "cell_type": "code",
   "execution_count": 130,
   "metadata": {},
   "outputs": [],
   "source": [
    "lax_pos_after_names = lax_pos_after.groupby(['name']).agg('size').reset_index(name='flights')\n",
    "lax_pos_before_names = lax_pos_before.groupby(['name']).agg('size').reset_index(name='flights')"
   ]
  },
  {
   "cell_type": "code",
   "execution_count": 259,
   "metadata": {},
   "outputs": [
    {
     "data": {
      "text/html": [
       "<div>\n",
       "<style scoped>\n",
       "    .dataframe tbody tr th:only-of-type {\n",
       "        vertical-align: middle;\n",
       "    }\n",
       "\n",
       "    .dataframe tbody tr th {\n",
       "        vertical-align: top;\n",
       "    }\n",
       "\n",
       "    .dataframe thead th {\n",
       "        text-align: right;\n",
       "    }\n",
       "</style>\n",
       "<table border=\"1\" class=\"dataframe\">\n",
       "  <thead>\n",
       "    <tr style=\"text-align: right;\">\n",
       "      <th></th>\n",
       "      <th>name</th>\n",
       "      <th>flights</th>\n",
       "    </tr>\n",
       "  </thead>\n",
       "  <tbody>\n",
       "    <tr>\n",
       "      <td>10</td>\n",
       "      <td>AMERICAN AIRLINES INC</td>\n",
       "      <td>125</td>\n",
       "    </tr>\n",
       "    <tr>\n",
       "      <td>22</td>\n",
       "      <td>DELTA AIR LINES INC</td>\n",
       "      <td>117</td>\n",
       "    </tr>\n",
       "    <tr>\n",
       "      <td>50</td>\n",
       "      <td>SKYWEST AIRLINES INC</td>\n",
       "      <td>109</td>\n",
       "    </tr>\n",
       "    <tr>\n",
       "      <td>68</td>\n",
       "      <td>WELLS FARGO TRUST CO NA TRUSTEE</td>\n",
       "      <td>108</td>\n",
       "    </tr>\n",
       "    <tr>\n",
       "      <td>51</td>\n",
       "      <td>SOUTHWEST AIRLINES CO</td>\n",
       "      <td>95</td>\n",
       "    </tr>\n",
       "  </tbody>\n",
       "</table>\n",
       "</div>"
      ],
      "text/plain": [
       "                               name  flights\n",
       "10            AMERICAN AIRLINES INC      125\n",
       "22              DELTA AIR LINES INC      117\n",
       "50             SKYWEST AIRLINES INC      109\n",
       "68  WELLS FARGO TRUST CO NA TRUSTEE      108\n",
       "51            SOUTHWEST AIRLINES CO       95"
      ]
     },
     "execution_count": 259,
     "metadata": {},
     "output_type": "execute_result"
    }
   ],
   "source": [
    "lax_pos_before_names.sort_values(by='flights', ascending=False).head(5)"
   ]
  },
  {
   "cell_type": "code",
   "execution_count": 263,
   "metadata": {},
   "outputs": [
    {
     "data": {
      "text/html": [
       "<div>\n",
       "<style scoped>\n",
       "    .dataframe tbody tr th:only-of-type {\n",
       "        vertical-align: middle;\n",
       "    }\n",
       "\n",
       "    .dataframe tbody tr th {\n",
       "        vertical-align: top;\n",
       "    }\n",
       "\n",
       "    .dataframe thead th {\n",
       "        text-align: right;\n",
       "    }\n",
       "</style>\n",
       "<table border=\"1\" class=\"dataframe\">\n",
       "  <thead>\n",
       "    <tr style=\"text-align: right;\">\n",
       "      <th></th>\n",
       "      <th>name</th>\n",
       "      <th>flights</th>\n",
       "    </tr>\n",
       "  </thead>\n",
       "  <tbody>\n",
       "    <tr>\n",
       "      <td>26</td>\n",
       "      <td>SOUTHWEST AIRLINES CO</td>\n",
       "      <td>44</td>\n",
       "    </tr>\n",
       "    <tr>\n",
       "      <td>34</td>\n",
       "      <td>WELLS FARGO TRUST CO NA TRUSTEE</td>\n",
       "      <td>37</td>\n",
       "    </tr>\n",
       "    <tr>\n",
       "      <td>25</td>\n",
       "      <td>SKYWEST AIRLINES INC</td>\n",
       "      <td>31</td>\n",
       "    </tr>\n",
       "    <tr>\n",
       "      <td>12</td>\n",
       "      <td>DELTA AIR LINES INC</td>\n",
       "      <td>30</td>\n",
       "    </tr>\n",
       "    <tr>\n",
       "      <td>3</td>\n",
       "      <td>AMERICAN AIRLINES INC</td>\n",
       "      <td>26</td>\n",
       "    </tr>\n",
       "  </tbody>\n",
       "</table>\n",
       "</div>"
      ],
      "text/plain": [
       "                               name  flights\n",
       "26            SOUTHWEST AIRLINES CO       44\n",
       "34  WELLS FARGO TRUST CO NA TRUSTEE       37\n",
       "25             SKYWEST AIRLINES INC       31\n",
       "12              DELTA AIR LINES INC       30\n",
       "3             AMERICAN AIRLINES INC       26"
      ]
     },
     "execution_count": 263,
     "metadata": {},
     "output_type": "execute_result"
    }
   ],
   "source": [
    "lax_pos_after_names.sort_values(by='flights', ascending=False).head(5)"
   ]
  },
  {
   "cell_type": "code",
   "execution_count": null,
   "metadata": {},
   "outputs": [],
   "source": [
    "before_after_lax_merge = pd.merge(lax_pos_before_names, lax_pos_after_names, on='name', how='inner')"
   ]
  },
  {
   "cell_type": "code",
   "execution_count": 271,
   "metadata": {},
   "outputs": [],
   "source": [
    "before_after_lax_merge.rename(columns={\"flights_x\": \"before\", \"flights_y\": \"after\"}, inplace=True)"
   ]
  },
  {
   "cell_type": "code",
   "execution_count": 272,
   "metadata": {},
   "outputs": [
    {
     "data": {
      "text/html": [
       "<div>\n",
       "<style scoped>\n",
       "    .dataframe tbody tr th:only-of-type {\n",
       "        vertical-align: middle;\n",
       "    }\n",
       "\n",
       "    .dataframe tbody tr th {\n",
       "        vertical-align: top;\n",
       "    }\n",
       "\n",
       "    .dataframe thead th {\n",
       "        text-align: right;\n",
       "    }\n",
       "</style>\n",
       "<table border=\"1\" class=\"dataframe\">\n",
       "  <thead>\n",
       "    <tr style=\"text-align: right;\">\n",
       "      <th></th>\n",
       "      <th>name</th>\n",
       "      <th>before</th>\n",
       "      <th>after</th>\n",
       "    </tr>\n",
       "  </thead>\n",
       "  <tbody>\n",
       "    <tr>\n",
       "      <td>0</td>\n",
       "      <td>ALASKA AIRLINES INC</td>\n",
       "      <td>41</td>\n",
       "      <td>16</td>\n",
       "    </tr>\n",
       "    <tr>\n",
       "      <td>1</td>\n",
       "      <td>AMERICAN AIRLINES INC</td>\n",
       "      <td>125</td>\n",
       "      <td>26</td>\n",
       "    </tr>\n",
       "    <tr>\n",
       "      <td>2</td>\n",
       "      <td>ATLAS AIR INC</td>\n",
       "      <td>2</td>\n",
       "      <td>1</td>\n",
       "    </tr>\n",
       "    <tr>\n",
       "      <td>3</td>\n",
       "      <td>BANK OF UTAH TRUSTEE</td>\n",
       "      <td>18</td>\n",
       "      <td>10</td>\n",
       "    </tr>\n",
       "    <tr>\n",
       "      <td>4</td>\n",
       "      <td>CARGO AIRCRAFT MANAGEMENT INC</td>\n",
       "      <td>2</td>\n",
       "      <td>4</td>\n",
       "    </tr>\n",
       "  </tbody>\n",
       "</table>\n",
       "</div>"
      ],
      "text/plain": [
       "                            name  before  after\n",
       "0            ALASKA AIRLINES INC      41     16\n",
       "1          AMERICAN AIRLINES INC     125     26\n",
       "2                  ATLAS AIR INC       2      1\n",
       "3           BANK OF UTAH TRUSTEE      18     10\n",
       "4  CARGO AIRCRAFT MANAGEMENT INC       2      4"
      ]
     },
     "execution_count": 272,
     "metadata": {},
     "output_type": "execute_result"
    }
   ],
   "source": [
    "before_after_lax_merge.head()"
   ]
  },
  {
   "cell_type": "code",
   "execution_count": null,
   "metadata": {},
   "outputs": [],
   "source": [
    "before_after_lax_merge['change'] = \\\n",
    "((before_after_lax_merge['after'] - before_after_lax_merge['before'])/\\\n",
    " before_after_lax_merge['before']*100).round(2)"
   ]
  },
  {
   "cell_type": "code",
   "execution_count": 295,
   "metadata": {},
   "outputs": [],
   "source": [
    "before_after_lax_merge.sort_values(by='before', ascending=False).to_csv('output/lax_before_after_webtable.csv', index=False)"
   ]
  },
  {
   "cell_type": "code",
   "execution_count": 283,
   "metadata": {},
   "outputs": [
    {
     "data": {
      "text/html": [
       "<div>\n",
       "<style scoped>\n",
       "    .dataframe tbody tr th:only-of-type {\n",
       "        vertical-align: middle;\n",
       "    }\n",
       "\n",
       "    .dataframe tbody tr th {\n",
       "        vertical-align: top;\n",
       "    }\n",
       "\n",
       "    .dataframe thead th {\n",
       "        text-align: right;\n",
       "    }\n",
       "</style>\n",
       "<table border=\"1\" class=\"dataframe\">\n",
       "  <thead>\n",
       "    <tr style=\"text-align: right;\">\n",
       "      <th></th>\n",
       "      <th>name</th>\n",
       "      <th>before</th>\n",
       "      <th>after</th>\n",
       "      <th>change</th>\n",
       "    </tr>\n",
       "  </thead>\n",
       "  <tbody>\n",
       "    <tr>\n",
       "      <td>1</td>\n",
       "      <td>AMERICAN AIRLINES INC</td>\n",
       "      <td>125</td>\n",
       "      <td>26</td>\n",
       "      <td>-79.20</td>\n",
       "    </tr>\n",
       "    <tr>\n",
       "      <td>5</td>\n",
       "      <td>DELTA AIR LINES INC</td>\n",
       "      <td>117</td>\n",
       "      <td>30</td>\n",
       "      <td>-74.36</td>\n",
       "    </tr>\n",
       "    <tr>\n",
       "      <td>13</td>\n",
       "      <td>SKYWEST AIRLINES INC</td>\n",
       "      <td>109</td>\n",
       "      <td>31</td>\n",
       "      <td>-71.56</td>\n",
       "    </tr>\n",
       "    <tr>\n",
       "      <td>19</td>\n",
       "      <td>WELLS FARGO TRUST CO NA TRUSTEE</td>\n",
       "      <td>108</td>\n",
       "      <td>37</td>\n",
       "      <td>-65.74</td>\n",
       "    </tr>\n",
       "    <tr>\n",
       "      <td>14</td>\n",
       "      <td>SOUTHWEST AIRLINES CO</td>\n",
       "      <td>95</td>\n",
       "      <td>44</td>\n",
       "      <td>-53.68</td>\n",
       "    </tr>\n",
       "    <tr>\n",
       "      <td>18</td>\n",
       "      <td>UNITED AIRLINES INC</td>\n",
       "      <td>75</td>\n",
       "      <td>25</td>\n",
       "      <td>-66.67</td>\n",
       "    </tr>\n",
       "    <tr>\n",
       "      <td>0</td>\n",
       "      <td>ALASKA AIRLINES INC</td>\n",
       "      <td>41</td>\n",
       "      <td>16</td>\n",
       "      <td>-60.98</td>\n",
       "    </tr>\n",
       "    <tr>\n",
       "      <td>20</td>\n",
       "      <td>WILMINGTON TRUST CO TRUSTEE</td>\n",
       "      <td>26</td>\n",
       "      <td>13</td>\n",
       "      <td>-50.00</td>\n",
       "    </tr>\n",
       "    <tr>\n",
       "      <td>8</td>\n",
       "      <td>JETBLUE AIRWAYS CORP</td>\n",
       "      <td>24</td>\n",
       "      <td>7</td>\n",
       "      <td>-70.83</td>\n",
       "    </tr>\n",
       "    <tr>\n",
       "      <td>15</td>\n",
       "      <td>SPIRIT AIRLINES INC</td>\n",
       "      <td>18</td>\n",
       "      <td>12</td>\n",
       "      <td>-33.33</td>\n",
       "    </tr>\n",
       "  </tbody>\n",
       "</table>\n",
       "</div>"
      ],
      "text/plain": [
       "                               name  before  after  change\n",
       "1             AMERICAN AIRLINES INC     125     26  -79.20\n",
       "5               DELTA AIR LINES INC     117     30  -74.36\n",
       "13             SKYWEST AIRLINES INC     109     31  -71.56\n",
       "19  WELLS FARGO TRUST CO NA TRUSTEE     108     37  -65.74\n",
       "14            SOUTHWEST AIRLINES CO      95     44  -53.68\n",
       "18              UNITED AIRLINES INC      75     25  -66.67\n",
       "0               ALASKA AIRLINES INC      41     16  -60.98\n",
       "20      WILMINGTON TRUST CO TRUSTEE      26     13  -50.00\n",
       "8              JETBLUE AIRWAYS CORP      24      7  -70.83\n",
       "15              SPIRIT AIRLINES INC      18     12  -33.33"
      ]
     },
     "execution_count": 283,
     "metadata": {},
     "output_type": "execute_result"
    }
   ],
   "source": [
    "before_after_lax_merge.sort_values(by='before', ascending=False).head(10)"
   ]
  },
  {
   "cell_type": "code",
   "execution_count": 284,
   "metadata": {},
   "outputs": [],
   "source": [
    "lax_pos_before_names.to_csv('output/table_lax_pos_before_names.csv')\n",
    "lax_pos_after_names.to_csv('output/table_lax_pos_after_names.csv')"
   ]
  },
  {
   "cell_type": "markdown",
   "metadata": {},
   "source": [
    "### Top airlines before"
   ]
  },
  {
   "cell_type": "code",
   "execution_count": 137,
   "metadata": {},
   "outputs": [
    {
     "data": {
      "text/plain": [
       "861"
      ]
     },
     "execution_count": 137,
     "metadata": {},
     "output_type": "execute_result"
    }
   ],
   "source": [
    "lax_pos_before_names.flights.sum()"
   ]
  },
  {
   "cell_type": "markdown",
   "metadata": {},
   "source": [
    "### Top airlines after"
   ]
  },
  {
   "cell_type": "code",
   "execution_count": 239,
   "metadata": {},
   "outputs": [
    {
     "data": {
      "text/plain": [
       "316"
      ]
     },
     "execution_count": 239,
     "metadata": {},
     "output_type": "execute_result"
    }
   ],
   "source": [
    "lax_pos_after_names.flights.sum()"
   ]
  },
  {
   "cell_type": "markdown",
   "metadata": {},
   "source": [
    "### How much was the decline in total flights at LAX?"
   ]
  },
  {
   "cell_type": "code",
   "execution_count": null,
   "metadata": {},
   "outputs": [],
   "source": [
    "'{:,.2f}%'.format(((lax_pos_after_names.flights.sum() - \\\n",
    "   lax_pos_before_names.flights.sum())/lax_pos_before_names.flights.sum()*100))"
   ]
  },
  {
   "cell_type": "markdown",
   "metadata": {},
   "source": [
    "---"
   ]
  },
  {
   "cell_type": "markdown",
   "metadata": {},
   "source": [
    "### What's still flying at SFO?"
   ]
  },
  {
   "cell_type": "code",
   "execution_count": 42,
   "metadata": {},
   "outputs": [
    {
     "ename": "NameError",
     "evalue": "name 'positions_geo_after_line' is not defined",
     "output_type": "error",
     "traceback": [
      "\u001b[0;31m---------------------------------------------------------------------------\u001b[0m",
      "\u001b[0;31mNameError\u001b[0m                                 Traceback (most recent call last)",
      "\u001b[0;32m<ipython-input-42-cf1231007817>\u001b[0m in \u001b[0;36m<module>\u001b[0;34m\u001b[0m\n\u001b[0;32m----> 1\u001b[0;31m \u001b[0msfo_pos_after\u001b[0m \u001b[0;34m=\u001b[0m \u001b[0mpositions_geo_after_line\u001b[0m\u001b[0;34m[\u001b[0m\u001b[0mpositions_geo_after_line\u001b[0m\u001b[0;34m[\u001b[0m\u001b[0;34m'schd_from'\u001b[0m\u001b[0;34m]\u001b[0m \u001b[0;34m==\u001b[0m \u001b[0;34m'SFO'\u001b[0m\u001b[0;34m]\u001b[0m\u001b[0;34m\u001b[0m\u001b[0;34m\u001b[0m\u001b[0m\n\u001b[0m",
      "\u001b[0;31mNameError\u001b[0m: name 'positions_geo_after_line' is not defined"
     ]
    }
   ],
   "source": [
    "sfo_pos_after = positions_geo_after_line[positions_geo_after_line['schd_from'] == 'SFO']"
   ]
  },
  {
   "cell_type": "code",
   "execution_count": 129,
   "metadata": {},
   "outputs": [],
   "source": [
    "sfo_pos_before = positions_geo_before_line[positions_geo_before_line['schd_from'] == 'SFO']"
   ]
  },
  {
   "cell_type": "code",
   "execution_count": 130,
   "metadata": {},
   "outputs": [],
   "source": [
    "sfo_pos_after_names = sfo_pos_after.groupby(['name']).agg('size').reset_index(name='flights')\n",
    "sfo_pos_before_names = sfo_pos_before.groupby(['name']).agg('size').reset_index(name='flights')"
   ]
  },
  {
   "cell_type": "code",
   "execution_count": 259,
   "metadata": {},
   "outputs": [
    {
     "data": {
      "text/html": [
       "<div>\n",
       "<style scoped>\n",
       "    .dataframe tbody tr th:only-of-type {\n",
       "        vertical-align: middle;\n",
       "    }\n",
       "\n",
       "    .dataframe tbody tr th {\n",
       "        vertical-align: top;\n",
       "    }\n",
       "\n",
       "    .dataframe thead th {\n",
       "        text-align: right;\n",
       "    }\n",
       "</style>\n",
       "<table border=\"1\" class=\"dataframe\">\n",
       "  <thead>\n",
       "    <tr style=\"text-align: right;\">\n",
       "      <th></th>\n",
       "      <th>name</th>\n",
       "      <th>flights</th>\n",
       "    </tr>\n",
       "  </thead>\n",
       "  <tbody>\n",
       "    <tr>\n",
       "      <td>10</td>\n",
       "      <td>AMERICAN AIRLINES INC</td>\n",
       "      <td>125</td>\n",
       "    </tr>\n",
       "    <tr>\n",
       "      <td>22</td>\n",
       "      <td>DELTA AIR LINES INC</td>\n",
       "      <td>117</td>\n",
       "    </tr>\n",
       "    <tr>\n",
       "      <td>50</td>\n",
       "      <td>SKYWEST AIRLINES INC</td>\n",
       "      <td>109</td>\n",
       "    </tr>\n",
       "    <tr>\n",
       "      <td>68</td>\n",
       "      <td>WELLS FARGO TRUST CO NA TRUSTEE</td>\n",
       "      <td>108</td>\n",
       "    </tr>\n",
       "    <tr>\n",
       "      <td>51</td>\n",
       "      <td>SOUTHWEST AIRLINES CO</td>\n",
       "      <td>95</td>\n",
       "    </tr>\n",
       "  </tbody>\n",
       "</table>\n",
       "</div>"
      ],
      "text/plain": [
       "                               name  flights\n",
       "10            AMERICAN AIRLINES INC      125\n",
       "22              DELTA AIR LINES INC      117\n",
       "50             SKYWEST AIRLINES INC      109\n",
       "68  WELLS FARGO TRUST CO NA TRUSTEE      108\n",
       "51            SOUTHWEST AIRLINES CO       95"
      ]
     },
     "execution_count": 259,
     "metadata": {},
     "output_type": "execute_result"
    }
   ],
   "source": [
    "sfo_pos_before_names.sort_values(by='flights', ascending=False).head(5)"
   ]
  },
  {
   "cell_type": "code",
   "execution_count": 263,
   "metadata": {},
   "outputs": [
    {
     "data": {
      "text/html": [
       "<div>\n",
       "<style scoped>\n",
       "    .dataframe tbody tr th:only-of-type {\n",
       "        vertical-align: middle;\n",
       "    }\n",
       "\n",
       "    .dataframe tbody tr th {\n",
       "        vertical-align: top;\n",
       "    }\n",
       "\n",
       "    .dataframe thead th {\n",
       "        text-align: right;\n",
       "    }\n",
       "</style>\n",
       "<table border=\"1\" class=\"dataframe\">\n",
       "  <thead>\n",
       "    <tr style=\"text-align: right;\">\n",
       "      <th></th>\n",
       "      <th>name</th>\n",
       "      <th>flights</th>\n",
       "    </tr>\n",
       "  </thead>\n",
       "  <tbody>\n",
       "    <tr>\n",
       "      <td>26</td>\n",
       "      <td>SOUTHWEST AIRLINES CO</td>\n",
       "      <td>44</td>\n",
       "    </tr>\n",
       "    <tr>\n",
       "      <td>34</td>\n",
       "      <td>WELLS FARGO TRUST CO NA TRUSTEE</td>\n",
       "      <td>37</td>\n",
       "    </tr>\n",
       "    <tr>\n",
       "      <td>25</td>\n",
       "      <td>SKYWEST AIRLINES INC</td>\n",
       "      <td>31</td>\n",
       "    </tr>\n",
       "    <tr>\n",
       "      <td>12</td>\n",
       "      <td>DELTA AIR LINES INC</td>\n",
       "      <td>30</td>\n",
       "    </tr>\n",
       "    <tr>\n",
       "      <td>3</td>\n",
       "      <td>AMERICAN AIRLINES INC</td>\n",
       "      <td>26</td>\n",
       "    </tr>\n",
       "  </tbody>\n",
       "</table>\n",
       "</div>"
      ],
      "text/plain": [
       "                               name  flights\n",
       "26            SOUTHWEST AIRLINES CO       44\n",
       "34  WELLS FARGO TRUST CO NA TRUSTEE       37\n",
       "25             SKYWEST AIRLINES INC       31\n",
       "12              DELTA AIR LINES INC       30\n",
       "3             AMERICAN AIRLINES INC       26"
      ]
     },
     "execution_count": 263,
     "metadata": {},
     "output_type": "execute_result"
    }
   ],
   "source": [
    "sfo_pos_after_names.sort_values(by='flights', ascending=False).head(5)"
   ]
  },
  {
   "cell_type": "code",
   "execution_count": null,
   "metadata": {},
   "outputs": [],
   "source": [
    "before_after_sfo_merge = pd.merge(sfo_pos_before_names, sfo_pos_after_names, on='name', how='inner')"
   ]
  },
  {
   "cell_type": "code",
   "execution_count": 271,
   "metadata": {},
   "outputs": [],
   "source": [
    "before_after_sfo_merge.rename(columns={\"flights_x\": \"before\", \"flights_y\": \"after\"}, inplace=True)"
   ]
  },
  {
   "cell_type": "code",
   "execution_count": 272,
   "metadata": {},
   "outputs": [
    {
     "data": {
      "text/html": [
       "<div>\n",
       "<style scoped>\n",
       "    .dataframe tbody tr th:only-of-type {\n",
       "        vertical-align: middle;\n",
       "    }\n",
       "\n",
       "    .dataframe tbody tr th {\n",
       "        vertical-align: top;\n",
       "    }\n",
       "\n",
       "    .dataframe thead th {\n",
       "        text-align: right;\n",
       "    }\n",
       "</style>\n",
       "<table border=\"1\" class=\"dataframe\">\n",
       "  <thead>\n",
       "    <tr style=\"text-align: right;\">\n",
       "      <th></th>\n",
       "      <th>name</th>\n",
       "      <th>before</th>\n",
       "      <th>after</th>\n",
       "    </tr>\n",
       "  </thead>\n",
       "  <tbody>\n",
       "    <tr>\n",
       "      <td>0</td>\n",
       "      <td>ALASKA AIRLINES INC</td>\n",
       "      <td>41</td>\n",
       "      <td>16</td>\n",
       "    </tr>\n",
       "    <tr>\n",
       "      <td>1</td>\n",
       "      <td>AMERICAN AIRLINES INC</td>\n",
       "      <td>125</td>\n",
       "      <td>26</td>\n",
       "    </tr>\n",
       "    <tr>\n",
       "      <td>2</td>\n",
       "      <td>ATLAS AIR INC</td>\n",
       "      <td>2</td>\n",
       "      <td>1</td>\n",
       "    </tr>\n",
       "    <tr>\n",
       "      <td>3</td>\n",
       "      <td>BANK OF UTAH TRUSTEE</td>\n",
       "      <td>18</td>\n",
       "      <td>10</td>\n",
       "    </tr>\n",
       "    <tr>\n",
       "      <td>4</td>\n",
       "      <td>CARGO AIRCRAFT MANAGEMENT INC</td>\n",
       "      <td>2</td>\n",
       "      <td>4</td>\n",
       "    </tr>\n",
       "  </tbody>\n",
       "</table>\n",
       "</div>"
      ],
      "text/plain": [
       "                            name  before  after\n",
       "0            ALASKA AIRLINES INC      41     16\n",
       "1          AMERICAN AIRLINES INC     125     26\n",
       "2                  ATLAS AIR INC       2      1\n",
       "3           BANK OF UTAH TRUSTEE      18     10\n",
       "4  CARGO AIRCRAFT MANAGEMENT INC       2      4"
      ]
     },
     "execution_count": 272,
     "metadata": {},
     "output_type": "execute_result"
    }
   ],
   "source": [
    "before_after_sfo_merge.head()"
   ]
  },
  {
   "cell_type": "code",
   "execution_count": null,
   "metadata": {},
   "outputs": [],
   "source": [
    "before_after_sfo_merge['change'] = \\\n",
    "((before_after_sfo_merge['after'] - before_after_sfo_merge['before'])/\\\n",
    " before_after_sfo_merge['before']*100).round(2)"
   ]
  },
  {
   "cell_type": "code",
   "execution_count": 295,
   "metadata": {},
   "outputs": [],
   "source": [
    "before_after_sfo_merge.sort_values(by='before', ascending=False).to_csv('output/sfo_before_after_webtable.csv', index=False)"
   ]
  },
  {
   "cell_type": "code",
   "execution_count": 283,
   "metadata": {},
   "outputs": [
    {
     "data": {
      "text/html": [
       "<div>\n",
       "<style scoped>\n",
       "    .dataframe tbody tr th:only-of-type {\n",
       "        vertical-align: middle;\n",
       "    }\n",
       "\n",
       "    .dataframe tbody tr th {\n",
       "        vertical-align: top;\n",
       "    }\n",
       "\n",
       "    .dataframe thead th {\n",
       "        text-align: right;\n",
       "    }\n",
       "</style>\n",
       "<table border=\"1\" class=\"dataframe\">\n",
       "  <thead>\n",
       "    <tr style=\"text-align: right;\">\n",
       "      <th></th>\n",
       "      <th>name</th>\n",
       "      <th>before</th>\n",
       "      <th>after</th>\n",
       "      <th>change</th>\n",
       "    </tr>\n",
       "  </thead>\n",
       "  <tbody>\n",
       "    <tr>\n",
       "      <td>1</td>\n",
       "      <td>AMERICAN AIRLINES INC</td>\n",
       "      <td>125</td>\n",
       "      <td>26</td>\n",
       "      <td>-79.20</td>\n",
       "    </tr>\n",
       "    <tr>\n",
       "      <td>5</td>\n",
       "      <td>DELTA AIR LINES INC</td>\n",
       "      <td>117</td>\n",
       "      <td>30</td>\n",
       "      <td>-74.36</td>\n",
       "    </tr>\n",
       "    <tr>\n",
       "      <td>13</td>\n",
       "      <td>SKYWEST AIRLINES INC</td>\n",
       "      <td>109</td>\n",
       "      <td>31</td>\n",
       "      <td>-71.56</td>\n",
       "    </tr>\n",
       "    <tr>\n",
       "      <td>19</td>\n",
       "      <td>WELLS FARGO TRUST CO NA TRUSTEE</td>\n",
       "      <td>108</td>\n",
       "      <td>37</td>\n",
       "      <td>-65.74</td>\n",
       "    </tr>\n",
       "    <tr>\n",
       "      <td>14</td>\n",
       "      <td>SOUTHWEST AIRLINES CO</td>\n",
       "      <td>95</td>\n",
       "      <td>44</td>\n",
       "      <td>-53.68</td>\n",
       "    </tr>\n",
       "    <tr>\n",
       "      <td>18</td>\n",
       "      <td>UNITED AIRLINES INC</td>\n",
       "      <td>75</td>\n",
       "      <td>25</td>\n",
       "      <td>-66.67</td>\n",
       "    </tr>\n",
       "    <tr>\n",
       "      <td>0</td>\n",
       "      <td>ALASKA AIRLINES INC</td>\n",
       "      <td>41</td>\n",
       "      <td>16</td>\n",
       "      <td>-60.98</td>\n",
       "    </tr>\n",
       "    <tr>\n",
       "      <td>20</td>\n",
       "      <td>WILMINGTON TRUST CO TRUSTEE</td>\n",
       "      <td>26</td>\n",
       "      <td>13</td>\n",
       "      <td>-50.00</td>\n",
       "    </tr>\n",
       "    <tr>\n",
       "      <td>8</td>\n",
       "      <td>JETBLUE AIRWAYS CORP</td>\n",
       "      <td>24</td>\n",
       "      <td>7</td>\n",
       "      <td>-70.83</td>\n",
       "    </tr>\n",
       "    <tr>\n",
       "      <td>15</td>\n",
       "      <td>SPIRIT AIRLINES INC</td>\n",
       "      <td>18</td>\n",
       "      <td>12</td>\n",
       "      <td>-33.33</td>\n",
       "    </tr>\n",
       "  </tbody>\n",
       "</table>\n",
       "</div>"
      ],
      "text/plain": [
       "                               name  before  after  change\n",
       "1             AMERICAN AIRLINES INC     125     26  -79.20\n",
       "5               DELTA AIR LINES INC     117     30  -74.36\n",
       "13             SKYWEST AIRLINES INC     109     31  -71.56\n",
       "19  WELLS FARGO TRUST CO NA TRUSTEE     108     37  -65.74\n",
       "14            SOUTHWEST AIRLINES CO      95     44  -53.68\n",
       "18              UNITED AIRLINES INC      75     25  -66.67\n",
       "0               ALASKA AIRLINES INC      41     16  -60.98\n",
       "20      WILMINGTON TRUST CO TRUSTEE      26     13  -50.00\n",
       "8              JETBLUE AIRWAYS CORP      24      7  -70.83\n",
       "15              SPIRIT AIRLINES INC      18     12  -33.33"
      ]
     },
     "execution_count": 283,
     "metadata": {},
     "output_type": "execute_result"
    }
   ],
   "source": [
    "before_after_sfo_merge.sort_values(by='before', ascending=False).head(10)"
   ]
  },
  {
   "cell_type": "code",
   "execution_count": 284,
   "metadata": {},
   "outputs": [],
   "source": [
    "sfo_pos_before_names.to_csv('output/table_sfo_pos_before_names.csv')\n",
    "sfo_pos_after_names.to_csv('output/table_sfo_pos_after_names.csv')"
   ]
  },
  {
   "cell_type": "markdown",
   "metadata": {},
   "source": [
    "### Top airlines before"
   ]
  },
  {
   "cell_type": "code",
   "execution_count": 137,
   "metadata": {},
   "outputs": [
    {
     "data": {
      "text/plain": [
       "861"
      ]
     },
     "execution_count": 137,
     "metadata": {},
     "output_type": "execute_result"
    }
   ],
   "source": [
    "sfo_pos_before_names.flights.sum()"
   ]
  },
  {
   "cell_type": "markdown",
   "metadata": {},
   "source": [
    "### Top airlines after"
   ]
  },
  {
   "cell_type": "code",
   "execution_count": 239,
   "metadata": {},
   "outputs": [
    {
     "data": {
      "text/plain": [
       "316"
      ]
     },
     "execution_count": 239,
     "metadata": {},
     "output_type": "execute_result"
    }
   ],
   "source": [
    "sfo_pos_after_names.flights.sum()"
   ]
  },
  {
   "cell_type": "markdown",
   "metadata": {},
   "source": [
    "### How much was the decline in total flights at LAX?"
   ]
  },
  {
   "cell_type": "code",
   "execution_count": 249,
   "metadata": {},
   "outputs": [
    {
     "data": {
      "text/plain": [
       "'-63.30%'"
      ]
     },
     "execution_count": 249,
     "metadata": {},
     "output_type": "execute_result"
    }
   ],
   "source": [
    "'{:,.2f}%'.format(((sfo_pos_after_names.flights.sum() - \\\n",
    "   sfo_pos_before_names.flights.sum())/sfo_pos_before_names.flights.sum()*100))"
   ]
  },
  {
   "cell_type": "markdown",
   "metadata": {},
   "source": [
    "---"
   ]
  },
  {
   "cell_type": "markdown",
   "metadata": {},
   "source": [
    "## Flights by airline"
   ]
  },
  {
   "cell_type": "markdown",
   "metadata": {},
   "source": [
    "### American Airlines before"
   ]
  },
  {
   "cell_type": "code",
   "execution_count": null,
   "metadata": {},
   "outputs": [],
   "source": [
    "aa_before_line_lax = positions_geo_before_line[(positions_geo_before_line['name'] == 'AMERICAN AIRLINES INC')&\\\n",
    "                                              (positions_geo_before_line['schd_from'] == 'LAX')]"
   ]
  },
  {
   "cell_type": "code",
   "execution_count": 227,
   "metadata": {},
   "outputs": [
    {
     "data": {
      "text/plain": [
       "<matplotlib.axes._subplots.AxesSubplot at 0x6922f5d90>"
      ]
     },
     "execution_count": 227,
     "metadata": {},
     "output_type": "execute_result"
    },
    {
     "data": {
      "image/png": "[encoded data removed]",
      "text/plain": [
       "<Figure size 432x288 with 1 Axes>"
      ]
     },
     "metadata": {
      "needs_background": "light"
     },
     "output_type": "display_data"
    }
   ],
   "source": [
    "aa_before_line_lax.plot()"
   ]
  },
  {
   "cell_type": "markdown",
   "metadata": {},
   "source": [
    "### American Airlines after"
   ]
  },
  {
   "cell_type": "code",
   "execution_count": null,
   "metadata": {},
   "outputs": [],
   "source": [
    "aa_after_line_lax = positions_geo_after_line[(positions_geo_after_line['name'] == 'AMERICAN AIRLINES INC')&\\\n",
    "                                              (positions_geo_after_line['schd_from'] == 'LAX')]"
   ]
  },
  {
   "cell_type": "code",
   "execution_count": 234,
   "metadata": {},
   "outputs": [
    {
     "data": {
      "text/plain": [
       "<matplotlib.axes._subplots.AxesSubplot at 0x6923e8610>"
      ]
     },
     "execution_count": 234,
     "metadata": {},
     "output_type": "execute_result"
    },
    {
     "data": {
      "image/png": "[encoded data removed]",
      "text/plain": [
       "<Figure size 432x288 with 1 Axes>"
      ]
     },
     "metadata": {
      "needs_background": "light"
     },
     "output_type": "display_data"
    }
   ],
   "source": [
    "aa_after_line_lax.plot()"
   ]
  },
  {
   "cell_type": "markdown",
   "metadata": {},
   "source": [
    "### Export to geojson and mbtiles"
   ]
  },
  {
   "cell_type": "code",
   "execution_count": null,
   "metadata": {},
   "outputs": [],
   "source": [
    "aa_before_line_lax.to_file('/Users/mhustiles/data/data/flights/coronavirus/aa_before_line_lax.geojson', \\\n",
    "                           driver='GeoJSON')\n",
    "aa_after_line_lax.to_file('/Users/mhustiles/data/data/flights/coronavirus/aa_after_line_lax.geojson', \\\n",
    "                           driver='GeoJSON')"
   ]
  },
  {
   "cell_type": "code",
   "execution_count": 40,
   "metadata": {},
   "outputs": [
    {
     "name": "stdout",
     "output_type": "stream",
     "text": [
      "For layer 0, using name \"aa_before_line_lax\"\n",
      "125 features, 156002 bytes of geometry, 960 bytes of separate metadata, 1431 bytes of string pool\n",
      "  99.9%  12/1144/1547  \n"
     ]
    }
   ],
   "source": [
    "!tippecanoe --generate-ids --force -Z4 -z12 -r1 -pk -pf -o \\\n",
    "/Users/mhustiles/data/data/flights/coronavirus/aa_before_line_lax.mbtiles \\\n",
    "/Users/mhustiles/data/data/flights/coronavirus/aa_before_line_lax.geojson"
   ]
  },
  {
   "cell_type": "code",
   "execution_count": 41,
   "metadata": {},
   "outputs": [
    {
     "name": "stdout",
     "output_type": "stream",
     "text": [
      "For layer 0, using name \"aa_after_line_lax\"\n",
      "26 features, 36072 bytes of geometry, 223 bytes of separate metadata, 342 bytes of string pool\n",
      "  99.9%  12/739/1643   \n"
     ]
    }
   ],
   "source": [
    "!tippecanoe --generate-ids --force -Z4 -z12 -r1 -pk -pf -o \\\n",
    "/Users/mhustiles/data/data/flights/coronavirus/aa_after_line_lax.mbtiles \\\n",
    "/Users/mhustiles/data/data/flights/coronavirus/aa_after_line_lax.geojson"
   ]
  },
  {
   "cell_type": "markdown",
   "metadata": {},
   "source": [
    "---"
   ]
  },
  {
   "cell_type": "markdown",
   "metadata": {},
   "source": [
    "### Cut 'before' GeoJSON files for each of our airports before COVID-19"
   ]
  },
  {
   "cell_type": "code",
   "execution_count": 100,
   "metadata": {},
   "outputs": [],
   "source": [
    "for airport in positions_geo_before.schd_from.unique():\n",
    "    positions_geo_before[positions_geo_before['schd_from'] == '{}'.format(airport)]\\\n",
    "    .to_file('/Users/mhustiles/data/data/flights/coronavirus/\\\n",
    "positions_geo_before_{}.geojson'.format(airport), driver='GeoJSON')"
   ]
  },
  {
   "cell_type": "code",
   "execution_count": 101,
   "metadata": {},
   "outputs": [],
   "source": [
    "for airport in positions_geo_before_line.schd_from.unique():\n",
    "    positions_geo_before_line[positions_geo_before_line['schd_from'] == '{}'.format(airport)]\\\n",
    "    .to_file('/Users/mhustiles/data/data/flights/coronavirus/\\\n",
    "positions_geo_before_line_{}.geojson'.format(airport), driver='GeoJSON')"
   ]
  },
  {
   "cell_type": "markdown",
   "metadata": {},
   "source": [
    "### Cut 'after' GeoJSON files for each of our airports after COVID-19"
   ]
  },
  {
   "cell_type": "code",
   "execution_count": 102,
   "metadata": {},
   "outputs": [],
   "source": [
    "for airport in positions_geo_after.schd_from.unique():\n",
    "    positions_geo_after[positions_geo_after['schd_from'] == '{}'.format(airport)]\\\n",
    "    .to_file('/Users/mhustiles/data/data/flights/coronavirus/\\\n",
    "positions_geo_after_{}.geojson'.format(airport), driver='GeoJSON')"
   ]
  },
  {
   "cell_type": "code",
   "execution_count": 103,
   "metadata": {},
   "outputs": [],
   "source": [
    "for airport in positions_geo_after_line.schd_from.unique():\n",
    "    positions_geo_after_line[positions_geo_after_line['schd_from'] == '{}'.format(airport)]\\\n",
    "    .to_file('/Users/mhustiles/data/data/flights/coronavirus/\\\n",
    "positions_geo_after_line_{}.geojson'.format(airport), driver='GeoJSON')"
   ]
  },
  {
   "cell_type": "markdown",
   "metadata": {},
   "source": [
    "---"
   ]
  },
  {
   "cell_type": "markdown",
   "metadata": {},
   "source": [
    "### Grid (CA 1 mile)"
   ]
  },
  {
   "cell_type": "code",
   "execution_count": 104,
   "metadata": {},
   "outputs": [],
   "source": [
    "# grid = gpd.read_file('/Users/mhustiles/data/data/GIS/LA/socal-halfmile.geojson')"
   ]
  },
  {
   "cell_type": "code",
   "execution_count": 105,
   "metadata": {},
   "outputs": [],
   "source": [
    "# grid.crs = {'init': 'epsg:4326'}\n",
    "# grid.to_crs({'init': 'epsg:4326'})"
   ]
  },
  {
   "cell_type": "code",
   "execution_count": 106,
   "metadata": {},
   "outputs": [],
   "source": [
    "# grid.plot()"
   ]
  },
  {
   "cell_type": "code",
   "execution_count": 107,
   "metadata": {},
   "outputs": [],
   "source": [
    "# df_la = pd.DataFrame()\n",
    "\n",
    "# for n in la_choppers:\n",
    "#     c = n['n_number']\n",
    "#     choppers = positions_geo[positions_geo['reg'] == c]\n",
    "#     choppers.crs = \"epsg:4326\"\n",
    "#     dfsjoin = gpd.sjoin(hexbins,choppers)\n",
    "#     dfpivot = pd.pivot_table(dfsjoin,index='id',columns='n_number',aggfunc={'n_number':len})\n",
    "#     dfpivot.columns = dfpivot.columns.droplevel()\n",
    "#     dfpolynew = hexbins.merge(dfpivot, how='left',on='id')\n",
    "#     dfpolynew.to_file('/Users/mhustiles/data/data/helicopters/' + c + 'hex.geojson', driver='GeoJSON')"
   ]
  },
  {
   "cell_type": "code",
   "execution_count": 108,
   "metadata": {},
   "outputs": [],
   "source": [
    "# lax_before = gpd.read_file('/Users/mhustiles/data/data/flights/coronavirus/positions_geo_before_LAX.geojson')\n",
    "# lax_after = gpd.read_file('/Users/mhustiles/data/data/flights/coronavirus/positions_geo_after_LAX.geojson')"
   ]
  },
  {
   "cell_type": "code",
   "execution_count": 109,
   "metadata": {},
   "outputs": [],
   "source": [
    "# positions_geo_before_flying = positions_geo_before[positions_geo_before['speed'] > 10 ]\n",
    "# positions_geo_after_flying = positions_geo_after[positions_geo_after['speed'] > 10 ]"
   ]
  },
  {
   "cell_type": "code",
   "execution_count": 110,
   "metadata": {},
   "outputs": [],
   "source": [
    "# positions_geo_before_flying.crs = {'init': 'epsg:4326'}\n",
    "# positions_geo_before_flying.to_crs({'init': 'epsg:4326'})\n",
    "# positions_geo_after_flying.crs = {'init': 'epsg:4326'}\n",
    "# positions_geo_after_flying.to_crs({'init': 'epsg:4326'})"
   ]
  },
  {
   "cell_type": "code",
   "execution_count": 111,
   "metadata": {},
   "outputs": [],
   "source": [
    "# dfsjoin = gpd.sjoin(positions_geo_after_flying, grid)"
   ]
  },
  {
   "cell_type": "code",
   "execution_count": 112,
   "metadata": {},
   "outputs": [],
   "source": [
    "# dfsjoingroup = dfsjoin.groupby(['id']).agg('size').reset_index(name='pings')"
   ]
  },
  {
   "cell_type": "code",
   "execution_count": 113,
   "metadata": {},
   "outputs": [],
   "source": [
    "# dfpolynew = grid.merge(dfsjoingroup, how='left',on='id')"
   ]
  },
  {
   "cell_type": "code",
   "execution_count": 114,
   "metadata": {},
   "outputs": [],
   "source": [
    "# dfpolynew.to_file('/Users/mhustiles/data/data/flights/coronavirus/positions_geo_after_grid.geojson', driver='GeoJSON')"
   ]
  },
  {
   "cell_type": "code",
   "execution_count": null,
   "metadata": {},
   "outputs": [],
   "source": [
    "# # !tippecanoe --generate-ids --force -r1 -pk -pf -o \\\n",
    "#     /Users/mhustiles/data/data/flights/coronavirus/positions_geo_after_grid.mbtiles \\\n",
    "#     /Users/mhustiles/data/data/flights/coronavirus/positions_geo_after_grid.geojson"
   ]
  },
  {
   "cell_type": "markdown",
   "metadata": {},
   "source": [
    "---"
   ]
  },
  {
   "cell_type": "markdown",
   "metadata": {},
   "source": [
    "## Mapbox static API"
   ]
  },
  {
   "cell_type": "markdown",
   "metadata": {},
   "source": [
    "### CA flights map"
   ]
  },
  {
   "cell_type": "code",
   "execution_count": null,
   "metadata": {},
   "outputs": [],
   "source": [
    "#before code = ck8meit0i1k2d1inzp53epjgf\n",
    "'https://api.mapbox.com/styles/v1/latimes/ck93697cw1al01ir1hdlfgpsr/static/-119.6506,35.8239,6.5,0/1280x812@2x?access_token=pk.eyJ1IjoibGF0aW1lcyIsImEiOiJjajhvcXRraGUwNnlwMzNyczR3cTBsaWh1In0.0cPKLwe2A0ET4P5CtWSiLQ'"
   ]
  },
  {
   "cell_type": "code",
   "execution_count": null,
   "metadata": {},
   "outputs": [],
   "source": [
    "#after code: ck93697cw1al01ir1hdlfgpsr\n",
    "'https://api.mapbox.com/styles/v1/\\\n",
    "    latimes/ck93697cw1al01ir1hdlfgpsr/static/-119.6506,35.8239,6.5,0/1280x812@2x?access_token=\\\n",
    "    pk.eyJ1IjoibGF0aW1lcyIsImEiOiJjajhvcXRraGUwNnlwMzNyczR3cTBsaWh1In0.0cPKLwe2A0ET4P5CtWSiLQ'"
   ]
  },
  {
   "cell_type": "code",
   "execution_count": 115,
   "metadata": {},
   "outputs": [],
   "source": []
  }
 ],
 "metadata": {
  "kernelspec": {
   "display_name": "Python 3",
   "language": "python",
   "name": "python3"
  },
  "language_info": {
   "codemirror_mode": {
    "name": "ipython",
    "version": 3
   },
   "file_extension": ".py",
   "mimetype": "text/x-python",
   "name": "python",
   "nbconvert_exporter": "python",
   "pygments_lexer": "ipython3",
   "version": "3.7.4"
  }
 },
 "nbformat": 4,
 "nbformat_minor": 4
}
