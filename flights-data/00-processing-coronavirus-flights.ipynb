{
 "cells": [
  {
   "cell_type": "markdown",
   "metadata": {},
   "source": [
    "# Processing world flights data"
   ]
  },
  {
   "cell_type": "markdown",
   "metadata": {},
   "source": [
    "### Load Python tools"
   ]
  },
  {
   "cell_type": "code",
   "execution_count": 1,
   "metadata": {},
   "outputs": [
    {
     "ename": "ModuleNotFoundError",
     "evalue": "No module named 'pyarrow'",
     "output_type": "error",
     "traceback": [
      "\u001b[0;31m---------------------------------------------------------------------------\u001b[0m",
      "\u001b[0;31mModuleNotFoundError\u001b[0m                       Traceback (most recent call last)",
      "\u001b[0;32m<ipython-input-1-20fd9b8da83f>\u001b[0m in \u001b[0;36m<module>\u001b[0;34m\u001b[0m\n\u001b[1;32m      8\u001b[0m \u001b[0;32mimport\u001b[0m \u001b[0mio\u001b[0m\u001b[0;34m\u001b[0m\u001b[0;34m\u001b[0m\u001b[0m\n\u001b[1;32m      9\u001b[0m \u001b[0;32mimport\u001b[0m \u001b[0mos\u001b[0m\u001b[0;34m\u001b[0m\u001b[0;34m\u001b[0m\u001b[0m\n\u001b[0;32m---> 10\u001b[0;31m \u001b[0;32mimport\u001b[0m \u001b[0mpyarrow\u001b[0m\u001b[0;34m\u001b[0m\u001b[0;34m\u001b[0m\u001b[0m\n\u001b[0m\u001b[1;32m     11\u001b[0m \u001b[0;32mfrom\u001b[0m \u001b[0mshapely\u001b[0m\u001b[0;34m.\u001b[0m\u001b[0mgeometry\u001b[0m \u001b[0;32mimport\u001b[0m \u001b[0mPoint\u001b[0m\u001b[0;34m,\u001b[0m \u001b[0mLineString\u001b[0m\u001b[0;34m\u001b[0m\u001b[0;34m\u001b[0m\u001b[0m\n",
      "\u001b[0;31mModuleNotFoundError\u001b[0m: No module named 'pyarrow'"
     ]
    }
   ],
   "source": [
    "import pandas as pd\n",
    "import geopandas as gpd\n",
    "import matplotlib\n",
    "import matplotlib.pyplot as plt\n",
    "import geojson\n",
    "import json\n",
    "import glob\n",
    "import io\n",
    "import os\n",
    "import pyarrow\n",
    "from shapely.geometry import Point, LineString"
   ]
  },
  {
   "cell_type": "markdown",
   "metadata": {},
   "source": [
    "### Next, read our data from Flightradar24"
   ]
  },
  {
   "cell_type": "code",
   "execution_count": 1,
   "metadata": {},
   "outputs": [
    {
     "name": "stdout",
     "output_type": "stream",
     "text": [
      "\u001b[1m\u001b[31m00-coronavirus-flights-aggregates.ipynb\u001b[m\u001b[m \u001b[36mcoronavirus\u001b[m\u001b[m\n",
      "\u001b[1m\u001b[31m00-processing-coronavirus-flights.ipynb\u001b[m\u001b[m \u001b[36minput\u001b[m\u001b[m\n",
      "\u001b[1m\u001b[31m04-coronavirus-flights-paths.ipynb\u001b[m\u001b[m      \u001b[36moutput\u001b[m\u001b[m\n"
     ]
    }
   ],
   "source": []
  },
  {
   "cell_type": "code",
   "execution_count": 4,
   "metadata": {},
   "outputs": [],
   "source": [
    "# for u in urls: \n",
    "#     !wget --user general_media --password OpE0SimNCt -r -np -nH --cut-dirs=3 -R index.html '{u}'"
   ]
  },
  {
   "cell_type": "code",
   "execution_count": 23,
   "metadata": {},
   "outputs": [],
   "source": [
    "!unzip \\*.zip\n",
    "!rm -f *.zip\n",
    "!rm -f *.tmp"
   ]
  },
  {
   "cell_type": "code",
   "execution_count": 24,
   "metadata": {},
   "outputs": [],
   "source": [
    "!mkdir positions\n",
    "!mkdir flights"
   ]
  },
  {
   "cell_type": "code",
   "execution_count": 25,
   "metadata": {},
   "outputs": [],
   "source": [
    "!mv -f *flights.csv flights"
   ]
  },
  {
   "cell_type": "code",
   "execution_count": 26,
   "metadata": {},
   "outputs": [],
   "source": [
    "!mv -f *.csv positions"
   ]
  },
  {
   "cell_type": "markdown",
   "metadata": {},
   "source": [
    "---"
   ]
  },
  {
   "cell_type": "markdown",
   "metadata": {},
   "source": [
    "## Process 'positions' data showing each point along a flight"
   ]
  },
  {
   "cell_type": "markdown",
   "metadata": {},
   "source": [
    "### Set path for positions and define the files we'll concatenate"
   ]
  },
  {
   "cell_type": "code",
   "execution_count": 27,
   "metadata": {},
   "outputs": [
    {
     "data": {
      "text/html": [
       "<div>\n",
       "<style scoped>\n",
       "    .dataframe tbody tr th:only-of-type {\n",
       "        vertical-align: middle;\n",
       "    }\n",
       "\n",
       "    .dataframe tbody tr th {\n",
       "        vertical-align: top;\n",
       "    }\n",
       "\n",
       "    .dataframe thead th {\n",
       "        text-align: right;\n",
       "    }\n",
       "</style>\n",
       "<table border=\"1\" class=\"dataframe\">\n",
       "  <thead>\n",
       "    <tr style=\"text-align: right;\">\n",
       "      <th></th>\n",
       "      <th>snapshot_id</th>\n",
       "      <th>altitude</th>\n",
       "      <th>heading</th>\n",
       "      <th>latitude</th>\n",
       "      <th>longitude</th>\n",
       "      <th>radar_id</th>\n",
       "      <th>speed</th>\n",
       "      <th>squawk</th>\n",
       "    </tr>\n",
       "  </thead>\n",
       "  <tbody>\n",
       "    <tr>\n",
       "      <td>0</td>\n",
       "      <td>1546302500</td>\n",
       "      <td>682</td>\n",
       "      <td>351</td>\n",
       "      <td>33.82970</td>\n",
       "      <td>-118.15107</td>\n",
       "      <td>8444</td>\n",
       "      <td>96</td>\n",
       "      <td>1206</td>\n",
       "    </tr>\n",
       "    <tr>\n",
       "      <td>1</td>\n",
       "      <td>1546302513</td>\n",
       "      <td>799</td>\n",
       "      <td>354</td>\n",
       "      <td>33.83565</td>\n",
       "      <td>-118.15157</td>\n",
       "      <td>8444</td>\n",
       "      <td>97</td>\n",
       "      <td>1206</td>\n",
       "    </tr>\n",
       "    <tr>\n",
       "      <td>2</td>\n",
       "      <td>1546302537</td>\n",
       "      <td>875</td>\n",
       "      <td>74</td>\n",
       "      <td>33.84734</td>\n",
       "      <td>-118.15132</td>\n",
       "      <td>8444</td>\n",
       "      <td>101</td>\n",
       "      <td>1206</td>\n",
       "    </tr>\n",
       "    <tr>\n",
       "      <td>3</td>\n",
       "      <td>1546302545</td>\n",
       "      <td>899</td>\n",
       "      <td>19</td>\n",
       "      <td>33.85181</td>\n",
       "      <td>-118.15102</td>\n",
       "      <td>8444</td>\n",
       "      <td>104</td>\n",
       "      <td>1206</td>\n",
       "    </tr>\n",
       "    <tr>\n",
       "      <td>4</td>\n",
       "      <td>1546302552</td>\n",
       "      <td>800</td>\n",
       "      <td>7</td>\n",
       "      <td>33.85536</td>\n",
       "      <td>-118.15085</td>\n",
       "      <td>8444</td>\n",
       "      <td>106</td>\n",
       "      <td>1206</td>\n",
       "    </tr>\n",
       "  </tbody>\n",
       "</table>\n",
       "</div>"
      ],
      "text/plain": [
       "   snapshot_id  altitude  heading  latitude  longitude  radar_id  speed  \\\n",
       "0   1546302500       682      351  33.82970 -118.15107      8444     96   \n",
       "1   1546302513       799      354  33.83565 -118.15157      8444     97   \n",
       "2   1546302537       875       74  33.84734 -118.15132      8444    101   \n",
       "3   1546302545       899       19  33.85181 -118.15102      8444    104   \n",
       "4   1546302552       800        7  33.85536 -118.15085      8444    106   \n",
       "\n",
       "   squawk  \n",
       "0    1206  \n",
       "1    1206  \n",
       "2    1206  \n",
       "3    1206  \n",
       "4    1206  "
      ]
     },
     "execution_count": 27,
     "metadata": {},
     "output_type": "execute_result"
    }
   ],
   "source": [
    "a_position = pd.read_csv('positions/20190101_520786143.csv')\n",
    "a_position.head()"
   ]
  },
  {
   "cell_type": "code",
   "execution_count": 28,
   "metadata": {},
   "outputs": [],
   "source": [
    "path = 'positions'\n",
    "files = glob.glob(os.path.join(path, \"*.csv\"))"
   ]
  },
  {
   "cell_type": "markdown",
   "metadata": {},
   "source": [
    "### Read the csv and create a 'flightid' field so we can track unique flights"
   ]
  },
  {
   "cell_type": "code",
   "execution_count": 29,
   "metadata": {},
   "outputs": [],
   "source": [
    "file_df = (pd.read_csv(f, encoding = \"ISO-8859-1\", low_memory=False)\\\n",
    "           .assign(flightid=os.path.basename(f)) for f in files)"
   ]
  },
  {
   "cell_type": "markdown",
   "metadata": {},
   "source": [
    "### Concateate the frames"
   ]
  },
  {
   "cell_type": "code",
   "execution_count": 30,
   "metadata": {},
   "outputs": [
    {
     "data": {
      "text/html": [
       "<div>\n",
       "<style scoped>\n",
       "    .dataframe tbody tr th:only-of-type {\n",
       "        vertical-align: middle;\n",
       "    }\n",
       "\n",
       "    .dataframe tbody tr th {\n",
       "        vertical-align: top;\n",
       "    }\n",
       "\n",
       "    .dataframe thead th {\n",
       "        text-align: right;\n",
       "    }\n",
       "</style>\n",
       "<table border=\"1\" class=\"dataframe\">\n",
       "  <thead>\n",
       "    <tr style=\"text-align: right;\">\n",
       "      <th></th>\n",
       "      <th>snapshot_id</th>\n",
       "      <th>altitude</th>\n",
       "      <th>heading</th>\n",
       "      <th>latitude</th>\n",
       "      <th>longitude</th>\n",
       "      <th>radar_id</th>\n",
       "      <th>speed</th>\n",
       "      <th>squawk</th>\n",
       "      <th>flightid</th>\n",
       "    </tr>\n",
       "  </thead>\n",
       "  <tbody>\n",
       "    <tr>\n",
       "      <td>0</td>\n",
       "      <td>1548698910</td>\n",
       "      <td>500</td>\n",
       "      <td>310</td>\n",
       "      <td>33.97671</td>\n",
       "      <td>-118.26622</td>\n",
       "      <td>26826</td>\n",
       "      <td>0</td>\n",
       "      <td>0</td>\n",
       "      <td>20190128_525530318.csv</td>\n",
       "    </tr>\n",
       "    <tr>\n",
       "      <td>1</td>\n",
       "      <td>1571361703</td>\n",
       "      <td>575</td>\n",
       "      <td>237</td>\n",
       "      <td>34.05377</td>\n",
       "      <td>-118.23032</td>\n",
       "      <td>3021</td>\n",
       "      <td>36</td>\n",
       "      <td>0</td>\n",
       "      <td>20191018_579082629.csv</td>\n",
       "    </tr>\n",
       "    <tr>\n",
       "      <td>2</td>\n",
       "      <td>1571361709</td>\n",
       "      <td>675</td>\n",
       "      <td>268</td>\n",
       "      <td>34.05359</td>\n",
       "      <td>-118.23167</td>\n",
       "      <td>3021</td>\n",
       "      <td>46</td>\n",
       "      <td>0</td>\n",
       "      <td>20191018_579082629.csv</td>\n",
       "    </tr>\n",
       "    <tr>\n",
       "      <td>3</td>\n",
       "      <td>1571361729</td>\n",
       "      <td>875</td>\n",
       "      <td>299</td>\n",
       "      <td>34.05492</td>\n",
       "      <td>-118.23851</td>\n",
       "      <td>3021</td>\n",
       "      <td>67</td>\n",
       "      <td>0</td>\n",
       "      <td>20191018_579082629.csv</td>\n",
       "    </tr>\n",
       "    <tr>\n",
       "      <td>4</td>\n",
       "      <td>1571361735</td>\n",
       "      <td>900</td>\n",
       "      <td>306</td>\n",
       "      <td>34.05597</td>\n",
       "      <td>-118.24036</td>\n",
       "      <td>3021</td>\n",
       "      <td>65</td>\n",
       "      <td>0</td>\n",
       "      <td>20191018_579082629.csv</td>\n",
       "    </tr>\n",
       "  </tbody>\n",
       "</table>\n",
       "</div>"
      ],
      "text/plain": [
       "   snapshot_id  altitude  heading  latitude  longitude  radar_id  speed  \\\n",
       "0   1548698910       500      310  33.97671 -118.26622     26826      0   \n",
       "1   1571361703       575      237  34.05377 -118.23032      3021     36   \n",
       "2   1571361709       675      268  34.05359 -118.23167      3021     46   \n",
       "3   1571361729       875      299  34.05492 -118.23851      3021     67   \n",
       "4   1571361735       900      306  34.05597 -118.24036      3021     65   \n",
       "\n",
       "   squawk                flightid  \n",
       "0       0  20190128_525530318.csv  \n",
       "1       0  20191018_579082629.csv  \n",
       "2       0  20191018_579082629.csv  \n",
       "3       0  20191018_579082629.csv  \n",
       "4       0  20191018_579082629.csv  "
      ]
     },
     "execution_count": 30,
     "metadata": {},
     "output_type": "execute_result"
    }
   ],
   "source": [
    "positions_df = pd.concat(file_df, ignore_index=True)\n",
    "positions_df.head()"
   ]
  },
  {
   "cell_type": "code",
   "execution_count": 31,
   "metadata": {},
   "outputs": [
    {
     "data": {
      "text/plain": [
       "5871403"
      ]
     },
     "execution_count": 31,
     "metadata": {},
     "output_type": "execute_result"
    }
   ],
   "source": [
    "len(positions_df)"
   ]
  },
  {
   "cell_type": "markdown",
   "metadata": {},
   "source": [
    "### Combined our newly processed flight positions"
   ]
  },
  {
   "cell_type": "code",
   "execution_count": 32,
   "metadata": {},
   "outputs": [],
   "source": [
    "positions_df['flightid'] = positions_df['flightid']\\\n",
    "    .str.replace('.csv','')"
   ]
  },
  {
   "cell_type": "markdown",
   "metadata": {},
   "source": [
    "### Split the flightid field so we have a date string to convert later and also a flightid"
   ]
  },
  {
   "cell_type": "code",
   "execution_count": 33,
   "metadata": {},
   "outputs": [],
   "source": [
    "positions_df[['datestr','flight_id']] = positions_df.flightid.str.split(\"_\",expand=True,)"
   ]
  },
  {
   "cell_type": "code",
   "execution_count": 34,
   "metadata": {},
   "outputs": [
    {
     "data": {
      "text/html": [
       "<div>\n",
       "<style scoped>\n",
       "    .dataframe tbody tr th:only-of-type {\n",
       "        vertical-align: middle;\n",
       "    }\n",
       "\n",
       "    .dataframe tbody tr th {\n",
       "        vertical-align: top;\n",
       "    }\n",
       "\n",
       "    .dataframe thead th {\n",
       "        text-align: right;\n",
       "    }\n",
       "</style>\n",
       "<table border=\"1\" class=\"dataframe\">\n",
       "  <thead>\n",
       "    <tr style=\"text-align: right;\">\n",
       "      <th></th>\n",
       "      <th>snapshot_id</th>\n",
       "      <th>altitude</th>\n",
       "      <th>heading</th>\n",
       "      <th>latitude</th>\n",
       "      <th>longitude</th>\n",
       "      <th>radar_id</th>\n",
       "      <th>speed</th>\n",
       "      <th>squawk</th>\n",
       "      <th>flightid</th>\n",
       "      <th>datestr</th>\n",
       "      <th>flight_id</th>\n",
       "    </tr>\n",
       "  </thead>\n",
       "  <tbody>\n",
       "    <tr>\n",
       "      <td>0</td>\n",
       "      <td>1548698910</td>\n",
       "      <td>500</td>\n",
       "      <td>310</td>\n",
       "      <td>33.97671</td>\n",
       "      <td>-118.26622</td>\n",
       "      <td>26826</td>\n",
       "      <td>0</td>\n",
       "      <td>0</td>\n",
       "      <td>20190128_525530318</td>\n",
       "      <td>20190128</td>\n",
       "      <td>525530318</td>\n",
       "    </tr>\n",
       "    <tr>\n",
       "      <td>1</td>\n",
       "      <td>1571361703</td>\n",
       "      <td>575</td>\n",
       "      <td>237</td>\n",
       "      <td>34.05377</td>\n",
       "      <td>-118.23032</td>\n",
       "      <td>3021</td>\n",
       "      <td>36</td>\n",
       "      <td>0</td>\n",
       "      <td>20191018_579082629</td>\n",
       "      <td>20191018</td>\n",
       "      <td>579082629</td>\n",
       "    </tr>\n",
       "    <tr>\n",
       "      <td>2</td>\n",
       "      <td>1571361709</td>\n",
       "      <td>675</td>\n",
       "      <td>268</td>\n",
       "      <td>34.05359</td>\n",
       "      <td>-118.23167</td>\n",
       "      <td>3021</td>\n",
       "      <td>46</td>\n",
       "      <td>0</td>\n",
       "      <td>20191018_579082629</td>\n",
       "      <td>20191018</td>\n",
       "      <td>579082629</td>\n",
       "    </tr>\n",
       "    <tr>\n",
       "      <td>3</td>\n",
       "      <td>1571361729</td>\n",
       "      <td>875</td>\n",
       "      <td>299</td>\n",
       "      <td>34.05492</td>\n",
       "      <td>-118.23851</td>\n",
       "      <td>3021</td>\n",
       "      <td>67</td>\n",
       "      <td>0</td>\n",
       "      <td>20191018_579082629</td>\n",
       "      <td>20191018</td>\n",
       "      <td>579082629</td>\n",
       "    </tr>\n",
       "    <tr>\n",
       "      <td>4</td>\n",
       "      <td>1571361735</td>\n",
       "      <td>900</td>\n",
       "      <td>306</td>\n",
       "      <td>34.05597</td>\n",
       "      <td>-118.24036</td>\n",
       "      <td>3021</td>\n",
       "      <td>65</td>\n",
       "      <td>0</td>\n",
       "      <td>20191018_579082629</td>\n",
       "      <td>20191018</td>\n",
       "      <td>579082629</td>\n",
       "    </tr>\n",
       "  </tbody>\n",
       "</table>\n",
       "</div>"
      ],
      "text/plain": [
       "   snapshot_id  altitude  heading  latitude  longitude  radar_id  speed  \\\n",
       "0   1548698910       500      310  33.97671 -118.26622     26826      0   \n",
       "1   1571361703       575      237  34.05377 -118.23032      3021     36   \n",
       "2   1571361709       675      268  34.05359 -118.23167      3021     46   \n",
       "3   1571361729       875      299  34.05492 -118.23851      3021     67   \n",
       "4   1571361735       900      306  34.05597 -118.24036      3021     65   \n",
       "\n",
       "   squawk            flightid   datestr  flight_id  \n",
       "0       0  20190128_525530318  20190128  525530318  \n",
       "1       0  20191018_579082629  20191018  579082629  \n",
       "2       0  20191018_579082629  20191018  579082629  \n",
       "3       0  20191018_579082629  20191018  579082629  \n",
       "4       0  20191018_579082629  20191018  579082629  "
      ]
     },
     "execution_count": 34,
     "metadata": {},
     "output_type": "execute_result"
    }
   ],
   "source": [
    "positions_df.head()"
   ]
  },
  {
   "cell_type": "markdown",
   "metadata": {},
   "source": [
    "### Process the 'datestr' field into something we can use"
   ]
  },
  {
   "cell_type": "code",
   "execution_count": null,
   "metadata": {},
   "outputs": [],
   "source": [
    "positions_df['date'] = pd.to_datetime(positions_df.datestr, format='%Y%m%d')\n",
    "positions_df['month'] = positions_df['date'].dt.month \n",
    "positions_df['day'] = positions_df['date'].dt.day \n",
    "positions_df['weekday'] = positions_df['date'].dt.weekday_name"
   ]
  },
  {
   "cell_type": "markdown",
   "metadata": {},
   "source": [
    "### Convert the unix timestampt to human datetime and localize"
   ]
  },
  {
   "cell_type": "code",
   "execution_count": null,
   "metadata": {},
   "outputs": [],
   "source": [
    "positions_df['date_time'] = pd.to_datetime(positions_df['snapshot_id'],unit='s')\n",
    "positions_df['utc_datetime'] = \\\n",
    "    pd.to_datetime(positions_df['date_time'], format='%Y-%m-%dT%H:%M:%SZ').dt.tz_localize('UTC')"
   ]
  },
  {
   "cell_type": "code",
   "execution_count": null,
   "metadata": {},
   "outputs": [],
   "source": [
    "positions_df['datetime_pst'] = positions_df['utc_datetime'].dt.tz_convert('America/Los_Angeles')"
   ]
  },
  {
   "cell_type": "code",
   "execution_count": null,
   "metadata": {},
   "outputs": [],
   "source": [
    "positions_df['date'] = pd.to_datetime(positions_df['datetime_pst']).dt.strftime('%m/%d/%Y')\n",
    "positions_df['time'] = pd.to_datetime(positions_df['datetime_pst']).dt.strftime('%H:%M:%S')\n",
    "positions_df['display_time'] = pd.to_datetime(positions_df['datetime_pst']).dt.strftime('%I:%M %p')"
   ]
  },
  {
   "cell_type": "code",
   "execution_count": null,
   "metadata": {},
   "outputs": [],
   "source": [
    "positions_df = \\\n",
    "    positions_df.drop(['snapshot_id', 'radar_id', 'day',\\\n",
    "                          'datestr','utc_datetime','date_time', 'datetime_pst', 'display_time'], axis=1)"
   ]
  },
  {
   "cell_type": "code",
   "execution_count": null,
   "metadata": {},
   "outputs": [],
   "source": [
    "positions = pd.DataFrame(positions_df)"
   ]
  },
  {
   "cell_type": "code",
   "execution_count": null,
   "metadata": {},
   "outputs": [],
   "source": [
    "positions.sort_values(by='date', ascending=True).head()"
   ]
  },
  {
   "cell_type": "markdown",
   "metadata": {},
   "source": [
    "---"
   ]
  },
  {
   "cell_type": "markdown",
   "metadata": {},
   "source": [
    "## Process 'flights' metadata about each set of points"
   ]
  },
  {
   "cell_type": "markdown",
   "metadata": {},
   "source": [
    "### Set path for flights and define the files we'll concatenate"
   ]
  },
  {
   "cell_type": "code",
   "execution_count": 7,
   "metadata": {},
   "outputs": [],
   "source": [
    "a_flight = pd.read_csv('coronavirus/20200317_flights.csv')"
   ]
  },
  {
   "cell_type": "code",
   "execution_count": 8,
   "metadata": {},
   "outputs": [
    {
     "data": {
      "text/html": [
       "<div>\n",
       "<style scoped>\n",
       "    .dataframe tbody tr th:only-of-type {\n",
       "        vertical-align: middle;\n",
       "    }\n",
       "\n",
       "    .dataframe tbody tr th {\n",
       "        vertical-align: top;\n",
       "    }\n",
       "\n",
       "    .dataframe thead th {\n",
       "        text-align: right;\n",
       "    }\n",
       "</style>\n",
       "<table border=\"1\" class=\"dataframe\">\n",
       "  <thead>\n",
       "    <tr style=\"text-align: right;\">\n",
       "      <th></th>\n",
       "      <th>flight_id</th>\n",
       "      <th>aircraft_id</th>\n",
       "      <th>reg</th>\n",
       "      <th>equip</th>\n",
       "      <th>callsign</th>\n",
       "      <th>flight</th>\n",
       "      <th>schd_from</th>\n",
       "      <th>schd_to</th>\n",
       "      <th>real_to</th>\n",
       "      <th>reserved</th>\n",
       "    </tr>\n",
       "  </thead>\n",
       "  <tbody>\n",
       "    <tr>\n",
       "      <td>0</td>\n",
       "      <td>607326734</td>\n",
       "      <td>4845756</td>\n",
       "      <td>NaN</td>\n",
       "      <td>NaN</td>\n",
       "      <td>OSTRAHA</td>\n",
       "      <td>NaN</td>\n",
       "      <td>OSR</td>\n",
       "      <td>NaN</td>\n",
       "      <td>NaN</td>\n",
       "      <td>NaN</td>\n",
       "    </tr>\n",
       "    <tr>\n",
       "      <td>1</td>\n",
       "      <td>607319067</td>\n",
       "      <td>10909827</td>\n",
       "      <td>N516JB</td>\n",
       "      <td>A320</td>\n",
       "      <td>MX516</td>\n",
       "      <td>NaN</td>\n",
       "      <td>LGB</td>\n",
       "      <td>NaN</td>\n",
       "      <td>NaN</td>\n",
       "      <td>NaN</td>\n",
       "    </tr>\n",
       "    <tr>\n",
       "      <td>2</td>\n",
       "      <td>607329341</td>\n",
       "      <td>3949337</td>\n",
       "      <td>V83</td>\n",
       "      <td>GRND</td>\n",
       "      <td>V83</td>\n",
       "      <td>NaN</td>\n",
       "      <td>NaN</td>\n",
       "      <td>NaN</td>\n",
       "      <td>NaN</td>\n",
       "      <td>NaN</td>\n",
       "    </tr>\n",
       "    <tr>\n",
       "      <td>3</td>\n",
       "      <td>607289287</td>\n",
       "      <td>10591780</td>\n",
       "      <td>N203LB</td>\n",
       "      <td>LOON</td>\n",
       "      <td>HBAL129</td>\n",
       "      <td>NaN</td>\n",
       "      <td>NaN</td>\n",
       "      <td>NaN</td>\n",
       "      <td>NaN</td>\n",
       "      <td>NaN</td>\n",
       "    </tr>\n",
       "    <tr>\n",
       "      <td>4</td>\n",
       "      <td>607328140</td>\n",
       "      <td>4688509</td>\n",
       "      <td>NaN</td>\n",
       "      <td>GRND</td>\n",
       "      <td>BR085</td>\n",
       "      <td>NaN</td>\n",
       "      <td>NaN</td>\n",
       "      <td>NaN</td>\n",
       "      <td>NaN</td>\n",
       "      <td>NaN</td>\n",
       "    </tr>\n",
       "  </tbody>\n",
       "</table>\n",
       "</div>"
      ],
      "text/plain": [
       "   flight_id  aircraft_id     reg equip callsign flight schd_from schd_to  \\\n",
       "0  607326734      4845756     NaN   NaN  OSTRAHA    NaN       OSR     NaN   \n",
       "1  607319067     10909827  N516JB  A320    MX516    NaN       LGB     NaN   \n",
       "2  607329341      3949337     V83  GRND      V83    NaN       NaN     NaN   \n",
       "3  607289287     10591780  N203LB  LOON  HBAL129    NaN       NaN     NaN   \n",
       "4  607328140      4688509     NaN  GRND    BR085    NaN       NaN     NaN   \n",
       "\n",
       "  real_to  reserved  \n",
       "0     NaN       NaN  \n",
       "1     NaN       NaN  \n",
       "2     NaN       NaN  \n",
       "3     NaN       NaN  \n",
       "4     NaN       NaN  "
      ]
     },
     "execution_count": 8,
     "metadata": {},
     "output_type": "execute_result"
    }
   ],
   "source": [
    "a_flight.head()"
   ]
  },
  {
   "cell_type": "code",
   "execution_count": 10,
   "metadata": {},
   "outputs": [],
   "source": [
    "path = 'coronavirus/'\n",
    "files = glob.glob(os.path.join(path, \"*flights.csv\"))"
   ]
  },
  {
   "cell_type": "markdown",
   "metadata": {},
   "source": [
    "### Read the csv and create a 'date' field"
   ]
  },
  {
   "cell_type": "code",
   "execution_count": 11,
   "metadata": {},
   "outputs": [],
   "source": [
    "file_df = (pd.read_csv(f, encoding = \"ISO-8859-1\", low_memory=False)\\\n",
    "           .assign(date=os.path.basename(f)) for f in files)"
   ]
  },
  {
   "cell_type": "markdown",
   "metadata": {},
   "source": [
    "### Combined our newly processed flight files"
   ]
  },
  {
   "cell_type": "code",
   "execution_count": 12,
   "metadata": {},
   "outputs": [],
   "source": [
    "flights_df = pd.concat(file_df, ignore_index=True)"
   ]
  },
  {
   "cell_type": "code",
   "execution_count": 13,
   "metadata": {},
   "outputs": [
    {
     "data": {
      "text/html": [
       "<div>\n",
       "<style scoped>\n",
       "    .dataframe tbody tr th:only-of-type {\n",
       "        vertical-align: middle;\n",
       "    }\n",
       "\n",
       "    .dataframe tbody tr th {\n",
       "        vertical-align: top;\n",
       "    }\n",
       "\n",
       "    .dataframe thead th {\n",
       "        text-align: right;\n",
       "    }\n",
       "</style>\n",
       "<table border=\"1\" class=\"dataframe\">\n",
       "  <thead>\n",
       "    <tr style=\"text-align: right;\">\n",
       "      <th></th>\n",
       "      <th>flight_id</th>\n",
       "      <th>aircraft_id</th>\n",
       "      <th>reg</th>\n",
       "      <th>equip</th>\n",
       "      <th>callsign</th>\n",
       "      <th>flight</th>\n",
       "      <th>schd_from</th>\n",
       "      <th>schd_to</th>\n",
       "      <th>real_to</th>\n",
       "      <th>reserved</th>\n",
       "      <th>date</th>\n",
       "    </tr>\n",
       "  </thead>\n",
       "  <tbody>\n",
       "    <tr>\n",
       "      <td>0</td>\n",
       "      <td>595644061</td>\n",
       "      <td>12706841</td>\n",
       "      <td>NaN</td>\n",
       "      <td>GRND</td>\n",
       "      <td>SER661</td>\n",
       "      <td>NaN</td>\n",
       "      <td>YUL</td>\n",
       "      <td>NaN</td>\n",
       "      <td>NaN</td>\n",
       "      <td>NaN</td>\n",
       "      <td>20200114_flights.csv</td>\n",
       "    </tr>\n",
       "    <tr>\n",
       "      <td>1</td>\n",
       "      <td>595680618</td>\n",
       "      <td>1102612</td>\n",
       "      <td>NaN</td>\n",
       "      <td>GRND</td>\n",
       "      <td>AC162</td>\n",
       "      <td>AC162</td>\n",
       "      <td>OVB</td>\n",
       "      <td>NaN</td>\n",
       "      <td>NaN</td>\n",
       "      <td>NaN</td>\n",
       "      <td>20200114_flights.csv</td>\n",
       "    </tr>\n",
       "    <tr>\n",
       "      <td>2</td>\n",
       "      <td>595674575</td>\n",
       "      <td>9006622</td>\n",
       "      <td>NaN</td>\n",
       "      <td>GRND</td>\n",
       "      <td>NaN</td>\n",
       "      <td>NaN</td>\n",
       "      <td>NaN</td>\n",
       "      <td>NaN</td>\n",
       "      <td>NaN</td>\n",
       "      <td>NaN</td>\n",
       "      <td>20200114_flights.csv</td>\n",
       "    </tr>\n",
       "    <tr>\n",
       "      <td>3</td>\n",
       "      <td>595695060</td>\n",
       "      <td>4618009</td>\n",
       "      <td>MR7</td>\n",
       "      <td>GRND</td>\n",
       "      <td>MR7</td>\n",
       "      <td>NaN</td>\n",
       "      <td>NaN</td>\n",
       "      <td>NaN</td>\n",
       "      <td>NaN</td>\n",
       "      <td>NaN</td>\n",
       "      <td>20200114_flights.csv</td>\n",
       "    </tr>\n",
       "    <tr>\n",
       "      <td>4</td>\n",
       "      <td>595690004</td>\n",
       "      <td>4939182</td>\n",
       "      <td>NaN</td>\n",
       "      <td>GRND</td>\n",
       "      <td>RTT2</td>\n",
       "      <td>NaN</td>\n",
       "      <td>ZRH</td>\n",
       "      <td>NaN</td>\n",
       "      <td>NaN</td>\n",
       "      <td>NaN</td>\n",
       "      <td>20200114_flights.csv</td>\n",
       "    </tr>\n",
       "  </tbody>\n",
       "</table>\n",
       "</div>"
      ],
      "text/plain": [
       "   flight_id  aircraft_id  reg equip callsign flight schd_from schd_to  \\\n",
       "0  595644061     12706841  NaN  GRND   SER661    NaN       YUL     NaN   \n",
       "1  595680618      1102612  NaN  GRND    AC162  AC162       OVB     NaN   \n",
       "2  595674575      9006622  NaN  GRND      NaN    NaN       NaN     NaN   \n",
       "3  595695060      4618009  MR7  GRND      MR7    NaN       NaN     NaN   \n",
       "4  595690004      4939182  NaN  GRND     RTT2    NaN       ZRH     NaN   \n",
       "\n",
       "  real_to  reserved                  date  \n",
       "0     NaN       NaN  20200114_flights.csv  \n",
       "1     NaN       NaN  20200114_flights.csv  \n",
       "2     NaN       NaN  20200114_flights.csv  \n",
       "3     NaN       NaN  20200114_flights.csv  \n",
       "4     NaN       NaN  20200114_flights.csv  "
      ]
     },
     "execution_count": 13,
     "metadata": {},
     "output_type": "execute_result"
    }
   ],
   "source": [
    "flights_df.head()"
   ]
  },
  {
   "cell_type": "markdown",
   "metadata": {},
   "source": [
    "### Clean up our dates for use later"
   ]
  },
  {
   "cell_type": "code",
   "execution_count": 14,
   "metadata": {},
   "outputs": [],
   "source": [
    "flights_df['date'] = flights_df['date']\\\n",
    "    .str.replace('_flights.csv','')"
   ]
  },
  {
   "cell_type": "code",
   "execution_count": 15,
   "metadata": {},
   "outputs": [],
   "source": [
    "flights_df['date'] = pd.to_datetime(flights_df.date, format='%Y%m%d')\n",
    "flights_df['month'] = flights_df['date'].dt.month \n",
    "flights_df['day'] = flights_df['date'].dt.day \n",
    "flights_df['weekday'] = flights_df['date'].dt.weekday_name"
   ]
  },
  {
   "cell_type": "markdown",
   "metadata": {},
   "source": [
    "### Create a new dataframe with flights and export to CSV"
   ]
  },
  {
   "cell_type": "code",
   "execution_count": 16,
   "metadata": {},
   "outputs": [],
   "source": [
    "flights = pd.DataFrame(flights_df)"
   ]
  },
  {
   "cell_type": "code",
   "execution_count": null,
   "metadata": {},
   "outputs": [],
   "source": [
    "flights.head()"
   ]
  },
  {
   "cell_type": "markdown",
   "metadata": {},
   "source": [
    "### Just flights from LAX"
   ]
  },
  {
   "cell_type": "code",
   "execution_count": null,
   "metadata": {},
   "outputs": [],
   "source": [
    "from_lax = flights[flights['schd_from'] == 'LAX']"
   ]
  },
  {
   "cell_type": "code",
   "execution_count": 21,
   "metadata": {},
   "outputs": [
    {
     "data": {
      "text/html": [
       "<div>\n",
       "<style scoped>\n",
       "    .dataframe tbody tr th:only-of-type {\n",
       "        vertical-align: middle;\n",
       "    }\n",
       "\n",
       "    .dataframe tbody tr th {\n",
       "        vertical-align: top;\n",
       "    }\n",
       "\n",
       "    .dataframe thead th {\n",
       "        text-align: right;\n",
       "    }\n",
       "</style>\n",
       "<table border=\"1\" class=\"dataframe\">\n",
       "  <thead>\n",
       "    <tr style=\"text-align: right;\">\n",
       "      <th></th>\n",
       "      <th>flight_id</th>\n",
       "      <th>aircraft_id</th>\n",
       "      <th>reg</th>\n",
       "      <th>equip</th>\n",
       "      <th>callsign</th>\n",
       "      <th>flight</th>\n",
       "      <th>schd_from</th>\n",
       "      <th>schd_to</th>\n",
       "      <th>real_to</th>\n",
       "      <th>reserved</th>\n",
       "      <th>date</th>\n",
       "      <th>month</th>\n",
       "      <th>day</th>\n",
       "      <th>weekday</th>\n",
       "    </tr>\n",
       "  </thead>\n",
       "  <tbody>\n",
       "    <tr>\n",
       "      <td>8</td>\n",
       "      <td>595671048</td>\n",
       "      <td>11000404</td>\n",
       "      <td>N605FE</td>\n",
       "      <td>MD11</td>\n",
       "      <td>FDX323</td>\n",
       "      <td>FX323</td>\n",
       "      <td>LAX</td>\n",
       "      <td>NaN</td>\n",
       "      <td>NaN</td>\n",
       "      <td>NaN</td>\n",
       "      <td>2020-01-14</td>\n",
       "      <td>1</td>\n",
       "      <td>14</td>\n",
       "      <td>Tuesday</td>\n",
       "    </tr>\n",
       "    <tr>\n",
       "      <td>127</td>\n",
       "      <td>595699172</td>\n",
       "      <td>8145187</td>\n",
       "      <td>VHOQD</td>\n",
       "      <td>A388</td>\n",
       "      <td>QFA94</td>\n",
       "      <td>QF94</td>\n",
       "      <td>LAX</td>\n",
       "      <td>MEL</td>\n",
       "      <td>MEL</td>\n",
       "      <td>NaN</td>\n",
       "      <td>2020-01-14</td>\n",
       "      <td>1</td>\n",
       "      <td>14</td>\n",
       "      <td>Tuesday</td>\n",
       "    </tr>\n",
       "    <tr>\n",
       "      <td>172</td>\n",
       "      <td>595710954</td>\n",
       "      <td>10991594</td>\n",
       "      <td>N597FE</td>\n",
       "      <td>MD11</td>\n",
       "      <td>FDX326</td>\n",
       "      <td>FX326</td>\n",
       "      <td>LAX</td>\n",
       "      <td>NaN</td>\n",
       "      <td>NaN</td>\n",
       "      <td>NaN</td>\n",
       "      <td>2020-01-14</td>\n",
       "      <td>1</td>\n",
       "      <td>14</td>\n",
       "      <td>Tuesday</td>\n",
       "    </tr>\n",
       "    <tr>\n",
       "      <td>692</td>\n",
       "      <td>595755732</td>\n",
       "      <td>11265389</td>\n",
       "      <td>N866DA</td>\n",
       "      <td>B772</td>\n",
       "      <td>DAL7</td>\n",
       "      <td>DL7</td>\n",
       "      <td>LAX</td>\n",
       "      <td>HND</td>\n",
       "      <td>HND</td>\n",
       "      <td>NaN</td>\n",
       "      <td>2020-01-14</td>\n",
       "      <td>1</td>\n",
       "      <td>14</td>\n",
       "      <td>Tuesday</td>\n",
       "    </tr>\n",
       "    <tr>\n",
       "      <td>834</td>\n",
       "      <td>595762877</td>\n",
       "      <td>794813</td>\n",
       "      <td>HP1851CMP</td>\n",
       "      <td>B738</td>\n",
       "      <td>CMP473</td>\n",
       "      <td>CM473</td>\n",
       "      <td>LAX</td>\n",
       "      <td>PTY</td>\n",
       "      <td>PTY</td>\n",
       "      <td>NaN</td>\n",
       "      <td>2020-01-14</td>\n",
       "      <td>1</td>\n",
       "      <td>14</td>\n",
       "      <td>Tuesday</td>\n",
       "    </tr>\n",
       "  </tbody>\n",
       "</table>\n",
       "</div>"
      ],
      "text/plain": [
       "     flight_id  aircraft_id        reg equip callsign flight schd_from  \\\n",
       "8    595671048     11000404     N605FE  MD11   FDX323  FX323       LAX   \n",
       "127  595699172      8145187      VHOQD  A388    QFA94   QF94       LAX   \n",
       "172  595710954     10991594     N597FE  MD11   FDX326  FX326       LAX   \n",
       "692  595755732     11265389     N866DA  B772     DAL7    DL7       LAX   \n",
       "834  595762877       794813  HP1851CMP  B738   CMP473  CM473       LAX   \n",
       "\n",
       "    schd_to real_to  reserved       date  month  day  weekday  \n",
       "8       NaN     NaN       NaN 2020-01-14      1   14  Tuesday  \n",
       "127     MEL     MEL       NaN 2020-01-14      1   14  Tuesday  \n",
       "172     NaN     NaN       NaN 2020-01-14      1   14  Tuesday  \n",
       "692     HND     HND       NaN 2020-01-14      1   14  Tuesday  \n",
       "834     PTY     PTY       NaN 2020-01-14      1   14  Tuesday  "
      ]
     },
     "execution_count": 21,
     "metadata": {},
     "output_type": "execute_result"
    }
   ],
   "source": [
    "from_lax.head()"
   ]
  },
  {
   "cell_type": "code",
   "execution_count": null,
   "metadata": {},
   "outputs": [],
   "source": [
    "lax_ids = from_lax.flight_id.tolist()"
   ]
  },
  {
   "cell_type": "code",
   "execution_count": 26,
   "metadata": {},
   "outputs": [],
   "source": [
    "from_lax.to_csv('output/from_lax.csv')"
   ]
  },
  {
   "cell_type": "markdown",
   "metadata": {},
   "source": [
    "### Group by flight ID to associate each flight with an aircraft"
   ]
  },
  {
   "cell_type": "code",
   "execution_count": 27,
   "metadata": {},
   "outputs": [],
   "source": [
    "flight_id_grouped = flights.groupby(['flight_id', 'reg']).agg('size').reset_index(name='count')\n",
    "flight_id_grouped = \\\n",
    "    flight_id_grouped.drop(['count'], axis=1)"
   ]
  },
  {
   "cell_type": "code",
   "execution_count": 28,
   "metadata": {},
   "outputs": [
    {
     "data": {
      "text/plain": [
       "1727861"
      ]
     },
     "execution_count": 28,
     "metadata": {},
     "output_type": "execute_result"
    }
   ],
   "source": [
    "len(flight_id_grouped)"
   ]
  },
  {
   "cell_type": "markdown",
   "metadata": {},
   "source": [
    "---"
   ]
  },
  {
   "cell_type": "markdown",
   "metadata": {},
   "source": [
    "### Merge to add aircraft ID and registration N number to each position"
   ]
  },
  {
   "cell_type": "code",
   "execution_count": null,
   "metadata": {},
   "outputs": [],
   "source": [
    "flight_id_grouped['flight_id'] = flight_id_grouped['flight_id'].astype(str)"
   ]
  },
  {
   "cell_type": "code",
   "execution_count": null,
   "metadata": {},
   "outputs": [],
   "source": [
    "positions = positions.merge(flight_id_grouped, on='flight_id')"
   ]
  },
  {
   "cell_type": "code",
   "execution_count": null,
   "metadata": {},
   "outputs": [],
   "source": [
    "positions = gpd.GeoDataFrame(positions.merge(src, left_on='reg', right_on='n_number'))"
   ]
  },
  {
   "cell_type": "code",
   "execution_count": null,
   "metadata": {},
   "outputs": [],
   "source": [
    "len(positions)"
   ]
  },
  {
   "cell_type": "code",
   "execution_count": null,
   "metadata": {
    "scrolled": true
   },
   "outputs": [],
   "source": [
    "# positions.reset_index().to_feather('/Users/mhustiles/data/data/helicopters/all_positions.feather')"
   ]
  },
  {
   "cell_type": "markdown",
   "metadata": {},
   "source": [
    "---"
   ]
  },
  {
   "cell_type": "markdown",
   "metadata": {},
   "source": [
    "## Geography"
   ]
  },
  {
   "cell_type": "markdown",
   "metadata": {},
   "source": [
    "### Convert to positions to a GeoDataFrame using lon/lat for each point in the flight"
   ]
  },
  {
   "cell_type": "code",
   "execution_count": null,
   "metadata": {},
   "outputs": [],
   "source": [
    "positions.loc[112000]"
   ]
  },
  {
   "cell_type": "code",
   "execution_count": null,
   "metadata": {},
   "outputs": [],
   "source": [
    "positions_geo = gpd.GeoDataFrame(positions, \\\n",
    "                geometry=gpd.points_from_xy(positions['longitude'], positions['latitude']))"
   ]
  },
  {
   "cell_type": "code",
   "execution_count": null,
   "metadata": {},
   "outputs": [],
   "source": [
    "positions_geo.crs = \"epsg:4326\""
   ]
  },
  {
   "cell_type": "markdown",
   "metadata": {},
   "source": [
    "### Loop though all the aircraft, creating frames for each set of positions to export"
   ]
  },
  {
   "cell_type": "code",
   "execution_count": null,
   "metadata": {},
   "outputs": [],
   "source": [
    "n_numbers = positions_geo.groupby(['reg']).agg('size').reset_index(name='count')"
   ]
  },
  {
   "cell_type": "code",
   "execution_count": null,
   "metadata": {},
   "outputs": [],
   "source": [
    "choppers_list = n_numbers['reg'].tolist()"
   ]
  },
  {
   "cell_type": "code",
   "execution_count": null,
   "metadata": {},
   "outputs": [],
   "source": [
    "n_numbers = []\n",
    "for n in choppers_list:\n",
    "    n_numbers.append(dict(n_number = n))"
   ]
  },
  {
   "cell_type": "code",
   "execution_count": null,
   "metadata": {},
   "outputs": [],
   "source": [
    "# df = pd.DataFrame()\n",
    "\n",
    "# for l in n_numbers:\n",
    "#     n = l['n_number']\n",
    "#     aircraft = positions_geo[positions_geo['n_number'] == n]\n",
    "#     aircraft.to_file(f'/Users/mhustiles/data/data/helicopters/' + n + '.geojson', driver='GeoJSON')"
   ]
  },
  {
   "cell_type": "code",
   "execution_count": null,
   "metadata": {},
   "outputs": [],
   "source": [
    "!tippecanoe --generate-ids --force -Z8 -z11 -r1 -pk -pf -o \\\n",
    "/Users/mhustiles/data/data/helicopters/N661PD.mbtiles \\\n",
    "/Users/mhustiles/data/data/helicopters/N661PD.geojson"
   ]
  },
  {
   "cell_type": "markdown",
   "metadata": {},
   "source": [
    "---"
   ]
  }
 ],
 "metadata": {
  "kernelspec": {
   "display_name": "Python 3",
   "language": "python",
   "name": "python3"
  },
  "language_info": {
   "codemirror_mode": {
    "name": "ipython",
    "version": 3
   },
   "file_extension": ".py",
   "mimetype": "text/x-python",
   "name": "python",
   "nbconvert_exporter": "python",
   "pygments_lexer": "ipython3",
   "version": "3.7.6"
  }
 },
 "nbformat": 4,
 "nbformat_minor": 4
}
