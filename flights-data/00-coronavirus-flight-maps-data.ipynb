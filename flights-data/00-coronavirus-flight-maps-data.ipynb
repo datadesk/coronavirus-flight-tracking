{
 "cells": [
  {
   "cell_type": "markdown",
   "metadata": {},
   "source": [
    "# Processing coronavirus impact on global flights"
   ]
  },
  {
   "cell_type": "markdown",
   "metadata": {},
   "source": [
    "### Load Python tools"
   ]
  },
  {
   "cell_type": "code",
   "execution_count": 1,
   "metadata": {},
   "outputs": [
    {
     "data": {
      "text/plain": [
       "ThemeRegistry.enable('latimes')"
      ]
     },
     "execution_count": 1,
     "metadata": {},
     "output_type": "execute_result"
    }
   ],
   "source": [
    "import pandas as pd\n",
    "from shapely.geometry import shape\n",
    "import geopandas as gpd\n",
    "import matplotlib\n",
    "import matplotlib.pyplot as plt\n",
    "import openpyxl\n",
    "import altair as alt\n",
    "from altair_saver import save\n",
    "import lxml\n",
    "import requests\n",
    "from shapely.geometry import Point, LineString\n",
    "import geojson\n",
    "import json\n",
    "import glob\n",
    "import io\n",
    "import os\n",
    "import pyarrow\n",
    "from shapely.geometry import Point, LineString, MultiLineString\n",
    "import altair_latimes as lat\n",
    "alt.themes.register('latimes', lat.theme)\n",
    "alt.themes.enable('latimes')"
   ]
  },
  {
   "cell_type": "markdown",
   "metadata": {},
   "source": [
    "## FAA airline registristration"
   ]
  },
  {
   "cell_type": "code",
   "execution_count": 2,
   "metadata": {},
   "outputs": [],
   "source": [
    "planes = pd.read_csv('/Users/mhustiles/data/github/notebooks/aircraft/output/airline_planes.csv')"
   ]
  },
  {
   "cell_type": "code",
   "execution_count": 3,
   "metadata": {},
   "outputs": [
    {
     "data": {
      "text/html": [
       "<div>\n",
       "<style scoped>\n",
       "    .dataframe tbody tr th:only-of-type {\n",
       "        vertical-align: middle;\n",
       "    }\n",
       "\n",
       "    .dataframe tbody tr th {\n",
       "        vertical-align: top;\n",
       "    }\n",
       "\n",
       "    .dataframe thead th {\n",
       "        text-align: right;\n",
       "    }\n",
       "</style>\n",
       "<table border=\"1\" class=\"dataframe\">\n",
       "  <thead>\n",
       "    <tr style=\"text-align: right;\">\n",
       "      <th></th>\n",
       "      <th>name</th>\n",
       "      <th>n_number</th>\n",
       "    </tr>\n",
       "  </thead>\n",
       "  <tbody>\n",
       "    <tr>\n",
       "      <td>0</td>\n",
       "      <td>UNITED AIRLINES INC</td>\n",
       "      <td>N10156</td>\n",
       "    </tr>\n",
       "    <tr>\n",
       "      <td>1</td>\n",
       "      <td>DELTA AIR LINES INC</td>\n",
       "      <td>N101DU</td>\n",
       "    </tr>\n",
       "    <tr>\n",
       "      <td>2</td>\n",
       "      <td>REPUBLIC AIRWAYS INC</td>\n",
       "      <td>N101HQ</td>\n",
       "    </tr>\n",
       "    <tr>\n",
       "      <td>3</td>\n",
       "      <td>DELTA AIR LINES INC</td>\n",
       "      <td>N102DA</td>\n",
       "    </tr>\n",
       "    <tr>\n",
       "      <td>4</td>\n",
       "      <td>DELTA AIR LINES INC</td>\n",
       "      <td>N102DU</td>\n",
       "    </tr>\n",
       "  </tbody>\n",
       "</table>\n",
       "</div>"
      ],
      "text/plain": [
       "                   name n_number\n",
       "0   UNITED AIRLINES INC   N10156\n",
       "1   DELTA AIR LINES INC   N101DU\n",
       "2  REPUBLIC AIRWAYS INC   N101HQ\n",
       "3   DELTA AIR LINES INC   N102DA\n",
       "4   DELTA AIR LINES INC   N102DU"
      ]
     },
     "execution_count": 3,
     "metadata": {},
     "output_type": "execute_result"
    }
   ],
   "source": [
    "planes.head()"
   ]
  },
  {
   "cell_type": "markdown",
   "metadata": {},
   "source": [
    "## Process 'flights' metadata"
   ]
  },
  {
   "cell_type": "code",
   "execution_count": 4,
   "metadata": {},
   "outputs": [],
   "source": [
    "# https://secure.flightradar24.com/general_media/"
   ]
  },
  {
   "cell_type": "code",
   "execution_count": 5,
   "metadata": {},
   "outputs": [],
   "source": [
    "a_flight = pd.read_csv('coronavirus/20200217_flights.csv')"
   ]
  },
  {
   "cell_type": "code",
   "execution_count": 6,
   "metadata": {},
   "outputs": [
    {
     "data": {
      "text/html": [
       "<div>\n",
       "<style scoped>\n",
       "    .dataframe tbody tr th:only-of-type {\n",
       "        vertical-align: middle;\n",
       "    }\n",
       "\n",
       "    .dataframe tbody tr th {\n",
       "        vertical-align: top;\n",
       "    }\n",
       "\n",
       "    .dataframe thead th {\n",
       "        text-align: right;\n",
       "    }\n",
       "</style>\n",
       "<table border=\"1\" class=\"dataframe\">\n",
       "  <thead>\n",
       "    <tr style=\"text-align: right;\">\n",
       "      <th></th>\n",
       "      <th>flight_id</th>\n",
       "      <th>aircraft_id</th>\n",
       "      <th>reg</th>\n",
       "      <th>equip</th>\n",
       "      <th>callsign</th>\n",
       "      <th>flight</th>\n",
       "      <th>schd_from</th>\n",
       "      <th>schd_to</th>\n",
       "      <th>real_to</th>\n",
       "      <th>reserved</th>\n",
       "    </tr>\n",
       "  </thead>\n",
       "  <tbody>\n",
       "    <tr>\n",
       "      <td>0</td>\n",
       "      <td>601952841</td>\n",
       "      <td>7793496</td>\n",
       "      <td>NaN</td>\n",
       "      <td>GRND</td>\n",
       "      <td>R17</td>\n",
       "      <td>NaN</td>\n",
       "      <td>SIN</td>\n",
       "      <td>NaN</td>\n",
       "      <td>NaN</td>\n",
       "      <td>NaN</td>\n",
       "    </tr>\n",
       "    <tr>\n",
       "      <td>1</td>\n",
       "      <td>601981055</td>\n",
       "      <td>4648968</td>\n",
       "      <td>NaN</td>\n",
       "      <td>NaN</td>\n",
       "      <td>FLWME2</td>\n",
       "      <td>NaN</td>\n",
       "      <td>SKG</td>\n",
       "      <td>NaN</td>\n",
       "      <td>NaN</td>\n",
       "      <td>NaN</td>\n",
       "    </tr>\n",
       "    <tr>\n",
       "      <td>2</td>\n",
       "      <td>601974918</td>\n",
       "      <td>3948014</td>\n",
       "      <td>NaN</td>\n",
       "      <td>NaN</td>\n",
       "      <td>AP01</td>\n",
       "      <td>NaN</td>\n",
       "      <td>CGN</td>\n",
       "      <td>NaN</td>\n",
       "      <td>NaN</td>\n",
       "      <td>NaN</td>\n",
       "    </tr>\n",
       "    <tr>\n",
       "      <td>3</td>\n",
       "      <td>601965791</td>\n",
       "      <td>3949334</td>\n",
       "      <td>NaN</td>\n",
       "      <td>GRND</td>\n",
       "      <td>V79</td>\n",
       "      <td>NaN</td>\n",
       "      <td>NaN</td>\n",
       "      <td>NaN</td>\n",
       "      <td>NaN</td>\n",
       "      <td>NaN</td>\n",
       "    </tr>\n",
       "    <tr>\n",
       "      <td>4</td>\n",
       "      <td>601965717</td>\n",
       "      <td>1122582</td>\n",
       "      <td>NaN</td>\n",
       "      <td>GRND</td>\n",
       "      <td>RA74006</td>\n",
       "      <td>RA74006</td>\n",
       "      <td>CEK</td>\n",
       "      <td>NaN</td>\n",
       "      <td>NaN</td>\n",
       "      <td>NaN</td>\n",
       "    </tr>\n",
       "  </tbody>\n",
       "</table>\n",
       "</div>"
      ],
      "text/plain": [
       "   flight_id  aircraft_id  reg equip callsign   flight schd_from schd_to  \\\n",
       "0  601952841      7793496  NaN  GRND      R17      NaN       SIN     NaN   \n",
       "1  601981055      4648968  NaN   NaN   FLWME2      NaN       SKG     NaN   \n",
       "2  601974918      3948014  NaN   NaN     AP01      NaN       CGN     NaN   \n",
       "3  601965791      3949334  NaN  GRND      V79      NaN       NaN     NaN   \n",
       "4  601965717      1122582  NaN  GRND  RA74006  RA74006       CEK     NaN   \n",
       "\n",
       "  real_to  reserved  \n",
       "0     NaN       NaN  \n",
       "1     NaN       NaN  \n",
       "2     NaN       NaN  \n",
       "3     NaN       NaN  \n",
       "4     NaN       NaN  "
      ]
     },
     "execution_count": 6,
     "metadata": {},
     "output_type": "execute_result"
    }
   ],
   "source": [
    "a_flight.head()"
   ]
  },
  {
   "cell_type": "markdown",
   "metadata": {},
   "source": [
    "### Set path for flights and define the files we'll concatenate"
   ]
  },
  {
   "cell_type": "code",
   "execution_count": 7,
   "metadata": {},
   "outputs": [],
   "source": [
    "path = '/Users/mhustiles/data/data/flights/coronavirus/flights/'\n",
    "files = glob.glob(os.path.join(path, \"*flights.csv\"))"
   ]
  },
  {
   "cell_type": "markdown",
   "metadata": {},
   "source": [
    "### Read the csvs and create a 'date' field in the table"
   ]
  },
  {
   "cell_type": "code",
   "execution_count": 8,
   "metadata": {},
   "outputs": [],
   "source": [
    "file_df = (pd.read_csv(f, encoding = \"ISO-8859-1\", low_memory=False)\\\n",
    "           .assign(date=os.path.basename(f)) for f in files)"
   ]
  },
  {
   "cell_type": "markdown",
   "metadata": {},
   "source": [
    "### Combined our newly processed flight files"
   ]
  },
  {
   "cell_type": "code",
   "execution_count": 9,
   "metadata": {},
   "outputs": [],
   "source": [
    "flights_df = pd.concat(file_df, ignore_index=True)"
   ]
  },
  {
   "cell_type": "code",
   "execution_count": 10,
   "metadata": {},
   "outputs": [
    {
     "data": {
      "text/plain": [
       "2149720"
      ]
     },
     "execution_count": 10,
     "metadata": {},
     "output_type": "execute_result"
    }
   ],
   "source": [
    "len(flights_df)"
   ]
  },
  {
   "cell_type": "markdown",
   "metadata": {},
   "source": [
    "### Add owner names from FAA registration"
   ]
  },
  {
   "cell_type": "code",
   "execution_count": 11,
   "metadata": {},
   "outputs": [],
   "source": [
    "flights_df_owners = flights_df.merge(planes, right_on='n_number', left_on='reg', how='inner')"
   ]
  },
  {
   "cell_type": "code",
   "execution_count": null,
   "metadata": {},
   "outputs": [],
   "source": [
    "flights_df_owners.head()"
   ]
  },
  {
   "cell_type": "markdown",
   "metadata": {},
   "source": [
    "### Clean up our dates for use later"
   ]
  },
  {
   "cell_type": "code",
   "execution_count": 13,
   "metadata": {},
   "outputs": [],
   "source": [
    "flights_df['date'] = flights_df['date']\\\n",
    "    .str.replace('_flights.csv','')"
   ]
  },
  {
   "cell_type": "code",
   "execution_count": 14,
   "metadata": {},
   "outputs": [],
   "source": [
    "flights_df['date'] = pd.to_datetime(flights_df.date, format='%Y%m%d')\n",
    "flights_df['month'] = flights_df['date'].dt.month \n",
    "flights_df['day'] = flights_df['date'].dt.day \n",
    "flights_df['weekday'] = flights_df['date'].dt.weekday_name"
   ]
  },
  {
   "cell_type": "markdown",
   "metadata": {},
   "source": [
    "### Filter flights list to large, commercial planes?"
   ]
  },
  {
   "cell_type": "code",
   "execution_count": 15,
   "metadata": {},
   "outputs": [],
   "source": [
    "large_planes = ['B738','A320','A321','B737','A20N',\\\n",
    "                'B739','B77W','B763','A332','B752',\\\n",
    "                'A21N','B789','AT75','A359','B772',\\\n",
    "                'B350','B744','A306', 'B733']"
   ]
  },
  {
   "cell_type": "code",
   "execution_count": 16,
   "metadata": {},
   "outputs": [],
   "source": [
    "cargo_planes = ['B77L', 'B744', 'B748', 'B762', 'B763', 'B75', 'MD1', 'DC1']"
   ]
  },
  {
   "cell_type": "code",
   "execution_count": 17,
   "metadata": {},
   "outputs": [],
   "source": [
    "# flights_df = flights_df[~flights_df['equip'].isin(cargo_planes)]"
   ]
  },
  {
   "cell_type": "markdown",
   "metadata": {},
   "source": [
    "### Remove stray flights by id"
   ]
  },
  {
   "cell_type": "code",
   "execution_count": 18,
   "metadata": {},
   "outputs": [],
   "source": [
    "strays = ['609551948', '609472464', '609472230', '609483318']"
   ]
  },
  {
   "cell_type": "code",
   "execution_count": 19,
   "metadata": {},
   "outputs": [],
   "source": [
    "flights_df = flights_df[~flights_df['equip'].isin(strays)]"
   ]
  },
  {
   "cell_type": "markdown",
   "metadata": {},
   "source": [
    "### What's left?"
   ]
  },
  {
   "cell_type": "code",
   "execution_count": 20,
   "metadata": {},
   "outputs": [
    {
     "data": {
      "text/plain": [
       "2149720"
      ]
     },
     "execution_count": 20,
     "metadata": {},
     "output_type": "execute_result"
    }
   ],
   "source": [
    "len(flights_df)"
   ]
  },
  {
   "cell_type": "code",
   "execution_count": 21,
   "metadata": {},
   "outputs": [],
   "source": [
    "global_flights = flights_df.groupby(['date']).agg('size').reset_index(name='flights')"
   ]
  },
  {
   "cell_type": "code",
   "execution_count": 22,
   "metadata": {},
   "outputs": [
    {
     "data": {
      "text/html": [
       "<div>\n",
       "<style scoped>\n",
       "    .dataframe tbody tr th:only-of-type {\n",
       "        vertical-align: middle;\n",
       "    }\n",
       "\n",
       "    .dataframe tbody tr th {\n",
       "        vertical-align: top;\n",
       "    }\n",
       "\n",
       "    .dataframe thead th {\n",
       "        text-align: right;\n",
       "    }\n",
       "</style>\n",
       "<table border=\"1\" class=\"dataframe\">\n",
       "  <thead>\n",
       "    <tr style=\"text-align: right;\">\n",
       "      <th></th>\n",
       "      <th>date</th>\n",
       "      <th>flights</th>\n",
       "    </tr>\n",
       "  </thead>\n",
       "  <tbody>\n",
       "    <tr>\n",
       "      <td>0</td>\n",
       "      <td>2020-01-07</td>\n",
       "      <td>182377</td>\n",
       "    </tr>\n",
       "    <tr>\n",
       "      <td>1</td>\n",
       "      <td>2020-01-14</td>\n",
       "      <td>174493</td>\n",
       "    </tr>\n",
       "    <tr>\n",
       "      <td>2</td>\n",
       "      <td>2020-01-21</td>\n",
       "      <td>191671</td>\n",
       "    </tr>\n",
       "    <tr>\n",
       "      <td>3</td>\n",
       "      <td>2020-01-28</td>\n",
       "      <td>179810</td>\n",
       "    </tr>\n",
       "    <tr>\n",
       "      <td>4</td>\n",
       "      <td>2020-02-03</td>\n",
       "      <td>178703</td>\n",
       "    </tr>\n",
       "    <tr>\n",
       "      <td>5</td>\n",
       "      <td>2020-02-10</td>\n",
       "      <td>161538</td>\n",
       "    </tr>\n",
       "    <tr>\n",
       "      <td>6</td>\n",
       "      <td>2020-02-17</td>\n",
       "      <td>173752</td>\n",
       "    </tr>\n",
       "    <tr>\n",
       "      <td>7</td>\n",
       "      <td>2020-02-24</td>\n",
       "      <td>174097</td>\n",
       "    </tr>\n",
       "    <tr>\n",
       "      <td>8</td>\n",
       "      <td>2020-03-03</td>\n",
       "      <td>175658</td>\n",
       "    </tr>\n",
       "    <tr>\n",
       "      <td>9</td>\n",
       "      <td>2020-03-10</td>\n",
       "      <td>170359</td>\n",
       "    </tr>\n",
       "    <tr>\n",
       "      <td>10</td>\n",
       "      <td>2020-03-17</td>\n",
       "      <td>148121</td>\n",
       "    </tr>\n",
       "    <tr>\n",
       "      <td>11</td>\n",
       "      <td>2020-03-24</td>\n",
       "      <td>96143</td>\n",
       "    </tr>\n",
       "    <tr>\n",
       "      <td>12</td>\n",
       "      <td>2020-03-31</td>\n",
       "      <td>74603</td>\n",
       "    </tr>\n",
       "    <tr>\n",
       "      <td>13</td>\n",
       "      <td>2020-04-07</td>\n",
       "      <td>68395</td>\n",
       "    </tr>\n",
       "  </tbody>\n",
       "</table>\n",
       "</div>"
      ],
      "text/plain": [
       "         date  flights\n",
       "0  2020-01-07   182377\n",
       "1  2020-01-14   174493\n",
       "2  2020-01-21   191671\n",
       "3  2020-01-28   179810\n",
       "4  2020-02-03   178703\n",
       "5  2020-02-10   161538\n",
       "6  2020-02-17   173752\n",
       "7  2020-02-24   174097\n",
       "8  2020-03-03   175658\n",
       "9  2020-03-10   170359\n",
       "10 2020-03-17   148121\n",
       "11 2020-03-24    96143\n",
       "12 2020-03-31    74603\n",
       "13 2020-04-07    68395"
      ]
     },
     "execution_count": 22,
     "metadata": {},
     "output_type": "execute_result"
    }
   ],
   "source": [
    "global_flights.head(20)"
   ]
  },
  {
   "cell_type": "markdown",
   "metadata": {},
   "source": [
    "### Decrease from Jan. 7 to March 31"
   ]
  },
  {
   "cell_type": "code",
   "execution_count": 23,
   "metadata": {},
   "outputs": [
    {
     "data": {
      "text/plain": [
       "-59.09"
      ]
     },
     "execution_count": 23,
     "metadata": {},
     "output_type": "execute_result"
    }
   ],
   "source": [
    "(((global_flights.iloc[12,1] - global_flights.iloc[0,1])/global_flights.iloc[0,1])*100).round(2)"
   ]
  },
  {
   "cell_type": "code",
   "execution_count": 24,
   "metadata": {},
   "outputs": [],
   "source": [
    "global_flights.to_csv('output/global_flights.csv')"
   ]
  },
  {
   "cell_type": "markdown",
   "metadata": {},
   "source": [
    "### Filter global flights to just those in the largest airports in Europe and the USA"
   ]
  },
  {
   "cell_type": "code",
   "execution_count": 25,
   "metadata": {},
   "outputs": [],
   "source": [
    "europe_airports = ['AMS','ARN','ATH','BCN','BRU','BUD','CDG','CPH','DME','DUB','FCO','FRA','GVA','HEL',\\\n",
    "                   'KEF','LGW','LHR','LIS','MAD','MAN','MUC','MXP','ORY','OSL','PRG','SVO',\\\n",
    "                   'VCE','VIE','VKO','WAW','ZRH']"
   ]
  },
  {
   "cell_type": "code",
   "execution_count": 26,
   "metadata": {},
   "outputs": [],
   "source": [
    "usa_airports = ['ATL','BOS','BWI','CLT','DEN','DFW','DTW','EWR','FLL','IAD','IAH','JFK','LAS','LAX','LGA',\\\n",
    "                'MCO','MIA','MSP','ORD','PHL','PHX','SAN','SEA','SFO','SLC','YUL','YVR','YYZ']"
   ]
  },
  {
   "cell_type": "code",
   "execution_count": 27,
   "metadata": {},
   "outputs": [],
   "source": [
    "usa_flights_totals = flights_df[flights_df['schd_from'].isin(usa_airports)]\n",
    "europe_flights_totals = flights_df[flights_df['schd_from'].isin(europe_airports)]"
   ]
  },
  {
   "cell_type": "code",
   "execution_count": 28,
   "metadata": {},
   "outputs": [],
   "source": [
    "europe_flights_totals_grouped = europe_flights_totals.groupby(['date']).agg('size').reset_index(name='flights')\n",
    "usa_flights_totals_grouped = usa_flights_totals.groupby(['date']).agg('size').reset_index(name='flights')"
   ]
  },
  {
   "cell_type": "code",
   "execution_count": 29,
   "metadata": {},
   "outputs": [],
   "source": [
    "flights_us_eu_global = pd.concat([global_flights, europe_flights_totals_grouped['flights'],\\\n",
    "                                  usa_flights_totals_grouped['flights']], axis=1)"
   ]
  },
  {
   "cell_type": "code",
   "execution_count": 30,
   "metadata": {},
   "outputs": [],
   "source": [
    "flights_us_eu_global.columns = (['date', 'world', 'europe', 'usa'])"
   ]
  },
  {
   "cell_type": "code",
   "execution_count": 31,
   "metadata": {},
   "outputs": [],
   "source": [
    "flights_us_eu_global['world'] = flights_us_eu_global['world'] - (flights_us_eu_global['europe'] + flights_us_eu_global['usa']) \n"
   ]
  },
  {
   "cell_type": "code",
   "execution_count": 32,
   "metadata": {},
   "outputs": [],
   "source": [
    "flights_us_eu_global.to_csv('output/flights_us_eu_global.csv')"
   ]
  },
  {
   "cell_type": "code",
   "execution_count": 33,
   "metadata": {},
   "outputs": [],
   "source": [
    "flights_us_eu_global_melt = pd.melt(flights_us_eu_global, id_vars=['date'], \\\n",
    "                                    value_vars=['world', 'europe', 'usa'],\n",
    "        var_name='location', value_name='flights')"
   ]
  },
  {
   "cell_type": "code",
   "execution_count": 34,
   "metadata": {},
   "outputs": [
    {
     "data": {
      "text/html": [
       "<div>\n",
       "<style scoped>\n",
       "    .dataframe tbody tr th:only-of-type {\n",
       "        vertical-align: middle;\n",
       "    }\n",
       "\n",
       "    .dataframe tbody tr th {\n",
       "        vertical-align: top;\n",
       "    }\n",
       "\n",
       "    .dataframe thead th {\n",
       "        text-align: right;\n",
       "    }\n",
       "</style>\n",
       "<table border=\"1\" class=\"dataframe\">\n",
       "  <thead>\n",
       "    <tr style=\"text-align: right;\">\n",
       "      <th></th>\n",
       "      <th>date</th>\n",
       "      <th>location</th>\n",
       "      <th>flights</th>\n",
       "    </tr>\n",
       "  </thead>\n",
       "  <tbody>\n",
       "    <tr>\n",
       "      <td>0</td>\n",
       "      <td>2020-01-07</td>\n",
       "      <td>world</td>\n",
       "      <td>145204</td>\n",
       "    </tr>\n",
       "    <tr>\n",
       "      <td>1</td>\n",
       "      <td>2020-01-14</td>\n",
       "      <td>world</td>\n",
       "      <td>139024</td>\n",
       "    </tr>\n",
       "    <tr>\n",
       "      <td>2</td>\n",
       "      <td>2020-01-21</td>\n",
       "      <td>world</td>\n",
       "      <td>155738</td>\n",
       "    </tr>\n",
       "    <tr>\n",
       "      <td>3</td>\n",
       "      <td>2020-01-28</td>\n",
       "      <td>world</td>\n",
       "      <td>143842</td>\n",
       "    </tr>\n",
       "    <tr>\n",
       "      <td>4</td>\n",
       "      <td>2020-02-03</td>\n",
       "      <td>world</td>\n",
       "      <td>141813</td>\n",
       "    </tr>\n",
       "    <tr>\n",
       "      <td>5</td>\n",
       "      <td>2020-02-10</td>\n",
       "      <td>world</td>\n",
       "      <td>125532</td>\n",
       "    </tr>\n",
       "    <tr>\n",
       "      <td>6</td>\n",
       "      <td>2020-02-17</td>\n",
       "      <td>world</td>\n",
       "      <td>137174</td>\n",
       "    </tr>\n",
       "    <tr>\n",
       "      <td>7</td>\n",
       "      <td>2020-02-24</td>\n",
       "      <td>world</td>\n",
       "      <td>135868</td>\n",
       "    </tr>\n",
       "    <tr>\n",
       "      <td>8</td>\n",
       "      <td>2020-03-03</td>\n",
       "      <td>world</td>\n",
       "      <td>138586</td>\n",
       "    </tr>\n",
       "    <tr>\n",
       "      <td>9</td>\n",
       "      <td>2020-03-10</td>\n",
       "      <td>world</td>\n",
       "      <td>134817</td>\n",
       "    </tr>\n",
       "    <tr>\n",
       "      <td>10</td>\n",
       "      <td>2020-03-17</td>\n",
       "      <td>world</td>\n",
       "      <td>117274</td>\n",
       "    </tr>\n",
       "    <tr>\n",
       "      <td>11</td>\n",
       "      <td>2020-03-24</td>\n",
       "      <td>world</td>\n",
       "      <td>77356</td>\n",
       "    </tr>\n",
       "    <tr>\n",
       "      <td>12</td>\n",
       "      <td>2020-03-31</td>\n",
       "      <td>world</td>\n",
       "      <td>60722</td>\n",
       "    </tr>\n",
       "    <tr>\n",
       "      <td>13</td>\n",
       "      <td>2020-04-07</td>\n",
       "      <td>world</td>\n",
       "      <td>57409</td>\n",
       "    </tr>\n",
       "    <tr>\n",
       "      <td>14</td>\n",
       "      <td>2020-01-07</td>\n",
       "      <td>europe</td>\n",
       "      <td>12410</td>\n",
       "    </tr>\n",
       "    <tr>\n",
       "      <td>15</td>\n",
       "      <td>2020-01-14</td>\n",
       "      <td>europe</td>\n",
       "      <td>11605</td>\n",
       "    </tr>\n",
       "    <tr>\n",
       "      <td>16</td>\n",
       "      <td>2020-01-21</td>\n",
       "      <td>europe</td>\n",
       "      <td>11866</td>\n",
       "    </tr>\n",
       "    <tr>\n",
       "      <td>17</td>\n",
       "      <td>2020-01-28</td>\n",
       "      <td>europe</td>\n",
       "      <td>11952</td>\n",
       "    </tr>\n",
       "    <tr>\n",
       "      <td>18</td>\n",
       "      <td>2020-02-03</td>\n",
       "      <td>europe</td>\n",
       "      <td>12890</td>\n",
       "    </tr>\n",
       "    <tr>\n",
       "      <td>19</td>\n",
       "      <td>2020-02-10</td>\n",
       "      <td>europe</td>\n",
       "      <td>11905</td>\n",
       "    </tr>\n",
       "    <tr>\n",
       "      <td>20</td>\n",
       "      <td>2020-02-17</td>\n",
       "      <td>europe</td>\n",
       "      <td>13225</td>\n",
       "    </tr>\n",
       "    <tr>\n",
       "      <td>21</td>\n",
       "      <td>2020-02-24</td>\n",
       "      <td>europe</td>\n",
       "      <td>13327</td>\n",
       "    </tr>\n",
       "    <tr>\n",
       "      <td>22</td>\n",
       "      <td>2020-03-03</td>\n",
       "      <td>europe</td>\n",
       "      <td>12575</td>\n",
       "    </tr>\n",
       "    <tr>\n",
       "      <td>23</td>\n",
       "      <td>2020-03-10</td>\n",
       "      <td>europe</td>\n",
       "      <td>11111</td>\n",
       "    </tr>\n",
       "    <tr>\n",
       "      <td>24</td>\n",
       "      <td>2020-03-17</td>\n",
       "      <td>europe</td>\n",
       "      <td>7609</td>\n",
       "    </tr>\n",
       "    <tr>\n",
       "      <td>25</td>\n",
       "      <td>2020-03-24</td>\n",
       "      <td>europe</td>\n",
       "      <td>3755</td>\n",
       "    </tr>\n",
       "    <tr>\n",
       "      <td>26</td>\n",
       "      <td>2020-03-31</td>\n",
       "      <td>europe</td>\n",
       "      <td>2411</td>\n",
       "    </tr>\n",
       "    <tr>\n",
       "      <td>27</td>\n",
       "      <td>2020-04-07</td>\n",
       "      <td>europe</td>\n",
       "      <td>1827</td>\n",
       "    </tr>\n",
       "    <tr>\n",
       "      <td>28</td>\n",
       "      <td>2020-01-07</td>\n",
       "      <td>usa</td>\n",
       "      <td>24763</td>\n",
       "    </tr>\n",
       "    <tr>\n",
       "      <td>29</td>\n",
       "      <td>2020-01-14</td>\n",
       "      <td>usa</td>\n",
       "      <td>23864</td>\n",
       "    </tr>\n",
       "    <tr>\n",
       "      <td>30</td>\n",
       "      <td>2020-01-21</td>\n",
       "      <td>usa</td>\n",
       "      <td>24067</td>\n",
       "    </tr>\n",
       "    <tr>\n",
       "      <td>31</td>\n",
       "      <td>2020-01-28</td>\n",
       "      <td>usa</td>\n",
       "      <td>24016</td>\n",
       "    </tr>\n",
       "    <tr>\n",
       "      <td>32</td>\n",
       "      <td>2020-02-03</td>\n",
       "      <td>usa</td>\n",
       "      <td>24000</td>\n",
       "    </tr>\n",
       "    <tr>\n",
       "      <td>33</td>\n",
       "      <td>2020-02-10</td>\n",
       "      <td>usa</td>\n",
       "      <td>24101</td>\n",
       "    </tr>\n",
       "    <tr>\n",
       "      <td>34</td>\n",
       "      <td>2020-02-17</td>\n",
       "      <td>usa</td>\n",
       "      <td>23353</td>\n",
       "    </tr>\n",
       "    <tr>\n",
       "      <td>35</td>\n",
       "      <td>2020-02-24</td>\n",
       "      <td>usa</td>\n",
       "      <td>24902</td>\n",
       "    </tr>\n",
       "    <tr>\n",
       "      <td>36</td>\n",
       "      <td>2020-03-03</td>\n",
       "      <td>usa</td>\n",
       "      <td>24497</td>\n",
       "    </tr>\n",
       "    <tr>\n",
       "      <td>37</td>\n",
       "      <td>2020-03-10</td>\n",
       "      <td>usa</td>\n",
       "      <td>24431</td>\n",
       "    </tr>\n",
       "    <tr>\n",
       "      <td>38</td>\n",
       "      <td>2020-03-17</td>\n",
       "      <td>usa</td>\n",
       "      <td>23238</td>\n",
       "    </tr>\n",
       "    <tr>\n",
       "      <td>39</td>\n",
       "      <td>2020-03-24</td>\n",
       "      <td>usa</td>\n",
       "      <td>15032</td>\n",
       "    </tr>\n",
       "    <tr>\n",
       "      <td>40</td>\n",
       "      <td>2020-03-31</td>\n",
       "      <td>usa</td>\n",
       "      <td>11470</td>\n",
       "    </tr>\n",
       "    <tr>\n",
       "      <td>41</td>\n",
       "      <td>2020-04-07</td>\n",
       "      <td>usa</td>\n",
       "      <td>9159</td>\n",
       "    </tr>\n",
       "  </tbody>\n",
       "</table>\n",
       "</div>"
      ],
      "text/plain": [
       "         date location  flights\n",
       "0  2020-01-07    world   145204\n",
       "1  2020-01-14    world   139024\n",
       "2  2020-01-21    world   155738\n",
       "3  2020-01-28    world   143842\n",
       "4  2020-02-03    world   141813\n",
       "5  2020-02-10    world   125532\n",
       "6  2020-02-17    world   137174\n",
       "7  2020-02-24    world   135868\n",
       "8  2020-03-03    world   138586\n",
       "9  2020-03-10    world   134817\n",
       "10 2020-03-17    world   117274\n",
       "11 2020-03-24    world    77356\n",
       "12 2020-03-31    world    60722\n",
       "13 2020-04-07    world    57409\n",
       "14 2020-01-07   europe    12410\n",
       "15 2020-01-14   europe    11605\n",
       "16 2020-01-21   europe    11866\n",
       "17 2020-01-28   europe    11952\n",
       "18 2020-02-03   europe    12890\n",
       "19 2020-02-10   europe    11905\n",
       "20 2020-02-17   europe    13225\n",
       "21 2020-02-24   europe    13327\n",
       "22 2020-03-03   europe    12575\n",
       "23 2020-03-10   europe    11111\n",
       "24 2020-03-17   europe     7609\n",
       "25 2020-03-24   europe     3755\n",
       "26 2020-03-31   europe     2411\n",
       "27 2020-04-07   europe     1827\n",
       "28 2020-01-07      usa    24763\n",
       "29 2020-01-14      usa    23864\n",
       "30 2020-01-21      usa    24067\n",
       "31 2020-01-28      usa    24016\n",
       "32 2020-02-03      usa    24000\n",
       "33 2020-02-10      usa    24101\n",
       "34 2020-02-17      usa    23353\n",
       "35 2020-02-24      usa    24902\n",
       "36 2020-03-03      usa    24497\n",
       "37 2020-03-10      usa    24431\n",
       "38 2020-03-17      usa    23238\n",
       "39 2020-03-24      usa    15032\n",
       "40 2020-03-31      usa    11470\n",
       "41 2020-04-07      usa     9159"
      ]
     },
     "execution_count": 34,
     "metadata": {},
     "output_type": "execute_result"
    }
   ],
   "source": [
    "flights_us_eu_global_melt"
   ]
  },
  {
   "cell_type": "code",
   "execution_count": 35,
   "metadata": {},
   "outputs": [
    {
     "data": {
      "text/html": [
       "\n",
       "<div id=\"altair-viz-f81a203dc29044c19dfbe05b66789f47\"></div>\n",
       "<script type=\"text/javascript\">\n",
       "  (function(spec, embedOpt){\n",
       "    const outputDiv = document.getElementById(\"altair-viz-f81a203dc29044c19dfbe05b66789f47\");\n",
       "    const paths = {\n",
       "      \"vega\": \"https://cdn.jsdelivr.net/npm//vega@5?noext\",\n",
       "      \"vega-lib\": \"https://cdn.jsdelivr.net/npm//vega-lib?noext\",\n",
       "      \"vega-lite\": \"https://cdn.jsdelivr.net/npm//vega-lite@4.0.2?noext\",\n",
       "      \"vega-embed\": \"https://cdn.jsdelivr.net/npm//vega-embed@6?noext\",\n",
       "    };\n",
       "\n",
       "    function loadScript(lib) {\n",
       "      return new Promise(function(resolve, reject) {\n",
       "        var s = document.createElement('script');\n",
       "        s.src = paths[lib];\n",
       "        s.async = true;\n",
       "        s.onload = () => resolve(paths[lib]);\n",
       "        s.onerror = () => reject(`Error loading script: ${paths[lib]}`);\n",
       "        document.getElementsByTagName(\"head\")[0].appendChild(s);\n",
       "      });\n",
       "    }\n",
       "\n",
       "    function showError(err) {\n",
       "      outputDiv.innerHTML = `<div class=\"error\" style=\"color:red;\">${err}</div>`;\n",
       "      throw err;\n",
       "    }\n",
       "\n",
       "    function displayChart(vegaEmbed) {\n",
       "      vegaEmbed(outputDiv, spec, embedOpt)\n",
       "        .catch(err => showError(`Javascript Error: ${err.message}<br>This usually means there's a typo in your chart specification. See the javascript console for the full traceback.`));\n",
       "    }\n",
       "\n",
       "    if(typeof define === \"function\" && define.amd) {\n",
       "      requirejs.config({paths});\n",
       "      require([\"vega-embed\"], displayChart, err => showError(`Error loading script: ${err.message}`));\n",
       "    } else if (typeof vegaEmbed === \"function\") {\n",
       "      displayChart(vegaEmbed);\n",
       "    } else {\n",
       "      loadScript(\"vega\")\n",
       "        .then(() => loadScript(\"vega-lite\"))\n",
       "        .then(() => loadScript(\"vega-embed\"))\n",
       "        .catch(showError)\n",
       "        .then(() => displayChart(vegaEmbed));\n",
       "    }\n",
       "  })({\"config\": {\"view\": {\"width\": 800, \"height\": 450, \"strokeOpacity\": 0}, \"background\": \"#ffffff\", \"title\": {\"anchor\": \"start\", \"font\": \"Benton Gothic Bold, sans\", \"fontColor\": \"#000000\", \"fontSize\": 22, \"fontWeight\": \"normal\"}, \"arc\": {\"fill\": \"#82c6df\"}, \"area\": {\"fill\": \"#82c6df\"}, \"line\": {\"stroke\": \"#82c6df\", \"strokeWidth\": 3}, \"path\": {\"stroke\": \"#82c6df\"}, \"rect\": {\"fill\": \"#82c6df\"}, \"shape\": {\"stroke\": \"#82c6df\"}, \"bar\": {\"fill\": \"#82c6df\"}, \"point\": {\"stroke\": \"#82c6df\"}, \"symbol\": {\"fill\": \"#82c6df\", \"size\": 30}, \"axis\": {\"titleFont\": \"Benton Gothic Bold, sans\", \"titleFontSize\": 13, \"titleFontWeight\": \"normal\", \"labelFont\": \"Benton Gothic, sans\", \"labelFontSize\": 11.5, \"labelFontWeight\": \"normal\"}, \"axisX\": {\"labelAngle\": 0, \"labelPadding\": 4, \"tickSize\": 3}, \"axisY\": {\"labelBaseline\": \"middle\", \"maxExtent\": 45, \"minExtent\": 45, \"tickSize\": 2, \"titleAlign\": \"left\", \"titleAngle\": 0, \"titleX\": -45, \"titleY\": -11}, \"legend\": {\"titleFont\": \"Benton Gothic Bold, sans\", \"titleFontSize\": 13, \"titleFontWeight\": \"normal\", \"symbolType\": \"square\", \"labelFont\": \"Benton Gothic, sans\", \"labelFontSize\": 11.5}, \"range\": {\"category\": [\"#3580b1\", \"#ec8431\", \"#ab7fb4\", \"#c89d29\", \"#adc839\", \"#829eb1\"], \"diverging\": [\"#e68a4f\", \"#f4bb6a\", \"#f9e39c\", \"#dadfe2\", \"#a6b7c6\", \"#849eae\"], \"heatmap\": [\"#fbf2c7\", \"#f9e39c\", \"#f8d36e\", \"#f4bb6a\", \"#e68a4f\", \"#d15a40\", \"#ab4232\"], \"ordinal\": [\"#fbf2c7\", \"#f9e39c\", \"#f8d36e\", \"#f4bb6a\", \"#e68a4f\", \"#d15a40\", \"#ab4232\"], \"ramp\": [\"#fbf2c7\", \"#f9e39c\", \"#f8d36e\", \"#f4bb6a\", \"#e68a4f\", \"#d15a40\", \"#ab4232\"]}}, \"data\": {\"name\": \"data-6736df575bc064d7c588a98c2d26ab63\"}, \"mark\": {\"type\": \"area\", \"color\": \"#006D8F\", \"size\": 4}, \"encoding\": {\"color\": {\"type\": \"nominal\", \"field\": \"location\", \"legend\": null}, \"x\": {\"type\": \"temporal\", \"axis\": {\"format\": \"%m/%d\", \"grid\": false, \"tickCount\": 6}, \"field\": \"date\", \"title\": \"\"}, \"y\": {\"type\": \"quantitative\", \"axis\": {\"domainOpacity\": 0, \"format\": \".0s\", \"grid\": true, \"tickCount\": 6, \"tickSize\": 0}, \"field\": \"flights\", \"sort\": {\"field\": \"location\", \"op\": \"sum\", \"order\": \"ascending\"}, \"title\": \"\"}}, \"height\": 200, \"title\": \"Global flights each Tuesday: Jan. 7 to April 7\", \"width\": 300, \"$schema\": \"https://vega.github.io/schema/vega-lite/v4.0.2.json\", \"datasets\": {\"data-6736df575bc064d7c588a98c2d26ab63\": [{\"date\": \"2020-01-07T00:00:00\", \"location\": \"world\", \"flights\": 145204}, {\"date\": \"2020-01-14T00:00:00\", \"location\": \"world\", \"flights\": 139024}, {\"date\": \"2020-01-21T00:00:00\", \"location\": \"world\", \"flights\": 155738}, {\"date\": \"2020-01-28T00:00:00\", \"location\": \"world\", \"flights\": 143842}, {\"date\": \"2020-02-03T00:00:00\", \"location\": \"world\", \"flights\": 141813}, {\"date\": \"2020-02-10T00:00:00\", \"location\": \"world\", \"flights\": 125532}, {\"date\": \"2020-02-17T00:00:00\", \"location\": \"world\", \"flights\": 137174}, {\"date\": \"2020-02-24T00:00:00\", \"location\": \"world\", \"flights\": 135868}, {\"date\": \"2020-03-03T00:00:00\", \"location\": \"world\", \"flights\": 138586}, {\"date\": \"2020-03-10T00:00:00\", \"location\": \"world\", \"flights\": 134817}, {\"date\": \"2020-03-17T00:00:00\", \"location\": \"world\", \"flights\": 117274}, {\"date\": \"2020-03-24T00:00:00\", \"location\": \"world\", \"flights\": 77356}, {\"date\": \"2020-03-31T00:00:00\", \"location\": \"world\", \"flights\": 60722}, {\"date\": \"2020-04-07T00:00:00\", \"location\": \"world\", \"flights\": 57409}, {\"date\": \"2020-01-07T00:00:00\", \"location\": \"europe\", \"flights\": 12410}, {\"date\": \"2020-01-14T00:00:00\", \"location\": \"europe\", \"flights\": 11605}, {\"date\": \"2020-01-21T00:00:00\", \"location\": \"europe\", \"flights\": 11866}, {\"date\": \"2020-01-28T00:00:00\", \"location\": \"europe\", \"flights\": 11952}, {\"date\": \"2020-02-03T00:00:00\", \"location\": \"europe\", \"flights\": 12890}, {\"date\": \"2020-02-10T00:00:00\", \"location\": \"europe\", \"flights\": 11905}, {\"date\": \"2020-02-17T00:00:00\", \"location\": \"europe\", \"flights\": 13225}, {\"date\": \"2020-02-24T00:00:00\", \"location\": \"europe\", \"flights\": 13327}, {\"date\": \"2020-03-03T00:00:00\", \"location\": \"europe\", \"flights\": 12575}, {\"date\": \"2020-03-10T00:00:00\", \"location\": \"europe\", \"flights\": 11111}, {\"date\": \"2020-03-17T00:00:00\", \"location\": \"europe\", \"flights\": 7609}, {\"date\": \"2020-03-24T00:00:00\", \"location\": \"europe\", \"flights\": 3755}, {\"date\": \"2020-03-31T00:00:00\", \"location\": \"europe\", \"flights\": 2411}, {\"date\": \"2020-04-07T00:00:00\", \"location\": \"europe\", \"flights\": 1827}, {\"date\": \"2020-01-07T00:00:00\", \"location\": \"usa\", \"flights\": 24763}, {\"date\": \"2020-01-14T00:00:00\", \"location\": \"usa\", \"flights\": 23864}, {\"date\": \"2020-01-21T00:00:00\", \"location\": \"usa\", \"flights\": 24067}, {\"date\": \"2020-01-28T00:00:00\", \"location\": \"usa\", \"flights\": 24016}, {\"date\": \"2020-02-03T00:00:00\", \"location\": \"usa\", \"flights\": 24000}, {\"date\": \"2020-02-10T00:00:00\", \"location\": \"usa\", \"flights\": 24101}, {\"date\": \"2020-02-17T00:00:00\", \"location\": \"usa\", \"flights\": 23353}, {\"date\": \"2020-02-24T00:00:00\", \"location\": \"usa\", \"flights\": 24902}, {\"date\": \"2020-03-03T00:00:00\", \"location\": \"usa\", \"flights\": 24497}, {\"date\": \"2020-03-10T00:00:00\", \"location\": \"usa\", \"flights\": 24431}, {\"date\": \"2020-03-17T00:00:00\", \"location\": \"usa\", \"flights\": 23238}, {\"date\": \"2020-03-24T00:00:00\", \"location\": \"usa\", \"flights\": 15032}, {\"date\": \"2020-03-31T00:00:00\", \"location\": \"usa\", \"flights\": 11470}, {\"date\": \"2020-04-07T00:00:00\", \"location\": \"usa\", \"flights\": 9159}]}}, {\"mode\": \"vega-lite\"});\n",
       "</script>"
      ],
      "text/plain": [
       "alt.Chart(...)"
      ]
     },
     "execution_count": 35,
     "metadata": {},
     "output_type": "execute_result"
    }
   ],
   "source": [
    "all_flights_chart_mobile = alt.Chart(flights_us_eu_global_melt).mark_area(size=4,color='#006D8F').encode(\n",
    "    x=alt.X('date:T', title='', axis=alt.Axis(grid=False, tickCount=6, format='%m/%d')),\n",
    "    y=alt.Y('flights:Q', title='', axis=alt.Axis(domainOpacity=0, tickSize=0,grid=True, tickCount=6, format='.0s'),\n",
    "                             sort=alt.EncodingSortField(\n",
    "                                field=\"location\",\n",
    "                                op=\"sum\",\n",
    "                                order=\"ascending\")),\n",
    "    color=alt.Color('location:N', legend=None)\n",
    ").properties(width=300, height=200,\n",
    "    title='Global flights each Tuesday: Jan. 7 to April 7'\n",
    ")\n",
    "\n",
    "all_flights_chart_mobile.configure_view(strokeOpacity=0)"
   ]
  },
  {
   "cell_type": "code",
   "execution_count": 36,
   "metadata": {},
   "outputs": [
    {
     "data": {
      "text/html": [
       "\n",
       "<div id=\"altair-viz-cdb11ab5728d4f43a497ff9ef32f4a58\"></div>\n",
       "<script type=\"text/javascript\">\n",
       "  (function(spec, embedOpt){\n",
       "    const outputDiv = document.getElementById(\"altair-viz-cdb11ab5728d4f43a497ff9ef32f4a58\");\n",
       "    const paths = {\n",
       "      \"vega\": \"https://cdn.jsdelivr.net/npm//vega@5?noext\",\n",
       "      \"vega-lib\": \"https://cdn.jsdelivr.net/npm//vega-lib?noext\",\n",
       "      \"vega-lite\": \"https://cdn.jsdelivr.net/npm//vega-lite@4.0.2?noext\",\n",
       "      \"vega-embed\": \"https://cdn.jsdelivr.net/npm//vega-embed@6?noext\",\n",
       "    };\n",
       "\n",
       "    function loadScript(lib) {\n",
       "      return new Promise(function(resolve, reject) {\n",
       "        var s = document.createElement('script');\n",
       "        s.src = paths[lib];\n",
       "        s.async = true;\n",
       "        s.onload = () => resolve(paths[lib]);\n",
       "        s.onerror = () => reject(`Error loading script: ${paths[lib]}`);\n",
       "        document.getElementsByTagName(\"head\")[0].appendChild(s);\n",
       "      });\n",
       "    }\n",
       "\n",
       "    function showError(err) {\n",
       "      outputDiv.innerHTML = `<div class=\"error\" style=\"color:red;\">${err}</div>`;\n",
       "      throw err;\n",
       "    }\n",
       "\n",
       "    function displayChart(vegaEmbed) {\n",
       "      vegaEmbed(outputDiv, spec, embedOpt)\n",
       "        .catch(err => showError(`Javascript Error: ${err.message}<br>This usually means there's a typo in your chart specification. See the javascript console for the full traceback.`));\n",
       "    }\n",
       "\n",
       "    if(typeof define === \"function\" && define.amd) {\n",
       "      requirejs.config({paths});\n",
       "      require([\"vega-embed\"], displayChart, err => showError(`Error loading script: ${err.message}`));\n",
       "    } else if (typeof vegaEmbed === \"function\") {\n",
       "      displayChart(vegaEmbed);\n",
       "    } else {\n",
       "      loadScript(\"vega\")\n",
       "        .then(() => loadScript(\"vega-lite\"))\n",
       "        .then(() => loadScript(\"vega-embed\"))\n",
       "        .catch(showError)\n",
       "        .then(() => displayChart(vegaEmbed));\n",
       "    }\n",
       "  })({\"config\": {\"view\": {\"width\": 800, \"height\": 450, \"strokeOpacity\": 0}, \"background\": \"#ffffff\", \"title\": {\"anchor\": \"start\", \"font\": \"Benton Gothic Bold, sans\", \"fontColor\": \"#000000\", \"fontSize\": 22, \"fontWeight\": \"normal\"}, \"arc\": {\"fill\": \"#82c6df\"}, \"area\": {\"fill\": \"#82c6df\"}, \"line\": {\"stroke\": \"#82c6df\", \"strokeWidth\": 3}, \"path\": {\"stroke\": \"#82c6df\"}, \"rect\": {\"fill\": \"#82c6df\"}, \"shape\": {\"stroke\": \"#82c6df\"}, \"bar\": {\"fill\": \"#82c6df\"}, \"point\": {\"stroke\": \"#82c6df\"}, \"symbol\": {\"fill\": \"#82c6df\", \"size\": 30}, \"axis\": {\"titleFont\": \"Benton Gothic Bold, sans\", \"titleFontSize\": 13, \"titleFontWeight\": \"normal\", \"labelFont\": \"Benton Gothic, sans\", \"labelFontSize\": 11.5, \"labelFontWeight\": \"normal\"}, \"axisX\": {\"labelAngle\": 0, \"labelPadding\": 4, \"tickSize\": 3}, \"axisY\": {\"labelBaseline\": \"middle\", \"maxExtent\": 45, \"minExtent\": 45, \"tickSize\": 2, \"titleAlign\": \"left\", \"titleAngle\": 0, \"titleX\": -45, \"titleY\": -11}, \"legend\": {\"titleFont\": \"Benton Gothic Bold, sans\", \"titleFontSize\": 13, \"titleFontWeight\": \"normal\", \"symbolType\": \"square\", \"labelFont\": \"Benton Gothic, sans\", \"labelFontSize\": 11.5}, \"range\": {\"category\": [\"#3580b1\", \"#ec8431\", \"#ab7fb4\", \"#c89d29\", \"#adc839\", \"#829eb1\"], \"diverging\": [\"#e68a4f\", \"#f4bb6a\", \"#f9e39c\", \"#dadfe2\", \"#a6b7c6\", \"#849eae\"], \"heatmap\": [\"#fbf2c7\", \"#f9e39c\", \"#f8d36e\", \"#f4bb6a\", \"#e68a4f\", \"#d15a40\", \"#ab4232\"], \"ordinal\": [\"#fbf2c7\", \"#f9e39c\", \"#f8d36e\", \"#f4bb6a\", \"#e68a4f\", \"#d15a40\", \"#ab4232\"], \"ramp\": [\"#fbf2c7\", \"#f9e39c\", \"#f8d36e\", \"#f4bb6a\", \"#e68a4f\", \"#d15a40\", \"#ab4232\"]}}, \"data\": {\"name\": \"data-6736df575bc064d7c588a98c2d26ab63\"}, \"mark\": {\"type\": \"area\", \"color\": \"#006D8F\", \"size\": 4}, \"encoding\": {\"color\": {\"type\": \"nominal\", \"field\": \"location\", \"legend\": null}, \"x\": {\"type\": \"temporal\", \"axis\": {\"format\": \"%m/%d\", \"grid\": false, \"tickCount\": 6}, \"field\": \"date\", \"title\": \"\"}, \"y\": {\"type\": \"quantitative\", \"axis\": {\"domainOpacity\": 0, \"format\": \".0s\", \"grid\": true, \"tickCount\": 6, \"tickSize\": 0}, \"field\": \"flights\", \"sort\": {\"field\": \"location\", \"op\": \"sum\", \"order\": \"ascending\"}, \"title\": \"\"}}, \"height\": 400, \"title\": \"Global flights each Tuesday: Jan. 7 to April 7\", \"width\": 800, \"$schema\": \"https://vega.github.io/schema/vega-lite/v4.0.2.json\", \"datasets\": {\"data-6736df575bc064d7c588a98c2d26ab63\": [{\"date\": \"2020-01-07T00:00:00\", \"location\": \"world\", \"flights\": 145204}, {\"date\": \"2020-01-14T00:00:00\", \"location\": \"world\", \"flights\": 139024}, {\"date\": \"2020-01-21T00:00:00\", \"location\": \"world\", \"flights\": 155738}, {\"date\": \"2020-01-28T00:00:00\", \"location\": \"world\", \"flights\": 143842}, {\"date\": \"2020-02-03T00:00:00\", \"location\": \"world\", \"flights\": 141813}, {\"date\": \"2020-02-10T00:00:00\", \"location\": \"world\", \"flights\": 125532}, {\"date\": \"2020-02-17T00:00:00\", \"location\": \"world\", \"flights\": 137174}, {\"date\": \"2020-02-24T00:00:00\", \"location\": \"world\", \"flights\": 135868}, {\"date\": \"2020-03-03T00:00:00\", \"location\": \"world\", \"flights\": 138586}, {\"date\": \"2020-03-10T00:00:00\", \"location\": \"world\", \"flights\": 134817}, {\"date\": \"2020-03-17T00:00:00\", \"location\": \"world\", \"flights\": 117274}, {\"date\": \"2020-03-24T00:00:00\", \"location\": \"world\", \"flights\": 77356}, {\"date\": \"2020-03-31T00:00:00\", \"location\": \"world\", \"flights\": 60722}, {\"date\": \"2020-04-07T00:00:00\", \"location\": \"world\", \"flights\": 57409}, {\"date\": \"2020-01-07T00:00:00\", \"location\": \"europe\", \"flights\": 12410}, {\"date\": \"2020-01-14T00:00:00\", \"location\": \"europe\", \"flights\": 11605}, {\"date\": \"2020-01-21T00:00:00\", \"location\": \"europe\", \"flights\": 11866}, {\"date\": \"2020-01-28T00:00:00\", \"location\": \"europe\", \"flights\": 11952}, {\"date\": \"2020-02-03T00:00:00\", \"location\": \"europe\", \"flights\": 12890}, {\"date\": \"2020-02-10T00:00:00\", \"location\": \"europe\", \"flights\": 11905}, {\"date\": \"2020-02-17T00:00:00\", \"location\": \"europe\", \"flights\": 13225}, {\"date\": \"2020-02-24T00:00:00\", \"location\": \"europe\", \"flights\": 13327}, {\"date\": \"2020-03-03T00:00:00\", \"location\": \"europe\", \"flights\": 12575}, {\"date\": \"2020-03-10T00:00:00\", \"location\": \"europe\", \"flights\": 11111}, {\"date\": \"2020-03-17T00:00:00\", \"location\": \"europe\", \"flights\": 7609}, {\"date\": \"2020-03-24T00:00:00\", \"location\": \"europe\", \"flights\": 3755}, {\"date\": \"2020-03-31T00:00:00\", \"location\": \"europe\", \"flights\": 2411}, {\"date\": \"2020-04-07T00:00:00\", \"location\": \"europe\", \"flights\": 1827}, {\"date\": \"2020-01-07T00:00:00\", \"location\": \"usa\", \"flights\": 24763}, {\"date\": \"2020-01-14T00:00:00\", \"location\": \"usa\", \"flights\": 23864}, {\"date\": \"2020-01-21T00:00:00\", \"location\": \"usa\", \"flights\": 24067}, {\"date\": \"2020-01-28T00:00:00\", \"location\": \"usa\", \"flights\": 24016}, {\"date\": \"2020-02-03T00:00:00\", \"location\": \"usa\", \"flights\": 24000}, {\"date\": \"2020-02-10T00:00:00\", \"location\": \"usa\", \"flights\": 24101}, {\"date\": \"2020-02-17T00:00:00\", \"location\": \"usa\", \"flights\": 23353}, {\"date\": \"2020-02-24T00:00:00\", \"location\": \"usa\", \"flights\": 24902}, {\"date\": \"2020-03-03T00:00:00\", \"location\": \"usa\", \"flights\": 24497}, {\"date\": \"2020-03-10T00:00:00\", \"location\": \"usa\", \"flights\": 24431}, {\"date\": \"2020-03-17T00:00:00\", \"location\": \"usa\", \"flights\": 23238}, {\"date\": \"2020-03-24T00:00:00\", \"location\": \"usa\", \"flights\": 15032}, {\"date\": \"2020-03-31T00:00:00\", \"location\": \"usa\", \"flights\": 11470}, {\"date\": \"2020-04-07T00:00:00\", \"location\": \"usa\", \"flights\": 9159}]}}, {\"mode\": \"vega-lite\"});\n",
       "</script>"
      ],
      "text/plain": [
       "alt.Chart(...)"
      ]
     },
     "execution_count": 36,
     "metadata": {},
     "output_type": "execute_result"
    }
   ],
   "source": [
    "all_flights_chart_desktop = alt.Chart(flights_us_eu_global_melt).mark_area(size=4,color='#006D8F').encode(\n",
    "    x=alt.X('date:T', title='', axis=alt.Axis(grid=False, tickCount=6, format='%m/%d')),\n",
    "    y=alt.Y('flights:Q', title='', axis=alt.Axis(domainOpacity=0, tickSize=0, grid=True, tickCount=6, format='.0s'),\n",
    "                             sort=alt.EncodingSortField(\n",
    "                                field=\"location\",\n",
    "                                op=\"sum\",\n",
    "                                order=\"ascending\")),\n",
    "    color=alt.Color('location:N', legend=None)\n",
    ").properties(width=800, height=400,\n",
    "    title='Global flights each Tuesday: Jan. 7 to April 7'\n",
    ")\n",
    "\n",
    "all_flights_chart_desktop.configure_view(strokeOpacity=0)"
   ]
  },
  {
   "cell_type": "code",
   "execution_count": 37,
   "metadata": {},
   "outputs": [],
   "source": [
    "save(all_flights_chart_desktop, 'images/all_flights_chart_desktop.png', scale_factor=2.0)\n",
    "save(all_flights_chart_mobile, 'images/all_flights_chart_mobile.png', scale_factor=2.0)"
   ]
  },
  {
   "cell_type": "code",
   "execution_count": 38,
   "metadata": {},
   "outputs": [],
   "source": [
    "save(all_flights_chart_desktop, 'images/all_flights_chart_desktop.svg', scale_factor=2.0)\n",
    "save(all_flights_chart_mobile, 'images/all_flights_chart_mobile.svg', scale_factor=2.0)"
   ]
  },
  {
   "cell_type": "markdown",
   "metadata": {},
   "source": [
    "---"
   ]
  },
  {
   "cell_type": "markdown",
   "metadata": {},
   "source": [
    "### Just flights from CA"
   ]
  },
  {
   "cell_type": "code",
   "execution_count": 39,
   "metadata": {},
   "outputs": [],
   "source": [
    "socal = ['BUR', 'SNA', 'LGB', 'LAX', 'ONT', 'PSP']\n",
    "bayarea = ['CCR', 'STS', 'OAK', 'SFO', 'SJC']"
   ]
  },
  {
   "cell_type": "code",
   "execution_count": 40,
   "metadata": {},
   "outputs": [],
   "source": [
    "cali = ['LAX','SFO','SAN','OAK','SJC','SNA','TIJ','SMF','ONT','BUR','LGB','PSP','FAT','SBA', 'LAS', 'SEA']"
   ]
  },
  {
   "cell_type": "code",
   "execution_count": 41,
   "metadata": {},
   "outputs": [],
   "source": [
    "ours = pd.DataFrame(flights_df[(flights_df['schd_from'].isin(socal)) | \\\n",
    "                                  (flights_df['schd_from'].isin(bayarea))])"
   ]
  },
  {
   "cell_type": "code",
   "execution_count": 42,
   "metadata": {},
   "outputs": [
    {
     "data": {
      "text/plain": [
       "LAX    18112\n",
       "SFO    10858\n",
       "SJC     3870\n",
       "SNA     3845\n",
       "OAK     3752\n",
       "LGB     2275\n",
       "ONT     2245\n",
       "BUR     2222\n",
       "PSP     1471\n",
       "STS      678\n",
       "CCR      625\n",
       "Name: schd_from, dtype: int64"
      ]
     },
     "execution_count": 42,
     "metadata": {},
     "output_type": "execute_result"
    }
   ],
   "source": [
    "ours.schd_from.value_counts()"
   ]
  },
  {
   "cell_type": "code",
   "execution_count": 43,
   "metadata": {},
   "outputs": [],
   "source": [
    "our_flights = ours.groupby(['date']).agg('size').reset_index(name='flights')"
   ]
  },
  {
   "cell_type": "markdown",
   "metadata": {},
   "source": [
    "---"
   ]
  },
  {
   "cell_type": "markdown",
   "metadata": {},
   "source": [
    "### Drop shorter flights without a major airport listed as the final destination"
   ]
  },
  {
   "cell_type": "code",
   "execution_count": 44,
   "metadata": {},
   "outputs": [],
   "source": [
    "ours = pd.DataFrame(ours.dropna(subset=['real_to']))"
   ]
  },
  {
   "cell_type": "code",
   "execution_count": 45,
   "metadata": {},
   "outputs": [
    {
     "data": {
      "text/plain": [
       "LAX    13390\n",
       "SFO     8688\n",
       "SJC     3659\n",
       "OAK     3441\n",
       "SNA     3069\n",
       "BUR     2030\n",
       "ONT     1973\n",
       "LGB     1685\n",
       "PSP     1315\n",
       "STS      544\n",
       "CCR      355\n",
       "Name: schd_from, dtype: int64"
      ]
     },
     "execution_count": 45,
     "metadata": {},
     "output_type": "execute_result"
    }
   ],
   "source": [
    "ours.schd_from.value_counts()"
   ]
  },
  {
   "cell_type": "markdown",
   "metadata": {},
   "source": [
    "### Make the flight id a string merge later"
   ]
  },
  {
   "cell_type": "code",
   "execution_count": 46,
   "metadata": {},
   "outputs": [],
   "source": [
    "ours['flight_id'] = ours['flight_id'].astype(str)"
   ]
  },
  {
   "cell_type": "code",
   "execution_count": 47,
   "metadata": {},
   "outputs": [],
   "source": [
    "ours_slim = ours[['flight_id', 'reg', 'equip', 'flight', 'schd_from', 'real_to']]"
   ]
  },
  {
   "cell_type": "code",
   "execution_count": 48,
   "metadata": {},
   "outputs": [],
   "source": [
    "ours_slim.to_csv('output/ours.csv')"
   ]
  },
  {
   "cell_type": "markdown",
   "metadata": {},
   "source": [
    "---"
   ]
  },
  {
   "cell_type": "markdown",
   "metadata": {},
   "source": [
    "## Process 'positions' data showing each point along a flight"
   ]
  },
  {
   "cell_type": "code",
   "execution_count": 49,
   "metadata": {},
   "outputs": [
    {
     "data": {
      "text/html": [
       "<div>\n",
       "<style scoped>\n",
       "    .dataframe tbody tr th:only-of-type {\n",
       "        vertical-align: middle;\n",
       "    }\n",
       "\n",
       "    .dataframe tbody tr th {\n",
       "        vertical-align: top;\n",
       "    }\n",
       "\n",
       "    .dataframe thead th {\n",
       "        text-align: right;\n",
       "    }\n",
       "</style>\n",
       "<table border=\"1\" class=\"dataframe\">\n",
       "  <thead>\n",
       "    <tr style=\"text-align: right;\">\n",
       "      <th></th>\n",
       "      <th>snapshot_id</th>\n",
       "      <th>altitude</th>\n",
       "      <th>heading</th>\n",
       "      <th>latitude</th>\n",
       "      <th>longitude</th>\n",
       "      <th>radar_id</th>\n",
       "      <th>speed</th>\n",
       "      <th>squawk</th>\n",
       "    </tr>\n",
       "  </thead>\n",
       "  <tbody>\n",
       "    <tr>\n",
       "      <td>0</td>\n",
       "      <td>1581908696</td>\n",
       "      <td>0</td>\n",
       "      <td>295</td>\n",
       "      <td>38.74120</td>\n",
       "      <td>-90.35629</td>\n",
       "      <td>5798</td>\n",
       "      <td>18</td>\n",
       "      <td>0</td>\n",
       "    </tr>\n",
       "    <tr>\n",
       "      <td>1</td>\n",
       "      <td>1581908707</td>\n",
       "      <td>0</td>\n",
       "      <td>296</td>\n",
       "      <td>38.74166</td>\n",
       "      <td>-90.35723</td>\n",
       "      <td>5798</td>\n",
       "      <td>0</td>\n",
       "      <td>0</td>\n",
       "    </tr>\n",
       "    <tr>\n",
       "      <td>2</td>\n",
       "      <td>1581908716</td>\n",
       "      <td>0</td>\n",
       "      <td>289</td>\n",
       "      <td>38.74215</td>\n",
       "      <td>-90.35832</td>\n",
       "      <td>5798</td>\n",
       "      <td>0</td>\n",
       "      <td>0</td>\n",
       "    </tr>\n",
       "    <tr>\n",
       "      <td>3</td>\n",
       "      <td>1581908726</td>\n",
       "      <td>0</td>\n",
       "      <td>300</td>\n",
       "      <td>38.74275</td>\n",
       "      <td>-90.35944</td>\n",
       "      <td>5798</td>\n",
       "      <td>0</td>\n",
       "      <td>0</td>\n",
       "    </tr>\n",
       "    <tr>\n",
       "      <td>4</td>\n",
       "      <td>1581908736</td>\n",
       "      <td>0</td>\n",
       "      <td>305</td>\n",
       "      <td>38.74332</td>\n",
       "      <td>-90.36056</td>\n",
       "      <td>5798</td>\n",
       "      <td>24</td>\n",
       "      <td>0</td>\n",
       "    </tr>\n",
       "  </tbody>\n",
       "</table>\n",
       "</div>"
      ],
      "text/plain": [
       "   snapshot_id  altitude  heading  latitude  longitude  radar_id  speed  \\\n",
       "0   1581908696         0      295  38.74120  -90.35629      5798     18   \n",
       "1   1581908707         0      296  38.74166  -90.35723      5798      0   \n",
       "2   1581908716         0      289  38.74215  -90.35832      5798      0   \n",
       "3   1581908726         0      300  38.74275  -90.35944      5798      0   \n",
       "4   1581908736         0      305  38.74332  -90.36056      5798     24   \n",
       "\n",
       "   squawk  \n",
       "0       0  \n",
       "1       0  \n",
       "2       0  \n",
       "3       0  \n",
       "4       0  "
      ]
     },
     "execution_count": 49,
     "metadata": {},
     "output_type": "execute_result"
    }
   ],
   "source": [
    "a_position = pd.read_csv('/Users/mhustiles/data/data/flights/coronavirus/\\\n",
    "positions/20200217_positions/20200217_602122877.csv')\n",
    "a_position.head()"
   ]
  },
  {
   "cell_type": "markdown",
   "metadata": {},
   "source": [
    "### Set path for our targeted positions directory and define the files we'll concatenate"
   ]
  },
  {
   "cell_type": "code",
   "execution_count": 50,
   "metadata": {},
   "outputs": [],
   "source": [
    "path = '/Users/mhustiles/data/data/flights/coronavirus/positions/'\n",
    "files = glob.glob(os.path.join(path, \"*/*.csv\"), recursive=True)"
   ]
  },
  {
   "cell_type": "code",
   "execution_count": 51,
   "metadata": {},
   "outputs": [],
   "source": [
    "file_df = (pd.read_csv(f, encoding = \"ISO-8859-1\", low_memory=False)\\\n",
    "           .assign(flightid=os.path.basename(f)) for f in files)"
   ]
  },
  {
   "cell_type": "markdown",
   "metadata": {},
   "source": [
    "### Concateate the frames"
   ]
  },
  {
   "cell_type": "code",
   "execution_count": null,
   "metadata": {},
   "outputs": [],
   "source": [
    "positions_df = pd.concat(file_df, ignore_index=True)"
   ]
  },
  {
   "cell_type": "code",
   "execution_count": null,
   "metadata": {},
   "outputs": [],
   "source": [
    "positions_df.head()"
   ]
  },
  {
   "cell_type": "code",
   "execution_count": null,
   "metadata": {},
   "outputs": [],
   "source": [
    "len(positions_df)"
   ]
  },
  {
   "cell_type": "markdown",
   "metadata": {},
   "source": [
    "### Combined our newly processed flight positions"
   ]
  },
  {
   "cell_type": "code",
   "execution_count": null,
   "metadata": {},
   "outputs": [],
   "source": [
    "positions_df['flightid'] = positions_df['flightid'].str.replace('.csv','')"
   ]
  },
  {
   "cell_type": "markdown",
   "metadata": {},
   "source": [
    "### Split the flightid field so we have a date string to convert later and also a flightid"
   ]
  },
  {
   "cell_type": "code",
   "execution_count": null,
   "metadata": {},
   "outputs": [],
   "source": [
    "positions_df[['datestr','flight_id']] = positions_df.flightid.str.split(\"_\",expand=True,)"
   ]
  },
  {
   "cell_type": "code",
   "execution_count": null,
   "metadata": {},
   "outputs": [],
   "source": [
    "len(positions_df)"
   ]
  },
  {
   "cell_type": "code",
   "execution_count": null,
   "metadata": {},
   "outputs": [],
   "source": [
    "positions_df.head()"
   ]
  },
  {
   "cell_type": "markdown",
   "metadata": {},
   "source": [
    "### Merge and filter positions data to flights departing just our four airports"
   ]
  },
  {
   "cell_type": "code",
   "execution_count": null,
   "metadata": {},
   "outputs": [],
   "source": [
    "our_positions = ours_slim.merge(positions_df, on='flight_id', how='inner')"
   ]
  },
  {
   "cell_type": "code",
   "execution_count": null,
   "metadata": {},
   "outputs": [],
   "source": [
    "len(our_positions)"
   ]
  },
  {
   "cell_type": "markdown",
   "metadata": {},
   "source": [
    "---"
   ]
  },
  {
   "cell_type": "markdown",
   "metadata": {},
   "source": [
    "### Process the 'datestr' field into something we can use"
   ]
  },
  {
   "cell_type": "code",
   "execution_count": null,
   "metadata": {},
   "outputs": [],
   "source": [
    "our_positions.head()"
   ]
  },
  {
   "cell_type": "code",
   "execution_count": null,
   "metadata": {},
   "outputs": [],
   "source": [
    "our_positions['date'] = pd.to_datetime(our_positions.datestr, format='%Y%m%d')"
   ]
  },
  {
   "cell_type": "markdown",
   "metadata": {},
   "source": [
    "### Convert the unix timestampt to human datetime and localize"
   ]
  },
  {
   "cell_type": "code",
   "execution_count": null,
   "metadata": {},
   "outputs": [],
   "source": [
    "our_positions['date_time'] = pd.to_datetime(our_positions['snapshot_id'],unit='s')\n",
    "our_positions['utc_datetime'] = \\\n",
    "    pd.to_datetime(our_positions['date_time'], format='%Y-%m-%dT%H:%M:%SZ').dt.tz_localize('UTC')"
   ]
  },
  {
   "cell_type": "code",
   "execution_count": null,
   "metadata": {},
   "outputs": [],
   "source": [
    "our_positions['datetime_pst'] = our_positions['utc_datetime'].dt.tz_convert('America/Los_Angeles')"
   ]
  },
  {
   "cell_type": "code",
   "execution_count": null,
   "metadata": {},
   "outputs": [],
   "source": [
    "our_positions['date'] = pd.to_datetime(our_positions['datetime_pst']).dt.strftime('%m/%d/%Y')\n",
    "our_positions['time'] = pd.to_datetime(our_positions['datetime_pst']).dt.strftime('%H:%M:%S')"
   ]
  },
  {
   "cell_type": "code",
   "execution_count": null,
   "metadata": {},
   "outputs": [],
   "source": [
    "positions = pd.DataFrame(our_positions)"
   ]
  },
  {
   "cell_type": "code",
   "execution_count": null,
   "metadata": {},
   "outputs": [],
   "source": [
    "positions.sort_values(by='date', ascending=False).head()"
   ]
  },
  {
   "cell_type": "markdown",
   "metadata": {},
   "source": [
    "---"
   ]
  },
  {
   "cell_type": "markdown",
   "metadata": {},
   "source": [
    "## Geography"
   ]
  },
  {
   "cell_type": "markdown",
   "metadata": {},
   "source": [
    "### Convert to positions to a GeoDataFrame using lon/lat for each point in the flight"
   ]
  },
  {
   "cell_type": "code",
   "execution_count": null,
   "metadata": {},
   "outputs": [],
   "source": [
    "positions.loc[1000]"
   ]
  },
  {
   "cell_type": "code",
   "execution_count": null,
   "metadata": {},
   "outputs": [],
   "source": [
    "positions_geo_all = gpd.GeoDataFrame(\n",
    "    positions, geometry=gpd.points_from_xy(positions.longitude, positions.latitude))"
   ]
  },
  {
   "cell_type": "code",
   "execution_count": null,
   "metadata": {},
   "outputs": [],
   "source": [
    "positions_geo_all_grouped = positions_geo_all.groupby('flight_id')['geometry'].size().reset_index()"
   ]
  },
  {
   "cell_type": "code",
   "execution_count": null,
   "metadata": {},
   "outputs": [],
   "source": [
    "postitions_geo_filtered = positions_geo_all_grouped[positions_geo_all_grouped['geometry'] > 10]"
   ]
  },
  {
   "cell_type": "code",
   "execution_count": null,
   "metadata": {},
   "outputs": [],
   "source": [
    "postitions_geo_slim = gpd.GeoDataFrame(positions_geo_all.merge(postitions_geo_filtered,\\\n",
    "                                                               on='flight_id', how='inner'))"
   ]
  },
  {
   "cell_type": "code",
   "execution_count": null,
   "metadata": {},
   "outputs": [],
   "source": [
    "postitions_geo_slim.rename(columns={\"geometry_x\": \"geometry\", \"geometry_y\": \"pointcnt\"}, inplace=True)"
   ]
  },
  {
   "cell_type": "code",
   "execution_count": null,
   "metadata": {},
   "outputs": [],
   "source": [
    "postitions_geo_slim = postitions_geo_slim.drop(['snapshot_id','latitude', \\\n",
    "                                    'longitude', 'datestr', \\\n",
    "                                   'utc_datetime','squawk',\\\n",
    "                                    'radar_id',\\\n",
    "                                   'heading'], axis=1)"
   ]
  },
  {
   "cell_type": "code",
   "execution_count": null,
   "metadata": {},
   "outputs": [],
   "source": [
    "postitions_geo_slim.date.value_counts()"
   ]
  },
  {
   "cell_type": "code",
   "execution_count": null,
   "metadata": {},
   "outputs": [],
   "source": [
    "postitions_geo_slim.to_file('/Users/mhustiles/data/data/flights/\\\n",
    "coronavirus/postitions_geo_slim.geojson', driver='GeoJSON')"
   ]
  },
  {
   "cell_type": "markdown",
   "metadata": {},
   "source": [
    "### Clip the flight data to around continental United States"
   ]
  },
  {
   "cell_type": "code",
   "execution_count": null,
   "metadata": {},
   "outputs": [],
   "source": [
    "!ogr2ogr -f \"GeoJSON\" '/Users/mhustiles/data/data/flights/coronavirus/positions_geo_clipped.geojson' \\\n",
    "'/Users/mhustiles/data/data/flights/coronavirus/postitions_geo_slim.geojson' \\\n",
    "-clipsrc -136.5 6.4 -62.9 55.7"
   ]
  },
  {
   "cell_type": "code",
   "execution_count": null,
   "metadata": {},
   "outputs": [],
   "source": [
    "positions_geo_clipped = gpd.read_file('/Users/mhustiles/data/data/flights/\\\n",
    "coronavirus/positions_geo_clipped.geojson')"
   ]
  },
  {
   "cell_type": "markdown",
   "metadata": {},
   "source": [
    "### Before (Feb. 17) points"
   ]
  },
  {
   "cell_type": "code",
   "execution_count": null,
   "metadata": {},
   "outputs": [],
   "source": [
    "positions_geo_before = gpd.GeoDataFrame(positions_geo_clipped[(positions_geo_clipped['date'] == '02/16/2020')|\\\n",
    "(positions_geo_clipped['date'] == '02/17/2020')])"
   ]
  },
  {
   "cell_type": "code",
   "execution_count": null,
   "metadata": {},
   "outputs": [],
   "source": [
    "positions_geo_before.to_file('/Users/mhustiles/data/data/flights/coronavirus\\\n",
    "/positions_geo_before.geojson', driver='GeoJSON')"
   ]
  },
  {
   "cell_type": "code",
   "execution_count": null,
   "metadata": {},
   "outputs": [],
   "source": [
    "positions_geo_before.plot()"
   ]
  },
  {
   "cell_type": "markdown",
   "metadata": {},
   "source": [
    "### After (April 7) points"
   ]
  },
  {
   "cell_type": "code",
   "execution_count": null,
   "metadata": {},
   "outputs": [],
   "source": [
    "positions_geo_after = gpd.GeoDataFrame(positions_geo_clipped[(positions_geo_clipped['date'] == '04/06/2020')|\\\n",
    "(positions_geo_clipped['date'] == '04/07/2020')])"
   ]
  },
  {
   "cell_type": "code",
   "execution_count": null,
   "metadata": {},
   "outputs": [],
   "source": [
    "positions_geo_after.to_file('/Users/mhustiles/data/data/flights/coronavirus\\\n",
    "/positions_geo_after.geojson', driver='GeoJSON')"
   ]
  },
  {
   "cell_type": "code",
   "execution_count": null,
   "metadata": {},
   "outputs": [],
   "source": [
    "positions_geo_after.plot()"
   ]
  },
  {
   "cell_type": "markdown",
   "metadata": {},
   "source": [
    "---"
   ]
  },
  {
   "cell_type": "code",
   "execution_count": null,
   "metadata": {},
   "outputs": [],
   "source": [
    "# positions_geo_line = gpd.GeoDataFrame(positions_geo_clipped.groupby(['flight_id','schd_from'])['geometry']\\\n",
    "#     .apply(lambda x: LineString(x.tolist())).reset_index())"
   ]
  },
  {
   "cell_type": "code",
   "execution_count": null,
   "metadata": {},
   "outputs": [],
   "source": [
    "# positions_geo_line.plot()"
   ]
  },
  {
   "cell_type": "markdown",
   "metadata": {},
   "source": [
    "### Before lines"
   ]
  },
  {
   "cell_type": "code",
   "execution_count": null,
   "metadata": {},
   "outputs": [],
   "source": [
    "positions_geo_before_line = gpd.GeoDataFrame(positions_geo_before.groupby(['flight_id','schd_from','name'])['geometry']\\\n",
    "    .apply(lambda x: LineString(x.tolist())).reset_index())"
   ]
  },
  {
   "cell_type": "code",
   "execution_count": null,
   "metadata": {},
   "outputs": [],
   "source": [
    "positions_geo_before_line.plot()"
   ]
  },
  {
   "cell_type": "markdown",
   "metadata": {},
   "source": [
    "### After lines"
   ]
  },
  {
   "cell_type": "code",
   "execution_count": null,
   "metadata": {},
   "outputs": [],
   "source": [
    "positions_geo_after_line = gpd.GeoDataFrame(positions_geo_after.groupby(['flight_id','schd_from','name'])['geometry']\\\n",
    "    .apply(lambda x: LineString(x.tolist())).reset_index())"
   ]
  },
  {
   "cell_type": "code",
   "execution_count": null,
   "metadata": {},
   "outputs": [],
   "source": [
    "positions_geo_after_line.plot()"
   ]
  },
  {
   "cell_type": "markdown",
   "metadata": {},
   "source": [
    "### Export before/after lines to geojson"
   ]
  },
  {
   "cell_type": "code",
   "execution_count": null,
   "metadata": {},
   "outputs": [],
   "source": [
    "# positions_geo_line.to_file('/Users/mhustiles/data/data/flights/coronavirus\\\n",
    "# /positions_geo_line.geojson', driver='GeoJSON')"
   ]
  },
  {
   "cell_type": "code",
   "execution_count": null,
   "metadata": {},
   "outputs": [],
   "source": [
    "positions_geo_before_line.to_file('/Users/mhustiles/data/data/flights/coronavirus\\\n",
    "/positions_geo_before_line.geojson', driver='GeoJSON')"
   ]
  },
  {
   "cell_type": "code",
   "execution_count": null,
   "metadata": {},
   "outputs": [],
   "source": [
    "positions_geo_after_line.to_file('/Users/mhustiles/data/data/flights/coronavirus\\\n",
    "/positions_geo_after_line.geojson', driver='GeoJSON')"
   ]
  },
  {
   "cell_type": "markdown",
   "metadata": {},
   "source": [
    "### Output to mbtiles for Mapbox"
   ]
  },
  {
   "cell_type": "code",
   "execution_count": null,
   "metadata": {},
   "outputs": [],
   "source": [
    "!tippecanoe --generate-ids --force -Z6 -z10 -r1 -pk -pf -o \\\n",
    "/Users/mhustiles/data/data/flights/coronavirus/positions_geo_after_line.mbtiles \\\n",
    "/Users/mhustiles/data/data/flights/coronavirus/positions_geo_after_line.geojson"
   ]
  },
  {
   "cell_type": "code",
   "execution_count": null,
   "metadata": {},
   "outputs": [],
   "source": [
    "!tippecanoe --generate-ids --force -Z6 -z10 -r1 -pk -pf -o \\\n",
    "/Users/mhustiles/data/data/flights/coronavirus/positions_geo_before_line.mbtiles \\\n",
    "/Users/mhustiles/data/data/flights/coronavirus/positions_geo_before_line.geojson"
   ]
  },
  {
   "cell_type": "markdown",
   "metadata": {},
   "source": [
    "---"
   ]
  },
  {
   "cell_type": "markdown",
   "metadata": {},
   "source": [
    "### Cut 'before' GeoJSON files for each of our airports before COVID-19"
   ]
  },
  {
   "cell_type": "code",
   "execution_count": null,
   "metadata": {},
   "outputs": [],
   "source": [
    "for airport in positions_geo_before.schd_from.unique():\n",
    "    positions_geo_before[positions_geo_before['schd_from'] == '{}'.format(airport)]\\\n",
    "    .to_file('/Users/mhustiles/data/data/flights/coronavirus/\\\n",
    "positions_geo_before_{}.geojson'.format(airport), driver='GeoJSON')"
   ]
  },
  {
   "cell_type": "code",
   "execution_count": null,
   "metadata": {},
   "outputs": [],
   "source": [
    "for airport in positions_geo_before_line.schd_from.unique():\n",
    "    positions_geo_before_line[positions_geo_before_line['schd_from'] == '{}'.format(airport)]\\\n",
    "    .to_file('/Users/mhustiles/data/data/flights/coronavirus/\\\n",
    "positions_geo_before_line_{}.geojson'.format(airport), driver='GeoJSON')"
   ]
  },
  {
   "cell_type": "markdown",
   "metadata": {},
   "source": [
    "### Cut 'after' GeoJSON files for each of our airports after COVID-19"
   ]
  },
  {
   "cell_type": "code",
   "execution_count": null,
   "metadata": {},
   "outputs": [],
   "source": [
    "for airport in positions_geo_after.schd_from.unique():\n",
    "    positions_geo_after[positions_geo_after['schd_from'] == '{}'.format(airport)]\\\n",
    "    .to_file('/Users/mhustiles/data/data/flights/coronavirus/\\\n",
    "positions_geo_after_{}.geojson'.format(airport), driver='GeoJSON')"
   ]
  },
  {
   "cell_type": "code",
   "execution_count": null,
   "metadata": {},
   "outputs": [],
   "source": [
    "for airport in positions_geo_after_line.schd_from.unique():\n",
    "    positions_geo_after_line[positions_geo_after_line['schd_from'] == '{}'.format(airport)]\\\n",
    "    .to_file('/Users/mhustiles/data/data/flights/coronavirus/\\\n",
    "positions_geo_after_line_{}.geojson'.format(airport), driver='GeoJSON')"
   ]
  },
  {
   "cell_type": "markdown",
   "metadata": {},
   "source": [
    "---"
   ]
  },
  {
   "cell_type": "markdown",
   "metadata": {},
   "source": [
    "### Grid (CA 1 mile)"
   ]
  },
  {
   "cell_type": "code",
   "execution_count": null,
   "metadata": {},
   "outputs": [],
   "source": [
    "# grid = gpd.read_file('/Users/mhustiles/data/data/GIS/LA/socal-halfmile.geojson')"
   ]
  },
  {
   "cell_type": "code",
   "execution_count": null,
   "metadata": {},
   "outputs": [],
   "source": [
    "# grid.crs = {'init': 'epsg:4326'}\n",
    "# grid.to_crs({'init': 'epsg:4326'})"
   ]
  },
  {
   "cell_type": "code",
   "execution_count": null,
   "metadata": {},
   "outputs": [],
   "source": [
    "# grid.plot()"
   ]
  },
  {
   "cell_type": "code",
   "execution_count": null,
   "metadata": {},
   "outputs": [],
   "source": [
    "# df_la = pd.DataFrame()\n",
    "\n",
    "# for n in la_choppers:\n",
    "#     c = n['n_number']\n",
    "#     choppers = positions_geo[positions_geo['reg'] == c]\n",
    "#     choppers.crs = \"epsg:4326\"\n",
    "#     dfsjoin = gpd.sjoin(hexbins,choppers)\n",
    "#     dfpivot = pd.pivot_table(dfsjoin,index='id',columns='n_number',aggfunc={'n_number':len})\n",
    "#     dfpivot.columns = dfpivot.columns.droplevel()\n",
    "#     dfpolynew = hexbins.merge(dfpivot, how='left',on='id')\n",
    "#     dfpolynew.to_file('/Users/mhustiles/data/data/helicopters/' + c + 'hex.geojson', driver='GeoJSON')"
   ]
  },
  {
   "cell_type": "code",
   "execution_count": null,
   "metadata": {},
   "outputs": [],
   "source": [
    "# lax_before = gpd.read_file('/Users/mhustiles/data/data/flights/coronavirus/positions_geo_before_LAX.geojson')\n",
    "# lax_after = gpd.read_file('/Users/mhustiles/data/data/flights/coronavirus/positions_geo_after_LAX.geojson')"
   ]
  },
  {
   "cell_type": "code",
   "execution_count": null,
   "metadata": {},
   "outputs": [],
   "source": [
    "# positions_geo_before_flying = positions_geo_before[positions_geo_before['speed'] > 10 ]\n",
    "# positions_geo_after_flying = positions_geo_after[positions_geo_after['speed'] > 10 ]"
   ]
  },
  {
   "cell_type": "code",
   "execution_count": null,
   "metadata": {},
   "outputs": [],
   "source": [
    "# positions_geo_before_flying.crs = {'init': 'epsg:4326'}\n",
    "# positions_geo_before_flying.to_crs({'init': 'epsg:4326'})\n",
    "# positions_geo_after_flying.crs = {'init': 'epsg:4326'}\n",
    "# positions_geo_after_flying.to_crs({'init': 'epsg:4326'})"
   ]
  },
  {
   "cell_type": "code",
   "execution_count": null,
   "metadata": {},
   "outputs": [],
   "source": [
    "# dfsjoin = gpd.sjoin(positions_geo_after_flying, grid)"
   ]
  },
  {
   "cell_type": "code",
   "execution_count": null,
   "metadata": {},
   "outputs": [],
   "source": [
    "# dfsjoingroup = dfsjoin.groupby(['id']).agg('size').reset_index(name='pings')"
   ]
  },
  {
   "cell_type": "code",
   "execution_count": null,
   "metadata": {},
   "outputs": [],
   "source": [
    "# dfpolynew = grid.merge(dfsjoingroup, how='left',on='id')"
   ]
  },
  {
   "cell_type": "code",
   "execution_count": null,
   "metadata": {},
   "outputs": [],
   "source": [
    "# dfpolynew.to_file('/Users/mhustiles/data/data/flights/coronavirus/positions_geo_after_grid.geojson', driver='GeoJSON')"
   ]
  },
  {
   "cell_type": "code",
   "execution_count": null,
   "metadata": {},
   "outputs": [],
   "source": [
    "# # !tippecanoe --generate-ids --force -r1 -pk -pf -o \\\n",
    "#     /Users/mhustiles/data/data/flights/coronavirus/positions_geo_after_grid.mbtiles \\\n",
    "#     /Users/mhustiles/data/data/flights/coronavirus/positions_geo_after_grid.geojson"
   ]
  },
  {
   "cell_type": "code",
   "execution_count": null,
   "metadata": {},
   "outputs": [],
   "source": []
  }
 ],
 "metadata": {
  "kernelspec": {
   "display_name": "Python 3",
   "language": "python",
   "name": "python3"
  },
  "language_info": {
   "codemirror_mode": {
    "name": "ipython",
    "version": 3
   },
   "file_extension": ".py",
   "mimetype": "text/x-python",
   "name": "python",
   "nbconvert_exporter": "python",
   "pygments_lexer": "ipython3",
   "version": "3.7.4"
  }
 },
 "nbformat": 4,
 "nbformat_minor": 4
}
