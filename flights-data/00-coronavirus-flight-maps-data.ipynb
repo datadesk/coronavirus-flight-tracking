{
 "cells": [
  {
   "cell_type": "markdown",
   "metadata": {},
   "source": [
    "# Processing coronavirus impact on global flights"
   ]
  },
  {
   "cell_type": "markdown",
   "metadata": {},
   "source": [
    "### Load Python tools"
   ]
  },
  {
   "cell_type": "code",
   "execution_count": 1,
   "metadata": {},
   "outputs": [
    {
     "data": {
      "text/plain": [
       "ThemeRegistry.enable('latimes')"
      ]
     },
     "execution_count": 1,
     "metadata": {},
     "output_type": "execute_result"
    }
   ],
   "source": [
    "import pandas as pd\n",
    "from shapely.geometry import shape\n",
    "import geopandas as gpd\n",
    "import matplotlib\n",
    "import matplotlib.pyplot as plt\n",
    "import openpyxl\n",
    "import altair as alt\n",
    "from altair_saver import save\n",
    "import lxml\n",
    "import requests\n",
    "from shapely.geometry import Point, LineString\n",
    "import geojson\n",
    "import json\n",
    "import glob\n",
    "import io\n",
    "import os\n",
    "import pyarrow\n",
    "from shapely.geometry import Point, LineString, MultiLineString\n",
    "import altair_latimes as lat\n",
    "alt.themes.register('latimes', lat.theme)\n",
    "alt.themes.enable('latimes')"
   ]
  },
  {
   "cell_type": "markdown",
   "metadata": {},
   "source": [
    "## FAA airline registristration"
   ]
  },
  {
   "cell_type": "code",
   "execution_count": 2,
   "metadata": {},
   "outputs": [],
   "source": [
    "planes = pd.read_csv('/Users/mhustiles/data/github/notebooks/aircraft/output/airline_planes.csv')"
   ]
  },
  {
   "cell_type": "code",
   "execution_count": 3,
   "metadata": {},
   "outputs": [],
   "source": [
    "planes['name'] = planes['name'].str.replace(' CORPORATION','').str.replace(' CORP','')\\\n",
    ".str.replace(' INC','').str.replace(' LLC','').str.replace('AIRLINES CO', 'AIRLINES')\\\n",
    ".str.replace('UNITED PARCEL SERVICE CO', 'UNITED PARCEL SERVICE').str.replace('AIRWAYS CORP', 'AIRWAYS')"
   ]
  },
  {
   "cell_type": "code",
   "execution_count": 4,
   "metadata": {},
   "outputs": [],
   "source": [
    "planes['name'] = planes['name'].fillna('')"
   ]
  },
  {
   "cell_type": "code",
   "execution_count": 5,
   "metadata": {},
   "outputs": [
    {
     "data": {
      "text/html": [
       "<div>\n",
       "<style scoped>\n",
       "    .dataframe tbody tr th:only-of-type {\n",
       "        vertical-align: middle;\n",
       "    }\n",
       "\n",
       "    .dataframe tbody tr th {\n",
       "        vertical-align: top;\n",
       "    }\n",
       "\n",
       "    .dataframe thead th {\n",
       "        text-align: right;\n",
       "    }\n",
       "</style>\n",
       "<table border=\"1\" class=\"dataframe\">\n",
       "  <thead>\n",
       "    <tr style=\"text-align: right;\">\n",
       "      <th></th>\n",
       "      <th>name</th>\n",
       "      <th>n_number</th>\n",
       "    </tr>\n",
       "  </thead>\n",
       "  <tbody>\n",
       "    <tr>\n",
       "      <td>1306</td>\n",
       "      <td>WILMINGTON TRUST CO TRUSTEE</td>\n",
       "      <td>N102DZ</td>\n",
       "    </tr>\n",
       "    <tr>\n",
       "      <td>2083</td>\n",
       "      <td>WILMINGTON TRUST CO TRUSTEE</td>\n",
       "      <td>N104AS</td>\n",
       "    </tr>\n",
       "    <tr>\n",
       "      <td>2662</td>\n",
       "      <td>WILMINGTON TRUST CO TRUSTEE</td>\n",
       "      <td>N105TW</td>\n",
       "    </tr>\n",
       "    <tr>\n",
       "      <td>3705</td>\n",
       "      <td>WILMINGTON TRUST CO TRUSTEE</td>\n",
       "      <td>N108DB</td>\n",
       "    </tr>\n",
       "    <tr>\n",
       "      <td>5274</td>\n",
       "      <td>WILMINGTON TRUST CO TRUSTEE</td>\n",
       "      <td>N111CC</td>\n",
       "    </tr>\n",
       "    <tr>\n",
       "      <td>...</td>\n",
       "      <td>...</td>\n",
       "      <td>...</td>\n",
       "    </tr>\n",
       "    <tr>\n",
       "      <td>286739</td>\n",
       "      <td>WILMINGTON TRUST CO TRUSTEE</td>\n",
       "      <td>N990LA</td>\n",
       "    </tr>\n",
       "    <tr>\n",
       "      <td>287242</td>\n",
       "      <td>WILMINGTON TRUST CO - TRUSTEE (2008 MSN 31071)</td>\n",
       "      <td>N992AN</td>\n",
       "    </tr>\n",
       "    <tr>\n",
       "      <td>288168</td>\n",
       "      <td>WILMINGTON TRUST CO TRUSTEE</td>\n",
       "      <td>N996MS</td>\n",
       "    </tr>\n",
       "    <tr>\n",
       "      <td>288580</td>\n",
       "      <td>WILMINGTON TRUST CO TRUSTEE</td>\n",
       "      <td>N998FA</td>\n",
       "    </tr>\n",
       "    <tr>\n",
       "      <td>289200</td>\n",
       "      <td>WILMINGTON TRUST CO TRUSTEE</td>\n",
       "      <td>N99FG</td>\n",
       "    </tr>\n",
       "  </tbody>\n",
       "</table>\n",
       "<p>587 rows × 2 columns</p>\n",
       "</div>"
      ],
      "text/plain": [
       "                                                  name n_number\n",
       "1306                       WILMINGTON TRUST CO TRUSTEE   N102DZ\n",
       "2083                       WILMINGTON TRUST CO TRUSTEE   N104AS\n",
       "2662                       WILMINGTON TRUST CO TRUSTEE   N105TW\n",
       "3705                       WILMINGTON TRUST CO TRUSTEE   N108DB\n",
       "5274                       WILMINGTON TRUST CO TRUSTEE   N111CC\n",
       "...                                                ...      ...\n",
       "286739                     WILMINGTON TRUST CO TRUSTEE   N990LA\n",
       "287242  WILMINGTON TRUST CO - TRUSTEE (2008 MSN 31071)   N992AN\n",
       "288168                     WILMINGTON TRUST CO TRUSTEE   N996MS\n",
       "288580                     WILMINGTON TRUST CO TRUSTEE   N998FA\n",
       "289200                     WILMINGTON TRUST CO TRUSTEE   N99FG \n",
       "\n",
       "[587 rows x 2 columns]"
      ]
     },
     "execution_count": 5,
     "metadata": {},
     "output_type": "execute_result"
    }
   ],
   "source": [
    "planes[planes['name'].str.contains('WILMINGTON')]"
   ]
  },
  {
   "cell_type": "code",
   "execution_count": 6,
   "metadata": {},
   "outputs": [
    {
     "data": {
      "text/plain": [
       "289820"
      ]
     },
     "execution_count": 6,
     "metadata": {},
     "output_type": "execute_result"
    }
   ],
   "source": [
    "len(planes)"
   ]
  },
  {
   "cell_type": "markdown",
   "metadata": {},
   "source": [
    "### Import world aircraft DB"
   ]
  },
  {
   "cell_type": "code",
   "execution_count": 7,
   "metadata": {},
   "outputs": [],
   "source": [
    "# https://github.com/junzis/aircraft-db\n",
    "fleets = pd.read_csv('input/aircraft_db.csv', header=0, low_memory=False,\\\n",
    "                     names=['icao', 'n_number', 'model', 'type', 'name']).dropna()"
   ]
  },
  {
   "cell_type": "code",
   "execution_count": 8,
   "metadata": {},
   "outputs": [],
   "source": [
    "fleets = fleets.applymap(lambda s:s.upper() if type(s) == str else s)"
   ]
  },
  {
   "cell_type": "code",
   "execution_count": 9,
   "metadata": {},
   "outputs": [
    {
     "data": {
      "text/plain": [
       "icao                06A138\n",
       "n_number            A7-BAV\n",
       "model                 B77W\n",
       "type        BOEING 777-3DZ\n",
       "name         QATAR AIRWAYS\n",
       "Name: 1001, dtype: object"
      ]
     },
     "execution_count": 9,
     "metadata": {},
     "output_type": "execute_result"
    }
   ],
   "source": [
    "fleets.iloc[1000]"
   ]
  },
  {
   "cell_type": "code",
   "execution_count": 10,
   "metadata": {},
   "outputs": [],
   "source": [
    "fleets['name'] = fleets['name'].dropna()"
   ]
  },
  {
   "cell_type": "code",
   "execution_count": 11,
   "metadata": {},
   "outputs": [
    {
     "data": {
      "text/html": [
       "<div>\n",
       "<style scoped>\n",
       "    .dataframe tbody tr th:only-of-type {\n",
       "        vertical-align: middle;\n",
       "    }\n",
       "\n",
       "    .dataframe tbody tr th {\n",
       "        vertical-align: top;\n",
       "    }\n",
       "\n",
       "    .dataframe thead th {\n",
       "        text-align: right;\n",
       "    }\n",
       "</style>\n",
       "<table border=\"1\" class=\"dataframe\">\n",
       "  <thead>\n",
       "    <tr style=\"text-align: right;\">\n",
       "      <th></th>\n",
       "      <th>icao</th>\n",
       "      <th>n_number</th>\n",
       "      <th>model</th>\n",
       "      <th>type</th>\n",
       "      <th>name</th>\n",
       "    </tr>\n",
       "  </thead>\n",
       "  <tbody>\n",
       "    <tr>\n",
       "      <td>33545</td>\n",
       "      <td>A06F8A</td>\n",
       "      <td>N127UW</td>\n",
       "      <td>A320</td>\n",
       "      <td>AIRBUS A320-214</td>\n",
       "      <td>US AIRWAYS</td>\n",
       "    </tr>\n",
       "  </tbody>\n",
       "</table>\n",
       "</div>"
      ],
      "text/plain": [
       "         icao n_number model             type        name\n",
       "33545  A06F8A   N127UW  A320  AIRBUS A320-214  US AIRWAYS"
      ]
     },
     "execution_count": 11,
     "metadata": {},
     "output_type": "execute_result"
    }
   ],
   "source": [
    "fleets[fleets['n_number'] == 'N127UW']"
   ]
  },
  {
   "cell_type": "code",
   "execution_count": 12,
   "metadata": {},
   "outputs": [],
   "source": [
    "planes_merge = planes.merge(fleets, on='n_number', how='left')"
   ]
  },
  {
   "cell_type": "code",
   "execution_count": 13,
   "metadata": {},
   "outputs": [],
   "source": [
    "planes_merge.rename(columns={\"name_x\": \"name\", \"name_y\": \"name_nu\"}, inplace=True)"
   ]
  },
  {
   "cell_type": "code",
   "execution_count": 14,
   "metadata": {},
   "outputs": [],
   "source": [
    "planes_merge.loc[(planes_merge.name == 'WELLS FARGO TRUST CO NA TRUSTEE'),'name']=planes_merge.name_nu\n",
    "planes_merge.loc[(planes_merge.name == 'WELLS FARGO BANK NA'),'name']=planes_merge.name_nu\n",
    "planes_merge.loc[(planes_merge.name == 'WILMINGTON TRUST CO TRUSTEE'),'name']=planes_merge.name_nu\n",
    "planes_merge.loc[(planes_merge.name == 'BANK OF UTAH TRUSTEE'),'name']=planes_merge.name_nu"
   ]
  },
  {
   "cell_type": "code",
   "execution_count": 15,
   "metadata": {},
   "outputs": [],
   "source": [
    "planes_merge['n_number'] = planes_merge['n_number'].fillna('')"
   ]
  },
  {
   "cell_type": "code",
   "execution_count": 16,
   "metadata": {},
   "outputs": [
    {
     "data": {
      "text/plain": [
       "289852"
      ]
     },
     "execution_count": 16,
     "metadata": {},
     "output_type": "execute_result"
    }
   ],
   "source": [
    "len(planes_merge)"
   ]
  },
  {
   "cell_type": "markdown",
   "metadata": {},
   "source": [
    "## Process 'flights' metadata"
   ]
  },
  {
   "cell_type": "code",
   "execution_count": 17,
   "metadata": {},
   "outputs": [],
   "source": [
    "# https://secure.flightradar24.com/general_media/"
   ]
  },
  {
   "cell_type": "code",
   "execution_count": 18,
   "metadata": {},
   "outputs": [],
   "source": [
    "a_flight = pd.read_csv('coronavirus/20200217_flights.csv')"
   ]
  },
  {
   "cell_type": "code",
   "execution_count": 19,
   "metadata": {},
   "outputs": [
    {
     "data": {
      "text/html": [
       "<div>\n",
       "<style scoped>\n",
       "    .dataframe tbody tr th:only-of-type {\n",
       "        vertical-align: middle;\n",
       "    }\n",
       "\n",
       "    .dataframe tbody tr th {\n",
       "        vertical-align: top;\n",
       "    }\n",
       "\n",
       "    .dataframe thead th {\n",
       "        text-align: right;\n",
       "    }\n",
       "</style>\n",
       "<table border=\"1\" class=\"dataframe\">\n",
       "  <thead>\n",
       "    <tr style=\"text-align: right;\">\n",
       "      <th></th>\n",
       "      <th>flight_id</th>\n",
       "      <th>aircraft_id</th>\n",
       "      <th>reg</th>\n",
       "      <th>equip</th>\n",
       "      <th>callsign</th>\n",
       "      <th>flight</th>\n",
       "      <th>schd_from</th>\n",
       "      <th>schd_to</th>\n",
       "      <th>real_to</th>\n",
       "      <th>reserved</th>\n",
       "    </tr>\n",
       "  </thead>\n",
       "  <tbody>\n",
       "    <tr>\n",
       "      <td>0</td>\n",
       "      <td>601952841</td>\n",
       "      <td>7793496</td>\n",
       "      <td>NaN</td>\n",
       "      <td>GRND</td>\n",
       "      <td>R17</td>\n",
       "      <td>NaN</td>\n",
       "      <td>SIN</td>\n",
       "      <td>NaN</td>\n",
       "      <td>NaN</td>\n",
       "      <td>NaN</td>\n",
       "    </tr>\n",
       "    <tr>\n",
       "      <td>1</td>\n",
       "      <td>601981055</td>\n",
       "      <td>4648968</td>\n",
       "      <td>NaN</td>\n",
       "      <td>NaN</td>\n",
       "      <td>FLWME2</td>\n",
       "      <td>NaN</td>\n",
       "      <td>SKG</td>\n",
       "      <td>NaN</td>\n",
       "      <td>NaN</td>\n",
       "      <td>NaN</td>\n",
       "    </tr>\n",
       "    <tr>\n",
       "      <td>2</td>\n",
       "      <td>601974918</td>\n",
       "      <td>3948014</td>\n",
       "      <td>NaN</td>\n",
       "      <td>NaN</td>\n",
       "      <td>AP01</td>\n",
       "      <td>NaN</td>\n",
       "      <td>CGN</td>\n",
       "      <td>NaN</td>\n",
       "      <td>NaN</td>\n",
       "      <td>NaN</td>\n",
       "    </tr>\n",
       "    <tr>\n",
       "      <td>3</td>\n",
       "      <td>601965791</td>\n",
       "      <td>3949334</td>\n",
       "      <td>NaN</td>\n",
       "      <td>GRND</td>\n",
       "      <td>V79</td>\n",
       "      <td>NaN</td>\n",
       "      <td>NaN</td>\n",
       "      <td>NaN</td>\n",
       "      <td>NaN</td>\n",
       "      <td>NaN</td>\n",
       "    </tr>\n",
       "    <tr>\n",
       "      <td>4</td>\n",
       "      <td>601965717</td>\n",
       "      <td>1122582</td>\n",
       "      <td>NaN</td>\n",
       "      <td>GRND</td>\n",
       "      <td>RA74006</td>\n",
       "      <td>RA74006</td>\n",
       "      <td>CEK</td>\n",
       "      <td>NaN</td>\n",
       "      <td>NaN</td>\n",
       "      <td>NaN</td>\n",
       "    </tr>\n",
       "  </tbody>\n",
       "</table>\n",
       "</div>"
      ],
      "text/plain": [
       "   flight_id  aircraft_id  reg equip callsign   flight schd_from schd_to  \\\n",
       "0  601952841      7793496  NaN  GRND      R17      NaN       SIN     NaN   \n",
       "1  601981055      4648968  NaN   NaN   FLWME2      NaN       SKG     NaN   \n",
       "2  601974918      3948014  NaN   NaN     AP01      NaN       CGN     NaN   \n",
       "3  601965791      3949334  NaN  GRND      V79      NaN       NaN     NaN   \n",
       "4  601965717      1122582  NaN  GRND  RA74006  RA74006       CEK     NaN   \n",
       "\n",
       "  real_to  reserved  \n",
       "0     NaN       NaN  \n",
       "1     NaN       NaN  \n",
       "2     NaN       NaN  \n",
       "3     NaN       NaN  \n",
       "4     NaN       NaN  "
      ]
     },
     "execution_count": 19,
     "metadata": {},
     "output_type": "execute_result"
    }
   ],
   "source": [
    "a_flight.head()"
   ]
  },
  {
   "cell_type": "markdown",
   "metadata": {},
   "source": [
    "### Set path for flights and define the files we'll concatenate"
   ]
  },
  {
   "cell_type": "code",
   "execution_count": 20,
   "metadata": {},
   "outputs": [],
   "source": [
    "path = '/Users/mhustiles/data/data/flights/coronavirus/flights/'\n",
    "files = glob.glob(os.path.join(path, \"*flights.csv\"))"
   ]
  },
  {
   "cell_type": "markdown",
   "metadata": {},
   "source": [
    "### Read the csvs and create a 'date' field in the table"
   ]
  },
  {
   "cell_type": "code",
   "execution_count": 21,
   "metadata": {},
   "outputs": [],
   "source": [
    "file_df = (pd.read_csv(f, encoding = \"ISO-8859-1\", low_memory=False)\\\n",
    "           .assign(date=os.path.basename(f)) for f in files)"
   ]
  },
  {
   "cell_type": "markdown",
   "metadata": {},
   "source": [
    "### Combined our newly processed flight files"
   ]
  },
  {
   "cell_type": "code",
   "execution_count": 22,
   "metadata": {},
   "outputs": [],
   "source": [
    "flights_df_all = pd.concat(file_df, ignore_index=True)"
   ]
  },
  {
   "cell_type": "code",
   "execution_count": 23,
   "metadata": {},
   "outputs": [
    {
     "data": {
      "text/plain": [
       "2149720"
      ]
     },
     "execution_count": 23,
     "metadata": {},
     "output_type": "execute_result"
    }
   ],
   "source": [
    "len(flights_df_all)"
   ]
  },
  {
   "cell_type": "markdown",
   "metadata": {},
   "source": [
    "### Add owner names from FAA registration"
   ]
  },
  {
   "cell_type": "code",
   "execution_count": 24,
   "metadata": {},
   "outputs": [],
   "source": [
    "flights_df = flights_df_all.merge(planes_merge.dropna(subset=['n_number']), \\\n",
    "                                  right_on='n_number', left_on='reg', how='left')\\\n",
    ".drop(['name_nu', 'model', 'type', 'icao'], axis=1)\n",
    "# flights_df = flights_df_all.merge(planes, right_on='n_number', left_on='reg', how='left')"
   ]
  },
  {
   "cell_type": "code",
   "execution_count": 25,
   "metadata": {},
   "outputs": [
    {
     "data": {
      "text/html": [
       "<div>\n",
       "<style scoped>\n",
       "    .dataframe tbody tr th:only-of-type {\n",
       "        vertical-align: middle;\n",
       "    }\n",
       "\n",
       "    .dataframe tbody tr th {\n",
       "        vertical-align: top;\n",
       "    }\n",
       "\n",
       "    .dataframe thead th {\n",
       "        text-align: right;\n",
       "    }\n",
       "</style>\n",
       "<table border=\"1\" class=\"dataframe\">\n",
       "  <thead>\n",
       "    <tr style=\"text-align: right;\">\n",
       "      <th></th>\n",
       "      <th>flight_id</th>\n",
       "      <th>aircraft_id</th>\n",
       "      <th>reg</th>\n",
       "      <th>equip</th>\n",
       "      <th>callsign</th>\n",
       "      <th>flight</th>\n",
       "      <th>schd_from</th>\n",
       "      <th>schd_to</th>\n",
       "      <th>real_to</th>\n",
       "      <th>reserved</th>\n",
       "      <th>date</th>\n",
       "      <th>name</th>\n",
       "      <th>n_number</th>\n",
       "    </tr>\n",
       "  </thead>\n",
       "  <tbody>\n",
       "    <tr>\n",
       "      <td>0</td>\n",
       "      <td>608291364</td>\n",
       "      <td>4976852</td>\n",
       "      <td>NaN</td>\n",
       "      <td>GRND</td>\n",
       "      <td>FLWME3</td>\n",
       "      <td>NaN</td>\n",
       "      <td>AYT</td>\n",
       "      <td>NaN</td>\n",
       "      <td>NaN</td>\n",
       "      <td>NaN</td>\n",
       "      <td>20200324_flights.csv</td>\n",
       "      <td>NaN</td>\n",
       "      <td>NaN</td>\n",
       "    </tr>\n",
       "    <tr>\n",
       "      <td>1</td>\n",
       "      <td>608298331</td>\n",
       "      <td>5313483</td>\n",
       "      <td>NaN</td>\n",
       "      <td>NaN</td>\n",
       "      <td>SAATJA4</td>\n",
       "      <td>NaN</td>\n",
       "      <td>TLL</td>\n",
       "      <td>NaN</td>\n",
       "      <td>NaN</td>\n",
       "      <td>NaN</td>\n",
       "      <td>20200324_flights.csv</td>\n",
       "      <td>NaN</td>\n",
       "      <td>NaN</td>\n",
       "    </tr>\n",
       "    <tr>\n",
       "      <td>2</td>\n",
       "      <td>608288050</td>\n",
       "      <td>4546612</td>\n",
       "      <td>NaN</td>\n",
       "      <td>GRND</td>\n",
       "      <td>RANGER2</td>\n",
       "      <td>NaN</td>\n",
       "      <td>SOF</td>\n",
       "      <td>NaN</td>\n",
       "      <td>NaN</td>\n",
       "      <td>NaN</td>\n",
       "      <td>20200324_flights.csv</td>\n",
       "      <td>NaN</td>\n",
       "      <td>NaN</td>\n",
       "    </tr>\n",
       "    <tr>\n",
       "      <td>3</td>\n",
       "      <td>608300515</td>\n",
       "      <td>4735585</td>\n",
       "      <td>LJ-Light</td>\n",
       "      <td>GRND</td>\n",
       "      <td>LI</td>\n",
       "      <td>NaN</td>\n",
       "      <td>NaN</td>\n",
       "      <td>NaN</td>\n",
       "      <td>NaN</td>\n",
       "      <td>NaN</td>\n",
       "      <td>20200324_flights.csv</td>\n",
       "      <td>NaN</td>\n",
       "      <td>NaN</td>\n",
       "    </tr>\n",
       "    <tr>\n",
       "      <td>4</td>\n",
       "      <td>608298634</td>\n",
       "      <td>11402224</td>\n",
       "      <td>NaN</td>\n",
       "      <td>NaN</td>\n",
       "      <td>BIRD</td>\n",
       "      <td>NaN</td>\n",
       "      <td>DMK</td>\n",
       "      <td>NaN</td>\n",
       "      <td>NaN</td>\n",
       "      <td>NaN</td>\n",
       "      <td>20200324_flights.csv</td>\n",
       "      <td>NaN</td>\n",
       "      <td>NaN</td>\n",
       "    </tr>\n",
       "    <tr>\n",
       "      <td>...</td>\n",
       "      <td>...</td>\n",
       "      <td>...</td>\n",
       "      <td>...</td>\n",
       "      <td>...</td>\n",
       "      <td>...</td>\n",
       "      <td>...</td>\n",
       "      <td>...</td>\n",
       "      <td>...</td>\n",
       "      <td>...</td>\n",
       "      <td>...</td>\n",
       "      <td>...</td>\n",
       "      <td>...</td>\n",
       "      <td>...</td>\n",
       "    </tr>\n",
       "    <tr>\n",
       "      <td>95</td>\n",
       "      <td>608289613</td>\n",
       "      <td>3761582</td>\n",
       "      <td>FGZNO</td>\n",
       "      <td>B77W</td>\n",
       "      <td>AFR430</td>\n",
       "      <td>AF430</td>\n",
       "      <td>CDG</td>\n",
       "      <td>SJO</td>\n",
       "      <td>SJO</td>\n",
       "      <td>NaN</td>\n",
       "      <td>20200324_flights.csv</td>\n",
       "      <td>NaN</td>\n",
       "      <td>NaN</td>\n",
       "    </tr>\n",
       "    <tr>\n",
       "      <td>96</td>\n",
       "      <td>608281622</td>\n",
       "      <td>10526108</td>\n",
       "      <td>N139LB</td>\n",
       "      <td>LOON</td>\n",
       "      <td>HBAL130</td>\n",
       "      <td>NaN</td>\n",
       "      <td>NaN</td>\n",
       "      <td>NaN</td>\n",
       "      <td>NaN</td>\n",
       "      <td>NaN</td>\n",
       "      <td>20200324_flights.csv</td>\n",
       "      <td>NaN</td>\n",
       "      <td>NaN</td>\n",
       "    </tr>\n",
       "    <tr>\n",
       "      <td>97</td>\n",
       "      <td>608282811</td>\n",
       "      <td>10953124</td>\n",
       "      <td>N559JB</td>\n",
       "      <td>A320</td>\n",
       "      <td>JBU71</td>\n",
       "      <td>B671</td>\n",
       "      <td>JFK</td>\n",
       "      <td>SLC</td>\n",
       "      <td>SLC</td>\n",
       "      <td>NaN</td>\n",
       "      <td>20200324_flights.csv</td>\n",
       "      <td>JETBLUE AIRWAYS</td>\n",
       "      <td>N559JB</td>\n",
       "    </tr>\n",
       "    <tr>\n",
       "      <td>98</td>\n",
       "      <td>608299358</td>\n",
       "      <td>4546597</td>\n",
       "      <td>NaN</td>\n",
       "      <td>NaN</td>\n",
       "      <td>GW1</td>\n",
       "      <td>NaN</td>\n",
       "      <td>SOF</td>\n",
       "      <td>NaN</td>\n",
       "      <td>NaN</td>\n",
       "      <td>NaN</td>\n",
       "      <td>20200324_flights.csv</td>\n",
       "      <td>NaN</td>\n",
       "      <td>NaN</td>\n",
       "    </tr>\n",
       "    <tr>\n",
       "      <td>99</td>\n",
       "      <td>608308856</td>\n",
       "      <td>3948711</td>\n",
       "      <td>NaN</td>\n",
       "      <td>GRND</td>\n",
       "      <td>LEOS12</td>\n",
       "      <td>NaN</td>\n",
       "      <td>NaN</td>\n",
       "      <td>NaN</td>\n",
       "      <td>NaN</td>\n",
       "      <td>NaN</td>\n",
       "      <td>20200324_flights.csv</td>\n",
       "      <td>NaN</td>\n",
       "      <td>NaN</td>\n",
       "    </tr>\n",
       "  </tbody>\n",
       "</table>\n",
       "<p>100 rows × 13 columns</p>\n",
       "</div>"
      ],
      "text/plain": [
       "    flight_id  aircraft_id       reg equip callsign flight schd_from schd_to  \\\n",
       "0   608291364      4976852       NaN  GRND   FLWME3    NaN       AYT     NaN   \n",
       "1   608298331      5313483       NaN   NaN  SAATJA4    NaN       TLL     NaN   \n",
       "2   608288050      4546612       NaN  GRND  RANGER2    NaN       SOF     NaN   \n",
       "3   608300515      4735585  LJ-Light  GRND       LI    NaN       NaN     NaN   \n",
       "4   608298634     11402224       NaN   NaN     BIRD    NaN       DMK     NaN   \n",
       "..        ...          ...       ...   ...      ...    ...       ...     ...   \n",
       "95  608289613      3761582     FGZNO  B77W   AFR430  AF430       CDG     SJO   \n",
       "96  608281622     10526108    N139LB  LOON  HBAL130    NaN       NaN     NaN   \n",
       "97  608282811     10953124    N559JB  A320    JBU71   B671       JFK     SLC   \n",
       "98  608299358      4546597       NaN   NaN      GW1    NaN       SOF     NaN   \n",
       "99  608308856      3948711       NaN  GRND   LEOS12    NaN       NaN     NaN   \n",
       "\n",
       "   real_to  reserved                  date             name n_number  \n",
       "0      NaN       NaN  20200324_flights.csv              NaN      NaN  \n",
       "1      NaN       NaN  20200324_flights.csv              NaN      NaN  \n",
       "2      NaN       NaN  20200324_flights.csv              NaN      NaN  \n",
       "3      NaN       NaN  20200324_flights.csv              NaN      NaN  \n",
       "4      NaN       NaN  20200324_flights.csv              NaN      NaN  \n",
       "..     ...       ...                   ...              ...      ...  \n",
       "95     SJO       NaN  20200324_flights.csv              NaN      NaN  \n",
       "96     NaN       NaN  20200324_flights.csv              NaN      NaN  \n",
       "97     SLC       NaN  20200324_flights.csv  JETBLUE AIRWAYS   N559JB  \n",
       "98     NaN       NaN  20200324_flights.csv              NaN      NaN  \n",
       "99     NaN       NaN  20200324_flights.csv              NaN      NaN  \n",
       "\n",
       "[100 rows x 13 columns]"
      ]
     },
     "execution_count": 25,
     "metadata": {},
     "output_type": "execute_result"
    }
   ],
   "source": [
    "flights_df.head(100)"
   ]
  },
  {
   "cell_type": "code",
   "execution_count": 26,
   "metadata": {},
   "outputs": [
    {
     "data": {
      "text/plain": [
       "2151125"
      ]
     },
     "execution_count": 26,
     "metadata": {},
     "output_type": "execute_result"
    }
   ],
   "source": [
    "len(flights_df)"
   ]
  },
  {
   "cell_type": "markdown",
   "metadata": {},
   "source": [
    "### Clean up our dates for use later"
   ]
  },
  {
   "cell_type": "code",
   "execution_count": 27,
   "metadata": {},
   "outputs": [],
   "source": [
    "flights_df['date'] = flights_df['date']\\\n",
    "    .str.replace('_flights.csv','')"
   ]
  },
  {
   "cell_type": "code",
   "execution_count": 28,
   "metadata": {},
   "outputs": [],
   "source": [
    "flights_df['date'] = pd.to_datetime(flights_df.date, format='%Y%m%d')\n",
    "flights_df['month'] = flights_df['date'].dt.month \n",
    "flights_df['day'] = flights_df['date'].dt.day \n",
    "flights_df['weekday'] = flights_df['date'].dt.weekday_name"
   ]
  },
  {
   "cell_type": "markdown",
   "metadata": {},
   "source": [
    "### Filter flights list to large, commercial planes?"
   ]
  },
  {
   "cell_type": "code",
   "execution_count": 29,
   "metadata": {},
   "outputs": [],
   "source": [
    "large_planes = ['B738','A320','A321','B737','A20N',\\\n",
    "                'B739','B77W','B763','A332','B752',\\\n",
    "                'A21N','B789','AT75','A359','B772',\\\n",
    "                'B350','B744','A306', 'B733']"
   ]
  },
  {
   "cell_type": "code",
   "execution_count": 30,
   "metadata": {},
   "outputs": [],
   "source": [
    "cargo_planes = ['B77L', 'B744', 'B748', 'B762', 'B763', 'B75', 'MD1', 'DC1']"
   ]
  },
  {
   "cell_type": "code",
   "execution_count": 31,
   "metadata": {},
   "outputs": [],
   "source": [
    "# flights_df = flights_df[~flights_df['equip'].isin(cargo_planes)]"
   ]
  },
  {
   "cell_type": "markdown",
   "metadata": {},
   "source": [
    "### Remove stray flights by id"
   ]
  },
  {
   "cell_type": "code",
   "execution_count": 32,
   "metadata": {},
   "outputs": [],
   "source": [
    "strays = ['609551948', '609472464', '609472230', '609483318', '602119624','602092291']"
   ]
  },
  {
   "cell_type": "code",
   "execution_count": 33,
   "metadata": {},
   "outputs": [],
   "source": [
    "flights_df = flights_df[~flights_df['flight_id'].isin(strays)]"
   ]
  },
  {
   "cell_type": "markdown",
   "metadata": {},
   "source": [
    "### What's left?"
   ]
  },
  {
   "cell_type": "code",
   "execution_count": 34,
   "metadata": {},
   "outputs": [
    {
     "data": {
      "text/plain": [
       "2151119"
      ]
     },
     "execution_count": 34,
     "metadata": {},
     "output_type": "execute_result"
    }
   ],
   "source": [
    "len(flights_df)"
   ]
  },
  {
   "cell_type": "code",
   "execution_count": 35,
   "metadata": {},
   "outputs": [],
   "source": [
    "global_flights = flights_df.groupby(['date']).agg('size').reset_index(name='flights')"
   ]
  },
  {
   "cell_type": "code",
   "execution_count": 36,
   "metadata": {},
   "outputs": [
    {
     "data": {
      "text/html": [
       "<div>\n",
       "<style scoped>\n",
       "    .dataframe tbody tr th:only-of-type {\n",
       "        vertical-align: middle;\n",
       "    }\n",
       "\n",
       "    .dataframe tbody tr th {\n",
       "        vertical-align: top;\n",
       "    }\n",
       "\n",
       "    .dataframe thead th {\n",
       "        text-align: right;\n",
       "    }\n",
       "</style>\n",
       "<table border=\"1\" class=\"dataframe\">\n",
       "  <thead>\n",
       "    <tr style=\"text-align: right;\">\n",
       "      <th></th>\n",
       "      <th>date</th>\n",
       "      <th>flights</th>\n",
       "    </tr>\n",
       "  </thead>\n",
       "  <tbody>\n",
       "    <tr>\n",
       "      <td>0</td>\n",
       "      <td>2020-01-07</td>\n",
       "      <td>182498</td>\n",
       "    </tr>\n",
       "    <tr>\n",
       "      <td>1</td>\n",
       "      <td>2020-01-14</td>\n",
       "      <td>174586</td>\n",
       "    </tr>\n",
       "    <tr>\n",
       "      <td>2</td>\n",
       "      <td>2020-01-21</td>\n",
       "      <td>191794</td>\n",
       "    </tr>\n",
       "    <tr>\n",
       "      <td>3</td>\n",
       "      <td>2020-01-28</td>\n",
       "      <td>179925</td>\n",
       "    </tr>\n",
       "    <tr>\n",
       "      <td>4</td>\n",
       "      <td>2020-02-03</td>\n",
       "      <td>178814</td>\n",
       "    </tr>\n",
       "    <tr>\n",
       "      <td>5</td>\n",
       "      <td>2020-02-10</td>\n",
       "      <td>161637</td>\n",
       "    </tr>\n",
       "    <tr>\n",
       "      <td>6</td>\n",
       "      <td>2020-02-17</td>\n",
       "      <td>173852</td>\n",
       "    </tr>\n",
       "    <tr>\n",
       "      <td>7</td>\n",
       "      <td>2020-02-24</td>\n",
       "      <td>174204</td>\n",
       "    </tr>\n",
       "    <tr>\n",
       "      <td>8</td>\n",
       "      <td>2020-03-03</td>\n",
       "      <td>175764</td>\n",
       "    </tr>\n",
       "    <tr>\n",
       "      <td>9</td>\n",
       "      <td>2020-03-10</td>\n",
       "      <td>170476</td>\n",
       "    </tr>\n",
       "    <tr>\n",
       "      <td>10</td>\n",
       "      <td>2020-03-17</td>\n",
       "      <td>148227</td>\n",
       "    </tr>\n",
       "    <tr>\n",
       "      <td>11</td>\n",
       "      <td>2020-03-24</td>\n",
       "      <td>96224</td>\n",
       "    </tr>\n",
       "    <tr>\n",
       "      <td>12</td>\n",
       "      <td>2020-03-31</td>\n",
       "      <td>74659</td>\n",
       "    </tr>\n",
       "    <tr>\n",
       "      <td>13</td>\n",
       "      <td>2020-04-07</td>\n",
       "      <td>68459</td>\n",
       "    </tr>\n",
       "  </tbody>\n",
       "</table>\n",
       "</div>"
      ],
      "text/plain": [
       "         date  flights\n",
       "0  2020-01-07   182498\n",
       "1  2020-01-14   174586\n",
       "2  2020-01-21   191794\n",
       "3  2020-01-28   179925\n",
       "4  2020-02-03   178814\n",
       "5  2020-02-10   161637\n",
       "6  2020-02-17   173852\n",
       "7  2020-02-24   174204\n",
       "8  2020-03-03   175764\n",
       "9  2020-03-10   170476\n",
       "10 2020-03-17   148227\n",
       "11 2020-03-24    96224\n",
       "12 2020-03-31    74659\n",
       "13 2020-04-07    68459"
      ]
     },
     "execution_count": 36,
     "metadata": {},
     "output_type": "execute_result"
    }
   ],
   "source": [
    "global_flights.head(20)"
   ]
  },
  {
   "cell_type": "markdown",
   "metadata": {},
   "source": [
    "### Decrease from Jan. 7 to March 31"
   ]
  },
  {
   "cell_type": "code",
   "execution_count": 37,
   "metadata": {},
   "outputs": [
    {
     "data": {
      "text/plain": [
       "-59.09"
      ]
     },
     "execution_count": 37,
     "metadata": {},
     "output_type": "execute_result"
    }
   ],
   "source": [
    "(((global_flights.iloc[12,1] - global_flights.iloc[0,1])/global_flights.iloc[0,1])*100).round(2)"
   ]
  },
  {
   "cell_type": "code",
   "execution_count": 38,
   "metadata": {},
   "outputs": [],
   "source": [
    "global_flights.to_csv('output/global_flights.csv')"
   ]
  },
  {
   "cell_type": "markdown",
   "metadata": {},
   "source": [
    "### Filter global flights to just those in the largest airports in Europe and the USA"
   ]
  },
  {
   "cell_type": "code",
   "execution_count": 39,
   "metadata": {},
   "outputs": [],
   "source": [
    "europe_airports = ['AMS','ARN','ATH','BCN','BRU','BUD','CDG','CPH','DME','DUB','FCO','FRA','GVA','HEL',\\\n",
    "                   'KEF','LGW','LHR','LIS','MAD','MAN','MUC','MXP','ORY','OSL','PRG','SVO',\\\n",
    "                   'VCE','VIE','VKO','WAW','ZRH']"
   ]
  },
  {
   "cell_type": "code",
   "execution_count": 40,
   "metadata": {},
   "outputs": [],
   "source": [
    "usa_airports = ['ATL','BOS','BWI','CLT','DEN','DFW','DTW','EWR','FLL','IAD','IAH','JFK','LAS','LAX','LGA',\\\n",
    "                'MCO','MIA','MSP','ORD','PHL','PHX','SAN','SEA','SFO','SLC','YUL','YVR','YYZ']"
   ]
  },
  {
   "cell_type": "code",
   "execution_count": 41,
   "metadata": {},
   "outputs": [],
   "source": [
    "usa_flights_totals = flights_df[flights_df['schd_from'].isin(usa_airports)]\n",
    "europe_flights_totals = flights_df[flights_df['schd_from'].isin(europe_airports)]"
   ]
  },
  {
   "cell_type": "code",
   "execution_count": 42,
   "metadata": {},
   "outputs": [],
   "source": [
    "europe_flights_totals_grouped = europe_flights_totals.groupby(['date']).agg('size').reset_index(name='flights')\n",
    "usa_flights_totals_grouped = usa_flights_totals.groupby(['date']).agg('size').reset_index(name='flights')"
   ]
  },
  {
   "cell_type": "code",
   "execution_count": 43,
   "metadata": {},
   "outputs": [],
   "source": [
    "flights_us_eu_global = pd.concat([global_flights, europe_flights_totals_grouped['flights'],\\\n",
    "                                  usa_flights_totals_grouped['flights']], axis=1)"
   ]
  },
  {
   "cell_type": "code",
   "execution_count": 44,
   "metadata": {},
   "outputs": [],
   "source": [
    "flights_us_eu_global.columns = (['date', 'world', 'europe', 'usa'])"
   ]
  },
  {
   "cell_type": "code",
   "execution_count": 45,
   "metadata": {},
   "outputs": [],
   "source": [
    "flights_us_eu_global['world'] = flights_us_eu_global['world'] - (flights_us_eu_global['europe'] + flights_us_eu_global['usa']) \n"
   ]
  },
  {
   "cell_type": "code",
   "execution_count": 46,
   "metadata": {},
   "outputs": [],
   "source": [
    "flights_us_eu_global.to_csv('output/flights_us_eu_global.csv')"
   ]
  },
  {
   "cell_type": "code",
   "execution_count": 47,
   "metadata": {},
   "outputs": [],
   "source": [
    "flights_us_eu_global_melt = pd.melt(flights_us_eu_global, id_vars=['date'], \\\n",
    "                                    value_vars=['world', 'europe', 'usa'],\n",
    "        var_name='location', value_name='flights')"
   ]
  },
  {
   "cell_type": "code",
   "execution_count": 48,
   "metadata": {},
   "outputs": [
    {
     "data": {
      "text/html": [
       "\n",
       "<div id=\"altair-viz-f3608df22a584f13a8c412820a901945\"></div>\n",
       "<script type=\"text/javascript\">\n",
       "  (function(spec, embedOpt){\n",
       "    const outputDiv = document.getElementById(\"altair-viz-f3608df22a584f13a8c412820a901945\");\n",
       "    const paths = {\n",
       "      \"vega\": \"https://cdn.jsdelivr.net/npm//vega@5?noext\",\n",
       "      \"vega-lib\": \"https://cdn.jsdelivr.net/npm//vega-lib?noext\",\n",
       "      \"vega-lite\": \"https://cdn.jsdelivr.net/npm//vega-lite@4.0.2?noext\",\n",
       "      \"vega-embed\": \"https://cdn.jsdelivr.net/npm//vega-embed@6?noext\",\n",
       "    };\n",
       "\n",
       "    function loadScript(lib) {\n",
       "      return new Promise(function(resolve, reject) {\n",
       "        var s = document.createElement('script');\n",
       "        s.src = paths[lib];\n",
       "        s.async = true;\n",
       "        s.onload = () => resolve(paths[lib]);\n",
       "        s.onerror = () => reject(`Error loading script: ${paths[lib]}`);\n",
       "        document.getElementsByTagName(\"head\")[0].appendChild(s);\n",
       "      });\n",
       "    }\n",
       "\n",
       "    function showError(err) {\n",
       "      outputDiv.innerHTML = `<div class=\"error\" style=\"color:red;\">${err}</div>`;\n",
       "      throw err;\n",
       "    }\n",
       "\n",
       "    function displayChart(vegaEmbed) {\n",
       "      vegaEmbed(outputDiv, spec, embedOpt)\n",
       "        .catch(err => showError(`Javascript Error: ${err.message}<br>This usually means there's a typo in your chart specification. See the javascript console for the full traceback.`));\n",
       "    }\n",
       "\n",
       "    if(typeof define === \"function\" && define.amd) {\n",
       "      requirejs.config({paths});\n",
       "      require([\"vega-embed\"], displayChart, err => showError(`Error loading script: ${err.message}`));\n",
       "    } else if (typeof vegaEmbed === \"function\") {\n",
       "      displayChart(vegaEmbed);\n",
       "    } else {\n",
       "      loadScript(\"vega\")\n",
       "        .then(() => loadScript(\"vega-lite\"))\n",
       "        .then(() => loadScript(\"vega-embed\"))\n",
       "        .catch(showError)\n",
       "        .then(() => displayChart(vegaEmbed));\n",
       "    }\n",
       "  })({\"config\": {\"view\": {\"width\": 800, \"height\": 450, \"strokeOpacity\": 0}, \"background\": \"#ffffff\", \"title\": {\"anchor\": \"start\", \"font\": \"Benton Gothic Bold, sans\", \"fontColor\": \"#000000\", \"fontSize\": 22, \"fontWeight\": \"normal\"}, \"arc\": {\"fill\": \"#82c6df\"}, \"area\": {\"fill\": \"#82c6df\"}, \"line\": {\"stroke\": \"#82c6df\", \"strokeWidth\": 3}, \"path\": {\"stroke\": \"#82c6df\"}, \"rect\": {\"fill\": \"#82c6df\"}, \"shape\": {\"stroke\": \"#82c6df\"}, \"bar\": {\"fill\": \"#82c6df\"}, \"point\": {\"stroke\": \"#82c6df\"}, \"symbol\": {\"fill\": \"#82c6df\", \"size\": 30}, \"axis\": {\"titleFont\": \"Benton Gothic Bold, sans\", \"titleFontSize\": 13, \"titleFontWeight\": \"normal\", \"labelFont\": \"Benton Gothic, sans\", \"labelFontSize\": 11.5, \"labelFontWeight\": \"normal\"}, \"axisX\": {\"labelAngle\": 0, \"labelPadding\": 4, \"tickSize\": 3}, \"axisY\": {\"labelBaseline\": \"middle\", \"maxExtent\": 45, \"minExtent\": 45, \"tickSize\": 2, \"titleAlign\": \"left\", \"titleAngle\": 0, \"titleX\": -45, \"titleY\": -11}, \"legend\": {\"titleFont\": \"Benton Gothic Bold, sans\", \"titleFontSize\": 13, \"titleFontWeight\": \"normal\", \"symbolType\": \"square\", \"labelFont\": \"Benton Gothic, sans\", \"labelFontSize\": 11.5}, \"range\": {\"category\": [\"#3580b1\", \"#ec8431\", \"#ab7fb4\", \"#c89d29\", \"#adc839\", \"#829eb1\"], \"diverging\": [\"#e68a4f\", \"#f4bb6a\", \"#f9e39c\", \"#dadfe2\", \"#a6b7c6\", \"#849eae\"], \"heatmap\": [\"#fbf2c7\", \"#f9e39c\", \"#f8d36e\", \"#f4bb6a\", \"#e68a4f\", \"#d15a40\", \"#ab4232\"], \"ordinal\": [\"#fbf2c7\", \"#f9e39c\", \"#f8d36e\", \"#f4bb6a\", \"#e68a4f\", \"#d15a40\", \"#ab4232\"], \"ramp\": [\"#fbf2c7\", \"#f9e39c\", \"#f8d36e\", \"#f4bb6a\", \"#e68a4f\", \"#d15a40\", \"#ab4232\"]}}, \"data\": {\"name\": \"data-72ba38d5c64d21ab7cd4a37215b677a0\"}, \"mark\": {\"type\": \"area\", \"color\": \"#006D8F\", \"size\": 4}, \"encoding\": {\"color\": {\"type\": \"nominal\", \"field\": \"location\", \"legend\": null, \"scale\": {\"domain\": [\"usa\", \"europe\", \"world\"], \"range\": [\"#90d1e2\", \"#d9eff4\", \"#3996b7\"]}}, \"x\": {\"type\": \"temporal\", \"axis\": {\"format\": \"%b. %-d\", \"grid\": false, \"tickCount\": 6}, \"field\": \"date\", \"title\": \"\"}, \"y\": {\"type\": \"quantitative\", \"axis\": {\"domainOpacity\": 0, \"format\": \".0s\", \"grid\": true, \"offset\": 3, \"tickCount\": 6, \"tickSize\": 0}, \"field\": \"flights\", \"sort\": {\"field\": \"location\", \"op\": \"sum\", \"order\": \"ascending\"}, \"title\": \"\"}}, \"height\": 200, \"title\": \"\", \"width\": 320, \"$schema\": \"https://vega.github.io/schema/vega-lite/v4.0.2.json\", \"datasets\": {\"data-72ba38d5c64d21ab7cd4a37215b677a0\": [{\"date\": \"2020-01-07T00:00:00\", \"location\": \"world\", \"flights\": 145268}, {\"date\": \"2020-01-14T00:00:00\", \"location\": \"world\", \"flights\": 139058}, {\"date\": \"2020-01-21T00:00:00\", \"location\": \"world\", \"flights\": 155799}, {\"date\": \"2020-01-28T00:00:00\", \"location\": \"world\", \"flights\": 143885}, {\"date\": \"2020-02-03T00:00:00\", \"location\": \"world\", \"flights\": 141860}, {\"date\": \"2020-02-10T00:00:00\", \"location\": \"world\", \"flights\": 125585}, {\"date\": \"2020-02-17T00:00:00\", \"location\": \"world\", \"flights\": 137220}, {\"date\": \"2020-02-24T00:00:00\", \"location\": \"world\", \"flights\": 135916}, {\"date\": \"2020-03-03T00:00:00\", \"location\": \"world\", \"flights\": 138636}, {\"date\": \"2020-03-10T00:00:00\", \"location\": \"world\", \"flights\": 134868}, {\"date\": \"2020-03-17T00:00:00\", \"location\": \"world\", \"flights\": 117324}, {\"date\": \"2020-03-24T00:00:00\", \"location\": \"world\", \"flights\": 77397}, {\"date\": \"2020-03-31T00:00:00\", \"location\": \"world\", \"flights\": 60753}, {\"date\": \"2020-04-07T00:00:00\", \"location\": \"world\", \"flights\": 57441}, {\"date\": \"2020-01-07T00:00:00\", \"location\": \"europe\", \"flights\": 12410}, {\"date\": \"2020-01-14T00:00:00\", \"location\": \"europe\", \"flights\": 11606}, {\"date\": \"2020-01-21T00:00:00\", \"location\": \"europe\", \"flights\": 11866}, {\"date\": \"2020-01-28T00:00:00\", \"location\": \"europe\", \"flights\": 11952}, {\"date\": \"2020-02-03T00:00:00\", \"location\": \"europe\", \"flights\": 12890}, {\"date\": \"2020-02-10T00:00:00\", \"location\": \"europe\", \"flights\": 11905}, {\"date\": \"2020-02-17T00:00:00\", \"location\": \"europe\", \"flights\": 13225}, {\"date\": \"2020-02-24T00:00:00\", \"location\": \"europe\", \"flights\": 13327}, {\"date\": \"2020-03-03T00:00:00\", \"location\": \"europe\", \"flights\": 12575}, {\"date\": \"2020-03-10T00:00:00\", \"location\": \"europe\", \"flights\": 11111}, {\"date\": \"2020-03-17T00:00:00\", \"location\": \"europe\", \"flights\": 7609}, {\"date\": \"2020-03-24T00:00:00\", \"location\": \"europe\", \"flights\": 3755}, {\"date\": \"2020-03-31T00:00:00\", \"location\": \"europe\", \"flights\": 2411}, {\"date\": \"2020-04-07T00:00:00\", \"location\": \"europe\", \"flights\": 1827}, {\"date\": \"2020-01-07T00:00:00\", \"location\": \"usa\", \"flights\": 24820}, {\"date\": \"2020-01-14T00:00:00\", \"location\": \"usa\", \"flights\": 23922}, {\"date\": \"2020-01-21T00:00:00\", \"location\": \"usa\", \"flights\": 24129}, {\"date\": \"2020-01-28T00:00:00\", \"location\": \"usa\", \"flights\": 24088}, {\"date\": \"2020-02-03T00:00:00\", \"location\": \"usa\", \"flights\": 24064}, {\"date\": \"2020-02-10T00:00:00\", \"location\": \"usa\", \"flights\": 24147}, {\"date\": \"2020-02-17T00:00:00\", \"location\": \"usa\", \"flights\": 23407}, {\"date\": \"2020-02-24T00:00:00\", \"location\": \"usa\", \"flights\": 24961}, {\"date\": \"2020-03-03T00:00:00\", \"location\": \"usa\", \"flights\": 24553}, {\"date\": \"2020-03-10T00:00:00\", \"location\": \"usa\", \"flights\": 24497}, {\"date\": \"2020-03-17T00:00:00\", \"location\": \"usa\", \"flights\": 23294}, {\"date\": \"2020-03-24T00:00:00\", \"location\": \"usa\", \"flights\": 15072}, {\"date\": \"2020-03-31T00:00:00\", \"location\": \"usa\", \"flights\": 11495}, {\"date\": \"2020-04-07T00:00:00\", \"location\": \"usa\", \"flights\": 9191}]}}, {\"mode\": \"vega-lite\"});\n",
       "</script>"
      ],
      "text/plain": [
       "alt.Chart(...)"
      ]
     },
     "execution_count": 48,
     "metadata": {},
     "output_type": "execute_result"
    }
   ],
   "source": [
    "all_flights_chart_mobile = alt.Chart(flights_us_eu_global_melt).mark_area(size=4,color='#006D8F').encode(\n",
    "    x=alt.X('date:T', title='', axis=alt.Axis(grid=False, tickCount=6, format='%b. %-d')),\n",
    "    y=alt.Y('flights:Q', title='', axis=alt.Axis(domainOpacity=0, offset=3, tickSize=0,grid=True, tickCount=6, format='.0s'),\n",
    "                             sort=alt.EncodingSortField(\n",
    "                                field=\"location\",\n",
    "                                op=\"sum\",\n",
    "                                order=\"ascending\")),\n",
    "    color=alt.Color('location:N',\n",
    "                   scale=alt.Scale(\n",
    "            domain=['usa', 'europe', 'world'],\n",
    "            range=['#90d1e2', '#d9eff4', '#3996b7']), legend=None),\n",
    ").properties(width=320, height=200,\n",
    "    title=''\n",
    ")\n",
    "\n",
    "all_flights_chart_mobile.configure_view(strokeOpacity=0)\n"
   ]
  },
  {
   "cell_type": "code",
   "execution_count": 49,
   "metadata": {
    "scrolled": true
   },
   "outputs": [
    {
     "data": {
      "text/html": [
       "\n",
       "<div id=\"altair-viz-852b152b8fe14979935ace5787497088\"></div>\n",
       "<script type=\"text/javascript\">\n",
       "  (function(spec, embedOpt){\n",
       "    const outputDiv = document.getElementById(\"altair-viz-852b152b8fe14979935ace5787497088\");\n",
       "    const paths = {\n",
       "      \"vega\": \"https://cdn.jsdelivr.net/npm//vega@5?noext\",\n",
       "      \"vega-lib\": \"https://cdn.jsdelivr.net/npm//vega-lib?noext\",\n",
       "      \"vega-lite\": \"https://cdn.jsdelivr.net/npm//vega-lite@4.0.2?noext\",\n",
       "      \"vega-embed\": \"https://cdn.jsdelivr.net/npm//vega-embed@6?noext\",\n",
       "    };\n",
       "\n",
       "    function loadScript(lib) {\n",
       "      return new Promise(function(resolve, reject) {\n",
       "        var s = document.createElement('script');\n",
       "        s.src = paths[lib];\n",
       "        s.async = true;\n",
       "        s.onload = () => resolve(paths[lib]);\n",
       "        s.onerror = () => reject(`Error loading script: ${paths[lib]}`);\n",
       "        document.getElementsByTagName(\"head\")[0].appendChild(s);\n",
       "      });\n",
       "    }\n",
       "\n",
       "    function showError(err) {\n",
       "      outputDiv.innerHTML = `<div class=\"error\" style=\"color:red;\">${err}</div>`;\n",
       "      throw err;\n",
       "    }\n",
       "\n",
       "    function displayChart(vegaEmbed) {\n",
       "      vegaEmbed(outputDiv, spec, embedOpt)\n",
       "        .catch(err => showError(`Javascript Error: ${err.message}<br>This usually means there's a typo in your chart specification. See the javascript console for the full traceback.`));\n",
       "    }\n",
       "\n",
       "    if(typeof define === \"function\" && define.amd) {\n",
       "      requirejs.config({paths});\n",
       "      require([\"vega-embed\"], displayChart, err => showError(`Error loading script: ${err.message}`));\n",
       "    } else if (typeof vegaEmbed === \"function\") {\n",
       "      displayChart(vegaEmbed);\n",
       "    } else {\n",
       "      loadScript(\"vega\")\n",
       "        .then(() => loadScript(\"vega-lite\"))\n",
       "        .then(() => loadScript(\"vega-embed\"))\n",
       "        .catch(showError)\n",
       "        .then(() => displayChart(vegaEmbed));\n",
       "    }\n",
       "  })({\"config\": {\"view\": {\"width\": 800, \"height\": 450, \"strokeOpacity\": 0}, \"background\": \"#ffffff\", \"title\": {\"anchor\": \"start\", \"font\": \"Benton Gothic Bold, sans\", \"fontColor\": \"#000000\", \"fontSize\": 22, \"fontWeight\": \"normal\"}, \"arc\": {\"fill\": \"#82c6df\"}, \"area\": {\"fill\": \"#82c6df\"}, \"line\": {\"stroke\": \"#82c6df\", \"strokeWidth\": 3}, \"path\": {\"stroke\": \"#82c6df\"}, \"rect\": {\"fill\": \"#82c6df\"}, \"shape\": {\"stroke\": \"#82c6df\"}, \"bar\": {\"fill\": \"#82c6df\"}, \"point\": {\"stroke\": \"#82c6df\"}, \"symbol\": {\"fill\": \"#82c6df\", \"size\": 30}, \"axis\": {\"titleFont\": \"Benton Gothic Bold, sans\", \"titleFontSize\": 13, \"titleFontWeight\": \"normal\", \"labelFont\": \"Benton Gothic, sans\", \"labelFontSize\": 11.5, \"labelFontWeight\": \"normal\"}, \"axisX\": {\"labelAngle\": 0, \"labelPadding\": 4, \"tickSize\": 3}, \"axisY\": {\"labelBaseline\": \"middle\", \"maxExtent\": 45, \"minExtent\": 45, \"tickSize\": 2, \"titleAlign\": \"left\", \"titleAngle\": 0, \"titleX\": -45, \"titleY\": -11}, \"legend\": {\"titleFont\": \"Benton Gothic Bold, sans\", \"titleFontSize\": 13, \"titleFontWeight\": \"normal\", \"symbolType\": \"square\", \"labelFont\": \"Benton Gothic, sans\", \"labelFontSize\": 11.5}, \"range\": {\"category\": [\"#3580b1\", \"#ec8431\", \"#ab7fb4\", \"#c89d29\", \"#adc839\", \"#829eb1\"], \"diverging\": [\"#e68a4f\", \"#f4bb6a\", \"#f9e39c\", \"#dadfe2\", \"#a6b7c6\", \"#849eae\"], \"heatmap\": [\"#fbf2c7\", \"#f9e39c\", \"#f8d36e\", \"#f4bb6a\", \"#e68a4f\", \"#d15a40\", \"#ab4232\"], \"ordinal\": [\"#fbf2c7\", \"#f9e39c\", \"#f8d36e\", \"#f4bb6a\", \"#e68a4f\", \"#d15a40\", \"#ab4232\"], \"ramp\": [\"#fbf2c7\", \"#f9e39c\", \"#f8d36e\", \"#f4bb6a\", \"#e68a4f\", \"#d15a40\", \"#ab4232\"]}}, \"data\": {\"name\": \"data-72ba38d5c64d21ab7cd4a37215b677a0\"}, \"mark\": {\"type\": \"area\", \"color\": \"#006D8F\", \"size\": 4}, \"encoding\": {\"color\": {\"type\": \"nominal\", \"field\": \"location\", \"legend\": null, \"scale\": {\"domain\": [\"usa\", \"europe\", \"world\"], \"range\": [\"#90d1e2\", \"#d9eff4\", \"#3996b7\"]}}, \"x\": {\"type\": \"temporal\", \"axis\": {\"format\": \"%b. %-d\", \"grid\": false, \"tickCount\": 6}, \"field\": \"date\", \"title\": \"\"}, \"y\": {\"type\": \"quantitative\", \"axis\": {\"domainOpacity\": 0, \"format\": \".0s\", \"grid\": true, \"offset\": 3, \"tickCount\": 6, \"tickSize\": 0}, \"field\": \"flights\", \"sort\": {\"field\": \"location\", \"op\": \"sum\", \"order\": \"ascending\"}, \"title\": \"\"}}, \"height\": 350, \"title\": \"\", \"width\": 800, \"$schema\": \"https://vega.github.io/schema/vega-lite/v4.0.2.json\", \"datasets\": {\"data-72ba38d5c64d21ab7cd4a37215b677a0\": [{\"date\": \"2020-01-07T00:00:00\", \"location\": \"world\", \"flights\": 145268}, {\"date\": \"2020-01-14T00:00:00\", \"location\": \"world\", \"flights\": 139058}, {\"date\": \"2020-01-21T00:00:00\", \"location\": \"world\", \"flights\": 155799}, {\"date\": \"2020-01-28T00:00:00\", \"location\": \"world\", \"flights\": 143885}, {\"date\": \"2020-02-03T00:00:00\", \"location\": \"world\", \"flights\": 141860}, {\"date\": \"2020-02-10T00:00:00\", \"location\": \"world\", \"flights\": 125585}, {\"date\": \"2020-02-17T00:00:00\", \"location\": \"world\", \"flights\": 137220}, {\"date\": \"2020-02-24T00:00:00\", \"location\": \"world\", \"flights\": 135916}, {\"date\": \"2020-03-03T00:00:00\", \"location\": \"world\", \"flights\": 138636}, {\"date\": \"2020-03-10T00:00:00\", \"location\": \"world\", \"flights\": 134868}, {\"date\": \"2020-03-17T00:00:00\", \"location\": \"world\", \"flights\": 117324}, {\"date\": \"2020-03-24T00:00:00\", \"location\": \"world\", \"flights\": 77397}, {\"date\": \"2020-03-31T00:00:00\", \"location\": \"world\", \"flights\": 60753}, {\"date\": \"2020-04-07T00:00:00\", \"location\": \"world\", \"flights\": 57441}, {\"date\": \"2020-01-07T00:00:00\", \"location\": \"europe\", \"flights\": 12410}, {\"date\": \"2020-01-14T00:00:00\", \"location\": \"europe\", \"flights\": 11606}, {\"date\": \"2020-01-21T00:00:00\", \"location\": \"europe\", \"flights\": 11866}, {\"date\": \"2020-01-28T00:00:00\", \"location\": \"europe\", \"flights\": 11952}, {\"date\": \"2020-02-03T00:00:00\", \"location\": \"europe\", \"flights\": 12890}, {\"date\": \"2020-02-10T00:00:00\", \"location\": \"europe\", \"flights\": 11905}, {\"date\": \"2020-02-17T00:00:00\", \"location\": \"europe\", \"flights\": 13225}, {\"date\": \"2020-02-24T00:00:00\", \"location\": \"europe\", \"flights\": 13327}, {\"date\": \"2020-03-03T00:00:00\", \"location\": \"europe\", \"flights\": 12575}, {\"date\": \"2020-03-10T00:00:00\", \"location\": \"europe\", \"flights\": 11111}, {\"date\": \"2020-03-17T00:00:00\", \"location\": \"europe\", \"flights\": 7609}, {\"date\": \"2020-03-24T00:00:00\", \"location\": \"europe\", \"flights\": 3755}, {\"date\": \"2020-03-31T00:00:00\", \"location\": \"europe\", \"flights\": 2411}, {\"date\": \"2020-04-07T00:00:00\", \"location\": \"europe\", \"flights\": 1827}, {\"date\": \"2020-01-07T00:00:00\", \"location\": \"usa\", \"flights\": 24820}, {\"date\": \"2020-01-14T00:00:00\", \"location\": \"usa\", \"flights\": 23922}, {\"date\": \"2020-01-21T00:00:00\", \"location\": \"usa\", \"flights\": 24129}, {\"date\": \"2020-01-28T00:00:00\", \"location\": \"usa\", \"flights\": 24088}, {\"date\": \"2020-02-03T00:00:00\", \"location\": \"usa\", \"flights\": 24064}, {\"date\": \"2020-02-10T00:00:00\", \"location\": \"usa\", \"flights\": 24147}, {\"date\": \"2020-02-17T00:00:00\", \"location\": \"usa\", \"flights\": 23407}, {\"date\": \"2020-02-24T00:00:00\", \"location\": \"usa\", \"flights\": 24961}, {\"date\": \"2020-03-03T00:00:00\", \"location\": \"usa\", \"flights\": 24553}, {\"date\": \"2020-03-10T00:00:00\", \"location\": \"usa\", \"flights\": 24497}, {\"date\": \"2020-03-17T00:00:00\", \"location\": \"usa\", \"flights\": 23294}, {\"date\": \"2020-03-24T00:00:00\", \"location\": \"usa\", \"flights\": 15072}, {\"date\": \"2020-03-31T00:00:00\", \"location\": \"usa\", \"flights\": 11495}, {\"date\": \"2020-04-07T00:00:00\", \"location\": \"usa\", \"flights\": 9191}]}}, {\"mode\": \"vega-lite\"});\n",
       "</script>"
      ],
      "text/plain": [
       "alt.Chart(...)"
      ]
     },
     "execution_count": 49,
     "metadata": {},
     "output_type": "execute_result"
    }
   ],
   "source": [
    "all_flights_chart_desktop = alt.Chart(flights_us_eu_global_melt).mark_area(size=4,color='#006D8F').encode(\n",
    "    x=alt.X('date:T', title='', axis=alt.Axis(grid=False, tickCount=6, format='%b. %-d')),\n",
    "    y=alt.Y('flights:Q', title='', axis=alt.Axis(tickSize=0, offset=3,\n",
    "                            domainOpacity=0, grid=True, tickCount=6, format='.0s'),\n",
    "                             sort=alt.EncodingSortField(\n",
    "                                field=\"location\",\n",
    "                                op=\"sum\",\n",
    "                                order=\"ascending\")),\n",
    "    color=alt.Color('location:N',\n",
    "                   scale=alt.Scale(\n",
    "            domain=['usa', 'europe', 'world'],\n",
    "            range=['#90d1e2', '#d9eff4', '#3996b7']), legend=None),\n",
    ").properties(width=800, height=350,\n",
    "    title=''\n",
    ")\n",
    "\n",
    "all_flights_chart_desktop.configure_view(strokeOpacity=0)\n",
    "\n"
   ]
  },
  {
   "cell_type": "code",
   "execution_count": 50,
   "metadata": {},
   "outputs": [],
   "source": [
    "save((all_flights_chart_desktop).configure_view(strokeOpacity=0),'/Users/mhustiles/data/github/coronavirus-flight-tracking/flights-data/images/all_flights_chart_desktop.png', scale_factor=2.0)\n",
    "save((all_flights_chart_mobile).configure_view(strokeOpacity=0),'/Users/mhustiles/data/github/coronavirus-flight-tracking/flights-data/images/all_flights_chart_mobile.png', scale_factor=2.0)"
   ]
  },
  {
   "cell_type": "code",
   "execution_count": 51,
   "metadata": {},
   "outputs": [],
   "source": [
    "save((all_flights_chart_desktop).configure_view(strokeOpacity=0),'/Users/mhustiles/data/github/coronavirus-flight-tracking/flights-data/images/all_flights_chart_desktop.svg', scale_factor=2.0)\n",
    "save((all_flights_chart_mobile).configure_view(strokeOpacity=0),'/Users/mhustiles/data/github/coronavirus-flight-tracking/flights-data/images/all_flights_chart_mobile.svg', scale_factor=2.0)"
   ]
  },
  {
   "cell_type": "markdown",
   "metadata": {},
   "source": [
    "---"
   ]
  },
  {
   "cell_type": "markdown",
   "metadata": {},
   "source": [
    "### Just flights from CA"
   ]
  },
  {
   "cell_type": "code",
   "execution_count": 52,
   "metadata": {},
   "outputs": [],
   "source": [
    "socal = ['BUR', 'SNA', 'LGB', 'LAX', 'ONT', 'PSP']\n",
    "bayarea = ['CCR', 'STS', 'OAK', 'SFO', 'SJC']"
   ]
  },
  {
   "cell_type": "code",
   "execution_count": 53,
   "metadata": {},
   "outputs": [],
   "source": [
    "cali = ['LAX', 'SFO', 'SAN', 'OAK', 'SJC', 'SNA', 'SMF', \\\n",
    "        'ONT', 'BUR', 'LGB', 'PSP', 'FAT', 'SBA', 'MRY', 'STS', 'SBP', 'BFL', 'SCK', 'ACV']"
   ]
  },
  {
   "cell_type": "code",
   "execution_count": 54,
   "metadata": {},
   "outputs": [],
   "source": [
    "ours = pd.DataFrame(flights_df[(flights_df['schd_from'].isin(cali))])"
   ]
  },
  {
   "cell_type": "markdown",
   "metadata": {},
   "source": [
    "### Drop flights without an airport listed as the final destination"
   ]
  },
  {
   "cell_type": "code",
   "execution_count": 193,
   "metadata": {},
   "outputs": [],
   "source": [
    "ours = pd.DataFrame(ours.dropna(subset=['real_to']))"
   ]
  },
  {
   "cell_type": "code",
   "execution_count": 231,
   "metadata": {},
   "outputs": [],
   "source": [
    "ours_grouped = ours.groupby(['schd_from', 'date']).agg('size').reset_index(name='departures')"
   ]
  },
  {
   "cell_type": "code",
   "execution_count": 234,
   "metadata": {},
   "outputs": [],
   "source": [
    "ours_grouped_all = ours.groupby(['date']).agg('size').reset_index(name='departures')"
   ]
  },
  {
   "cell_type": "code",
   "execution_count": 238,
   "metadata": {},
   "outputs": [
    {
     "data": {
      "text/html": [
       "<div>\n",
       "<style scoped>\n",
       "    .dataframe tbody tr th:only-of-type {\n",
       "        vertical-align: middle;\n",
       "    }\n",
       "\n",
       "    .dataframe tbody tr th {\n",
       "        vertical-align: top;\n",
       "    }\n",
       "\n",
       "    .dataframe thead th {\n",
       "        text-align: right;\n",
       "    }\n",
       "</style>\n",
       "<table border=\"1\" class=\"dataframe\">\n",
       "  <thead>\n",
       "    <tr style=\"text-align: right;\">\n",
       "      <th></th>\n",
       "      <th>date</th>\n",
       "      <th>departures</th>\n",
       "    </tr>\n",
       "  </thead>\n",
       "  <tbody>\n",
       "    <tr>\n",
       "      <td>0</td>\n",
       "      <td>2020-01-07</td>\n",
       "      <td>4200</td>\n",
       "    </tr>\n",
       "    <tr>\n",
       "      <td>1</td>\n",
       "      <td>2020-01-14</td>\n",
       "      <td>4256</td>\n",
       "    </tr>\n",
       "    <tr>\n",
       "      <td>2</td>\n",
       "      <td>2020-01-21</td>\n",
       "      <td>4229</td>\n",
       "    </tr>\n",
       "    <tr>\n",
       "      <td>3</td>\n",
       "      <td>2020-01-28</td>\n",
       "      <td>4260</td>\n",
       "    </tr>\n",
       "    <tr>\n",
       "      <td>4</td>\n",
       "      <td>2020-02-03</td>\n",
       "      <td>3949</td>\n",
       "    </tr>\n",
       "    <tr>\n",
       "      <td>5</td>\n",
       "      <td>2020-02-10</td>\n",
       "      <td>4188</td>\n",
       "    </tr>\n",
       "    <tr>\n",
       "      <td>6</td>\n",
       "      <td>2020-02-17</td>\n",
       "      <td>4172</td>\n",
       "    </tr>\n",
       "    <tr>\n",
       "      <td>7</td>\n",
       "      <td>2020-02-24</td>\n",
       "      <td>4285</td>\n",
       "    </tr>\n",
       "    <tr>\n",
       "      <td>8</td>\n",
       "      <td>2020-03-03</td>\n",
       "      <td>4379</td>\n",
       "    </tr>\n",
       "    <tr>\n",
       "      <td>9</td>\n",
       "      <td>2020-03-10</td>\n",
       "      <td>4063</td>\n",
       "    </tr>\n",
       "    <tr>\n",
       "      <td>10</td>\n",
       "      <td>2020-03-17</td>\n",
       "      <td>3999</td>\n",
       "    </tr>\n",
       "    <tr>\n",
       "      <td>11</td>\n",
       "      <td>2020-03-24</td>\n",
       "      <td>2496</td>\n",
       "    </tr>\n",
       "    <tr>\n",
       "      <td>12</td>\n",
       "      <td>2020-03-31</td>\n",
       "      <td>2019</td>\n",
       "    </tr>\n",
       "    <tr>\n",
       "      <td>13</td>\n",
       "      <td>2020-04-07</td>\n",
       "      <td>1430</td>\n",
       "    </tr>\n",
       "  </tbody>\n",
       "</table>\n",
       "</div>"
      ],
      "text/plain": [
       "         date  departures\n",
       "0  2020-01-07        4200\n",
       "1  2020-01-14        4256\n",
       "2  2020-01-21        4229\n",
       "3  2020-01-28        4260\n",
       "4  2020-02-03        3949\n",
       "5  2020-02-10        4188\n",
       "6  2020-02-17        4172\n",
       "7  2020-02-24        4285\n",
       "8  2020-03-03        4379\n",
       "9  2020-03-10        4063\n",
       "10 2020-03-17        3999\n",
       "11 2020-03-24        2496\n",
       "12 2020-03-31        2019\n",
       "13 2020-04-07        1430"
      ]
     },
     "execution_count": 238,
     "metadata": {},
     "output_type": "execute_result"
    }
   ],
   "source": [
    "ours_grouped_all.head(20)"
   ]
  },
  {
   "cell_type": "code",
   "execution_count": 240,
   "metadata": {},
   "outputs": [
    {
     "data": {
      "text/plain": [
       "'-65.72%'"
      ]
     },
     "execution_count": 240,
     "metadata": {},
     "output_type": "execute_result"
    }
   ],
   "source": [
    "# change ALL\n",
    "'{:,.2f}%'.format(((ours_grouped_all.iloc[13,1] - ours_grouped_all.iloc[6,1])/ours_grouped_all.iloc[6,1]*100))"
   ]
  },
  {
   "cell_type": "code",
   "execution_count": 242,
   "metadata": {},
   "outputs": [
    {
     "data": {
      "text/plain": [
       "4172"
      ]
     },
     "execution_count": 242,
     "metadata": {},
     "output_type": "execute_result"
    }
   ],
   "source": [
    "ours_grouped_all.iloc[6,1]"
   ]
  },
  {
   "cell_type": "code",
   "execution_count": 196,
   "metadata": {},
   "outputs": [],
   "source": [
    "ours_pivot = pd.pivot_table(ours_grouped, values='departures', index=['date'],\n",
    "                    columns=['schd_from']).reset_index()\n"
   ]
  },
  {
   "cell_type": "code",
   "execution_count": 197,
   "metadata": {},
   "outputs": [
    {
     "data": {
      "text/html": [
       "<div>\n",
       "<style scoped>\n",
       "    .dataframe tbody tr th:only-of-type {\n",
       "        vertical-align: middle;\n",
       "    }\n",
       "\n",
       "    .dataframe tbody tr th {\n",
       "        vertical-align: top;\n",
       "    }\n",
       "\n",
       "    .dataframe thead th {\n",
       "        text-align: right;\n",
       "    }\n",
       "</style>\n",
       "<table border=\"1\" class=\"dataframe\">\n",
       "  <thead>\n",
       "    <tr style=\"text-align: right;\">\n",
       "      <th>schd_from</th>\n",
       "      <th>date</th>\n",
       "      <th>ACV</th>\n",
       "      <th>BFL</th>\n",
       "      <th>BUR</th>\n",
       "      <th>FAT</th>\n",
       "      <th>LAX</th>\n",
       "      <th>LGB</th>\n",
       "      <th>MRY</th>\n",
       "      <th>OAK</th>\n",
       "      <th>ONT</th>\n",
       "      <th>PSP</th>\n",
       "      <th>SAN</th>\n",
       "      <th>SBA</th>\n",
       "      <th>SBP</th>\n",
       "      <th>SCK</th>\n",
       "      <th>SFO</th>\n",
       "      <th>SJC</th>\n",
       "      <th>SMF</th>\n",
       "      <th>SNA</th>\n",
       "      <th>STS</th>\n",
       "    </tr>\n",
       "  </thead>\n",
       "  <tbody>\n",
       "    <tr>\n",
       "      <td>0</td>\n",
       "      <td>2020-01-07</td>\n",
       "      <td>14</td>\n",
       "      <td>41</td>\n",
       "      <td>179</td>\n",
       "      <td>63</td>\n",
       "      <td>1091</td>\n",
       "      <td>139</td>\n",
       "      <td>44</td>\n",
       "      <td>292</td>\n",
       "      <td>168</td>\n",
       "      <td>87</td>\n",
       "      <td>368</td>\n",
       "      <td>85</td>\n",
       "      <td>62</td>\n",
       "      <td>17</td>\n",
       "      <td>715</td>\n",
       "      <td>336</td>\n",
       "      <td>219</td>\n",
       "      <td>234</td>\n",
       "      <td>46</td>\n",
       "    </tr>\n",
       "    <tr>\n",
       "      <td>1</td>\n",
       "      <td>2020-01-14</td>\n",
       "      <td>19</td>\n",
       "      <td>76</td>\n",
       "      <td>163</td>\n",
       "      <td>77</td>\n",
       "      <td>1085</td>\n",
       "      <td>145</td>\n",
       "      <td>47</td>\n",
       "      <td>282</td>\n",
       "      <td>168</td>\n",
       "      <td>92</td>\n",
       "      <td>372</td>\n",
       "      <td>97</td>\n",
       "      <td>67</td>\n",
       "      <td>27</td>\n",
       "      <td>728</td>\n",
       "      <td>299</td>\n",
       "      <td>221</td>\n",
       "      <td>250</td>\n",
       "      <td>41</td>\n",
       "    </tr>\n",
       "    <tr>\n",
       "      <td>2</td>\n",
       "      <td>2020-01-21</td>\n",
       "      <td>18</td>\n",
       "      <td>78</td>\n",
       "      <td>178</td>\n",
       "      <td>80</td>\n",
       "      <td>1067</td>\n",
       "      <td>134</td>\n",
       "      <td>41</td>\n",
       "      <td>298</td>\n",
       "      <td>162</td>\n",
       "      <td>86</td>\n",
       "      <td>379</td>\n",
       "      <td>97</td>\n",
       "      <td>69</td>\n",
       "      <td>31</td>\n",
       "      <td>686</td>\n",
       "      <td>312</td>\n",
       "      <td>221</td>\n",
       "      <td>251</td>\n",
       "      <td>41</td>\n",
       "    </tr>\n",
       "    <tr>\n",
       "      <td>3</td>\n",
       "      <td>2020-01-28</td>\n",
       "      <td>16</td>\n",
       "      <td>67</td>\n",
       "      <td>174</td>\n",
       "      <td>87</td>\n",
       "      <td>1067</td>\n",
       "      <td>151</td>\n",
       "      <td>50</td>\n",
       "      <td>266</td>\n",
       "      <td>167</td>\n",
       "      <td>100</td>\n",
       "      <td>391</td>\n",
       "      <td>83</td>\n",
       "      <td>58</td>\n",
       "      <td>29</td>\n",
       "      <td>707</td>\n",
       "      <td>325</td>\n",
       "      <td>223</td>\n",
       "      <td>266</td>\n",
       "      <td>33</td>\n",
       "    </tr>\n",
       "    <tr>\n",
       "      <td>4</td>\n",
       "      <td>2020-02-03</td>\n",
       "      <td>11</td>\n",
       "      <td>53</td>\n",
       "      <td>172</td>\n",
       "      <td>62</td>\n",
       "      <td>1043</td>\n",
       "      <td>94</td>\n",
       "      <td>66</td>\n",
       "      <td>244</td>\n",
       "      <td>113</td>\n",
       "      <td>103</td>\n",
       "      <td>369</td>\n",
       "      <td>64</td>\n",
       "      <td>40</td>\n",
       "      <td>21</td>\n",
       "      <td>728</td>\n",
       "      <td>281</td>\n",
       "      <td>191</td>\n",
       "      <td>258</td>\n",
       "      <td>36</td>\n",
       "    </tr>\n",
       "    <tr>\n",
       "      <td>5</td>\n",
       "      <td>2020-02-10</td>\n",
       "      <td>15</td>\n",
       "      <td>47</td>\n",
       "      <td>158</td>\n",
       "      <td>83</td>\n",
       "      <td>1107</td>\n",
       "      <td>122</td>\n",
       "      <td>104</td>\n",
       "      <td>253</td>\n",
       "      <td>111</td>\n",
       "      <td>114</td>\n",
       "      <td>388</td>\n",
       "      <td>85</td>\n",
       "      <td>51</td>\n",
       "      <td>31</td>\n",
       "      <td>720</td>\n",
       "      <td>314</td>\n",
       "      <td>209</td>\n",
       "      <td>233</td>\n",
       "      <td>43</td>\n",
       "    </tr>\n",
       "    <tr>\n",
       "      <td>6</td>\n",
       "      <td>2020-02-17</td>\n",
       "      <td>13</td>\n",
       "      <td>41</td>\n",
       "      <td>169</td>\n",
       "      <td>61</td>\n",
       "      <td>1074</td>\n",
       "      <td>134</td>\n",
       "      <td>84</td>\n",
       "      <td>241</td>\n",
       "      <td>119</td>\n",
       "      <td>156</td>\n",
       "      <td>374</td>\n",
       "      <td>96</td>\n",
       "      <td>68</td>\n",
       "      <td>32</td>\n",
       "      <td>681</td>\n",
       "      <td>267</td>\n",
       "      <td>192</td>\n",
       "      <td>313</td>\n",
       "      <td>57</td>\n",
       "    </tr>\n",
       "    <tr>\n",
       "      <td>7</td>\n",
       "      <td>2020-02-24</td>\n",
       "      <td>14</td>\n",
       "      <td>54</td>\n",
       "      <td>162</td>\n",
       "      <td>74</td>\n",
       "      <td>1102</td>\n",
       "      <td>159</td>\n",
       "      <td>43</td>\n",
       "      <td>259</td>\n",
       "      <td>112</td>\n",
       "      <td>130</td>\n",
       "      <td>373</td>\n",
       "      <td>100</td>\n",
       "      <td>66</td>\n",
       "      <td>37</td>\n",
       "      <td>751</td>\n",
       "      <td>310</td>\n",
       "      <td>201</td>\n",
       "      <td>289</td>\n",
       "      <td>49</td>\n",
       "    </tr>\n",
       "    <tr>\n",
       "      <td>8</td>\n",
       "      <td>2020-03-03</td>\n",
       "      <td>17</td>\n",
       "      <td>69</td>\n",
       "      <td>168</td>\n",
       "      <td>89</td>\n",
       "      <td>1089</td>\n",
       "      <td>181</td>\n",
       "      <td>61</td>\n",
       "      <td>280</td>\n",
       "      <td>170</td>\n",
       "      <td>113</td>\n",
       "      <td>387</td>\n",
       "      <td>84</td>\n",
       "      <td>72</td>\n",
       "      <td>40</td>\n",
       "      <td>728</td>\n",
       "      <td>309</td>\n",
       "      <td>224</td>\n",
       "      <td>248</td>\n",
       "      <td>50</td>\n",
       "    </tr>\n",
       "    <tr>\n",
       "      <td>9</td>\n",
       "      <td>2020-03-10</td>\n",
       "      <td>15</td>\n",
       "      <td>64</td>\n",
       "      <td>165</td>\n",
       "      <td>77</td>\n",
       "      <td>1073</td>\n",
       "      <td>88</td>\n",
       "      <td>44</td>\n",
       "      <td>300</td>\n",
       "      <td>167</td>\n",
       "      <td>102</td>\n",
       "      <td>360</td>\n",
       "      <td>77</td>\n",
       "      <td>33</td>\n",
       "      <td>37</td>\n",
       "      <td>711</td>\n",
       "      <td>282</td>\n",
       "      <td>214</td>\n",
       "      <td>206</td>\n",
       "      <td>48</td>\n",
       "    </tr>\n",
       "    <tr>\n",
       "      <td>10</td>\n",
       "      <td>2020-03-17</td>\n",
       "      <td>13</td>\n",
       "      <td>40</td>\n",
       "      <td>154</td>\n",
       "      <td>69</td>\n",
       "      <td>1031</td>\n",
       "      <td>138</td>\n",
       "      <td>35</td>\n",
       "      <td>281</td>\n",
       "      <td>155</td>\n",
       "      <td>113</td>\n",
       "      <td>381</td>\n",
       "      <td>67</td>\n",
       "      <td>41</td>\n",
       "      <td>24</td>\n",
       "      <td>688</td>\n",
       "      <td>273</td>\n",
       "      <td>212</td>\n",
       "      <td>244</td>\n",
       "      <td>40</td>\n",
       "    </tr>\n",
       "    <tr>\n",
       "      <td>11</td>\n",
       "      <td>2020-03-24</td>\n",
       "      <td>11</td>\n",
       "      <td>37</td>\n",
       "      <td>77</td>\n",
       "      <td>48</td>\n",
       "      <td>687</td>\n",
       "      <td>88</td>\n",
       "      <td>21</td>\n",
       "      <td>182</td>\n",
       "      <td>137</td>\n",
       "      <td>62</td>\n",
       "      <td>238</td>\n",
       "      <td>42</td>\n",
       "      <td>32</td>\n",
       "      <td>5</td>\n",
       "      <td>373</td>\n",
       "      <td>169</td>\n",
       "      <td>155</td>\n",
       "      <td>111</td>\n",
       "      <td>21</td>\n",
       "    </tr>\n",
       "    <tr>\n",
       "      <td>12</td>\n",
       "      <td>2020-03-31</td>\n",
       "      <td>13</td>\n",
       "      <td>35</td>\n",
       "      <td>66</td>\n",
       "      <td>44</td>\n",
       "      <td>532</td>\n",
       "      <td>74</td>\n",
       "      <td>21</td>\n",
       "      <td>151</td>\n",
       "      <td>115</td>\n",
       "      <td>35</td>\n",
       "      <td>189</td>\n",
       "      <td>47</td>\n",
       "      <td>34</td>\n",
       "      <td>9</td>\n",
       "      <td>304</td>\n",
       "      <td>119</td>\n",
       "      <td>98</td>\n",
       "      <td>116</td>\n",
       "      <td>17</td>\n",
       "    </tr>\n",
       "    <tr>\n",
       "      <td>13</td>\n",
       "      <td>2020-04-07</td>\n",
       "      <td>6</td>\n",
       "      <td>26</td>\n",
       "      <td>48</td>\n",
       "      <td>37</td>\n",
       "      <td>386</td>\n",
       "      <td>38</td>\n",
       "      <td>13</td>\n",
       "      <td>119</td>\n",
       "      <td>110</td>\n",
       "      <td>22</td>\n",
       "      <td>135</td>\n",
       "      <td>27</td>\n",
       "      <td>23</td>\n",
       "      <td>6</td>\n",
       "      <td>190</td>\n",
       "      <td>75</td>\n",
       "      <td>95</td>\n",
       "      <td>52</td>\n",
       "      <td>22</td>\n",
       "    </tr>\n",
       "  </tbody>\n",
       "</table>\n",
       "</div>"
      ],
      "text/plain": [
       "schd_from       date  ACV  BFL  BUR  FAT   LAX  LGB  MRY  OAK  ONT  PSP  SAN  \\\n",
       "0         2020-01-07   14   41  179   63  1091  139   44  292  168   87  368   \n",
       "1         2020-01-14   19   76  163   77  1085  145   47  282  168   92  372   \n",
       "2         2020-01-21   18   78  178   80  1067  134   41  298  162   86  379   \n",
       "3         2020-01-28   16   67  174   87  1067  151   50  266  167  100  391   \n",
       "4         2020-02-03   11   53  172   62  1043   94   66  244  113  103  369   \n",
       "5         2020-02-10   15   47  158   83  1107  122  104  253  111  114  388   \n",
       "6         2020-02-17   13   41  169   61  1074  134   84  241  119  156  374   \n",
       "7         2020-02-24   14   54  162   74  1102  159   43  259  112  130  373   \n",
       "8         2020-03-03   17   69  168   89  1089  181   61  280  170  113  387   \n",
       "9         2020-03-10   15   64  165   77  1073   88   44  300  167  102  360   \n",
       "10        2020-03-17   13   40  154   69  1031  138   35  281  155  113  381   \n",
       "11        2020-03-24   11   37   77   48   687   88   21  182  137   62  238   \n",
       "12        2020-03-31   13   35   66   44   532   74   21  151  115   35  189   \n",
       "13        2020-04-07    6   26   48   37   386   38   13  119  110   22  135   \n",
       "\n",
       "schd_from  SBA  SBP  SCK  SFO  SJC  SMF  SNA  STS  \n",
       "0           85   62   17  715  336  219  234   46  \n",
       "1           97   67   27  728  299  221  250   41  \n",
       "2           97   69   31  686  312  221  251   41  \n",
       "3           83   58   29  707  325  223  266   33  \n",
       "4           64   40   21  728  281  191  258   36  \n",
       "5           85   51   31  720  314  209  233   43  \n",
       "6           96   68   32  681  267  192  313   57  \n",
       "7          100   66   37  751  310  201  289   49  \n",
       "8           84   72   40  728  309  224  248   50  \n",
       "9           77   33   37  711  282  214  206   48  \n",
       "10          67   41   24  688  273  212  244   40  \n",
       "11          42   32    5  373  169  155  111   21  \n",
       "12          47   34    9  304  119   98  116   17  \n",
       "13          27   23    6  190   75   95   52   22  "
      ]
     },
     "execution_count": 197,
     "metadata": {},
     "output_type": "execute_result"
    }
   ],
   "source": [
    "ours_pivot.head(30)"
   ]
  },
  {
   "cell_type": "code",
   "execution_count": null,
   "metadata": {},
   "outputs": [],
   "source": [
    "ours_grouped = ours.groupby(['date', 'schd_from']).agg('size').reset_index(name='departures')"
   ]
  },
  {
   "cell_type": "code",
   "execution_count": 230,
   "metadata": {},
   "outputs": [
    {
     "data": {
      "text/plain": [
       "'-64.06%'"
      ]
     },
     "execution_count": 230,
     "metadata": {},
     "output_type": "execute_result"
    }
   ],
   "source": [
    "# change LAX\n",
    "'{:,.2f}%'.format(((ours_pivot.iloc[13,5] - ours_pivot.iloc[6,5])/ours_pivot.iloc[6,5]*100))"
   ]
  },
  {
   "cell_type": "code",
   "execution_count": 226,
   "metadata": {},
   "outputs": [
    {
     "data": {
      "text/plain": [
       "'-83.39%'"
      ]
     },
     "execution_count": 226,
     "metadata": {},
     "output_type": "execute_result"
    }
   ],
   "source": [
    "# change SNA\n",
    "'{:,.2f}%'.format(((ours_pivot.iloc[13,18] - ours_pivot.iloc[6,18])/ours_pivot.iloc[6,18]*100))"
   ]
  },
  {
   "cell_type": "code",
   "execution_count": 228,
   "metadata": {},
   "outputs": [
    {
     "data": {
      "text/plain": [
       "'-71.60%'"
      ]
     },
     "execution_count": 228,
     "metadata": {},
     "output_type": "execute_result"
    }
   ],
   "source": [
    "# change BUR\n",
    "'{:,.2f}%'.format(((ours_pivot.iloc[13,3] - ours_pivot.iloc[6,3])/ours_pivot.iloc[6,3]*100))"
   ]
  },
  {
   "cell_type": "code",
   "execution_count": 229,
   "metadata": {},
   "outputs": [
    {
     "data": {
      "text/plain": [
       "'-72.10%'"
      ]
     },
     "execution_count": 229,
     "metadata": {},
     "output_type": "execute_result"
    }
   ],
   "source": [
    "# change SFO\n",
    "'{:,.2f}%'.format(((ours_pivot.iloc[13,15] - ours_pivot.iloc[6,15])/ours_pivot.iloc[6,15]*100))"
   ]
  },
  {
   "cell_type": "code",
   "execution_count": 58,
   "metadata": {},
   "outputs": [
    {
     "data": {
      "text/plain": [
       "LAX    13434\n",
       "SFO     8710\n",
       "SAN     4704\n",
       "SJC     3671\n",
       "OAK     3448\n",
       "SNA     3071\n",
       "SMF     2675\n",
       "BUR     2033\n",
       "ONT     1974\n",
       "LGB     1685\n",
       "PSP     1315\n",
       "SBA     1051\n",
       "FAT      951\n",
       "BFL      728\n",
       "SBP      716\n",
       "MRY      674\n",
       "STS      544\n",
       "SCK      346\n",
       "ACV      195\n",
       "Name: schd_from, dtype: int64"
      ]
     },
     "execution_count": 58,
     "metadata": {},
     "output_type": "execute_result"
    }
   ],
   "source": [
    "ours.schd_from.value_counts()"
   ]
  },
  {
   "cell_type": "markdown",
   "metadata": {},
   "source": [
    "### Make the flight id a string merge later"
   ]
  },
  {
   "cell_type": "code",
   "execution_count": 59,
   "metadata": {},
   "outputs": [],
   "source": [
    "ours['flight_id'] = ours['flight_id'].astype(str)"
   ]
  },
  {
   "cell_type": "code",
   "execution_count": 60,
   "metadata": {},
   "outputs": [],
   "source": [
    "ours_slim = ours[['flight_id', 'reg', 'equip', 'flight', 'schd_from', 'real_to', 'name']]"
   ]
  },
  {
   "cell_type": "code",
   "execution_count": 61,
   "metadata": {},
   "outputs": [
    {
     "data": {
      "text/html": [
       "<div>\n",
       "<style scoped>\n",
       "    .dataframe tbody tr th:only-of-type {\n",
       "        vertical-align: middle;\n",
       "    }\n",
       "\n",
       "    .dataframe tbody tr th {\n",
       "        vertical-align: top;\n",
       "    }\n",
       "\n",
       "    .dataframe thead th {\n",
       "        text-align: right;\n",
       "    }\n",
       "</style>\n",
       "<table border=\"1\" class=\"dataframe\">\n",
       "  <thead>\n",
       "    <tr style=\"text-align: right;\">\n",
       "      <th></th>\n",
       "      <th>flight_id</th>\n",
       "      <th>reg</th>\n",
       "      <th>equip</th>\n",
       "      <th>flight</th>\n",
       "      <th>schd_from</th>\n",
       "      <th>real_to</th>\n",
       "      <th>name</th>\n",
       "    </tr>\n",
       "  </thead>\n",
       "  <tbody>\n",
       "    <tr>\n",
       "      <td>70</td>\n",
       "      <td>608290635</td>\n",
       "      <td>9VSGC</td>\n",
       "      <td>A359</td>\n",
       "      <td>SQ37</td>\n",
       "      <td>LAX</td>\n",
       "      <td>SIN</td>\n",
       "      <td>NaN</td>\n",
       "    </tr>\n",
       "    <tr>\n",
       "      <td>116</td>\n",
       "      <td>608308449</td>\n",
       "      <td>HL7639</td>\n",
       "      <td>B748</td>\n",
       "      <td>KE214</td>\n",
       "      <td>SFO</td>\n",
       "      <td>ICN</td>\n",
       "      <td>NaN</td>\n",
       "    </tr>\n",
       "    <tr>\n",
       "      <td>149</td>\n",
       "      <td>608304259</td>\n",
       "      <td>B18715</td>\n",
       "      <td>B744</td>\n",
       "      <td>CI5137</td>\n",
       "      <td>LAX</td>\n",
       "      <td>TPE</td>\n",
       "      <td>NaN</td>\n",
       "    </tr>\n",
       "    <tr>\n",
       "      <td>175</td>\n",
       "      <td>608305412</td>\n",
       "      <td>N26232</td>\n",
       "      <td>B738</td>\n",
       "      <td>UA292</td>\n",
       "      <td>SFO</td>\n",
       "      <td>MCO</td>\n",
       "      <td>UNITED AIRLINES</td>\n",
       "    </tr>\n",
       "    <tr>\n",
       "      <td>351</td>\n",
       "      <td>608319946</td>\n",
       "      <td>N121DU</td>\n",
       "      <td>BCS1</td>\n",
       "      <td>DL2703</td>\n",
       "      <td>SFO</td>\n",
       "      <td>SEA</td>\n",
       "      <td>DELTA AIR LINES</td>\n",
       "    </tr>\n",
       "    <tr>\n",
       "      <td>...</td>\n",
       "      <td>...</td>\n",
       "      <td>...</td>\n",
       "      <td>...</td>\n",
       "      <td>...</td>\n",
       "      <td>...</td>\n",
       "      <td>...</td>\n",
       "      <td>...</td>\n",
       "    </tr>\n",
       "    <tr>\n",
       "      <td>2150963</td>\n",
       "      <td>599765120</td>\n",
       "      <td>N281WN</td>\n",
       "      <td>B737</td>\n",
       "      <td>WN1780</td>\n",
       "      <td>SAN</td>\n",
       "      <td>SFO</td>\n",
       "      <td>SOUTHWEST AIRLINES</td>\n",
       "    </tr>\n",
       "    <tr>\n",
       "      <td>2150997</td>\n",
       "      <td>599765279</td>\n",
       "      <td>N8685B</td>\n",
       "      <td>B738</td>\n",
       "      <td>WN1533</td>\n",
       "      <td>SMF</td>\n",
       "      <td>SAN</td>\n",
       "      <td>SOUTHWEST AIRLINES</td>\n",
       "    </tr>\n",
       "    <tr>\n",
       "      <td>2151053</td>\n",
       "      <td>599765263</td>\n",
       "      <td>N105DU</td>\n",
       "      <td>BCS1</td>\n",
       "      <td>DL1550</td>\n",
       "      <td>SJC</td>\n",
       "      <td>SEA</td>\n",
       "      <td>DELTA AIR LINES</td>\n",
       "    </tr>\n",
       "    <tr>\n",
       "      <td>2151058</td>\n",
       "      <td>599765246</td>\n",
       "      <td>N400WN</td>\n",
       "      <td>B737</td>\n",
       "      <td>WN1465</td>\n",
       "      <td>SJC</td>\n",
       "      <td>BUR</td>\n",
       "      <td>SOUTHWEST AIRLINES</td>\n",
       "    </tr>\n",
       "    <tr>\n",
       "      <td>2151072</td>\n",
       "      <td>599765272</td>\n",
       "      <td>N769SW</td>\n",
       "      <td>B737</td>\n",
       "      <td>WN1767</td>\n",
       "      <td>SJC</td>\n",
       "      <td>LGB</td>\n",
       "      <td>SOUTHWEST AIRLINES</td>\n",
       "    </tr>\n",
       "  </tbody>\n",
       "</table>\n",
       "<p>51925 rows × 7 columns</p>\n",
       "</div>"
      ],
      "text/plain": [
       "         flight_id     reg equip  flight schd_from real_to                name\n",
       "70       608290635   9VSGC  A359    SQ37       LAX     SIN                 NaN\n",
       "116      608308449  HL7639  B748   KE214       SFO     ICN                 NaN\n",
       "149      608304259  B18715  B744  CI5137       LAX     TPE                 NaN\n",
       "175      608305412  N26232  B738   UA292       SFO     MCO     UNITED AIRLINES\n",
       "351      608319946  N121DU  BCS1  DL2703       SFO     SEA     DELTA AIR LINES\n",
       "...            ...     ...   ...     ...       ...     ...                 ...\n",
       "2150963  599765120  N281WN  B737  WN1780       SAN     SFO  SOUTHWEST AIRLINES\n",
       "2150997  599765279  N8685B  B738  WN1533       SMF     SAN  SOUTHWEST AIRLINES\n",
       "2151053  599765263  N105DU  BCS1  DL1550       SJC     SEA     DELTA AIR LINES\n",
       "2151058  599765246  N400WN  B737  WN1465       SJC     BUR  SOUTHWEST AIRLINES\n",
       "2151072  599765272  N769SW  B737  WN1767       SJC     LGB  SOUTHWEST AIRLINES\n",
       "\n",
       "[51925 rows x 7 columns]"
      ]
     },
     "execution_count": 61,
     "metadata": {},
     "output_type": "execute_result"
    }
   ],
   "source": [
    "ours_slim"
   ]
  },
  {
   "cell_type": "code",
   "execution_count": 62,
   "metadata": {},
   "outputs": [],
   "source": [
    "ours_slim.to_csv('output/ours.csv')"
   ]
  },
  {
   "cell_type": "markdown",
   "metadata": {},
   "source": [
    "---"
   ]
  },
  {
   "cell_type": "markdown",
   "metadata": {},
   "source": [
    "## Process 'positions' data showing each point along a flight"
   ]
  },
  {
   "cell_type": "code",
   "execution_count": 63,
   "metadata": {},
   "outputs": [
    {
     "data": {
      "text/html": [
       "<div>\n",
       "<style scoped>\n",
       "    .dataframe tbody tr th:only-of-type {\n",
       "        vertical-align: middle;\n",
       "    }\n",
       "\n",
       "    .dataframe tbody tr th {\n",
       "        vertical-align: top;\n",
       "    }\n",
       "\n",
       "    .dataframe thead th {\n",
       "        text-align: right;\n",
       "    }\n",
       "</style>\n",
       "<table border=\"1\" class=\"dataframe\">\n",
       "  <thead>\n",
       "    <tr style=\"text-align: right;\">\n",
       "      <th></th>\n",
       "      <th>snapshot_id</th>\n",
       "      <th>altitude</th>\n",
       "      <th>heading</th>\n",
       "      <th>latitude</th>\n",
       "      <th>longitude</th>\n",
       "      <th>radar_id</th>\n",
       "      <th>speed</th>\n",
       "      <th>squawk</th>\n",
       "    </tr>\n",
       "  </thead>\n",
       "  <tbody>\n",
       "    <tr>\n",
       "      <td>0</td>\n",
       "      <td>1581908696</td>\n",
       "      <td>0</td>\n",
       "      <td>295</td>\n",
       "      <td>38.74120</td>\n",
       "      <td>-90.35629</td>\n",
       "      <td>5798</td>\n",
       "      <td>18</td>\n",
       "      <td>0</td>\n",
       "    </tr>\n",
       "    <tr>\n",
       "      <td>1</td>\n",
       "      <td>1581908707</td>\n",
       "      <td>0</td>\n",
       "      <td>296</td>\n",
       "      <td>38.74166</td>\n",
       "      <td>-90.35723</td>\n",
       "      <td>5798</td>\n",
       "      <td>0</td>\n",
       "      <td>0</td>\n",
       "    </tr>\n",
       "    <tr>\n",
       "      <td>2</td>\n",
       "      <td>1581908716</td>\n",
       "      <td>0</td>\n",
       "      <td>289</td>\n",
       "      <td>38.74215</td>\n",
       "      <td>-90.35832</td>\n",
       "      <td>5798</td>\n",
       "      <td>0</td>\n",
       "      <td>0</td>\n",
       "    </tr>\n",
       "    <tr>\n",
       "      <td>3</td>\n",
       "      <td>1581908726</td>\n",
       "      <td>0</td>\n",
       "      <td>300</td>\n",
       "      <td>38.74275</td>\n",
       "      <td>-90.35944</td>\n",
       "      <td>5798</td>\n",
       "      <td>0</td>\n",
       "      <td>0</td>\n",
       "    </tr>\n",
       "    <tr>\n",
       "      <td>4</td>\n",
       "      <td>1581908736</td>\n",
       "      <td>0</td>\n",
       "      <td>305</td>\n",
       "      <td>38.74332</td>\n",
       "      <td>-90.36056</td>\n",
       "      <td>5798</td>\n",
       "      <td>24</td>\n",
       "      <td>0</td>\n",
       "    </tr>\n",
       "  </tbody>\n",
       "</table>\n",
       "</div>"
      ],
      "text/plain": [
       "   snapshot_id  altitude  heading  latitude  longitude  radar_id  speed  \\\n",
       "0   1581908696         0      295  38.74120  -90.35629      5798     18   \n",
       "1   1581908707         0      296  38.74166  -90.35723      5798      0   \n",
       "2   1581908716         0      289  38.74215  -90.35832      5798      0   \n",
       "3   1581908726         0      300  38.74275  -90.35944      5798      0   \n",
       "4   1581908736         0      305  38.74332  -90.36056      5798     24   \n",
       "\n",
       "   squawk  \n",
       "0       0  \n",
       "1       0  \n",
       "2       0  \n",
       "3       0  \n",
       "4       0  "
      ]
     },
     "execution_count": 63,
     "metadata": {},
     "output_type": "execute_result"
    }
   ],
   "source": [
    "a_position = pd.read_csv('/Users/mhustiles/data/data/flights/coronavirus/\\\n",
    "positions/20200217_positions/20200217_602122877.csv')\n",
    "a_position.head()"
   ]
  },
  {
   "cell_type": "markdown",
   "metadata": {},
   "source": [
    "### Set path for our targeted positions directory and define the files we'll concatenate"
   ]
  },
  {
   "cell_type": "code",
   "execution_count": 64,
   "metadata": {},
   "outputs": [],
   "source": [
    "path = '/Users/mhustiles/data/data/flights/coronavirus/positions/'\n",
    "files = glob.glob(os.path.join(path, \"*/*.csv\"), recursive=True)"
   ]
  },
  {
   "cell_type": "code",
   "execution_count": 65,
   "metadata": {},
   "outputs": [],
   "source": [
    "file_df = (pd.read_csv(f, encoding = \"ISO-8859-1\", low_memory=False)\\\n",
    "           .assign(flightid=os.path.basename(f)) for f in files)"
   ]
  },
  {
   "cell_type": "markdown",
   "metadata": {},
   "source": [
    "### Concateate the frames"
   ]
  },
  {
   "cell_type": "code",
   "execution_count": 66,
   "metadata": {},
   "outputs": [],
   "source": [
    "positions_df = pd.concat(file_df, ignore_index=True)"
   ]
  },
  {
   "cell_type": "code",
   "execution_count": 67,
   "metadata": {},
   "outputs": [
    {
     "data": {
      "text/html": [
       "<div>\n",
       "<style scoped>\n",
       "    .dataframe tbody tr th:only-of-type {\n",
       "        vertical-align: middle;\n",
       "    }\n",
       "\n",
       "    .dataframe tbody tr th {\n",
       "        vertical-align: top;\n",
       "    }\n",
       "\n",
       "    .dataframe thead th {\n",
       "        text-align: right;\n",
       "    }\n",
       "</style>\n",
       "<table border=\"1\" class=\"dataframe\">\n",
       "  <thead>\n",
       "    <tr style=\"text-align: right;\">\n",
       "      <th></th>\n",
       "      <th>snapshot_id</th>\n",
       "      <th>altitude</th>\n",
       "      <th>heading</th>\n",
       "      <th>latitude</th>\n",
       "      <th>longitude</th>\n",
       "      <th>radar_id</th>\n",
       "      <th>speed</th>\n",
       "      <th>squawk</th>\n",
       "      <th>flightid</th>\n",
       "    </tr>\n",
       "  </thead>\n",
       "  <tbody>\n",
       "    <tr>\n",
       "      <td>0</td>\n",
       "      <td>1586242630</td>\n",
       "      <td>0</td>\n",
       "      <td>99</td>\n",
       "      <td>22.29726</td>\n",
       "      <td>113.91716</td>\n",
       "      <td>22825</td>\n",
       "      <td>0</td>\n",
       "      <td>0</td>\n",
       "      <td>20200407_609507281.csv</td>\n",
       "    </tr>\n",
       "    <tr>\n",
       "      <td>1</td>\n",
       "      <td>1586242699</td>\n",
       "      <td>0</td>\n",
       "      <td>39</td>\n",
       "      <td>22.29724</td>\n",
       "      <td>113.91737</td>\n",
       "      <td>2892</td>\n",
       "      <td>0</td>\n",
       "      <td>2000</td>\n",
       "      <td>20200407_609507281.csv</td>\n",
       "    </tr>\n",
       "    <tr>\n",
       "      <td>2</td>\n",
       "      <td>1586242785</td>\n",
       "      <td>0</td>\n",
       "      <td>277</td>\n",
       "      <td>22.29727</td>\n",
       "      <td>113.91712</td>\n",
       "      <td>2892</td>\n",
       "      <td>2</td>\n",
       "      <td>2000</td>\n",
       "      <td>20200407_609507281.csv</td>\n",
       "    </tr>\n",
       "    <tr>\n",
       "      <td>3</td>\n",
       "      <td>1586242821</td>\n",
       "      <td>0</td>\n",
       "      <td>99</td>\n",
       "      <td>22.29723</td>\n",
       "      <td>113.91735</td>\n",
       "      <td>2892</td>\n",
       "      <td>0</td>\n",
       "      <td>2000</td>\n",
       "      <td>20200407_609507281.csv</td>\n",
       "    </tr>\n",
       "    <tr>\n",
       "      <td>4</td>\n",
       "      <td>1586242899</td>\n",
       "      <td>0</td>\n",
       "      <td>234</td>\n",
       "      <td>22.29707</td>\n",
       "      <td>113.91712</td>\n",
       "      <td>2892</td>\n",
       "      <td>0</td>\n",
       "      <td>2000</td>\n",
       "      <td>20200407_609507281.csv</td>\n",
       "    </tr>\n",
       "  </tbody>\n",
       "</table>\n",
       "</div>"
      ],
      "text/plain": [
       "   snapshot_id  altitude  heading  latitude  longitude  radar_id  speed  \\\n",
       "0   1586242630         0       99  22.29726  113.91716     22825      0   \n",
       "1   1586242699         0       39  22.29724  113.91737      2892      0   \n",
       "2   1586242785         0      277  22.29727  113.91712      2892      2   \n",
       "3   1586242821         0       99  22.29723  113.91735      2892      0   \n",
       "4   1586242899         0      234  22.29707  113.91712      2892      0   \n",
       "\n",
       "   squawk                flightid  \n",
       "0       0  20200407_609507281.csv  \n",
       "1    2000  20200407_609507281.csv  \n",
       "2    2000  20200407_609507281.csv  \n",
       "3    2000  20200407_609507281.csv  \n",
       "4    2000  20200407_609507281.csv  "
      ]
     },
     "execution_count": 67,
     "metadata": {},
     "output_type": "execute_result"
    }
   ],
   "source": [
    "positions_df.head()"
   ]
  },
  {
   "cell_type": "code",
   "execution_count": 68,
   "metadata": {},
   "outputs": [
    {
     "data": {
      "text/plain": [
       "48412520"
      ]
     },
     "execution_count": 68,
     "metadata": {},
     "output_type": "execute_result"
    }
   ],
   "source": [
    "len(positions_df)"
   ]
  },
  {
   "cell_type": "markdown",
   "metadata": {},
   "source": [
    "### Combined our newly processed flight positions"
   ]
  },
  {
   "cell_type": "code",
   "execution_count": 69,
   "metadata": {},
   "outputs": [],
   "source": [
    "positions_df['flightid'] = positions_df['flightid'].str.replace('.csv','')"
   ]
  },
  {
   "cell_type": "markdown",
   "metadata": {},
   "source": [
    "### Split the flightid field so we have a date string to convert later and also a flightid"
   ]
  },
  {
   "cell_type": "code",
   "execution_count": 70,
   "metadata": {},
   "outputs": [],
   "source": [
    "positions_df[['datestr','flight_id']] = positions_df.flightid.str.split(\"_\",expand=True,)"
   ]
  },
  {
   "cell_type": "code",
   "execution_count": 71,
   "metadata": {},
   "outputs": [
    {
     "data": {
      "text/plain": [
       "48412520"
      ]
     },
     "execution_count": 71,
     "metadata": {},
     "output_type": "execute_result"
    }
   ],
   "source": [
    "len(positions_df)"
   ]
  },
  {
   "cell_type": "code",
   "execution_count": 72,
   "metadata": {},
   "outputs": [
    {
     "data": {
      "text/html": [
       "<div>\n",
       "<style scoped>\n",
       "    .dataframe tbody tr th:only-of-type {\n",
       "        vertical-align: middle;\n",
       "    }\n",
       "\n",
       "    .dataframe tbody tr th {\n",
       "        vertical-align: top;\n",
       "    }\n",
       "\n",
       "    .dataframe thead th {\n",
       "        text-align: right;\n",
       "    }\n",
       "</style>\n",
       "<table border=\"1\" class=\"dataframe\">\n",
       "  <thead>\n",
       "    <tr style=\"text-align: right;\">\n",
       "      <th></th>\n",
       "      <th>snapshot_id</th>\n",
       "      <th>altitude</th>\n",
       "      <th>heading</th>\n",
       "      <th>latitude</th>\n",
       "      <th>longitude</th>\n",
       "      <th>radar_id</th>\n",
       "      <th>speed</th>\n",
       "      <th>squawk</th>\n",
       "      <th>flightid</th>\n",
       "      <th>datestr</th>\n",
       "      <th>flight_id</th>\n",
       "    </tr>\n",
       "  </thead>\n",
       "  <tbody>\n",
       "    <tr>\n",
       "      <td>0</td>\n",
       "      <td>1586242630</td>\n",
       "      <td>0</td>\n",
       "      <td>99</td>\n",
       "      <td>22.29726</td>\n",
       "      <td>113.91716</td>\n",
       "      <td>22825</td>\n",
       "      <td>0</td>\n",
       "      <td>0</td>\n",
       "      <td>20200407_609507281</td>\n",
       "      <td>20200407</td>\n",
       "      <td>609507281</td>\n",
       "    </tr>\n",
       "    <tr>\n",
       "      <td>1</td>\n",
       "      <td>1586242699</td>\n",
       "      <td>0</td>\n",
       "      <td>39</td>\n",
       "      <td>22.29724</td>\n",
       "      <td>113.91737</td>\n",
       "      <td>2892</td>\n",
       "      <td>0</td>\n",
       "      <td>2000</td>\n",
       "      <td>20200407_609507281</td>\n",
       "      <td>20200407</td>\n",
       "      <td>609507281</td>\n",
       "    </tr>\n",
       "    <tr>\n",
       "      <td>2</td>\n",
       "      <td>1586242785</td>\n",
       "      <td>0</td>\n",
       "      <td>277</td>\n",
       "      <td>22.29727</td>\n",
       "      <td>113.91712</td>\n",
       "      <td>2892</td>\n",
       "      <td>2</td>\n",
       "      <td>2000</td>\n",
       "      <td>20200407_609507281</td>\n",
       "      <td>20200407</td>\n",
       "      <td>609507281</td>\n",
       "    </tr>\n",
       "    <tr>\n",
       "      <td>3</td>\n",
       "      <td>1586242821</td>\n",
       "      <td>0</td>\n",
       "      <td>99</td>\n",
       "      <td>22.29723</td>\n",
       "      <td>113.91735</td>\n",
       "      <td>2892</td>\n",
       "      <td>0</td>\n",
       "      <td>2000</td>\n",
       "      <td>20200407_609507281</td>\n",
       "      <td>20200407</td>\n",
       "      <td>609507281</td>\n",
       "    </tr>\n",
       "    <tr>\n",
       "      <td>4</td>\n",
       "      <td>1586242899</td>\n",
       "      <td>0</td>\n",
       "      <td>234</td>\n",
       "      <td>22.29707</td>\n",
       "      <td>113.91712</td>\n",
       "      <td>2892</td>\n",
       "      <td>0</td>\n",
       "      <td>2000</td>\n",
       "      <td>20200407_609507281</td>\n",
       "      <td>20200407</td>\n",
       "      <td>609507281</td>\n",
       "    </tr>\n",
       "  </tbody>\n",
       "</table>\n",
       "</div>"
      ],
      "text/plain": [
       "   snapshot_id  altitude  heading  latitude  longitude  radar_id  speed  \\\n",
       "0   1586242630         0       99  22.29726  113.91716     22825      0   \n",
       "1   1586242699         0       39  22.29724  113.91737      2892      0   \n",
       "2   1586242785         0      277  22.29727  113.91712      2892      2   \n",
       "3   1586242821         0       99  22.29723  113.91735      2892      0   \n",
       "4   1586242899         0      234  22.29707  113.91712      2892      0   \n",
       "\n",
       "   squawk            flightid   datestr  flight_id  \n",
       "0       0  20200407_609507281  20200407  609507281  \n",
       "1    2000  20200407_609507281  20200407  609507281  \n",
       "2    2000  20200407_609507281  20200407  609507281  \n",
       "3    2000  20200407_609507281  20200407  609507281  \n",
       "4    2000  20200407_609507281  20200407  609507281  "
      ]
     },
     "execution_count": 72,
     "metadata": {},
     "output_type": "execute_result"
    }
   ],
   "source": [
    "positions_df.head()"
   ]
  },
  {
   "cell_type": "markdown",
   "metadata": {},
   "source": [
    "### Merge and filter positions data to flights departing just our four airports"
   ]
  },
  {
   "cell_type": "code",
   "execution_count": 73,
   "metadata": {},
   "outputs": [],
   "source": [
    "our_positions = ours_slim.merge(positions_df, on='flight_id', how='inner')"
   ]
  },
  {
   "cell_type": "code",
   "execution_count": 74,
   "metadata": {},
   "outputs": [
    {
     "data": {
      "text/plain": [
       "1450700"
      ]
     },
     "execution_count": 74,
     "metadata": {},
     "output_type": "execute_result"
    }
   ],
   "source": [
    "len(our_positions)"
   ]
  },
  {
   "cell_type": "markdown",
   "metadata": {},
   "source": [
    "---"
   ]
  },
  {
   "cell_type": "markdown",
   "metadata": {},
   "source": [
    "### Process the 'datestr' field into something we can use"
   ]
  },
  {
   "cell_type": "code",
   "execution_count": 75,
   "metadata": {},
   "outputs": [
    {
     "data": {
      "text/html": [
       "<div>\n",
       "<style scoped>\n",
       "    .dataframe tbody tr th:only-of-type {\n",
       "        vertical-align: middle;\n",
       "    }\n",
       "\n",
       "    .dataframe tbody tr th {\n",
       "        vertical-align: top;\n",
       "    }\n",
       "\n",
       "    .dataframe thead th {\n",
       "        text-align: right;\n",
       "    }\n",
       "</style>\n",
       "<table border=\"1\" class=\"dataframe\">\n",
       "  <thead>\n",
       "    <tr style=\"text-align: right;\">\n",
       "      <th></th>\n",
       "      <th>flight_id</th>\n",
       "      <th>reg</th>\n",
       "      <th>equip</th>\n",
       "      <th>flight</th>\n",
       "      <th>schd_from</th>\n",
       "      <th>real_to</th>\n",
       "      <th>name</th>\n",
       "      <th>snapshot_id</th>\n",
       "      <th>altitude</th>\n",
       "      <th>heading</th>\n",
       "      <th>latitude</th>\n",
       "      <th>longitude</th>\n",
       "      <th>radar_id</th>\n",
       "      <th>speed</th>\n",
       "      <th>squawk</th>\n",
       "      <th>flightid</th>\n",
       "      <th>datestr</th>\n",
       "    </tr>\n",
       "  </thead>\n",
       "  <tbody>\n",
       "    <tr>\n",
       "      <td>0</td>\n",
       "      <td>601998047</td>\n",
       "      <td>HL7413</td>\n",
       "      <td>B744</td>\n",
       "      <td>OZ285</td>\n",
       "      <td>SFO</td>\n",
       "      <td>ICN</td>\n",
       "      <td>NaN</td>\n",
       "      <td>1581897680</td>\n",
       "      <td>0</td>\n",
       "      <td>25</td>\n",
       "      <td>37.46589</td>\n",
       "      <td>126.46249</td>\n",
       "      <td>41014</td>\n",
       "      <td>0</td>\n",
       "      <td>3302</td>\n",
       "      <td>20200217_601998047</td>\n",
       "      <td>20200217</td>\n",
       "    </tr>\n",
       "    <tr>\n",
       "      <td>1</td>\n",
       "      <td>602018853</td>\n",
       "      <td>JA11KZ</td>\n",
       "      <td>B748</td>\n",
       "      <td>KZ101</td>\n",
       "      <td>LAX</td>\n",
       "      <td>NRT</td>\n",
       "      <td>NaN</td>\n",
       "      <td>1581899760</td>\n",
       "      <td>36000</td>\n",
       "      <td>224</td>\n",
       "      <td>41.86270</td>\n",
       "      <td>148.38032</td>\n",
       "      <td>2953</td>\n",
       "      <td>387</td>\n",
       "      <td>6207</td>\n",
       "      <td>20200217_602018853</td>\n",
       "      <td>20200217</td>\n",
       "    </tr>\n",
       "    <tr>\n",
       "      <td>2</td>\n",
       "      <td>602018853</td>\n",
       "      <td>JA11KZ</td>\n",
       "      <td>B748</td>\n",
       "      <td>KZ101</td>\n",
       "      <td>LAX</td>\n",
       "      <td>NRT</td>\n",
       "      <td>NaN</td>\n",
       "      <td>1581899794</td>\n",
       "      <td>36000</td>\n",
       "      <td>224</td>\n",
       "      <td>41.81955</td>\n",
       "      <td>148.32317</td>\n",
       "      <td>2953</td>\n",
       "      <td>386</td>\n",
       "      <td>6207</td>\n",
       "      <td>20200217_602018853</td>\n",
       "      <td>20200217</td>\n",
       "    </tr>\n",
       "    <tr>\n",
       "      <td>3</td>\n",
       "      <td>602018853</td>\n",
       "      <td>JA11KZ</td>\n",
       "      <td>B748</td>\n",
       "      <td>KZ101</td>\n",
       "      <td>LAX</td>\n",
       "      <td>NRT</td>\n",
       "      <td>NaN</td>\n",
       "      <td>1581899888</td>\n",
       "      <td>36000</td>\n",
       "      <td>223</td>\n",
       "      <td>41.70224</td>\n",
       "      <td>148.16896</td>\n",
       "      <td>8695</td>\n",
       "      <td>384</td>\n",
       "      <td>2000</td>\n",
       "      <td>20200217_602018853</td>\n",
       "      <td>20200217</td>\n",
       "    </tr>\n",
       "    <tr>\n",
       "      <td>4</td>\n",
       "      <td>602018853</td>\n",
       "      <td>JA11KZ</td>\n",
       "      <td>B748</td>\n",
       "      <td>KZ101</td>\n",
       "      <td>LAX</td>\n",
       "      <td>NRT</td>\n",
       "      <td>NaN</td>\n",
       "      <td>1581899950</td>\n",
       "      <td>36000</td>\n",
       "      <td>224</td>\n",
       "      <td>41.62322</td>\n",
       "      <td>148.06737</td>\n",
       "      <td>8695</td>\n",
       "      <td>382</td>\n",
       "      <td>2000</td>\n",
       "      <td>20200217_602018853</td>\n",
       "      <td>20200217</td>\n",
       "    </tr>\n",
       "  </tbody>\n",
       "</table>\n",
       "</div>"
      ],
      "text/plain": [
       "   flight_id     reg equip flight schd_from real_to name  snapshot_id  \\\n",
       "0  601998047  HL7413  B744  OZ285       SFO     ICN  NaN   1581897680   \n",
       "1  602018853  JA11KZ  B748  KZ101       LAX     NRT  NaN   1581899760   \n",
       "2  602018853  JA11KZ  B748  KZ101       LAX     NRT  NaN   1581899794   \n",
       "3  602018853  JA11KZ  B748  KZ101       LAX     NRT  NaN   1581899888   \n",
       "4  602018853  JA11KZ  B748  KZ101       LAX     NRT  NaN   1581899950   \n",
       "\n",
       "   altitude  heading  latitude  longitude  radar_id  speed  squawk  \\\n",
       "0         0       25  37.46589  126.46249     41014      0    3302   \n",
       "1     36000      224  41.86270  148.38032      2953    387    6207   \n",
       "2     36000      224  41.81955  148.32317      2953    386    6207   \n",
       "3     36000      223  41.70224  148.16896      8695    384    2000   \n",
       "4     36000      224  41.62322  148.06737      8695    382    2000   \n",
       "\n",
       "             flightid   datestr  \n",
       "0  20200217_601998047  20200217  \n",
       "1  20200217_602018853  20200217  \n",
       "2  20200217_602018853  20200217  \n",
       "3  20200217_602018853  20200217  \n",
       "4  20200217_602018853  20200217  "
      ]
     },
     "execution_count": 75,
     "metadata": {},
     "output_type": "execute_result"
    }
   ],
   "source": [
    "our_positions.head()"
   ]
  },
  {
   "cell_type": "code",
   "execution_count": 76,
   "metadata": {},
   "outputs": [],
   "source": [
    "our_positions['date'] = pd.to_datetime(our_positions.datestr, format='%Y%m%d')"
   ]
  },
  {
   "cell_type": "markdown",
   "metadata": {},
   "source": [
    "### Convert the unix timestampt to human datetime and localize"
   ]
  },
  {
   "cell_type": "code",
   "execution_count": 77,
   "metadata": {},
   "outputs": [],
   "source": [
    "our_positions['date_time'] = pd.to_datetime(our_positions['snapshot_id'],unit='s')\n",
    "our_positions['utc_datetime'] = \\\n",
    "    pd.to_datetime(our_positions['date_time'], format='%Y-%m-%dT%H:%M:%SZ').dt.tz_localize('UTC')"
   ]
  },
  {
   "cell_type": "code",
   "execution_count": 78,
   "metadata": {},
   "outputs": [],
   "source": [
    "our_positions['datetime_pst'] = our_positions['utc_datetime'].dt.tz_convert('America/Los_Angeles')"
   ]
  },
  {
   "cell_type": "code",
   "execution_count": 79,
   "metadata": {},
   "outputs": [],
   "source": [
    "our_positions['date'] = pd.to_datetime(our_positions['datetime_pst']).dt.strftime('%m/%d/%Y')\n",
    "our_positions['time'] = pd.to_datetime(our_positions['datetime_pst']).dt.strftime('%H:%M:%S')"
   ]
  },
  {
   "cell_type": "code",
   "execution_count": 80,
   "metadata": {},
   "outputs": [],
   "source": [
    "positions = pd.DataFrame(our_positions)"
   ]
  },
  {
   "cell_type": "code",
   "execution_count": 81,
   "metadata": {},
   "outputs": [
    {
     "data": {
      "text/html": [
       "<div>\n",
       "<style scoped>\n",
       "    .dataframe tbody tr th:only-of-type {\n",
       "        vertical-align: middle;\n",
       "    }\n",
       "\n",
       "    .dataframe tbody tr th {\n",
       "        vertical-align: top;\n",
       "    }\n",
       "\n",
       "    .dataframe thead th {\n",
       "        text-align: right;\n",
       "    }\n",
       "</style>\n",
       "<table border=\"1\" class=\"dataframe\">\n",
       "  <thead>\n",
       "    <tr style=\"text-align: right;\">\n",
       "      <th></th>\n",
       "      <th>flight_id</th>\n",
       "      <th>reg</th>\n",
       "      <th>equip</th>\n",
       "      <th>flight</th>\n",
       "      <th>schd_from</th>\n",
       "      <th>real_to</th>\n",
       "      <th>name</th>\n",
       "      <th>snapshot_id</th>\n",
       "      <th>altitude</th>\n",
       "      <th>heading</th>\n",
       "      <th>...</th>\n",
       "      <th>radar_id</th>\n",
       "      <th>speed</th>\n",
       "      <th>squawk</th>\n",
       "      <th>flightid</th>\n",
       "      <th>datestr</th>\n",
       "      <th>date</th>\n",
       "      <th>date_time</th>\n",
       "      <th>utc_datetime</th>\n",
       "      <th>datetime_pst</th>\n",
       "      <th>time</th>\n",
       "    </tr>\n",
       "  </thead>\n",
       "  <tbody>\n",
       "    <tr>\n",
       "      <td>1450699</td>\n",
       "      <td>609564894</td>\n",
       "      <td>N412WN</td>\n",
       "      <td>B737</td>\n",
       "      <td>WN1329</td>\n",
       "      <td>SFO</td>\n",
       "      <td>LAX</td>\n",
       "      <td>SOUTHWEST AIRLINES</td>\n",
       "      <td>1586303970</td>\n",
       "      <td>0</td>\n",
       "      <td>241</td>\n",
       "      <td>...</td>\n",
       "      <td>2216</td>\n",
       "      <td>0</td>\n",
       "      <td>0</td>\n",
       "      <td>20200407_609564894</td>\n",
       "      <td>20200407</td>\n",
       "      <td>04/07/2020</td>\n",
       "      <td>2020-04-07 23:59:30</td>\n",
       "      <td>2020-04-07 23:59:30+00:00</td>\n",
       "      <td>2020-04-07 16:59:30-07:00</td>\n",
       "      <td>16:59:30</td>\n",
       "    </tr>\n",
       "    <tr>\n",
       "      <td>1268795</td>\n",
       "      <td>609526850</td>\n",
       "      <td>N947AN</td>\n",
       "      <td>B738</td>\n",
       "      <td>AA956</td>\n",
       "      <td>SAN</td>\n",
       "      <td>ORD</td>\n",
       "      <td>AMERICAN AIRLINES</td>\n",
       "      <td>1586279796</td>\n",
       "      <td>5150</td>\n",
       "      <td>89</td>\n",
       "      <td>...</td>\n",
       "      <td>2643</td>\n",
       "      <td>217</td>\n",
       "      <td>7354</td>\n",
       "      <td>20200407_609526850</td>\n",
       "      <td>20200407</td>\n",
       "      <td>04/07/2020</td>\n",
       "      <td>2020-04-07 17:16:36</td>\n",
       "      <td>2020-04-07 17:16:36+00:00</td>\n",
       "      <td>2020-04-07 10:16:36-07:00</td>\n",
       "      <td>10:16:36</td>\n",
       "    </tr>\n",
       "    <tr>\n",
       "      <td>1268809</td>\n",
       "      <td>609526850</td>\n",
       "      <td>N947AN</td>\n",
       "      <td>B738</td>\n",
       "      <td>AA956</td>\n",
       "      <td>SAN</td>\n",
       "      <td>ORD</td>\n",
       "      <td>AMERICAN AIRLINES</td>\n",
       "      <td>1586279906</td>\n",
       "      <td>5150</td>\n",
       "      <td>319</td>\n",
       "      <td>...</td>\n",
       "      <td>2643</td>\n",
       "      <td>197</td>\n",
       "      <td>7354</td>\n",
       "      <td>20200407_609526850</td>\n",
       "      <td>20200407</td>\n",
       "      <td>04/07/2020</td>\n",
       "      <td>2020-04-07 17:18:26</td>\n",
       "      <td>2020-04-07 17:18:26+00:00</td>\n",
       "      <td>2020-04-07 10:18:26-07:00</td>\n",
       "      <td>10:18:26</td>\n",
       "    </tr>\n",
       "    <tr>\n",
       "      <td>1268808</td>\n",
       "      <td>609526850</td>\n",
       "      <td>N947AN</td>\n",
       "      <td>B738</td>\n",
       "      <td>AA956</td>\n",
       "      <td>SAN</td>\n",
       "      <td>ORD</td>\n",
       "      <td>AMERICAN AIRLINES</td>\n",
       "      <td>1586279900</td>\n",
       "      <td>5150</td>\n",
       "      <td>329</td>\n",
       "      <td>...</td>\n",
       "      <td>41024</td>\n",
       "      <td>200</td>\n",
       "      <td>7354</td>\n",
       "      <td>20200407_609526850</td>\n",
       "      <td>20200407</td>\n",
       "      <td>04/07/2020</td>\n",
       "      <td>2020-04-07 17:18:20</td>\n",
       "      <td>2020-04-07 17:18:20+00:00</td>\n",
       "      <td>2020-04-07 10:18:20-07:00</td>\n",
       "      <td>10:18:20</td>\n",
       "    </tr>\n",
       "    <tr>\n",
       "      <td>1268807</td>\n",
       "      <td>609526850</td>\n",
       "      <td>N947AN</td>\n",
       "      <td>B738</td>\n",
       "      <td>AA956</td>\n",
       "      <td>SAN</td>\n",
       "      <td>ORD</td>\n",
       "      <td>AMERICAN AIRLINES</td>\n",
       "      <td>1586279892</td>\n",
       "      <td>5150</td>\n",
       "      <td>341</td>\n",
       "      <td>...</td>\n",
       "      <td>2643</td>\n",
       "      <td>206</td>\n",
       "      <td>7354</td>\n",
       "      <td>20200407_609526850</td>\n",
       "      <td>20200407</td>\n",
       "      <td>04/07/2020</td>\n",
       "      <td>2020-04-07 17:18:12</td>\n",
       "      <td>2020-04-07 17:18:12+00:00</td>\n",
       "      <td>2020-04-07 10:18:12-07:00</td>\n",
       "      <td>10:18:12</td>\n",
       "    </tr>\n",
       "  </tbody>\n",
       "</table>\n",
       "<p>5 rows × 22 columns</p>\n",
       "</div>"
      ],
      "text/plain": [
       "         flight_id     reg equip  flight schd_from real_to  \\\n",
       "1450699  609564894  N412WN  B737  WN1329       SFO     LAX   \n",
       "1268795  609526850  N947AN  B738   AA956       SAN     ORD   \n",
       "1268809  609526850  N947AN  B738   AA956       SAN     ORD   \n",
       "1268808  609526850  N947AN  B738   AA956       SAN     ORD   \n",
       "1268807  609526850  N947AN  B738   AA956       SAN     ORD   \n",
       "\n",
       "                       name  snapshot_id  altitude  heading  ...  radar_id  \\\n",
       "1450699  SOUTHWEST AIRLINES   1586303970         0      241  ...      2216   \n",
       "1268795   AMERICAN AIRLINES   1586279796      5150       89  ...      2643   \n",
       "1268809   AMERICAN AIRLINES   1586279906      5150      319  ...      2643   \n",
       "1268808   AMERICAN AIRLINES   1586279900      5150      329  ...     41024   \n",
       "1268807   AMERICAN AIRLINES   1586279892      5150      341  ...      2643   \n",
       "\n",
       "         speed  squawk            flightid   datestr        date  \\\n",
       "1450699      0       0  20200407_609564894  20200407  04/07/2020   \n",
       "1268795    217    7354  20200407_609526850  20200407  04/07/2020   \n",
       "1268809    197    7354  20200407_609526850  20200407  04/07/2020   \n",
       "1268808    200    7354  20200407_609526850  20200407  04/07/2020   \n",
       "1268807    206    7354  20200407_609526850  20200407  04/07/2020   \n",
       "\n",
       "                  date_time              utc_datetime  \\\n",
       "1450699 2020-04-07 23:59:30 2020-04-07 23:59:30+00:00   \n",
       "1268795 2020-04-07 17:16:36 2020-04-07 17:16:36+00:00   \n",
       "1268809 2020-04-07 17:18:26 2020-04-07 17:18:26+00:00   \n",
       "1268808 2020-04-07 17:18:20 2020-04-07 17:18:20+00:00   \n",
       "1268807 2020-04-07 17:18:12 2020-04-07 17:18:12+00:00   \n",
       "\n",
       "                     datetime_pst      time  \n",
       "1450699 2020-04-07 16:59:30-07:00  16:59:30  \n",
       "1268795 2020-04-07 10:16:36-07:00  10:16:36  \n",
       "1268809 2020-04-07 10:18:26-07:00  10:18:26  \n",
       "1268808 2020-04-07 10:18:20-07:00  10:18:20  \n",
       "1268807 2020-04-07 10:18:12-07:00  10:18:12  \n",
       "\n",
       "[5 rows x 22 columns]"
      ]
     },
     "execution_count": 81,
     "metadata": {},
     "output_type": "execute_result"
    }
   ],
   "source": [
    "positions.sort_values(by='date', ascending=False).head()"
   ]
  },
  {
   "cell_type": "code",
   "execution_count": 82,
   "metadata": {},
   "outputs": [],
   "source": [
    "positions['before'] = (positions['date'] == '02/16/2020')|(positions['date'] == '02/17/2020')\n",
    "positions['after'] = (positions['date'] == '04/06/2020')|(positions['date'] == '04/07/2020')"
   ]
  },
  {
   "cell_type": "code",
   "execution_count": 83,
   "metadata": {},
   "outputs": [
    {
     "data": {
      "text/plain": [
       "flight_id                       601998047\n",
       "reg                                HL7413\n",
       "equip                                B744\n",
       "flight                              OZ285\n",
       "schd_from                             SFO\n",
       "real_to                               ICN\n",
       "name                                  NaN\n",
       "snapshot_id                    1581897680\n",
       "altitude                                0\n",
       "heading                                25\n",
       "latitude                          37.4659\n",
       "longitude                         126.462\n",
       "radar_id                            41014\n",
       "speed                                   0\n",
       "squawk                               3302\n",
       "flightid               20200217_601998047\n",
       "datestr                          20200217\n",
       "date                           02/16/2020\n",
       "date_time             2020-02-17 00:01:20\n",
       "utc_datetime    2020-02-17 00:01:20+00:00\n",
       "datetime_pst    2020-02-16 16:01:20-08:00\n",
       "time                             16:01:20\n",
       "before                               True\n",
       "after                               False\n",
       "Name: 0, dtype: object"
      ]
     },
     "execution_count": 83,
     "metadata": {},
     "output_type": "execute_result"
    }
   ],
   "source": [
    "positions.iloc[0]"
   ]
  },
  {
   "cell_type": "markdown",
   "metadata": {},
   "source": [
    "---"
   ]
  },
  {
   "cell_type": "markdown",
   "metadata": {},
   "source": [
    "## Geography"
   ]
  },
  {
   "cell_type": "markdown",
   "metadata": {},
   "source": [
    "### Convert to positions to a GeoDataFrame using lon/lat for each point in the flight"
   ]
  },
  {
   "cell_type": "code",
   "execution_count": 84,
   "metadata": {},
   "outputs": [
    {
     "data": {
      "text/plain": [
       "flight_id                       602036559\n",
       "reg                                B16709\n",
       "equip                                B77W\n",
       "flight                                BR7\n",
       "schd_from                             SFO\n",
       "real_to                               TPE\n",
       "name                                  NaN\n",
       "snapshot_id                    1581937285\n",
       "altitude                                0\n",
       "heading                               320\n",
       "latitude                          25.0779\n",
       "longitude                         121.238\n",
       "radar_id                             6586\n",
       "speed                                  14\n",
       "squawk                               3226\n",
       "flightid               20200217_602036559\n",
       "datestr                          20200217\n",
       "date                           02/17/2020\n",
       "date_time             2020-02-17 11:01:25\n",
       "utc_datetime    2020-02-17 11:01:25+00:00\n",
       "datetime_pst    2020-02-17 03:01:25-08:00\n",
       "time                             03:01:25\n",
       "before                               True\n",
       "after                               False\n",
       "Name: 1000, dtype: object"
      ]
     },
     "execution_count": 84,
     "metadata": {},
     "output_type": "execute_result"
    }
   ],
   "source": [
    "positions.loc[1000]"
   ]
  },
  {
   "cell_type": "code",
   "execution_count": 85,
   "metadata": {},
   "outputs": [],
   "source": [
    "positions_geo_all = gpd.GeoDataFrame(\n",
    "    positions, geometry=gpd.points_from_xy(positions.longitude, positions.latitude))"
   ]
  },
  {
   "cell_type": "code",
   "execution_count": 86,
   "metadata": {},
   "outputs": [],
   "source": [
    "positions_geo_all_grouped = positions_geo_all.groupby('flight_id')['geometry'].size().reset_index()"
   ]
  },
  {
   "cell_type": "code",
   "execution_count": 87,
   "metadata": {},
   "outputs": [],
   "source": [
    "postitions_geo_filtered = positions_geo_all_grouped[positions_geo_all_grouped['geometry'] > 20]"
   ]
  },
  {
   "cell_type": "code",
   "execution_count": 88,
   "metadata": {},
   "outputs": [],
   "source": [
    "postitions_geo_slim = gpd.GeoDataFrame(positions_geo_all.merge(postitions_geo_filtered,\\\n",
    "                                                               on='flight_id', how='inner'))"
   ]
  },
  {
   "cell_type": "code",
   "execution_count": 89,
   "metadata": {},
   "outputs": [],
   "source": [
    "postitions_geo_slim.rename(columns={\"geometry_x\": \"geometry\", \"geometry_y\": \"pointcnt\"}, inplace=True)"
   ]
  },
  {
   "cell_type": "code",
   "execution_count": 90,
   "metadata": {},
   "outputs": [],
   "source": [
    "postitions_geo_slim = postitions_geo_slim.drop(['snapshot_id','latitude', \\\n",
    "                                    'longitude', 'datestr', \\\n",
    "                                   'utc_datetime','squawk',\\\n",
    "                                    'radar_id','heading'], axis=1)"
   ]
  },
  {
   "cell_type": "code",
   "execution_count": 91,
   "metadata": {},
   "outputs": [
    {
     "data": {
      "text/plain": [
       "02/17/2020    731027\n",
       "02/16/2020    348222\n",
       "04/07/2020    272750\n",
       "04/06/2020     97361\n",
       "Name: date, dtype: int64"
      ]
     },
     "execution_count": 91,
     "metadata": {},
     "output_type": "execute_result"
    }
   ],
   "source": [
    "postitions_geo_slim.date.value_counts()"
   ]
  },
  {
   "cell_type": "code",
   "execution_count": 92,
   "metadata": {},
   "outputs": [],
   "source": [
    "postitions_geo_slim.to_file('/Users/mhustiles/data/data/flights/\\\n",
    "coronavirus/postitions_geo_slim.geojson', driver='GeoJSON')"
   ]
  },
  {
   "cell_type": "markdown",
   "metadata": {},
   "source": [
    "### Clip the flight data to around continental United States"
   ]
  },
  {
   "cell_type": "code",
   "execution_count": 93,
   "metadata": {},
   "outputs": [
    {
     "name": "stdout",
     "output_type": "stream",
     "text": [
      "Warning 1: The output driver does not natively support DateTime type for field date_time. Misconversion can happen. -mapFieldType can be used to control field type conversion.\r\n",
      "Warning 1: The output driver does not natively support DateTime type for field datetime_pst. Misconversion can happen. -mapFieldType can be used to control field type conversion.\r\n",
      "Warning 1: The output driver does not natively support Time type for field time. Misconversion can happen. -mapFieldType can be used to control field type conversion.\r\n"
     ]
    }
   ],
   "source": [
    "!ogr2ogr -f \"GeoJSON\" '/Users/mhustiles/data/data/flights/coronavirus/positions_geo_clipped.geojson' \\\n",
    "'/Users/mhustiles/data/data/flights/coronavirus/postitions_geo_slim.geojson' \\\n",
    "-clipsrc -136.5 6.4 -62.9 55.7"
   ]
  },
  {
   "cell_type": "code",
   "execution_count": 94,
   "metadata": {},
   "outputs": [],
   "source": [
    "positions_geo_clipped = gpd.read_file('/Users/mhustiles/data/data/flights/\\\n",
    "coronavirus/positions_geo_clipped.geojson')"
   ]
  },
  {
   "cell_type": "markdown",
   "metadata": {},
   "source": [
    "### Before (Feb. 17) points"
   ]
  },
  {
   "cell_type": "code",
   "execution_count": 95,
   "metadata": {},
   "outputs": [],
   "source": [
    "positions_geo_before = gpd.GeoDataFrame(positions_geo_clipped[positions_geo_clipped['before'] == True])"
   ]
  },
  {
   "cell_type": "code",
   "execution_count": 96,
   "metadata": {},
   "outputs": [],
   "source": [
    "# positions_geo_before.to_file('/Users/mhustiles/data/data/flights/coronavirus\\\n",
    "# /positions_geo_before.geojson', driver='GeoJSON')"
   ]
  },
  {
   "cell_type": "code",
   "execution_count": 97,
   "metadata": {},
   "outputs": [
    {
     "data": {
      "text/plain": [
       "<matplotlib.axes._subplots.AxesSubplot at 0x6c6c43250>"
      ]
     },
     "execution_count": 97,
     "metadata": {},
     "output_type": "execute_result"
    },
    {
     "data": {
      "image/png": "[encoded data removed]",
      "text/plain": [
       "<Figure size 432x288 with 1 Axes>"
      ]
     },
     "metadata": {
      "needs_background": "light"
     },
     "output_type": "display_data"
    }
   ],
   "source": [
    "positions_geo_before.plot()"
   ]
  },
  {
   "cell_type": "markdown",
   "metadata": {},
   "source": [
    "### After (April 7) points"
   ]
  },
  {
   "cell_type": "code",
   "execution_count": 98,
   "metadata": {},
   "outputs": [],
   "source": [
    "positions_geo_after = gpd.GeoDataFrame(positions_geo_clipped[positions_geo_clipped['after'] == True])\n",
    "# positions_geo_after = gpd.GeoDataFrame(positions_geo_clipped[positions_geo_clipped['after'] == True])"
   ]
  },
  {
   "cell_type": "code",
   "execution_count": 99,
   "metadata": {},
   "outputs": [],
   "source": [
    "# positions_geo_after.to_file('/Users/mhustiles/data/data/flights/coronavirus\\\n",
    "# /positions_geo_after.geojson', driver='GeoJSON')"
   ]
  },
  {
   "cell_type": "code",
   "execution_count": 100,
   "metadata": {},
   "outputs": [
    {
     "data": {
      "text/plain": [
       "<matplotlib.axes._subplots.AxesSubplot at 0x68b6df890>"
      ]
     },
     "execution_count": 100,
     "metadata": {},
     "output_type": "execute_result"
    },
    {
     "data": {
      "image/png": "[encoded data removed]",
      "text/plain": [
       "<Figure size 432x288 with 1 Axes>"
      ]
     },
     "metadata": {
      "needs_background": "light"
     },
     "output_type": "display_data"
    }
   ],
   "source": [
    "positions_geo_after.plot()"
   ]
  },
  {
   "cell_type": "markdown",
   "metadata": {},
   "source": [
    "---"
   ]
  },
  {
   "cell_type": "markdown",
   "metadata": {},
   "source": [
    "### Convert the points to lines"
   ]
  },
  {
   "cell_type": "code",
   "execution_count": 101,
   "metadata": {},
   "outputs": [],
   "source": [
    "positions_geo_line = gpd.GeoDataFrame(positions_geo_clipped.groupby(['flight_id','schd_from','name','before'])['geometry']\\\n",
    "    .apply(lambda x: LineString(x.tolist())).reset_index())"
   ]
  },
  {
   "cell_type": "markdown",
   "metadata": {},
   "source": [
    "### Lines for \"before\" flights"
   ]
  },
  {
   "cell_type": "code",
   "execution_count": 102,
   "metadata": {},
   "outputs": [],
   "source": [
    "positions_geo_before_line = gpd.GeoDataFrame(positions_geo_before.groupby(['flight_id','schd_from','name','before'])['geometry']\\\n",
    "    .apply(lambda x: LineString(x.tolist())).reset_index())"
   ]
  },
  {
   "cell_type": "code",
   "execution_count": 103,
   "metadata": {},
   "outputs": [
    {
     "data": {
      "text/plain": [
       "<matplotlib.axes._subplots.AxesSubplot at 0x6bc976ed0>"
      ]
     },
     "execution_count": 103,
     "metadata": {},
     "output_type": "execute_result"
    },
    {
     "data": {
      "image/png": "[encoded data removed]",
      "text/plain": [
       "<Figure size 432x288 with 1 Axes>"
      ]
     },
     "metadata": {
      "needs_background": "light"
     },
     "output_type": "display_data"
    }
   ],
   "source": [
    "positions_geo_before_line.plot()"
   ]
  },
  {
   "cell_type": "markdown",
   "metadata": {},
   "source": [
    "### Lines for \"after\" flights"
   ]
  },
  {
   "cell_type": "code",
   "execution_count": 104,
   "metadata": {},
   "outputs": [],
   "source": [
    "positions_geo_after_line = gpd.GeoDataFrame(positions_geo_after.groupby(['flight_id','schd_from','name','before'])['geometry']\\\n",
    "    .apply(lambda x: LineString(x.tolist())).reset_index())"
   ]
  },
  {
   "cell_type": "code",
   "execution_count": 105,
   "metadata": {},
   "outputs": [
    {
     "data": {
      "text/plain": [
       "<matplotlib.axes._subplots.AxesSubplot at 0x6bcaaf6d0>"
      ]
     },
     "execution_count": 105,
     "metadata": {},
     "output_type": "execute_result"
    },
    {
     "data": {
      "image/png": "[encoded data removed]",
      "text/plain": [
       "<Figure size 432x288 with 1 Axes>"
      ]
     },
     "metadata": {
      "needs_background": "light"
     },
     "output_type": "display_data"
    }
   ],
   "source": [
    "positions_geo_after_line.plot()"
   ]
  },
  {
   "cell_type": "markdown",
   "metadata": {},
   "source": [
    "### Export all lines to geojson"
   ]
  },
  {
   "cell_type": "code",
   "execution_count": 106,
   "metadata": {},
   "outputs": [],
   "source": [
    "positions_geo_line.to_file('/Users/mhustiles/data/data/flights/coronavirus\\\n",
    "/positions_geo_line.geojson', driver='GeoJSON')"
   ]
  },
  {
   "cell_type": "markdown",
   "metadata": {},
   "source": [
    "### Output all before/after lines to mbtiles for Mapbox"
   ]
  },
  {
   "cell_type": "code",
   "execution_count": 107,
   "metadata": {},
   "outputs": [
    {
     "name": "stdout",
     "output_type": "stream",
     "text": [
      "For layer 0, using name \"positions_geo_line\"\n",
      "4636 features, 4952256 bytes of geometry, 60824 bytes of separate metadata, 62223 bytes of string pool\n",
      "  99.9%  10/248/378  \n"
     ]
    }
   ],
   "source": [
    "!tippecanoe --generate-ids --force -Z4 -z10 -r1 -pk -pf -o \\\n",
    "/Users/mhustiles/data/data/flights/coronavirus/positions_geo_line_slim.mbtiles \\\n",
    "/Users/mhustiles/data/data/flights/coronavirus/positions_geo_line.geojson"
   ]
  },
  {
   "cell_type": "code",
   "execution_count": 108,
   "metadata": {},
   "outputs": [
    {
     "name": "stdout",
     "output_type": "stream",
     "text": [
      "For layer 0, using name \"positions_geo_after_line\"\n",
      "948 features, 1136041 bytes of geometry, 9589 bytes of separate metadata, 12976 bytes of string pool\n",
      "  99.9%  12/771/1539   \n"
     ]
    }
   ],
   "source": [
    "!tippecanoe --generate-ids --force -Z3 -z12 -r1 -pk -pf -o \\\n",
    "/Users/mhustiles/data/data/flights/coronavirus/positions_geo_after_line.mbtiles \\\n",
    "/Users/mhustiles/data/data/flights/coronavirus/positions_geo_after_line.geojson"
   ]
  },
  {
   "cell_type": "code",
   "execution_count": 109,
   "metadata": {},
   "outputs": [
    {
     "name": "stdout",
     "output_type": "stream",
     "text": [
      "For layer 0, using name \"positions_geo_before_line\"\n",
      "2703 features, 3244174 bytes of geometry, 27968 bytes of separate metadata, 36978 bytes of string pool\n",
      "  99.9%  12/828/1541   \n"
     ]
    }
   ],
   "source": [
    "!tippecanoe --generate-ids --force -Z3 -z12 -r1 -pk -pf -o \\\n",
    "/Users/mhustiles/data/data/flights/coronavirus/positions_geo_before_line.mbtiles \\\n",
    "/Users/mhustiles/data/data/flights/coronavirus/positions_geo_before_line.geojson"
   ]
  },
  {
   "cell_type": "markdown",
   "metadata": {},
   "source": [
    "### Output airport-specific mbtiles for Mapbox"
   ]
  },
  {
   "cell_type": "code",
   "execution_count": 110,
   "metadata": {},
   "outputs": [],
   "source": [
    "# for a in positions_geo_after_line['schd_from'].unique():\n",
    "#     print(a)\n",
    "    \n",
    "#     !tippecanoe --generate-ids --force -Z3 -z12 -r1 -pk -pf -o \\\n",
    "#     /Users/mhustiles/data/data/flights/coronavirus/tiles/covid_'{a}'_after.mbtiles \\\n",
    "#     /Users/mhustiles/data/data/flights/coronavirus/positions_geo_after_line_'{a}'.geojson"
   ]
  },
  {
   "cell_type": "code",
   "execution_count": 111,
   "metadata": {},
   "outputs": [
    {
     "name": "stdout",
     "output_type": "stream",
     "text": [
      "LAX\n",
      "For layer 0, using name \"positions_geo_before_line_LAX\"\n",
      "814 features, 1021120 bytes of geometry, 9585 bytes of separate metadata, 10299 bytes of string pool\n",
      "  99.9%  12/713/1652   \n",
      "SNA\n",
      "For layer 0, using name \"positions_geo_before_line_SNA\"\n",
      "249 features, 273700 bytes of geometry, 3172 bytes of separate metadata, 4897 bytes of string pool\n",
      "  99.9%  12/942/1650   \n",
      "LGB\n",
      "For layer 0, using name \"positions_geo_before_line_LGB\"\n",
      "114 features, 171799 bytes of geometry, 1227 bytes of separate metadata, 2143 bytes of string pool\n",
      "  99.9%  12/684/1624   \n",
      "PSP\n",
      "For layer 0, using name \"positions_geo_before_line_PSP\"\n",
      "106 features, 123672 bytes of geometry, 1390 bytes of separate metadata, 2293 bytes of string pool\n",
      "  99.9%  12/664/1596   \n",
      "SFO\n",
      "For layer 0, using name \"positions_geo_before_line_SFO\"\n",
      "561 features, 728537 bytes of geometry, 6703 bytes of separate metadata, 7102 bytes of string pool\n",
      "  99.9%  12/697/1635   \n",
      "SAN\n",
      "For layer 0, using name \"positions_geo_before_line_SAN\"\n",
      "327 features, 366257 bytes of geometry, 3914 bytes of separate metadata, 4453 bytes of string pool\n",
      "  99.9%  12/706/1643   \n",
      "SJC\n",
      "For layer 0, using name \"positions_geo_before_line_SJC\"\n",
      "230 features, 248506 bytes of geometry, 2730 bytes of separate metadata, 3468 bytes of string pool\n",
      "  99.9%  12/634/1602   \n",
      "OAK\n",
      "For layer 0, using name \"positions_geo_before_line_OAK\"\n",
      "214 features, 229892 bytes of geometry, 2705 bytes of separate metadata, 3456 bytes of string pool\n",
      "  99.9%  12/1109/1550  \n",
      "SBP\n",
      "For layer 0, using name \"positions_geo_before_line_SBP\"\n",
      "53 features, 64868 bytes of geometry, 627 bytes of separate metadata, 1304 bytes of string pool\n",
      "  99.9%  12/658/1589  \n",
      "SMF\n",
      "For layer 0, using name \"positions_geo_before_line_SMF\"\n",
      "176 features, 187526 bytes of geometry, 2094 bytes of separate metadata, 2464 bytes of string pool\n",
      "  99.9%  12/698/1571   \n",
      "ONT\n",
      "For layer 0, using name \"positions_geo_before_line_ONT\"\n",
      "103 features, 110850 bytes of geometry, 1333 bytes of separate metadata, 1661 bytes of string pool\n",
      "  99.9%  12/722/1641   \n",
      "BUR\n",
      "For layer 0, using name \"positions_geo_before_line_BUR\"\n",
      "147 features, 136471 bytes of geometry, 1751 bytes of separate metadata, 2363 bytes of string pool\n",
      "  99.9%  12/679/1603   \n",
      "MRY\n",
      "For layer 0, using name \"positions_geo_before_line_MRY\"\n",
      "64 features, 80600 bytes of geometry, 746 bytes of separate metadata, 1596 bytes of string pool\n",
      "  99.9%  12/892/1670  \n",
      "SBA\n",
      "For layer 0, using name \"positions_geo_before_line_SBA\"\n",
      "75 features, 91767 bytes of geometry, 901 bytes of separate metadata, 1835 bytes of string pool\n",
      "  99.9%  12/701/1633   \n",
      "ACV\n",
      "For layer 0, using name \"positions_geo_before_line_ACV\"\n",
      "12 features, 14519 bytes of geometry, 153 bytes of separate metadata, 251 bytes of string pool\n",
      "  99.9%  12/637/1549  \n",
      "SCK\n",
      "For layer 0, using name \"positions_geo_before_line_SCK\"\n",
      "25 features, 37598 bytes of geometry, 297 bytes of separate metadata, 614 bytes of string pool\n",
      "  99.9%  12/690/1619   \n",
      "FAT\n",
      "For layer 0, using name \"positions_geo_before_line_FAT\"\n",
      "54 features, 69634 bytes of geometry, 627 bytes of separate metadata, 1041 bytes of string pool\n",
      "  99.9%  12/678/1542   \n",
      "BFL\n",
      "For layer 0, using name \"positions_geo_before_line_BFL\"\n",
      "30 features, 42557 bytes of geometry, 348 bytes of separate metadata, 763 bytes of string pool\n",
      "  99.9%  12/703/1636  \n",
      "STS\n",
      "For layer 0, using name \"positions_geo_before_line_STS\"\n",
      "47 features, 67002 bytes of geometry, 554 bytes of separate metadata, 1238 bytes of string pool\n",
      "  99.9%  12/656/1559  \n"
     ]
    }
   ],
   "source": [
    "for a in positions_geo_before_line['schd_from'].unique():\n",
    "    print(a)\n",
    "    \n",
    "    !tippecanoe --generate-ids --force -Z3 -z12 -r1 -pk -pf -o \\\n",
    "    /Users/mhustiles/data/data/flights/coronavirus/tiles/covid_'{a}'_before.mbtiles \\\n",
    "    /Users/mhustiles/data/data/flights/coronavirus/positions_geo_before_line_'{a}'.geojson"
   ]
  },
  {
   "cell_type": "code",
   "execution_count": 112,
   "metadata": {},
   "outputs": [
    {
     "name": "stdout",
     "output_type": "stream",
     "text": [
      "BUR\n",
      "For layer 0, using name \"positions_geo_after_line_BUR\"\n",
      "43 features, 40355 bytes of geometry, 520 bytes of separate metadata, 759 bytes of string pool\n",
      "  99.9%  12/889/1615   \n",
      "SAN\n",
      "For layer 0, using name \"positions_geo_after_line_SAN\"\n",
      "121 features, 136651 bytes of geometry, 1445 bytes of separate metadata, 1708 bytes of string pool\n",
      "  99.9%  12/935/1684   \n",
      "SFO\n",
      "For layer 0, using name \"positions_geo_after_line_SFO\"\n",
      "169 features, 192504 bytes of geometry, 1994 bytes of separate metadata, 2293 bytes of string pool\n",
      "  99.9%  12/735/1576   \n",
      "LAX\n",
      "For layer 0, using name \"positions_geo_after_line_LAX\"\n",
      "298 features, 373782 bytes of geometry, 3513 bytes of separate metadata, 4040 bytes of string pool\n",
      "  99.9%  12/1003/1695  \n",
      "LGB\n",
      "For layer 0, using name \"positions_geo_after_line_LGB\"\n",
      "32 features, 54174 bytes of geometry, 348 bytes of separate metadata, 816 bytes of string pool\n",
      "  99.9%  12/841/1571   \n",
      "SMF\n",
      "For layer 0, using name \"positions_geo_after_line_SMF\"\n",
      "87 features, 99877 bytes of geometry, 1029 bytes of separate metadata, 1375 bytes of string pool\n",
      "  99.9%  12/831/1580   \n",
      "SNA\n",
      "For layer 0, using name \"positions_geo_after_line_SNA\"\n",
      "45 features, 41928 bytes of geometry, 527 bytes of separate metadata, 1005 bytes of string pool\n",
      "  99.9%  12/717/1640   \n",
      "SJC\n",
      "For layer 0, using name \"positions_geo_after_line_SJC\"\n",
      "68 features, 79168 bytes of geometry, 815 bytes of separate metadata, 1201 bytes of string pool\n",
      "  99.9%  12/707/1624  \n",
      "OAK\n",
      "For layer 0, using name \"positions_geo_after_line_OAK\"\n",
      "114 features, 135337 bytes of geometry, 1387 bytes of separate metadata, 1750 bytes of string pool\n",
      "  99.9%  12/496/1370   \n",
      "BFL\n",
      "For layer 0, using name \"positions_geo_after_line_BFL\"\n",
      "24 features, 39618 bytes of geometry, 300 bytes of separate metadata, 513 bytes of string pool\n",
      "  99.9%  12/842/1623  \n",
      "SCK\n",
      "For layer 0, using name \"positions_geo_after_line_SCK\"\n",
      "6 features, 6132 bytes of geometry, 91 bytes of separate metadata, 218 bytes of string pool\n",
      "  99.9%  12/670/1581   \n",
      "PSP\n",
      "For layer 0, using name \"positions_geo_after_line_PSP\"\n",
      "20 features, 19108 bytes of geometry, 254 bytes of separate metadata, 471 bytes of string pool\n",
      "  99.9%  12/934/1564   \n",
      "FAT\n",
      "For layer 0, using name \"positions_geo_after_line_FAT\"\n",
      "31 features, 31501 bytes of geometry, 388 bytes of separate metadata, 643 bytes of string pool\n",
      "  99.9%  12/747/1576   \n",
      "SBP\n",
      "For layer 0, using name \"positions_geo_after_line_SBP\"\n",
      "21 features, 26414 bytes of geometry, 252 bytes of separate metadata, 526 bytes of string pool\n",
      "  99.9%  12/718/1626  \n",
      "ONT\n",
      "For layer 0, using name \"positions_geo_after_line_ONT\"\n",
      "104 features, 133666 bytes of geometry, 1262 bytes of separate metadata, 1639 bytes of string pool\n",
      "  99.9%  12/707/1634   \n",
      "SBA\n",
      "For layer 0, using name \"positions_geo_after_line_SBA\"\n",
      "24 features, 26006 bytes of geometry, 298 bytes of separate metadata, 604 bytes of string pool\n",
      "  99.9%  12/918/1636   \n",
      "ACV\n",
      "For layer 0, using name \"positions_geo_after_line_ACV\"\n",
      "5 features, 4403 bytes of geometry, 60 bytes of separate metadata, 138 bytes of string pool\n",
      "  99.9%  12/636/1541  \n",
      "MRY\n",
      "For layer 0, using name \"positions_geo_after_line_MRY\"\n",
      "10 features, 9489 bytes of geometry, 122 bytes of separate metadata, 336 bytes of string pool\n",
      "  99.9%  12/845/1626  \n",
      "STS\n",
      "For layer 0, using name \"positions_geo_after_line_STS\"\n",
      "18 features, 19560 bytes of geometry, 215 bytes of separate metadata, 507 bytes of string pool\n",
      "  99.9%  12/786/1611  \n"
     ]
    }
   ],
   "source": [
    "for a in positions_geo_after_line['schd_from'].unique():\n",
    "    print(a)\n",
    "    \n",
    "    !tippecanoe --generate-ids --force -Z3 -z12 -r1 -pk -pf -o \\\n",
    "    /Users/mhustiles/data/data/flights/coronavirus/tiles/covid_'{a}'_after.mbtiles \\\n",
    "    /Users/mhustiles/data/data/flights/coronavirus/positions_geo_after_line_'{a}'.geojson"
   ]
  },
  {
   "cell_type": "markdown",
   "metadata": {},
   "source": [
    "---"
   ]
  },
  {
   "cell_type": "markdown",
   "metadata": {},
   "source": [
    "### What's still flying at LAX?"
   ]
  },
  {
   "cell_type": "code",
   "execution_count": 113,
   "metadata": {},
   "outputs": [],
   "source": [
    "lax_pos_after = positions_geo_after_line[positions_geo_after_line['schd_from'] == 'LAX']"
   ]
  },
  {
   "cell_type": "code",
   "execution_count": 114,
   "metadata": {},
   "outputs": [],
   "source": [
    "lax_pos_before = positions_geo_before_line[positions_geo_before_line['schd_from'] == 'LAX']"
   ]
  },
  {
   "cell_type": "code",
   "execution_count": 115,
   "metadata": {},
   "outputs": [],
   "source": [
    "lax_pos_after_names = lax_pos_after.groupby(['name']).agg('size').reset_index(name='flights')\n",
    "lax_pos_before_names = lax_pos_before.groupby(['name']).agg('size').reset_index(name='flights')"
   ]
  },
  {
   "cell_type": "code",
   "execution_count": 116,
   "metadata": {},
   "outputs": [
    {
     "data": {
      "text/html": [
       "<div>\n",
       "<style scoped>\n",
       "    .dataframe tbody tr th:only-of-type {\n",
       "        vertical-align: middle;\n",
       "    }\n",
       "\n",
       "    .dataframe tbody tr th {\n",
       "        vertical-align: top;\n",
       "    }\n",
       "\n",
       "    .dataframe thead th {\n",
       "        text-align: right;\n",
       "    }\n",
       "</style>\n",
       "<table border=\"1\" class=\"dataframe\">\n",
       "  <thead>\n",
       "    <tr style=\"text-align: right;\">\n",
       "      <th></th>\n",
       "      <th>name</th>\n",
       "      <th>flights</th>\n",
       "    </tr>\n",
       "  </thead>\n",
       "  <tbody>\n",
       "    <tr>\n",
       "      <td>9</td>\n",
       "      <td>AMERICAN AIRLINES</td>\n",
       "      <td>173</td>\n",
       "    </tr>\n",
       "    <tr>\n",
       "      <td>21</td>\n",
       "      <td>DELTA AIR LINES</td>\n",
       "      <td>122</td>\n",
       "    </tr>\n",
       "    <tr>\n",
       "      <td>49</td>\n",
       "      <td>SKYWEST AIRLINES</td>\n",
       "      <td>108</td>\n",
       "    </tr>\n",
       "    <tr>\n",
       "      <td>50</td>\n",
       "      <td>SOUTHWEST AIRLINES</td>\n",
       "      <td>105</td>\n",
       "    </tr>\n",
       "    <tr>\n",
       "      <td>64</td>\n",
       "      <td>UNITED AIRLINES</td>\n",
       "      <td>83</td>\n",
       "    </tr>\n",
       "  </tbody>\n",
       "</table>\n",
       "</div>"
      ],
      "text/plain": [
       "                  name  flights\n",
       "9    AMERICAN AIRLINES      173\n",
       "21     DELTA AIR LINES      122\n",
       "49    SKYWEST AIRLINES      108\n",
       "50  SOUTHWEST AIRLINES      105\n",
       "64     UNITED AIRLINES       83"
      ]
     },
     "execution_count": 116,
     "metadata": {},
     "output_type": "execute_result"
    }
   ],
   "source": [
    "lax_pos_before_names.sort_values(by='flights', ascending=False).head(5)"
   ]
  },
  {
   "cell_type": "code",
   "execution_count": 117,
   "metadata": {},
   "outputs": [
    {
     "data": {
      "text/html": [
       "<div>\n",
       "<style scoped>\n",
       "    .dataframe tbody tr th:only-of-type {\n",
       "        vertical-align: middle;\n",
       "    }\n",
       "\n",
       "    .dataframe tbody tr th {\n",
       "        vertical-align: top;\n",
       "    }\n",
       "\n",
       "    .dataframe thead th {\n",
       "        text-align: right;\n",
       "    }\n",
       "</style>\n",
       "<table border=\"1\" class=\"dataframe\">\n",
       "  <thead>\n",
       "    <tr style=\"text-align: right;\">\n",
       "      <th></th>\n",
       "      <th>name</th>\n",
       "      <th>flights</th>\n",
       "    </tr>\n",
       "  </thead>\n",
       "  <tbody>\n",
       "    <tr>\n",
       "      <td>29</td>\n",
       "      <td>SOUTHWEST AIRLINES</td>\n",
       "      <td>46</td>\n",
       "    </tr>\n",
       "    <tr>\n",
       "      <td>4</td>\n",
       "      <td>AMERICAN AIRLINES</td>\n",
       "      <td>41</td>\n",
       "    </tr>\n",
       "    <tr>\n",
       "      <td>28</td>\n",
       "      <td>SKYWEST AIRLINES</td>\n",
       "      <td>31</td>\n",
       "    </tr>\n",
       "    <tr>\n",
       "      <td>12</td>\n",
       "      <td>DELTA AIR LINES</td>\n",
       "      <td>31</td>\n",
       "    </tr>\n",
       "    <tr>\n",
       "      <td>35</td>\n",
       "      <td>UNITED AIRLINES</td>\n",
       "      <td>28</td>\n",
       "    </tr>\n",
       "  </tbody>\n",
       "</table>\n",
       "</div>"
      ],
      "text/plain": [
       "                  name  flights\n",
       "29  SOUTHWEST AIRLINES       46\n",
       "4    AMERICAN AIRLINES       41\n",
       "28    SKYWEST AIRLINES       31\n",
       "12     DELTA AIR LINES       31\n",
       "35     UNITED AIRLINES       28"
      ]
     },
     "execution_count": 117,
     "metadata": {},
     "output_type": "execute_result"
    }
   ],
   "source": [
    "lax_pos_after_names.sort_values(by='flights', ascending=False).head(5)"
   ]
  },
  {
   "cell_type": "code",
   "execution_count": 118,
   "metadata": {},
   "outputs": [],
   "source": [
    "before_after_lax_merge = pd.merge(lax_pos_before_names, lax_pos_after_names, on='name', how='inner')"
   ]
  },
  {
   "cell_type": "code",
   "execution_count": 119,
   "metadata": {},
   "outputs": [],
   "source": [
    "before_after_lax_merge.rename(columns={\"flights_x\": \"before\", \"flights_y\": \"after\"}, inplace=True)"
   ]
  },
  {
   "cell_type": "code",
   "execution_count": 120,
   "metadata": {},
   "outputs": [
    {
     "data": {
      "text/html": [
       "<div>\n",
       "<style scoped>\n",
       "    .dataframe tbody tr th:only-of-type {\n",
       "        vertical-align: middle;\n",
       "    }\n",
       "\n",
       "    .dataframe tbody tr th {\n",
       "        vertical-align: top;\n",
       "    }\n",
       "\n",
       "    .dataframe thead th {\n",
       "        text-align: right;\n",
       "    }\n",
       "</style>\n",
       "<table border=\"1\" class=\"dataframe\">\n",
       "  <thead>\n",
       "    <tr style=\"text-align: right;\">\n",
       "      <th></th>\n",
       "      <th>name</th>\n",
       "      <th>before</th>\n",
       "      <th>after</th>\n",
       "    </tr>\n",
       "  </thead>\n",
       "  <tbody>\n",
       "    <tr>\n",
       "      <td>0</td>\n",
       "      <td>ALASKA AIRLINES</td>\n",
       "      <td>43</td>\n",
       "      <td>16</td>\n",
       "    </tr>\n",
       "    <tr>\n",
       "      <td>1</td>\n",
       "      <td>AMERICAN AIRLINES</td>\n",
       "      <td>173</td>\n",
       "      <td>41</td>\n",
       "    </tr>\n",
       "    <tr>\n",
       "      <td>2</td>\n",
       "      <td>ATLAS AIR</td>\n",
       "      <td>2</td>\n",
       "      <td>2</td>\n",
       "    </tr>\n",
       "    <tr>\n",
       "      <td>3</td>\n",
       "      <td>CARGO AIRCRAFT MANAGEMENT</td>\n",
       "      <td>2</td>\n",
       "      <td>4</td>\n",
       "    </tr>\n",
       "    <tr>\n",
       "      <td>4</td>\n",
       "      <td>DELTA AIR LINES</td>\n",
       "      <td>122</td>\n",
       "      <td>31</td>\n",
       "    </tr>\n",
       "  </tbody>\n",
       "</table>\n",
       "</div>"
      ],
      "text/plain": [
       "                        name  before  after\n",
       "0            ALASKA AIRLINES      43     16\n",
       "1          AMERICAN AIRLINES     173     41\n",
       "2                  ATLAS AIR       2      2\n",
       "3  CARGO AIRCRAFT MANAGEMENT       2      4\n",
       "4            DELTA AIR LINES     122     31"
      ]
     },
     "execution_count": 120,
     "metadata": {},
     "output_type": "execute_result"
    }
   ],
   "source": [
    "before_after_lax_merge.head()"
   ]
  },
  {
   "cell_type": "code",
   "execution_count": 121,
   "metadata": {},
   "outputs": [],
   "source": [
    "before_after_lax_merge['change'] = \\\n",
    "((before_after_lax_merge['after'] - before_after_lax_merge['before'])/\\\n",
    " before_after_lax_merge['before']*100).round(2)"
   ]
  },
  {
   "cell_type": "code",
   "execution_count": 122,
   "metadata": {},
   "outputs": [],
   "source": [
    "before_after_lax_merge.sort_values(by='before', ascending=False).to_csv('output/lax_before_after_webtable.csv', index=False)"
   ]
  },
  {
   "cell_type": "code",
   "execution_count": 123,
   "metadata": {},
   "outputs": [
    {
     "data": {
      "text/html": [
       "<div>\n",
       "<style scoped>\n",
       "    .dataframe tbody tr th:only-of-type {\n",
       "        vertical-align: middle;\n",
       "    }\n",
       "\n",
       "    .dataframe tbody tr th {\n",
       "        vertical-align: top;\n",
       "    }\n",
       "\n",
       "    .dataframe thead th {\n",
       "        text-align: right;\n",
       "    }\n",
       "</style>\n",
       "<table border=\"1\" class=\"dataframe\">\n",
       "  <thead>\n",
       "    <tr style=\"text-align: right;\">\n",
       "      <th></th>\n",
       "      <th>name</th>\n",
       "      <th>before</th>\n",
       "      <th>after</th>\n",
       "      <th>change</th>\n",
       "    </tr>\n",
       "  </thead>\n",
       "  <tbody>\n",
       "    <tr>\n",
       "      <td>1</td>\n",
       "      <td>AMERICAN AIRLINES</td>\n",
       "      <td>173</td>\n",
       "      <td>41</td>\n",
       "      <td>-76.30</td>\n",
       "    </tr>\n",
       "    <tr>\n",
       "      <td>4</td>\n",
       "      <td>DELTA AIR LINES</td>\n",
       "      <td>122</td>\n",
       "      <td>31</td>\n",
       "      <td>-74.59</td>\n",
       "    </tr>\n",
       "    <tr>\n",
       "      <td>12</td>\n",
       "      <td>SKYWEST AIRLINES</td>\n",
       "      <td>108</td>\n",
       "      <td>31</td>\n",
       "      <td>-71.30</td>\n",
       "    </tr>\n",
       "    <tr>\n",
       "      <td>13</td>\n",
       "      <td>SOUTHWEST AIRLINES</td>\n",
       "      <td>105</td>\n",
       "      <td>46</td>\n",
       "      <td>-56.19</td>\n",
       "    </tr>\n",
       "    <tr>\n",
       "      <td>17</td>\n",
       "      <td>UNITED AIRLINES</td>\n",
       "      <td>83</td>\n",
       "      <td>28</td>\n",
       "      <td>-66.27</td>\n",
       "    </tr>\n",
       "    <tr>\n",
       "      <td>0</td>\n",
       "      <td>ALASKA AIRLINES</td>\n",
       "      <td>43</td>\n",
       "      <td>16</td>\n",
       "      <td>-62.79</td>\n",
       "    </tr>\n",
       "    <tr>\n",
       "      <td>7</td>\n",
       "      <td>JETBLUE AIRWAYS</td>\n",
       "      <td>25</td>\n",
       "      <td>7</td>\n",
       "      <td>-72.00</td>\n",
       "    </tr>\n",
       "    <tr>\n",
       "      <td>14</td>\n",
       "      <td>SPIRIT AIRLINES</td>\n",
       "      <td>22</td>\n",
       "      <td>19</td>\n",
       "      <td>-13.64</td>\n",
       "    </tr>\n",
       "    <tr>\n",
       "      <td>20</td>\n",
       "      <td>VIRGIN AMERICA</td>\n",
       "      <td>11</td>\n",
       "      <td>3</td>\n",
       "      <td>-72.73</td>\n",
       "    </tr>\n",
       "    <tr>\n",
       "      <td>6</td>\n",
       "      <td>HORIZON AIR INDUSTRIES</td>\n",
       "      <td>9</td>\n",
       "      <td>5</td>\n",
       "      <td>-44.44</td>\n",
       "    </tr>\n",
       "  </tbody>\n",
       "</table>\n",
       "</div>"
      ],
      "text/plain": [
       "                      name  before  after  change\n",
       "1        AMERICAN AIRLINES     173     41  -76.30\n",
       "4          DELTA AIR LINES     122     31  -74.59\n",
       "12        SKYWEST AIRLINES     108     31  -71.30\n",
       "13      SOUTHWEST AIRLINES     105     46  -56.19\n",
       "17         UNITED AIRLINES      83     28  -66.27\n",
       "0          ALASKA AIRLINES      43     16  -62.79\n",
       "7          JETBLUE AIRWAYS      25      7  -72.00\n",
       "14         SPIRIT AIRLINES      22     19  -13.64\n",
       "20          VIRGIN AMERICA      11      3  -72.73\n",
       "6   HORIZON AIR INDUSTRIES       9      5  -44.44"
      ]
     },
     "execution_count": 123,
     "metadata": {},
     "output_type": "execute_result"
    }
   ],
   "source": [
    "before_after_lax_merge.sort_values(by='before', ascending=False).head(10)"
   ]
  },
  {
   "cell_type": "code",
   "execution_count": 124,
   "metadata": {},
   "outputs": [],
   "source": [
    "lax_pos_before_names.to_csv('output/table_lax_pos_before_names.csv')\n",
    "lax_pos_after_names.to_csv('output/table_lax_pos_after_names.csv')"
   ]
  },
  {
   "cell_type": "markdown",
   "metadata": {},
   "source": [
    "### Top airlines before"
   ]
  },
  {
   "cell_type": "code",
   "execution_count": 125,
   "metadata": {},
   "outputs": [
    {
     "data": {
      "text/plain": [
       "814"
      ]
     },
     "execution_count": 125,
     "metadata": {},
     "output_type": "execute_result"
    }
   ],
   "source": [
    "lax_pos_before_names.flights.sum()"
   ]
  },
  {
   "cell_type": "markdown",
   "metadata": {},
   "source": [
    "### Top airlines after"
   ]
  },
  {
   "cell_type": "code",
   "execution_count": 126,
   "metadata": {},
   "outputs": [
    {
     "data": {
      "text/plain": [
       "298"
      ]
     },
     "execution_count": 126,
     "metadata": {},
     "output_type": "execute_result"
    }
   ],
   "source": [
    "lax_pos_after_names.flights.sum()"
   ]
  },
  {
   "cell_type": "markdown",
   "metadata": {},
   "source": [
    "### How much was the decline in total flights at LAX?"
   ]
  },
  {
   "cell_type": "code",
   "execution_count": 127,
   "metadata": {},
   "outputs": [
    {
     "data": {
      "text/plain": [
       "'-63.39%'"
      ]
     },
     "execution_count": 127,
     "metadata": {},
     "output_type": "execute_result"
    }
   ],
   "source": [
    "'{:,.2f}%'.format(((lax_pos_after_names.flights.sum() - \\\n",
    "   lax_pos_before_names.flights.sum())/lax_pos_before_names.flights.sum()*100))"
   ]
  },
  {
   "cell_type": "markdown",
   "metadata": {},
   "source": [
    "---"
   ]
  },
  {
   "cell_type": "markdown",
   "metadata": {},
   "source": [
    "### What's still flying at SFO?"
   ]
  },
  {
   "cell_type": "code",
   "execution_count": 128,
   "metadata": {},
   "outputs": [],
   "source": [
    "sfo_pos_after = positions_geo_after_line[positions_geo_after_line['schd_from'] == 'SFO']"
   ]
  },
  {
   "cell_type": "code",
   "execution_count": 129,
   "metadata": {},
   "outputs": [],
   "source": [
    "sfo_pos_before = positions_geo_before_line[positions_geo_before_line['schd_from'] == 'SFO']"
   ]
  },
  {
   "cell_type": "code",
   "execution_count": 130,
   "metadata": {},
   "outputs": [],
   "source": [
    "sfo_pos_after_names = sfo_pos_after.groupby(['name']).agg('size').reset_index(name='flights')\n",
    "sfo_pos_before_names = sfo_pos_before.groupby(['name']).agg('size').reset_index(name='flights')"
   ]
  },
  {
   "cell_type": "code",
   "execution_count": 131,
   "metadata": {},
   "outputs": [
    {
     "data": {
      "text/html": [
       "<div>\n",
       "<style scoped>\n",
       "    .dataframe tbody tr th:only-of-type {\n",
       "        vertical-align: middle;\n",
       "    }\n",
       "\n",
       "    .dataframe tbody tr th {\n",
       "        vertical-align: top;\n",
       "    }\n",
       "\n",
       "    .dataframe thead th {\n",
       "        text-align: right;\n",
       "    }\n",
       "</style>\n",
       "<table border=\"1\" class=\"dataframe\">\n",
       "  <thead>\n",
       "    <tr style=\"text-align: right;\">\n",
       "      <th></th>\n",
       "      <th>name</th>\n",
       "      <th>flights</th>\n",
       "    </tr>\n",
       "  </thead>\n",
       "  <tbody>\n",
       "    <tr>\n",
       "      <td>39</td>\n",
       "      <td>UNITED AIRLINES</td>\n",
       "      <td>178</td>\n",
       "    </tr>\n",
       "    <tr>\n",
       "      <td>29</td>\n",
       "      <td>SKYWEST AIRLINES</td>\n",
       "      <td>120</td>\n",
       "    </tr>\n",
       "    <tr>\n",
       "      <td>30</td>\n",
       "      <td>SOUTHWEST AIRLINES</td>\n",
       "      <td>42</td>\n",
       "    </tr>\n",
       "    <tr>\n",
       "      <td>6</td>\n",
       "      <td>AMERICAN AIRLINES</td>\n",
       "      <td>42</td>\n",
       "    </tr>\n",
       "    <tr>\n",
       "      <td>7</td>\n",
       "      <td>DELTA AIR LINES</td>\n",
       "      <td>32</td>\n",
       "    </tr>\n",
       "  </tbody>\n",
       "</table>\n",
       "</div>"
      ],
      "text/plain": [
       "                  name  flights\n",
       "39     UNITED AIRLINES      178\n",
       "29    SKYWEST AIRLINES      120\n",
       "30  SOUTHWEST AIRLINES       42\n",
       "6    AMERICAN AIRLINES       42\n",
       "7      DELTA AIR LINES       32"
      ]
     },
     "execution_count": 131,
     "metadata": {},
     "output_type": "execute_result"
    }
   ],
   "source": [
    "sfo_pos_before_names.sort_values(by='flights', ascending=False).head(5)"
   ]
  },
  {
   "cell_type": "code",
   "execution_count": 132,
   "metadata": {},
   "outputs": [
    {
     "data": {
      "text/html": [
       "<div>\n",
       "<style scoped>\n",
       "    .dataframe tbody tr th:only-of-type {\n",
       "        vertical-align: middle;\n",
       "    }\n",
       "\n",
       "    .dataframe tbody tr th {\n",
       "        vertical-align: top;\n",
       "    }\n",
       "\n",
       "    .dataframe thead th {\n",
       "        text-align: right;\n",
       "    }\n",
       "</style>\n",
       "<table border=\"1\" class=\"dataframe\">\n",
       "  <thead>\n",
       "    <tr style=\"text-align: right;\">\n",
       "      <th></th>\n",
       "      <th>name</th>\n",
       "      <th>flights</th>\n",
       "    </tr>\n",
       "  </thead>\n",
       "  <tbody>\n",
       "    <tr>\n",
       "      <td>18</td>\n",
       "      <td>UNITED AIRLINES</td>\n",
       "      <td>52</td>\n",
       "    </tr>\n",
       "    <tr>\n",
       "      <td>14</td>\n",
       "      <td>SKYWEST AIRLINES</td>\n",
       "      <td>40</td>\n",
       "    </tr>\n",
       "    <tr>\n",
       "      <td>15</td>\n",
       "      <td>SOUTHWEST AIRLINES</td>\n",
       "      <td>18</td>\n",
       "    </tr>\n",
       "    <tr>\n",
       "      <td>1</td>\n",
       "      <td>AMERICAN AIRLINES</td>\n",
       "      <td>15</td>\n",
       "    </tr>\n",
       "    <tr>\n",
       "      <td>5</td>\n",
       "      <td>DELTA AIR LINES</td>\n",
       "      <td>10</td>\n",
       "    </tr>\n",
       "  </tbody>\n",
       "</table>\n",
       "</div>"
      ],
      "text/plain": [
       "                  name  flights\n",
       "18     UNITED AIRLINES       52\n",
       "14    SKYWEST AIRLINES       40\n",
       "15  SOUTHWEST AIRLINES       18\n",
       "1    AMERICAN AIRLINES       15\n",
       "5      DELTA AIR LINES       10"
      ]
     },
     "execution_count": 132,
     "metadata": {},
     "output_type": "execute_result"
    }
   ],
   "source": [
    "sfo_pos_after_names.sort_values(by='flights', ascending=False).head(5)"
   ]
  },
  {
   "cell_type": "code",
   "execution_count": 133,
   "metadata": {},
   "outputs": [],
   "source": [
    "before_after_sfo_merge = pd.merge(sfo_pos_before_names, sfo_pos_after_names, on='name', how='inner')"
   ]
  },
  {
   "cell_type": "code",
   "execution_count": 134,
   "metadata": {},
   "outputs": [],
   "source": [
    "before_after_sfo_merge.rename(columns={\"flights_x\": \"before\", \"flights_y\": \"after\"}, inplace=True)"
   ]
  },
  {
   "cell_type": "code",
   "execution_count": 135,
   "metadata": {},
   "outputs": [
    {
     "data": {
      "text/html": [
       "<div>\n",
       "<style scoped>\n",
       "    .dataframe tbody tr th:only-of-type {\n",
       "        vertical-align: middle;\n",
       "    }\n",
       "\n",
       "    .dataframe tbody tr th {\n",
       "        vertical-align: top;\n",
       "    }\n",
       "\n",
       "    .dataframe thead th {\n",
       "        text-align: right;\n",
       "    }\n",
       "</style>\n",
       "<table border=\"1\" class=\"dataframe\">\n",
       "  <thead>\n",
       "    <tr style=\"text-align: right;\">\n",
       "      <th></th>\n",
       "      <th>name</th>\n",
       "      <th>before</th>\n",
       "      <th>after</th>\n",
       "    </tr>\n",
       "  </thead>\n",
       "  <tbody>\n",
       "    <tr>\n",
       "      <td>0</td>\n",
       "      <td>ALASKA AIRLINES</td>\n",
       "      <td>31</td>\n",
       "      <td>9</td>\n",
       "    </tr>\n",
       "    <tr>\n",
       "      <td>1</td>\n",
       "      <td>AMERICAN AIRLINES</td>\n",
       "      <td>42</td>\n",
       "      <td>15</td>\n",
       "    </tr>\n",
       "    <tr>\n",
       "      <td>2</td>\n",
       "      <td>DELTA AIR LINES</td>\n",
       "      <td>32</td>\n",
       "      <td>10</td>\n",
       "    </tr>\n",
       "    <tr>\n",
       "      <td>3</td>\n",
       "      <td>HAWAIIAN AIRLINES</td>\n",
       "      <td>2</td>\n",
       "      <td>1</td>\n",
       "    </tr>\n",
       "    <tr>\n",
       "      <td>4</td>\n",
       "      <td>JET-I 2616 OWNER TRUST</td>\n",
       "      <td>2</td>\n",
       "      <td>1</td>\n",
       "    </tr>\n",
       "  </tbody>\n",
       "</table>\n",
       "</div>"
      ],
      "text/plain": [
       "                     name  before  after\n",
       "0         ALASKA AIRLINES      31      9\n",
       "1       AMERICAN AIRLINES      42     15\n",
       "2         DELTA AIR LINES      32     10\n",
       "3       HAWAIIAN AIRLINES       2      1\n",
       "4  JET-I 2616 OWNER TRUST       2      1"
      ]
     },
     "execution_count": 135,
     "metadata": {},
     "output_type": "execute_result"
    }
   ],
   "source": [
    "before_after_sfo_merge.head()"
   ]
  },
  {
   "cell_type": "code",
   "execution_count": 136,
   "metadata": {},
   "outputs": [],
   "source": [
    "before_after_sfo_merge['change'] = \\\n",
    "((before_after_sfo_merge['after'] - before_after_sfo_merge['before'])/\\\n",
    " before_after_sfo_merge['before']*100).round(2)"
   ]
  },
  {
   "cell_type": "code",
   "execution_count": 137,
   "metadata": {},
   "outputs": [],
   "source": [
    "before_after_sfo_merge.sort_values(by='before', ascending=False).to_csv('output/sfo_before_after_webtable.csv', index=False)"
   ]
  },
  {
   "cell_type": "code",
   "execution_count": 138,
   "metadata": {},
   "outputs": [
    {
     "data": {
      "text/html": [
       "<div>\n",
       "<style scoped>\n",
       "    .dataframe tbody tr th:only-of-type {\n",
       "        vertical-align: middle;\n",
       "    }\n",
       "\n",
       "    .dataframe tbody tr th {\n",
       "        vertical-align: top;\n",
       "    }\n",
       "\n",
       "    .dataframe thead th {\n",
       "        text-align: right;\n",
       "    }\n",
       "</style>\n",
       "<table border=\"1\" class=\"dataframe\">\n",
       "  <thead>\n",
       "    <tr style=\"text-align: right;\">\n",
       "      <th></th>\n",
       "      <th>name</th>\n",
       "      <th>before</th>\n",
       "      <th>after</th>\n",
       "      <th>change</th>\n",
       "    </tr>\n",
       "  </thead>\n",
       "  <tbody>\n",
       "    <tr>\n",
       "      <td>11</td>\n",
       "      <td>UNITED AIRLINES</td>\n",
       "      <td>178</td>\n",
       "      <td>52</td>\n",
       "      <td>-70.79</td>\n",
       "    </tr>\n",
       "    <tr>\n",
       "      <td>7</td>\n",
       "      <td>SKYWEST AIRLINES</td>\n",
       "      <td>120</td>\n",
       "      <td>40</td>\n",
       "      <td>-66.67</td>\n",
       "    </tr>\n",
       "    <tr>\n",
       "      <td>1</td>\n",
       "      <td>AMERICAN AIRLINES</td>\n",
       "      <td>42</td>\n",
       "      <td>15</td>\n",
       "      <td>-64.29</td>\n",
       "    </tr>\n",
       "    <tr>\n",
       "      <td>8</td>\n",
       "      <td>SOUTHWEST AIRLINES</td>\n",
       "      <td>42</td>\n",
       "      <td>18</td>\n",
       "      <td>-57.14</td>\n",
       "    </tr>\n",
       "    <tr>\n",
       "      <td>2</td>\n",
       "      <td>DELTA AIR LINES</td>\n",
       "      <td>32</td>\n",
       "      <td>10</td>\n",
       "      <td>-68.75</td>\n",
       "    </tr>\n",
       "    <tr>\n",
       "      <td>0</td>\n",
       "      <td>ALASKA AIRLINES</td>\n",
       "      <td>31</td>\n",
       "      <td>9</td>\n",
       "      <td>-70.97</td>\n",
       "    </tr>\n",
       "    <tr>\n",
       "      <td>13</td>\n",
       "      <td>VIRGIN AMERICA</td>\n",
       "      <td>22</td>\n",
       "      <td>3</td>\n",
       "      <td>-86.36</td>\n",
       "    </tr>\n",
       "    <tr>\n",
       "      <td>5</td>\n",
       "      <td>JETBLUE AIRWAYS</td>\n",
       "      <td>20</td>\n",
       "      <td>3</td>\n",
       "      <td>-85.00</td>\n",
       "    </tr>\n",
       "    <tr>\n",
       "      <td>12</td>\n",
       "      <td>UNITED EXPRESS</td>\n",
       "      <td>7</td>\n",
       "      <td>2</td>\n",
       "      <td>-71.43</td>\n",
       "    </tr>\n",
       "    <tr>\n",
       "      <td>10</td>\n",
       "      <td>UMB BANK NA TRUSTEE</td>\n",
       "      <td>5</td>\n",
       "      <td>2</td>\n",
       "      <td>-60.00</td>\n",
       "    </tr>\n",
       "  </tbody>\n",
       "</table>\n",
       "</div>"
      ],
      "text/plain": [
       "                   name  before  after  change\n",
       "11      UNITED AIRLINES     178     52  -70.79\n",
       "7      SKYWEST AIRLINES     120     40  -66.67\n",
       "1     AMERICAN AIRLINES      42     15  -64.29\n",
       "8    SOUTHWEST AIRLINES      42     18  -57.14\n",
       "2       DELTA AIR LINES      32     10  -68.75\n",
       "0       ALASKA AIRLINES      31      9  -70.97\n",
       "13       VIRGIN AMERICA      22      3  -86.36\n",
       "5       JETBLUE AIRWAYS      20      3  -85.00\n",
       "12       UNITED EXPRESS       7      2  -71.43\n",
       "10  UMB BANK NA TRUSTEE       5      2  -60.00"
      ]
     },
     "execution_count": 138,
     "metadata": {},
     "output_type": "execute_result"
    }
   ],
   "source": [
    "before_after_sfo_merge.sort_values(by='before', ascending=False).head(10)"
   ]
  },
  {
   "cell_type": "code",
   "execution_count": 139,
   "metadata": {},
   "outputs": [],
   "source": [
    "sfo_pos_before_names.to_csv('output/table_sfo_pos_before_names.csv')\n",
    "sfo_pos_after_names.to_csv('output/table_sfo_pos_after_names.csv')"
   ]
  },
  {
   "cell_type": "markdown",
   "metadata": {},
   "source": [
    "### Top airlines before"
   ]
  },
  {
   "cell_type": "code",
   "execution_count": 140,
   "metadata": {},
   "outputs": [
    {
     "data": {
      "text/plain": [
       "561"
      ]
     },
     "execution_count": 140,
     "metadata": {},
     "output_type": "execute_result"
    }
   ],
   "source": [
    "sfo_pos_before_names.flights.sum()"
   ]
  },
  {
   "cell_type": "markdown",
   "metadata": {},
   "source": [
    "### Top airlines after"
   ]
  },
  {
   "cell_type": "code",
   "execution_count": 141,
   "metadata": {},
   "outputs": [
    {
     "data": {
      "text/plain": [
       "169"
      ]
     },
     "execution_count": 141,
     "metadata": {},
     "output_type": "execute_result"
    }
   ],
   "source": [
    "sfo_pos_after_names.flights.sum()"
   ]
  },
  {
   "cell_type": "markdown",
   "metadata": {},
   "source": [
    "### How much was the decline in total flights at SFO?"
   ]
  },
  {
   "cell_type": "code",
   "execution_count": 142,
   "metadata": {},
   "outputs": [
    {
     "data": {
      "text/plain": [
       "'-69.88%'"
      ]
     },
     "execution_count": 142,
     "metadata": {},
     "output_type": "execute_result"
    }
   ],
   "source": [
    "'{:,.2f}%'.format(((sfo_pos_after_names.flights.sum() - \\\n",
    "   sfo_pos_before_names.flights.sum())/sfo_pos_before_names.flights.sum()*100))"
   ]
  },
  {
   "cell_type": "markdown",
   "metadata": {},
   "source": [
    "---"
   ]
  },
  {
   "cell_type": "markdown",
   "metadata": {},
   "source": [
    "### What's still flying at SNA?"
   ]
  },
  {
   "cell_type": "code",
   "execution_count": 143,
   "metadata": {},
   "outputs": [],
   "source": [
    "sna_pos_after = positions_geo_after_line[positions_geo_after_line['schd_from'] == 'SNA']"
   ]
  },
  {
   "cell_type": "code",
   "execution_count": 144,
   "metadata": {},
   "outputs": [],
   "source": [
    "sna_pos_before = positions_geo_before_line[positions_geo_before_line['schd_from'] == 'SNA']"
   ]
  },
  {
   "cell_type": "code",
   "execution_count": 145,
   "metadata": {},
   "outputs": [],
   "source": [
    "sna_pos_after_names = sna_pos_after.groupby(['name']).agg('size').reset_index(name='flights')\n",
    "sna_pos_before_names = sna_pos_before.groupby(['name']).agg('size').reset_index(name='flights')"
   ]
  },
  {
   "cell_type": "code",
   "execution_count": 146,
   "metadata": {},
   "outputs": [
    {
     "data": {
      "text/html": [
       "<div>\n",
       "<style scoped>\n",
       "    .dataframe tbody tr th:only-of-type {\n",
       "        vertical-align: middle;\n",
       "    }\n",
       "\n",
       "    .dataframe tbody tr th {\n",
       "        vertical-align: top;\n",
       "    }\n",
       "\n",
       "    .dataframe thead th {\n",
       "        text-align: right;\n",
       "    }\n",
       "</style>\n",
       "<table border=\"1\" class=\"dataframe\">\n",
       "  <thead>\n",
       "    <tr style=\"text-align: right;\">\n",
       "      <th></th>\n",
       "      <th>name</th>\n",
       "      <th>flights</th>\n",
       "    </tr>\n",
       "  </thead>\n",
       "  <tbody>\n",
       "    <tr>\n",
       "      <td>101</td>\n",
       "      <td>SOUTHWEST AIRLINES</td>\n",
       "      <td>41</td>\n",
       "    </tr>\n",
       "    <tr>\n",
       "      <td>108</td>\n",
       "      <td>UNITED AIRLINES</td>\n",
       "      <td>18</td>\n",
       "    </tr>\n",
       "    <tr>\n",
       "      <td>100</td>\n",
       "      <td>SKYWEST AIRLINES</td>\n",
       "      <td>16</td>\n",
       "    </tr>\n",
       "    <tr>\n",
       "      <td>18</td>\n",
       "      <td>AMERICAN AIRLINES</td>\n",
       "      <td>14</td>\n",
       "    </tr>\n",
       "    <tr>\n",
       "      <td>34</td>\n",
       "      <td>DELTA AIR LINES</td>\n",
       "      <td>14</td>\n",
       "    </tr>\n",
       "    <tr>\n",
       "      <td>15</td>\n",
       "      <td>ALASKA AIRLINES</td>\n",
       "      <td>6</td>\n",
       "    </tr>\n",
       "    <tr>\n",
       "      <td>35</td>\n",
       "      <td>DELUX PUBLIC CHARTER</td>\n",
       "      <td>6</td>\n",
       "    </tr>\n",
       "    <tr>\n",
       "      <td>72</td>\n",
       "      <td>NETJETS SALES</td>\n",
       "      <td>6</td>\n",
       "    </tr>\n",
       "    <tr>\n",
       "      <td>113</td>\n",
       "      <td>VIRGIN AMERICA</td>\n",
       "      <td>5</td>\n",
       "    </tr>\n",
       "    <tr>\n",
       "      <td>54</td>\n",
       "      <td>JG CAPITAL HOLDINGS</td>\n",
       "      <td>3</td>\n",
       "    </tr>\n",
       "  </tbody>\n",
       "</table>\n",
       "</div>"
      ],
      "text/plain": [
       "                     name  flights\n",
       "101    SOUTHWEST AIRLINES       41\n",
       "108       UNITED AIRLINES       18\n",
       "100      SKYWEST AIRLINES       16\n",
       "18      AMERICAN AIRLINES       14\n",
       "34        DELTA AIR LINES       14\n",
       "15        ALASKA AIRLINES        6\n",
       "35   DELUX PUBLIC CHARTER        6\n",
       "72          NETJETS SALES        6\n",
       "113        VIRGIN AMERICA        5\n",
       "54    JG CAPITAL HOLDINGS        3"
      ]
     },
     "execution_count": 146,
     "metadata": {},
     "output_type": "execute_result"
    }
   ],
   "source": [
    "sna_pos_before_names.sort_values(by='flights', ascending=False).head(10)"
   ]
  },
  {
   "cell_type": "code",
   "execution_count": 147,
   "metadata": {},
   "outputs": [
    {
     "data": {
      "text/html": [
       "<div>\n",
       "<style scoped>\n",
       "    .dataframe tbody tr th:only-of-type {\n",
       "        vertical-align: middle;\n",
       "    }\n",
       "\n",
       "    .dataframe tbody tr th {\n",
       "        vertical-align: top;\n",
       "    }\n",
       "\n",
       "    .dataframe thead th {\n",
       "        text-align: right;\n",
       "    }\n",
       "</style>\n",
       "<table border=\"1\" class=\"dataframe\">\n",
       "  <thead>\n",
       "    <tr style=\"text-align: right;\">\n",
       "      <th></th>\n",
       "      <th>name</th>\n",
       "      <th>flights</th>\n",
       "    </tr>\n",
       "  </thead>\n",
       "  <tbody>\n",
       "    <tr>\n",
       "      <td>16</td>\n",
       "      <td>SOUTHWEST AIRLINES</td>\n",
       "      <td>10</td>\n",
       "    </tr>\n",
       "    <tr>\n",
       "      <td>2</td>\n",
       "      <td>AMERICAN AIRLINES</td>\n",
       "      <td>4</td>\n",
       "    </tr>\n",
       "    <tr>\n",
       "      <td>18</td>\n",
       "      <td>UNITED AIRLINES</td>\n",
       "      <td>4</td>\n",
       "    </tr>\n",
       "    <tr>\n",
       "      <td>15</td>\n",
       "      <td>SKYWEST AIRLINES</td>\n",
       "      <td>4</td>\n",
       "    </tr>\n",
       "    <tr>\n",
       "      <td>9</td>\n",
       "      <td>HORIZON AIR INDUSTRIES</td>\n",
       "      <td>3</td>\n",
       "    </tr>\n",
       "    <tr>\n",
       "      <td>5</td>\n",
       "      <td>DELTA AIR LINES</td>\n",
       "      <td>2</td>\n",
       "    </tr>\n",
       "    <tr>\n",
       "      <td>0</td>\n",
       "      <td>ADVANCED CHARTER INDUSTRIES</td>\n",
       "      <td>1</td>\n",
       "    </tr>\n",
       "    <tr>\n",
       "      <td>14</td>\n",
       "      <td>PACIFIC FLIGHT AVIATION</td>\n",
       "      <td>1</td>\n",
       "    </tr>\n",
       "    <tr>\n",
       "      <td>22</td>\n",
       "      <td>WHEELS UP PARTNERS</td>\n",
       "      <td>1</td>\n",
       "    </tr>\n",
       "    <tr>\n",
       "      <td>21</td>\n",
       "      <td>VIRGIN AMERICA</td>\n",
       "      <td>1</td>\n",
       "    </tr>\n",
       "  </tbody>\n",
       "</table>\n",
       "</div>"
      ],
      "text/plain": [
       "                           name  flights\n",
       "16           SOUTHWEST AIRLINES       10\n",
       "2             AMERICAN AIRLINES        4\n",
       "18              UNITED AIRLINES        4\n",
       "15             SKYWEST AIRLINES        4\n",
       "9        HORIZON AIR INDUSTRIES        3\n",
       "5               DELTA AIR LINES        2\n",
       "0   ADVANCED CHARTER INDUSTRIES        1\n",
       "14      PACIFIC FLIGHT AVIATION        1\n",
       "22           WHEELS UP PARTNERS        1\n",
       "21               VIRGIN AMERICA        1"
      ]
     },
     "execution_count": 147,
     "metadata": {},
     "output_type": "execute_result"
    }
   ],
   "source": [
    "sna_pos_after_names.sort_values(by='flights', ascending=False).head(10)"
   ]
  },
  {
   "cell_type": "code",
   "execution_count": 148,
   "metadata": {},
   "outputs": [],
   "source": [
    "before_after_sna_merge = pd.merge(sna_pos_before_names, sna_pos_after_names, on='name', how='inner')"
   ]
  },
  {
   "cell_type": "code",
   "execution_count": 149,
   "metadata": {},
   "outputs": [],
   "source": [
    "before_after_sna_merge.rename(columns={\"flights_x\": \"before\", \"flights_y\": \"after\"}, inplace=True)"
   ]
  },
  {
   "cell_type": "code",
   "execution_count": 150,
   "metadata": {},
   "outputs": [
    {
     "data": {
      "text/html": [
       "<div>\n",
       "<style scoped>\n",
       "    .dataframe tbody tr th:only-of-type {\n",
       "        vertical-align: middle;\n",
       "    }\n",
       "\n",
       "    .dataframe tbody tr th {\n",
       "        vertical-align: top;\n",
       "    }\n",
       "\n",
       "    .dataframe thead th {\n",
       "        text-align: right;\n",
       "    }\n",
       "</style>\n",
       "<table border=\"1\" class=\"dataframe\">\n",
       "  <thead>\n",
       "    <tr style=\"text-align: right;\">\n",
       "      <th></th>\n",
       "      <th>name</th>\n",
       "      <th>before</th>\n",
       "      <th>after</th>\n",
       "    </tr>\n",
       "  </thead>\n",
       "  <tbody>\n",
       "    <tr>\n",
       "      <td>0</td>\n",
       "      <td>ADVANCED CHARTER INDUSTRIES</td>\n",
       "      <td>1</td>\n",
       "      <td>1</td>\n",
       "    </tr>\n",
       "    <tr>\n",
       "      <td>1</td>\n",
       "      <td>AMERICAN AIRLINES</td>\n",
       "      <td>14</td>\n",
       "      <td>4</td>\n",
       "    </tr>\n",
       "    <tr>\n",
       "      <td>2</td>\n",
       "      <td>CORBITT JAMES TODD</td>\n",
       "      <td>1</td>\n",
       "      <td>1</td>\n",
       "    </tr>\n",
       "    <tr>\n",
       "      <td>3</td>\n",
       "      <td>DELTA AIR LINES</td>\n",
       "      <td>14</td>\n",
       "      <td>2</td>\n",
       "    </tr>\n",
       "    <tr>\n",
       "      <td>4</td>\n",
       "      <td>DELUX PUBLIC CHARTER</td>\n",
       "      <td>6</td>\n",
       "      <td>1</td>\n",
       "    </tr>\n",
       "    <tr>\n",
       "      <td>5</td>\n",
       "      <td>HORIZON AIR INDUSTRIES</td>\n",
       "      <td>2</td>\n",
       "      <td>3</td>\n",
       "    </tr>\n",
       "    <tr>\n",
       "      <td>6</td>\n",
       "      <td>NETJETS SALES</td>\n",
       "      <td>6</td>\n",
       "      <td>1</td>\n",
       "    </tr>\n",
       "    <tr>\n",
       "      <td>7</td>\n",
       "      <td>PACIFIC FLIGHT AVIATION</td>\n",
       "      <td>3</td>\n",
       "      <td>1</td>\n",
       "    </tr>\n",
       "    <tr>\n",
       "      <td>8</td>\n",
       "      <td>SKYWEST AIRLINES</td>\n",
       "      <td>16</td>\n",
       "      <td>4</td>\n",
       "    </tr>\n",
       "    <tr>\n",
       "      <td>9</td>\n",
       "      <td>SOUTHWEST AIRLINES</td>\n",
       "      <td>41</td>\n",
       "      <td>10</td>\n",
       "    </tr>\n",
       "    <tr>\n",
       "      <td>10</td>\n",
       "      <td>UNITED AIRLINES</td>\n",
       "      <td>18</td>\n",
       "      <td>4</td>\n",
       "    </tr>\n",
       "    <tr>\n",
       "      <td>11</td>\n",
       "      <td>VCS ENCORE</td>\n",
       "      <td>2</td>\n",
       "      <td>1</td>\n",
       "    </tr>\n",
       "    <tr>\n",
       "      <td>12</td>\n",
       "      <td>VIRGIN AMERICA</td>\n",
       "      <td>5</td>\n",
       "      <td>1</td>\n",
       "    </tr>\n",
       "    <tr>\n",
       "      <td>13</td>\n",
       "      <td>WHEELS UP PARTNERS</td>\n",
       "      <td>1</td>\n",
       "      <td>1</td>\n",
       "    </tr>\n",
       "  </tbody>\n",
       "</table>\n",
       "</div>"
      ],
      "text/plain": [
       "                           name  before  after\n",
       "0   ADVANCED CHARTER INDUSTRIES       1      1\n",
       "1             AMERICAN AIRLINES      14      4\n",
       "2            CORBITT JAMES TODD       1      1\n",
       "3               DELTA AIR LINES      14      2\n",
       "4          DELUX PUBLIC CHARTER       6      1\n",
       "5        HORIZON AIR INDUSTRIES       2      3\n",
       "6                 NETJETS SALES       6      1\n",
       "7       PACIFIC FLIGHT AVIATION       3      1\n",
       "8              SKYWEST AIRLINES      16      4\n",
       "9            SOUTHWEST AIRLINES      41     10\n",
       "10              UNITED AIRLINES      18      4\n",
       "11                   VCS ENCORE       2      1\n",
       "12               VIRGIN AMERICA       5      1\n",
       "13           WHEELS UP PARTNERS       1      1"
      ]
     },
     "execution_count": 150,
     "metadata": {},
     "output_type": "execute_result"
    }
   ],
   "source": [
    "before_after_sna_merge.head(50)"
   ]
  },
  {
   "cell_type": "code",
   "execution_count": 151,
   "metadata": {},
   "outputs": [],
   "source": [
    "before_after_sna_merge['change'] = \\\n",
    "((before_after_sna_merge['after'] - before_after_sna_merge['before'])/\\\n",
    " before_after_sna_merge['before']*100).round(2)"
   ]
  },
  {
   "cell_type": "code",
   "execution_count": 152,
   "metadata": {},
   "outputs": [],
   "source": [
    "before_after_sna_merge.sort_values(by='before', ascending=False).to_csv('output/sna_before_after_webtable.csv', index=False)"
   ]
  },
  {
   "cell_type": "code",
   "execution_count": 153,
   "metadata": {},
   "outputs": [
    {
     "data": {
      "text/html": [
       "<div>\n",
       "<style scoped>\n",
       "    .dataframe tbody tr th:only-of-type {\n",
       "        vertical-align: middle;\n",
       "    }\n",
       "\n",
       "    .dataframe tbody tr th {\n",
       "        vertical-align: top;\n",
       "    }\n",
       "\n",
       "    .dataframe thead th {\n",
       "        text-align: right;\n",
       "    }\n",
       "</style>\n",
       "<table border=\"1\" class=\"dataframe\">\n",
       "  <thead>\n",
       "    <tr style=\"text-align: right;\">\n",
       "      <th></th>\n",
       "      <th>name</th>\n",
       "      <th>before</th>\n",
       "      <th>after</th>\n",
       "      <th>change</th>\n",
       "    </tr>\n",
       "  </thead>\n",
       "  <tbody>\n",
       "    <tr>\n",
       "      <td>9</td>\n",
       "      <td>SOUTHWEST AIRLINES</td>\n",
       "      <td>41</td>\n",
       "      <td>10</td>\n",
       "      <td>-75.61</td>\n",
       "    </tr>\n",
       "    <tr>\n",
       "      <td>10</td>\n",
       "      <td>UNITED AIRLINES</td>\n",
       "      <td>18</td>\n",
       "      <td>4</td>\n",
       "      <td>-77.78</td>\n",
       "    </tr>\n",
       "    <tr>\n",
       "      <td>8</td>\n",
       "      <td>SKYWEST AIRLINES</td>\n",
       "      <td>16</td>\n",
       "      <td>4</td>\n",
       "      <td>-75.00</td>\n",
       "    </tr>\n",
       "    <tr>\n",
       "      <td>1</td>\n",
       "      <td>AMERICAN AIRLINES</td>\n",
       "      <td>14</td>\n",
       "      <td>4</td>\n",
       "      <td>-71.43</td>\n",
       "    </tr>\n",
       "    <tr>\n",
       "      <td>3</td>\n",
       "      <td>DELTA AIR LINES</td>\n",
       "      <td>14</td>\n",
       "      <td>2</td>\n",
       "      <td>-85.71</td>\n",
       "    </tr>\n",
       "    <tr>\n",
       "      <td>4</td>\n",
       "      <td>DELUX PUBLIC CHARTER</td>\n",
       "      <td>6</td>\n",
       "      <td>1</td>\n",
       "      <td>-83.33</td>\n",
       "    </tr>\n",
       "    <tr>\n",
       "      <td>6</td>\n",
       "      <td>NETJETS SALES</td>\n",
       "      <td>6</td>\n",
       "      <td>1</td>\n",
       "      <td>-83.33</td>\n",
       "    </tr>\n",
       "    <tr>\n",
       "      <td>12</td>\n",
       "      <td>VIRGIN AMERICA</td>\n",
       "      <td>5</td>\n",
       "      <td>1</td>\n",
       "      <td>-80.00</td>\n",
       "    </tr>\n",
       "    <tr>\n",
       "      <td>7</td>\n",
       "      <td>PACIFIC FLIGHT AVIATION</td>\n",
       "      <td>3</td>\n",
       "      <td>1</td>\n",
       "      <td>-66.67</td>\n",
       "    </tr>\n",
       "    <tr>\n",
       "      <td>5</td>\n",
       "      <td>HORIZON AIR INDUSTRIES</td>\n",
       "      <td>2</td>\n",
       "      <td>3</td>\n",
       "      <td>50.00</td>\n",
       "    </tr>\n",
       "  </tbody>\n",
       "</table>\n",
       "</div>"
      ],
      "text/plain": [
       "                       name  before  after  change\n",
       "9        SOUTHWEST AIRLINES      41     10  -75.61\n",
       "10          UNITED AIRLINES      18      4  -77.78\n",
       "8          SKYWEST AIRLINES      16      4  -75.00\n",
       "1         AMERICAN AIRLINES      14      4  -71.43\n",
       "3           DELTA AIR LINES      14      2  -85.71\n",
       "4      DELUX PUBLIC CHARTER       6      1  -83.33\n",
       "6             NETJETS SALES       6      1  -83.33\n",
       "12           VIRGIN AMERICA       5      1  -80.00\n",
       "7   PACIFIC FLIGHT AVIATION       3      1  -66.67\n",
       "5    HORIZON AIR INDUSTRIES       2      3   50.00"
      ]
     },
     "execution_count": 153,
     "metadata": {},
     "output_type": "execute_result"
    }
   ],
   "source": [
    "before_after_sna_merge.sort_values(by='before', ascending=False).head(10)"
   ]
  },
  {
   "cell_type": "code",
   "execution_count": 154,
   "metadata": {},
   "outputs": [],
   "source": [
    "sna_pos_before_names.to_csv('output/table_sna_pos_before_names.csv')\n",
    "sna_pos_after_names.to_csv('output/table_sna_pos_after_names.csv')"
   ]
  },
  {
   "cell_type": "markdown",
   "metadata": {},
   "source": [
    "### Top airlines before"
   ]
  },
  {
   "cell_type": "code",
   "execution_count": 155,
   "metadata": {},
   "outputs": [
    {
     "data": {
      "text/plain": [
       "249"
      ]
     },
     "execution_count": 155,
     "metadata": {},
     "output_type": "execute_result"
    }
   ],
   "source": [
    "sna_pos_before_names.flights.sum()"
   ]
  },
  {
   "cell_type": "markdown",
   "metadata": {},
   "source": [
    "### Top airlines after"
   ]
  },
  {
   "cell_type": "code",
   "execution_count": 156,
   "metadata": {},
   "outputs": [
    {
     "data": {
      "text/plain": [
       "45"
      ]
     },
     "execution_count": 156,
     "metadata": {},
     "output_type": "execute_result"
    }
   ],
   "source": [
    "sna_pos_after_names.flights.sum()"
   ]
  },
  {
   "cell_type": "markdown",
   "metadata": {},
   "source": [
    "### How much was the decline in total flights at SFO?"
   ]
  },
  {
   "cell_type": "code",
   "execution_count": 157,
   "metadata": {},
   "outputs": [
    {
     "data": {
      "text/plain": [
       "'-81.93%'"
      ]
     },
     "execution_count": 157,
     "metadata": {},
     "output_type": "execute_result"
    }
   ],
   "source": [
    "'{:,.2f}%'.format(((sna_pos_after_names.flights.sum() - \\\n",
    "   sna_pos_before_names.flights.sum())/sna_pos_before_names.flights.sum()*100))"
   ]
  },
  {
   "cell_type": "markdown",
   "metadata": {},
   "source": [
    "---"
   ]
  },
  {
   "cell_type": "markdown",
   "metadata": {},
   "source": [
    "## Flights by airline"
   ]
  },
  {
   "cell_type": "markdown",
   "metadata": {},
   "source": [
    "### American Airlines before"
   ]
  },
  {
   "cell_type": "code",
   "execution_count": 158,
   "metadata": {},
   "outputs": [],
   "source": [
    "aa_before_line_lax = positions_geo_before_line[(positions_geo_before_line['name'] == 'AMERICAN AIRLINES')&\\\n",
    "                                              (positions_geo_before_line['schd_from'] == 'LAX')]"
   ]
  },
  {
   "cell_type": "code",
   "execution_count": 159,
   "metadata": {},
   "outputs": [
    {
     "data": {
      "text/plain": [
       "<matplotlib.axes._subplots.AxesSubplot at 0x6bcb5ea90>"
      ]
     },
     "execution_count": 159,
     "metadata": {},
     "output_type": "execute_result"
    },
    {
     "data": {
      "image/png": "[encoded data removed]",
      "text/plain": [
       "<Figure size 432x288 with 1 Axes>"
      ]
     },
     "metadata": {
      "needs_background": "light"
     },
     "output_type": "display_data"
    }
   ],
   "source": [
    "aa_before_line_lax.plot()"
   ]
  },
  {
   "cell_type": "markdown",
   "metadata": {},
   "source": [
    "### American Airlines after"
   ]
  },
  {
   "cell_type": "code",
   "execution_count": 160,
   "metadata": {},
   "outputs": [],
   "source": [
    "aa_after_line_lax = positions_geo_after_line[(positions_geo_after_line['name'] == 'AMERICAN AIRLINES')&\\\n",
    "                                              (positions_geo_after_line['schd_from'] == 'LAX')]"
   ]
  },
  {
   "cell_type": "code",
   "execution_count": 161,
   "metadata": {},
   "outputs": [
    {
     "data": {
      "text/plain": [
       "<matplotlib.axes._subplots.AxesSubplot at 0x6bcb8e250>"
      ]
     },
     "execution_count": 161,
     "metadata": {},
     "output_type": "execute_result"
    },
    {
     "data": {
      "image/png": "[encoded data removed]",
      "text/plain": [
       "<Figure size 432x288 with 1 Axes>"
      ]
     },
     "metadata": {
      "needs_background": "light"
     },
     "output_type": "display_data"
    }
   ],
   "source": [
    "aa_after_line_lax.plot()"
   ]
  },
  {
   "cell_type": "markdown",
   "metadata": {},
   "source": [
    "### Export to geojson and mbtiles"
   ]
  },
  {
   "cell_type": "code",
   "execution_count": 162,
   "metadata": {},
   "outputs": [],
   "source": [
    "# aa_before_line_lax.to_file('/Users/mhustiles/data/data/flights/coronavirus/aa_before_line_lax.geojson', \\\n",
    "#                            driver='GeoJSON')\n",
    "# aa_after_line_lax.to_file('/Users/mhustiles/data/data/flights/coronavirus/aa_after_line_lax.geojson', \\\n",
    "#                            driver='GeoJSON')"
   ]
  },
  {
   "cell_type": "code",
   "execution_count": 163,
   "metadata": {},
   "outputs": [],
   "source": [
    "# !tippecanoe --generate-ids --force -Z3 -z12 -r1 -pk -pf -o \\\n",
    "# /Users/mhustiles/data/data/flights/coronavirus/aa_before_line_lax.mbtiles \\\n",
    "# /Users/mhustiles/data/data/flights/coronavirus/aa_before_line_lax.geojson"
   ]
  },
  {
   "cell_type": "code",
   "execution_count": 164,
   "metadata": {},
   "outputs": [],
   "source": [
    "# !tippecanoe --generate-ids --force -Z3 -z12 -r1 -pk -pf -o \\\n",
    "# /Users/mhustiles/data/data/flights/coronavirus/aa_after_line_lax.mbtiles \\\n",
    "# /Users/mhustiles/data/data/flights/coronavirus/aa_after_line_lax.geojson"
   ]
  },
  {
   "cell_type": "markdown",
   "metadata": {},
   "source": [
    "---"
   ]
  },
  {
   "cell_type": "markdown",
   "metadata": {},
   "source": [
    "### Cut 'before' GeoJSON files for each of our airports before COVID-19"
   ]
  },
  {
   "cell_type": "code",
   "execution_count": 165,
   "metadata": {},
   "outputs": [],
   "source": [
    "for airport in positions_geo_before.schd_from.unique():\n",
    "    positions_geo_before[positions_geo_before['schd_from'] == '{}'.format(airport)]\\\n",
    "    .to_file('/Users/mhustiles/data/data/flights/coronavirus/\\\n",
    "positions_geo_before_{}.geojson'.format(airport), driver='GeoJSON')"
   ]
  },
  {
   "cell_type": "code",
   "execution_count": 166,
   "metadata": {},
   "outputs": [],
   "source": [
    "for airport in positions_geo_before_line.schd_from.unique():\n",
    "    positions_geo_before_line[positions_geo_before_line['schd_from'] == '{}'.format(airport)]\\\n",
    "    .to_file('/Users/mhustiles/data/data/flights/coronavirus/\\\n",
    "positions_geo_before_line_{}.geojson'.format(airport), driver='GeoJSON')"
   ]
  },
  {
   "cell_type": "markdown",
   "metadata": {},
   "source": [
    "### Cut 'after' GeoJSON files for each of our airports after COVID-19"
   ]
  },
  {
   "cell_type": "code",
   "execution_count": 167,
   "metadata": {},
   "outputs": [],
   "source": [
    "for airport in positions_geo_after.schd_from.unique():\n",
    "    positions_geo_after[positions_geo_after['schd_from'] == '{}'.format(airport)]\\\n",
    "    .to_file('/Users/mhustiles/data/data/flights/coronavirus/\\\n",
    "positions_geo_after_{}.geojson'.format(airport), driver='GeoJSON')"
   ]
  },
  {
   "cell_type": "code",
   "execution_count": 168,
   "metadata": {},
   "outputs": [],
   "source": [
    "for airport in positions_geo_after_line.schd_from.unique():\n",
    "    positions_geo_after_line[positions_geo_after_line['schd_from'] == '{}'.format(airport)]\\\n",
    "    .to_file('/Users/mhustiles/data/data/flights/coronavirus/\\\n",
    "positions_geo_after_line_{}.geojson'.format(airport), driver='GeoJSON')"
   ]
  },
  {
   "cell_type": "markdown",
   "metadata": {},
   "source": [
    "---"
   ]
  },
  {
   "cell_type": "markdown",
   "metadata": {},
   "source": [
    "### Grid (CA 1 mile)"
   ]
  },
  {
   "cell_type": "code",
   "execution_count": 169,
   "metadata": {},
   "outputs": [],
   "source": [
    "# grid = gpd.read_file('/Users/mhustiles/data/data/GIS/LA/socal-halfmile.geojson')"
   ]
  },
  {
   "cell_type": "code",
   "execution_count": 170,
   "metadata": {},
   "outputs": [],
   "source": [
    "# grid.crs = {'init': 'epsg:4326'}\n",
    "# grid.to_crs({'init': 'epsg:4326'})"
   ]
  },
  {
   "cell_type": "code",
   "execution_count": 171,
   "metadata": {},
   "outputs": [],
   "source": [
    "# grid.plot()"
   ]
  },
  {
   "cell_type": "code",
   "execution_count": 172,
   "metadata": {},
   "outputs": [],
   "source": [
    "# df_la = pd.DataFrame()\n",
    "\n",
    "# for n in la_choppers:\n",
    "#     c = n['n_number']\n",
    "#     choppers = positions_geo[positions_geo['reg'] == c]\n",
    "#     choppers.crs = \"epsg:4326\"\n",
    "#     dfsjoin = gpd.sjoin(hexbins,choppers)\n",
    "#     dfpivot = pd.pivot_table(dfsjoin,index='id',columns='n_number',aggfunc={'n_number':len})\n",
    "#     dfpivot.columns = dfpivot.columns.droplevel()\n",
    "#     dfpolynew = hexbins.merge(dfpivot, how='left',on='id')\n",
    "#     dfpolynew.to_file('/Users/mhustiles/data/data/helicopters/' + c + 'hex.geojson', driver='GeoJSON')"
   ]
  },
  {
   "cell_type": "code",
   "execution_count": 173,
   "metadata": {},
   "outputs": [],
   "source": [
    "# lax_before = gpd.read_file('/Users/mhustiles/data/data/flights/coronavirus/positions_geo_before_LAX.geojson')\n",
    "# lax_after = gpd.read_file('/Users/mhustiles/data/data/flights/coronavirus/positions_geo_after_LAX.geojson')"
   ]
  },
  {
   "cell_type": "code",
   "execution_count": 174,
   "metadata": {},
   "outputs": [],
   "source": [
    "# positions_geo_before_flying = positions_geo_before[positions_geo_before['speed'] > 10 ]\n",
    "# positions_geo_after_flying = positions_geo_after[positions_geo_after['speed'] > 10 ]"
   ]
  },
  {
   "cell_type": "code",
   "execution_count": 175,
   "metadata": {},
   "outputs": [],
   "source": [
    "# positions_geo_before_flying.crs = {'init': 'epsg:4326'}\n",
    "# positions_geo_before_flying.to_crs({'init': 'epsg:4326'})\n",
    "# positions_geo_after_flying.crs = {'init': 'epsg:4326'}\n",
    "# positions_geo_after_flying.to_crs({'init': 'epsg:4326'})"
   ]
  },
  {
   "cell_type": "code",
   "execution_count": 176,
   "metadata": {},
   "outputs": [],
   "source": [
    "# dfsjoin = gpd.sjoin(positions_geo_after_flying, grid)"
   ]
  },
  {
   "cell_type": "code",
   "execution_count": 177,
   "metadata": {},
   "outputs": [],
   "source": [
    "# dfsjoingroup = dfsjoin.groupby(['id']).agg('size').reset_index(name='pings')"
   ]
  },
  {
   "cell_type": "code",
   "execution_count": 178,
   "metadata": {},
   "outputs": [],
   "source": [
    "# dfpolynew = grid.merge(dfsjoingroup, how='left',on='id')"
   ]
  },
  {
   "cell_type": "code",
   "execution_count": 179,
   "metadata": {},
   "outputs": [],
   "source": [
    "# dfpolynew.to_file('/Users/mhustiles/data/data/flights/coronavirus/positions_geo_after_grid.geojson', driver='GeoJSON')"
   ]
  },
  {
   "cell_type": "code",
   "execution_count": 180,
   "metadata": {},
   "outputs": [],
   "source": [
    "# # !tippecanoe --generate-ids --force -r1 -pk -pf -o \\\n",
    "#     /Users/mhustiles/data/data/flights/coronavirus/positions_geo_after_grid.mbtiles \\\n",
    "#     /Users/mhustiles/data/data/flights/coronavirus/positions_geo_after_grid.geojson"
   ]
  },
  {
   "cell_type": "markdown",
   "metadata": {},
   "source": [
    "---"
   ]
  },
  {
   "cell_type": "markdown",
   "metadata": {},
   "source": [
    "## Mapbox static API"
   ]
  },
  {
   "cell_type": "markdown",
   "metadata": {},
   "source": [
    "### CA flights map"
   ]
  },
  {
   "cell_type": "code",
   "execution_count": 181,
   "metadata": {},
   "outputs": [
    {
     "data": {
      "text/plain": [
       "'https://api.mapbox.com/styles/v1/latimes/ck93697cw1al01ir1hdlfgpsr/static/-119.6506,35.8239,6.5,0/1280x812@2x?access_token=pk.eyJ1IjoibGF0aW1lcyIsImEiOiJjajhvcXRraGUwNnlwMzNyczR3cTBsaWh1In0.0cPKLwe2A0ET4P5CtWSiLQ'"
      ]
     },
     "execution_count": 181,
     "metadata": {},
     "output_type": "execute_result"
    }
   ],
   "source": [
    "#before code = ck8meit0i1k2d1inzp53epjgf\n",
    "'https://api.mapbox.com/styles/v1/latimes/ck93697cw1al01ir1hdlfgpsr/static/-119.6506,35.8239,6.5,0/1280x812@2x?access_token=pk.eyJ1IjoibGF0aW1lcyIsImEiOiJjajhvcXRraGUwNnlwMzNyczR3cTBsaWh1In0.0cPKLwe2A0ET4P5CtWSiLQ'"
   ]
  },
  {
   "cell_type": "code",
   "execution_count": 182,
   "metadata": {},
   "outputs": [
    {
     "data": {
      "text/plain": [
       "'https://api.mapbox.com/styles/v1/    latimes/ck93697cw1al01ir1hdlfgpsr/static/-119.6506,35.8239,6.5,0/1280x812@2x?access_token=    pk.eyJ1IjoibGF0aW1lcyIsImEiOiJjajhvcXRraGUwNnlwMzNyczR3cTBsaWh1In0.0cPKLwe2A0ET4P5CtWSiLQ'"
      ]
     },
     "execution_count": 182,
     "metadata": {},
     "output_type": "execute_result"
    }
   ],
   "source": [
    "#after code: ck93697cw1al01ir1hdlfgpsr\n",
    "'https://api.mapbox.com/styles/v1/\\\n",
    "    latimes/ck93697cw1al01ir1hdlfgpsr/static/-119.6506,35.8239,6.5,0/1280x812@2x?access_token=\\\n",
    "    pk.eyJ1IjoibGF0aW1lcyIsImEiOiJjajhvcXRraGUwNnlwMzNyczR3cTBsaWh1In0.0cPKLwe2A0ET4P5CtWSiLQ'"
   ]
  },
  {
   "cell_type": "code",
   "execution_count": 183,
   "metadata": {},
   "outputs": [
    {
     "ename": "SyntaxError",
     "evalue": "invalid syntax (<ipython-input-183-d373665c6edd>, line 1)",
     "output_type": "error",
     "traceback": [
      "\u001b[0;36m  File \u001b[0;32m\"<ipython-input-183-d373665c6edd>\"\u001b[0;36m, line \u001b[0;32m1\u001b[0m\n\u001b[0;31m    https://api.mapbox.com/styles/v1/latimes/ck9aky6tk0nbc1iodbmrpsq2s/static/-117.600344,34.054807,10,0/1280x812@2x?access_token=pk.eyJ1IjoibGF0aW1lcyIsImEiOiJjajhvcXRraGUwNnlwMzNyczR3cTBsaWh1In0.0cPKLwe2A0ET4P5CtWSiLQ\u001b[0m\n\u001b[0m           ^\u001b[0m\n\u001b[0;31mSyntaxError\u001b[0m\u001b[0;31m:\u001b[0m invalid syntax\n"
     ]
    }
   ],
   "source": [
    "https://api.mapbox.com/styles/v1/latimes/ck9aky6tk0nbc1iodbmrpsq2s/static/-117.600344,34.054807,10,0/1280x812@2x?access_token=pk.eyJ1IjoibGF0aW1lcyIsImEiOiJjajhvcXRraGUwNnlwMzNyczR3cTBsaWh1In0.0cPKLwe2A0ET4P5CtWSiLQ"
   ]
  }
 ],
 "metadata": {
  "kernelspec": {
   "display_name": "Python 3",
   "language": "python",
   "name": "python3"
  }
 },
 "nbformat": 4,
 "nbformat_minor": 4
}
